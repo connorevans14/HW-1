{
  "cells": [
    {
      "cell_type": "code",
      "execution_count": 1,
      "metadata": {
        "tags": [
          "hide-input"
        ],
        "id": "pPYPByxQA3oH"
      },
      "outputs": [],
      "source": [
        "import matplotlib.pyplot as plt\n",
        "%matplotlib inline\n",
        "import matplotlib_inline\n",
        "matplotlib_inline.backend_inline.set_matplotlib_formats('png')\n",
        "import seaborn as sns\n",
        "sns.set_context(\"paper\")\n",
        "sns.set_style(\"ticks\");"
      ]
    },
    {
      "cell_type": "markdown",
      "metadata": {
        "id": "RzLgVv6gA3oI"
      },
      "source": [
        "# Homework 1\n",
        "\n",
        "## References\n",
        "\n",
        "+ Module 1: Introduction\n",
        "+ Module 2: Modern Machine Learning Software\n",
        "\n",
        "## Instructions\n",
        "\n",
        "+ Type your name and email in the \"Student details\" section below.\n",
        "+ Develop the code and generate the figures you need to solve the problems using this notebook.\n",
        "+ For the answers that require a mathematical proof or derivation you should type them using latex. If you have never written latex before and you find it exceedingly difficult, we will likely accept handwritten solutions.\n",
        "+ The total homework points are 100. Please note that the problems are not weighed equally.\n",
        "\n",
        "## Student details\n",
        "\n",
        "+ **First Name:** Connor\n",
        "+ **Last Name:** Evans\n",
        "+ **Email:** evans604@purdue.edu\n",
        "+ **Used generative AI to complete this assignment (Yes/No):**\n",
        "+ **Which generative AI tool did you use (if applicable)?:**"
      ]
    },
    {
      "cell_type": "markdown",
      "metadata": {
        "id": "eKmGAuY7A3oI"
      },
      "source": [
        "## Problem 1 - Recursion vs Iteration\n",
        "\n",
        "This problem adjusted from the [Structure and Interpretation of Computer Programs](https://mitpress.mit.edu/sites/default/files/sicp/full-text/book/book.html) book.\n",
        "In particular from [this section](https://mitp-content-server.mit.edu/books/content/sectbyfn/books_pres_0/6515/sicp.zip/full-text/book/book-Z-H-11.html#%_sec_1.2.1).\n",
        "\n",
        "Imagine you are working with a programming language that does not have loops.\n",
        "This is how you have to think when writing code in `Jax`.\n",
        "Let's say we want to write a function that calculates the factorial of a number:\n",
        "\n",
        "$$\n",
        "n! = n \\times (n-1) \\times (n-2) \\times \\dots \\times 1\n",
        "$$\n",
        "\n",
        "The standard recursive definition of the factorial function is:"
      ]
    },
    {
      "cell_type": "code",
      "execution_count": 2,
      "metadata": {
        "id": "ADjap3qjA3oI"
      },
      "outputs": [],
      "source": [
        "def factorial(n):\n",
        "    if n == 0:\n",
        "        return 1\n",
        "    else:\n",
        "        return n * factorial(n-1)"
      ]
    },
    {
      "cell_type": "markdown",
      "metadata": {
        "id": "-E5F-QeDA3oJ"
      },
      "source": [
        "Here is how it can be used:"
      ]
    },
    {
      "cell_type": "code",
      "execution_count": 3,
      "metadata": {
        "id": "iAd4g9-MA3oJ",
        "outputId": "ab1a94bc-04b1-4a3b-d230-7621eba272f0",
        "colab": {
          "base_uri": "https://localhost:8080/"
        }
      },
      "outputs": [
        {
          "output_type": "execute_result",
          "data": {
            "text/plain": [
              "120"
            ]
          },
          "metadata": {},
          "execution_count": 3
        }
      ],
      "source": [
        "factorial(5)"
      ]
    },
    {
      "cell_type": "markdown",
      "metadata": {
        "id": "bSKs4H_HA3oJ"
      },
      "source": [
        "Let's unroll what actually happens behind the scenes:\n",
        "\n",
        "```python\n",
        "factorial(5)\n",
        "5 * factorial(4)\n",
        "5 * (4 * factorial(3))\n",
        "5 * (4 * (3 * factorial(2)))\n",
        "5 * (4 * (3 * (2 * factorial(1))))\n",
        "5 * (4 * (3 * (2 * 1)))\n",
        "5 * (4 * (3 * 2))\n",
        "5 * (4 * 6)\n",
        "5 * 24\n",
        "120\n",
        "```\n",
        "\n",
        "You quickly notice, that the amount of intermediate results that are stored in memory grows exponentially with the input.\n",
        "This won't work for large inputs, because you will run out of memory.\n",
        "But, there is another way to achieve the same result without exploding memory usage.\n",
        "We could start by multiplying 1 by 2, then the result with 3, then the result with 4, and so on.\n",
        "So, we keep track of a running product that we update.\n",
        "We don't need a loop to do this kind of iteration.\n",
        "We can do it with recursion:"
      ]
    },
    {
      "cell_type": "code",
      "execution_count": 4,
      "metadata": {
        "id": "KiADeXcNA3oJ"
      },
      "outputs": [],
      "source": [
        "def fact_iter(product, counter, max_iter):\n",
        "    if counter > max_iter:\n",
        "        return product\n",
        "    else:\n",
        "        return fact_iter(counter * product, counter + 1, max_iter)\n",
        "\n",
        "def good_factorial(n):\n",
        "    return fact_iter(1, 1, n)"
      ]
    },
    {
      "cell_type": "markdown",
      "metadata": {
        "id": "Qoxi_rbJA3oJ"
      },
      "source": [
        "Check that this works as before:"
      ]
    },
    {
      "cell_type": "code",
      "execution_count": 5,
      "metadata": {
        "id": "At7huF8iA3oJ",
        "outputId": "b2c6c15c-1352-4609-c046-f81168665c91",
        "colab": {
          "base_uri": "https://localhost:8080/"
        }
      },
      "outputs": [
        {
          "output_type": "execute_result",
          "data": {
            "text/plain": [
              "120"
            ]
          },
          "metadata": {},
          "execution_count": 5
        }
      ],
      "source": [
        "good_factorial(5)"
      ]
    },
    {
      "cell_type": "markdown",
      "metadata": {
        "id": "ho6G_o6RA3oJ"
      },
      "source": [
        "Here is how this unrolls:\n",
        "\n",
        "```python\n",
        "factorial(5)\n",
        "fact_iter(1, 1, 5)\n",
        "fact_iter(1, 2, 5)\n",
        "fact_iter(2, 3, 5)\n",
        "fact_iter(6, 4, 5)\n",
        "fact_iter(24, 5, 5)\n",
        "fact_iter(120, 6, 5)\n",
        "120\n",
        "```\n",
        "\n",
        "We say that the second approach is *iterative* and the first approach is *recursive*.\n",
        "We want to be writing iterative code, because it is more efficient.\n",
        "\n",
        "Write iterative code that, given $n$, computes the fibonacci number:\n",
        "\n",
        "$$\n",
        "f_n = f_{n-1} + f_{n-2}\n",
        "$$\n",
        "\n",
        "where $f_0 = 0$ and $f_1 = 1$.\n",
        "You should not use a loop!\n",
        "\n",
        "**Answer:**"
      ]
    },
    {
      "cell_type": "code",
      "execution_count": 17,
      "metadata": {
        "id": "3aU5aG7YA3oK",
        "outputId": "517b58b8-8c82-4244-e2a7-30934930fb5d",
        "colab": {
          "base_uri": "https://localhost:8080/"
        }
      },
      "outputs": [
        {
          "output_type": "stream",
          "name": "stdout",
          "text": [
            "fib(5) = 5 = 5\n",
            "fib(8) = 21 = 21\n",
            "fib(14) = 377 = 377\n"
          ]
        },
        {
          "output_type": "execute_result",
          "data": {
            "text/plain": [
              "21"
            ]
          },
          "metadata": {},
          "execution_count": 17
        }
      ],
      "source": [
        "# Your code here - Demonstrate that it works\n",
        "def fib_iter(fibnum_1, fibnum_2, counter,max_iter):\n",
        "  if counter > max_iter:\n",
        "    return fibnum_1\n",
        "  else:\n",
        "    return fib_iter(fibnum_1 + fibnum_2, fibnum_1, counter+1,max_iter)\n",
        "def fib(n):\n",
        "  return fib_iter(1,0,2,n)\n",
        "\n",
        "# Check for correctness\n",
        "print(f'fib(5) = {fib(5)} = 5')\n",
        "print(f'fib(8) = {fib(8)} = 21')\n",
        "print(f'fib(14) = {fib(14)} = 377')\n",
        "\n",
        "# output for sample explanation below\n",
        "fib(8)"
      ]
    },
    {
      "cell_type": "markdown",
      "metadata": {
        "id": "J0ZUzuiGA3oK"
      },
      "source": [
        "*Here show how your code works for $n=5$ like I did above with the factorial example.*"
      ]
    },
    {
      "cell_type": "markdown",
      "source": [
        "```python\n",
        "fib(8)\n",
        "fib_iter(1,0,2,8)\n",
        "fib_iter(1,1,3,8)\n",
        "fib_iter(2,1,4,8)\n",
        "fib_iter(3,2,5,8)\n",
        "fib_iter(5,3,6,8)\n",
        "fib_iter(8,5,7,8)\n",
        "fib_iter(13,8,8,8)\n",
        "fib_iter(21,13,9,8)\n",
        "21\n",
        "```"
      ],
      "metadata": {
        "id": "X6yCkYipEkYM"
      }
    },
    {
      "cell_type": "markdown",
      "metadata": {
        "id": "zFV2JLO3A3oK"
      },
      "source": [
        "## Problem 2 - The `foldl` function\n",
        "\n",
        "The `foldl` function is a higher order function that is used to implement iteration.\n",
        "It is defined as follows:\n",
        "\n",
        "$$\n",
        "\\text{foldl}(f, z, [x_1, x_2, \\dots, x_n]) = f(f(\\dots f(f(z, x_1), x_2), \\dots), x_n)\n",
        "$$\n",
        "\n",
        "where $f$ is a function that takes two arguments and $z$ is the initial value.\n",
        "In words, `foldl` takes a function $f$, an initial value $z$, and a list $[x_1, x_2, \\dots, x_n]$.\n",
        "It then applies $f$ to $z$ and the first element of the list, then applies $f$ to the result of the previous application and the second element of the list, and so on.\n",
        "\n",
        "Implement `foldl` in `Python`. Pay attention to create an iterative implementation.\n",
        "\n",
        "**Answer:**"
      ]
    },
    {
      "cell_type": "code",
      "execution_count": 32,
      "metadata": {
        "id": "UrMeIJyLA3oK"
      },
      "outputs": [],
      "source": [
        "# Your code here - Demonstrate that it works\n",
        "def foldl(f, z, xs, counter, max_iter):\n",
        "    if counter > max_iter:\n",
        "      return f\n",
        "    elif counter == 1:\n",
        "      return foldl(f(z, xs[0]), z, xs[1:], counter+1, max_iter)\n",
        "    else:\n",
        "      return foldl(f(f, xs[0]), z, xs[1:], counter+1, max_iter)"
      ]
    },
    {
      "cell_type": "markdown",
      "metadata": {
        "id": "skagPPAgA3oK"
      },
      "source": [
        "Use your `foldl` function to implement the `sum` function and the `product` function.\n",
        "\n",
        "**Answer:**"
      ]
    },
    {
      "cell_type": "code",
      "execution_count": 34,
      "metadata": {
        "id": "eWaDRCyDA3oK",
        "outputId": "29d1c278-d2aa-4448-9392-10449dcf9c69",
        "colab": {
          "base_uri": "https://localhost:8080/",
          "height": 287
        }
      },
      "outputs": [
        {
          "output_type": "error",
          "ename": "TypeError",
          "evalue": "'int' object is not callable",
          "traceback": [
            "\u001b[0;31m---------------------------------------------------------------------------\u001b[0m",
            "\u001b[0;31mTypeError\u001b[0m                                 Traceback (most recent call last)",
            "\u001b[0;32m/tmp/ipython-input-125235783.py\u001b[0m in \u001b[0;36m<cell line: 0>\u001b[0;34m()\u001b[0m\n\u001b[1;32m      7\u001b[0m   \u001b[0;32mreturn\u001b[0m \u001b[0mfoldl\u001b[0m\u001b[0;34m(\u001b[0m\u001b[0;32mlambda\u001b[0m \u001b[0mx\u001b[0m\u001b[0;34m,\u001b[0m \u001b[0my\u001b[0m\u001b[0;34m:\u001b[0m \u001b[0mx\u001b[0m \u001b[0;34m*\u001b[0m \u001b[0my\u001b[0m\u001b[0;34m,\u001b[0m \u001b[0;36m1\u001b[0m\u001b[0;34m,\u001b[0m \u001b[0mxs\u001b[0m\u001b[0;34m,\u001b[0m \u001b[0;36m1\u001b[0m\u001b[0;34m,\u001b[0m \u001b[0mlen\u001b[0m\u001b[0;34m(\u001b[0m\u001b[0mxs\u001b[0m\u001b[0;34m)\u001b[0m\u001b[0;34m)\u001b[0m\u001b[0;34m\u001b[0m\u001b[0;34m\u001b[0m\u001b[0m\n\u001b[1;32m      8\u001b[0m \u001b[0;34m\u001b[0m\u001b[0m\n\u001b[0;32m----> 9\u001b[0;31m \u001b[0msum\u001b[0m\u001b[0;34m(\u001b[0m\u001b[0;34m[\u001b[0m\u001b[0;36m1\u001b[0m\u001b[0;34m,\u001b[0m\u001b[0;36m2\u001b[0m\u001b[0;34m,\u001b[0m\u001b[0;36m3\u001b[0m\u001b[0;34m,\u001b[0m\u001b[0;36m4\u001b[0m\u001b[0;34m]\u001b[0m\u001b[0;34m)\u001b[0m\u001b[0;34m\u001b[0m\u001b[0;34m\u001b[0m\u001b[0m\n\u001b[0m",
            "\u001b[0;32m/tmp/ipython-input-125235783.py\u001b[0m in \u001b[0;36msum\u001b[0;34m(xs)\u001b[0m\n\u001b[1;32m      2\u001b[0m \u001b[0;34m\u001b[0m\u001b[0m\n\u001b[1;32m      3\u001b[0m \u001b[0;32mdef\u001b[0m \u001b[0msum\u001b[0m\u001b[0;34m(\u001b[0m\u001b[0mxs\u001b[0m\u001b[0;34m)\u001b[0m\u001b[0;34m:\u001b[0m\u001b[0;34m\u001b[0m\u001b[0;34m\u001b[0m\u001b[0m\n\u001b[0;32m----> 4\u001b[0;31m   \u001b[0;32mreturn\u001b[0m \u001b[0mfoldl\u001b[0m\u001b[0;34m(\u001b[0m\u001b[0;32mlambda\u001b[0m \u001b[0mx\u001b[0m\u001b[0;34m,\u001b[0m \u001b[0my\u001b[0m\u001b[0;34m:\u001b[0m \u001b[0mx\u001b[0m \u001b[0;34m+\u001b[0m \u001b[0my\u001b[0m\u001b[0;34m,\u001b[0m \u001b[0;36m0\u001b[0m\u001b[0;34m,\u001b[0m \u001b[0mxs\u001b[0m\u001b[0;34m,\u001b[0m \u001b[0;36m1\u001b[0m\u001b[0;34m,\u001b[0m \u001b[0mlen\u001b[0m\u001b[0;34m(\u001b[0m\u001b[0mxs\u001b[0m\u001b[0;34m)\u001b[0m\u001b[0;34m)\u001b[0m\u001b[0;34m\u001b[0m\u001b[0;34m\u001b[0m\u001b[0m\n\u001b[0m\u001b[1;32m      5\u001b[0m \u001b[0;34m\u001b[0m\u001b[0m\n\u001b[1;32m      6\u001b[0m \u001b[0;32mdef\u001b[0m \u001b[0mproduct\u001b[0m\u001b[0;34m(\u001b[0m\u001b[0mxs\u001b[0m\u001b[0;34m)\u001b[0m\u001b[0;34m:\u001b[0m\u001b[0;34m\u001b[0m\u001b[0;34m\u001b[0m\u001b[0m\n",
            "\u001b[0;32m/tmp/ipython-input-3855864233.py\u001b[0m in \u001b[0;36mfoldl\u001b[0;34m(f, z, xs, counter, max_iter)\u001b[0m\n\u001b[1;32m      4\u001b[0m       \u001b[0;32mreturn\u001b[0m \u001b[0mf\u001b[0m\u001b[0;34m\u001b[0m\u001b[0;34m\u001b[0m\u001b[0m\n\u001b[1;32m      5\u001b[0m     \u001b[0;32melif\u001b[0m \u001b[0mcounter\u001b[0m \u001b[0;34m==\u001b[0m \u001b[0;36m1\u001b[0m\u001b[0;34m:\u001b[0m\u001b[0;34m\u001b[0m\u001b[0;34m\u001b[0m\u001b[0m\n\u001b[0;32m----> 6\u001b[0;31m       \u001b[0;32mreturn\u001b[0m \u001b[0mfoldl\u001b[0m\u001b[0;34m(\u001b[0m\u001b[0mf\u001b[0m\u001b[0;34m(\u001b[0m\u001b[0mz\u001b[0m\u001b[0;34m,\u001b[0m \u001b[0mxs\u001b[0m\u001b[0;34m[\u001b[0m\u001b[0;36m0\u001b[0m\u001b[0;34m]\u001b[0m\u001b[0;34m)\u001b[0m\u001b[0;34m,\u001b[0m \u001b[0mz\u001b[0m\u001b[0;34m,\u001b[0m \u001b[0mxs\u001b[0m\u001b[0;34m[\u001b[0m\u001b[0;36m1\u001b[0m\u001b[0;34m:\u001b[0m\u001b[0;34m]\u001b[0m\u001b[0;34m,\u001b[0m \u001b[0mcounter\u001b[0m\u001b[0;34m+\u001b[0m\u001b[0;36m1\u001b[0m\u001b[0;34m,\u001b[0m \u001b[0mmax_iter\u001b[0m\u001b[0;34m)\u001b[0m\u001b[0;34m\u001b[0m\u001b[0;34m\u001b[0m\u001b[0m\n\u001b[0m\u001b[1;32m      7\u001b[0m     \u001b[0;32melse\u001b[0m\u001b[0;34m:\u001b[0m\u001b[0;34m\u001b[0m\u001b[0;34m\u001b[0m\u001b[0m\n\u001b[1;32m      8\u001b[0m       \u001b[0;32mreturn\u001b[0m \u001b[0mfoldl\u001b[0m\u001b[0;34m(\u001b[0m\u001b[0mf\u001b[0m\u001b[0;34m(\u001b[0m\u001b[0mf\u001b[0m\u001b[0;34m(\u001b[0m\u001b[0mxs\u001b[0m\u001b[0;34m[\u001b[0m\u001b[0;36m1\u001b[0m\u001b[0;34m]\u001b[0m\u001b[0;34m,\u001b[0m\u001b[0mxs\u001b[0m\u001b[0;34m[\u001b[0m\u001b[0;36m2\u001b[0m\u001b[0;34m]\u001b[0m\u001b[0;34m)\u001b[0m\u001b[0;34m,\u001b[0m \u001b[0mxs\u001b[0m\u001b[0;34m[\u001b[0m\u001b[0;36m0\u001b[0m\u001b[0;34m]\u001b[0m\u001b[0;34m)\u001b[0m\u001b[0;34m,\u001b[0m \u001b[0mz\u001b[0m\u001b[0;34m,\u001b[0m \u001b[0mxs\u001b[0m\u001b[0;34m[\u001b[0m\u001b[0;36m1\u001b[0m\u001b[0;34m:\u001b[0m\u001b[0;34m]\u001b[0m\u001b[0;34m,\u001b[0m \u001b[0mcounter\u001b[0m\u001b[0;34m+\u001b[0m\u001b[0;36m1\u001b[0m\u001b[0;34m,\u001b[0m \u001b[0mmax_iter\u001b[0m\u001b[0;34m)\u001b[0m\u001b[0;34m\u001b[0m\u001b[0;34m\u001b[0m\u001b[0m\n",
            "\u001b[0;32m/tmp/ipython-input-3855864233.py\u001b[0m in \u001b[0;36mfoldl\u001b[0;34m(f, z, xs, counter, max_iter)\u001b[0m\n\u001b[1;32m      6\u001b[0m       \u001b[0;32mreturn\u001b[0m \u001b[0mfoldl\u001b[0m\u001b[0;34m(\u001b[0m\u001b[0mf\u001b[0m\u001b[0;34m(\u001b[0m\u001b[0mz\u001b[0m\u001b[0;34m,\u001b[0m \u001b[0mxs\u001b[0m\u001b[0;34m[\u001b[0m\u001b[0;36m0\u001b[0m\u001b[0;34m]\u001b[0m\u001b[0;34m)\u001b[0m\u001b[0;34m,\u001b[0m \u001b[0mz\u001b[0m\u001b[0;34m,\u001b[0m \u001b[0mxs\u001b[0m\u001b[0;34m[\u001b[0m\u001b[0;36m1\u001b[0m\u001b[0;34m:\u001b[0m\u001b[0;34m]\u001b[0m\u001b[0;34m,\u001b[0m \u001b[0mcounter\u001b[0m\u001b[0;34m+\u001b[0m\u001b[0;36m1\u001b[0m\u001b[0;34m,\u001b[0m \u001b[0mmax_iter\u001b[0m\u001b[0;34m)\u001b[0m\u001b[0;34m\u001b[0m\u001b[0;34m\u001b[0m\u001b[0m\n\u001b[1;32m      7\u001b[0m     \u001b[0;32melse\u001b[0m\u001b[0;34m:\u001b[0m\u001b[0;34m\u001b[0m\u001b[0;34m\u001b[0m\u001b[0m\n\u001b[0;32m----> 8\u001b[0;31m       \u001b[0;32mreturn\u001b[0m \u001b[0mfoldl\u001b[0m\u001b[0;34m(\u001b[0m\u001b[0mf\u001b[0m\u001b[0;34m(\u001b[0m\u001b[0mf\u001b[0m\u001b[0;34m(\u001b[0m\u001b[0mxs\u001b[0m\u001b[0;34m[\u001b[0m\u001b[0;36m1\u001b[0m\u001b[0;34m]\u001b[0m\u001b[0;34m,\u001b[0m\u001b[0mxs\u001b[0m\u001b[0;34m[\u001b[0m\u001b[0;36m2\u001b[0m\u001b[0;34m]\u001b[0m\u001b[0;34m)\u001b[0m\u001b[0;34m,\u001b[0m \u001b[0mxs\u001b[0m\u001b[0;34m[\u001b[0m\u001b[0;36m0\u001b[0m\u001b[0;34m]\u001b[0m\u001b[0;34m)\u001b[0m\u001b[0;34m,\u001b[0m \u001b[0mz\u001b[0m\u001b[0;34m,\u001b[0m \u001b[0mxs\u001b[0m\u001b[0;34m[\u001b[0m\u001b[0;36m1\u001b[0m\u001b[0;34m:\u001b[0m\u001b[0;34m]\u001b[0m\u001b[0;34m,\u001b[0m \u001b[0mcounter\u001b[0m\u001b[0;34m+\u001b[0m\u001b[0;36m1\u001b[0m\u001b[0;34m,\u001b[0m \u001b[0mmax_iter\u001b[0m\u001b[0;34m)\u001b[0m\u001b[0;34m\u001b[0m\u001b[0;34m\u001b[0m\u001b[0m\n\u001b[0m",
            "\u001b[0;31mTypeError\u001b[0m: 'int' object is not callable"
          ]
        }
      ],
      "source": [
        "# Your code here - Demonstrate that it works\n",
        "\n",
        "def sum(xs):\n",
        "  return foldl(lambda x, y: x + y, 0, xs, 1, len(xs))\n",
        "\n",
        "def product(xs):\n",
        "  return foldl(lambda x, y: x * y, 1, xs, 1, len(xs))\n",
        "\n",
        "sum([1,2,3,4])"
      ]
    },
    {
      "cell_type": "markdown",
      "metadata": {
        "id": "PdvVLfoKA3oK"
      },
      "source": [
        "## Problem 3 - No Loops in Jax\n",
        "\n",
        "Use `Jax`'s [`jax.lax.scan`](https://jax.readthedocs.io/en/latest/_autosummary/jax.lax.scan.html) to implement and `jit` a function that returns the Fibonacci sequence up to a given number.\n",
        "Don't bother using integer types, just use `float32` for everything.\n",
        "\n",
        "**Answer:**"
      ]
    },
    {
      "cell_type": "code",
      "execution_count": null,
      "metadata": {
        "id": "ofr_NLzCA3oK"
      },
      "outputs": [],
      "source": [
        "# Your code here"
      ]
    },
    {
      "cell_type": "markdown",
      "metadata": {
        "id": "v182UhdAA3oK"
      },
      "source": [
        "## Problem 4 - Feigenbaum Map\n",
        "\n",
        "Consider the function:\n",
        "\n",
        "$$\n",
        "f(x; r) = r x (1 - x)\n",
        "$$\n",
        "\n",
        "where $r$ is a parameter.\n",
        "One can define dynamics on the real line by iterating this function:\n",
        "\n",
        "$$\n",
        "x_{n+1} = f(x_n; r)\n",
        "$$\n",
        "\n",
        "where $x_n$ is the state at time $n$.\n",
        "\n",
        "This map exhibits a [period doubling cascade](https://en.wikipedia.org/wiki/Feigenbaum_constants) as $r$ increases.\n",
        "\n",
        "Write a function in `jax`, call it `logistic_map`, that takes a lot of $r$'s and $x_0$'s as inputs and returns the first $n$ states of the system.\n",
        "You should independently vectorize for the $r$'s and the $x_0$'s.\n",
        "And you should `jit`.\n",
        "Use `jax.lax.scan` to implement the iteration.\n",
        "\n",
        "**Answer:**"
      ]
    },
    {
      "cell_type": "code",
      "execution_count": null,
      "metadata": {
        "id": "q0Cn2HdnA3oK"
      },
      "outputs": [],
      "source": [
        "# Your code here - Demonstrate that it works"
      ]
    },
    {
      "cell_type": "markdown",
      "metadata": {
        "id": "VBosIqcOA3oK"
      },
      "source": [
        "Test your code here:"
      ]
    },
    {
      "cell_type": "code",
      "execution_count": null,
      "metadata": {
        "id": "2ipbM1ObA3oK"
      },
      "outputs": [],
      "source": [
        "x0s = jnp.linspace(0, 1, 100)\n",
        "rs = jnp.linspace(0, 4, 1_000)\n",
        "n = 10_000\n",
        "data = logistic_map(rs, x0s, n)"
      ]
    },
    {
      "cell_type": "markdown",
      "metadata": {
        "id": "zrhlg5F2A3oK"
      },
      "source": [
        "Your shape should  be `(1000, 100, 10000)`:"
      ]
    },
    {
      "cell_type": "code",
      "execution_count": null,
      "metadata": {
        "id": "hwVMShUqA3oK"
      },
      "outputs": [],
      "source": [
        "data.shape"
      ]
    },
    {
      "cell_type": "markdown",
      "metadata": {
        "id": "nRAUwR8_A3oK"
      },
      "source": [
        "Discard all but the last iteration:"
      ]
    },
    {
      "cell_type": "code",
      "execution_count": null,
      "metadata": {
        "id": "jmx_PcSvA3oK"
      },
      "outputs": [],
      "source": [
        "data = data[:, :, -1:]"
      ]
    },
    {
      "cell_type": "markdown",
      "metadata": {
        "id": "NZDOa4woA3oK"
      },
      "source": [
        "Make the famous period doubling plot. The plot will take a while and it will take a lot of memory. I suggest you restart your kernel before moving to the next problem."
      ]
    },
    {
      "cell_type": "code",
      "execution_count": null,
      "metadata": {
        "id": "IfsQTu8YA3oK"
      },
      "outputs": [],
      "source": [
        "fig, ax = plt.subplots()\n",
        "ax.plot(rs,\n",
        "        data.reshape(data.shape[0], data.shape[1] * data.shape[2]),\n",
        "        '.k',\n",
        "        ms=0.1,\n",
        "        alpha=0.5\n",
        ");"
      ]
    },
    {
      "cell_type": "markdown",
      "metadata": {
        "id": "eYXKVorsA3oK"
      },
      "source": [
        "## Problem 5 - Implement autoencoders in `jax`, `equinox`, and `optax`\n",
        "\n",
        "Implement [autoencoders](https://en.wikipedia.org/wiki/Autoencoder) in `jax` and train it on the MNIST dataset.\n",
        "Autoencoders, consist of two neural networks, an encoder and a decoder. The encoder maps the input to a latent space (typically of a much smaller dimension than the input), and the decoder maps the latent space back to the input space.\n",
        "You can think of the encoder as a compression algorithm and the decoder as a decompression algorithm.\n",
        "Alternatively, you can think of the encoder as the projection of the input data onto a lower-dimensional manifold, and the decoder as the reconstruction operator.\n",
        "\n",
        "### Part A\n",
        "Follow these directions:\n",
        "+ Pick the dimension of the latent space to be 2. This means that the encoder will map the input to a 2-dimensional space, and the decoder will map the 2-dimensional space back to the input space.\n",
        "+ Your encoder should work on a flattened version of the input image. This means that the input to the encoder is a vector of 784 elements (28x28).\n",
        "+ Start by picking your encoder $z = f(x;\\theta_f)$ to be a neural network with 2 hidden layers, each with 128 units and ReLU activations. Increase the number of units and layers if you think it is necessary.\n",
        "+ Start by picking your decoder $x' = g(z;\\theta_g)$ to be a neural network with 2 hidden layers, each with 128 units and ReLU activations. Increase the number of units and layers if you think it is necessary.\n",
        "+ Make all your neural networks in `equinox`.\n",
        "+ The loss function is the mean squared error between the input and the output of the decoder:\n",
        "\n",
        "$$\n",
        "\\mathcal{L} = \\frac{1}{N}\\sum_{i=1}^N ||x_i - g(f(x_i;\\theta_f);\\theta_g)||^2.\n",
        "$$\n",
        "\n",
        "where $N$ is the number of samples in the dataset.\n",
        "+ Split the MNIST dataset into a training and a test set.\n",
        "+ Use `optax` for the optimization.\n",
        "+ Train the autoencoder using the Adam optimizer with a learning rate of 0.001 for 1 epoch to debug. Use a batch size of 32. Feel free to play with the learning rate and batch size.\n",
        "+ Monitor the loss function on the training and test set. Increase the number of epochs up to the point where the loss function on the test set stops decreasing.\n",
        "\n",
        "Here is the dataset:"
      ]
    },
    {
      "cell_type": "code",
      "execution_count": null,
      "metadata": {
        "id": "Gibrx89yA3oL"
      },
      "outputs": [],
      "source": [
        "# Download the MNIST dataset\n",
        "data_source = \"sklearn\"  # sklearn or pytorch\n",
        "\n",
        "from sklearn.model_selection import train_test_split\n",
        "\n",
        "if data_source == \"sklearn\":\n",
        "    # Option 1: Download using scikit-learn\n",
        "    from sklearn.datasets import fetch_openml\n",
        "    mnist = fetch_openml('mnist_784', version=1, parser='auto')\n",
        "    data = mnist.data.values/255.0\n",
        "    target = mnist.target.values.astype(int)\n",
        "    X_train_val, X_test, y_train_val, y_test = train_test_split(data, target, test_size=10000, random_state=42)\n",
        "\n",
        "elif data_source == \"pytorch\":\n",
        "    # Option 2: Download using PyTorch\n",
        "    import torchvision\n",
        "    dataset_train_val = torchvision.datasets.MNIST(\"MNIST\", train=True, download=True)\n",
        "    dataset_test = torchvision.datasets.MNIST(\"MNIST\", train=False, download=True)\n",
        "    X_train_val, y_train_val = dataset_train_val.data.numpy().reshape(-1, 28*28)/255.0, dataset_train_val.targets.numpy()\n",
        "    X_test, y_test = dataset_test.data.numpy().reshape(-1, 28*28)/255.0, dataset_test.targets.numpy()\n",
        "\n",
        "else:\n",
        "    raise ValueError(\"Unknown data source\")\n",
        "\n",
        "# Split train and validation\n",
        "X_train, X_val, y_train, y_val = train_test_split(X_train_val, y_train_val, test_size=10000, random_state=42)"
      ]
    },
    {
      "cell_type": "markdown",
      "metadata": {
        "id": "RVJ-1L26A3oL"
      },
      "source": [
        "**Answer:**\n",
        "\n",
        "*Put your answer here. Use as many markdown and code blocks as you want.*"
      ]
    },
    {
      "cell_type": "code",
      "execution_count": null,
      "metadata": {
        "id": "Kr_IGPbqA3oL"
      },
      "outputs": [],
      "source": [
        "# your code"
      ]
    },
    {
      "cell_type": "markdown",
      "metadata": {
        "id": "dEXUSAiIA3oL"
      },
      "source": [
        "### Part B\n",
        "\n",
        "Pick the first five digits in the test set and plot the original and reconstructed images.\n",
        "\n",
        "**Answer:**"
      ]
    },
    {
      "cell_type": "code",
      "execution_count": null,
      "metadata": {
        "id": "jyXR2Hq-A3oL"
      },
      "outputs": [],
      "source": [
        "# your code here"
      ]
    },
    {
      "cell_type": "markdown",
      "metadata": {
        "id": "rncnn47jA3oL"
      },
      "source": [
        "### Part C\n",
        "\n",
        "Plot the projections of the digits in the latent space (training and test).\n",
        "\n",
        "**Answer:**"
      ]
    },
    {
      "cell_type": "code",
      "execution_count": null,
      "metadata": {
        "id": "g83N4l-UA3oL"
      },
      "outputs": [],
      "source": [
        "# your code here"
      ]
    },
    {
      "cell_type": "markdown",
      "metadata": {
        "id": "2JkIpeEdA3oL"
      },
      "source": [
        "### Part D\n",
        "\n",
        "Use `scikitlearn` to fit a mixture of Gaussians to the latent space. Use 10 components.\n",
        "Then sample five times from the fitted mixture of Gaussians, reconstruct the samples, and plot the reconstructed images.\n",
        "\n",
        "**Answer:**"
      ]
    },
    {
      "cell_type": "code",
      "execution_count": null,
      "metadata": {
        "id": "Adz6YK_UA3oL"
      },
      "outputs": [],
      "source": [
        "# your code here"
      ]
    }
  ],
  "metadata": {
    "kernelspec": {
      "display_name": "Python 3",
      "language": "python",
      "name": "python3"
    },
    "language_info": {
      "codemirror_mode": {
        "name": "ipython",
        "version": 3
      },
      "file_extension": ".py",
      "mimetype": "text/x-python",
      "name": "python",
      "nbconvert_exporter": "python",
      "pygments_lexer": "ipython3",
      "version": "3.11.6"
    },
    "colab": {
      "provenance": []
    }
  },
  "nbformat": 4,
  "nbformat_minor": 0
}
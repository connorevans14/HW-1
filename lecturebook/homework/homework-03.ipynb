{
  "cells": [
    {
      "cell_type": "markdown",
      "metadata": {
        "id": "m3xawzxTUO-1"
      },
      "source": [
        "# Homework 3\n",
        "\n",
        "\n",
        "## References\n",
        "\n",
        "+ Lectures 8-12 (inclusive).\n",
        "\n",
        "## Instructions\n",
        "\n",
        "+ Type your name and email in the \"Student details\" section below.\n",
        "+ Develop the code and generate the figures you need to solve the problems using this notebook.\n",
        "+ For the answers that require a mathematical proof or derivation you should type them using latex. If you have never written latex before and you find it exceedingly difficult, we will likely accept handwritten solutions.\n",
        "+ The total homework points are 100. Please note that the problems are not weighed equally."
      ]
    },
    {
      "cell_type": "code",
      "execution_count": 1,
      "metadata": {
        "tags": [
          "hide-input"
        ],
        "id": "B2VfqwZ-UO-4"
      },
      "outputs": [],
      "source": [
        "MAKE_BOOK_FIGURES=True\n",
        "import numpy as np\n",
        "import scipy.stats as st\n",
        "\n",
        "import matplotlib as mpl\n",
        "import matplotlib.pyplot as plt\n",
        "%matplotlib inline\n",
        "import matplotlib_inline\n",
        "matplotlib_inline.backend_inline.set_matplotlib_formats('svg')\n",
        "import seaborn as sns\n",
        "sns.set_context(\"paper\")\n",
        "sns.set_style(\"ticks\")\n",
        "\n",
        "def set_book_style():\n",
        "    plt.style.use('seaborn-v0_8-white')\n",
        "    sns.set_style(\"ticks\")\n",
        "    sns.set_palette(\"deep\")\n",
        "\n",
        "    mpl.rcParams.update({\n",
        "        # Font settings\n",
        "        'font.family': 'serif',  # For academic publishing\n",
        "        'font.size': 8,  # As requested, 10pt font\n",
        "        'axes.labelsize': 8,\n",
        "        'axes.titlesize': 8,\n",
        "        'xtick.labelsize': 7,  # Slightly smaller for better readability\n",
        "        'ytick.labelsize': 7,\n",
        "        'legend.fontsize': 7,\n",
        "\n",
        "        # Line and marker settings for consistency\n",
        "        'axes.linewidth': 0.5,\n",
        "        'grid.linewidth': 0.5,\n",
        "        'lines.linewidth': 1.0,\n",
        "        'lines.markersize': 4,\n",
        "\n",
        "        # Layout to prevent clipped labels\n",
        "        'figure.constrained_layout.use': True,\n",
        "\n",
        "        # Default DPI (will override when saving)\n",
        "        'figure.dpi': 600,\n",
        "        'savefig.dpi': 600,\n",
        "\n",
        "        # Despine - remove top and right spines\n",
        "        'axes.spines.top': False,\n",
        "        'axes.spines.right': False,\n",
        "\n",
        "        # Remove legend frame\n",
        "        'legend.frameon': False,\n",
        "\n",
        "        # Additional trim settings\n",
        "        'figure.autolayout': True,  # Alternative to constrained_layout\n",
        "        'savefig.bbox': 'tight',    # Trim when saving\n",
        "        'savefig.pad_inches': 0.1   # Small padding to ensure nothing gets cut off\n",
        "    })\n",
        "\n",
        "def set_notebook_style():\n",
        "    plt.style.use('seaborn-v0_8-white')\n",
        "    sns.set_style(\"ticks\")\n",
        "    sns.set_palette(\"deep\")\n",
        "\n",
        "    mpl.rcParams.update({\n",
        "        # Font settings - using default sizes\n",
        "        'font.family': 'serif',\n",
        "        'axes.labelsize': 10,\n",
        "        'axes.titlesize': 10,\n",
        "        'xtick.labelsize': 9,\n",
        "        'ytick.labelsize': 9,\n",
        "        'legend.fontsize': 9,\n",
        "\n",
        "        # Line and marker settings\n",
        "        'axes.linewidth': 0.5,\n",
        "        'grid.linewidth': 0.5,\n",
        "        'lines.linewidth': 1.0,\n",
        "        'lines.markersize': 4,\n",
        "\n",
        "        # Layout settings\n",
        "        'figure.constrained_layout.use': True,\n",
        "\n",
        "        # Remove only top and right spines\n",
        "        'axes.spines.top': False,\n",
        "        'axes.spines.right': False,\n",
        "\n",
        "        # Remove legend frame\n",
        "        'legend.frameon': False,\n",
        "\n",
        "        # Additional settings\n",
        "        'figure.autolayout': True,\n",
        "        'savefig.bbox': 'tight',\n",
        "        'savefig.pad_inches': 0.1\n",
        "    })\n",
        "\n",
        "def save_for_book(fig, filename, is_vector=True, **kwargs):\n",
        "    \"\"\"\n",
        "    Save a figure with book-optimized settings.\n",
        "\n",
        "    Parameters:\n",
        "    -----------\n",
        "    fig : matplotlib figure\n",
        "        The figure to save\n",
        "    filename : str\n",
        "        Filename without extension\n",
        "    is_vector : bool\n",
        "        If True, saves as vector at 1000 dpi. If False, saves as raster at 600 dpi.\n",
        "    **kwargs : dict\n",
        "        Additional kwargs to pass to savefig\n",
        "    \"\"\"\n",
        "    # Set appropriate DPI and format based on figure type\n",
        "    if is_vector:\n",
        "        dpi = 1000\n",
        "        ext = '.pdf'\n",
        "    else:\n",
        "        dpi = 600\n",
        "        ext = '.tif'\n",
        "\n",
        "    # Save the figure with book settings\n",
        "    fig.savefig(f\"{filename}{ext}\", dpi=dpi, **kwargs)\n",
        "\n",
        "def make_full_width_fig():\n",
        "    return plt.subplots(figsize=(4.7, 2.9), constrained_layout=True)\n",
        "\n",
        "def make_half_width_fig():\n",
        "    return plt.subplots(figsize=(2.35, 1.45), constrained_layout=True)\n",
        "\n",
        "if MAKE_BOOK_FIGURES:\n",
        "    set_book_style()\n",
        "else:\n",
        "    set_notebook_style()\n",
        "\n",
        "make_full_width_fig = make_full_width_fig if MAKE_BOOK_FIGURES else lambda: plt.subplots()\n",
        "make_half_width_fig = make_half_width_fig if MAKE_BOOK_FIGURES else lambda: plt.subplots()"
      ]
    },
    {
      "cell_type": "markdown",
      "metadata": {
        "id": "tUwNMXKiUO-6"
      },
      "source": [
        "## Student details\n",
        "\n",
        "+ **First Name:** Connor\n",
        "+ **Last Name:** Evans\n",
        "+ **Email:** evans604@purdue.edu"
      ]
    },
    {
      "cell_type": "markdown",
      "metadata": {
        "id": "dR9LJfYsUO-6"
      },
      "source": [
        "## Problem 1 - Propagating uncertainty through a differential equation\n",
        "\n",
        "This is a classic uncertainty propagation problem you must solve using Monte Carlo sampling.\n",
        "Consider the following stochastic harmonic oscillator:\n",
        "\n",
        "$$\n",
        "\\begin{array}{ccc}\n",
        "\\ddot{y} + 2 \\zeta \\omega(X) \\dot{y} + \\omega^2(X)y &=& 0,\\\\\n",
        "y(0) &=& y_0(X),\\\\\n",
        "\\dot{y}(0) &=& v_0(X),\n",
        "\\end{array}\n",
        "$$\n",
        "\n",
        "where:\n",
        "+ $X = (X_1, X_2, X_3)$,\n",
        "+ $X_i \\sim N(0, 1)$,\n",
        "+ $\\omega(X) = 2\\pi + X_1$,\n",
        "+ $\\zeta = 0.01$,\n",
        "+ $y_0(X) = 1+ 0.1 X_2$, and\n",
        "+ $v_0 = 0.1 X_3$.\n",
        "\n",
        "In other words, this stochastic harmonic oscillator has an uncertain natural frequency and uncertain initial conditions.\n",
        "\n",
        "Our goal is to propagate uncertainty through this dynamical system, i.e., estimate the mean and variance of its solution.\n",
        "A solver for this dynamical system is given below:"
      ]
    },
    {
      "cell_type": "code",
      "execution_count": 2,
      "metadata": {
        "tags": [
          "hide-input"
        ],
        "id": "3GH53QnBUO-6"
      },
      "outputs": [],
      "source": [
        "import scipy.integrate\n",
        "\n",
        "class Solver(object):\n",
        "    def __init__(\n",
        "        self,\n",
        "        nt=100,\n",
        "        T= 5\n",
        "    ):\n",
        "        \"\"\"This is the initializer of the class.\n",
        "\n",
        "        Arguments:\n",
        "            nt -- The number of timesteps.\n",
        "            T  -- The final time.\n",
        "        \"\"\"\n",
        "        self.nt = nt\n",
        "        self.T = T\n",
        "        # The timesteps on which we will get the solution\n",
        "        self.t = np.linspace(0, T, nt)\n",
        "        # The number of inputs the class accepts\n",
        "        self.num_input = 3\n",
        "        # The number of outputs the class returns\n",
        "        self.num_output = nt\n",
        "\n",
        "    def __call__(self, x):\n",
        "        \"\"\"This special class method emulates a function call.\n",
        "\n",
        "        Arguments:\n",
        "            x -- A 1D numpy array with 3 elements.\n",
        "                 This represents the stochastic input x = (x1, x2, x3).\n",
        "\n",
        "        Returns the solution to the differential equation evaluated\n",
        "        at discrete timesteps.\n",
        "        \"\"\"\n",
        "        # uncertain quantities\n",
        "        x1 = x[0]\n",
        "        x2 = x[1]\n",
        "        x3 = x[2]\n",
        "\n",
        "        # ODE parameters\n",
        "        omega = 2*np.pi + x1\n",
        "        y10 = 1 + 0.1*x2\n",
        "        y20 = 0.1*x3\n",
        "        # initial conditions\n",
        "        y0 = np.array([y10, y20])\n",
        "\n",
        "        # coefficient matrix\n",
        "        zeta = 0.01\n",
        "        # spring constant\n",
        "        k = omega**2\n",
        "        # damping coeff\n",
        "        c = 2*zeta*omega\n",
        "        C = np.array([[0, 1],[-k, -c]])\n",
        "\n",
        "        #RHS of the ODE system\n",
        "        def rhs(y, t):\n",
        "            return np.dot(C, y)\n",
        "\n",
        "        y = scipy.integrate.odeint(rhs, y0, self.t)\n",
        "\n",
        "        return y"
      ]
    },
    {
      "cell_type": "markdown",
      "metadata": {
        "id": "IHmwqAsEUO-7"
      },
      "source": [
        "First, let's demonstrate how the solver works:"
      ]
    },
    {
      "cell_type": "code",
      "execution_count": 3,
      "metadata": {
        "tags": [
          "hide-output"
        ],
        "id": "3I2d8qMHUO-7",
        "outputId": "1d4f3c0e-c529-4c5d-aa5c-a5a9093aa864",
        "colab": {
          "base_uri": "https://localhost:8080/"
        }
      },
      "outputs": [
        {
          "output_type": "stream",
          "name": "stdout",
          "text": [
            "[[ 1.15608462  0.01236288]\n",
            " [ 1.10729823 -1.92849321]\n",
            " [ 0.96425962 -3.69333379]\n",
            " [ 0.73973298 -5.13251265]\n",
            " [ 0.453365   -6.12506417]\n",
            " [ 0.12996709 -6.58886267]\n",
            " [-0.20263313 -6.48740699]\n",
            " [-0.5159853  -5.83266937]\n",
            " [-0.78344904 -4.68378963]\n",
            " [-0.98245782 -3.14174968]\n",
            " [-1.09642172 -1.34050689]\n",
            " [-1.1161089   0.56463587]\n",
            " [-1.04039063  2.41041455]\n",
            " [-0.87629024  4.03958954]\n",
            " [-0.63833574  5.31433505]\n",
            " [-0.34727551  6.12789265]\n",
            " [-0.02827045  6.41350401]\n",
            " [ 0.29128007  6.14987632]\n",
            " [ 0.58409055  5.36273382]\n",
            " [ 0.82531827  4.12234635]\n",
            " [ 0.99466999  2.53726895]\n",
            " [ 1.07810789  0.74484958]\n",
            " [ 1.06901141 -1.10066594]\n",
            " [ 0.9686991  -2.84140187]\n",
            " [ 0.78626951 -4.32935282]\n",
            " [ 0.53777886 -5.43896219]\n",
            " [ 0.24482946 -6.07771042]\n",
            " [-0.06730717 -6.19382059]\n",
            " [-0.37186933 -5.7804403 ]\n",
            " [-0.64289877 -4.8759636 ]\n",
            " [-0.85745212 -3.56048811]\n",
            " [-0.9975422  -1.94873226]\n",
            " [-1.05164458 -0.18003822]\n",
            " [-1.01564375  1.59366891]\n",
            " [-0.89314102  3.2209258 ]\n",
            " [-0.6951019   4.5636596 ]\n",
            " [-0.43887677  5.50889782]\n",
            " [-0.14668216  5.97826661]\n",
            " [ 0.15632456  5.93447953]\n",
            " [ 0.44421024  5.38428021]\n",
            " [ 0.69248457  4.37760878]\n",
            " [ 0.88018261  3.00308519]\n",
            " [ 0.99163398  1.38021656]\n",
            " [ 1.01776982 -0.35098698]\n",
            " [ 0.95685835 -2.04208578]\n",
            " [ 0.81460981 -3.54893351]\n",
            " [ 0.60364528 -4.74395911]\n",
            " [ 0.34237873 -5.52696074]\n",
            " [ 0.05341094 -5.83350088]\n",
            " [-0.23842464 -5.64019836]\n",
            " [-0.50819514 -4.96648402]\n",
            " [-0.73299754 -3.8726911 ]\n",
            " [-0.89390221 -2.45466459]\n",
            " [-0.97754579 -0.8353703 ]\n",
            " [-0.97723948  0.8457624 ]\n",
            " [-0.89350108  2.44484111]\n",
            " [-0.73396854  3.82582161]\n",
            " [-0.51270615  4.87207705]\n",
            " [-0.24896618  5.49624139]\n",
            " [ 0.03448525  5.6474972 ]\n",
            " [ 0.31333244  5.31570023]\n",
            " [ 0.5637952   4.53200727]\n",
            " [ 0.76465596  3.36597422]\n",
            " [ 0.8990563   1.9193927 ]\n",
            " [ 0.95591072  0.31741063]\n",
            " [ 0.9308193  -1.30228934]\n",
            " [ 0.82640415 -2.80131812]\n",
            " [ 0.65204451 -4.05239962]\n",
            " [ 0.42303628 -4.95017237]\n",
            " [ 0.15925158 -5.42005599]\n",
            " [-0.11658475 -5.42443908]\n",
            " [-0.38085203 -4.96567356]\n",
            " [-0.61105563 -4.08563984]\n",
            " [-0.78774092 -2.86193974]\n",
            " [-0.89613645 -1.40106185]\n",
            " [-0.92738763  0.1708793 ]\n",
            " [-0.87927811  1.71902549]\n",
            " [-0.75638011  3.1113398 ]\n",
            " [-0.56962429  4.22986306]\n",
            " [-0.3353293   4.98070238]\n",
            " [-0.07377696  5.30190655]\n",
            " [ 0.19254249  5.16856818]\n",
            " [ 0.44086356  4.5947333 ]\n",
            " [ 0.65009073  3.63197397]\n",
            " [ 0.80258974  2.36476544]\n",
            " [ 0.88567287  0.90308128]\n",
            " [ 0.89265325 -0.62714529]\n",
            " [ 0.8233806  -2.09486651]\n",
            " [ 0.68421579 -3.37513856]\n",
            " [ 0.48744959 -4.35975351]\n",
            " [ 0.25021868 -4.96637906]\n",
            " [-0.00698588 -5.14543688]\n",
            " [-0.26208774 -4.88414354]\n",
            " [-0.49331935 -4.20738634]\n",
            " [-0.68107861 -3.17537794]\n",
            " [-0.80958976 -1.87830865]\n",
            " [-0.86822788 -0.42847084]\n",
            " [-0.8523958   1.04945784]\n",
            " [-0.76388134  2.42913161]\n",
            " [-0.61066727  3.59333331]]\n"
          ]
        }
      ],
      "source": [
        "solver = Solver()\n",
        "\n",
        "x = np.random.randn(solver.num_input)\n",
        "\n",
        "y = solver(x)\n",
        "\n",
        "print(y)"
      ]
    },
    {
      "cell_type": "markdown",
      "metadata": {
        "id": "IMXYRL2vUO-8"
      },
      "source": [
        "Notice the dimension of `y`:"
      ]
    },
    {
      "cell_type": "code",
      "execution_count": 4,
      "metadata": {
        "id": "tC3akOKmUO-8",
        "outputId": "13d02ee7-4839-4824-9f15-41ba68a6a07b",
        "colab": {
          "base_uri": "https://localhost:8080/"
        }
      },
      "outputs": [
        {
          "output_type": "execute_result",
          "data": {
            "text/plain": [
              "(100, 2)"
            ]
          },
          "metadata": {},
          "execution_count": 4
        }
      ],
      "source": [
        "y.shape"
      ]
    },
    {
      "cell_type": "markdown",
      "metadata": {
        "id": "X-RtN3zLUO-8"
      },
      "source": [
        "The 100 rows corresponds to timesteps.\n",
        "The 2 columns correspond to position and velocity.\n",
        "\n",
        "Let's plot a few samples:"
      ]
    },
    {
      "cell_type": "code",
      "execution_count": 5,
      "metadata": {
        "id": "lIF6JgG3UO-9",
        "outputId": "95b725ea-9120-48f3-de1d-addaef0d9f08",
        "colab": {
          "base_uri": "https://localhost:8080/",
          "height": 940
        }
      },
      "outputs": [
        {
          "output_type": "display_data",
          "data": {
            "text/plain": [
              "<Figure size 3840x2880 with 1 Axes>"
            ],
            "image/svg+xml": "<?xml version=\"1.0\" encoding=\"utf-8\" standalone=\"no\"?>\n<!DOCTYPE svg PUBLIC \"-//W3C//DTD SVG 1.1//EN\"\n  \"http://www.w3.org/Graphics/SVG/1.1/DTD/svg11.dtd\">\n<svg xmlns:xlink=\"http://www.w3.org/1999/xlink\" width=\"457.92pt\" height=\"342.72pt\" viewBox=\"0 0 457.92 342.72\" xmlns=\"http://www.w3.org/2000/svg\" version=\"1.1\">\n <metadata>\n  <rdf:RDF xmlns:dc=\"http://purl.org/dc/elements/1.1/\" xmlns:cc=\"http://creativecommons.org/ns#\" xmlns:rdf=\"http://www.w3.org/1999/02/22-rdf-syntax-ns#\">\n   <cc:Work>\n    <dc:type rdf:resource=\"http://purl.org/dc/dcmitype/StillImage\"/>\n    <dc:date>2025-07-08T23:16:47.264180</dc:date>\n    <dc:format>image/svg+xml</dc:format>\n    <dc:creator>\n     <cc:Agent>\n      <dc:title>Matplotlib v3.10.0, https://matplotlib.org/</dc:title>\n     </cc:Agent>\n    </dc:creator>\n   </cc:Work>\n  </rdf:RDF>\n </metadata>\n <defs>\n  <style type=\"text/css\">*{stroke-linejoin: round; stroke-linecap: butt}</style>\n </defs>\n <g id=\"figure_1\">\n  <g id=\"patch_1\">\n   <path d=\"M 0 342.72 \nL 457.92 342.72 \nL 457.92 0 \nL 0 0 \nz\n\" style=\"fill: #ffffff\"/>\n  </g>\n  <g id=\"axes_1\">\n   <g id=\"patch_2\">\n    <path d=\"M 43.911719 313.502812 \nL 450.72 313.502812 \nL 450.72 7.2 \nL 43.911719 7.2 \nz\n\" style=\"fill: #ffffff\"/>\n   </g>\n   <g id=\"matplotlib.axis_1\">\n    <g id=\"xtick_1\">\n     <g id=\"line2d_1\"/>\n     <g id=\"text_1\">\n      <!-- 0 -->\n      <g style=\"fill: #262626\" transform=\"translate(60.176129 322.321719) scale(0.07 -0.07)\">\n       <defs>\n        <path id=\"DejaVuSerif-30\" d=\"M 2034 219 \nQ 2513 219 2750 744 \nQ 2988 1269 2988 2328 \nQ 2988 3391 2750 3916 \nQ 2513 4441 2034 4441 \nQ 1556 4441 1318 3916 \nQ 1081 3391 1081 2328 \nQ 1081 1269 1318 744 \nQ 1556 219 2034 219 \nz\nM 2034 -91 \nQ 1275 -91 848 546 \nQ 422 1184 422 2328 \nQ 422 3475 848 4112 \nQ 1275 4750 2034 4750 \nQ 2797 4750 3222 4112 \nQ 3647 3475 3647 2328 \nQ 3647 1184 3222 546 \nQ 2797 -91 2034 -91 \nz\n\" transform=\"scale(0.015625)\"/>\n       </defs>\n       <use xlink:href=\"#DejaVuSerif-30\"/>\n      </g>\n     </g>\n    </g>\n    <g id=\"xtick_2\">\n     <g id=\"line2d_2\"/>\n     <g id=\"text_2\">\n      <!-- 1 -->\n      <g style=\"fill: #262626\" transform=\"translate(134.141271 322.321719) scale(0.07 -0.07)\">\n       <defs>\n        <path id=\"DejaVuSerif-31\" d=\"M 909 0 \nL 909 331 \nL 1722 331 \nL 1722 4213 \nL 781 3603 \nL 781 4013 \nL 1919 4750 \nL 2350 4750 \nL 2350 331 \nL 3163 331 \nL 3163 0 \nL 909 0 \nz\n\" transform=\"scale(0.015625)\"/>\n       </defs>\n       <use xlink:href=\"#DejaVuSerif-31\"/>\n      </g>\n     </g>\n    </g>\n    <g id=\"xtick_3\">\n     <g id=\"line2d_3\"/>\n     <g id=\"text_3\">\n      <!-- 2 -->\n      <g style=\"fill: #262626\" transform=\"translate(208.106413 322.321719) scale(0.07 -0.07)\">\n       <defs>\n        <path id=\"DejaVuSerif-32\" d=\"M 819 3553 \nL 469 3553 \nL 469 4384 \nQ 803 4563 1142 4656 \nQ 1481 4750 1806 4750 \nQ 2534 4750 2956 4397 \nQ 3378 4044 3378 3438 \nQ 3378 2753 2422 1800 \nQ 2347 1728 2309 1691 \nL 1131 513 \nL 3078 513 \nL 3078 1088 \nL 3444 1088 \nL 3444 0 \nL 434 0 \nL 434 341 \nL 1850 1753 \nQ 2319 2222 2519 2614 \nQ 2719 3006 2719 3438 \nQ 2719 3909 2473 4175 \nQ 2228 4441 1797 4441 \nQ 1350 4441 1106 4219 \nQ 863 3997 819 3553 \nz\n\" transform=\"scale(0.015625)\"/>\n       </defs>\n       <use xlink:href=\"#DejaVuSerif-32\"/>\n      </g>\n     </g>\n    </g>\n    <g id=\"xtick_4\">\n     <g id=\"line2d_4\"/>\n     <g id=\"text_4\">\n      <!-- 3 -->\n      <g style=\"fill: #262626\" transform=\"translate(282.071555 322.321719) scale(0.07 -0.07)\">\n       <defs>\n        <path id=\"DejaVuSerif-33\" d=\"M 622 4469 \nQ 988 4606 1323 4678 \nQ 1659 4750 1953 4750 \nQ 2638 4750 3022 4454 \nQ 3406 4159 3406 3634 \nQ 3406 3213 3140 2930 \nQ 2875 2647 2388 2547 \nQ 2963 2466 3280 2130 \nQ 3597 1794 3597 1259 \nQ 3597 606 3158 257 \nQ 2719 -91 1894 -91 \nQ 1528 -91 1179 -12 \nQ 831 66 488 225 \nL 488 1131 \nL 838 1131 \nQ 869 681 1141 450 \nQ 1413 219 1906 219 \nQ 2384 219 2661 495 \nQ 2938 772 2938 1253 \nQ 2938 1803 2653 2086 \nQ 2369 2369 1819 2369 \nL 1522 2369 \nL 1522 2688 \nL 1678 2688 \nQ 2225 2688 2498 2914 \nQ 2772 3141 2772 3597 \nQ 2772 4006 2547 4223 \nQ 2322 4441 1900 4441 \nQ 1478 4441 1245 4241 \nQ 1013 4041 972 3647 \nL 622 3647 \nL 622 4469 \nz\n\" transform=\"scale(0.015625)\"/>\n       </defs>\n       <use xlink:href=\"#DejaVuSerif-33\"/>\n      </g>\n     </g>\n    </g>\n    <g id=\"xtick_5\">\n     <g id=\"line2d_5\"/>\n     <g id=\"text_5\">\n      <!-- 4 -->\n      <g style=\"fill: #262626\" transform=\"translate(356.036697 322.321719) scale(0.07 -0.07)\">\n       <defs>\n        <path id=\"DejaVuSerif-34\" d=\"M 2234 1581 \nL 2234 4063 \nL 641 1581 \nL 2234 1581 \nz\nM 3609 0 \nL 1484 0 \nL 1484 331 \nL 2234 331 \nL 2234 1247 \nL 197 1247 \nL 197 1588 \nL 2241 4750 \nL 2859 4750 \nL 2859 1581 \nL 3750 1581 \nL 3750 1247 \nL 2859 1247 \nL 2859 331 \nL 3609 331 \nL 3609 0 \nz\n\" transform=\"scale(0.015625)\"/>\n       </defs>\n       <use xlink:href=\"#DejaVuSerif-34\"/>\n      </g>\n     </g>\n    </g>\n    <g id=\"xtick_6\">\n     <g id=\"line2d_6\"/>\n     <g id=\"text_6\">\n      <!-- 5 -->\n      <g style=\"fill: #262626\" transform=\"translate(430.001839 322.321719) scale(0.07 -0.07)\">\n       <defs>\n        <path id=\"DejaVuSerif-35\" d=\"M 3219 4666 \nL 3219 4153 \nL 1081 4153 \nL 1081 2816 \nQ 1244 2928 1461 2984 \nQ 1678 3041 1947 3041 \nQ 2703 3041 3140 2622 \nQ 3578 2203 3578 1478 \nQ 3578 738 3136 323 \nQ 2694 -91 1894 -91 \nQ 1572 -91 1234 -12 \nQ 897 66 544 225 \nL 544 1131 \nL 897 1131 \nQ 925 688 1179 453 \nQ 1434 219 1894 219 \nQ 2388 219 2653 544 \nQ 2919 869 2919 1478 \nQ 2919 2084 2655 2407 \nQ 2391 2731 1894 2731 \nQ 1613 2731 1398 2631 \nQ 1184 2531 1019 2322 \nL 750 2322 \nL 750 4666 \nL 3219 4666 \nz\n\" transform=\"scale(0.015625)\"/>\n       </defs>\n       <use xlink:href=\"#DejaVuSerif-35\"/>\n      </g>\n     </g>\n    </g>\n    <g id=\"text_7\">\n     <!-- $t$ (Time) -->\n     <g style=\"fill: #262626\" transform=\"translate(231.235859 333.85625) scale(0.08 -0.08)\">\n      <defs>\n       <path id=\"DejaVuSans-Oblique-74\" d=\"M 2706 3500 \nL 2619 3053 \nL 1472 3053 \nL 1100 1153 \nQ 1081 1047 1072 975 \nQ 1063 903 1063 863 \nQ 1063 663 1183 572 \nQ 1303 481 1569 481 \nL 2150 481 \nL 2053 0 \nL 1503 0 \nQ 991 0 739 200 \nQ 488 400 488 806 \nQ 488 878 497 964 \nQ 506 1050 525 1153 \nL 897 3053 \nL 409 3053 \nL 500 3500 \nL 978 3500 \nL 1172 4494 \nL 1747 4494 \nL 1556 3500 \nL 2706 3500 \nz\n\" transform=\"scale(0.015625)\"/>\n       <path id=\"DejaVuSerif-20\" transform=\"scale(0.015625)\"/>\n       <path id=\"DejaVuSerif-28\" d=\"M 2041 -997 \nQ 1281 -656 893 83 \nQ 506 822 506 1931 \nQ 506 3044 893 3783 \nQ 1281 4522 2041 4863 \nL 2041 4556 \nQ 1559 4225 1350 3623 \nQ 1141 3022 1141 1931 \nQ 1141 844 1350 242 \nQ 1559 -359 2041 -691 \nL 2041 -997 \nz\n\" transform=\"scale(0.015625)\"/>\n       <path id=\"DejaVuSerif-54\" d=\"M 1222 0 \nL 1222 331 \nL 1819 331 \nL 1819 4294 \nL 447 4294 \nL 447 3566 \nL 63 3566 \nL 63 4666 \nL 4206 4666 \nL 4206 3566 \nL 3822 3566 \nL 3822 4294 \nL 2450 4294 \nL 2450 331 \nL 3047 331 \nL 3047 0 \nL 1222 0 \nz\n\" transform=\"scale(0.015625)\"/>\n       <path id=\"DejaVuSerif-69\" d=\"M 622 4353 \nQ 622 4497 726 4603 \nQ 831 4709 978 4709 \nQ 1122 4709 1226 4603 \nQ 1331 4497 1331 4353 \nQ 1331 4206 1228 4103 \nQ 1125 4000 978 4000 \nQ 831 4000 726 4103 \nQ 622 4206 622 4353 \nz\nM 1356 331 \nL 1900 331 \nL 1900 0 \nL 231 0 \nL 231 331 \nL 781 331 \nL 781 2988 \nL 231 2988 \nL 231 3322 \nL 1356 3322 \nL 1356 331 \nz\n\" transform=\"scale(0.015625)\"/>\n       <path id=\"DejaVuSerif-6d\" d=\"M 3316 2675 \nQ 3481 3041 3739 3227 \nQ 3997 3413 4341 3413 \nQ 4863 3413 5119 3089 \nQ 5375 2766 5375 2113 \nL 5375 331 \nL 5894 331 \nL 5894 0 \nL 4300 0 \nL 4300 331 \nL 4800 331 \nL 4800 2047 \nQ 4800 2556 4650 2772 \nQ 4500 2988 4153 2988 \nQ 3769 2988 3567 2697 \nQ 3366 2406 3366 1850 \nL 3366 331 \nL 3866 331 \nL 3866 0 \nL 2291 0 \nL 2291 331 \nL 2791 331 \nL 2791 2069 \nQ 2791 2566 2641 2777 \nQ 2491 2988 2144 2988 \nQ 1759 2988 1557 2697 \nQ 1356 2406 1356 1850 \nL 1356 331 \nL 1856 331 \nL 1856 0 \nL 263 0 \nL 263 331 \nL 781 331 \nL 781 2994 \nL 231 2994 \nL 231 3322 \nL 1356 3322 \nL 1356 2731 \nQ 1516 3063 1762 3238 \nQ 2009 3413 2322 3413 \nQ 2709 3413 2968 3220 \nQ 3228 3028 3316 2675 \nz\n\" transform=\"scale(0.015625)\"/>\n       <path id=\"DejaVuSerif-65\" d=\"M 3469 1600 \nL 991 1600 \nL 991 1575 \nQ 991 903 1244 561 \nQ 1497 219 1991 219 \nQ 2369 219 2611 417 \nQ 2853 616 2950 1006 \nL 3413 1006 \nQ 3275 459 2904 184 \nQ 2534 -91 1931 -91 \nQ 1203 -91 761 389 \nQ 319 869 319 1663 \nQ 319 2450 753 2931 \nQ 1188 3413 1894 3413 \nQ 2647 3413 3050 2948 \nQ 3453 2484 3469 1600 \nz\nM 2791 1931 \nQ 2772 2513 2545 2808 \nQ 2319 3103 1894 3103 \nQ 1497 3103 1269 2806 \nQ 1041 2509 991 1931 \nL 2791 1931 \nz\n\" transform=\"scale(0.015625)\"/>\n       <path id=\"DejaVuSerif-29\" d=\"M 453 -997 \nL 453 -691 \nQ 934 -359 1145 242 \nQ 1356 844 1356 1931 \nQ 1356 3022 1145 3623 \nQ 934 4225 453 4556 \nL 453 4863 \nQ 1216 4522 1603 3783 \nQ 1991 3044 1991 1931 \nQ 1991 822 1603 83 \nQ 1216 -656 453 -997 \nz\n\" transform=\"scale(0.015625)\"/>\n      </defs>\n      <use xlink:href=\"#DejaVuSans-Oblique-74\" transform=\"translate(0 0.015625)\"/>\n      <use xlink:href=\"#DejaVuSerif-20\" transform=\"translate(39.208984 0.015625)\"/>\n      <use xlink:href=\"#DejaVuSerif-28\" transform=\"translate(70.996094 0.015625)\"/>\n      <use xlink:href=\"#DejaVuSerif-54\" transform=\"translate(110.009766 0.015625)\"/>\n      <use xlink:href=\"#DejaVuSerif-69\" transform=\"translate(176.708984 0.015625)\"/>\n      <use xlink:href=\"#DejaVuSerif-6d\" transform=\"translate(208.691406 0.015625)\"/>\n      <use xlink:href=\"#DejaVuSerif-65\" transform=\"translate(303.515625 0.015625)\"/>\n      <use xlink:href=\"#DejaVuSerif-29\" transform=\"translate(362.695312 0.015625)\"/>\n     </g>\n    </g>\n   </g>\n   <g id=\"matplotlib.axis_2\">\n    <g id=\"ytick_1\">\n     <g id=\"line2d_7\"/>\n     <g id=\"text_8\">\n      <!-- −1.00 -->\n      <g style=\"fill: #262626\" transform=\"translate(18.96 312.931922) scale(0.07 -0.07)\">\n       <defs>\n        <path id=\"DejaVuSerif-2212\" d=\"M 678 2259 \nL 4684 2259 \nL 4684 1753 \nL 678 1753 \nL 678 2259 \nz\n\" transform=\"scale(0.015625)\"/>\n        <path id=\"DejaVuSerif-2e\" d=\"M 603 325 \nQ 603 500 722 622 \nQ 841 744 1019 744 \nQ 1191 744 1312 622 \nQ 1434 500 1434 325 \nQ 1434 153 1312 31 \nQ 1191 -91 1019 -91 \nQ 841 -91 722 29 \nQ 603 150 603 325 \nz\n\" transform=\"scale(0.015625)\"/>\n       </defs>\n       <use xlink:href=\"#DejaVuSerif-2212\"/>\n       <use xlink:href=\"#DejaVuSerif-31\" transform=\"translate(83.789062 0)\"/>\n       <use xlink:href=\"#DejaVuSerif-2e\" transform=\"translate(147.412109 0)\"/>\n       <use xlink:href=\"#DejaVuSerif-30\" transform=\"translate(179.199219 0)\"/>\n       <use xlink:href=\"#DejaVuSerif-30\" transform=\"translate(242.822266 0)\"/>\n      </g>\n     </g>\n    </g>\n    <g id=\"ytick_2\">\n     <g id=\"line2d_8\"/>\n     <g id=\"text_9\">\n      <!-- −0.75 -->\n      <g style=\"fill: #262626\" transform=\"translate(18.96 275.999191) scale(0.07 -0.07)\">\n       <defs>\n        <path id=\"DejaVuSerif-37\" d=\"M 3609 4347 \nL 1784 0 \nL 1319 0 \nL 3059 4153 \nL 903 4153 \nL 903 3578 \nL 538 3578 \nL 538 4666 \nL 3609 4666 \nL 3609 4347 \nz\n\" transform=\"scale(0.015625)\"/>\n       </defs>\n       <use xlink:href=\"#DejaVuSerif-2212\"/>\n       <use xlink:href=\"#DejaVuSerif-30\" transform=\"translate(83.789062 0)\"/>\n       <use xlink:href=\"#DejaVuSerif-2e\" transform=\"translate(147.412109 0)\"/>\n       <use xlink:href=\"#DejaVuSerif-37\" transform=\"translate(179.199219 0)\"/>\n       <use xlink:href=\"#DejaVuSerif-35\" transform=\"translate(242.822266 0)\"/>\n      </g>\n     </g>\n    </g>\n    <g id=\"ytick_3\">\n     <g id=\"line2d_9\"/>\n     <g id=\"text_10\">\n      <!-- −0.50 -->\n      <g style=\"fill: #262626\" transform=\"translate(18.96 239.066459) scale(0.07 -0.07)\">\n       <use xlink:href=\"#DejaVuSerif-2212\"/>\n       <use xlink:href=\"#DejaVuSerif-30\" transform=\"translate(83.789062 0)\"/>\n       <use xlink:href=\"#DejaVuSerif-2e\" transform=\"translate(147.412109 0)\"/>\n       <use xlink:href=\"#DejaVuSerif-35\" transform=\"translate(179.199219 0)\"/>\n       <use xlink:href=\"#DejaVuSerif-30\" transform=\"translate(242.822266 0)\"/>\n      </g>\n     </g>\n    </g>\n    <g id=\"ytick_4\">\n     <g id=\"line2d_10\"/>\n     <g id=\"text_11\">\n      <!-- −0.25 -->\n      <g style=\"fill: #262626\" transform=\"translate(18.96 202.133728) scale(0.07 -0.07)\">\n       <use xlink:href=\"#DejaVuSerif-2212\"/>\n       <use xlink:href=\"#DejaVuSerif-30\" transform=\"translate(83.789062 0)\"/>\n       <use xlink:href=\"#DejaVuSerif-2e\" transform=\"translate(147.412109 0)\"/>\n       <use xlink:href=\"#DejaVuSerif-32\" transform=\"translate(179.199219 0)\"/>\n       <use xlink:href=\"#DejaVuSerif-35\" transform=\"translate(242.822266 0)\"/>\n      </g>\n     </g>\n    </g>\n    <g id=\"ytick_5\">\n     <g id=\"line2d_11\"/>\n     <g id=\"text_12\">\n      <!-- 0.00 -->\n      <g style=\"fill: #262626\" transform=\"translate(24.825781 165.200996) scale(0.07 -0.07)\">\n       <use xlink:href=\"#DejaVuSerif-30\"/>\n       <use xlink:href=\"#DejaVuSerif-2e\" transform=\"translate(63.623047 0)\"/>\n       <use xlink:href=\"#DejaVuSerif-30\" transform=\"translate(95.410156 0)\"/>\n       <use xlink:href=\"#DejaVuSerif-30\" transform=\"translate(159.033203 0)\"/>\n      </g>\n     </g>\n    </g>\n    <g id=\"ytick_6\">\n     <g id=\"line2d_12\"/>\n     <g id=\"text_13\">\n      <!-- 0.25 -->\n      <g style=\"fill: #262626\" transform=\"translate(24.825781 128.268265) scale(0.07 -0.07)\">\n       <use xlink:href=\"#DejaVuSerif-30\"/>\n       <use xlink:href=\"#DejaVuSerif-2e\" transform=\"translate(63.623047 0)\"/>\n       <use xlink:href=\"#DejaVuSerif-32\" transform=\"translate(95.410156 0)\"/>\n       <use xlink:href=\"#DejaVuSerif-35\" transform=\"translate(159.033203 0)\"/>\n      </g>\n     </g>\n    </g>\n    <g id=\"ytick_7\">\n     <g id=\"line2d_13\"/>\n     <g id=\"text_14\">\n      <!-- 0.50 -->\n      <g style=\"fill: #262626\" transform=\"translate(24.825781 91.335534) scale(0.07 -0.07)\">\n       <use xlink:href=\"#DejaVuSerif-30\"/>\n       <use xlink:href=\"#DejaVuSerif-2e\" transform=\"translate(63.623047 0)\"/>\n       <use xlink:href=\"#DejaVuSerif-35\" transform=\"translate(95.410156 0)\"/>\n       <use xlink:href=\"#DejaVuSerif-30\" transform=\"translate(159.033203 0)\"/>\n      </g>\n     </g>\n    </g>\n    <g id=\"ytick_8\">\n     <g id=\"line2d_14\"/>\n     <g id=\"text_15\">\n      <!-- 0.75 -->\n      <g style=\"fill: #262626\" transform=\"translate(24.825781 54.402802) scale(0.07 -0.07)\">\n       <use xlink:href=\"#DejaVuSerif-30\"/>\n       <use xlink:href=\"#DejaVuSerif-2e\" transform=\"translate(63.623047 0)\"/>\n       <use xlink:href=\"#DejaVuSerif-37\" transform=\"translate(95.410156 0)\"/>\n       <use xlink:href=\"#DejaVuSerif-35\" transform=\"translate(159.033203 0)\"/>\n      </g>\n     </g>\n    </g>\n    <g id=\"ytick_9\">\n     <g id=\"line2d_15\"/>\n     <g id=\"text_16\">\n      <!-- 1.00 -->\n      <g style=\"fill: #262626\" transform=\"translate(24.825781 17.470071) scale(0.07 -0.07)\">\n       <use xlink:href=\"#DejaVuSerif-31\"/>\n       <use xlink:href=\"#DejaVuSerif-2e\" transform=\"translate(63.623047 0)\"/>\n       <use xlink:href=\"#DejaVuSerif-30\" transform=\"translate(95.410156 0)\"/>\n       <use xlink:href=\"#DejaVuSerif-30\" transform=\"translate(159.033203 0)\"/>\n      </g>\n     </g>\n    </g>\n    <g id=\"text_17\">\n     <!-- $y(t)$ (Position) -->\n     <g style=\"fill: #262626\" transform=\"translate(13.28 188.111406) rotate(-90) scale(0.08 -0.08)\">\n      <defs>\n       <path id=\"DejaVuSans-Oblique-79\" d=\"M 1588 -325 \nQ 1188 -997 936 -1164 \nQ 684 -1331 294 -1331 \nL -159 -1331 \nL -63 -850 \nL 269 -850 \nQ 509 -850 678 -719 \nQ 847 -588 1056 -206 \nL 1234 128 \nL 459 3500 \nL 1069 3500 \nL 1650 819 \nL 3256 3500 \nL 3859 3500 \nL 1588 -325 \nz\n\" transform=\"scale(0.015625)\"/>\n       <path id=\"DejaVuSans-28\" d=\"M 1984 4856 \nQ 1566 4138 1362 3434 \nQ 1159 2731 1159 2009 \nQ 1159 1288 1364 580 \nQ 1569 -128 1984 -844 \nL 1484 -844 \nQ 1016 -109 783 600 \nQ 550 1309 550 2009 \nQ 550 2706 781 3412 \nQ 1013 4119 1484 4856 \nL 1984 4856 \nz\n\" transform=\"scale(0.015625)\"/>\n       <path id=\"DejaVuSans-29\" d=\"M 513 4856 \nL 1013 4856 \nQ 1481 4119 1714 3412 \nQ 1947 2706 1947 2009 \nQ 1947 1309 1714 600 \nQ 1481 -109 1013 -844 \nL 513 -844 \nQ 928 -128 1133 580 \nQ 1338 1288 1338 2009 \nQ 1338 2731 1133 3434 \nQ 928 4138 513 4856 \nz\n\" transform=\"scale(0.015625)\"/>\n       <path id=\"DejaVuSerif-50\" d=\"M 1581 2375 \nL 2406 2375 \nQ 2872 2375 3115 2626 \nQ 3359 2878 3359 3353 \nQ 3359 3831 3115 4081 \nQ 2872 4331 2406 4331 \nL 1581 4331 \nL 1581 2375 \nz\nM 353 0 \nL 353 331 \nL 947 331 \nL 947 4331 \nL 353 4331 \nL 353 4666 \nL 2559 4666 \nQ 3259 4666 3668 4311 \nQ 4078 3956 4078 3353 \nQ 4078 2753 3668 2397 \nQ 3259 2041 2559 2041 \nL 1581 2041 \nL 1581 331 \nL 2303 331 \nL 2303 0 \nL 353 0 \nz\n\" transform=\"scale(0.015625)\"/>\n       <path id=\"DejaVuSerif-6f\" d=\"M 1925 219 \nQ 2388 219 2623 584 \nQ 2859 950 2859 1663 \nQ 2859 2375 2623 2739 \nQ 2388 3103 1925 3103 \nQ 1463 3103 1227 2739 \nQ 991 2375 991 1663 \nQ 991 950 1228 584 \nQ 1466 219 1925 219 \nz\nM 1925 -91 \nQ 1200 -91 759 389 \nQ 319 869 319 1663 \nQ 319 2456 758 2934 \nQ 1197 3413 1925 3413 \nQ 2653 3413 3092 2934 \nQ 3531 2456 3531 1663 \nQ 3531 869 3092 389 \nQ 2653 -91 1925 -91 \nz\n\" transform=\"scale(0.015625)\"/>\n       <path id=\"DejaVuSerif-73\" d=\"M 359 184 \nL 359 959 \nL 691 959 \nQ 703 588 923 403 \nQ 1144 219 1575 219 \nQ 1963 219 2166 364 \nQ 2369 509 2369 788 \nQ 2369 1006 2220 1140 \nQ 2072 1275 1594 1428 \nL 1178 1569 \nQ 750 1706 558 1912 \nQ 366 2119 366 2438 \nQ 366 2894 700 3153 \nQ 1034 3413 1625 3413 \nQ 1888 3413 2178 3344 \nQ 2469 3275 2778 3144 \nL 2778 2419 \nL 2447 2419 \nQ 2434 2741 2221 2922 \nQ 2009 3103 1644 3103 \nQ 1281 3103 1095 2975 \nQ 909 2847 909 2591 \nQ 909 2381 1050 2254 \nQ 1191 2128 1613 1997 \nL 2069 1856 \nQ 2541 1709 2748 1489 \nQ 2956 1269 2956 922 \nQ 2956 450 2595 179 \nQ 2234 -91 1600 -91 \nQ 1278 -91 972 -22 \nQ 666 47 359 184 \nz\n\" transform=\"scale(0.015625)\"/>\n       <path id=\"DejaVuSerif-74\" d=\"M 691 2988 \nL 184 2988 \nL 184 3322 \nL 691 3322 \nL 691 4353 \nL 1269 4353 \nL 1269 3322 \nL 2350 3322 \nL 2350 2988 \nL 1269 2988 \nL 1269 878 \nQ 1269 456 1350 337 \nQ 1431 219 1650 219 \nQ 1875 219 1978 351 \nQ 2081 484 2088 781 \nL 2522 781 \nQ 2497 328 2275 118 \nQ 2053 -91 1600 -91 \nQ 1103 -91 897 129 \nQ 691 350 691 878 \nL 691 2988 \nz\n\" transform=\"scale(0.015625)\"/>\n       <path id=\"DejaVuSerif-6e\" d=\"M 263 0 \nL 263 331 \nL 781 331 \nL 781 2988 \nL 231 2988 \nL 231 3322 \nL 1356 3322 \nL 1356 2731 \nQ 1516 3069 1770 3241 \nQ 2025 3413 2363 3413 \nQ 2913 3413 3172 3097 \nQ 3431 2781 3431 2113 \nL 3431 331 \nL 3944 331 \nL 3944 0 \nL 2356 0 \nL 2356 331 \nL 2853 331 \nL 2853 1931 \nQ 2853 2541 2703 2767 \nQ 2553 2994 2175 2994 \nQ 1775 2994 1565 2701 \nQ 1356 2409 1356 1850 \nL 1356 331 \nL 1856 331 \nL 1856 0 \nL 263 0 \nz\n\" transform=\"scale(0.015625)\"/>\n      </defs>\n      <use xlink:href=\"#DejaVuSans-Oblique-79\" transform=\"translate(0 0.015625)\"/>\n      <use xlink:href=\"#DejaVuSans-28\" transform=\"translate(59.179688 0.015625)\"/>\n      <use xlink:href=\"#DejaVuSans-Oblique-74\" transform=\"translate(98.193359 0.015625)\"/>\n      <use xlink:href=\"#DejaVuSans-29\" transform=\"translate(137.402344 0.015625)\"/>\n      <use xlink:href=\"#DejaVuSerif-20\" transform=\"translate(176.416016 0.015625)\"/>\n      <use xlink:href=\"#DejaVuSerif-28\" transform=\"translate(208.203125 0.015625)\"/>\n      <use xlink:href=\"#DejaVuSerif-50\" transform=\"translate(247.216797 0.015625)\"/>\n      <use xlink:href=\"#DejaVuSerif-6f\" transform=\"translate(314.501953 0.015625)\"/>\n      <use xlink:href=\"#DejaVuSerif-73\" transform=\"translate(374.707031 0.015625)\"/>\n      <use xlink:href=\"#DejaVuSerif-69\" transform=\"translate(426.025391 0.015625)\"/>\n      <use xlink:href=\"#DejaVuSerif-74\" transform=\"translate(458.007812 0.015625)\"/>\n      <use xlink:href=\"#DejaVuSerif-69\" transform=\"translate(498.193359 0.015625)\"/>\n      <use xlink:href=\"#DejaVuSerif-6f\" transform=\"translate(530.175781 0.015625)\"/>\n      <use xlink:href=\"#DejaVuSerif-6e\" transform=\"translate(590.380859 0.015625)\"/>\n      <use xlink:href=\"#DejaVuSerif-29\" transform=\"translate(654.785156 0.015625)\"/>\n     </g>\n    </g>\n   </g>\n   <g id=\"line2d_16\">\n    <path d=\"M 62.403004 24.217961 \nL 66.138617 33.100701 \nL 69.874231 57.678599 \nL 73.609844 94.849793 \nL 77.345457 140.001111 \nL 81.08107 187.580225 \nL 84.816684 231.77814 \nL 88.552297 267.238142 \nL 92.28791 289.704724 \nL 96.023523 296.533916 \nL 99.759137 287.003863 \nL 103.49475 262.389239 \nL 107.230363 225.7921 \nL 110.965976 181.751465 \nL 114.70159 135.680692 \nL 118.437203 93.202375 \nL 122.172816 59.462417 \nL 125.908429 38.506936 \nL 129.644042 32.797412 \nL 133.379656 42.922139 \nL 137.115269 67.537725 \nL 140.850882 103.546155 \nL 144.586495 146.484206 \nL 148.322109 191.076338 \nL 152.057722 231.882591 \nL 155.793335 263.961963 \nL 159.528948 283.470407 \nL 163.264562 288.121101 \nL 167.000175 277.451928 \nL 170.735788 252.868955 \nL 174.471401 217.462188 \nL 178.207015 175.617622 \nL 181.942628 132.474239 \nL 185.678241 93.293149 \nL 189.413854 62.816283 \nL 193.149467 44.692766 \nL 196.885081 41.042351 \nL 200.620694 52.20808 \nL 204.356307 76.726965 \nL 208.09192 111.520727 \nL 211.827534 152.281839 \nL 215.563147 194.006505 \nL 219.29876 231.608668 \nL 223.034373 260.53973 \nL 226.769987 277.33851 \nL 230.5056 280.044973 \nL 234.241213 268.428321 \nL 237.976826 244.002984 \nL 241.71244 209.832039 \nL 245.448053 170.14349 \nL 249.183666 129.807416 \nL 252.919279 93.738624 \nL 256.654892 66.298033 \nL 260.390506 50.765685 \nL 264.126119 48.949015 \nL 267.861732 60.973139 \nL 271.597345 85.277403 \nL 275.332959 118.817168 \nL 279.068572 157.444839 \nL 282.804185 196.422489 \nL 286.539798 231.002762 \nL 290.275412 257.006852 \nL 294.011025 271.329226 \nL 297.746638 272.308156 \nL 301.482251 259.917901 \nL 305.217865 235.760385 \nL 308.953478 202.85879 \nL 312.689091 165.279587 \nL 316.424704 127.630193 \nL 320.160317 94.494312 \nL 323.895931 69.874104 \nL 327.631544 56.70706 \nL 331.367157 56.515864 \nL 335.10277 69.232938 \nL 338.838384 93.219802 \nL 342.573997 125.477527 \nL 346.30961 162.021342 \nL 350.045223 198.372609 \nL 353.780837 230.107493 \nL 357.51645 253.395102 \nL 361.252063 265.459689 \nL 364.987676 264.911164 \nL 368.72329 251.904616 \nL 372.458903 228.110611 \nL 376.194516 196.50122 \nL 379.930129 160.979104 \nL 383.665742 125.895908 \nL 387.401356 95.519378 \nL 391.136969 73.514414 \nL 394.872582 62.501155 \nL 398.608195 63.743327 \nL 402.343809 77.003906 \nL 406.079422 100.584477 \nL 409.815035 131.542224 \nL 413.550648 166.056883 \nL 417.286262 199.901942 \nL 421.021875 228.961993 \nL 424.757488 249.732943 \nL 428.493101 259.7443 \nL 432.228714 257.852679 \n\" clip-path=\"url(#p5b988720c4)\" style=\"fill: none; stroke: #4c72b0; stroke-linecap: round\"/>\n   </g>\n   <g id=\"line2d_17\">\n    <path d=\"M 62.403004 21.122855 \nL 66.138617 28.169304 \nL 69.874231 46.040995 \nL 73.609844 73.231125 \nL 77.345457 107.487992 \nL 81.08107 146.0013 \nL 84.816684 185.632593 \nL 88.552297 223.170898 \nL 92.28791 255.592779 \nL 96.023523 280.305745 \nL 99.759137 295.355424 \nL 103.49475 299.579957 \nL 107.230363 292.699435 \nL 110.965976 275.333499 \nL 114.70159 248.946119 \nL 118.437203 215.722395 \nL 122.172816 178.387771 \nL 125.908429 139.984563 \nL 129.644042 103.624161 \nL 133.379656 72.235039 \nL 137.115269 48.327006 \nL 140.850882 33.790647 \nL 144.586495 29.747974 \nL 148.322109 36.46608 \nL 152.057722 53.340418 \nL 155.793335 78.948646 \nL 159.528948 111.170304 \nL 163.264562 147.362247 \nL 167.000175 184.575356 \nL 170.735788 219.794745 \nL 174.471401 250.183922 \nL 178.207015 273.31313 \nL 181.942628 287.353501 \nL 185.678241 291.221517 \nL 189.413854 284.662376 \nL 193.149467 268.26587 \nL 196.885081 243.413886 \nL 200.620694 212.164148 \nL 204.356307 177.079983 \nL 208.09192 141.020159 \nL 211.827534 106.906048 \nL 215.563147 77.485044 \nL 219.29876 55.109396 \nL 223.034373 41.548262 \nL 226.769987 37.847971 \nL 230.5056 44.251539 \nL 234.241213 60.183595 \nL 237.976826 84.301568 \nL 241.71244 114.608624 \nL 245.448053 148.618852 \nL 249.183666 183.56107 \nL 252.919279 216.604525 \nL 256.654892 245.088129 \nL 260.390506 266.734671 \nL 264.126119 279.832761 \nL 267.861732 283.371995 \nL 271.597345 277.120661 \nL 275.332959 261.640035 \nL 279.068572 238.234479 \nL 282.804185 208.841736 \nL 286.539798 175.872633 \nL 290.275412 142.013446 \nL 294.011025 110.007113 \nL 297.746638 82.431122 \nL 301.482251 61.490032 \nL 305.217865 48.839341 \nL 308.953478 45.454745 \nL 312.689091 51.557124 \nL 316.424704 66.598975 \nL 320.160317 89.313067 \nL 323.895931 117.819009 \nL 327.631544 149.778791 \nL 331.367157 182.588455 \nL 335.10277 213.590153 \nL 338.838384 240.287377 \nL 342.573997 260.54591 \nL 346.30961 272.764327 \nL 350.045223 276.00046 \nL 353.780837 270.043817 \nL 357.51645 255.42844 \nL 361.252063 233.385477 \nL 364.987676 205.739652 \nL 368.72329 174.758349 \nL 372.458903 142.965735 \nL 376.194516 112.937197 \nL 379.930129 87.090802 \nL 383.665742 67.492669 \nL 387.401356 55.691906 \nL 391.136969 52.598296 \nL 394.872582 58.412371 \nL 398.608195 72.613242 \nL 402.343809 94.004831 \nL 406.079422 120.816428 \nL 409.815035 150.849151 \nL 413.550648 181.656186 \nL 417.286262 210.74205 \nL 421.021875 235.764658 \nL 424.757488 254.723825 \nL 428.493101 266.121057 \nL 432.228714 269.077861 \n\" clip-path=\"url(#p5b988720c4)\" style=\"fill: none; stroke: #dd8452; stroke-linecap: round\"/>\n   </g>\n   <g id=\"patch_3\">\n    <path d=\"M 43.911719 313.502813 \nL 43.911719 7.2 \n\" style=\"fill: none; stroke: #262626; stroke-width: 0.5; stroke-linejoin: miter; stroke-linecap: square\"/>\n   </g>\n   <g id=\"patch_4\">\n    <path d=\"M 43.911719 313.502812 \nL 450.72 313.502812 \n\" style=\"fill: none; stroke: #262626; stroke-width: 0.5; stroke-linejoin: miter; stroke-linecap: square\"/>\n   </g>\n  </g>\n </g>\n <defs>\n  <clipPath id=\"p5b988720c4\">\n   <rect x=\"43.911719\" y=\"7.2\" width=\"406.808281\" height=\"306.302812\"/>\n  </clipPath>\n </defs>\n</svg>\n"
          },
          "metadata": {}
        },
        {
          "output_type": "display_data",
          "data": {
            "text/plain": [
              "<Figure size 3840x2880 with 1 Axes>"
            ],
            "image/svg+xml": "<?xml version=\"1.0\" encoding=\"utf-8\" standalone=\"no\"?>\n<!DOCTYPE svg PUBLIC \"-//W3C//DTD SVG 1.1//EN\"\n  \"http://www.w3.org/Graphics/SVG/1.1/DTD/svg11.dtd\">\n<svg xmlns:xlink=\"http://www.w3.org/1999/xlink\" width=\"457.92pt\" height=\"342.72pt\" viewBox=\"0 0 457.92 342.72\" xmlns=\"http://www.w3.org/2000/svg\" version=\"1.1\">\n <metadata>\n  <rdf:RDF xmlns:dc=\"http://purl.org/dc/elements/1.1/\" xmlns:cc=\"http://creativecommons.org/ns#\" xmlns:rdf=\"http://www.w3.org/1999/02/22-rdf-syntax-ns#\">\n   <cc:Work>\n    <dc:type rdf:resource=\"http://purl.org/dc/dcmitype/StillImage\"/>\n    <dc:date>2025-07-08T23:16:47.530189</dc:date>\n    <dc:format>image/svg+xml</dc:format>\n    <dc:creator>\n     <cc:Agent>\n      <dc:title>Matplotlib v3.10.0, https://matplotlib.org/</dc:title>\n     </cc:Agent>\n    </dc:creator>\n   </cc:Work>\n  </rdf:RDF>\n </metadata>\n <defs>\n  <style type=\"text/css\">*{stroke-linejoin: round; stroke-linecap: butt}</style>\n </defs>\n <g id=\"figure_1\">\n  <g id=\"patch_1\">\n   <path d=\"M 0 342.72 \nL 457.92 342.72 \nL 457.92 0 \nL 0 0 \nz\n\" style=\"fill: #ffffff\"/>\n  </g>\n  <g id=\"axes_1\">\n   <g id=\"patch_2\">\n    <path d=\"M 33.899531 313.502812 \nL 450.72 313.502812 \nL 450.72 7.2 \nL 33.899531 7.2 \nz\n\" style=\"fill: #ffffff\"/>\n   </g>\n   <g id=\"matplotlib.axis_1\">\n    <g id=\"xtick_1\">\n     <g id=\"line2d_1\"/>\n     <g id=\"text_1\">\n      <!-- 0 -->\n      <g style=\"fill: #262626\" transform=\"translate(50.619041 322.321719) scale(0.07 -0.07)\">\n       <defs>\n        <path id=\"DejaVuSerif-30\" d=\"M 2034 219 \nQ 2513 219 2750 744 \nQ 2988 1269 2988 2328 \nQ 2988 3391 2750 3916 \nQ 2513 4441 2034 4441 \nQ 1556 4441 1318 3916 \nQ 1081 3391 1081 2328 \nQ 1081 1269 1318 744 \nQ 1556 219 2034 219 \nz\nM 2034 -91 \nQ 1275 -91 848 546 \nQ 422 1184 422 2328 \nQ 422 3475 848 4112 \nQ 1275 4750 2034 4750 \nQ 2797 4750 3222 4112 \nQ 3647 3475 3647 2328 \nQ 3647 1184 3222 546 \nQ 2797 -91 2034 -91 \nz\n\" transform=\"scale(0.015625)\"/>\n       </defs>\n       <use xlink:href=\"#DejaVuSerif-30\"/>\n      </g>\n     </g>\n    </g>\n    <g id=\"xtick_2\">\n     <g id=\"line2d_2\"/>\n     <g id=\"text_2\">\n      <!-- 1 -->\n      <g style=\"fill: #262626\" transform=\"translate(126.404581 322.321719) scale(0.07 -0.07)\">\n       <defs>\n        <path id=\"DejaVuSerif-31\" d=\"M 909 0 \nL 909 331 \nL 1722 331 \nL 1722 4213 \nL 781 3603 \nL 781 4013 \nL 1919 4750 \nL 2350 4750 \nL 2350 331 \nL 3163 331 \nL 3163 0 \nL 909 0 \nz\n\" transform=\"scale(0.015625)\"/>\n       </defs>\n       <use xlink:href=\"#DejaVuSerif-31\"/>\n      </g>\n     </g>\n    </g>\n    <g id=\"xtick_3\">\n     <g id=\"line2d_3\"/>\n     <g id=\"text_3\">\n      <!-- 2 -->\n      <g style=\"fill: #262626\" transform=\"translate(202.190121 322.321719) scale(0.07 -0.07)\">\n       <defs>\n        <path id=\"DejaVuSerif-32\" d=\"M 819 3553 \nL 469 3553 \nL 469 4384 \nQ 803 4563 1142 4656 \nQ 1481 4750 1806 4750 \nQ 2534 4750 2956 4397 \nQ 3378 4044 3378 3438 \nQ 3378 2753 2422 1800 \nQ 2347 1728 2309 1691 \nL 1131 513 \nL 3078 513 \nL 3078 1088 \nL 3444 1088 \nL 3444 0 \nL 434 0 \nL 434 341 \nL 1850 1753 \nQ 2319 2222 2519 2614 \nQ 2719 3006 2719 3438 \nQ 2719 3909 2473 4175 \nQ 2228 4441 1797 4441 \nQ 1350 4441 1106 4219 \nQ 863 3997 819 3553 \nz\n\" transform=\"scale(0.015625)\"/>\n       </defs>\n       <use xlink:href=\"#DejaVuSerif-32\"/>\n      </g>\n     </g>\n    </g>\n    <g id=\"xtick_4\">\n     <g id=\"line2d_4\"/>\n     <g id=\"text_4\">\n      <!-- 3 -->\n      <g style=\"fill: #262626\" transform=\"translate(277.975661 322.321719) scale(0.07 -0.07)\">\n       <defs>\n        <path id=\"DejaVuSerif-33\" d=\"M 622 4469 \nQ 988 4606 1323 4678 \nQ 1659 4750 1953 4750 \nQ 2638 4750 3022 4454 \nQ 3406 4159 3406 3634 \nQ 3406 3213 3140 2930 \nQ 2875 2647 2388 2547 \nQ 2963 2466 3280 2130 \nQ 3597 1794 3597 1259 \nQ 3597 606 3158 257 \nQ 2719 -91 1894 -91 \nQ 1528 -91 1179 -12 \nQ 831 66 488 225 \nL 488 1131 \nL 838 1131 \nQ 869 681 1141 450 \nQ 1413 219 1906 219 \nQ 2384 219 2661 495 \nQ 2938 772 2938 1253 \nQ 2938 1803 2653 2086 \nQ 2369 2369 1819 2369 \nL 1522 2369 \nL 1522 2688 \nL 1678 2688 \nQ 2225 2688 2498 2914 \nQ 2772 3141 2772 3597 \nQ 2772 4006 2547 4223 \nQ 2322 4441 1900 4441 \nQ 1478 4441 1245 4241 \nQ 1013 4041 972 3647 \nL 622 3647 \nL 622 4469 \nz\n\" transform=\"scale(0.015625)\"/>\n       </defs>\n       <use xlink:href=\"#DejaVuSerif-33\"/>\n      </g>\n     </g>\n    </g>\n    <g id=\"xtick_5\">\n     <g id=\"line2d_5\"/>\n     <g id=\"text_5\">\n      <!-- 4 -->\n      <g style=\"fill: #262626\" transform=\"translate(353.7612 322.321719) scale(0.07 -0.07)\">\n       <defs>\n        <path id=\"DejaVuSerif-34\" d=\"M 2234 1581 \nL 2234 4063 \nL 641 1581 \nL 2234 1581 \nz\nM 3609 0 \nL 1484 0 \nL 1484 331 \nL 2234 331 \nL 2234 1247 \nL 197 1247 \nL 197 1588 \nL 2241 4750 \nL 2859 4750 \nL 2859 1581 \nL 3750 1581 \nL 3750 1247 \nL 2859 1247 \nL 2859 331 \nL 3609 331 \nL 3609 0 \nz\n\" transform=\"scale(0.015625)\"/>\n       </defs>\n       <use xlink:href=\"#DejaVuSerif-34\"/>\n      </g>\n     </g>\n    </g>\n    <g id=\"xtick_6\">\n     <g id=\"line2d_6\"/>\n     <g id=\"text_6\">\n      <!-- 5 -->\n      <g style=\"fill: #262626\" transform=\"translate(429.54674 322.321719) scale(0.07 -0.07)\">\n       <defs>\n        <path id=\"DejaVuSerif-35\" d=\"M 3219 4666 \nL 3219 4153 \nL 1081 4153 \nL 1081 2816 \nQ 1244 2928 1461 2984 \nQ 1678 3041 1947 3041 \nQ 2703 3041 3140 2622 \nQ 3578 2203 3578 1478 \nQ 3578 738 3136 323 \nQ 2694 -91 1894 -91 \nQ 1572 -91 1234 -12 \nQ 897 66 544 225 \nL 544 1131 \nL 897 1131 \nQ 925 688 1179 453 \nQ 1434 219 1894 219 \nQ 2388 219 2653 544 \nQ 2919 869 2919 1478 \nQ 2919 2084 2655 2407 \nQ 2391 2731 1894 2731 \nQ 1613 2731 1398 2631 \nQ 1184 2531 1019 2322 \nL 750 2322 \nL 750 4666 \nL 3219 4666 \nz\n\" transform=\"scale(0.015625)\"/>\n       </defs>\n       <use xlink:href=\"#DejaVuSerif-35\"/>\n      </g>\n     </g>\n    </g>\n    <g id=\"text_7\">\n     <!-- $t$ (Time) -->\n     <g style=\"fill: #262626\" transform=\"translate(226.229766 333.85625) scale(0.08 -0.08)\">\n      <defs>\n       <path id=\"DejaVuSans-Oblique-74\" d=\"M 2706 3500 \nL 2619 3053 \nL 1472 3053 \nL 1100 1153 \nQ 1081 1047 1072 975 \nQ 1063 903 1063 863 \nQ 1063 663 1183 572 \nQ 1303 481 1569 481 \nL 2150 481 \nL 2053 0 \nL 1503 0 \nQ 991 0 739 200 \nQ 488 400 488 806 \nQ 488 878 497 964 \nQ 506 1050 525 1153 \nL 897 3053 \nL 409 3053 \nL 500 3500 \nL 978 3500 \nL 1172 4494 \nL 1747 4494 \nL 1556 3500 \nL 2706 3500 \nz\n\" transform=\"scale(0.015625)\"/>\n       <path id=\"DejaVuSerif-20\" transform=\"scale(0.015625)\"/>\n       <path id=\"DejaVuSerif-28\" d=\"M 2041 -997 \nQ 1281 -656 893 83 \nQ 506 822 506 1931 \nQ 506 3044 893 3783 \nQ 1281 4522 2041 4863 \nL 2041 4556 \nQ 1559 4225 1350 3623 \nQ 1141 3022 1141 1931 \nQ 1141 844 1350 242 \nQ 1559 -359 2041 -691 \nL 2041 -997 \nz\n\" transform=\"scale(0.015625)\"/>\n       <path id=\"DejaVuSerif-54\" d=\"M 1222 0 \nL 1222 331 \nL 1819 331 \nL 1819 4294 \nL 447 4294 \nL 447 3566 \nL 63 3566 \nL 63 4666 \nL 4206 4666 \nL 4206 3566 \nL 3822 3566 \nL 3822 4294 \nL 2450 4294 \nL 2450 331 \nL 3047 331 \nL 3047 0 \nL 1222 0 \nz\n\" transform=\"scale(0.015625)\"/>\n       <path id=\"DejaVuSerif-69\" d=\"M 622 4353 \nQ 622 4497 726 4603 \nQ 831 4709 978 4709 \nQ 1122 4709 1226 4603 \nQ 1331 4497 1331 4353 \nQ 1331 4206 1228 4103 \nQ 1125 4000 978 4000 \nQ 831 4000 726 4103 \nQ 622 4206 622 4353 \nz\nM 1356 331 \nL 1900 331 \nL 1900 0 \nL 231 0 \nL 231 331 \nL 781 331 \nL 781 2988 \nL 231 2988 \nL 231 3322 \nL 1356 3322 \nL 1356 331 \nz\n\" transform=\"scale(0.015625)\"/>\n       <path id=\"DejaVuSerif-6d\" d=\"M 3316 2675 \nQ 3481 3041 3739 3227 \nQ 3997 3413 4341 3413 \nQ 4863 3413 5119 3089 \nQ 5375 2766 5375 2113 \nL 5375 331 \nL 5894 331 \nL 5894 0 \nL 4300 0 \nL 4300 331 \nL 4800 331 \nL 4800 2047 \nQ 4800 2556 4650 2772 \nQ 4500 2988 4153 2988 \nQ 3769 2988 3567 2697 \nQ 3366 2406 3366 1850 \nL 3366 331 \nL 3866 331 \nL 3866 0 \nL 2291 0 \nL 2291 331 \nL 2791 331 \nL 2791 2069 \nQ 2791 2566 2641 2777 \nQ 2491 2988 2144 2988 \nQ 1759 2988 1557 2697 \nQ 1356 2406 1356 1850 \nL 1356 331 \nL 1856 331 \nL 1856 0 \nL 263 0 \nL 263 331 \nL 781 331 \nL 781 2994 \nL 231 2994 \nL 231 3322 \nL 1356 3322 \nL 1356 2731 \nQ 1516 3063 1762 3238 \nQ 2009 3413 2322 3413 \nQ 2709 3413 2968 3220 \nQ 3228 3028 3316 2675 \nz\n\" transform=\"scale(0.015625)\"/>\n       <path id=\"DejaVuSerif-65\" d=\"M 3469 1600 \nL 991 1600 \nL 991 1575 \nQ 991 903 1244 561 \nQ 1497 219 1991 219 \nQ 2369 219 2611 417 \nQ 2853 616 2950 1006 \nL 3413 1006 \nQ 3275 459 2904 184 \nQ 2534 -91 1931 -91 \nQ 1203 -91 761 389 \nQ 319 869 319 1663 \nQ 319 2450 753 2931 \nQ 1188 3413 1894 3413 \nQ 2647 3413 3050 2948 \nQ 3453 2484 3469 1600 \nz\nM 2791 1931 \nQ 2772 2513 2545 2808 \nQ 2319 3103 1894 3103 \nQ 1497 3103 1269 2806 \nQ 1041 2509 991 1931 \nL 2791 1931 \nz\n\" transform=\"scale(0.015625)\"/>\n       <path id=\"DejaVuSerif-29\" d=\"M 453 -997 \nL 453 -691 \nQ 934 -359 1145 242 \nQ 1356 844 1356 1931 \nQ 1356 3022 1145 3623 \nQ 934 4225 453 4556 \nL 453 4863 \nQ 1216 4522 1603 3783 \nQ 1991 3044 1991 1931 \nQ 1991 822 1603 83 \nQ 1216 -656 453 -997 \nz\n\" transform=\"scale(0.015625)\"/>\n      </defs>\n      <use xlink:href=\"#DejaVuSans-Oblique-74\" transform=\"translate(0 0.015625)\"/>\n      <use xlink:href=\"#DejaVuSerif-20\" transform=\"translate(39.208984 0.015625)\"/>\n      <use xlink:href=\"#DejaVuSerif-28\" transform=\"translate(70.996094 0.015625)\"/>\n      <use xlink:href=\"#DejaVuSerif-54\" transform=\"translate(110.009766 0.015625)\"/>\n      <use xlink:href=\"#DejaVuSerif-69\" transform=\"translate(176.708984 0.015625)\"/>\n      <use xlink:href=\"#DejaVuSerif-6d\" transform=\"translate(208.691406 0.015625)\"/>\n      <use xlink:href=\"#DejaVuSerif-65\" transform=\"translate(303.515625 0.015625)\"/>\n      <use xlink:href=\"#DejaVuSerif-29\" transform=\"translate(362.695312 0.015625)\"/>\n     </g>\n    </g>\n   </g>\n   <g id=\"matplotlib.axis_2\">\n    <g id=\"ytick_1\">\n     <g id=\"line2d_7\"/>\n     <g id=\"text_8\">\n      <!-- −6 -->\n      <g style=\"fill: #262626\" transform=\"translate(20.08 294.575367) scale(0.07 -0.07)\">\n       <defs>\n        <path id=\"DejaVuSerif-2212\" d=\"M 678 2259 \nL 4684 2259 \nL 4684 1753 \nL 678 1753 \nL 678 2259 \nz\n\" transform=\"scale(0.015625)\"/>\n        <path id=\"DejaVuSerif-36\" d=\"M 2094 219 \nQ 2534 219 2771 542 \nQ 3009 866 3009 1472 \nQ 3009 2078 2771 2401 \nQ 2534 2725 2094 2725 \nQ 1647 2725 1412 2412 \nQ 1178 2100 1178 1509 \nQ 1178 888 1415 553 \nQ 1653 219 2094 219 \nz\nM 1075 2569 \nQ 1288 2803 1556 2918 \nQ 1825 3034 2163 3034 \nQ 2859 3034 3264 2615 \nQ 3669 2197 3669 1472 \nQ 3669 763 3233 336 \nQ 2797 -91 2069 -91 \nQ 1278 -91 853 498 \nQ 428 1088 428 2181 \nQ 428 3406 931 4078 \nQ 1434 4750 2350 4750 \nQ 2597 4750 2869 4703 \nQ 3141 4656 3425 4563 \nL 3425 3794 \nL 3072 3794 \nQ 3034 4109 2831 4275 \nQ 2628 4441 2284 4441 \nQ 1678 4441 1381 3981 \nQ 1084 3522 1075 2569 \nz\n\" transform=\"scale(0.015625)\"/>\n       </defs>\n       <use xlink:href=\"#DejaVuSerif-2212\"/>\n       <use xlink:href=\"#DejaVuSerif-36\" transform=\"translate(83.789062 0)\"/>\n      </g>\n     </g>\n    </g>\n    <g id=\"ytick_2\">\n     <g id=\"line2d_8\"/>\n     <g id=\"text_9\">\n      <!-- −4 -->\n      <g style=\"fill: #262626\" transform=\"translate(20.08 250.055564) scale(0.07 -0.07)\">\n       <use xlink:href=\"#DejaVuSerif-2212\"/>\n       <use xlink:href=\"#DejaVuSerif-34\" transform=\"translate(83.789062 0)\"/>\n      </g>\n     </g>\n    </g>\n    <g id=\"ytick_3\">\n     <g id=\"line2d_9\"/>\n     <g id=\"text_10\">\n      <!-- −2 -->\n      <g style=\"fill: #262626\" transform=\"translate(20.08 205.535761) scale(0.07 -0.07)\">\n       <use xlink:href=\"#DejaVuSerif-2212\"/>\n       <use xlink:href=\"#DejaVuSerif-32\" transform=\"translate(83.789062 0)\"/>\n      </g>\n     </g>\n    </g>\n    <g id=\"ytick_4\">\n     <g id=\"line2d_10\"/>\n     <g id=\"text_11\">\n      <!-- 0 -->\n      <g style=\"fill: #262626\" transform=\"translate(25.945781 161.015958) scale(0.07 -0.07)\">\n       <use xlink:href=\"#DejaVuSerif-30\"/>\n      </g>\n     </g>\n    </g>\n    <g id=\"ytick_5\">\n     <g id=\"line2d_11\"/>\n     <g id=\"text_12\">\n      <!-- 2 -->\n      <g style=\"fill: #262626\" transform=\"translate(25.945781 116.496155) scale(0.07 -0.07)\">\n       <use xlink:href=\"#DejaVuSerif-32\"/>\n      </g>\n     </g>\n    </g>\n    <g id=\"ytick_6\">\n     <g id=\"line2d_12\"/>\n     <g id=\"text_13\">\n      <!-- 4 -->\n      <g style=\"fill: #262626\" transform=\"translate(25.945781 71.976352) scale(0.07 -0.07)\">\n       <use xlink:href=\"#DejaVuSerif-34\"/>\n      </g>\n     </g>\n    </g>\n    <g id=\"ytick_7\">\n     <g id=\"line2d_13\"/>\n     <g id=\"text_14\">\n      <!-- 6 -->\n      <g style=\"fill: #262626\" transform=\"translate(25.945781 27.456549) scale(0.07 -0.07)\">\n       <use xlink:href=\"#DejaVuSerif-36\"/>\n      </g>\n     </g>\n    </g>\n    <g id=\"text_15\">\n     <!-- $\\dot{y}(t)$ (Velocity) -->\n     <g style=\"fill: #262626\" transform=\"translate(14.24 188.151406) rotate(-90) scale(0.08 -0.08)\">\n      <defs>\n       <path id=\"DejaVuSans-307\" d=\"M -1894 4863 \nL -1319 4863 \nL -1319 4134 \nL -1894 4134 \nL -1894 4863 \nz\nM -1600 3584 \nL -1600 3584 \nz\n\" transform=\"scale(0.015625)\"/>\n       <path id=\"DejaVuSans-Oblique-79\" d=\"M 1588 -325 \nQ 1188 -997 936 -1164 \nQ 684 -1331 294 -1331 \nL -159 -1331 \nL -63 -850 \nL 269 -850 \nQ 509 -850 678 -719 \nQ 847 -588 1056 -206 \nL 1234 128 \nL 459 3500 \nL 1069 3500 \nL 1650 819 \nL 3256 3500 \nL 3859 3500 \nL 1588 -325 \nz\n\" transform=\"scale(0.015625)\"/>\n       <path id=\"DejaVuSans-28\" d=\"M 1984 4856 \nQ 1566 4138 1362 3434 \nQ 1159 2731 1159 2009 \nQ 1159 1288 1364 580 \nQ 1569 -128 1984 -844 \nL 1484 -844 \nQ 1016 -109 783 600 \nQ 550 1309 550 2009 \nQ 550 2706 781 3412 \nQ 1013 4119 1484 4856 \nL 1984 4856 \nz\n\" transform=\"scale(0.015625)\"/>\n       <path id=\"DejaVuSans-29\" d=\"M 513 4856 \nL 1013 4856 \nQ 1481 4119 1714 3412 \nQ 1947 2706 1947 2009 \nQ 1947 1309 1714 600 \nQ 1481 -109 1013 -844 \nL 513 -844 \nQ 928 -128 1133 580 \nQ 1338 1288 1338 2009 \nQ 1338 2731 1133 3434 \nQ 928 4138 513 4856 \nz\n\" transform=\"scale(0.015625)\"/>\n       <path id=\"DejaVuSerif-56\" d=\"M 1119 4331 \nL 2497 750 \nL 3872 4331 \nL 3347 4331 \nL 3347 4666 \nL 4716 4666 \nL 4716 4331 \nL 4263 4331 \nL 2597 0 \nL 2059 0 \nL 403 4331 \nL -63 4331 \nL -63 4666 \nL 1638 4666 \nL 1638 4331 \nL 1119 4331 \nz\n\" transform=\"scale(0.015625)\"/>\n       <path id=\"DejaVuSerif-6c\" d=\"M 1313 331 \nL 1856 331 \nL 1856 0 \nL 184 0 \nL 184 331 \nL 738 331 \nL 738 4531 \nL 184 4531 \nL 184 4863 \nL 1313 4863 \nL 1313 331 \nz\n\" transform=\"scale(0.015625)\"/>\n       <path id=\"DejaVuSerif-6f\" d=\"M 1925 219 \nQ 2388 219 2623 584 \nQ 2859 950 2859 1663 \nQ 2859 2375 2623 2739 \nQ 2388 3103 1925 3103 \nQ 1463 3103 1227 2739 \nQ 991 2375 991 1663 \nQ 991 950 1228 584 \nQ 1466 219 1925 219 \nz\nM 1925 -91 \nQ 1200 -91 759 389 \nQ 319 869 319 1663 \nQ 319 2456 758 2934 \nQ 1197 3413 1925 3413 \nQ 2653 3413 3092 2934 \nQ 3531 2456 3531 1663 \nQ 3531 869 3092 389 \nQ 2653 -91 1925 -91 \nz\n\" transform=\"scale(0.015625)\"/>\n       <path id=\"DejaVuSerif-63\" d=\"M 3291 997 \nQ 3169 466 2822 187 \nQ 2475 -91 1925 -91 \nQ 1200 -91 759 389 \nQ 319 869 319 1663 \nQ 319 2459 759 2936 \nQ 1200 3413 1925 3413 \nQ 2241 3413 2553 3339 \nQ 2866 3266 3181 3116 \nL 3181 2266 \nL 2847 2266 \nQ 2781 2703 2561 2903 \nQ 2341 3103 1931 3103 \nQ 1466 3103 1228 2742 \nQ 991 2381 991 1663 \nQ 991 944 1227 581 \nQ 1463 219 1931 219 \nQ 2303 219 2525 412 \nQ 2747 606 2828 997 \nL 3291 997 \nz\n\" transform=\"scale(0.015625)\"/>\n       <path id=\"DejaVuSerif-74\" d=\"M 691 2988 \nL 184 2988 \nL 184 3322 \nL 691 3322 \nL 691 4353 \nL 1269 4353 \nL 1269 3322 \nL 2350 3322 \nL 2350 2988 \nL 1269 2988 \nL 1269 878 \nQ 1269 456 1350 337 \nQ 1431 219 1650 219 \nQ 1875 219 1978 351 \nQ 2081 484 2088 781 \nL 2522 781 \nQ 2497 328 2275 118 \nQ 2053 -91 1600 -91 \nQ 1103 -91 897 129 \nQ 691 350 691 878 \nL 691 2988 \nz\n\" transform=\"scale(0.015625)\"/>\n       <path id=\"DejaVuSerif-79\" d=\"M 1381 -609 \nL 1600 -56 \nL 359 2988 \nL -19 2988 \nL -19 3322 \nL 1509 3322 \nL 1509 2988 \nL 978 2988 \nL 1913 703 \nL 2847 2988 \nL 2350 2988 \nL 2350 3322 \nL 3597 3322 \nL 3597 2988 \nL 3225 2988 \nL 1703 -750 \nQ 1547 -1138 1356 -1280 \nQ 1166 -1422 819 -1422 \nQ 672 -1422 517 -1397 \nQ 363 -1372 206 -1325 \nL 206 -691 \nL 500 -691 \nQ 519 -903 608 -995 \nQ 697 -1088 884 -1088 \nQ 1056 -1088 1161 -992 \nQ 1266 -897 1381 -609 \nz\n\" transform=\"scale(0.015625)\"/>\n      </defs>\n      <use xlink:href=\"#DejaVuSans-307\" transform=\"translate(62.388672 12.015625)\"/>\n      <use xlink:href=\"#DejaVuSans-Oblique-79\" transform=\"translate(0 0.828125)\"/>\n      <use xlink:href=\"#DejaVuSans-28\" transform=\"translate(59.179688 0.828125)\"/>\n      <use xlink:href=\"#DejaVuSans-Oblique-74\" transform=\"translate(98.193359 0.828125)\"/>\n      <use xlink:href=\"#DejaVuSans-29\" transform=\"translate(137.402344 0.828125)\"/>\n      <use xlink:href=\"#DejaVuSerif-20\" transform=\"translate(176.416016 0.828125)\"/>\n      <use xlink:href=\"#DejaVuSerif-28\" transform=\"translate(208.203125 0.828125)\"/>\n      <use xlink:href=\"#DejaVuSerif-56\" transform=\"translate(247.216797 0.828125)\"/>\n      <use xlink:href=\"#DejaVuSerif-65\" transform=\"translate(319.433594 0.828125)\"/>\n      <use xlink:href=\"#DejaVuSerif-6c\" transform=\"translate(378.613281 0.828125)\"/>\n      <use xlink:href=\"#DejaVuSerif-6f\" transform=\"translate(410.595703 0.828125)\"/>\n      <use xlink:href=\"#DejaVuSerif-63\" transform=\"translate(470.800781 0.828125)\"/>\n      <use xlink:href=\"#DejaVuSerif-69\" transform=\"translate(526.806641 0.828125)\"/>\n      <use xlink:href=\"#DejaVuSerif-74\" transform=\"translate(558.789062 0.828125)\"/>\n      <use xlink:href=\"#DejaVuSerif-79\" transform=\"translate(598.974609 0.828125)\"/>\n      <use xlink:href=\"#DejaVuSerif-29\" transform=\"translate(655.46875 0.828125)\"/>\n     </g>\n    </g>\n   </g>\n   <g id=\"line2d_14\">\n    <path d=\"M 52.845916 159.742577 \nL 56.673469 209.367997 \nL 60.501021 252.436114 \nL 64.328574 283.749988 \nL 68.156126 299.579957 \nL 71.983679 298.107391 \nL 75.811231 279.6327 \nL 79.638784 246.523928 \nL 83.466336 202.914003 \nL 87.293889 154.185263 \nL 91.121441 106.305493 \nL 94.948994 65.097345 \nL 98.776546 35.530543 \nL 102.604099 21.122855 \nL 106.431651 23.522051 \nL 110.259204 42.318388 \nL 114.086756 75.108903 \nL 117.914309 117.80389 \nL 121.741861 165.136569 \nL 125.569414 211.31247 \nL 129.396966 250.718515 \nL 133.224519 278.605048 \nL 137.052071 291.657987 \nL 140.879624 288.392208 \nL 144.707177 269.319526 \nL 148.534729 236.872414 \nL 152.362282 195.094432 \nL 156.189834 149.136715 \nL 160.017387 104.623146 \nL 163.844939 66.962428 \nL 167.672492 40.691172 \nL 171.500044 28.927735 \nL 175.327597 33.002547 \nL 179.155149 52.308668 \nL 182.982702 84.389241 \nL 186.810254 125.249525 \nL 190.637807 169.85396 \nL 194.465359 212.746452 \nL 198.292912 248.717513 \nL 202.120464 273.436704 \nL 205.948017 283.973641 \nL 209.775569 279.144923 \nL 213.603122 259.645955 \nL 217.430674 227.953143 \nL 221.258227 188.009959 \nL 225.085779 144.736615 \nL 228.913332 103.424265 \nL 232.740884 69.088297 \nL 236.568437 45.859721 \nL 240.395989 36.488472 \nL 244.223542 42.018322 \nL 248.051094 61.671768 \nL 251.878647 92.957427 \nL 255.706199 131.985322 \nL 259.533752 173.950222 \nL 263.361304 213.723008 \nL 267.188857 246.477326 \nL 271.016409 268.275003 \nL 274.843962 276.539237 \nL 278.671515 270.358749 \nL 282.499067 250.587052 \nL 286.32662 219.726197 \nL 290.154172 181.610644 \nL 293.981725 140.931148 \nL 297.809277 102.65774 \nL 301.63683 71.432749 \nL 305.464382 51.007968 \nL 309.291935 43.794165 \nL 313.119487 50.577004 \nL 316.94704 70.432782 \nL 320.774592 100.85284 \nL 324.602145 138.060054 \nL 328.429697 177.47752 \nL 332.25725 214.291316 \nL 336.084802 244.03818 \nL 339.912355 263.146388 \nL 343.739907 269.364312 \nL 347.56746 262.025273 \nL 351.395012 242.117607 \nL 355.222565 212.152756 \nL 359.050117 175.84888 \nL 362.87767 137.669778 \nL 366.705222 102.276278 \nL 370.532775 73.957465 \nL 374.360327 56.111168 \nL 378.18788 50.836563 \nL 382.015432 58.687724 \nL 385.842985 78.616993 \nL 389.670537 108.113733 \nL 393.49809 143.520198 \nL 397.325642 180.484838 \nL 401.153195 214.496889 \nL 404.980747 241.436599 \nL 408.8083 258.074009 \nL 412.635852 262.455915 \nL 416.463405 254.134701 \nL 420.290958 234.212285 \nL 424.11851 205.195134 \nL 427.946063 170.679299 \nL 431.773615 134.905034 \n\" clip-path=\"url(#p758f5b147a)\" style=\"fill: none; stroke: #4c72b0; stroke-linecap: round\"/>\n   </g>\n   <g id=\"line2d_15\">\n    <path d=\"M 52.845916 162.370482 \nL 56.673469 196.069172 \nL 60.501021 226.52637 \nL 64.328574 251.297767 \nL 68.156126 268.412736 \nL 71.983679 276.530984 \nL 75.811231 275.047334 \nL 79.638784 264.136471 \nL 83.466336 244.73437 \nL 87.293889 218.458282 \nL 91.121441 187.472072 \nL 94.948994 154.308138 \nL 98.776546 121.660539 \nL 102.604099 92.166232 \nL 106.431651 68.192169 \nL 110.259204 51.645446 \nL 114.086756 43.821715 \nL 117.914309 45.303896 \nL 121.741861 55.919111 \nL 125.569414 74.756966 \nL 129.396966 100.247368 \nL 133.224519 130.291243 \nL 137.052071 162.433284 \nL 140.879624 194.062515 \nL 144.707177 222.624306 \nL 148.534729 245.826618 \nL 152.362282 261.823844 \nL 156.189834 269.363499 \nL 160.017387 267.884118 \nL 163.844939 257.55672 \nL 167.672492 239.266802 \nL 171.500044 214.538667 \nL 175.327597 185.408532 \nL 179.155149 154.256954 \nL 182.982702 123.614384 \nL 186.810254 95.95569 \nL 190.637807 73.500365 \nL 194.465359 58.034503 \nL 198.292912 50.76885 \nL 202.120464 52.244181 \nL 205.948017 62.291391 \nL 209.775569 80.049212 \nL 213.603122 104.0378 \nL 217.430674 132.281923 \nL 221.258227 162.4735 \nL 225.085779 192.16013 \nL 228.913332 218.944218 \nL 232.740884 240.676531 \nL 236.568437 255.628575 \nL 240.395989 262.629954 \nL 244.223542 261.159843 \nL 248.051094 251.385388 \nL 251.878647 234.144279 \nL 255.706199 210.873186 \nL 259.533752 183.48818 \nL 263.361304 154.227069 \nL 267.188857 125.466608 \nL 271.016409 99.529528 \nL 274.843962 78.497023 \nL 278.671515 64.041841 \nL 282.499067 57.295354 \nL 286.32662 58.759157 \nL 290.154172 68.268102 \nL 293.981725 85.007446 \nL 297.809277 107.582437 \nL 301.63683 134.134398 \nL 305.464382 162.493664 \nL 309.291935 190.356795 \nL 313.119487 215.473592 \nL 316.94704 235.828751 \nL 320.774592 249.803479 \nL 324.602145 256.304134 \nL 328.429697 254.84766 \nL 332.25725 245.597171 \nL 336.084802 229.34508 \nL 339.912355 207.445435 \nL 343.739907 181.701234 \nL 347.56746 154.21607 \nL 351.395012 127.222326 \nL 355.222565 102.899927 \nL 359.050117 83.200369 \nL 362.87767 69.690221 \nL 366.705222 63.426654 \nL 370.532775 64.874846 \nL 374.360327 73.873751 \nL 378.18788 89.652687 \nL 382.015432 110.897127 \nL 385.842985 135.858093 \nL 389.670537 162.496051 \nL 393.49809 188.647488 \nL 397.325642 212.200562 \nL 401.153195 231.265567 \nL 404.980747 244.326474 \nL 408.8083 250.361387 \nL 412.635852 248.922357 \nL 416.463405 240.168336 \nL 420.290958 224.848861 \nL 424.11851 204.240083 \nL 427.946063 180.038578 \nL 431.773615 154.221762 \n\" clip-path=\"url(#p758f5b147a)\" style=\"fill: none; stroke: #dd8452; stroke-linecap: round\"/>\n   </g>\n   <g id=\"patch_3\">\n    <path d=\"M 33.899531 291.915914 \nL 33.899531 24.797095 \n\" style=\"fill: none; stroke: #262626; stroke-width: 0.5; stroke-linejoin: miter; stroke-linecap: square\"/>\n   </g>\n   <g id=\"patch_4\">\n    <path d=\"M 52.845916 313.502812 \nL 431.773615 313.502812 \n\" style=\"fill: none; stroke: #262626; stroke-width: 0.5; stroke-linejoin: miter; stroke-linecap: square\"/>\n   </g>\n   <g id=\"legend_1\">\n    <g id=\"line2d_16\">\n     <path d=\"M 391.671719 16.368906 \nL 398.671719 16.368906 \nL 405.671719 16.368906 \n\" style=\"fill: none; stroke: #4c72b0; stroke-linecap: round\"/>\n    </g>\n    <g id=\"text_16\">\n     <!-- Sample 1 -->\n     <g style=\"fill: #262626\" transform=\"translate(411.271719 18.818906) scale(0.07 -0.07)\">\n      <defs>\n       <path id=\"DejaVuSerif-53\" d=\"M 594 225 \nL 594 1288 \nL 953 1284 \nQ 969 753 1261 498 \nQ 1553 244 2150 244 \nQ 2706 244 2998 464 \nQ 3291 684 3291 1106 \nQ 3291 1444 3114 1625 \nQ 2938 1806 2369 1978 \nL 1753 2163 \nQ 1084 2366 811 2669 \nQ 538 2972 538 3500 \nQ 538 4094 959 4422 \nQ 1381 4750 2144 4750 \nQ 2469 4750 2856 4679 \nQ 3244 4609 3681 4475 \nL 3681 3481 \nL 3328 3481 \nQ 3275 3975 2998 4195 \nQ 2722 4416 2156 4416 \nQ 1663 4416 1405 4214 \nQ 1147 4013 1147 3628 \nQ 1147 3294 1340 3103 \nQ 1534 2913 2163 2725 \nL 2741 2553 \nQ 3375 2363 3645 2067 \nQ 3916 1772 3916 1275 \nQ 3916 597 3481 253 \nQ 3047 -91 2188 -91 \nQ 1803 -91 1404 -12 \nQ 1006 66 594 225 \nz\n\" transform=\"scale(0.015625)\"/>\n       <path id=\"DejaVuSerif-61\" d=\"M 2547 1044 \nL 2547 1747 \nL 1806 1747 \nQ 1378 1747 1168 1562 \nQ 959 1378 959 997 \nQ 959 650 1171 447 \nQ 1384 244 1747 244 \nQ 2106 244 2326 466 \nQ 2547 688 2547 1044 \nz\nM 3122 2075 \nL 3122 331 \nL 3634 331 \nL 3634 0 \nL 2547 0 \nL 2547 359 \nQ 2356 128 2106 18 \nQ 1856 -91 1522 -91 \nQ 969 -91 644 203 \nQ 319 497 319 997 \nQ 319 1513 691 1797 \nQ 1063 2081 1741 2081 \nL 2547 2081 \nL 2547 2309 \nQ 2547 2688 2317 2895 \nQ 2088 3103 1672 3103 \nQ 1328 3103 1125 2947 \nQ 922 2791 872 2484 \nL 575 2484 \nL 575 3156 \nQ 875 3284 1158 3348 \nQ 1441 3413 1709 3413 \nQ 2400 3413 2761 3070 \nQ 3122 2728 3122 2075 \nz\n\" transform=\"scale(0.015625)\"/>\n       <path id=\"DejaVuSerif-70\" d=\"M 1313 1825 \nL 1313 1497 \nQ 1313 897 1542 583 \nQ 1772 269 2209 269 \nQ 2650 269 2876 622 \nQ 3103 975 3103 1663 \nQ 3103 2353 2876 2703 \nQ 2650 3053 2209 3053 \nQ 1772 3053 1542 2737 \nQ 1313 2422 1313 1825 \nz\nM 738 2988 \nL 184 2988 \nL 184 3322 \nL 1313 3322 \nL 1313 2803 \nQ 1481 3116 1742 3264 \nQ 2003 3413 2388 3413 \nQ 3000 3413 3387 2928 \nQ 3775 2444 3775 1663 \nQ 3775 881 3387 395 \nQ 3000 -91 2388 -91 \nQ 2003 -91 1742 57 \nQ 1481 206 1313 519 \nL 1313 -997 \nL 1856 -997 \nL 1856 -1331 \nL 184 -1331 \nL 184 -997 \nL 738 -997 \nL 738 2988 \nz\n\" transform=\"scale(0.015625)\"/>\n      </defs>\n      <use xlink:href=\"#DejaVuSerif-53\"/>\n      <use xlink:href=\"#DejaVuSerif-61\" transform=\"translate(68.505859 0)\"/>\n      <use xlink:href=\"#DejaVuSerif-6d\" transform=\"translate(128.125 0)\"/>\n      <use xlink:href=\"#DejaVuSerif-70\" transform=\"translate(222.949219 0)\"/>\n      <use xlink:href=\"#DejaVuSerif-6c\" transform=\"translate(286.962891 0)\"/>\n      <use xlink:href=\"#DejaVuSerif-65\" transform=\"translate(318.945312 0)\"/>\n      <use xlink:href=\"#DejaVuSerif-20\" transform=\"translate(378.125 0)\"/>\n      <use xlink:href=\"#DejaVuSerif-31\" transform=\"translate(409.912109 0)\"/>\n     </g>\n    </g>\n    <g id=\"line2d_17\">\n     <path d=\"M 391.671719 26.643594 \nL 398.671719 26.643594 \nL 405.671719 26.643594 \n\" style=\"fill: none; stroke: #dd8452; stroke-linecap: round\"/>\n    </g>\n    <g id=\"text_17\">\n     <!-- Sample 2 -->\n     <g style=\"fill: #262626\" transform=\"translate(411.271719 29.093594) scale(0.07 -0.07)\">\n      <use xlink:href=\"#DejaVuSerif-53\"/>\n      <use xlink:href=\"#DejaVuSerif-61\" transform=\"translate(68.505859 0)\"/>\n      <use xlink:href=\"#DejaVuSerif-6d\" transform=\"translate(128.125 0)\"/>\n      <use xlink:href=\"#DejaVuSerif-70\" transform=\"translate(222.949219 0)\"/>\n      <use xlink:href=\"#DejaVuSerif-6c\" transform=\"translate(286.962891 0)\"/>\n      <use xlink:href=\"#DejaVuSerif-65\" transform=\"translate(318.945312 0)\"/>\n      <use xlink:href=\"#DejaVuSerif-20\" transform=\"translate(378.125 0)\"/>\n      <use xlink:href=\"#DejaVuSerif-32\" transform=\"translate(409.912109 0)\"/>\n     </g>\n    </g>\n   </g>\n  </g>\n </g>\n <defs>\n  <clipPath id=\"p758f5b147a\">\n   <rect x=\"33.899531\" y=\"7.2\" width=\"416.820469\" height=\"306.302812\"/>\n  </clipPath>\n </defs>\n</svg>\n"
          },
          "metadata": {}
        }
      ],
      "source": [
        "fig1, ax1 = plt.subplots()\n",
        "ax1.set_xlabel('$t$ (Time)')\n",
        "ax1.set_ylabel('$y(t)$ (Position)')\n",
        "\n",
        "fig2, ax2 = plt.subplots()\n",
        "ax2.set_xlabel('$t$ (Time)')\n",
        "ax2.set_ylabel('$\\dot{y}(t)$ (Velocity)')\n",
        "\n",
        "for i in range(2):\n",
        "    x = np.random.randn(solver.num_input)\n",
        "    y = solver(x)\n",
        "\n",
        "    ax1.plot(solver.t, y[:, 0])\n",
        "    ax2.plot(\n",
        "        solver.t, y[:, 1],\n",
        "        label=f'Sample {i+1:d}')\n",
        "plt.legend(loc=\"best\", frameon=False)\n",
        "sns.despine(trim=True);"
      ]
    },
    {
      "cell_type": "markdown",
      "metadata": {
        "id": "J9eB8pl_UO-9"
      },
      "source": [
        "For your convenience, here is code that takes many samples of the solver at once:"
      ]
    },
    {
      "cell_type": "code",
      "execution_count": 22,
      "metadata": {
        "tags": [
          "hide-input"
        ],
        "id": "rk_O7PNwUO-9"
      },
      "outputs": [],
      "source": [
        "def take_samples_from_solver(num_samples):\n",
        "    \"\"\"Takes ``num_samples`` from the ODE solver.\n",
        "\n",
        "    Returns them in an array of the form:\n",
        "    ``num_samples x 100 x 2``\n",
        "    (100 timesteps, 2 states (position, velocity))\n",
        "    \"\"\"\n",
        "    samples = np.ndarray((num_samples, 100, 2))\n",
        "    for i in range(num_samples):\n",
        "        samples[i, :, :] = solver(\n",
        "            np.random.randn(solver.num_input)\n",
        "        )\n",
        "    return samples"
      ]
    },
    {
      "cell_type": "markdown",
      "metadata": {
        "id": "wawZwAynUO-9"
      },
      "source": [
        "It works like this:"
      ]
    },
    {
      "cell_type": "code",
      "execution_count": 7,
      "metadata": {
        "id": "8yIlVr4LUO-9",
        "outputId": "787ec83e-030e-408c-b29e-22eeb48275e4",
        "colab": {
          "base_uri": "https://localhost:8080/"
        }
      },
      "outputs": [
        {
          "output_type": "stream",
          "name": "stdout",
          "text": [
            "(50, 100, 2)\n"
          ]
        }
      ],
      "source": [
        "samples = take_samples_from_solver(50)\n",
        "print(samples.shape)"
      ]
    },
    {
      "cell_type": "markdown",
      "metadata": {
        "id": "V3scQefwUO--"
      },
      "source": [
        "Here, the first dimension corresponds to different samples.\n",
        "Then we have timesteps.\n",
        "And finally, we have either position or velocity.\n",
        "\n",
        "As an example, the velocity of the 25th sample at the first ten timesteps is:"
      ]
    },
    {
      "cell_type": "code",
      "execution_count": 23,
      "metadata": {
        "id": "9ztfvwmtUO--",
        "outputId": "69fc7bdb-ab31-4831-95f6-c9843efbd1b9",
        "colab": {
          "base_uri": "https://localhost:8080/"
        }
      },
      "outputs": [
        {
          "output_type": "execute_result",
          "data": {
            "text/plain": [
              "array([ 4.44449660e-03, -1.69588670e+00, -3.24992114e+00, -4.53329351e+00,\n",
              "       -5.44415134e+00, -5.91123208e+00, -5.89943059e+00, -5.41242144e+00,\n",
              "       -4.49214237e+00, -3.21519808e+00])"
            ]
          },
          "metadata": {},
          "execution_count": 23
        }
      ],
      "source": [
        "samples[24, :10, 1]"
      ]
    },
    {
      "cell_type": "markdown",
      "metadata": {
        "id": "7YYz8anmUO--"
      },
      "source": [
        "### Part A\n",
        "Take 100 samples of the solver output and plot the estimated mean position and velocity as a function of time along with a 95\\% epistemic uncertainty interval around it.\n",
        "This interval captures how sure you are about the mean response when using only 100 Monte Carlo samples.\n",
        "You need to use the central limit theorem to find it (see the lecture notes)."
      ]
    },
    {
      "cell_type": "code",
      "execution_count": 33,
      "metadata": {
        "id": "SDvYxIx5UO--",
        "outputId": "77066595-594e-4105-b2b6-bc304e71989e",
        "colab": {
          "base_uri": "https://localhost:8080/",
          "height": 940
        }
      },
      "outputs": [
        {
          "output_type": "display_data",
          "data": {
            "text/plain": [
              "<Figure size 3840x2880 with 1 Axes>"
            ],
            "image/svg+xml": "<?xml version=\"1.0\" encoding=\"utf-8\" standalone=\"no\"?>\n<!DOCTYPE svg PUBLIC \"-//W3C//DTD SVG 1.1//EN\"\n  \"http://www.w3.org/Graphics/SVG/1.1/DTD/svg11.dtd\">\n<svg xmlns:xlink=\"http://www.w3.org/1999/xlink\" width=\"457.92pt\" height=\"342.72pt\" viewBox=\"0 0 457.92 342.72\" xmlns=\"http://www.w3.org/2000/svg\" version=\"1.1\">\n <metadata>\n  <rdf:RDF xmlns:dc=\"http://purl.org/dc/elements/1.1/\" xmlns:cc=\"http://creativecommons.org/ns#\" xmlns:rdf=\"http://www.w3.org/1999/02/22-rdf-syntax-ns#\">\n   <cc:Work>\n    <dc:type rdf:resource=\"http://purl.org/dc/dcmitype/StillImage\"/>\n    <dc:date>2025-07-08T23:53:24.948018</dc:date>\n    <dc:format>image/svg+xml</dc:format>\n    <dc:creator>\n     <cc:Agent>\n      <dc:title>Matplotlib v3.10.0, https://matplotlib.org/</dc:title>\n     </cc:Agent>\n    </dc:creator>\n   </cc:Work>\n  </rdf:RDF>\n </metadata>\n <defs>\n  <style type=\"text/css\">*{stroke-linejoin: round; stroke-linecap: butt}</style>\n </defs>\n <g id=\"figure_1\">\n  <g id=\"patch_1\">\n   <path d=\"M 0 342.72 \nL 457.92 342.72 \nL 457.92 0 \nL 0 0 \nz\n\" style=\"fill: #ffffff\"/>\n  </g>\n  <g id=\"axes_1\">\n   <g id=\"patch_2\">\n    <path d=\"M 39.457969 313.502813 \nL 450.72 313.502813 \nL 450.72 19.27875 \nL 39.457969 19.27875 \nz\n\" style=\"fill: #ffffff\"/>\n   </g>\n   <g id=\"matplotlib.axis_1\">\n    <g id=\"xtick_1\">\n     <g id=\"line2d_1\"/>\n     <g id=\"text_1\">\n      <!-- 0 -->\n      <g style=\"fill: #262626\" transform=\"translate(55.924822 322.321719) scale(0.07 -0.07)\">\n       <defs>\n        <path id=\"DejaVuSerif-30\" d=\"M 2034 219 \nQ 2513 219 2750 744 \nQ 2988 1269 2988 2328 \nQ 2988 3391 2750 3916 \nQ 2513 4441 2034 4441 \nQ 1556 4441 1318 3916 \nQ 1081 3391 1081 2328 \nQ 1081 1269 1318 744 \nQ 1556 219 2034 219 \nz\nM 2034 -91 \nQ 1275 -91 848 546 \nQ 422 1184 422 2328 \nQ 422 3475 848 4112 \nQ 1275 4750 2034 4750 \nQ 2797 4750 3222 4112 \nQ 3647 3475 3647 2328 \nQ 3647 1184 3222 546 \nQ 2797 -91 2034 -91 \nz\n\" transform=\"scale(0.015625)\"/>\n       </defs>\n       <use xlink:href=\"#DejaVuSerif-30\"/>\n      </g>\n     </g>\n    </g>\n    <g id=\"xtick_2\">\n     <g id=\"line2d_2\"/>\n     <g id=\"text_2\">\n      <!-- 1 -->\n      <g style=\"fill: #262626\" transform=\"translate(130.699737 322.321719) scale(0.07 -0.07)\">\n       <defs>\n        <path id=\"DejaVuSerif-31\" d=\"M 909 0 \nL 909 331 \nL 1722 331 \nL 1722 4213 \nL 781 3603 \nL 781 4013 \nL 1919 4750 \nL 2350 4750 \nL 2350 331 \nL 3163 331 \nL 3163 0 \nL 909 0 \nz\n\" transform=\"scale(0.015625)\"/>\n       </defs>\n       <use xlink:href=\"#DejaVuSerif-31\"/>\n      </g>\n     </g>\n    </g>\n    <g id=\"xtick_3\">\n     <g id=\"line2d_3\"/>\n     <g id=\"text_3\">\n      <!-- 2 -->\n      <g style=\"fill: #262626\" transform=\"translate(205.474652 322.321719) scale(0.07 -0.07)\">\n       <defs>\n        <path id=\"DejaVuSerif-32\" d=\"M 819 3553 \nL 469 3553 \nL 469 4384 \nQ 803 4563 1142 4656 \nQ 1481 4750 1806 4750 \nQ 2534 4750 2956 4397 \nQ 3378 4044 3378 3438 \nQ 3378 2753 2422 1800 \nQ 2347 1728 2309 1691 \nL 1131 513 \nL 3078 513 \nL 3078 1088 \nL 3444 1088 \nL 3444 0 \nL 434 0 \nL 434 341 \nL 1850 1753 \nQ 2319 2222 2519 2614 \nQ 2719 3006 2719 3438 \nQ 2719 3909 2473 4175 \nQ 2228 4441 1797 4441 \nQ 1350 4441 1106 4219 \nQ 863 3997 819 3553 \nz\n\" transform=\"scale(0.015625)\"/>\n       </defs>\n       <use xlink:href=\"#DejaVuSerif-32\"/>\n      </g>\n     </g>\n    </g>\n    <g id=\"xtick_4\">\n     <g id=\"line2d_4\"/>\n     <g id=\"text_4\">\n      <!-- 3 -->\n      <g style=\"fill: #262626\" transform=\"translate(280.249567 322.321719) scale(0.07 -0.07)\">\n       <defs>\n        <path id=\"DejaVuSerif-33\" d=\"M 622 4469 \nQ 988 4606 1323 4678 \nQ 1659 4750 1953 4750 \nQ 2638 4750 3022 4454 \nQ 3406 4159 3406 3634 \nQ 3406 3213 3140 2930 \nQ 2875 2647 2388 2547 \nQ 2963 2466 3280 2130 \nQ 3597 1794 3597 1259 \nQ 3597 606 3158 257 \nQ 2719 -91 1894 -91 \nQ 1528 -91 1179 -12 \nQ 831 66 488 225 \nL 488 1131 \nL 838 1131 \nQ 869 681 1141 450 \nQ 1413 219 1906 219 \nQ 2384 219 2661 495 \nQ 2938 772 2938 1253 \nQ 2938 1803 2653 2086 \nQ 2369 2369 1819 2369 \nL 1522 2369 \nL 1522 2688 \nL 1678 2688 \nQ 2225 2688 2498 2914 \nQ 2772 3141 2772 3597 \nQ 2772 4006 2547 4223 \nQ 2322 4441 1900 4441 \nQ 1478 4441 1245 4241 \nQ 1013 4041 972 3647 \nL 622 3647 \nL 622 4469 \nz\n\" transform=\"scale(0.015625)\"/>\n       </defs>\n       <use xlink:href=\"#DejaVuSerif-33\"/>\n      </g>\n     </g>\n    </g>\n    <g id=\"xtick_5\">\n     <g id=\"line2d_5\"/>\n     <g id=\"text_5\">\n      <!-- 4 -->\n      <g style=\"fill: #262626\" transform=\"translate(355.024482 322.321719) scale(0.07 -0.07)\">\n       <defs>\n        <path id=\"DejaVuSerif-34\" d=\"M 2234 1581 \nL 2234 4063 \nL 641 1581 \nL 2234 1581 \nz\nM 3609 0 \nL 1484 0 \nL 1484 331 \nL 2234 331 \nL 2234 1247 \nL 197 1247 \nL 197 1588 \nL 2241 4750 \nL 2859 4750 \nL 2859 1581 \nL 3750 1581 \nL 3750 1247 \nL 2859 1247 \nL 2859 331 \nL 3609 331 \nL 3609 0 \nz\n\" transform=\"scale(0.015625)\"/>\n       </defs>\n       <use xlink:href=\"#DejaVuSerif-34\"/>\n      </g>\n     </g>\n    </g>\n    <g id=\"xtick_6\">\n     <g id=\"line2d_6\"/>\n     <g id=\"text_6\">\n      <!-- 5 -->\n      <g style=\"fill: #262626\" transform=\"translate(429.799396 322.321719) scale(0.07 -0.07)\">\n       <defs>\n        <path id=\"DejaVuSerif-35\" d=\"M 3219 4666 \nL 3219 4153 \nL 1081 4153 \nL 1081 2816 \nQ 1244 2928 1461 2984 \nQ 1678 3041 1947 3041 \nQ 2703 3041 3140 2622 \nQ 3578 2203 3578 1478 \nQ 3578 738 3136 323 \nQ 2694 -91 1894 -91 \nQ 1572 -91 1234 -12 \nQ 897 66 544 225 \nL 544 1131 \nL 897 1131 \nQ 925 688 1179 453 \nQ 1434 219 1894 219 \nQ 2388 219 2653 544 \nQ 2919 869 2919 1478 \nQ 2919 2084 2655 2407 \nQ 2391 2731 1894 2731 \nQ 1613 2731 1398 2631 \nQ 1184 2531 1019 2322 \nL 750 2322 \nL 750 4666 \nL 3219 4666 \nz\n\" transform=\"scale(0.015625)\"/>\n       </defs>\n       <use xlink:href=\"#DejaVuSerif-35\"/>\n      </g>\n     </g>\n    </g>\n    <g id=\"text_7\">\n     <!-- $t$ (Time) -->\n     <g style=\"fill: #262626\" transform=\"translate(229.008984 333.85625) scale(0.08 -0.08)\">\n      <defs>\n       <path id=\"DejaVuSans-Oblique-74\" d=\"M 2706 3500 \nL 2619 3053 \nL 1472 3053 \nL 1100 1153 \nQ 1081 1047 1072 975 \nQ 1063 903 1063 863 \nQ 1063 663 1183 572 \nQ 1303 481 1569 481 \nL 2150 481 \nL 2053 0 \nL 1503 0 \nQ 991 0 739 200 \nQ 488 400 488 806 \nQ 488 878 497 964 \nQ 506 1050 525 1153 \nL 897 3053 \nL 409 3053 \nL 500 3500 \nL 978 3500 \nL 1172 4494 \nL 1747 4494 \nL 1556 3500 \nL 2706 3500 \nz\n\" transform=\"scale(0.015625)\"/>\n       <path id=\"DejaVuSerif-20\" transform=\"scale(0.015625)\"/>\n       <path id=\"DejaVuSerif-28\" d=\"M 2041 -997 \nQ 1281 -656 893 83 \nQ 506 822 506 1931 \nQ 506 3044 893 3783 \nQ 1281 4522 2041 4863 \nL 2041 4556 \nQ 1559 4225 1350 3623 \nQ 1141 3022 1141 1931 \nQ 1141 844 1350 242 \nQ 1559 -359 2041 -691 \nL 2041 -997 \nz\n\" transform=\"scale(0.015625)\"/>\n       <path id=\"DejaVuSerif-54\" d=\"M 1222 0 \nL 1222 331 \nL 1819 331 \nL 1819 4294 \nL 447 4294 \nL 447 3566 \nL 63 3566 \nL 63 4666 \nL 4206 4666 \nL 4206 3566 \nL 3822 3566 \nL 3822 4294 \nL 2450 4294 \nL 2450 331 \nL 3047 331 \nL 3047 0 \nL 1222 0 \nz\n\" transform=\"scale(0.015625)\"/>\n       <path id=\"DejaVuSerif-69\" d=\"M 622 4353 \nQ 622 4497 726 4603 \nQ 831 4709 978 4709 \nQ 1122 4709 1226 4603 \nQ 1331 4497 1331 4353 \nQ 1331 4206 1228 4103 \nQ 1125 4000 978 4000 \nQ 831 4000 726 4103 \nQ 622 4206 622 4353 \nz\nM 1356 331 \nL 1900 331 \nL 1900 0 \nL 231 0 \nL 231 331 \nL 781 331 \nL 781 2988 \nL 231 2988 \nL 231 3322 \nL 1356 3322 \nL 1356 331 \nz\n\" transform=\"scale(0.015625)\"/>\n       <path id=\"DejaVuSerif-6d\" d=\"M 3316 2675 \nQ 3481 3041 3739 3227 \nQ 3997 3413 4341 3413 \nQ 4863 3413 5119 3089 \nQ 5375 2766 5375 2113 \nL 5375 331 \nL 5894 331 \nL 5894 0 \nL 4300 0 \nL 4300 331 \nL 4800 331 \nL 4800 2047 \nQ 4800 2556 4650 2772 \nQ 4500 2988 4153 2988 \nQ 3769 2988 3567 2697 \nQ 3366 2406 3366 1850 \nL 3366 331 \nL 3866 331 \nL 3866 0 \nL 2291 0 \nL 2291 331 \nL 2791 331 \nL 2791 2069 \nQ 2791 2566 2641 2777 \nQ 2491 2988 2144 2988 \nQ 1759 2988 1557 2697 \nQ 1356 2406 1356 1850 \nL 1356 331 \nL 1856 331 \nL 1856 0 \nL 263 0 \nL 263 331 \nL 781 331 \nL 781 2994 \nL 231 2994 \nL 231 3322 \nL 1356 3322 \nL 1356 2731 \nQ 1516 3063 1762 3238 \nQ 2009 3413 2322 3413 \nQ 2709 3413 2968 3220 \nQ 3228 3028 3316 2675 \nz\n\" transform=\"scale(0.015625)\"/>\n       <path id=\"DejaVuSerif-65\" d=\"M 3469 1600 \nL 991 1600 \nL 991 1575 \nQ 991 903 1244 561 \nQ 1497 219 1991 219 \nQ 2369 219 2611 417 \nQ 2853 616 2950 1006 \nL 3413 1006 \nQ 3275 459 2904 184 \nQ 2534 -91 1931 -91 \nQ 1203 -91 761 389 \nQ 319 869 319 1663 \nQ 319 2450 753 2931 \nQ 1188 3413 1894 3413 \nQ 2647 3413 3050 2948 \nQ 3453 2484 3469 1600 \nz\nM 2791 1931 \nQ 2772 2513 2545 2808 \nQ 2319 3103 1894 3103 \nQ 1497 3103 1269 2806 \nQ 1041 2509 991 1931 \nL 2791 1931 \nz\n\" transform=\"scale(0.015625)\"/>\n       <path id=\"DejaVuSerif-29\" d=\"M 453 -997 \nL 453 -691 \nQ 934 -359 1145 242 \nQ 1356 844 1356 1931 \nQ 1356 3022 1145 3623 \nQ 934 4225 453 4556 \nL 453 4863 \nQ 1216 4522 1603 3783 \nQ 1991 3044 1991 1931 \nQ 1991 822 1603 83 \nQ 1216 -656 453 -997 \nz\n\" transform=\"scale(0.015625)\"/>\n      </defs>\n      <use xlink:href=\"#DejaVuSans-Oblique-74\" transform=\"translate(0 0.015625)\"/>\n      <use xlink:href=\"#DejaVuSerif-20\" transform=\"translate(39.208984 0.015625)\"/>\n      <use xlink:href=\"#DejaVuSerif-28\" transform=\"translate(70.996094 0.015625)\"/>\n      <use xlink:href=\"#DejaVuSerif-54\" transform=\"translate(110.009766 0.015625)\"/>\n      <use xlink:href=\"#DejaVuSerif-69\" transform=\"translate(176.708984 0.015625)\"/>\n      <use xlink:href=\"#DejaVuSerif-6d\" transform=\"translate(208.691406 0.015625)\"/>\n      <use xlink:href=\"#DejaVuSerif-65\" transform=\"translate(303.515625 0.015625)\"/>\n      <use xlink:href=\"#DejaVuSerif-29\" transform=\"translate(362.695312 0.015625)\"/>\n     </g>\n    </g>\n   </g>\n   <g id=\"matplotlib.axis_2\">\n    <g id=\"ytick_1\">\n     <g id=\"line2d_7\"/>\n     <g id=\"text_8\">\n      <!-- −1.0 -->\n      <g style=\"fill: #262626\" transform=\"translate(18.96 287.297062) scale(0.07 -0.07)\">\n       <defs>\n        <path id=\"DejaVuSerif-2212\" d=\"M 678 2259 \nL 4684 2259 \nL 4684 1753 \nL 678 1753 \nL 678 2259 \nz\n\" transform=\"scale(0.015625)\"/>\n        <path id=\"DejaVuSerif-2e\" d=\"M 603 325 \nQ 603 500 722 622 \nQ 841 744 1019 744 \nQ 1191 744 1312 622 \nQ 1434 500 1434 325 \nQ 1434 153 1312 31 \nQ 1191 -91 1019 -91 \nQ 841 -91 722 29 \nQ 603 150 603 325 \nz\n\" transform=\"scale(0.015625)\"/>\n       </defs>\n       <use xlink:href=\"#DejaVuSerif-2212\"/>\n       <use xlink:href=\"#DejaVuSerif-31\" transform=\"translate(83.789062 0)\"/>\n       <use xlink:href=\"#DejaVuSerif-2e\" transform=\"translate(147.412109 0)\"/>\n       <use xlink:href=\"#DejaVuSerif-30\" transform=\"translate(179.199219 0)\"/>\n      </g>\n     </g>\n    </g>\n    <g id=\"ytick_2\">\n     <g id=\"line2d_8\"/>\n     <g id=\"text_9\">\n      <!-- −0.5 -->\n      <g style=\"fill: #262626\" transform=\"translate(18.96 229.604765) scale(0.07 -0.07)\">\n       <use xlink:href=\"#DejaVuSerif-2212\"/>\n       <use xlink:href=\"#DejaVuSerif-30\" transform=\"translate(83.789062 0)\"/>\n       <use xlink:href=\"#DejaVuSerif-2e\" transform=\"translate(147.412109 0)\"/>\n       <use xlink:href=\"#DejaVuSerif-35\" transform=\"translate(179.199219 0)\"/>\n      </g>\n     </g>\n    </g>\n    <g id=\"ytick_3\">\n     <g id=\"line2d_9\"/>\n     <g id=\"text_10\">\n      <!-- 0.0 -->\n      <g style=\"fill: #262626\" transform=\"translate(24.825781 171.912467) scale(0.07 -0.07)\">\n       <use xlink:href=\"#DejaVuSerif-30\"/>\n       <use xlink:href=\"#DejaVuSerif-2e\" transform=\"translate(63.623047 0)\"/>\n       <use xlink:href=\"#DejaVuSerif-30\" transform=\"translate(95.410156 0)\"/>\n      </g>\n     </g>\n    </g>\n    <g id=\"ytick_4\">\n     <g id=\"line2d_10\"/>\n     <g id=\"text_11\">\n      <!-- 0.5 -->\n      <g style=\"fill: #262626\" transform=\"translate(24.825781 114.22017) scale(0.07 -0.07)\">\n       <use xlink:href=\"#DejaVuSerif-30\"/>\n       <use xlink:href=\"#DejaVuSerif-2e\" transform=\"translate(63.623047 0)\"/>\n       <use xlink:href=\"#DejaVuSerif-35\" transform=\"translate(95.410156 0)\"/>\n      </g>\n     </g>\n    </g>\n    <g id=\"ytick_5\">\n     <g id=\"line2d_11\"/>\n     <g id=\"text_12\">\n      <!-- 1.0 -->\n      <g style=\"fill: #262626\" transform=\"translate(24.825781 56.527872) scale(0.07 -0.07)\">\n       <use xlink:href=\"#DejaVuSerif-31\"/>\n       <use xlink:href=\"#DejaVuSerif-2e\" transform=\"translate(63.623047 0)\"/>\n       <use xlink:href=\"#DejaVuSerif-30\" transform=\"translate(95.410156 0)\"/>\n      </g>\n     </g>\n    </g>\n    <g id=\"text_13\">\n     <!-- $y(t)$ (Position) -->\n     <g style=\"fill: #262626\" transform=\"translate(13.28 194.150781) rotate(-90) scale(0.08 -0.08)\">\n      <defs>\n       <path id=\"DejaVuSans-Oblique-79\" d=\"M 1588 -325 \nQ 1188 -997 936 -1164 \nQ 684 -1331 294 -1331 \nL -159 -1331 \nL -63 -850 \nL 269 -850 \nQ 509 -850 678 -719 \nQ 847 -588 1056 -206 \nL 1234 128 \nL 459 3500 \nL 1069 3500 \nL 1650 819 \nL 3256 3500 \nL 3859 3500 \nL 1588 -325 \nz\n\" transform=\"scale(0.015625)\"/>\n       <path id=\"DejaVuSans-28\" d=\"M 1984 4856 \nQ 1566 4138 1362 3434 \nQ 1159 2731 1159 2009 \nQ 1159 1288 1364 580 \nQ 1569 -128 1984 -844 \nL 1484 -844 \nQ 1016 -109 783 600 \nQ 550 1309 550 2009 \nQ 550 2706 781 3412 \nQ 1013 4119 1484 4856 \nL 1984 4856 \nz\n\" transform=\"scale(0.015625)\"/>\n       <path id=\"DejaVuSans-29\" d=\"M 513 4856 \nL 1013 4856 \nQ 1481 4119 1714 3412 \nQ 1947 2706 1947 2009 \nQ 1947 1309 1714 600 \nQ 1481 -109 1013 -844 \nL 513 -844 \nQ 928 -128 1133 580 \nQ 1338 1288 1338 2009 \nQ 1338 2731 1133 3434 \nQ 928 4138 513 4856 \nz\n\" transform=\"scale(0.015625)\"/>\n       <path id=\"DejaVuSerif-50\" d=\"M 1581 2375 \nL 2406 2375 \nQ 2872 2375 3115 2626 \nQ 3359 2878 3359 3353 \nQ 3359 3831 3115 4081 \nQ 2872 4331 2406 4331 \nL 1581 4331 \nL 1581 2375 \nz\nM 353 0 \nL 353 331 \nL 947 331 \nL 947 4331 \nL 353 4331 \nL 353 4666 \nL 2559 4666 \nQ 3259 4666 3668 4311 \nQ 4078 3956 4078 3353 \nQ 4078 2753 3668 2397 \nQ 3259 2041 2559 2041 \nL 1581 2041 \nL 1581 331 \nL 2303 331 \nL 2303 0 \nL 353 0 \nz\n\" transform=\"scale(0.015625)\"/>\n       <path id=\"DejaVuSerif-6f\" d=\"M 1925 219 \nQ 2388 219 2623 584 \nQ 2859 950 2859 1663 \nQ 2859 2375 2623 2739 \nQ 2388 3103 1925 3103 \nQ 1463 3103 1227 2739 \nQ 991 2375 991 1663 \nQ 991 950 1228 584 \nQ 1466 219 1925 219 \nz\nM 1925 -91 \nQ 1200 -91 759 389 \nQ 319 869 319 1663 \nQ 319 2456 758 2934 \nQ 1197 3413 1925 3413 \nQ 2653 3413 3092 2934 \nQ 3531 2456 3531 1663 \nQ 3531 869 3092 389 \nQ 2653 -91 1925 -91 \nz\n\" transform=\"scale(0.015625)\"/>\n       <path id=\"DejaVuSerif-73\" d=\"M 359 184 \nL 359 959 \nL 691 959 \nQ 703 588 923 403 \nQ 1144 219 1575 219 \nQ 1963 219 2166 364 \nQ 2369 509 2369 788 \nQ 2369 1006 2220 1140 \nQ 2072 1275 1594 1428 \nL 1178 1569 \nQ 750 1706 558 1912 \nQ 366 2119 366 2438 \nQ 366 2894 700 3153 \nQ 1034 3413 1625 3413 \nQ 1888 3413 2178 3344 \nQ 2469 3275 2778 3144 \nL 2778 2419 \nL 2447 2419 \nQ 2434 2741 2221 2922 \nQ 2009 3103 1644 3103 \nQ 1281 3103 1095 2975 \nQ 909 2847 909 2591 \nQ 909 2381 1050 2254 \nQ 1191 2128 1613 1997 \nL 2069 1856 \nQ 2541 1709 2748 1489 \nQ 2956 1269 2956 922 \nQ 2956 450 2595 179 \nQ 2234 -91 1600 -91 \nQ 1278 -91 972 -22 \nQ 666 47 359 184 \nz\n\" transform=\"scale(0.015625)\"/>\n       <path id=\"DejaVuSerif-74\" d=\"M 691 2988 \nL 184 2988 \nL 184 3322 \nL 691 3322 \nL 691 4353 \nL 1269 4353 \nL 1269 3322 \nL 2350 3322 \nL 2350 2988 \nL 1269 2988 \nL 1269 878 \nQ 1269 456 1350 337 \nQ 1431 219 1650 219 \nQ 1875 219 1978 351 \nQ 2081 484 2088 781 \nL 2522 781 \nQ 2497 328 2275 118 \nQ 2053 -91 1600 -91 \nQ 1103 -91 897 129 \nQ 691 350 691 878 \nL 691 2988 \nz\n\" transform=\"scale(0.015625)\"/>\n       <path id=\"DejaVuSerif-6e\" d=\"M 263 0 \nL 263 331 \nL 781 331 \nL 781 2988 \nL 231 2988 \nL 231 3322 \nL 1356 3322 \nL 1356 2731 \nQ 1516 3069 1770 3241 \nQ 2025 3413 2363 3413 \nQ 2913 3413 3172 3097 \nQ 3431 2781 3431 2113 \nL 3431 331 \nL 3944 331 \nL 3944 0 \nL 2356 0 \nL 2356 331 \nL 2853 331 \nL 2853 1931 \nQ 2853 2541 2703 2767 \nQ 2553 2994 2175 2994 \nQ 1775 2994 1565 2701 \nQ 1356 2409 1356 1850 \nL 1356 331 \nL 1856 331 \nL 1856 0 \nL 263 0 \nz\n\" transform=\"scale(0.015625)\"/>\n      </defs>\n      <use xlink:href=\"#DejaVuSans-Oblique-79\" transform=\"translate(0 0.015625)\"/>\n      <use xlink:href=\"#DejaVuSans-28\" transform=\"translate(59.179688 0.015625)\"/>\n      <use xlink:href=\"#DejaVuSans-Oblique-74\" transform=\"translate(98.193359 0.015625)\"/>\n      <use xlink:href=\"#DejaVuSans-29\" transform=\"translate(137.402344 0.015625)\"/>\n      <use xlink:href=\"#DejaVuSerif-20\" transform=\"translate(176.416016 0.015625)\"/>\n      <use xlink:href=\"#DejaVuSerif-28\" transform=\"translate(208.203125 0.015625)\"/>\n      <use xlink:href=\"#DejaVuSerif-50\" transform=\"translate(247.216797 0.015625)\"/>\n      <use xlink:href=\"#DejaVuSerif-6f\" transform=\"translate(314.501953 0.015625)\"/>\n      <use xlink:href=\"#DejaVuSerif-73\" transform=\"translate(374.707031 0.015625)\"/>\n      <use xlink:href=\"#DejaVuSerif-69\" transform=\"translate(426.025391 0.015625)\"/>\n      <use xlink:href=\"#DejaVuSerif-74\" transform=\"translate(458.007812 0.015625)\"/>\n      <use xlink:href=\"#DejaVuSerif-69\" transform=\"translate(498.193359 0.015625)\"/>\n      <use xlink:href=\"#DejaVuSerif-6f\" transform=\"translate(530.175781 0.015625)\"/>\n      <use xlink:href=\"#DejaVuSerif-6e\" transform=\"translate(590.380859 0.015625)\"/>\n      <use xlink:href=\"#DejaVuSerif-29\" transform=\"translate(654.785156 0.015625)\"/>\n     </g>\n    </g>\n   </g>\n   <g id=\"FillBetweenPolyCollection_1\">\n    <defs>\n     <path id=\"m220d26176f\" d=\"M 58.151697 -310.067429 \nL 58.151697 -263.186555 \nL 61.928208 -258.608868 \nL 65.704719 -243.919886 \nL 69.48123 -214.986504 \nL 73.257741 -175.06385 \nL 77.034252 -131.49983 \nL 80.810763 -94.492485 \nL 84.587273 -65.514765 \nL 88.363784 -50.706266 \nL 92.140295 -45.902946 \nL 95.916806 -47.643699 \nL 99.693317 -44.61705 \nL 103.469828 -42.591009 \nL 107.246338 -47.672604 \nL 111.022849 -59.391314 \nL 114.79936 -58.986654 \nL 118.575871 -65.349997 \nL 122.352382 -72.607602 \nL 126.128893 -91.236105 \nL 129.905404 -108.72624 \nL 133.681914 -103.173059 \nL 137.458425 -103.625277 \nL 141.234936 -99.302982 \nL 145.011447 -88.312226 \nL 148.787958 -70.203626 \nL 152.564469 -60.749319 \nL 156.340979 -59.76669 \nL 160.11749 -63.35155 \nL 163.894001 -58.143297 \nL 167.670512 -59.918101 \nL 171.447023 -60.134843 \nL 175.223534 -63.707632 \nL 179.000045 -61.094125 \nL 182.776555 -58.01605 \nL 186.553066 -56.086836 \nL 190.329577 -54.478175 \nL 194.106088 -56.711052 \nL 197.882599 -60.942507 \nL 201.65911 -66.087175 \nL 205.43562 -60.005465 \nL 209.212131 -62.817721 \nL 212.988642 -68.908608 \nL 216.765153 -72.044458 \nL 220.541664 -65.286364 \nL 224.318175 -67.742753 \nL 228.094686 -72.941796 \nL 231.871196 -72.363945 \nL 235.647707 -65.867685 \nL 239.424218 -63.969052 \nL 243.200729 -66.005225 \nL 246.97724 -69.878238 \nL 250.753751 -70.815716 \nL 254.530261 -70.369403 \nL 258.306772 -72.344782 \nL 262.083283 -69.602367 \nL 265.859794 -67.081917 \nL 269.636305 -61.351473 \nL 273.412816 -68.247459 \nL 277.189327 -69.083363 \nL 280.965837 -66.868122 \nL 284.742348 -64.446286 \nL 288.518859 -67.670986 \nL 292.29537 -71.65602 \nL 296.071881 -76.351274 \nL 299.848392 -75.038892 \nL 303.624903 -75.673392 \nL 307.401413 -71.347583 \nL 311.177924 -71.446638 \nL 314.954435 -73.280701 \nL 318.730946 -74.86097 \nL 322.507457 -76.836572 \nL 326.283968 -76.811807 \nL 330.060478 -79.715211 \nL 333.836989 -78.032524 \nL 337.6135 -79.316519 \nL 341.390011 -79.76336 \nL 345.166522 -74.972446 \nL 348.943033 -76.600654 \nL 352.719544 -72.826743 \nL 356.496054 -73.746934 \nL 360.272565 -75.073248 \nL 364.049076 -75.209132 \nL 367.825587 -71.776099 \nL 371.602098 -70.627732 \nL 375.378609 -70.255225 \nL 379.155119 -75.849055 \nL 382.93163 -76.490231 \nL 386.708141 -75.787481 \nL 390.484652 -82.710577 \nL 394.261163 -82.722766 \nL 398.037674 -80.899201 \nL 401.814185 -83.252096 \nL 405.590695 -87.153796 \nL 409.367206 -81.343816 \nL 413.143717 -83.943633 \nL 416.920228 -82.100508 \nL 420.696739 -85.856944 \nL 424.47325 -81.99794 \nL 428.24976 -81.48482 \nL 432.026271 -83.888453 \nL 432.026271 -266.215024 \nL 432.026271 -266.215024 \nL 428.24976 -268.508756 \nL 424.47325 -273.414248 \nL 420.696739 -271.600265 \nL 416.920228 -270.743171 \nL 413.143717 -266.515885 \nL 409.367206 -262.556204 \nL 405.590695 -267.683349 \nL 401.814185 -267.854505 \nL 398.037674 -270.827079 \nL 394.261163 -269.847478 \nL 390.484652 -267.334029 \nL 386.708141 -268.601327 \nL 382.93163 -267.922669 \nL 379.155119 -262.616763 \nL 375.378609 -266.946013 \nL 371.602098 -265.430558 \nL 367.825587 -258.984167 \nL 364.049076 -263.878759 \nL 360.272565 -273.470623 \nL 356.496054 -272.800264 \nL 352.719544 -269.394459 \nL 348.943033 -272.616106 \nL 345.166522 -270.416264 \nL 341.390011 -268.322081 \nL 337.6135 -273.615613 \nL 333.836989 -276.782856 \nL 330.060478 -276.1411 \nL 326.283968 -274.46577 \nL 322.507457 -271.279784 \nL 318.730946 -275.866969 \nL 314.954435 -277.473546 \nL 311.177924 -281.089532 \nL 307.401413 -275.293076 \nL 303.624903 -277.006144 \nL 299.848392 -274.249669 \nL 296.071881 -273.779962 \nL 292.29537 -270.887216 \nL 288.518859 -266.933861 \nL 284.742348 -272.465924 \nL 280.965837 -274.283876 \nL 277.189327 -275.012845 \nL 273.412816 -278.507111 \nL 269.636305 -276.285009 \nL 265.859794 -268.157785 \nL 262.083283 -274.236908 \nL 258.306772 -275.719749 \nL 254.530261 -281.201051 \nL 250.753751 -277.403809 \nL 246.97724 -277.781441 \nL 243.200729 -281.570697 \nL 239.424218 -290.307266 \nL 235.647707 -288.3112 \nL 231.871196 -286.086601 \nL 228.094686 -286.592763 \nL 224.318175 -283.867129 \nL 220.541664 -281.119117 \nL 216.765153 -279.100633 \nL 212.988642 -276.616048 \nL 209.212131 -281.446595 \nL 205.43562 -282.773119 \nL 201.65911 -285.743551 \nL 197.882599 -280.386606 \nL 194.106088 -275.697271 \nL 190.329577 -284.333032 \nL 186.553066 -286.125687 \nL 182.776555 -280.806438 \nL 179.000045 -276.38983 \nL 175.223534 -274.648726 \nL 171.447023 -278.623675 \nL 167.670512 -273.846777 \nL 163.894001 -276.708547 \nL 160.11749 -276.692704 \nL 156.340979 -284.221395 \nL 152.564469 -293.652238 \nL 148.787958 -295.499933 \nL 145.011447 -296.94997 \nL 141.234936 -293.751805 \nL 137.458425 -290.636135 \nL 133.681914 -293.591952 \nL 129.905404 -295.368566 \nL 126.128893 -290.000489 \nL 122.352382 -294.557571 \nL 118.575871 -285.748711 \nL 114.79936 -272.083958 \nL 111.022849 -250.008455 \nL 107.246338 -214.139711 \nL 103.469828 -171.769931 \nL 99.693317 -129.44861 \nL 95.916806 -122.613144 \nL 92.140295 -134.741332 \nL 88.363784 -157.993237 \nL 84.587273 -182.062956 \nL 80.810763 -205.839036 \nL 77.034252 -232.205619 \nL 73.257741 -253.624546 \nL 69.48123 -272.45141 \nL 65.704719 -292.189679 \nL 61.928208 -305.061314 \nL 58.151697 -310.067429 \nz\n\" style=\"stroke: #ffffff; stroke-opacity: 0.3; stroke-width: 0.8\"/>\n    </defs>\n    <g clip-path=\"url(#pedad475413)\">\n     <use xlink:href=\"#m220d26176f\" x=\"0\" y=\"342.72\" style=\"fill: #4c72b0; fill-opacity: 0.3; stroke: #ffffff; stroke-opacity: 0.3; stroke-width: 0.8\"/>\n    </g>\n   </g>\n   <g id=\"line2d_12\">\n    <path d=\"M 58.151697 53.656121 \nL 61.928208 59.079892 \nL 65.704719 75.814082 \nL 69.48123 100.417235 \nL 73.257741 132.404302 \nL 77.034252 163.736965 \nL 80.810763 199.272974 \nL 84.587273 227.582129 \nL 88.363784 252.016536 \nL 92.140295 267.961718 \nL 95.916806 270.602109 \nL 99.693317 268.534401 \nL 103.469828 257.957017 \nL 107.246338 237.723677 \nL 111.022849 210.953301 \nL 114.79936 179.60189 \nL 118.575871 145.614513 \nL 122.352382 118.322997 \nL 126.128893 96.528816 \nL 129.905404 92.385243 \nL 133.681914 89.550155 \nL 137.458425 87.729797 \nL 141.234936 96.12956 \nL 145.011447 108.511506 \nL 148.787958 129.521491 \nL 152.564469 157.592813 \nL 156.340979 182.839713 \nL 160.11749 209.372966 \nL 163.894001 215.597664 \nL 167.670512 213.001507 \nL 171.447023 221.908756 \nL 175.223534 229.164713 \nL 179.000045 220.923342 \nL 182.776555 209.862388 \nL 186.553066 195.49058 \nL 190.329577 170.201236 \nL 194.106088 162.231611 \nL 197.882599 151.27739 \nL 201.65911 154.020061 \nL 205.43562 162.289869 \nL 209.212131 145.007278 \nL 212.988642 135.786416 \nL 216.765153 145.437133 \nL 220.541664 153.078922 \nL 224.318175 159.499829 \nL 228.094686 172.225449 \nL 231.871196 174.00187 \nL 235.647707 165.808388 \nL 239.424218 154.940849 \nL 243.200729 151.444163 \nL 246.97724 170.594812 \nL 250.753751 178.727047 \nL 254.530261 175.10918 \nL 258.306772 165.683624 \nL 262.083283 167.709565 \nL 265.859794 171.092105 \nL 269.636305 175.805936 \nL 273.412816 189.385037 \nL 277.189327 171.066504 \nL 280.965837 180.779471 \nL 284.742348 178.940463 \nL 288.518859 172.043828 \nL 292.29537 180.053356 \nL 296.071881 169.744075 \nL 299.848392 166.582917 \nL 303.624903 166.906371 \nL 307.401413 158.703589 \nL 311.177924 153.050223 \nL 314.954435 160.946283 \nL 318.730946 157.279339 \nL 322.507457 154.253254 \nL 326.283968 159.133225 \nL 330.060478 166.464864 \nL 333.836989 164.523213 \nL 337.6135 171.039784 \nL 341.390011 171.882634 \nL 345.166522 169.333684 \nL 348.943033 173.167658 \nL 352.719544 175.380755 \nL 356.496054 166.696691 \nL 360.272565 166.536061 \nL 364.049076 172.002407 \nL 367.825587 175.298682 \nL 371.602098 162.416279 \nL 375.378609 171.612447 \nL 379.155119 179.59854 \nL 382.93163 169.746643 \nL 386.708141 175.314652 \nL 390.484652 186.887187 \nL 394.261163 185.733625 \nL 398.037674 187.014271 \nL 401.814185 179.254743 \nL 405.590695 173.00015 \nL 409.367206 159.484691 \nL 413.143717 158.029381 \nL 416.920228 158.32977 \nL 420.696739 155.746215 \nL 424.47325 150.700187 \nL 428.24976 143.766305 \nL 432.026271 151.013002 \n\" clip-path=\"url(#pedad475413)\" style=\"fill: none; stroke: #4c72b0; stroke-linecap: round\"/>\n   </g>\n   <g id=\"patch_3\">\n    <path d=\"M 39.457969 284.637609 \nL 39.457969 53.868419 \n\" style=\"fill: none; stroke: #262626; stroke-width: 0.5; stroke-linejoin: miter; stroke-linecap: square\"/>\n   </g>\n   <g id=\"patch_4\">\n    <path d=\"M 58.151697 313.502813 \nL 432.026271 313.502813 \n\" style=\"fill: none; stroke: #262626; stroke-width: 0.5; stroke-linejoin: miter; stroke-linecap: square\"/>\n   </g>\n   <g id=\"text_14\">\n    <!-- Mean Position with 95% Confidence Interval -->\n    <g style=\"fill: #262626\" transform=\"translate(154.503984 13.27875) scale(0.08 -0.08)\">\n     <defs>\n      <path id=\"DejaVuSerif-4d\" d=\"M 353 0 \nL 353 331 \nL 947 331 \nL 947 4331 \nL 319 4331 \nL 319 4666 \nL 1678 4666 \nL 3316 1344 \nL 4953 4666 \nL 6228 4666 \nL 6228 4331 \nL 5606 4331 \nL 5606 331 \nL 6203 331 \nL 6203 0 \nL 4378 0 \nL 4378 331 \nL 4972 331 \nL 4972 3938 \nL 3372 684 \nL 2931 684 \nL 1331 3938 \nL 1331 331 \nL 1925 331 \nL 1925 0 \nL 353 0 \nz\n\" transform=\"scale(0.015625)\"/>\n      <path id=\"DejaVuSerif-61\" d=\"M 2547 1044 \nL 2547 1747 \nL 1806 1747 \nQ 1378 1747 1168 1562 \nQ 959 1378 959 997 \nQ 959 650 1171 447 \nQ 1384 244 1747 244 \nQ 2106 244 2326 466 \nQ 2547 688 2547 1044 \nz\nM 3122 2075 \nL 3122 331 \nL 3634 331 \nL 3634 0 \nL 2547 0 \nL 2547 359 \nQ 2356 128 2106 18 \nQ 1856 -91 1522 -91 \nQ 969 -91 644 203 \nQ 319 497 319 997 \nQ 319 1513 691 1797 \nQ 1063 2081 1741 2081 \nL 2547 2081 \nL 2547 2309 \nQ 2547 2688 2317 2895 \nQ 2088 3103 1672 3103 \nQ 1328 3103 1125 2947 \nQ 922 2791 872 2484 \nL 575 2484 \nL 575 3156 \nQ 875 3284 1158 3348 \nQ 1441 3413 1709 3413 \nQ 2400 3413 2761 3070 \nQ 3122 2728 3122 2075 \nz\n\" transform=\"scale(0.015625)\"/>\n      <path id=\"DejaVuSerif-77\" d=\"M 3072 3322 \nL 3922 728 \nL 4672 2988 \nL 4191 2988 \nL 4191 3322 \nL 5394 3322 \nL 5394 2988 \nL 5025 2988 \nL 4038 0 \nL 3559 0 \nL 2741 2484 \nL 1919 0 \nL 1459 0 \nL 475 2988 \nL 103 2988 \nL 103 3322 \nL 1606 3322 \nL 1606 2988 \nL 1069 2988 \nL 1813 728 \nL 2669 3322 \nL 3072 3322 \nz\n\" transform=\"scale(0.015625)\"/>\n      <path id=\"DejaVuSerif-68\" d=\"M 263 0 \nL 263 331 \nL 781 331 \nL 781 4531 \nL 231 4531 \nL 231 4863 \nL 1356 4863 \nL 1356 2731 \nQ 1516 3069 1770 3241 \nQ 2025 3413 2363 3413 \nQ 2913 3413 3172 3097 \nQ 3431 2781 3431 2113 \nL 3431 331 \nL 3944 331 \nL 3944 0 \nL 2356 0 \nL 2356 331 \nL 2853 331 \nL 2853 1931 \nQ 2853 2541 2704 2764 \nQ 2556 2988 2175 2988 \nQ 1775 2988 1565 2697 \nQ 1356 2406 1356 1850 \nL 1356 331 \nL 1856 331 \nL 1856 0 \nL 263 0 \nz\n\" transform=\"scale(0.015625)\"/>\n      <path id=\"DejaVuSerif-39\" d=\"M 2994 2091 \nQ 2784 1856 2512 1740 \nQ 2241 1625 1900 1625 \nQ 1206 1625 804 2044 \nQ 403 2463 403 3188 \nQ 403 3897 839 4323 \nQ 1275 4750 2003 4750 \nQ 2794 4750 3217 4161 \nQ 3641 3572 3641 2478 \nQ 3641 1253 3137 581 \nQ 2634 -91 1722 -91 \nQ 1475 -91 1203 -44 \nQ 931 3 647 97 \nL 647 872 \nL 997 872 \nQ 1038 556 1241 387 \nQ 1444 219 1784 219 \nQ 2391 219 2687 676 \nQ 2984 1134 2994 2091 \nz\nM 1978 4441 \nQ 1534 4441 1298 4117 \nQ 1063 3794 1063 3188 \nQ 1063 2581 1298 2256 \nQ 1534 1931 1978 1931 \nQ 2422 1931 2658 2245 \nQ 2894 2559 2894 3150 \nQ 2894 3772 2656 4106 \nQ 2419 4441 1978 4441 \nz\n\" transform=\"scale(0.015625)\"/>\n      <path id=\"DejaVuSerif-25\" d=\"M 1434 4459 \nQ 1159 4459 1004 4200 \nQ 850 3941 850 3475 \nQ 850 3016 1008 2753 \nQ 1166 2491 1434 2491 \nQ 1700 2491 1854 2752 \nQ 2009 3013 2009 3475 \nQ 2009 3938 1854 4198 \nQ 1700 4459 1434 4459 \nz\nM 4653 2169 \nQ 4381 2169 4226 1906 \nQ 4072 1644 4072 1178 \nQ 4072 719 4228 458 \nQ 4384 197 4653 197 \nQ 4922 197 5075 458 \nQ 5228 719 5228 1178 \nQ 5228 1641 5073 1905 \nQ 4919 2169 4653 2169 \nz\nM 4653 2450 \nQ 5147 2450 5437 2106 \nQ 5728 1763 5728 1178 \nQ 5728 594 5436 251 \nQ 5144 -91 4653 -91 \nQ 4153 -91 3862 251 \nQ 3572 594 3572 1178 \nQ 3572 1766 3864 2108 \nQ 4156 2450 4653 2450 \nz\nM 4263 4750 \nL 4738 4750 \nL 1819 -91 \nL 1344 -91 \nL 4263 4750 \nz\nM 1428 4750 \nQ 1922 4750 2215 4408 \nQ 2509 4066 2509 3481 \nQ 2509 2891 2217 2550 \nQ 1925 2209 1428 2209 \nQ 931 2209 642 2551 \nQ 353 2894 353 3481 \nQ 353 4063 643 4406 \nQ 934 4750 1428 4750 \nz\n\" transform=\"scale(0.015625)\"/>\n      <path id=\"DejaVuSerif-43\" d=\"M 4513 1234 \nQ 4306 581 3820 245 \nQ 3334 -91 2591 -91 \nQ 2134 -91 1743 65 \nQ 1353 222 1050 525 \nQ 700 875 529 1320 \nQ 359 1766 359 2328 \nQ 359 3416 987 4083 \nQ 1616 4750 2644 4750 \nQ 3025 4750 3456 4650 \nQ 3888 4550 4384 4347 \nL 4384 3272 \nL 4031 3272 \nQ 3916 3859 3567 4137 \nQ 3219 4416 2591 4416 \nQ 1844 4416 1459 3886 \nQ 1075 3356 1075 2328 \nQ 1075 1303 1459 773 \nQ 1844 244 2591 244 \nQ 3113 244 3450 492 \nQ 3788 741 3938 1234 \nL 4513 1234 \nz\n\" transform=\"scale(0.015625)\"/>\n      <path id=\"DejaVuSerif-66\" d=\"M 2753 4078 \nL 2450 4078 \nQ 2447 4313 2317 4434 \nQ 2188 4556 1941 4556 \nQ 1619 4556 1487 4379 \nQ 1356 4203 1356 3750 \nL 1356 3322 \nL 2284 3322 \nL 2284 2988 \nL 1356 2988 \nL 1356 331 \nL 2094 331 \nL 2094 0 \nL 231 0 \nL 231 331 \nL 781 331 \nL 781 2988 \nL 231 2988 \nL 231 3322 \nL 781 3322 \nL 781 3738 \nQ 781 4294 1070 4578 \nQ 1359 4863 1919 4863 \nQ 2128 4863 2337 4825 \nQ 2547 4788 2753 4709 \nL 2753 4078 \nz\n\" transform=\"scale(0.015625)\"/>\n      <path id=\"DejaVuSerif-64\" d=\"M 3359 331 \nL 3909 331 \nL 3909 0 \nL 2784 0 \nL 2784 519 \nQ 2616 206 2355 57 \nQ 2094 -91 1709 -91 \nQ 1097 -91 708 395 \nQ 319 881 319 1663 \nQ 319 2444 706 2928 \nQ 1094 3413 1709 3413 \nQ 2094 3413 2355 3264 \nQ 2616 3116 2784 2803 \nL 2784 4531 \nL 2241 4531 \nL 2241 4863 \nL 3359 4863 \nL 3359 331 \nz\nM 2784 1497 \nL 2784 1825 \nQ 2784 2422 2554 2737 \nQ 2325 3053 1888 3053 \nQ 1444 3053 1217 2703 \nQ 991 2353 991 1663 \nQ 991 975 1217 622 \nQ 1444 269 1888 269 \nQ 2325 269 2554 583 \nQ 2784 897 2784 1497 \nz\n\" transform=\"scale(0.015625)\"/>\n      <path id=\"DejaVuSerif-63\" d=\"M 3291 997 \nQ 3169 466 2822 187 \nQ 2475 -91 1925 -91 \nQ 1200 -91 759 389 \nQ 319 869 319 1663 \nQ 319 2459 759 2936 \nQ 1200 3413 1925 3413 \nQ 2241 3413 2553 3339 \nQ 2866 3266 3181 3116 \nL 3181 2266 \nL 2847 2266 \nQ 2781 2703 2561 2903 \nQ 2341 3103 1931 3103 \nQ 1466 3103 1228 2742 \nQ 991 2381 991 1663 \nQ 991 944 1227 581 \nQ 1463 219 1931 219 \nQ 2303 219 2525 412 \nQ 2747 606 2828 997 \nL 3291 997 \nz\n\" transform=\"scale(0.015625)\"/>\n      <path id=\"DejaVuSerif-49\" d=\"M 1581 331 \nL 2175 331 \nL 2175 0 \nL 353 0 \nL 353 331 \nL 947 331 \nL 947 4331 \nL 353 4331 \nL 353 4666 \nL 2175 4666 \nL 2175 4331 \nL 1581 4331 \nL 1581 331 \nz\n\" transform=\"scale(0.015625)\"/>\n      <path id=\"DejaVuSerif-72\" d=\"M 3059 3328 \nL 3059 2497 \nL 2728 2497 \nQ 2713 2744 2591 2866 \nQ 2469 2988 2234 2988 \nQ 1809 2988 1582 2694 \nQ 1356 2400 1356 1850 \nL 1356 331 \nL 2022 331 \nL 2022 0 \nL 263 0 \nL 263 331 \nL 781 331 \nL 781 2994 \nL 231 2994 \nL 231 3322 \nL 1356 3322 \nL 1356 2731 \nQ 1525 3078 1790 3245 \nQ 2056 3413 2438 3413 \nQ 2578 3413 2733 3391 \nQ 2888 3369 3059 3328 \nz\n\" transform=\"scale(0.015625)\"/>\n      <path id=\"DejaVuSerif-76\" d=\"M 1581 0 \nL 359 2988 \nL -19 2988 \nL -19 3322 \nL 1509 3322 \nL 1509 2988 \nL 978 2988 \nL 1913 703 \nL 2847 2988 \nL 2350 2988 \nL 2350 3322 \nL 3597 3322 \nL 3597 2988 \nL 3225 2988 \nL 2003 0 \nL 1581 0 \nz\n\" transform=\"scale(0.015625)\"/>\n      <path id=\"DejaVuSerif-6c\" d=\"M 1313 331 \nL 1856 331 \nL 1856 0 \nL 184 0 \nL 184 331 \nL 738 331 \nL 738 4531 \nL 184 4531 \nL 184 4863 \nL 1313 4863 \nL 1313 331 \nz\n\" transform=\"scale(0.015625)\"/>\n     </defs>\n     <use xlink:href=\"#DejaVuSerif-4d\"/>\n     <use xlink:href=\"#DejaVuSerif-65\" transform=\"translate(102.392578 0)\"/>\n     <use xlink:href=\"#DejaVuSerif-61\" transform=\"translate(161.572266 0)\"/>\n     <use xlink:href=\"#DejaVuSerif-6e\" transform=\"translate(221.191406 0)\"/>\n     <use xlink:href=\"#DejaVuSerif-20\" transform=\"translate(285.595703 0)\"/>\n     <use xlink:href=\"#DejaVuSerif-50\" transform=\"translate(317.382812 0)\"/>\n     <use xlink:href=\"#DejaVuSerif-6f\" transform=\"translate(380.667969 0)\"/>\n     <use xlink:href=\"#DejaVuSerif-73\" transform=\"translate(440.873047 0)\"/>\n     <use xlink:href=\"#DejaVuSerif-69\" transform=\"translate(492.191406 0)\"/>\n     <use xlink:href=\"#DejaVuSerif-74\" transform=\"translate(524.173828 0)\"/>\n     <use xlink:href=\"#DejaVuSerif-69\" transform=\"translate(564.359375 0)\"/>\n     <use xlink:href=\"#DejaVuSerif-6f\" transform=\"translate(596.341797 0)\"/>\n     <use xlink:href=\"#DejaVuSerif-6e\" transform=\"translate(656.546875 0)\"/>\n     <use xlink:href=\"#DejaVuSerif-20\" transform=\"translate(720.951172 0)\"/>\n     <use xlink:href=\"#DejaVuSerif-77\" transform=\"translate(752.738281 0)\"/>\n     <use xlink:href=\"#DejaVuSerif-69\" transform=\"translate(838.333984 0)\"/>\n     <use xlink:href=\"#DejaVuSerif-74\" transform=\"translate(870.316406 0)\"/>\n     <use xlink:href=\"#DejaVuSerif-68\" transform=\"translate(910.501953 0)\"/>\n     <use xlink:href=\"#DejaVuSerif-20\" transform=\"translate(974.90625 0)\"/>\n     <use xlink:href=\"#DejaVuSerif-39\" transform=\"translate(1006.693359 0)\"/>\n     <use xlink:href=\"#DejaVuSerif-35\" transform=\"translate(1070.316406 0)\"/>\n     <use xlink:href=\"#DejaVuSerif-25\" transform=\"translate(1133.939453 0)\"/>\n     <use xlink:href=\"#DejaVuSerif-20\" transform=\"translate(1228.958984 0)\"/>\n     <use xlink:href=\"#DejaVuSerif-43\" transform=\"translate(1260.746094 0)\"/>\n     <use xlink:href=\"#DejaVuSerif-6f\" transform=\"translate(1337.259766 0)\"/>\n     <use xlink:href=\"#DejaVuSerif-6e\" transform=\"translate(1397.464844 0)\"/>\n     <use xlink:href=\"#DejaVuSerif-66\" transform=\"translate(1461.869141 0)\"/>\n     <use xlink:href=\"#DejaVuSerif-69\" transform=\"translate(1498.880859 0)\"/>\n     <use xlink:href=\"#DejaVuSerif-64\" transform=\"translate(1530.863281 0)\"/>\n     <use xlink:href=\"#DejaVuSerif-65\" transform=\"translate(1594.876953 0)\"/>\n     <use xlink:href=\"#DejaVuSerif-6e\" transform=\"translate(1654.056641 0)\"/>\n     <use xlink:href=\"#DejaVuSerif-63\" transform=\"translate(1718.460938 0)\"/>\n     <use xlink:href=\"#DejaVuSerif-65\" transform=\"translate(1774.466797 0)\"/>\n     <use xlink:href=\"#DejaVuSerif-20\" transform=\"translate(1833.646484 0)\"/>\n     <use xlink:href=\"#DejaVuSerif-49\" transform=\"translate(1865.433594 0)\"/>\n     <use xlink:href=\"#DejaVuSerif-6e\" transform=\"translate(1904.935547 0)\"/>\n     <use xlink:href=\"#DejaVuSerif-74\" transform=\"translate(1969.339844 0)\"/>\n     <use xlink:href=\"#DejaVuSerif-65\" transform=\"translate(2009.525391 0)\"/>\n     <use xlink:href=\"#DejaVuSerif-72\" transform=\"translate(2068.705078 0)\"/>\n     <use xlink:href=\"#DejaVuSerif-76\" transform=\"translate(2116.507812 0)\"/>\n     <use xlink:href=\"#DejaVuSerif-61\" transform=\"translate(2173.001953 0)\"/>\n     <use xlink:href=\"#DejaVuSerif-6c\" transform=\"translate(2232.621094 0)\"/>\n    </g>\n   </g>\n   <g id=\"legend_1\">\n    <g id=\"line2d_13\">\n     <path d=\"M 374.353281 28.447656 \nL 381.353281 28.447656 \nL 388.353281 28.447656 \n\" style=\"fill: none; stroke: #4c72b0; stroke-linecap: round\"/>\n    </g>\n    <g id=\"text_15\">\n     <!-- Mean Position -->\n     <g style=\"fill: #262626\" transform=\"translate(393.953281 30.897656) scale(0.07 -0.07)\">\n      <use xlink:href=\"#DejaVuSerif-4d\"/>\n      <use xlink:href=\"#DejaVuSerif-65\" transform=\"translate(102.392578 0)\"/>\n      <use xlink:href=\"#DejaVuSerif-61\" transform=\"translate(161.572266 0)\"/>\n      <use xlink:href=\"#DejaVuSerif-6e\" transform=\"translate(221.191406 0)\"/>\n      <use xlink:href=\"#DejaVuSerif-20\" transform=\"translate(285.595703 0)\"/>\n      <use xlink:href=\"#DejaVuSerif-50\" transform=\"translate(317.382812 0)\"/>\n      <use xlink:href=\"#DejaVuSerif-6f\" transform=\"translate(380.667969 0)\"/>\n      <use xlink:href=\"#DejaVuSerif-73\" transform=\"translate(440.873047 0)\"/>\n      <use xlink:href=\"#DejaVuSerif-69\" transform=\"translate(492.191406 0)\"/>\n      <use xlink:href=\"#DejaVuSerif-74\" transform=\"translate(524.173828 0)\"/>\n      <use xlink:href=\"#DejaVuSerif-69\" transform=\"translate(564.359375 0)\"/>\n      <use xlink:href=\"#DejaVuSerif-6f\" transform=\"translate(596.341797 0)\"/>\n      <use xlink:href=\"#DejaVuSerif-6e\" transform=\"translate(656.546875 0)\"/>\n     </g>\n    </g>\n    <g id=\"patch_5\">\n     <path d=\"M 374.353281 41.172344 \nL 388.353281 41.172344 \nL 388.353281 36.272344 \nL 374.353281 36.272344 \nz\n\" style=\"fill: #4c72b0; fill-opacity: 0.3; stroke: #ffffff; stroke-opacity: 0.3; stroke-width: 0.8; stroke-linejoin: miter\"/>\n    </g>\n    <g id=\"text_16\">\n     <!-- 95% CI -->\n     <g style=\"fill: #262626\" transform=\"translate(393.953281 41.172344) scale(0.07 -0.07)\">\n      <use xlink:href=\"#DejaVuSerif-39\"/>\n      <use xlink:href=\"#DejaVuSerif-35\" transform=\"translate(63.623047 0)\"/>\n      <use xlink:href=\"#DejaVuSerif-25\" transform=\"translate(127.246094 0)\"/>\n      <use xlink:href=\"#DejaVuSerif-20\" transform=\"translate(222.265625 0)\"/>\n      <use xlink:href=\"#DejaVuSerif-43\" transform=\"translate(254.052734 0)\"/>\n      <use xlink:href=\"#DejaVuSerif-49\" transform=\"translate(330.566406 0)\"/>\n     </g>\n    </g>\n   </g>\n  </g>\n </g>\n <defs>\n  <clipPath id=\"pedad475413\">\n   <rect x=\"39.457969\" y=\"19.27875\" width=\"411.262031\" height=\"294.224063\"/>\n  </clipPath>\n </defs>\n</svg>\n"
          },
          "metadata": {}
        },
        {
          "output_type": "display_data",
          "data": {
            "text/plain": [
              "<Figure size 3840x2880 with 1 Axes>"
            ],
            "image/svg+xml": "<?xml version=\"1.0\" encoding=\"utf-8\" standalone=\"no\"?>\n<!DOCTYPE svg PUBLIC \"-//W3C//DTD SVG 1.1//EN\"\n  \"http://www.w3.org/Graphics/SVG/1.1/DTD/svg11.dtd\">\n<svg xmlns:xlink=\"http://www.w3.org/1999/xlink\" width=\"457.92pt\" height=\"342.72pt\" viewBox=\"0 0 457.92 342.72\" xmlns=\"http://www.w3.org/2000/svg\" version=\"1.1\">\n <metadata>\n  <rdf:RDF xmlns:dc=\"http://purl.org/dc/elements/1.1/\" xmlns:cc=\"http://creativecommons.org/ns#\" xmlns:rdf=\"http://www.w3.org/1999/02/22-rdf-syntax-ns#\">\n   <cc:Work>\n    <dc:type rdf:resource=\"http://purl.org/dc/dcmitype/StillImage\"/>\n    <dc:date>2025-07-08T23:53:25.087694</dc:date>\n    <dc:format>image/svg+xml</dc:format>\n    <dc:creator>\n     <cc:Agent>\n      <dc:title>Matplotlib v3.10.0, https://matplotlib.org/</dc:title>\n     </cc:Agent>\n    </dc:creator>\n   </cc:Work>\n  </rdf:RDF>\n </metadata>\n <defs>\n  <style type=\"text/css\">*{stroke-linejoin: round; stroke-linecap: butt}</style>\n </defs>\n <g id=\"figure_1\">\n  <g id=\"patch_1\">\n   <path d=\"M 0 342.72 \nL 457.92 342.72 \nL 457.92 0 \nL 0 0 \nz\n\" style=\"fill: #ffffff\"/>\n  </g>\n  <g id=\"axes_1\">\n   <g id=\"patch_2\">\n    <path d=\"M 45.031719 313.502813 \nL 450.72 313.502813 \nL 450.72 19.27875 \nL 45.031719 19.27875 \nz\n\" style=\"fill: #ffffff\"/>\n   </g>\n   <g id=\"matplotlib.axis_1\">\n    <g id=\"xtick_1\">\n     <g id=\"line2d_1\"/>\n     <g id=\"text_1\">\n      <!-- 0 -->\n      <g style=\"fill: #262626\" transform=\"translate(61.24522 322.321719) scale(0.07 -0.07)\">\n       <defs>\n        <path id=\"DejaVuSerif-30\" d=\"M 2034 219 \nQ 2513 219 2750 744 \nQ 2988 1269 2988 2328 \nQ 2988 3391 2750 3916 \nQ 2513 4441 2034 4441 \nQ 1556 4441 1318 3916 \nQ 1081 3391 1081 2328 \nQ 1081 1269 1318 744 \nQ 1556 219 2034 219 \nz\nM 2034 -91 \nQ 1275 -91 848 546 \nQ 422 1184 422 2328 \nQ 422 3475 848 4112 \nQ 1275 4750 2034 4750 \nQ 2797 4750 3222 4112 \nQ 3647 3475 3647 2328 \nQ 3647 1184 3222 546 \nQ 2797 -91 2034 -91 \nz\n\" transform=\"scale(0.015625)\"/>\n       </defs>\n       <use xlink:href=\"#DejaVuSerif-30\"/>\n      </g>\n     </g>\n    </g>\n    <g id=\"xtick_2\">\n     <g id=\"line2d_2\"/>\n     <g id=\"text_2\">\n      <!-- 1 -->\n      <g style=\"fill: #262626\" transform=\"translate(135.006726 322.321719) scale(0.07 -0.07)\">\n       <defs>\n        <path id=\"DejaVuSerif-31\" d=\"M 909 0 \nL 909 331 \nL 1722 331 \nL 1722 4213 \nL 781 3603 \nL 781 4013 \nL 1919 4750 \nL 2350 4750 \nL 2350 331 \nL 3163 331 \nL 3163 0 \nL 909 0 \nz\n\" transform=\"scale(0.015625)\"/>\n       </defs>\n       <use xlink:href=\"#DejaVuSerif-31\"/>\n      </g>\n     </g>\n    </g>\n    <g id=\"xtick_3\">\n     <g id=\"line2d_3\"/>\n     <g id=\"text_3\">\n      <!-- 2 -->\n      <g style=\"fill: #262626\" transform=\"translate(208.768232 322.321719) scale(0.07 -0.07)\">\n       <defs>\n        <path id=\"DejaVuSerif-32\" d=\"M 819 3553 \nL 469 3553 \nL 469 4384 \nQ 803 4563 1142 4656 \nQ 1481 4750 1806 4750 \nQ 2534 4750 2956 4397 \nQ 3378 4044 3378 3438 \nQ 3378 2753 2422 1800 \nQ 2347 1728 2309 1691 \nL 1131 513 \nL 3078 513 \nL 3078 1088 \nL 3444 1088 \nL 3444 0 \nL 434 0 \nL 434 341 \nL 1850 1753 \nQ 2319 2222 2519 2614 \nQ 2719 3006 2719 3438 \nQ 2719 3909 2473 4175 \nQ 2228 4441 1797 4441 \nQ 1350 4441 1106 4219 \nQ 863 3997 819 3553 \nz\n\" transform=\"scale(0.015625)\"/>\n       </defs>\n       <use xlink:href=\"#DejaVuSerif-32\"/>\n      </g>\n     </g>\n    </g>\n    <g id=\"xtick_4\">\n     <g id=\"line2d_4\"/>\n     <g id=\"text_4\">\n      <!-- 3 -->\n      <g style=\"fill: #262626\" transform=\"translate(282.529737 322.321719) scale(0.07 -0.07)\">\n       <defs>\n        <path id=\"DejaVuSerif-33\" d=\"M 622 4469 \nQ 988 4606 1323 4678 \nQ 1659 4750 1953 4750 \nQ 2638 4750 3022 4454 \nQ 3406 4159 3406 3634 \nQ 3406 3213 3140 2930 \nQ 2875 2647 2388 2547 \nQ 2963 2466 3280 2130 \nQ 3597 1794 3597 1259 \nQ 3597 606 3158 257 \nQ 2719 -91 1894 -91 \nQ 1528 -91 1179 -12 \nQ 831 66 488 225 \nL 488 1131 \nL 838 1131 \nQ 869 681 1141 450 \nQ 1413 219 1906 219 \nQ 2384 219 2661 495 \nQ 2938 772 2938 1253 \nQ 2938 1803 2653 2086 \nQ 2369 2369 1819 2369 \nL 1522 2369 \nL 1522 2688 \nL 1678 2688 \nQ 2225 2688 2498 2914 \nQ 2772 3141 2772 3597 \nQ 2772 4006 2547 4223 \nQ 2322 4441 1900 4441 \nQ 1478 4441 1245 4241 \nQ 1013 4041 972 3647 \nL 622 3647 \nL 622 4469 \nz\n\" transform=\"scale(0.015625)\"/>\n       </defs>\n       <use xlink:href=\"#DejaVuSerif-33\"/>\n      </g>\n     </g>\n    </g>\n    <g id=\"xtick_5\">\n     <g id=\"line2d_5\"/>\n     <g id=\"text_5\">\n      <!-- 4 -->\n      <g style=\"fill: #262626\" transform=\"translate(356.291243 322.321719) scale(0.07 -0.07)\">\n       <defs>\n        <path id=\"DejaVuSerif-34\" d=\"M 2234 1581 \nL 2234 4063 \nL 641 1581 \nL 2234 1581 \nz\nM 3609 0 \nL 1484 0 \nL 1484 331 \nL 2234 331 \nL 2234 1247 \nL 197 1247 \nL 197 1588 \nL 2241 4750 \nL 2859 4750 \nL 2859 1581 \nL 3750 1581 \nL 3750 1247 \nL 2859 1247 \nL 2859 331 \nL 3609 331 \nL 3609 0 \nz\n\" transform=\"scale(0.015625)\"/>\n       </defs>\n       <use xlink:href=\"#DejaVuSerif-34\"/>\n      </g>\n     </g>\n    </g>\n    <g id=\"xtick_6\">\n     <g id=\"line2d_6\"/>\n     <g id=\"text_6\">\n      <!-- 5 -->\n      <g style=\"fill: #262626\" transform=\"translate(430.052749 322.321719) scale(0.07 -0.07)\">\n       <defs>\n        <path id=\"DejaVuSerif-35\" d=\"M 3219 4666 \nL 3219 4153 \nL 1081 4153 \nL 1081 2816 \nQ 1244 2928 1461 2984 \nQ 1678 3041 1947 3041 \nQ 2703 3041 3140 2622 \nQ 3578 2203 3578 1478 \nQ 3578 738 3136 323 \nQ 2694 -91 1894 -91 \nQ 1572 -91 1234 -12 \nQ 897 66 544 225 \nL 544 1131 \nL 897 1131 \nQ 925 688 1179 453 \nQ 1434 219 1894 219 \nQ 2388 219 2653 544 \nQ 2919 869 2919 1478 \nQ 2919 2084 2655 2407 \nQ 2391 2731 1894 2731 \nQ 1613 2731 1398 2631 \nQ 1184 2531 1019 2322 \nL 750 2322 \nL 750 4666 \nL 3219 4666 \nz\n\" transform=\"scale(0.015625)\"/>\n       </defs>\n       <use xlink:href=\"#DejaVuSerif-35\"/>\n      </g>\n     </g>\n    </g>\n    <g id=\"text_7\">\n     <!-- $t$ (Time) -->\n     <g style=\"fill: #262626\" transform=\"translate(231.795859 333.85625) scale(0.08 -0.08)\">\n      <defs>\n       <path id=\"DejaVuSans-Oblique-74\" d=\"M 2706 3500 \nL 2619 3053 \nL 1472 3053 \nL 1100 1153 \nQ 1081 1047 1072 975 \nQ 1063 903 1063 863 \nQ 1063 663 1183 572 \nQ 1303 481 1569 481 \nL 2150 481 \nL 2053 0 \nL 1503 0 \nQ 991 0 739 200 \nQ 488 400 488 806 \nQ 488 878 497 964 \nQ 506 1050 525 1153 \nL 897 3053 \nL 409 3053 \nL 500 3500 \nL 978 3500 \nL 1172 4494 \nL 1747 4494 \nL 1556 3500 \nL 2706 3500 \nz\n\" transform=\"scale(0.015625)\"/>\n       <path id=\"DejaVuSerif-20\" transform=\"scale(0.015625)\"/>\n       <path id=\"DejaVuSerif-28\" d=\"M 2041 -997 \nQ 1281 -656 893 83 \nQ 506 822 506 1931 \nQ 506 3044 893 3783 \nQ 1281 4522 2041 4863 \nL 2041 4556 \nQ 1559 4225 1350 3623 \nQ 1141 3022 1141 1931 \nQ 1141 844 1350 242 \nQ 1559 -359 2041 -691 \nL 2041 -997 \nz\n\" transform=\"scale(0.015625)\"/>\n       <path id=\"DejaVuSerif-54\" d=\"M 1222 0 \nL 1222 331 \nL 1819 331 \nL 1819 4294 \nL 447 4294 \nL 447 3566 \nL 63 3566 \nL 63 4666 \nL 4206 4666 \nL 4206 3566 \nL 3822 3566 \nL 3822 4294 \nL 2450 4294 \nL 2450 331 \nL 3047 331 \nL 3047 0 \nL 1222 0 \nz\n\" transform=\"scale(0.015625)\"/>\n       <path id=\"DejaVuSerif-69\" d=\"M 622 4353 \nQ 622 4497 726 4603 \nQ 831 4709 978 4709 \nQ 1122 4709 1226 4603 \nQ 1331 4497 1331 4353 \nQ 1331 4206 1228 4103 \nQ 1125 4000 978 4000 \nQ 831 4000 726 4103 \nQ 622 4206 622 4353 \nz\nM 1356 331 \nL 1900 331 \nL 1900 0 \nL 231 0 \nL 231 331 \nL 781 331 \nL 781 2988 \nL 231 2988 \nL 231 3322 \nL 1356 3322 \nL 1356 331 \nz\n\" transform=\"scale(0.015625)\"/>\n       <path id=\"DejaVuSerif-6d\" d=\"M 3316 2675 \nQ 3481 3041 3739 3227 \nQ 3997 3413 4341 3413 \nQ 4863 3413 5119 3089 \nQ 5375 2766 5375 2113 \nL 5375 331 \nL 5894 331 \nL 5894 0 \nL 4300 0 \nL 4300 331 \nL 4800 331 \nL 4800 2047 \nQ 4800 2556 4650 2772 \nQ 4500 2988 4153 2988 \nQ 3769 2988 3567 2697 \nQ 3366 2406 3366 1850 \nL 3366 331 \nL 3866 331 \nL 3866 0 \nL 2291 0 \nL 2291 331 \nL 2791 331 \nL 2791 2069 \nQ 2791 2566 2641 2777 \nQ 2491 2988 2144 2988 \nQ 1759 2988 1557 2697 \nQ 1356 2406 1356 1850 \nL 1356 331 \nL 1856 331 \nL 1856 0 \nL 263 0 \nL 263 331 \nL 781 331 \nL 781 2994 \nL 231 2994 \nL 231 3322 \nL 1356 3322 \nL 1356 2731 \nQ 1516 3063 1762 3238 \nQ 2009 3413 2322 3413 \nQ 2709 3413 2968 3220 \nQ 3228 3028 3316 2675 \nz\n\" transform=\"scale(0.015625)\"/>\n       <path id=\"DejaVuSerif-65\" d=\"M 3469 1600 \nL 991 1600 \nL 991 1575 \nQ 991 903 1244 561 \nQ 1497 219 1991 219 \nQ 2369 219 2611 417 \nQ 2853 616 2950 1006 \nL 3413 1006 \nQ 3275 459 2904 184 \nQ 2534 -91 1931 -91 \nQ 1203 -91 761 389 \nQ 319 869 319 1663 \nQ 319 2450 753 2931 \nQ 1188 3413 1894 3413 \nQ 2647 3413 3050 2948 \nQ 3453 2484 3469 1600 \nz\nM 2791 1931 \nQ 2772 2513 2545 2808 \nQ 2319 3103 1894 3103 \nQ 1497 3103 1269 2806 \nQ 1041 2509 991 1931 \nL 2791 1931 \nz\n\" transform=\"scale(0.015625)\"/>\n       <path id=\"DejaVuSerif-29\" d=\"M 453 -997 \nL 453 -691 \nQ 934 -359 1145 242 \nQ 1356 844 1356 1931 \nQ 1356 3022 1145 3623 \nQ 934 4225 453 4556 \nL 453 4863 \nQ 1216 4522 1603 3783 \nQ 1991 3044 1991 1931 \nQ 1991 822 1603 83 \nQ 1216 -656 453 -997 \nz\n\" transform=\"scale(0.015625)\"/>\n      </defs>\n      <use xlink:href=\"#DejaVuSans-Oblique-74\" transform=\"translate(0 0.015625)\"/>\n      <use xlink:href=\"#DejaVuSerif-20\" transform=\"translate(39.208984 0.015625)\"/>\n      <use xlink:href=\"#DejaVuSerif-28\" transform=\"translate(70.996094 0.015625)\"/>\n      <use xlink:href=\"#DejaVuSerif-54\" transform=\"translate(110.009766 0.015625)\"/>\n      <use xlink:href=\"#DejaVuSerif-69\" transform=\"translate(176.708984 0.015625)\"/>\n      <use xlink:href=\"#DejaVuSerif-6d\" transform=\"translate(208.691406 0.015625)\"/>\n      <use xlink:href=\"#DejaVuSerif-65\" transform=\"translate(303.515625 0.015625)\"/>\n      <use xlink:href=\"#DejaVuSerif-29\" transform=\"translate(362.695312 0.015625)\"/>\n     </g>\n    </g>\n   </g>\n   <g id=\"matplotlib.axis_2\">\n    <g id=\"ytick_1\">\n     <g id=\"line2d_7\"/>\n     <g id=\"text_8\">\n      <!-- −10.0 -->\n      <g style=\"fill: #262626\" transform=\"translate(20.08 311.797876) scale(0.07 -0.07)\">\n       <defs>\n        <path id=\"DejaVuSerif-2212\" d=\"M 678 2259 \nL 4684 2259 \nL 4684 1753 \nL 678 1753 \nL 678 2259 \nz\n\" transform=\"scale(0.015625)\"/>\n        <path id=\"DejaVuSerif-2e\" d=\"M 603 325 \nQ 603 500 722 622 \nQ 841 744 1019 744 \nQ 1191 744 1312 622 \nQ 1434 500 1434 325 \nQ 1434 153 1312 31 \nQ 1191 -91 1019 -91 \nQ 841 -91 722 29 \nQ 603 150 603 325 \nz\n\" transform=\"scale(0.015625)\"/>\n       </defs>\n       <use xlink:href=\"#DejaVuSerif-2212\"/>\n       <use xlink:href=\"#DejaVuSerif-31\" transform=\"translate(83.789062 0)\"/>\n       <use xlink:href=\"#DejaVuSerif-30\" transform=\"translate(147.412109 0)\"/>\n       <use xlink:href=\"#DejaVuSerif-2e\" transform=\"translate(211.035156 0)\"/>\n       <use xlink:href=\"#DejaVuSerif-30\" transform=\"translate(242.822266 0)\"/>\n      </g>\n     </g>\n    </g>\n    <g id=\"ytick_2\">\n     <g id=\"line2d_8\"/>\n     <g id=\"text_9\">\n      <!-- −7.5 -->\n      <g style=\"fill: #262626\" transform=\"translate(24.53375 275.505328) scale(0.07 -0.07)\">\n       <defs>\n        <path id=\"DejaVuSerif-37\" d=\"M 3609 4347 \nL 1784 0 \nL 1319 0 \nL 3059 4153 \nL 903 4153 \nL 903 3578 \nL 538 3578 \nL 538 4666 \nL 3609 4666 \nL 3609 4347 \nz\n\" transform=\"scale(0.015625)\"/>\n       </defs>\n       <use xlink:href=\"#DejaVuSerif-2212\"/>\n       <use xlink:href=\"#DejaVuSerif-37\" transform=\"translate(83.789062 0)\"/>\n       <use xlink:href=\"#DejaVuSerif-2e\" transform=\"translate(147.412109 0)\"/>\n       <use xlink:href=\"#DejaVuSerif-35\" transform=\"translate(179.199219 0)\"/>\n      </g>\n     </g>\n    </g>\n    <g id=\"ytick_3\">\n     <g id=\"line2d_9\"/>\n     <g id=\"text_10\">\n      <!-- −5.0 -->\n      <g style=\"fill: #262626\" transform=\"translate(24.53375 239.21278) scale(0.07 -0.07)\">\n       <use xlink:href=\"#DejaVuSerif-2212\"/>\n       <use xlink:href=\"#DejaVuSerif-35\" transform=\"translate(83.789062 0)\"/>\n       <use xlink:href=\"#DejaVuSerif-2e\" transform=\"translate(147.412109 0)\"/>\n       <use xlink:href=\"#DejaVuSerif-30\" transform=\"translate(179.199219 0)\"/>\n      </g>\n     </g>\n    </g>\n    <g id=\"ytick_4\">\n     <g id=\"line2d_10\"/>\n     <g id=\"text_11\">\n      <!-- −2.5 -->\n      <g style=\"fill: #262626\" transform=\"translate(24.53375 202.920232) scale(0.07 -0.07)\">\n       <use xlink:href=\"#DejaVuSerif-2212\"/>\n       <use xlink:href=\"#DejaVuSerif-32\" transform=\"translate(83.789062 0)\"/>\n       <use xlink:href=\"#DejaVuSerif-2e\" transform=\"translate(147.412109 0)\"/>\n       <use xlink:href=\"#DejaVuSerif-35\" transform=\"translate(179.199219 0)\"/>\n      </g>\n     </g>\n    </g>\n    <g id=\"ytick_5\">\n     <g id=\"line2d_11\"/>\n     <g id=\"text_12\">\n      <!-- 0.0 -->\n      <g style=\"fill: #262626\" transform=\"translate(30.399531 166.627685) scale(0.07 -0.07)\">\n       <use xlink:href=\"#DejaVuSerif-30\"/>\n       <use xlink:href=\"#DejaVuSerif-2e\" transform=\"translate(63.623047 0)\"/>\n       <use xlink:href=\"#DejaVuSerif-30\" transform=\"translate(95.410156 0)\"/>\n      </g>\n     </g>\n    </g>\n    <g id=\"ytick_6\">\n     <g id=\"line2d_12\"/>\n     <g id=\"text_13\">\n      <!-- 2.5 -->\n      <g style=\"fill: #262626\" transform=\"translate(30.399531 130.335137) scale(0.07 -0.07)\">\n       <use xlink:href=\"#DejaVuSerif-32\"/>\n       <use xlink:href=\"#DejaVuSerif-2e\" transform=\"translate(63.623047 0)\"/>\n       <use xlink:href=\"#DejaVuSerif-35\" transform=\"translate(95.410156 0)\"/>\n      </g>\n     </g>\n    </g>\n    <g id=\"ytick_7\">\n     <g id=\"line2d_13\"/>\n     <g id=\"text_14\">\n      <!-- 5.0 -->\n      <g style=\"fill: #262626\" transform=\"translate(30.399531 94.042589) scale(0.07 -0.07)\">\n       <use xlink:href=\"#DejaVuSerif-35\"/>\n       <use xlink:href=\"#DejaVuSerif-2e\" transform=\"translate(63.623047 0)\"/>\n       <use xlink:href=\"#DejaVuSerif-30\" transform=\"translate(95.410156 0)\"/>\n      </g>\n     </g>\n    </g>\n    <g id=\"ytick_8\">\n     <g id=\"line2d_14\"/>\n     <g id=\"text_15\">\n      <!-- 7.5 -->\n      <g style=\"fill: #262626\" transform=\"translate(30.399531 57.750041) scale(0.07 -0.07)\">\n       <use xlink:href=\"#DejaVuSerif-37\"/>\n       <use xlink:href=\"#DejaVuSerif-2e\" transform=\"translate(63.623047 0)\"/>\n       <use xlink:href=\"#DejaVuSerif-35\" transform=\"translate(95.410156 0)\"/>\n      </g>\n     </g>\n    </g>\n    <g id=\"text_16\">\n     <!-- $\\dot{y}(t)$ (Velocity) -->\n     <g style=\"fill: #262626\" transform=\"translate(14.24 194.190781) rotate(-90) scale(0.08 -0.08)\">\n      <defs>\n       <path id=\"DejaVuSans-307\" d=\"M -1894 4863 \nL -1319 4863 \nL -1319 4134 \nL -1894 4134 \nL -1894 4863 \nz\nM -1600 3584 \nL -1600 3584 \nz\n\" transform=\"scale(0.015625)\"/>\n       <path id=\"DejaVuSans-Oblique-79\" d=\"M 1588 -325 \nQ 1188 -997 936 -1164 \nQ 684 -1331 294 -1331 \nL -159 -1331 \nL -63 -850 \nL 269 -850 \nQ 509 -850 678 -719 \nQ 847 -588 1056 -206 \nL 1234 128 \nL 459 3500 \nL 1069 3500 \nL 1650 819 \nL 3256 3500 \nL 3859 3500 \nL 1588 -325 \nz\n\" transform=\"scale(0.015625)\"/>\n       <path id=\"DejaVuSans-28\" d=\"M 1984 4856 \nQ 1566 4138 1362 3434 \nQ 1159 2731 1159 2009 \nQ 1159 1288 1364 580 \nQ 1569 -128 1984 -844 \nL 1484 -844 \nQ 1016 -109 783 600 \nQ 550 1309 550 2009 \nQ 550 2706 781 3412 \nQ 1013 4119 1484 4856 \nL 1984 4856 \nz\n\" transform=\"scale(0.015625)\"/>\n       <path id=\"DejaVuSans-29\" d=\"M 513 4856 \nL 1013 4856 \nQ 1481 4119 1714 3412 \nQ 1947 2706 1947 2009 \nQ 1947 1309 1714 600 \nQ 1481 -109 1013 -844 \nL 513 -844 \nQ 928 -128 1133 580 \nQ 1338 1288 1338 2009 \nQ 1338 2731 1133 3434 \nQ 928 4138 513 4856 \nz\n\" transform=\"scale(0.015625)\"/>\n       <path id=\"DejaVuSerif-56\" d=\"M 1119 4331 \nL 2497 750 \nL 3872 4331 \nL 3347 4331 \nL 3347 4666 \nL 4716 4666 \nL 4716 4331 \nL 4263 4331 \nL 2597 0 \nL 2059 0 \nL 403 4331 \nL -63 4331 \nL -63 4666 \nL 1638 4666 \nL 1638 4331 \nL 1119 4331 \nz\n\" transform=\"scale(0.015625)\"/>\n       <path id=\"DejaVuSerif-6c\" d=\"M 1313 331 \nL 1856 331 \nL 1856 0 \nL 184 0 \nL 184 331 \nL 738 331 \nL 738 4531 \nL 184 4531 \nL 184 4863 \nL 1313 4863 \nL 1313 331 \nz\n\" transform=\"scale(0.015625)\"/>\n       <path id=\"DejaVuSerif-6f\" d=\"M 1925 219 \nQ 2388 219 2623 584 \nQ 2859 950 2859 1663 \nQ 2859 2375 2623 2739 \nQ 2388 3103 1925 3103 \nQ 1463 3103 1227 2739 \nQ 991 2375 991 1663 \nQ 991 950 1228 584 \nQ 1466 219 1925 219 \nz\nM 1925 -91 \nQ 1200 -91 759 389 \nQ 319 869 319 1663 \nQ 319 2456 758 2934 \nQ 1197 3413 1925 3413 \nQ 2653 3413 3092 2934 \nQ 3531 2456 3531 1663 \nQ 3531 869 3092 389 \nQ 2653 -91 1925 -91 \nz\n\" transform=\"scale(0.015625)\"/>\n       <path id=\"DejaVuSerif-63\" d=\"M 3291 997 \nQ 3169 466 2822 187 \nQ 2475 -91 1925 -91 \nQ 1200 -91 759 389 \nQ 319 869 319 1663 \nQ 319 2459 759 2936 \nQ 1200 3413 1925 3413 \nQ 2241 3413 2553 3339 \nQ 2866 3266 3181 3116 \nL 3181 2266 \nL 2847 2266 \nQ 2781 2703 2561 2903 \nQ 2341 3103 1931 3103 \nQ 1466 3103 1228 2742 \nQ 991 2381 991 1663 \nQ 991 944 1227 581 \nQ 1463 219 1931 219 \nQ 2303 219 2525 412 \nQ 2747 606 2828 997 \nL 3291 997 \nz\n\" transform=\"scale(0.015625)\"/>\n       <path id=\"DejaVuSerif-74\" d=\"M 691 2988 \nL 184 2988 \nL 184 3322 \nL 691 3322 \nL 691 4353 \nL 1269 4353 \nL 1269 3322 \nL 2350 3322 \nL 2350 2988 \nL 1269 2988 \nL 1269 878 \nQ 1269 456 1350 337 \nQ 1431 219 1650 219 \nQ 1875 219 1978 351 \nQ 2081 484 2088 781 \nL 2522 781 \nQ 2497 328 2275 118 \nQ 2053 -91 1600 -91 \nQ 1103 -91 897 129 \nQ 691 350 691 878 \nL 691 2988 \nz\n\" transform=\"scale(0.015625)\"/>\n       <path id=\"DejaVuSerif-79\" d=\"M 1381 -609 \nL 1600 -56 \nL 359 2988 \nL -19 2988 \nL -19 3322 \nL 1509 3322 \nL 1509 2988 \nL 978 2988 \nL 1913 703 \nL 2847 2988 \nL 2350 2988 \nL 2350 3322 \nL 3597 3322 \nL 3597 2988 \nL 3225 2988 \nL 1703 -750 \nQ 1547 -1138 1356 -1280 \nQ 1166 -1422 819 -1422 \nQ 672 -1422 517 -1397 \nQ 363 -1372 206 -1325 \nL 206 -691 \nL 500 -691 \nQ 519 -903 608 -995 \nQ 697 -1088 884 -1088 \nQ 1056 -1088 1161 -992 \nQ 1266 -897 1381 -609 \nz\n\" transform=\"scale(0.015625)\"/>\n      </defs>\n      <use xlink:href=\"#DejaVuSans-307\" transform=\"translate(62.388672 12.015625)\"/>\n      <use xlink:href=\"#DejaVuSans-Oblique-79\" transform=\"translate(0 0.828125)\"/>\n      <use xlink:href=\"#DejaVuSans-28\" transform=\"translate(59.179688 0.828125)\"/>\n      <use xlink:href=\"#DejaVuSans-Oblique-74\" transform=\"translate(98.193359 0.828125)\"/>\n      <use xlink:href=\"#DejaVuSans-29\" transform=\"translate(137.402344 0.828125)\"/>\n      <use xlink:href=\"#DejaVuSerif-20\" transform=\"translate(176.416016 0.828125)\"/>\n      <use xlink:href=\"#DejaVuSerif-28\" transform=\"translate(208.203125 0.828125)\"/>\n      <use xlink:href=\"#DejaVuSerif-56\" transform=\"translate(247.216797 0.828125)\"/>\n      <use xlink:href=\"#DejaVuSerif-65\" transform=\"translate(319.433594 0.828125)\"/>\n      <use xlink:href=\"#DejaVuSerif-6c\" transform=\"translate(378.613281 0.828125)\"/>\n      <use xlink:href=\"#DejaVuSerif-6f\" transform=\"translate(410.595703 0.828125)\"/>\n      <use xlink:href=\"#DejaVuSerif-63\" transform=\"translate(470.800781 0.828125)\"/>\n      <use xlink:href=\"#DejaVuSerif-69\" transform=\"translate(526.806641 0.828125)\"/>\n      <use xlink:href=\"#DejaVuSerif-74\" transform=\"translate(558.789062 0.828125)\"/>\n      <use xlink:href=\"#DejaVuSerif-79\" transform=\"translate(598.974609 0.828125)\"/>\n      <use xlink:href=\"#DejaVuSerif-29\" transform=\"translate(655.46875 0.828125)\"/>\n     </g>\n    </g>\n   </g>\n   <g id=\"FillBetweenPolyCollection_1\">\n    <defs>\n     <path id=\"m9659815fff\" d=\"M 63.472095 -266.87256 \nL 63.472095 -88.571503 \nL 67.197424 -105.746183 \nL 70.922752 -113.273555 \nL 74.648081 -109.100111 \nL 78.373409 -104.706641 \nL 82.098738 -95.940004 \nL 85.824067 -95.509848 \nL 89.549395 -117.117176 \nL 93.274724 -96.604918 \nL 97.000052 -83.667537 \nL 100.725381 -97.719792 \nL 104.450709 -104.99435 \nL 108.176038 -103.664934 \nL 111.901367 -115.775214 \nL 115.626695 -84.546841 \nL 119.352024 -79.082639 \nL 123.077352 -114.367361 \nL 126.802681 -85.629209 \nL 130.528009 -107.855654 \nL 134.253338 -99.448853 \nL 137.978667 -129.511079 \nL 141.703995 -91.144677 \nL 145.429324 -113.818679 \nL 149.154652 -122.152038 \nL 152.879981 -97.878896 \nL 156.605309 -99.333329 \nL 160.330638 -106.654157 \nL 164.055967 -99.342385 \nL 167.781295 -104.583219 \nL 171.506624 -91.28914 \nL 175.231952 -102.144162 \nL 178.957281 -114.094198 \nL 182.682609 -107.340262 \nL 186.407938 -94.420994 \nL 190.133267 -112.799073 \nL 193.858595 -96.23272 \nL 197.583924 -85.75178 \nL 201.309252 -83.906196 \nL 205.034581 -107.33471 \nL 208.759909 -107.785731 \nL 212.485238 -91.753646 \nL 216.210567 -104.861721 \nL 219.935895 -104.380814 \nL 223.661224 -94.819977 \nL 227.386552 -86.339689 \nL 231.111881 -74.782609 \nL 234.837209 -107.182998 \nL 238.562538 -94.768656 \nL 242.287867 -105.244047 \nL 246.013195 -108.609273 \nL 249.738524 -80.425637 \nL 253.463852 -118.102203 \nL 257.189181 -110.439649 \nL 260.914509 -105.739344 \nL 264.639838 -98.643918 \nL 268.365167 -103.826079 \nL 272.090495 -88.002575 \nL 275.815824 -86.890406 \nL 279.541152 -96.800777 \nL 283.266481 -115.58703 \nL 286.991809 -86.285347 \nL 290.717138 -119.555575 \nL 294.442466 -89.453587 \nL 298.167795 -42.591009 \nL 301.893124 -101.097417 \nL 305.618452 -97.368289 \nL 309.343781 -94.716779 \nL 313.069109 -81.661836 \nL 316.794438 -115.527965 \nL 320.519766 -111.210973 \nL 324.245095 -94.854834 \nL 327.970424 -87.873893 \nL 331.695752 -98.859067 \nL 335.421081 -82.696815 \nL 339.146409 -114.284514 \nL 342.871738 -109.398633 \nL 346.597066 -97.694313 \nL 350.322395 -78.881939 \nL 354.047724 -68.568915 \nL 357.773052 -73.101966 \nL 361.498381 -122.189618 \nL 365.223709 -99.733919 \nL 368.949038 -93.582193 \nL 372.674366 -87.221169 \nL 376.399695 -98.257399 \nL 380.125024 -105.40085 \nL 383.850352 -69.332111 \nL 387.575681 -79.766207 \nL 391.301009 -95.065282 \nL 395.026338 -97.372439 \nL 398.751666 -119.956422 \nL 402.476995 -96.270367 \nL 406.202324 -72.215822 \nL 409.927652 -78.440776 \nL 413.652981 -88.050042 \nL 417.378309 -63.430758 \nL 421.103638 -120.930726 \nL 424.828966 -83.123306 \nL 428.554295 -113.872568 \nL 432.279624 -102.788417 \nL 432.279624 -253.453479 \nL 432.279624 -253.453479 \nL 428.554295 -241.68104 \nL 424.828966 -272.02603 \nL 421.103638 -235.079492 \nL 417.378309 -290.379644 \nL 413.652981 -266.385412 \nL 409.927652 -277.098779 \nL 406.202324 -281.990459 \nL 402.476995 -258.194207 \nL 398.751666 -236.539115 \nL 395.026338 -257.634791 \nL 391.301009 -258.977967 \nL 387.575681 -273.039258 \nL 383.850352 -284.987686 \nL 380.125024 -249.756259 \nL 376.399695 -257.910144 \nL 372.674366 -266.681579 \nL 368.949038 -260.836179 \nL 365.223709 -254.557937 \nL 361.498381 -233.927509 \nL 357.773052 -282.10515 \nL 354.047724 -286.317066 \nL 350.322395 -275.514252 \nL 346.597066 -256.812071 \nL 342.871738 -246.627464 \nL 339.146409 -242.445626 \nL 335.421081 -272.188975 \nL 331.695752 -255.272092 \nL 327.970424 -265.815156 \nL 324.245095 -260.775791 \nL 320.519766 -245.487856 \nL 316.794438 -240.213666 \nL 313.069109 -273.664116 \nL 309.343781 -259.281645 \nL 305.618452 -257.001093 \nL 301.893124 -254.003642 \nL 298.167795 -310.067429 \nL 294.442466 -264.641447 \nL 290.717138 -236.141399 \nL 286.991809 -269.603532 \nL 283.266481 -238.935058 \nL 279.541152 -257.008627 \nL 275.815824 -267.704635 \nL 272.090495 -267.974869 \nL 268.365167 -251.508619 \nL 264.639838 -255.956552 \nL 260.914509 -249.088767 \nL 257.189181 -245.37382 \nL 253.463852 -237.869303 \nL 249.738524 -274.185461 \nL 246.013195 -245.786943 \nL 242.287867 -249.510703 \nL 238.562538 -259.554289 \nL 234.837209 -248.059564 \nL 231.111881 -280.051435 \nL 227.386552 -268.320395 \nL 223.661224 -260.002617 \nL 219.935895 -250.194912 \nL 216.210567 -250.209101 \nL 212.485238 -264.221488 \nL 208.759909 -247.157704 \nL 205.034581 -247.654142 \nL 201.309252 -271.785397 \nL 197.583924 -268.685137 \nL 193.858595 -258.777647 \nL 190.133267 -242.209895 \nL 186.407938 -261.179228 \nL 182.682609 -247.566801 \nL 178.957281 -241.293097 \nL 175.231952 -252.715895 \nL 171.506624 -263.658253 \nL 167.781295 -250.628554 \nL 164.055967 -254.74007 \nL 160.330638 -248.592842 \nL 156.605309 -256.216661 \nL 152.879981 -257.115445 \nL 149.154652 -233.313339 \nL 145.429324 -241.905859 \nL 141.703995 -263.265314 \nL 137.978667 -226.415572 \nL 134.253338 -254.371025 \nL 130.528009 -246.771841 \nL 126.802681 -270.332945 \nL 123.077352 -240.157057 \nL 119.352024 -276.562026 \nL 115.626695 -270.129433 \nL 111.901367 -240.060292 \nL 108.176038 -251.851824 \nL 104.450709 -248.97631 \nL 100.725381 -258.075649 \nL 97.000052 -271.207652 \nL 93.274724 -258.444558 \nL 89.549395 -238.052442 \nL 85.824067 -259.414337 \nL 82.098738 -259.87864 \nL 78.373409 -250.508001 \nL 74.648081 -246.215249 \nL 70.922752 -242.672281 \nL 67.197424 -248.241376 \nL 63.472095 -266.87256 \nz\n\" style=\"stroke: #ffa500; stroke-opacity: 0.3; stroke-width: 0.8\"/>\n    </defs>\n    <g clip-path=\"url(#p1ee2275033)\">\n     <use xlink:href=\"#m9659815fff\" x=\"0\" y=\"342.72\" style=\"fill: #ffa500; fill-opacity: 0.3; stroke: #ffa500; stroke-opacity: 0.3; stroke-width: 0.8\"/>\n    </g>\n   </g>\n   <g id=\"line2d_15\">\n    <path d=\"M 63.472095 170.141887 \nL 67.197424 165.811196 \nL 70.922752 165.270637 \nL 74.648081 172.639319 \nL 78.373409 166.048993 \nL 82.098738 173.385796 \nL 85.824067 168.781597 \nL 89.549395 168.605639 \nL 93.274724 164.152483 \nL 97.000052 163.024974 \nL 100.725381 175.27705 \nL 104.450709 167.270429 \nL 108.176038 166.875622 \nL 111.901367 164.990998 \nL 115.626695 168.780467 \nL 119.352024 171.789659 \nL 123.077352 164.410026 \nL 126.802681 172.538725 \nL 130.528009 164.837832 \nL 134.253338 165.839318 \nL 137.978667 165.015111 \nL 141.703995 163.090288 \nL 145.429324 168.340035 \nL 149.154652 175.673323 \nL 152.879981 168.401276 \nL 156.605309 175.702722 \nL 160.330638 172.231123 \nL 164.055967 162.110407 \nL 167.781295 165.874761 \nL 171.506624 175.711363 \nL 175.231952 164.993581 \nL 178.957281 164.937177 \nL 182.682609 165.606859 \nL 186.407938 173.923835 \nL 190.133267 164.625121 \nL 193.858595 164.45533 \nL 197.583924 166.665159 \nL 201.309252 167.187086 \nL 205.034581 167.523592 \nL 208.759909 167.690208 \nL 212.485238 173.695421 \nL 216.210567 166.106974 \nL 219.935895 166.195237 \nL 223.661224 170.716793 \nL 227.386552 163.180658 \nL 231.111881 172.87086 \nL 234.837209 173.067227 \nL 238.562538 169.926268 \nL 242.287867 173.969034 \nL 246.013195 168.253289 \nL 249.738524 167.702971 \nL 253.463852 167.527596 \nL 257.189181 168.208611 \nL 260.914509 164.638895 \nL 264.639838 166.363926 \nL 268.365167 164.448176 \nL 272.090495 171.10631 \nL 275.815824 175.21831 \nL 279.541152 168.930786 \nL 283.266481 166.10461 \nL 286.991809 172.950442 \nL 290.717138 165.645008 \nL 294.442466 163.866454 \nL 298.167795 174.014495 \nL 301.893124 173.721702 \nL 305.618452 165.241589 \nL 309.343781 164.85033 \nL 313.069109 170.659993 \nL 316.794438 173.224156 \nL 320.519766 171.174199 \nL 324.245095 173.901553 \nL 327.970424 162.436923 \nL 331.695752 165.808538 \nL 335.421081 167.630725 \nL 339.146409 171.389206 \nL 342.871738 171.397869 \nL 346.597066 170.155052 \nL 350.322395 166.636987 \nL 354.047724 167.5881 \nL 357.773052 167.69229 \nL 361.498381 169.250452 \nL 365.223709 174.80731 \nL 368.949038 161.328979 \nL 372.674366 166.71565 \nL 376.399695 170.293629 \nL 380.125024 163.764689 \nL 383.850352 168.638438 \nL 387.575681 165.792708 \nL 391.301009 169.300962 \nL 395.026338 168.934697 \nL 398.751666 170.158905 \nL 402.476995 165.821049 \nL 406.202324 166.333009 \nL 409.927652 168.73209 \nL 413.652981 165.269884 \nL 417.378309 165.339734 \nL 421.103638 172.848676 \nL 424.828966 168.864213 \nL 428.554295 164.498943 \nL 432.279624 172.573871 \n\" clip-path=\"url(#p1ee2275033)\" style=\"fill: none; stroke: #ffa500; stroke-linecap: round\"/>\n   </g>\n   <g id=\"patch_3\">\n    <path d=\"M 45.031719 309.138423 \nL 45.031719 55.090588 \n\" style=\"fill: none; stroke: #262626; stroke-width: 0.5; stroke-linejoin: miter; stroke-linecap: square\"/>\n   </g>\n   <g id=\"patch_4\">\n    <path d=\"M 63.472095 313.502813 \nL 432.279624 313.502813 \n\" style=\"fill: none; stroke: #262626; stroke-width: 0.5; stroke-linejoin: miter; stroke-linecap: square\"/>\n   </g>\n   <g id=\"text_17\">\n    <!-- Mean Velocity with 95% Confidence Interval -->\n    <g style=\"fill: #262626\" transform=\"translate(157.467734 13.27875) scale(0.08 -0.08)\">\n     <defs>\n      <path id=\"DejaVuSerif-4d\" d=\"M 353 0 \nL 353 331 \nL 947 331 \nL 947 4331 \nL 319 4331 \nL 319 4666 \nL 1678 4666 \nL 3316 1344 \nL 4953 4666 \nL 6228 4666 \nL 6228 4331 \nL 5606 4331 \nL 5606 331 \nL 6203 331 \nL 6203 0 \nL 4378 0 \nL 4378 331 \nL 4972 331 \nL 4972 3938 \nL 3372 684 \nL 2931 684 \nL 1331 3938 \nL 1331 331 \nL 1925 331 \nL 1925 0 \nL 353 0 \nz\n\" transform=\"scale(0.015625)\"/>\n      <path id=\"DejaVuSerif-61\" d=\"M 2547 1044 \nL 2547 1747 \nL 1806 1747 \nQ 1378 1747 1168 1562 \nQ 959 1378 959 997 \nQ 959 650 1171 447 \nQ 1384 244 1747 244 \nQ 2106 244 2326 466 \nQ 2547 688 2547 1044 \nz\nM 3122 2075 \nL 3122 331 \nL 3634 331 \nL 3634 0 \nL 2547 0 \nL 2547 359 \nQ 2356 128 2106 18 \nQ 1856 -91 1522 -91 \nQ 969 -91 644 203 \nQ 319 497 319 997 \nQ 319 1513 691 1797 \nQ 1063 2081 1741 2081 \nL 2547 2081 \nL 2547 2309 \nQ 2547 2688 2317 2895 \nQ 2088 3103 1672 3103 \nQ 1328 3103 1125 2947 \nQ 922 2791 872 2484 \nL 575 2484 \nL 575 3156 \nQ 875 3284 1158 3348 \nQ 1441 3413 1709 3413 \nQ 2400 3413 2761 3070 \nQ 3122 2728 3122 2075 \nz\n\" transform=\"scale(0.015625)\"/>\n      <path id=\"DejaVuSerif-6e\" d=\"M 263 0 \nL 263 331 \nL 781 331 \nL 781 2988 \nL 231 2988 \nL 231 3322 \nL 1356 3322 \nL 1356 2731 \nQ 1516 3069 1770 3241 \nQ 2025 3413 2363 3413 \nQ 2913 3413 3172 3097 \nQ 3431 2781 3431 2113 \nL 3431 331 \nL 3944 331 \nL 3944 0 \nL 2356 0 \nL 2356 331 \nL 2853 331 \nL 2853 1931 \nQ 2853 2541 2703 2767 \nQ 2553 2994 2175 2994 \nQ 1775 2994 1565 2701 \nQ 1356 2409 1356 1850 \nL 1356 331 \nL 1856 331 \nL 1856 0 \nL 263 0 \nz\n\" transform=\"scale(0.015625)\"/>\n      <path id=\"DejaVuSerif-77\" d=\"M 3072 3322 \nL 3922 728 \nL 4672 2988 \nL 4191 2988 \nL 4191 3322 \nL 5394 3322 \nL 5394 2988 \nL 5025 2988 \nL 4038 0 \nL 3559 0 \nL 2741 2484 \nL 1919 0 \nL 1459 0 \nL 475 2988 \nL 103 2988 \nL 103 3322 \nL 1606 3322 \nL 1606 2988 \nL 1069 2988 \nL 1813 728 \nL 2669 3322 \nL 3072 3322 \nz\n\" transform=\"scale(0.015625)\"/>\n      <path id=\"DejaVuSerif-68\" d=\"M 263 0 \nL 263 331 \nL 781 331 \nL 781 4531 \nL 231 4531 \nL 231 4863 \nL 1356 4863 \nL 1356 2731 \nQ 1516 3069 1770 3241 \nQ 2025 3413 2363 3413 \nQ 2913 3413 3172 3097 \nQ 3431 2781 3431 2113 \nL 3431 331 \nL 3944 331 \nL 3944 0 \nL 2356 0 \nL 2356 331 \nL 2853 331 \nL 2853 1931 \nQ 2853 2541 2704 2764 \nQ 2556 2988 2175 2988 \nQ 1775 2988 1565 2697 \nQ 1356 2406 1356 1850 \nL 1356 331 \nL 1856 331 \nL 1856 0 \nL 263 0 \nz\n\" transform=\"scale(0.015625)\"/>\n      <path id=\"DejaVuSerif-39\" d=\"M 2994 2091 \nQ 2784 1856 2512 1740 \nQ 2241 1625 1900 1625 \nQ 1206 1625 804 2044 \nQ 403 2463 403 3188 \nQ 403 3897 839 4323 \nQ 1275 4750 2003 4750 \nQ 2794 4750 3217 4161 \nQ 3641 3572 3641 2478 \nQ 3641 1253 3137 581 \nQ 2634 -91 1722 -91 \nQ 1475 -91 1203 -44 \nQ 931 3 647 97 \nL 647 872 \nL 997 872 \nQ 1038 556 1241 387 \nQ 1444 219 1784 219 \nQ 2391 219 2687 676 \nQ 2984 1134 2994 2091 \nz\nM 1978 4441 \nQ 1534 4441 1298 4117 \nQ 1063 3794 1063 3188 \nQ 1063 2581 1298 2256 \nQ 1534 1931 1978 1931 \nQ 2422 1931 2658 2245 \nQ 2894 2559 2894 3150 \nQ 2894 3772 2656 4106 \nQ 2419 4441 1978 4441 \nz\n\" transform=\"scale(0.015625)\"/>\n      <path id=\"DejaVuSerif-25\" d=\"M 1434 4459 \nQ 1159 4459 1004 4200 \nQ 850 3941 850 3475 \nQ 850 3016 1008 2753 \nQ 1166 2491 1434 2491 \nQ 1700 2491 1854 2752 \nQ 2009 3013 2009 3475 \nQ 2009 3938 1854 4198 \nQ 1700 4459 1434 4459 \nz\nM 4653 2169 \nQ 4381 2169 4226 1906 \nQ 4072 1644 4072 1178 \nQ 4072 719 4228 458 \nQ 4384 197 4653 197 \nQ 4922 197 5075 458 \nQ 5228 719 5228 1178 \nQ 5228 1641 5073 1905 \nQ 4919 2169 4653 2169 \nz\nM 4653 2450 \nQ 5147 2450 5437 2106 \nQ 5728 1763 5728 1178 \nQ 5728 594 5436 251 \nQ 5144 -91 4653 -91 \nQ 4153 -91 3862 251 \nQ 3572 594 3572 1178 \nQ 3572 1766 3864 2108 \nQ 4156 2450 4653 2450 \nz\nM 4263 4750 \nL 4738 4750 \nL 1819 -91 \nL 1344 -91 \nL 4263 4750 \nz\nM 1428 4750 \nQ 1922 4750 2215 4408 \nQ 2509 4066 2509 3481 \nQ 2509 2891 2217 2550 \nQ 1925 2209 1428 2209 \nQ 931 2209 642 2551 \nQ 353 2894 353 3481 \nQ 353 4063 643 4406 \nQ 934 4750 1428 4750 \nz\n\" transform=\"scale(0.015625)\"/>\n      <path id=\"DejaVuSerif-43\" d=\"M 4513 1234 \nQ 4306 581 3820 245 \nQ 3334 -91 2591 -91 \nQ 2134 -91 1743 65 \nQ 1353 222 1050 525 \nQ 700 875 529 1320 \nQ 359 1766 359 2328 \nQ 359 3416 987 4083 \nQ 1616 4750 2644 4750 \nQ 3025 4750 3456 4650 \nQ 3888 4550 4384 4347 \nL 4384 3272 \nL 4031 3272 \nQ 3916 3859 3567 4137 \nQ 3219 4416 2591 4416 \nQ 1844 4416 1459 3886 \nQ 1075 3356 1075 2328 \nQ 1075 1303 1459 773 \nQ 1844 244 2591 244 \nQ 3113 244 3450 492 \nQ 3788 741 3938 1234 \nL 4513 1234 \nz\n\" transform=\"scale(0.015625)\"/>\n      <path id=\"DejaVuSerif-66\" d=\"M 2753 4078 \nL 2450 4078 \nQ 2447 4313 2317 4434 \nQ 2188 4556 1941 4556 \nQ 1619 4556 1487 4379 \nQ 1356 4203 1356 3750 \nL 1356 3322 \nL 2284 3322 \nL 2284 2988 \nL 1356 2988 \nL 1356 331 \nL 2094 331 \nL 2094 0 \nL 231 0 \nL 231 331 \nL 781 331 \nL 781 2988 \nL 231 2988 \nL 231 3322 \nL 781 3322 \nL 781 3738 \nQ 781 4294 1070 4578 \nQ 1359 4863 1919 4863 \nQ 2128 4863 2337 4825 \nQ 2547 4788 2753 4709 \nL 2753 4078 \nz\n\" transform=\"scale(0.015625)\"/>\n      <path id=\"DejaVuSerif-64\" d=\"M 3359 331 \nL 3909 331 \nL 3909 0 \nL 2784 0 \nL 2784 519 \nQ 2616 206 2355 57 \nQ 2094 -91 1709 -91 \nQ 1097 -91 708 395 \nQ 319 881 319 1663 \nQ 319 2444 706 2928 \nQ 1094 3413 1709 3413 \nQ 2094 3413 2355 3264 \nQ 2616 3116 2784 2803 \nL 2784 4531 \nL 2241 4531 \nL 2241 4863 \nL 3359 4863 \nL 3359 331 \nz\nM 2784 1497 \nL 2784 1825 \nQ 2784 2422 2554 2737 \nQ 2325 3053 1888 3053 \nQ 1444 3053 1217 2703 \nQ 991 2353 991 1663 \nQ 991 975 1217 622 \nQ 1444 269 1888 269 \nQ 2325 269 2554 583 \nQ 2784 897 2784 1497 \nz\n\" transform=\"scale(0.015625)\"/>\n      <path id=\"DejaVuSerif-49\" d=\"M 1581 331 \nL 2175 331 \nL 2175 0 \nL 353 0 \nL 353 331 \nL 947 331 \nL 947 4331 \nL 353 4331 \nL 353 4666 \nL 2175 4666 \nL 2175 4331 \nL 1581 4331 \nL 1581 331 \nz\n\" transform=\"scale(0.015625)\"/>\n      <path id=\"DejaVuSerif-72\" d=\"M 3059 3328 \nL 3059 2497 \nL 2728 2497 \nQ 2713 2744 2591 2866 \nQ 2469 2988 2234 2988 \nQ 1809 2988 1582 2694 \nQ 1356 2400 1356 1850 \nL 1356 331 \nL 2022 331 \nL 2022 0 \nL 263 0 \nL 263 331 \nL 781 331 \nL 781 2994 \nL 231 2994 \nL 231 3322 \nL 1356 3322 \nL 1356 2731 \nQ 1525 3078 1790 3245 \nQ 2056 3413 2438 3413 \nQ 2578 3413 2733 3391 \nQ 2888 3369 3059 3328 \nz\n\" transform=\"scale(0.015625)\"/>\n      <path id=\"DejaVuSerif-76\" d=\"M 1581 0 \nL 359 2988 \nL -19 2988 \nL -19 3322 \nL 1509 3322 \nL 1509 2988 \nL 978 2988 \nL 1913 703 \nL 2847 2988 \nL 2350 2988 \nL 2350 3322 \nL 3597 3322 \nL 3597 2988 \nL 3225 2988 \nL 2003 0 \nL 1581 0 \nz\n\" transform=\"scale(0.015625)\"/>\n     </defs>\n     <use xlink:href=\"#DejaVuSerif-4d\"/>\n     <use xlink:href=\"#DejaVuSerif-65\" transform=\"translate(102.392578 0)\"/>\n     <use xlink:href=\"#DejaVuSerif-61\" transform=\"translate(161.572266 0)\"/>\n     <use xlink:href=\"#DejaVuSerif-6e\" transform=\"translate(221.191406 0)\"/>\n     <use xlink:href=\"#DejaVuSerif-20\" transform=\"translate(285.595703 0)\"/>\n     <use xlink:href=\"#DejaVuSerif-56\" transform=\"translate(317.382812 0)\"/>\n     <use xlink:href=\"#DejaVuSerif-65\" transform=\"translate(380.474609 0)\"/>\n     <use xlink:href=\"#DejaVuSerif-6c\" transform=\"translate(439.654297 0)\"/>\n     <use xlink:href=\"#DejaVuSerif-6f\" transform=\"translate(471.636719 0)\"/>\n     <use xlink:href=\"#DejaVuSerif-63\" transform=\"translate(531.841797 0)\"/>\n     <use xlink:href=\"#DejaVuSerif-69\" transform=\"translate(587.847656 0)\"/>\n     <use xlink:href=\"#DejaVuSerif-74\" transform=\"translate(619.830078 0)\"/>\n     <use xlink:href=\"#DejaVuSerif-79\" transform=\"translate(660.015625 0)\"/>\n     <use xlink:href=\"#DejaVuSerif-20\" transform=\"translate(716.509766 0)\"/>\n     <use xlink:href=\"#DejaVuSerif-77\" transform=\"translate(748.296875 0)\"/>\n     <use xlink:href=\"#DejaVuSerif-69\" transform=\"translate(833.892578 0)\"/>\n     <use xlink:href=\"#DejaVuSerif-74\" transform=\"translate(865.875 0)\"/>\n     <use xlink:href=\"#DejaVuSerif-68\" transform=\"translate(906.060547 0)\"/>\n     <use xlink:href=\"#DejaVuSerif-20\" transform=\"translate(970.464844 0)\"/>\n     <use xlink:href=\"#DejaVuSerif-39\" transform=\"translate(1002.251953 0)\"/>\n     <use xlink:href=\"#DejaVuSerif-35\" transform=\"translate(1065.875 0)\"/>\n     <use xlink:href=\"#DejaVuSerif-25\" transform=\"translate(1129.498047 0)\"/>\n     <use xlink:href=\"#DejaVuSerif-20\" transform=\"translate(1224.517578 0)\"/>\n     <use xlink:href=\"#DejaVuSerif-43\" transform=\"translate(1256.304688 0)\"/>\n     <use xlink:href=\"#DejaVuSerif-6f\" transform=\"translate(1332.818359 0)\"/>\n     <use xlink:href=\"#DejaVuSerif-6e\" transform=\"translate(1393.023438 0)\"/>\n     <use xlink:href=\"#DejaVuSerif-66\" transform=\"translate(1457.427734 0)\"/>\n     <use xlink:href=\"#DejaVuSerif-69\" transform=\"translate(1494.439453 0)\"/>\n     <use xlink:href=\"#DejaVuSerif-64\" transform=\"translate(1526.421875 0)\"/>\n     <use xlink:href=\"#DejaVuSerif-65\" transform=\"translate(1590.435547 0)\"/>\n     <use xlink:href=\"#DejaVuSerif-6e\" transform=\"translate(1649.615234 0)\"/>\n     <use xlink:href=\"#DejaVuSerif-63\" transform=\"translate(1714.019531 0)\"/>\n     <use xlink:href=\"#DejaVuSerif-65\" transform=\"translate(1770.025391 0)\"/>\n     <use xlink:href=\"#DejaVuSerif-20\" transform=\"translate(1829.205078 0)\"/>\n     <use xlink:href=\"#DejaVuSerif-49\" transform=\"translate(1860.992188 0)\"/>\n     <use xlink:href=\"#DejaVuSerif-6e\" transform=\"translate(1900.494141 0)\"/>\n     <use xlink:href=\"#DejaVuSerif-74\" transform=\"translate(1964.898438 0)\"/>\n     <use xlink:href=\"#DejaVuSerif-65\" transform=\"translate(2005.083984 0)\"/>\n     <use xlink:href=\"#DejaVuSerif-72\" transform=\"translate(2064.263672 0)\"/>\n     <use xlink:href=\"#DejaVuSerif-76\" transform=\"translate(2112.066406 0)\"/>\n     <use xlink:href=\"#DejaVuSerif-61\" transform=\"translate(2168.560547 0)\"/>\n     <use xlink:href=\"#DejaVuSerif-6c\" transform=\"translate(2228.179688 0)\"/>\n    </g>\n   </g>\n   <g id=\"legend_1\">\n    <g id=\"line2d_16\">\n     <path d=\"M 374.662812 28.447656 \nL 381.662812 28.447656 \nL 388.662812 28.447656 \n\" style=\"fill: none; stroke: #ffa500; stroke-linecap: round\"/>\n    </g>\n    <g id=\"text_18\">\n     <!-- Mean Velocity -->\n     <g style=\"fill: #262626\" transform=\"translate(394.262812 30.897656) scale(0.07 -0.07)\">\n      <use xlink:href=\"#DejaVuSerif-4d\"/>\n      <use xlink:href=\"#DejaVuSerif-65\" transform=\"translate(102.392578 0)\"/>\n      <use xlink:href=\"#DejaVuSerif-61\" transform=\"translate(161.572266 0)\"/>\n      <use xlink:href=\"#DejaVuSerif-6e\" transform=\"translate(221.191406 0)\"/>\n      <use xlink:href=\"#DejaVuSerif-20\" transform=\"translate(285.595703 0)\"/>\n      <use xlink:href=\"#DejaVuSerif-56\" transform=\"translate(317.382812 0)\"/>\n      <use xlink:href=\"#DejaVuSerif-65\" transform=\"translate(380.474609 0)\"/>\n      <use xlink:href=\"#DejaVuSerif-6c\" transform=\"translate(439.654297 0)\"/>\n      <use xlink:href=\"#DejaVuSerif-6f\" transform=\"translate(471.636719 0)\"/>\n      <use xlink:href=\"#DejaVuSerif-63\" transform=\"translate(531.841797 0)\"/>\n      <use xlink:href=\"#DejaVuSerif-69\" transform=\"translate(587.847656 0)\"/>\n      <use xlink:href=\"#DejaVuSerif-74\" transform=\"translate(619.830078 0)\"/>\n      <use xlink:href=\"#DejaVuSerif-79\" transform=\"translate(660.015625 0)\"/>\n     </g>\n    </g>\n    <g id=\"patch_5\">\n     <path d=\"M 374.662812 41.271875 \nL 388.662812 41.271875 \nL 388.662812 36.371875 \nL 374.662812 36.371875 \nz\n\" style=\"fill: #ffa500; fill-opacity: 0.3; stroke: #ffa500; stroke-opacity: 0.3; stroke-width: 0.8; stroke-linejoin: miter\"/>\n    </g>\n    <g id=\"text_19\">\n     <!-- 95% CI -->\n     <g style=\"fill: #262626\" transform=\"translate(394.262812 41.271875) scale(0.07 -0.07)\">\n      <use xlink:href=\"#DejaVuSerif-39\"/>\n      <use xlink:href=\"#DejaVuSerif-35\" transform=\"translate(63.623047 0)\"/>\n      <use xlink:href=\"#DejaVuSerif-25\" transform=\"translate(127.246094 0)\"/>\n      <use xlink:href=\"#DejaVuSerif-20\" transform=\"translate(222.265625 0)\"/>\n      <use xlink:href=\"#DejaVuSerif-43\" transform=\"translate(254.052734 0)\"/>\n      <use xlink:href=\"#DejaVuSerif-49\" transform=\"translate(330.566406 0)\"/>\n     </g>\n    </g>\n   </g>\n  </g>\n </g>\n <defs>\n  <clipPath id=\"p1ee2275033\">\n   <rect x=\"45.031719\" y=\"19.27875\" width=\"405.688281\" height=\"294.224063\"/>\n  </clipPath>\n </defs>\n</svg>\n"
          },
          "metadata": {}
        }
      ],
      "source": [
        "samples = take_samples_from_solver(100)\n",
        "# Sampled positions are: samples[:, :, 0]\n",
        "# Sampled velocities are: samples[:, :, 1]\n",
        "# Sampled position at the 10th timestep is: samples[:, 9, 0]\n",
        "# etc.\n",
        "\n",
        "positions = samples[:, :, 0]  # shape: (100, 100)\n",
        "velocities = samples[:, :, 1]  # shape: (100, 100)\n",
        "\n",
        "mean_position = np.mean(positions, axis=0)\n",
        "mean_velocity = np.mean(velocities, axis=0)\n",
        "\n",
        "pos_mu_025, pos_mu_975 = np.quantile(\n",
        "    positions,\n",
        "    [0.025, 0.975],\n",
        "    axis=0\n",
        "    )\n",
        "vel_mu_025, vel_mu_975 = np.quantile(\n",
        "    velocities,\n",
        "    [0.025, 0.975],\n",
        "    axis=1\n",
        "    )\n",
        "\n",
        "# Plotting\n",
        "fig1, ax1 = plt.subplots()\n",
        "ax1.plot(solver.t, mean_position, label=\"Mean Position\")\n",
        "ax1.fill_between(solver.t, pos_mu_025, pos_mu_975, alpha=0.3, label=\"95% CI\")\n",
        "ax1.set_xlabel('$t$ (Time)')\n",
        "ax1.set_ylabel('$y(t)$ (Position)')\n",
        "ax1.set_title('Mean Position with 95% Confidence Interval')\n",
        "ax1.legend()\n",
        "sns.despine(trim=True)\n",
        "\n",
        "fig2, ax2 = plt.subplots()\n",
        "ax2.plot(solver.t, mean_velocity, label=\"Mean Velocity\", color=\"orange\")\n",
        "ax2.fill_between(solver.t, vel_mu_025, vel_mu_975, alpha=0.3, label=\"95% CI\", color=\"orange\")\n",
        "ax2.set_xlabel('$t$ (Time)')\n",
        "ax2.set_ylabel('$\\dot{y}(t)$ (Velocity)')\n",
        "ax2.set_title('Mean Velocity with 95% Confidence Interval')\n",
        "ax2.legend()\n",
        "sns.despine(trim=True)\n",
        "\n",
        "plt.show()"
      ]
    },
    {
      "cell_type": "markdown",
      "metadata": {
        "id": "G3PT8wjeUO--"
      },
      "source": [
        "### Part B\n",
        "\n",
        "Plot the epistemic uncertainty about the mean position at $t=5$s as a function of the number of samples.\n",
        "\n",
        "**Solution**:"
      ]
    },
    {
      "cell_type": "code",
      "execution_count": 10,
      "metadata": {
        "id": "4t3Y7XcLUO--"
      },
      "outputs": [],
      "source": [
        "# Your code here"
      ]
    },
    {
      "cell_type": "markdown",
      "metadata": {
        "id": "pFLndj32UO--"
      },
      "source": [
        "### Part C\n",
        "\n",
        "Repeat parts A and B for the squared response.\n",
        "That is, do the same thing as above, but consider $y^2(t)$ and $\\dot{y}^2(t)$ instead of $y(t)$ and $\\dot{y}(t)$.\n",
        "How many samples do you need to estimate the mean squared response at $t=5$s with negligible epistemic uncertainty?\n",
        "\n",
        "**Solution**:"
      ]
    },
    {
      "cell_type": "code",
      "execution_count": 11,
      "metadata": {
        "id": "XeniEvQsUO--"
      },
      "outputs": [],
      "source": [
        "# Your code here"
      ]
    },
    {
      "cell_type": "markdown",
      "metadata": {
        "id": "v3rqmVu4UO--"
      },
      "source": [
        "### Part D\n",
        "\n",
        "Now that you know how many samples you need to estimate the mean of the response and the square response, use the formula:\n",
        "\n",
        "$$\n",
        "\\mathbb{V}[y(t)] = \\mathbb{E}[y^2(t)] - \\left(\\mathbb{E}[y(t)]\\right)^2,\n",
        "$$\n",
        "\n",
        "and similarly, for $\\dot{y}(t)$, to estimate the position and velocity variance with negligible epistemic uncertainty.\n",
        "Plot both quantities as a function of time.\n",
        "\n",
        "**Solution**:"
      ]
    },
    {
      "cell_type": "code",
      "execution_count": 12,
      "metadata": {
        "id": "M51oezsQUO--"
      },
      "outputs": [],
      "source": [
        "# Your code here"
      ]
    },
    {
      "cell_type": "markdown",
      "metadata": {
        "id": "mMJyTgE6UO-_"
      },
      "source": [
        "### Part E\n",
        "\n",
        "Put together the estimated mean and variance to plot a 95\\% predictive interval for the position and the velocity as functions of time.\n",
        "\n",
        "**Solution**:\n"
      ]
    },
    {
      "cell_type": "markdown",
      "metadata": {
        "id": "qm0yNtRMUO-_"
      },
      "source": [
        "## Problem 2 - Earthquakes again\n",
        "\n",
        "The [San Andreas fault](https://en.wikipedia.org/wiki/San_Andreas_Fault) extends through California, forming the boundary between the Pacific and the North American tectonic plates.\n",
        "It has caused some of the most significant earthquakes on Earth.\n",
        "We are going to focus on Southern California, and we would like to assess the probability of a significant earthquake, defined as an earthquake of magnitude 6.5 or greater, during the next ten years."
      ]
    },
    {
      "cell_type": "markdown",
      "metadata": {
        "id": "7MkgOSLAUO-_"
      },
      "source": [
        "A. The first thing we will do is review a [database of past earthquakes](https://scedc.caltech.edu/significant/chron-index.html) that have occurred in Southern California and collect the relevant data. We will start at 1900 because data before that time may be unreliable.\n",
        "Go over each decade and count the occurrence of a significant earthquake (i.e., count the number of orange and red colors in each decade). We have done this for you."
      ]
    },
    {
      "cell_type": "code",
      "execution_count": 13,
      "metadata": {
        "id": "H95HcX2VUO-_"
      },
      "outputs": [],
      "source": [
        "eq_data = np.array([\n",
        "    0, # 1900-1909\n",
        "    1, # 1910-1919\n",
        "    2, # 1920-1929\n",
        "    0, # 1930-1939\n",
        "    3, # 1940-1949\n",
        "    2, # 1950-1959\n",
        "    1, # 1960-1969\n",
        "    2, # 1970-1979\n",
        "    1, # 1980-1989\n",
        "    4, # 1990-1999\n",
        "    0, # 2000-2009\n",
        "    2 # 2010-2019\n",
        "])"
      ]
    },
    {
      "cell_type": "markdown",
      "metadata": {
        "id": "eESZxip5UO-_"
      },
      "source": [
        "Let's visualize them:"
      ]
    },
    {
      "cell_type": "code",
      "execution_count": 14,
      "metadata": {
        "id": "tqFdbVZXUO-_",
        "outputId": "7e3559a8-5c94-463a-b683-7dd44ba54cc4",
        "colab": {
          "base_uri": "https://localhost:8080/",
          "height": 479
        }
      },
      "outputs": [
        {
          "output_type": "display_data",
          "data": {
            "text/plain": [
              "<Figure size 3840x2880 with 1 Axes>"
            ],
            "image/svg+xml": "<?xml version=\"1.0\" encoding=\"utf-8\" standalone=\"no\"?>\n<!DOCTYPE svg PUBLIC \"-//W3C//DTD SVG 1.1//EN\"\n  \"http://www.w3.org/Graphics/SVG/1.1/DTD/svg11.dtd\">\n<svg xmlns:xlink=\"http://www.w3.org/1999/xlink\" width=\"457.92pt\" height=\"342.72pt\" viewBox=\"0 0 457.92 342.72\" xmlns=\"http://www.w3.org/2000/svg\" version=\"1.1\">\n <metadata>\n  <rdf:RDF xmlns:dc=\"http://purl.org/dc/elements/1.1/\" xmlns:cc=\"http://creativecommons.org/ns#\" xmlns:rdf=\"http://www.w3.org/1999/02/22-rdf-syntax-ns#\">\n   <cc:Work>\n    <dc:type rdf:resource=\"http://purl.org/dc/dcmitype/StillImage\"/>\n    <dc:date>2025-07-08T23:16:49.489945</dc:date>\n    <dc:format>image/svg+xml</dc:format>\n    <dc:creator>\n     <cc:Agent>\n      <dc:title>Matplotlib v3.10.0, https://matplotlib.org/</dc:title>\n     </cc:Agent>\n    </dc:creator>\n   </cc:Work>\n  </rdf:RDF>\n </metadata>\n <defs>\n  <style type=\"text/css\">*{stroke-linejoin: round; stroke-linecap: butt}</style>\n </defs>\n <g id=\"figure_1\">\n  <g id=\"patch_1\">\n   <path d=\"M 0 342.72 \nL 457.92 342.72 \nL 457.92 0 \nL 0 0 \nz\n\" style=\"fill: #ffffff\"/>\n  </g>\n  <g id=\"axes_1\">\n   <g id=\"patch_2\">\n    <path d=\"M 33.688438 313.502812 \nL 450.72 313.502812 \nL 450.72 7.2 \nL 33.688438 7.2 \nz\n\" style=\"fill: #ffffff\"/>\n   </g>\n   <g id=\"matplotlib.axis_1\">\n    <g id=\"xtick_1\">\n     <g id=\"line2d_1\"/>\n     <g id=\"text_1\">\n      <!-- 1900 -->\n      <g style=\"fill: #262626\" transform=\"translate(58.431476 322.321719) scale(0.07 -0.07)\">\n       <defs>\n        <path id=\"DejaVuSerif-31\" d=\"M 909 0 \nL 909 331 \nL 1722 331 \nL 1722 4213 \nL 781 3603 \nL 781 4013 \nL 1919 4750 \nL 2350 4750 \nL 2350 331 \nL 3163 331 \nL 3163 0 \nL 909 0 \nz\n\" transform=\"scale(0.015625)\"/>\n        <path id=\"DejaVuSerif-39\" d=\"M 2994 2091 \nQ 2784 1856 2512 1740 \nQ 2241 1625 1900 1625 \nQ 1206 1625 804 2044 \nQ 403 2463 403 3188 \nQ 403 3897 839 4323 \nQ 1275 4750 2003 4750 \nQ 2794 4750 3217 4161 \nQ 3641 3572 3641 2478 \nQ 3641 1253 3137 581 \nQ 2634 -91 1722 -91 \nQ 1475 -91 1203 -44 \nQ 931 3 647 97 \nL 647 872 \nL 997 872 \nQ 1038 556 1241 387 \nQ 1444 219 1784 219 \nQ 2391 219 2687 676 \nQ 2984 1134 2994 2091 \nz\nM 1978 4441 \nQ 1534 4441 1298 4117 \nQ 1063 3794 1063 3188 \nQ 1063 2581 1298 2256 \nQ 1534 1931 1978 1931 \nQ 2422 1931 2658 2245 \nQ 2894 2559 2894 3150 \nQ 2894 3772 2656 4106 \nQ 2419 4441 1978 4441 \nz\n\" transform=\"scale(0.015625)\"/>\n        <path id=\"DejaVuSerif-30\" d=\"M 2034 219 \nQ 2513 219 2750 744 \nQ 2988 1269 2988 2328 \nQ 2988 3391 2750 3916 \nQ 2513 4441 2034 4441 \nQ 1556 4441 1318 3916 \nQ 1081 3391 1081 2328 \nQ 1081 1269 1318 744 \nQ 1556 219 2034 219 \nz\nM 2034 -91 \nQ 1275 -91 848 546 \nQ 422 1184 422 2328 \nQ 422 3475 848 4112 \nQ 1275 4750 2034 4750 \nQ 2797 4750 3222 4112 \nQ 3647 3475 3647 2328 \nQ 3647 1184 3222 546 \nQ 2797 -91 2034 -91 \nz\n\" transform=\"scale(0.015625)\"/>\n       </defs>\n       <use xlink:href=\"#DejaVuSerif-31\"/>\n       <use xlink:href=\"#DejaVuSerif-39\" transform=\"translate(63.623047 0)\"/>\n       <use xlink:href=\"#DejaVuSerif-30\" transform=\"translate(127.246094 0)\"/>\n       <use xlink:href=\"#DejaVuSerif-30\" transform=\"translate(190.869141 0)\"/>\n      </g>\n     </g>\n    </g>\n    <g id=\"xtick_2\">\n     <g id=\"line2d_2\"/>\n     <g id=\"text_2\">\n      <!-- 1920 -->\n      <g style=\"fill: #262626\" transform=\"translate(117.209709 322.321719) scale(0.07 -0.07)\">\n       <defs>\n        <path id=\"DejaVuSerif-32\" d=\"M 819 3553 \nL 469 3553 \nL 469 4384 \nQ 803 4563 1142 4656 \nQ 1481 4750 1806 4750 \nQ 2534 4750 2956 4397 \nQ 3378 4044 3378 3438 \nQ 3378 2753 2422 1800 \nQ 2347 1728 2309 1691 \nL 1131 513 \nL 3078 513 \nL 3078 1088 \nL 3444 1088 \nL 3444 0 \nL 434 0 \nL 434 341 \nL 1850 1753 \nQ 2319 2222 2519 2614 \nQ 2719 3006 2719 3438 \nQ 2719 3909 2473 4175 \nQ 2228 4441 1797 4441 \nQ 1350 4441 1106 4219 \nQ 863 3997 819 3553 \nz\n\" transform=\"scale(0.015625)\"/>\n       </defs>\n       <use xlink:href=\"#DejaVuSerif-31\"/>\n       <use xlink:href=\"#DejaVuSerif-39\" transform=\"translate(63.623047 0)\"/>\n       <use xlink:href=\"#DejaVuSerif-32\" transform=\"translate(127.246094 0)\"/>\n       <use xlink:href=\"#DejaVuSerif-30\" transform=\"translate(190.869141 0)\"/>\n      </g>\n     </g>\n    </g>\n    <g id=\"xtick_3\">\n     <g id=\"line2d_3\"/>\n     <g id=\"text_3\">\n      <!-- 1940 -->\n      <g style=\"fill: #262626\" transform=\"translate(175.987942 322.321719) scale(0.07 -0.07)\">\n       <defs>\n        <path id=\"DejaVuSerif-34\" d=\"M 2234 1581 \nL 2234 4063 \nL 641 1581 \nL 2234 1581 \nz\nM 3609 0 \nL 1484 0 \nL 1484 331 \nL 2234 331 \nL 2234 1247 \nL 197 1247 \nL 197 1588 \nL 2241 4750 \nL 2859 4750 \nL 2859 1581 \nL 3750 1581 \nL 3750 1247 \nL 2859 1247 \nL 2859 331 \nL 3609 331 \nL 3609 0 \nz\n\" transform=\"scale(0.015625)\"/>\n       </defs>\n       <use xlink:href=\"#DejaVuSerif-31\"/>\n       <use xlink:href=\"#DejaVuSerif-39\" transform=\"translate(63.623047 0)\"/>\n       <use xlink:href=\"#DejaVuSerif-34\" transform=\"translate(127.246094 0)\"/>\n       <use xlink:href=\"#DejaVuSerif-30\" transform=\"translate(190.869141 0)\"/>\n      </g>\n     </g>\n    </g>\n    <g id=\"xtick_4\">\n     <g id=\"line2d_4\"/>\n     <g id=\"text_4\">\n      <!-- 1960 -->\n      <g style=\"fill: #262626\" transform=\"translate(234.766175 322.321719) scale(0.07 -0.07)\">\n       <defs>\n        <path id=\"DejaVuSerif-36\" d=\"M 2094 219 \nQ 2534 219 2771 542 \nQ 3009 866 3009 1472 \nQ 3009 2078 2771 2401 \nQ 2534 2725 2094 2725 \nQ 1647 2725 1412 2412 \nQ 1178 2100 1178 1509 \nQ 1178 888 1415 553 \nQ 1653 219 2094 219 \nz\nM 1075 2569 \nQ 1288 2803 1556 2918 \nQ 1825 3034 2163 3034 \nQ 2859 3034 3264 2615 \nQ 3669 2197 3669 1472 \nQ 3669 763 3233 336 \nQ 2797 -91 2069 -91 \nQ 1278 -91 853 498 \nQ 428 1088 428 2181 \nQ 428 3406 931 4078 \nQ 1434 4750 2350 4750 \nQ 2597 4750 2869 4703 \nQ 3141 4656 3425 4563 \nL 3425 3794 \nL 3072 3794 \nQ 3034 4109 2831 4275 \nQ 2628 4441 2284 4441 \nQ 1678 4441 1381 3981 \nQ 1084 3522 1075 2569 \nz\n\" transform=\"scale(0.015625)\"/>\n       </defs>\n       <use xlink:href=\"#DejaVuSerif-31\"/>\n       <use xlink:href=\"#DejaVuSerif-39\" transform=\"translate(63.623047 0)\"/>\n       <use xlink:href=\"#DejaVuSerif-36\" transform=\"translate(127.246094 0)\"/>\n       <use xlink:href=\"#DejaVuSerif-30\" transform=\"translate(190.869141 0)\"/>\n      </g>\n     </g>\n    </g>\n    <g id=\"xtick_5\">\n     <g id=\"line2d_5\"/>\n     <g id=\"text_5\">\n      <!-- 1980 -->\n      <g style=\"fill: #262626\" transform=\"translate(293.544407 322.321719) scale(0.07 -0.07)\">\n       <defs>\n        <path id=\"DejaVuSerif-38\" d=\"M 2981 1275 \nQ 2981 1775 2732 2051 \nQ 2484 2328 2034 2328 \nQ 1584 2328 1336 2051 \nQ 1088 1775 1088 1275 \nQ 1088 772 1336 495 \nQ 1584 219 2034 219 \nQ 2484 219 2732 495 \nQ 2981 772 2981 1275 \nz\nM 2853 3541 \nQ 2853 3966 2637 4203 \nQ 2422 4441 2034 4441 \nQ 1650 4441 1433 4203 \nQ 1216 3966 1216 3541 \nQ 1216 3113 1433 2875 \nQ 1650 2638 2034 2638 \nQ 2422 2638 2637 2875 \nQ 2853 3113 2853 3541 \nz\nM 2516 2484 \nQ 3047 2413 3344 2092 \nQ 3641 1772 3641 1275 \nQ 3641 619 3225 264 \nQ 2809 -91 2034 -91 \nQ 1263 -91 845 264 \nQ 428 619 428 1275 \nQ 428 1772 725 2092 \nQ 1022 2413 1556 2484 \nQ 1084 2569 832 2842 \nQ 581 3116 581 3541 \nQ 581 4103 968 4426 \nQ 1356 4750 2034 4750 \nQ 2713 4750 3100 4426 \nQ 3488 4103 3488 3541 \nQ 3488 3116 3236 2842 \nQ 2984 2569 2516 2484 \nz\n\" transform=\"scale(0.015625)\"/>\n       </defs>\n       <use xlink:href=\"#DejaVuSerif-31\"/>\n       <use xlink:href=\"#DejaVuSerif-39\" transform=\"translate(63.623047 0)\"/>\n       <use xlink:href=\"#DejaVuSerif-38\" transform=\"translate(127.246094 0)\"/>\n       <use xlink:href=\"#DejaVuSerif-30\" transform=\"translate(190.869141 0)\"/>\n      </g>\n     </g>\n    </g>\n    <g id=\"xtick_6\">\n     <g id=\"line2d_6\"/>\n     <g id=\"text_6\">\n      <!-- 2000 -->\n      <g style=\"fill: #262626\" transform=\"translate(352.32264 322.321719) scale(0.07 -0.07)\">\n       <use xlink:href=\"#DejaVuSerif-32\"/>\n       <use xlink:href=\"#DejaVuSerif-30\" transform=\"translate(63.623047 0)\"/>\n       <use xlink:href=\"#DejaVuSerif-30\" transform=\"translate(127.246094 0)\"/>\n       <use xlink:href=\"#DejaVuSerif-30\" transform=\"translate(190.869141 0)\"/>\n      </g>\n     </g>\n    </g>\n    <g id=\"xtick_7\">\n     <g id=\"line2d_7\"/>\n     <g id=\"text_7\">\n      <!-- 2020 -->\n      <g style=\"fill: #262626\" transform=\"translate(411.100873 322.321719) scale(0.07 -0.07)\">\n       <use xlink:href=\"#DejaVuSerif-32\"/>\n       <use xlink:href=\"#DejaVuSerif-30\" transform=\"translate(63.623047 0)\"/>\n       <use xlink:href=\"#DejaVuSerif-32\" transform=\"translate(127.246094 0)\"/>\n       <use xlink:href=\"#DejaVuSerif-30\" transform=\"translate(190.869141 0)\"/>\n      </g>\n     </g>\n    </g>\n    <g id=\"text_8\">\n     <!-- Decade -->\n     <g style=\"fill: #262626\" transform=\"translate(227.076719 333.85625) scale(0.08 -0.08)\">\n      <defs>\n       <path id=\"DejaVuSerif-44\" d=\"M 1581 331 \nL 2163 331 \nQ 3072 331 3558 850 \nQ 4044 1369 4044 2338 \nQ 4044 3306 3559 3818 \nQ 3075 4331 2163 4331 \nL 1581 4331 \nL 1581 331 \nz\nM 353 0 \nL 353 331 \nL 947 331 \nL 947 4331 \nL 353 4331 \nL 353 4666 \nL 2209 4666 \nQ 3416 4666 4089 4050 \nQ 4763 3434 4763 2338 \nQ 4763 1238 4088 619 \nQ 3413 0 2209 0 \nL 353 0 \nz\n\" transform=\"scale(0.015625)\"/>\n       <path id=\"DejaVuSerif-65\" d=\"M 3469 1600 \nL 991 1600 \nL 991 1575 \nQ 991 903 1244 561 \nQ 1497 219 1991 219 \nQ 2369 219 2611 417 \nQ 2853 616 2950 1006 \nL 3413 1006 \nQ 3275 459 2904 184 \nQ 2534 -91 1931 -91 \nQ 1203 -91 761 389 \nQ 319 869 319 1663 \nQ 319 2450 753 2931 \nQ 1188 3413 1894 3413 \nQ 2647 3413 3050 2948 \nQ 3453 2484 3469 1600 \nz\nM 2791 1931 \nQ 2772 2513 2545 2808 \nQ 2319 3103 1894 3103 \nQ 1497 3103 1269 2806 \nQ 1041 2509 991 1931 \nL 2791 1931 \nz\n\" transform=\"scale(0.015625)\"/>\n       <path id=\"DejaVuSerif-63\" d=\"M 3291 997 \nQ 3169 466 2822 187 \nQ 2475 -91 1925 -91 \nQ 1200 -91 759 389 \nQ 319 869 319 1663 \nQ 319 2459 759 2936 \nQ 1200 3413 1925 3413 \nQ 2241 3413 2553 3339 \nQ 2866 3266 3181 3116 \nL 3181 2266 \nL 2847 2266 \nQ 2781 2703 2561 2903 \nQ 2341 3103 1931 3103 \nQ 1466 3103 1228 2742 \nQ 991 2381 991 1663 \nQ 991 944 1227 581 \nQ 1463 219 1931 219 \nQ 2303 219 2525 412 \nQ 2747 606 2828 997 \nL 3291 997 \nz\n\" transform=\"scale(0.015625)\"/>\n       <path id=\"DejaVuSerif-61\" d=\"M 2547 1044 \nL 2547 1747 \nL 1806 1747 \nQ 1378 1747 1168 1562 \nQ 959 1378 959 997 \nQ 959 650 1171 447 \nQ 1384 244 1747 244 \nQ 2106 244 2326 466 \nQ 2547 688 2547 1044 \nz\nM 3122 2075 \nL 3122 331 \nL 3634 331 \nL 3634 0 \nL 2547 0 \nL 2547 359 \nQ 2356 128 2106 18 \nQ 1856 -91 1522 -91 \nQ 969 -91 644 203 \nQ 319 497 319 997 \nQ 319 1513 691 1797 \nQ 1063 2081 1741 2081 \nL 2547 2081 \nL 2547 2309 \nQ 2547 2688 2317 2895 \nQ 2088 3103 1672 3103 \nQ 1328 3103 1125 2947 \nQ 922 2791 872 2484 \nL 575 2484 \nL 575 3156 \nQ 875 3284 1158 3348 \nQ 1441 3413 1709 3413 \nQ 2400 3413 2761 3070 \nQ 3122 2728 3122 2075 \nz\n\" transform=\"scale(0.015625)\"/>\n       <path id=\"DejaVuSerif-64\" d=\"M 3359 331 \nL 3909 331 \nL 3909 0 \nL 2784 0 \nL 2784 519 \nQ 2616 206 2355 57 \nQ 2094 -91 1709 -91 \nQ 1097 -91 708 395 \nQ 319 881 319 1663 \nQ 319 2444 706 2928 \nQ 1094 3413 1709 3413 \nQ 2094 3413 2355 3264 \nQ 2616 3116 2784 2803 \nL 2784 4531 \nL 2241 4531 \nL 2241 4863 \nL 3359 4863 \nL 3359 331 \nz\nM 2784 1497 \nL 2784 1825 \nQ 2784 2422 2554 2737 \nQ 2325 3053 1888 3053 \nQ 1444 3053 1217 2703 \nQ 991 2353 991 1663 \nQ 991 975 1217 622 \nQ 1444 269 1888 269 \nQ 2325 269 2554 583 \nQ 2784 897 2784 1497 \nz\n\" transform=\"scale(0.015625)\"/>\n      </defs>\n      <use xlink:href=\"#DejaVuSerif-44\"/>\n      <use xlink:href=\"#DejaVuSerif-65\" transform=\"translate(80.175781 0)\"/>\n      <use xlink:href=\"#DejaVuSerif-63\" transform=\"translate(139.355469 0)\"/>\n      <use xlink:href=\"#DejaVuSerif-61\" transform=\"translate(195.361328 0)\"/>\n      <use xlink:href=\"#DejaVuSerif-64\" transform=\"translate(254.980469 0)\"/>\n      <use xlink:href=\"#DejaVuSerif-65\" transform=\"translate(318.994141 0)\"/>\n     </g>\n    </g>\n   </g>\n   <g id=\"matplotlib.axis_2\">\n    <g id=\"ytick_1\">\n     <g id=\"line2d_8\"/>\n     <g id=\"text_9\">\n      <!-- 0.0 -->\n      <g style=\"fill: #262626\" transform=\"translate(19.05625 316.162266) scale(0.07 -0.07)\">\n       <defs>\n        <path id=\"DejaVuSerif-2e\" d=\"M 603 325 \nQ 603 500 722 622 \nQ 841 744 1019 744 \nQ 1191 744 1312 622 \nQ 1434 500 1434 325 \nQ 1434 153 1312 31 \nQ 1191 -91 1019 -91 \nQ 841 -91 722 29 \nQ 603 150 603 325 \nz\n\" transform=\"scale(0.015625)\"/>\n       </defs>\n       <use xlink:href=\"#DejaVuSerif-30\"/>\n       <use xlink:href=\"#DejaVuSerif-2e\" transform=\"translate(63.623047 0)\"/>\n       <use xlink:href=\"#DejaVuSerif-30\" transform=\"translate(95.410156 0)\"/>\n      </g>\n     </g>\n    </g>\n    <g id=\"ytick_2\">\n     <g id=\"line2d_9\"/>\n     <g id=\"text_10\">\n      <!-- 0.5 -->\n      <g style=\"fill: #262626\" transform=\"translate(19.05625 279.697645) scale(0.07 -0.07)\">\n       <defs>\n        <path id=\"DejaVuSerif-35\" d=\"M 3219 4666 \nL 3219 4153 \nL 1081 4153 \nL 1081 2816 \nQ 1244 2928 1461 2984 \nQ 1678 3041 1947 3041 \nQ 2703 3041 3140 2622 \nQ 3578 2203 3578 1478 \nQ 3578 738 3136 323 \nQ 2694 -91 1894 -91 \nQ 1572 -91 1234 -12 \nQ 897 66 544 225 \nL 544 1131 \nL 897 1131 \nQ 925 688 1179 453 \nQ 1434 219 1894 219 \nQ 2388 219 2653 544 \nQ 2919 869 2919 1478 \nQ 2919 2084 2655 2407 \nQ 2391 2731 1894 2731 \nQ 1613 2731 1398 2631 \nQ 1184 2531 1019 2322 \nL 750 2322 \nL 750 4666 \nL 3219 4666 \nz\n\" transform=\"scale(0.015625)\"/>\n       </defs>\n       <use xlink:href=\"#DejaVuSerif-30\"/>\n       <use xlink:href=\"#DejaVuSerif-2e\" transform=\"translate(63.623047 0)\"/>\n       <use xlink:href=\"#DejaVuSerif-35\" transform=\"translate(95.410156 0)\"/>\n      </g>\n     </g>\n    </g>\n    <g id=\"ytick_3\">\n     <g id=\"line2d_10\"/>\n     <g id=\"text_11\">\n      <!-- 1.0 -->\n      <g style=\"fill: #262626\" transform=\"translate(19.05625 243.233025) scale(0.07 -0.07)\">\n       <use xlink:href=\"#DejaVuSerif-31\"/>\n       <use xlink:href=\"#DejaVuSerif-2e\" transform=\"translate(63.623047 0)\"/>\n       <use xlink:href=\"#DejaVuSerif-30\" transform=\"translate(95.410156 0)\"/>\n      </g>\n     </g>\n    </g>\n    <g id=\"ytick_4\">\n     <g id=\"line2d_11\"/>\n     <g id=\"text_12\">\n      <!-- 1.5 -->\n      <g style=\"fill: #262626\" transform=\"translate(19.05625 206.768404) scale(0.07 -0.07)\">\n       <use xlink:href=\"#DejaVuSerif-31\"/>\n       <use xlink:href=\"#DejaVuSerif-2e\" transform=\"translate(63.623047 0)\"/>\n       <use xlink:href=\"#DejaVuSerif-35\" transform=\"translate(95.410156 0)\"/>\n      </g>\n     </g>\n    </g>\n    <g id=\"ytick_5\">\n     <g id=\"line2d_12\"/>\n     <g id=\"text_13\">\n      <!-- 2.0 -->\n      <g style=\"fill: #262626\" transform=\"translate(19.05625 170.303783) scale(0.07 -0.07)\">\n       <use xlink:href=\"#DejaVuSerif-32\"/>\n       <use xlink:href=\"#DejaVuSerif-2e\" transform=\"translate(63.623047 0)\"/>\n       <use xlink:href=\"#DejaVuSerif-30\" transform=\"translate(95.410156 0)\"/>\n      </g>\n     </g>\n    </g>\n    <g id=\"ytick_6\">\n     <g id=\"line2d_13\"/>\n     <g id=\"text_14\">\n      <!-- 2.5 -->\n      <g style=\"fill: #262626\" transform=\"translate(19.05625 133.839163) scale(0.07 -0.07)\">\n       <use xlink:href=\"#DejaVuSerif-32\"/>\n       <use xlink:href=\"#DejaVuSerif-2e\" transform=\"translate(63.623047 0)\"/>\n       <use xlink:href=\"#DejaVuSerif-35\" transform=\"translate(95.410156 0)\"/>\n      </g>\n     </g>\n    </g>\n    <g id=\"ytick_7\">\n     <g id=\"line2d_14\"/>\n     <g id=\"text_15\">\n      <!-- 3.0 -->\n      <g style=\"fill: #262626\" transform=\"translate(19.05625 97.374542) scale(0.07 -0.07)\">\n       <defs>\n        <path id=\"DejaVuSerif-33\" d=\"M 622 4469 \nQ 988 4606 1323 4678 \nQ 1659 4750 1953 4750 \nQ 2638 4750 3022 4454 \nQ 3406 4159 3406 3634 \nQ 3406 3213 3140 2930 \nQ 2875 2647 2388 2547 \nQ 2963 2466 3280 2130 \nQ 3597 1794 3597 1259 \nQ 3597 606 3158 257 \nQ 2719 -91 1894 -91 \nQ 1528 -91 1179 -12 \nQ 831 66 488 225 \nL 488 1131 \nL 838 1131 \nQ 869 681 1141 450 \nQ 1413 219 1906 219 \nQ 2384 219 2661 495 \nQ 2938 772 2938 1253 \nQ 2938 1803 2653 2086 \nQ 2369 2369 1819 2369 \nL 1522 2369 \nL 1522 2688 \nL 1678 2688 \nQ 2225 2688 2498 2914 \nQ 2772 3141 2772 3597 \nQ 2772 4006 2547 4223 \nQ 2322 4441 1900 4441 \nQ 1478 4441 1245 4241 \nQ 1013 4041 972 3647 \nL 622 3647 \nL 622 4469 \nz\n\" transform=\"scale(0.015625)\"/>\n       </defs>\n       <use xlink:href=\"#DejaVuSerif-33\"/>\n       <use xlink:href=\"#DejaVuSerif-2e\" transform=\"translate(63.623047 0)\"/>\n       <use xlink:href=\"#DejaVuSerif-30\" transform=\"translate(95.410156 0)\"/>\n      </g>\n     </g>\n    </g>\n    <g id=\"ytick_8\">\n     <g id=\"line2d_15\"/>\n     <g id=\"text_16\">\n      <!-- 3.5 -->\n      <g style=\"fill: #262626\" transform=\"translate(19.05625 60.909922) scale(0.07 -0.07)\">\n       <use xlink:href=\"#DejaVuSerif-33\"/>\n       <use xlink:href=\"#DejaVuSerif-2e\" transform=\"translate(63.623047 0)\"/>\n       <use xlink:href=\"#DejaVuSerif-35\" transform=\"translate(95.410156 0)\"/>\n      </g>\n     </g>\n    </g>\n    <g id=\"ytick_9\">\n     <g id=\"line2d_16\"/>\n     <g id=\"text_17\">\n      <!-- 4.0 -->\n      <g style=\"fill: #262626\" transform=\"translate(19.05625 24.445301) scale(0.07 -0.07)\">\n       <use xlink:href=\"#DejaVuSerif-34\"/>\n       <use xlink:href=\"#DejaVuSerif-2e\" transform=\"translate(63.623047 0)\"/>\n       <use xlink:href=\"#DejaVuSerif-30\" transform=\"translate(95.410156 0)\"/>\n      </g>\n     </g>\n    </g>\n    <g id=\"text_18\">\n     <!-- # of major earthquakes in Southern CA -->\n     <g style=\"fill: #262626\" transform=\"translate(13.27875 240.740156) rotate(-90) scale(0.08 -0.08)\">\n      <defs>\n       <path id=\"DejaVuSerif-23\" d=\"M 3256 2816 \nL 2375 2816 \nL 2113 1772 \nL 3003 1772 \nL 3256 2816 \nz\nM 2816 4594 \nL 2497 3297 \nL 3378 3297 \nL 3700 4594 \nL 4238 4594 \nL 3909 3297 \nL 4872 3297 \nL 4872 2816 \nL 3788 2816 \nL 3531 1772 \nL 4513 1772 \nL 4513 1294 \nL 3413 1294 \nL 3091 0 \nL 2553 0 \nL 2881 1294 \nL 1997 1294 \nL 1672 0 \nL 1141 0 \nL 1459 1294 \nL 494 1294 \nL 494 1772 \nL 1581 1772 \nL 1838 2816 \nL 850 2816 \nL 850 3297 \nL 1959 3297 \nL 2284 4594 \nL 2816 4594 \nz\n\" transform=\"scale(0.015625)\"/>\n       <path id=\"DejaVuSerif-20\" transform=\"scale(0.015625)\"/>\n       <path id=\"DejaVuSerif-6f\" d=\"M 1925 219 \nQ 2388 219 2623 584 \nQ 2859 950 2859 1663 \nQ 2859 2375 2623 2739 \nQ 2388 3103 1925 3103 \nQ 1463 3103 1227 2739 \nQ 991 2375 991 1663 \nQ 991 950 1228 584 \nQ 1466 219 1925 219 \nz\nM 1925 -91 \nQ 1200 -91 759 389 \nQ 319 869 319 1663 \nQ 319 2456 758 2934 \nQ 1197 3413 1925 3413 \nQ 2653 3413 3092 2934 \nQ 3531 2456 3531 1663 \nQ 3531 869 3092 389 \nQ 2653 -91 1925 -91 \nz\n\" transform=\"scale(0.015625)\"/>\n       <path id=\"DejaVuSerif-66\" d=\"M 2753 4078 \nL 2450 4078 \nQ 2447 4313 2317 4434 \nQ 2188 4556 1941 4556 \nQ 1619 4556 1487 4379 \nQ 1356 4203 1356 3750 \nL 1356 3322 \nL 2284 3322 \nL 2284 2988 \nL 1356 2988 \nL 1356 331 \nL 2094 331 \nL 2094 0 \nL 231 0 \nL 231 331 \nL 781 331 \nL 781 2988 \nL 231 2988 \nL 231 3322 \nL 781 3322 \nL 781 3738 \nQ 781 4294 1070 4578 \nQ 1359 4863 1919 4863 \nQ 2128 4863 2337 4825 \nQ 2547 4788 2753 4709 \nL 2753 4078 \nz\n\" transform=\"scale(0.015625)\"/>\n       <path id=\"DejaVuSerif-6d\" d=\"M 3316 2675 \nQ 3481 3041 3739 3227 \nQ 3997 3413 4341 3413 \nQ 4863 3413 5119 3089 \nQ 5375 2766 5375 2113 \nL 5375 331 \nL 5894 331 \nL 5894 0 \nL 4300 0 \nL 4300 331 \nL 4800 331 \nL 4800 2047 \nQ 4800 2556 4650 2772 \nQ 4500 2988 4153 2988 \nQ 3769 2988 3567 2697 \nQ 3366 2406 3366 1850 \nL 3366 331 \nL 3866 331 \nL 3866 0 \nL 2291 0 \nL 2291 331 \nL 2791 331 \nL 2791 2069 \nQ 2791 2566 2641 2777 \nQ 2491 2988 2144 2988 \nQ 1759 2988 1557 2697 \nQ 1356 2406 1356 1850 \nL 1356 331 \nL 1856 331 \nL 1856 0 \nL 263 0 \nL 263 331 \nL 781 331 \nL 781 2994 \nL 231 2994 \nL 231 3322 \nL 1356 3322 \nL 1356 2731 \nQ 1516 3063 1762 3238 \nQ 2009 3413 2322 3413 \nQ 2709 3413 2968 3220 \nQ 3228 3028 3316 2675 \nz\n\" transform=\"scale(0.015625)\"/>\n       <path id=\"DejaVuSerif-6a\" d=\"M 641 4353 \nQ 641 4497 745 4603 \nQ 850 4709 997 4709 \nQ 1141 4709 1245 4603 \nQ 1350 4497 1350 4353 \nQ 1350 4206 1248 4103 \nQ 1147 4000 997 4000 \nQ 850 4000 745 4103 \nQ 641 4206 641 4353 \nz\nM 781 2988 \nL 238 2988 \nL 238 3322 \nL 1356 3322 \nL 1356 -325 \nQ 1356 -838 1051 -1130 \nQ 747 -1422 213 -1422 \nQ -13 -1422 -217 -1370 \nQ -422 -1319 -616 -1216 \nL -616 -531 \nL -319 -531 \nQ -297 -831 -164 -972 \nQ -31 -1113 225 -1113 \nQ 509 -1113 645 -920 \nQ 781 -728 781 -325 \nL 781 2988 \nz\n\" transform=\"scale(0.015625)\"/>\n       <path id=\"DejaVuSerif-72\" d=\"M 3059 3328 \nL 3059 2497 \nL 2728 2497 \nQ 2713 2744 2591 2866 \nQ 2469 2988 2234 2988 \nQ 1809 2988 1582 2694 \nQ 1356 2400 1356 1850 \nL 1356 331 \nL 2022 331 \nL 2022 0 \nL 263 0 \nL 263 331 \nL 781 331 \nL 781 2994 \nL 231 2994 \nL 231 3322 \nL 1356 3322 \nL 1356 2731 \nQ 1525 3078 1790 3245 \nQ 2056 3413 2438 3413 \nQ 2578 3413 2733 3391 \nQ 2888 3369 3059 3328 \nz\n\" transform=\"scale(0.015625)\"/>\n       <path id=\"DejaVuSerif-74\" d=\"M 691 2988 \nL 184 2988 \nL 184 3322 \nL 691 3322 \nL 691 4353 \nL 1269 4353 \nL 1269 3322 \nL 2350 3322 \nL 2350 2988 \nL 1269 2988 \nL 1269 878 \nQ 1269 456 1350 337 \nQ 1431 219 1650 219 \nQ 1875 219 1978 351 \nQ 2081 484 2088 781 \nL 2522 781 \nQ 2497 328 2275 118 \nQ 2053 -91 1600 -91 \nQ 1103 -91 897 129 \nQ 691 350 691 878 \nL 691 2988 \nz\n\" transform=\"scale(0.015625)\"/>\n       <path id=\"DejaVuSerif-68\" d=\"M 263 0 \nL 263 331 \nL 781 331 \nL 781 4531 \nL 231 4531 \nL 231 4863 \nL 1356 4863 \nL 1356 2731 \nQ 1516 3069 1770 3241 \nQ 2025 3413 2363 3413 \nQ 2913 3413 3172 3097 \nQ 3431 2781 3431 2113 \nL 3431 331 \nL 3944 331 \nL 3944 0 \nL 2356 0 \nL 2356 331 \nL 2853 331 \nL 2853 1931 \nQ 2853 2541 2704 2764 \nQ 2556 2988 2175 2988 \nQ 1775 2988 1565 2697 \nQ 1356 2406 1356 1850 \nL 1356 331 \nL 1856 331 \nL 1856 0 \nL 263 0 \nz\n\" transform=\"scale(0.015625)\"/>\n       <path id=\"DejaVuSerif-71\" d=\"M 3359 2988 \nL 3359 -997 \nL 3909 -997 \nL 3909 -1331 \nL 2241 -1331 \nL 2241 -997 \nL 2784 -997 \nL 2784 519 \nQ 2616 206 2355 57 \nQ 2094 -91 1709 -91 \nQ 1097 -91 708 395 \nQ 319 881 319 1663 \nQ 319 2444 706 2928 \nQ 1094 3413 1709 3413 \nQ 2094 3413 2355 3264 \nQ 2616 3116 2784 2803 \nL 2784 3322 \nL 3909 3322 \nL 3909 2988 \nL 3359 2988 \nz\nM 2784 1825 \nQ 2784 2422 2554 2737 \nQ 2325 3053 1888 3053 \nQ 1444 3053 1217 2703 \nQ 991 2353 991 1663 \nQ 991 975 1217 622 \nQ 1444 269 1888 269 \nQ 2325 269 2554 583 \nQ 2784 897 2784 1497 \nL 2784 1825 \nz\n\" transform=\"scale(0.015625)\"/>\n       <path id=\"DejaVuSerif-75\" d=\"M 2266 3322 \nL 3341 3322 \nL 3341 331 \nL 3884 331 \nL 3884 0 \nL 2766 0 \nL 2766 588 \nQ 2606 256 2353 82 \nQ 2100 -91 1766 -91 \nQ 1213 -91 952 223 \nQ 691 538 691 1209 \nL 691 2988 \nL 172 2988 \nL 172 3322 \nL 1269 3322 \nL 1269 1388 \nQ 1269 781 1417 556 \nQ 1566 331 1947 331 \nQ 2347 331 2556 625 \nQ 2766 919 2766 1478 \nL 2766 2988 \nL 2266 2988 \nL 2266 3322 \nz\n\" transform=\"scale(0.015625)\"/>\n       <path id=\"DejaVuSerif-6b\" d=\"M 1831 0 \nL 219 0 \nL 219 331 \nL 738 331 \nL 738 4531 \nL 184 4531 \nL 184 4863 \nL 1313 4863 \nL 1313 1697 \nL 2713 2988 \nL 2234 2988 \nL 2234 3322 \nL 3738 3322 \nL 3738 2988 \nL 3169 2988 \nL 2181 2075 \nL 3444 331 \nL 3922 331 \nL 3922 0 \nL 2284 0 \nL 2284 331 \nL 2759 331 \nL 1766 1697 \nL 1313 1275 \nL 1313 331 \nL 1831 331 \nL 1831 0 \nz\n\" transform=\"scale(0.015625)\"/>\n       <path id=\"DejaVuSerif-73\" d=\"M 359 184 \nL 359 959 \nL 691 959 \nQ 703 588 923 403 \nQ 1144 219 1575 219 \nQ 1963 219 2166 364 \nQ 2369 509 2369 788 \nQ 2369 1006 2220 1140 \nQ 2072 1275 1594 1428 \nL 1178 1569 \nQ 750 1706 558 1912 \nQ 366 2119 366 2438 \nQ 366 2894 700 3153 \nQ 1034 3413 1625 3413 \nQ 1888 3413 2178 3344 \nQ 2469 3275 2778 3144 \nL 2778 2419 \nL 2447 2419 \nQ 2434 2741 2221 2922 \nQ 2009 3103 1644 3103 \nQ 1281 3103 1095 2975 \nQ 909 2847 909 2591 \nQ 909 2381 1050 2254 \nQ 1191 2128 1613 1997 \nL 2069 1856 \nQ 2541 1709 2748 1489 \nQ 2956 1269 2956 922 \nQ 2956 450 2595 179 \nQ 2234 -91 1600 -91 \nQ 1278 -91 972 -22 \nQ 666 47 359 184 \nz\n\" transform=\"scale(0.015625)\"/>\n       <path id=\"DejaVuSerif-69\" d=\"M 622 4353 \nQ 622 4497 726 4603 \nQ 831 4709 978 4709 \nQ 1122 4709 1226 4603 \nQ 1331 4497 1331 4353 \nQ 1331 4206 1228 4103 \nQ 1125 4000 978 4000 \nQ 831 4000 726 4103 \nQ 622 4206 622 4353 \nz\nM 1356 331 \nL 1900 331 \nL 1900 0 \nL 231 0 \nL 231 331 \nL 781 331 \nL 781 2988 \nL 231 2988 \nL 231 3322 \nL 1356 3322 \nL 1356 331 \nz\n\" transform=\"scale(0.015625)\"/>\n       <path id=\"DejaVuSerif-6e\" d=\"M 263 0 \nL 263 331 \nL 781 331 \nL 781 2988 \nL 231 2988 \nL 231 3322 \nL 1356 3322 \nL 1356 2731 \nQ 1516 3069 1770 3241 \nQ 2025 3413 2363 3413 \nQ 2913 3413 3172 3097 \nQ 3431 2781 3431 2113 \nL 3431 331 \nL 3944 331 \nL 3944 0 \nL 2356 0 \nL 2356 331 \nL 2853 331 \nL 2853 1931 \nQ 2853 2541 2703 2767 \nQ 2553 2994 2175 2994 \nQ 1775 2994 1565 2701 \nQ 1356 2409 1356 1850 \nL 1356 331 \nL 1856 331 \nL 1856 0 \nL 263 0 \nz\n\" transform=\"scale(0.015625)\"/>\n       <path id=\"DejaVuSerif-53\" d=\"M 594 225 \nL 594 1288 \nL 953 1284 \nQ 969 753 1261 498 \nQ 1553 244 2150 244 \nQ 2706 244 2998 464 \nQ 3291 684 3291 1106 \nQ 3291 1444 3114 1625 \nQ 2938 1806 2369 1978 \nL 1753 2163 \nQ 1084 2366 811 2669 \nQ 538 2972 538 3500 \nQ 538 4094 959 4422 \nQ 1381 4750 2144 4750 \nQ 2469 4750 2856 4679 \nQ 3244 4609 3681 4475 \nL 3681 3481 \nL 3328 3481 \nQ 3275 3975 2998 4195 \nQ 2722 4416 2156 4416 \nQ 1663 4416 1405 4214 \nQ 1147 4013 1147 3628 \nQ 1147 3294 1340 3103 \nQ 1534 2913 2163 2725 \nL 2741 2553 \nQ 3375 2363 3645 2067 \nQ 3916 1772 3916 1275 \nQ 3916 597 3481 253 \nQ 3047 -91 2188 -91 \nQ 1803 -91 1404 -12 \nQ 1006 66 594 225 \nz\n\" transform=\"scale(0.015625)\"/>\n       <path id=\"DejaVuSerif-43\" d=\"M 4513 1234 \nQ 4306 581 3820 245 \nQ 3334 -91 2591 -91 \nQ 2134 -91 1743 65 \nQ 1353 222 1050 525 \nQ 700 875 529 1320 \nQ 359 1766 359 2328 \nQ 359 3416 987 4083 \nQ 1616 4750 2644 4750 \nQ 3025 4750 3456 4650 \nQ 3888 4550 4384 4347 \nL 4384 3272 \nL 4031 3272 \nQ 3916 3859 3567 4137 \nQ 3219 4416 2591 4416 \nQ 1844 4416 1459 3886 \nQ 1075 3356 1075 2328 \nQ 1075 1303 1459 773 \nQ 1844 244 2591 244 \nQ 3113 244 3450 492 \nQ 3788 741 3938 1234 \nL 4513 1234 \nz\n\" transform=\"scale(0.015625)\"/>\n       <path id=\"DejaVuSerif-41\" d=\"M 1281 1691 \nL 2994 1691 \nL 2138 3909 \nL 1281 1691 \nz\nM -38 0 \nL -38 331 \nL 372 331 \nL 2034 4666 \nL 2559 4666 \nL 4225 331 \nL 4684 331 \nL 4684 0 \nL 2988 0 \nL 2988 331 \nL 3506 331 \nL 3116 1356 \nL 1153 1356 \nL 763 331 \nL 1275 331 \nL 1275 0 \nL -38 0 \nz\n\" transform=\"scale(0.015625)\"/>\n      </defs>\n      <use xlink:href=\"#DejaVuSerif-23\"/>\n      <use xlink:href=\"#DejaVuSerif-20\" transform=\"translate(83.789062 0)\"/>\n      <use xlink:href=\"#DejaVuSerif-6f\" transform=\"translate(115.576172 0)\"/>\n      <use xlink:href=\"#DejaVuSerif-66\" transform=\"translate(175.78125 0)\"/>\n      <use xlink:href=\"#DejaVuSerif-20\" transform=\"translate(212.792969 0)\"/>\n      <use xlink:href=\"#DejaVuSerif-6d\" transform=\"translate(244.580078 0)\"/>\n      <use xlink:href=\"#DejaVuSerif-61\" transform=\"translate(339.404297 0)\"/>\n      <use xlink:href=\"#DejaVuSerif-6a\" transform=\"translate(399.023438 0)\"/>\n      <use xlink:href=\"#DejaVuSerif-6f\" transform=\"translate(430.029297 0)\"/>\n      <use xlink:href=\"#DejaVuSerif-72\" transform=\"translate(490.234375 0)\"/>\n      <use xlink:href=\"#DejaVuSerif-20\" transform=\"translate(538.037109 0)\"/>\n      <use xlink:href=\"#DejaVuSerif-65\" transform=\"translate(569.824219 0)\"/>\n      <use xlink:href=\"#DejaVuSerif-61\" transform=\"translate(629.003906 0)\"/>\n      <use xlink:href=\"#DejaVuSerif-72\" transform=\"translate(688.623047 0)\"/>\n      <use xlink:href=\"#DejaVuSerif-74\" transform=\"translate(736.425781 0)\"/>\n      <use xlink:href=\"#DejaVuSerif-68\" transform=\"translate(776.611328 0)\"/>\n      <use xlink:href=\"#DejaVuSerif-71\" transform=\"translate(841.015625 0)\"/>\n      <use xlink:href=\"#DejaVuSerif-75\" transform=\"translate(905.029297 0)\"/>\n      <use xlink:href=\"#DejaVuSerif-61\" transform=\"translate(969.433594 0)\"/>\n      <use xlink:href=\"#DejaVuSerif-6b\" transform=\"translate(1029.052734 0)\"/>\n      <use xlink:href=\"#DejaVuSerif-65\" transform=\"translate(1089.648438 0)\"/>\n      <use xlink:href=\"#DejaVuSerif-73\" transform=\"translate(1148.828125 0)\"/>\n      <use xlink:href=\"#DejaVuSerif-20\" transform=\"translate(1200.146484 0)\"/>\n      <use xlink:href=\"#DejaVuSerif-69\" transform=\"translate(1231.933594 0)\"/>\n      <use xlink:href=\"#DejaVuSerif-6e\" transform=\"translate(1263.916016 0)\"/>\n      <use xlink:href=\"#DejaVuSerif-20\" transform=\"translate(1328.320312 0)\"/>\n      <use xlink:href=\"#DejaVuSerif-53\" transform=\"translate(1360.107422 0)\"/>\n      <use xlink:href=\"#DejaVuSerif-6f\" transform=\"translate(1428.613281 0)\"/>\n      <use xlink:href=\"#DejaVuSerif-75\" transform=\"translate(1488.818359 0)\"/>\n      <use xlink:href=\"#DejaVuSerif-74\" transform=\"translate(1553.222656 0)\"/>\n      <use xlink:href=\"#DejaVuSerif-68\" transform=\"translate(1593.408203 0)\"/>\n      <use xlink:href=\"#DejaVuSerif-65\" transform=\"translate(1657.8125 0)\"/>\n      <use xlink:href=\"#DejaVuSerif-72\" transform=\"translate(1716.992188 0)\"/>\n      <use xlink:href=\"#DejaVuSerif-6e\" transform=\"translate(1764.794922 0)\"/>\n      <use xlink:href=\"#DejaVuSerif-20\" transform=\"translate(1829.199219 0)\"/>\n      <use xlink:href=\"#DejaVuSerif-43\" transform=\"translate(1860.986328 0)\"/>\n      <use xlink:href=\"#DejaVuSerif-41\" transform=\"translate(1937.5 0)\"/>\n     </g>\n    </g>\n   </g>\n   <g id=\"patch_3\">\n    <path d=\"M 52.644418 313.502812 \nL 82.033534 313.502812 \nL 82.033534 313.502812 \nL 52.644418 313.502812 \nz\n\" clip-path=\"url(#p76ec910b9a)\" style=\"fill: #4c72b0; stroke: #ffffff; stroke-width: 0.8; stroke-linejoin: miter\"/>\n   </g>\n   <g id=\"patch_4\">\n    <path d=\"M 84.438098 313.502812 \nL 113.827215 313.502812 \nL 113.827215 240.573571 \nL 84.438098 240.573571 \nz\n\" clip-path=\"url(#p76ec910b9a)\" style=\"fill: #4c72b0; stroke: #ffffff; stroke-width: 0.8; stroke-linejoin: miter\"/>\n   </g>\n   <g id=\"patch_5\">\n    <path d=\"M 116.231779 313.502812 \nL 145.620895 313.502812 \nL 145.620895 167.64433 \nL 116.231779 167.64433 \nz\n\" clip-path=\"url(#p76ec910b9a)\" style=\"fill: #4c72b0; stroke: #ffffff; stroke-width: 0.8; stroke-linejoin: miter\"/>\n   </g>\n   <g id=\"patch_6\">\n    <path d=\"M 148.025459 313.502812 \nL 177.414576 313.502812 \nL 177.414576 313.502812 \nL 148.025459 313.502812 \nz\n\" clip-path=\"url(#p76ec910b9a)\" style=\"fill: #4c72b0; stroke: #ffffff; stroke-width: 0.8; stroke-linejoin: miter\"/>\n   </g>\n   <g id=\"patch_7\">\n    <path d=\"M 179.81914 313.502812 \nL 209.208256 313.502812 \nL 209.208256 94.715089 \nL 179.81914 94.715089 \nz\n\" clip-path=\"url(#p76ec910b9a)\" style=\"fill: #4c72b0; stroke: #ffffff; stroke-width: 0.8; stroke-linejoin: miter\"/>\n   </g>\n   <g id=\"patch_8\">\n    <path d=\"M 211.61282 313.502812 \nL 241.001937 313.502812 \nL 241.001937 167.64433 \nL 211.61282 167.64433 \nz\n\" clip-path=\"url(#p76ec910b9a)\" style=\"fill: #4c72b0; stroke: #ffffff; stroke-width: 0.8; stroke-linejoin: miter\"/>\n   </g>\n   <g id=\"patch_9\">\n    <path d=\"M 243.406501 313.502812 \nL 272.795617 313.502812 \nL 272.795617 240.573571 \nL 243.406501 240.573571 \nz\n\" clip-path=\"url(#p76ec910b9a)\" style=\"fill: #4c72b0; stroke: #ffffff; stroke-width: 0.8; stroke-linejoin: miter\"/>\n   </g>\n   <g id=\"patch_10\">\n    <path d=\"M 275.200181 313.502812 \nL 304.589298 313.502812 \nL 304.589298 167.64433 \nL 275.200181 167.64433 \nz\n\" clip-path=\"url(#p76ec910b9a)\" style=\"fill: #4c72b0; stroke: #ffffff; stroke-width: 0.8; stroke-linejoin: miter\"/>\n   </g>\n   <g id=\"patch_11\">\n    <path d=\"M 306.993862 313.502812 \nL 336.382978 313.502812 \nL 336.382978 240.573571 \nL 306.993862 240.573571 \nz\n\" clip-path=\"url(#p76ec910b9a)\" style=\"fill: #4c72b0; stroke: #ffffff; stroke-width: 0.8; stroke-linejoin: miter\"/>\n   </g>\n   <g id=\"patch_12\">\n    <path d=\"M 338.787542 313.502812 \nL 368.176659 313.502812 \nL 368.176659 21.785848 \nL 338.787542 21.785848 \nz\n\" clip-path=\"url(#p76ec910b9a)\" style=\"fill: #4c72b0; stroke: #ffffff; stroke-width: 0.8; stroke-linejoin: miter\"/>\n   </g>\n   <g id=\"patch_13\">\n    <path d=\"M 370.581223 313.502812 \nL 399.970339 313.502812 \nL 399.970339 313.502812 \nL 370.581223 313.502812 \nz\n\" clip-path=\"url(#p76ec910b9a)\" style=\"fill: #4c72b0; stroke: #ffffff; stroke-width: 0.8; stroke-linejoin: miter\"/>\n   </g>\n   <g id=\"patch_14\">\n    <path d=\"M 402.374903 313.502812 \nL 431.76402 313.502812 \nL 431.76402 167.64433 \nL 402.374903 167.64433 \nz\n\" clip-path=\"url(#p76ec910b9a)\" style=\"fill: #4c72b0; stroke: #ffffff; stroke-width: 0.8; stroke-linejoin: miter\"/>\n   </g>\n   <g id=\"patch_15\">\n    <path d=\"M 33.688438 313.502812 \nL 33.688438 21.785848 \n\" style=\"fill: none; stroke: #262626; stroke-width: 0.5; stroke-linejoin: miter; stroke-linecap: square\"/>\n   </g>\n   <g id=\"patch_16\">\n    <path d=\"M 67.338976 313.502812 \nL 420.008373 313.502812 \n\" style=\"fill: none; stroke: #262626; stroke-width: 0.5; stroke-linejoin: miter; stroke-linecap: square\"/>\n   </g>\n  </g>\n </g>\n <defs>\n  <clipPath id=\"p76ec910b9a\">\n   <rect x=\"33.688438\" y=\"7.2\" width=\"417.031562\" height=\"306.302812\"/>\n  </clipPath>\n </defs>\n</svg>\n"
          },
          "metadata": {}
        }
      ],
      "source": [
        "fig, ax = plt.subplots()\n",
        "ax.bar(\n",
        "    np.linspace(1900, 2019, eq_data.shape[0]),\n",
        "    eq_data,\n",
        "    width=10\n",
        ")\n",
        "ax.set_xlabel('Decade')\n",
        "ax.set_ylabel('# of major earthquakes in Southern CA')\n",
        "sns.despine(trim=True);"
      ]
    },
    {
      "cell_type": "markdown",
      "metadata": {
        "id": "2CmXCZYGUO-_"
      },
      "source": [
        "A. The right way to model the number of earthquakes $X_n$ in a decade $n$ is using a Poisson distribution with unknown rate parameter $\\lambda$, i.e.,\n",
        "\n",
        "$$\n",
        "X_n | \\lambda \\sim \\operatorname{Poisson}(\\lambda).\n",
        "$$\n",
        "\n",
        "The probability mass function is:\n",
        "\n",
        "$$\n",
        "p(x_n|\\lambda) \\equiv p(X_n=x_n|\\lambda) = \\frac{\\lambda^{x_n}}{x_n!}e^{-\\lambda}.\n",
        "$$\n",
        "\n",
        "Here we have $N = 12$ observations, say $x_{1:N} = (x_1,\\dots,x_N)$ (stored in ``eq_data`` above).\n",
        "Find the *joint probability mass function* (otherwise known as the likelihood) $p(x_{1:N}|\\lambda)$ of these random variables.<br>\n",
        "\n",
        "**Hint:** Assume that all measurements are independent. Then, their joint PMF is the product of the individual PMFs.\n",
        "You should be able to simplify the expression.\n",
        "\n",
        "<br>\n",
        "\n",
        "**Answer:**\n",
        "\n",
        "<br><br><br><br><br><br><br><br>"
      ]
    },
    {
      "cell_type": "markdown",
      "metadata": {
        "id": "xBVe6ceXUO-_"
      },
      "source": [
        "B. The rate parameter $\\lambda$ (number of significant earthquakes per ten years) is positive. What prior distribution should we assign to it if we expect it to be around 2?\n",
        "A convenient choice is to pick a [Gamma](https://en.wikipedia.org/wiki/Gamma_distribution). See also [the scipy.stats page for the Gamma](https://docs.scipy.org/doc/scipy/reference/generated/scipy.stats.gamma.html) because it results in an analytical posterior.\n",
        "We write:\n",
        "\n",
        "$$\n",
        "\\lambda \\sim \\operatorname{Gamma}(\\alpha, \\beta),\n",
        "$$\n",
        "\n",
        "where $\\alpha$ and $\\beta$ are positive *hyper-parameters* that we must set to represent our prior state of knowledge.\n",
        "The PDF is:\n",
        "\n",
        "$$\n",
        "p(\\lambda) = \\frac{\\beta^\\alpha \\lambda^{\\alpha-1}e^{-\\beta \\lambda}}{\\Gamma(\\alpha)},\n",
        "$$\n",
        "\n",
        "where we are not conditioning on $\\alpha$ and $\\beta$ because they should be fixed numbers.\n",
        "Use the code below to pick reasonable values for $\\alpha$ and $\\beta$.\n",
        "<br>\n",
        "**Just enter your choice of $\\alpha$ and $\\beta$ in the code block below.**\n",
        "<br>\n",
        "\n",
        "**Hint:** Notice that the maximum entropy distribution for a positive parameter with known expectation is the [Exponential](https://en.wikipedia.org/wiki/Exponential_distribution), e.g., see the Table in [this wiki page](https://en.wikipedia.org/wiki/Maximum_entropy_probability_distribution). Then, notice that the Exponential is a particular case of the Gamma (set $\\alpha=1$)."
      ]
    },
    {
      "cell_type": "code",
      "execution_count": 15,
      "metadata": {
        "id": "GRqbNE8AUO-_",
        "outputId": "044d1bd7-1f9a-4811-ae80-8680101303e6",
        "colab": {
          "base_uri": "https://localhost:8080/",
          "height": 479
        }
      },
      "outputs": [
        {
          "output_type": "display_data",
          "data": {
            "text/plain": [
              "<Figure size 3840x2880 with 1 Axes>"
            ],
            "image/svg+xml": "<?xml version=\"1.0\" encoding=\"utf-8\" standalone=\"no\"?>\n<!DOCTYPE svg PUBLIC \"-//W3C//DTD SVG 1.1//EN\"\n  \"http://www.w3.org/Graphics/SVG/1.1/DTD/svg11.dtd\">\n<svg xmlns:xlink=\"http://www.w3.org/1999/xlink\" width=\"457.92pt\" height=\"342.72pt\" viewBox=\"0 0 457.92 342.72\" xmlns=\"http://www.w3.org/2000/svg\" version=\"1.1\">\n <metadata>\n  <rdf:RDF xmlns:dc=\"http://purl.org/dc/elements/1.1/\" xmlns:cc=\"http://creativecommons.org/ns#\" xmlns:rdf=\"http://www.w3.org/1999/02/22-rdf-syntax-ns#\">\n   <cc:Work>\n    <dc:type rdf:resource=\"http://purl.org/dc/dcmitype/StillImage\"/>\n    <dc:date>2025-07-08T23:16:50.369036</dc:date>\n    <dc:format>image/svg+xml</dc:format>\n    <dc:creator>\n     <cc:Agent>\n      <dc:title>Matplotlib v3.10.0, https://matplotlib.org/</dc:title>\n     </cc:Agent>\n    </dc:creator>\n   </cc:Work>\n  </rdf:RDF>\n </metadata>\n <defs>\n  <style type=\"text/css\">*{stroke-linejoin: round; stroke-linecap: butt}</style>\n </defs>\n <g id=\"figure_1\">\n  <g id=\"patch_1\">\n   <path d=\"M 0 342.72 \nL 457.92 342.72 \nL 457.92 0 \nL 0 0 \nz\n\" style=\"fill: #ffffff\"/>\n  </g>\n  <g id=\"axes_1\">\n   <g id=\"patch_2\">\n    <path d=\"M 33.592188 313.325312 \nL 450.72 313.325312 \nL 450.72 7.2 \nL 33.592188 7.2 \nz\n\" style=\"fill: #ffffff\"/>\n   </g>\n   <g id=\"matplotlib.axis_1\">\n    <g id=\"xtick_1\">\n     <g id=\"line2d_1\"/>\n     <g id=\"text_1\">\n      <!-- 0 -->\n      <g style=\"fill: #262626\" transform=\"translate(50.325668 322.144219) scale(0.07 -0.07)\">\n       <defs>\n        <path id=\"DejaVuSerif-30\" d=\"M 2034 219 \nQ 2513 219 2750 744 \nQ 2988 1269 2988 2328 \nQ 2988 3391 2750 3916 \nQ 2513 4441 2034 4441 \nQ 1556 4441 1318 3916 \nQ 1081 3391 1081 2328 \nQ 1081 1269 1318 744 \nQ 1556 219 2034 219 \nz\nM 2034 -91 \nQ 1275 -91 848 546 \nQ 422 1184 422 2328 \nQ 422 3475 848 4112 \nQ 1275 4750 2034 4750 \nQ 2797 4750 3222 4112 \nQ 3647 3475 3647 2328 \nQ 3647 1184 3222 546 \nQ 2797 -91 2034 -91 \nz\n\" transform=\"scale(0.015625)\"/>\n       </defs>\n       <use xlink:href=\"#DejaVuSerif-30\"/>\n      </g>\n     </g>\n    </g>\n    <g id=\"xtick_2\">\n     <g id=\"line2d_2\"/>\n     <g id=\"text_2\">\n      <!-- 1 -->\n      <g style=\"fill: #262626\" transform=\"translate(132.669444 322.144219) scale(0.07 -0.07)\">\n       <defs>\n        <path id=\"DejaVuSerif-31\" d=\"M 909 0 \nL 909 331 \nL 1722 331 \nL 1722 4213 \nL 781 3603 \nL 781 4013 \nL 1919 4750 \nL 2350 4750 \nL 2350 331 \nL 3163 331 \nL 3163 0 \nL 909 0 \nz\n\" transform=\"scale(0.015625)\"/>\n       </defs>\n       <use xlink:href=\"#DejaVuSerif-31\"/>\n      </g>\n     </g>\n    </g>\n    <g id=\"xtick_3\">\n     <g id=\"line2d_3\"/>\n     <g id=\"text_3\">\n      <!-- 2 -->\n      <g style=\"fill: #262626\" transform=\"translate(215.01322 322.144219) scale(0.07 -0.07)\">\n       <defs>\n        <path id=\"DejaVuSerif-32\" d=\"M 819 3553 \nL 469 3553 \nL 469 4384 \nQ 803 4563 1142 4656 \nQ 1481 4750 1806 4750 \nQ 2534 4750 2956 4397 \nQ 3378 4044 3378 3438 \nQ 3378 2753 2422 1800 \nQ 2347 1728 2309 1691 \nL 1131 513 \nL 3078 513 \nL 3078 1088 \nL 3444 1088 \nL 3444 0 \nL 434 0 \nL 434 341 \nL 1850 1753 \nQ 2319 2222 2519 2614 \nQ 2719 3006 2719 3438 \nQ 2719 3909 2473 4175 \nQ 2228 4441 1797 4441 \nQ 1350 4441 1106 4219 \nQ 863 3997 819 3553 \nz\n\" transform=\"scale(0.015625)\"/>\n       </defs>\n       <use xlink:href=\"#DejaVuSerif-32\"/>\n      </g>\n     </g>\n    </g>\n    <g id=\"xtick_4\">\n     <g id=\"line2d_4\"/>\n     <g id=\"text_4\">\n      <!-- 3 -->\n      <g style=\"fill: #262626\" transform=\"translate(297.356996 322.144219) scale(0.07 -0.07)\">\n       <defs>\n        <path id=\"DejaVuSerif-33\" d=\"M 622 4469 \nQ 988 4606 1323 4678 \nQ 1659 4750 1953 4750 \nQ 2638 4750 3022 4454 \nQ 3406 4159 3406 3634 \nQ 3406 3213 3140 2930 \nQ 2875 2647 2388 2547 \nQ 2963 2466 3280 2130 \nQ 3597 1794 3597 1259 \nQ 3597 606 3158 257 \nQ 2719 -91 1894 -91 \nQ 1528 -91 1179 -12 \nQ 831 66 488 225 \nL 488 1131 \nL 838 1131 \nQ 869 681 1141 450 \nQ 1413 219 1906 219 \nQ 2384 219 2661 495 \nQ 2938 772 2938 1253 \nQ 2938 1803 2653 2086 \nQ 2369 2369 1819 2369 \nL 1522 2369 \nL 1522 2688 \nL 1678 2688 \nQ 2225 2688 2498 2914 \nQ 2772 3141 2772 3597 \nQ 2772 4006 2547 4223 \nQ 2322 4441 1900 4441 \nQ 1478 4441 1245 4241 \nQ 1013 4041 972 3647 \nL 622 3647 \nL 622 4469 \nz\n\" transform=\"scale(0.015625)\"/>\n       </defs>\n       <use xlink:href=\"#DejaVuSerif-33\"/>\n      </g>\n     </g>\n    </g>\n    <g id=\"xtick_5\">\n     <g id=\"line2d_5\"/>\n     <g id=\"text_5\">\n      <!-- 4 -->\n      <g style=\"fill: #262626\" transform=\"translate(379.700772 322.144219) scale(0.07 -0.07)\">\n       <defs>\n        <path id=\"DejaVuSerif-34\" d=\"M 2234 1581 \nL 2234 4063 \nL 641 1581 \nL 2234 1581 \nz\nM 3609 0 \nL 1484 0 \nL 1484 331 \nL 2234 331 \nL 2234 1247 \nL 197 1247 \nL 197 1588 \nL 2241 4750 \nL 2859 4750 \nL 2859 1581 \nL 3750 1581 \nL 3750 1247 \nL 2859 1247 \nL 2859 331 \nL 3609 331 \nL 3609 0 \nz\n\" transform=\"scale(0.015625)\"/>\n       </defs>\n       <use xlink:href=\"#DejaVuSerif-34\"/>\n      </g>\n     </g>\n    </g>\n    <g id=\"text_6\">\n     <!-- $\\lambda$ (# or major earthquakes per decade) -->\n     <g style=\"fill: #262626\" transform=\"translate(163.076094 333.68) scale(0.08 -0.08)\">\n      <defs>\n       <path id=\"DejaVuSans-Oblique-3bb\" d=\"M 2350 4316 \nL 3125 0 \nL 2516 0 \nL 2038 2588 \nL 328 0 \nL -281 0 \nL 1903 3356 \nL 1794 3975 \nQ 1725 4369 1391 4369 \nL 1091 4369 \nL 1184 4863 \nL 1550 4856 \nQ 2253 4847 2350 4316 \nz\n\" transform=\"scale(0.015625)\"/>\n       <path id=\"DejaVuSerif-20\" transform=\"scale(0.015625)\"/>\n       <path id=\"DejaVuSerif-28\" d=\"M 2041 -997 \nQ 1281 -656 893 83 \nQ 506 822 506 1931 \nQ 506 3044 893 3783 \nQ 1281 4522 2041 4863 \nL 2041 4556 \nQ 1559 4225 1350 3623 \nQ 1141 3022 1141 1931 \nQ 1141 844 1350 242 \nQ 1559 -359 2041 -691 \nL 2041 -997 \nz\n\" transform=\"scale(0.015625)\"/>\n       <path id=\"DejaVuSerif-23\" d=\"M 3256 2816 \nL 2375 2816 \nL 2113 1772 \nL 3003 1772 \nL 3256 2816 \nz\nM 2816 4594 \nL 2497 3297 \nL 3378 3297 \nL 3700 4594 \nL 4238 4594 \nL 3909 3297 \nL 4872 3297 \nL 4872 2816 \nL 3788 2816 \nL 3531 1772 \nL 4513 1772 \nL 4513 1294 \nL 3413 1294 \nL 3091 0 \nL 2553 0 \nL 2881 1294 \nL 1997 1294 \nL 1672 0 \nL 1141 0 \nL 1459 1294 \nL 494 1294 \nL 494 1772 \nL 1581 1772 \nL 1838 2816 \nL 850 2816 \nL 850 3297 \nL 1959 3297 \nL 2284 4594 \nL 2816 4594 \nz\n\" transform=\"scale(0.015625)\"/>\n       <path id=\"DejaVuSerif-6f\" d=\"M 1925 219 \nQ 2388 219 2623 584 \nQ 2859 950 2859 1663 \nQ 2859 2375 2623 2739 \nQ 2388 3103 1925 3103 \nQ 1463 3103 1227 2739 \nQ 991 2375 991 1663 \nQ 991 950 1228 584 \nQ 1466 219 1925 219 \nz\nM 1925 -91 \nQ 1200 -91 759 389 \nQ 319 869 319 1663 \nQ 319 2456 758 2934 \nQ 1197 3413 1925 3413 \nQ 2653 3413 3092 2934 \nQ 3531 2456 3531 1663 \nQ 3531 869 3092 389 \nQ 2653 -91 1925 -91 \nz\n\" transform=\"scale(0.015625)\"/>\n       <path id=\"DejaVuSerif-72\" d=\"M 3059 3328 \nL 3059 2497 \nL 2728 2497 \nQ 2713 2744 2591 2866 \nQ 2469 2988 2234 2988 \nQ 1809 2988 1582 2694 \nQ 1356 2400 1356 1850 \nL 1356 331 \nL 2022 331 \nL 2022 0 \nL 263 0 \nL 263 331 \nL 781 331 \nL 781 2994 \nL 231 2994 \nL 231 3322 \nL 1356 3322 \nL 1356 2731 \nQ 1525 3078 1790 3245 \nQ 2056 3413 2438 3413 \nQ 2578 3413 2733 3391 \nQ 2888 3369 3059 3328 \nz\n\" transform=\"scale(0.015625)\"/>\n       <path id=\"DejaVuSerif-6d\" d=\"M 3316 2675 \nQ 3481 3041 3739 3227 \nQ 3997 3413 4341 3413 \nQ 4863 3413 5119 3089 \nQ 5375 2766 5375 2113 \nL 5375 331 \nL 5894 331 \nL 5894 0 \nL 4300 0 \nL 4300 331 \nL 4800 331 \nL 4800 2047 \nQ 4800 2556 4650 2772 \nQ 4500 2988 4153 2988 \nQ 3769 2988 3567 2697 \nQ 3366 2406 3366 1850 \nL 3366 331 \nL 3866 331 \nL 3866 0 \nL 2291 0 \nL 2291 331 \nL 2791 331 \nL 2791 2069 \nQ 2791 2566 2641 2777 \nQ 2491 2988 2144 2988 \nQ 1759 2988 1557 2697 \nQ 1356 2406 1356 1850 \nL 1356 331 \nL 1856 331 \nL 1856 0 \nL 263 0 \nL 263 331 \nL 781 331 \nL 781 2994 \nL 231 2994 \nL 231 3322 \nL 1356 3322 \nL 1356 2731 \nQ 1516 3063 1762 3238 \nQ 2009 3413 2322 3413 \nQ 2709 3413 2968 3220 \nQ 3228 3028 3316 2675 \nz\n\" transform=\"scale(0.015625)\"/>\n       <path id=\"DejaVuSerif-61\" d=\"M 2547 1044 \nL 2547 1747 \nL 1806 1747 \nQ 1378 1747 1168 1562 \nQ 959 1378 959 997 \nQ 959 650 1171 447 \nQ 1384 244 1747 244 \nQ 2106 244 2326 466 \nQ 2547 688 2547 1044 \nz\nM 3122 2075 \nL 3122 331 \nL 3634 331 \nL 3634 0 \nL 2547 0 \nL 2547 359 \nQ 2356 128 2106 18 \nQ 1856 -91 1522 -91 \nQ 969 -91 644 203 \nQ 319 497 319 997 \nQ 319 1513 691 1797 \nQ 1063 2081 1741 2081 \nL 2547 2081 \nL 2547 2309 \nQ 2547 2688 2317 2895 \nQ 2088 3103 1672 3103 \nQ 1328 3103 1125 2947 \nQ 922 2791 872 2484 \nL 575 2484 \nL 575 3156 \nQ 875 3284 1158 3348 \nQ 1441 3413 1709 3413 \nQ 2400 3413 2761 3070 \nQ 3122 2728 3122 2075 \nz\n\" transform=\"scale(0.015625)\"/>\n       <path id=\"DejaVuSerif-6a\" d=\"M 641 4353 \nQ 641 4497 745 4603 \nQ 850 4709 997 4709 \nQ 1141 4709 1245 4603 \nQ 1350 4497 1350 4353 \nQ 1350 4206 1248 4103 \nQ 1147 4000 997 4000 \nQ 850 4000 745 4103 \nQ 641 4206 641 4353 \nz\nM 781 2988 \nL 238 2988 \nL 238 3322 \nL 1356 3322 \nL 1356 -325 \nQ 1356 -838 1051 -1130 \nQ 747 -1422 213 -1422 \nQ -13 -1422 -217 -1370 \nQ -422 -1319 -616 -1216 \nL -616 -531 \nL -319 -531 \nQ -297 -831 -164 -972 \nQ -31 -1113 225 -1113 \nQ 509 -1113 645 -920 \nQ 781 -728 781 -325 \nL 781 2988 \nz\n\" transform=\"scale(0.015625)\"/>\n       <path id=\"DejaVuSerif-65\" d=\"M 3469 1600 \nL 991 1600 \nL 991 1575 \nQ 991 903 1244 561 \nQ 1497 219 1991 219 \nQ 2369 219 2611 417 \nQ 2853 616 2950 1006 \nL 3413 1006 \nQ 3275 459 2904 184 \nQ 2534 -91 1931 -91 \nQ 1203 -91 761 389 \nQ 319 869 319 1663 \nQ 319 2450 753 2931 \nQ 1188 3413 1894 3413 \nQ 2647 3413 3050 2948 \nQ 3453 2484 3469 1600 \nz\nM 2791 1931 \nQ 2772 2513 2545 2808 \nQ 2319 3103 1894 3103 \nQ 1497 3103 1269 2806 \nQ 1041 2509 991 1931 \nL 2791 1931 \nz\n\" transform=\"scale(0.015625)\"/>\n       <path id=\"DejaVuSerif-74\" d=\"M 691 2988 \nL 184 2988 \nL 184 3322 \nL 691 3322 \nL 691 4353 \nL 1269 4353 \nL 1269 3322 \nL 2350 3322 \nL 2350 2988 \nL 1269 2988 \nL 1269 878 \nQ 1269 456 1350 337 \nQ 1431 219 1650 219 \nQ 1875 219 1978 351 \nQ 2081 484 2088 781 \nL 2522 781 \nQ 2497 328 2275 118 \nQ 2053 -91 1600 -91 \nQ 1103 -91 897 129 \nQ 691 350 691 878 \nL 691 2988 \nz\n\" transform=\"scale(0.015625)\"/>\n       <path id=\"DejaVuSerif-68\" d=\"M 263 0 \nL 263 331 \nL 781 331 \nL 781 4531 \nL 231 4531 \nL 231 4863 \nL 1356 4863 \nL 1356 2731 \nQ 1516 3069 1770 3241 \nQ 2025 3413 2363 3413 \nQ 2913 3413 3172 3097 \nQ 3431 2781 3431 2113 \nL 3431 331 \nL 3944 331 \nL 3944 0 \nL 2356 0 \nL 2356 331 \nL 2853 331 \nL 2853 1931 \nQ 2853 2541 2704 2764 \nQ 2556 2988 2175 2988 \nQ 1775 2988 1565 2697 \nQ 1356 2406 1356 1850 \nL 1356 331 \nL 1856 331 \nL 1856 0 \nL 263 0 \nz\n\" transform=\"scale(0.015625)\"/>\n       <path id=\"DejaVuSerif-71\" d=\"M 3359 2988 \nL 3359 -997 \nL 3909 -997 \nL 3909 -1331 \nL 2241 -1331 \nL 2241 -997 \nL 2784 -997 \nL 2784 519 \nQ 2616 206 2355 57 \nQ 2094 -91 1709 -91 \nQ 1097 -91 708 395 \nQ 319 881 319 1663 \nQ 319 2444 706 2928 \nQ 1094 3413 1709 3413 \nQ 2094 3413 2355 3264 \nQ 2616 3116 2784 2803 \nL 2784 3322 \nL 3909 3322 \nL 3909 2988 \nL 3359 2988 \nz\nM 2784 1825 \nQ 2784 2422 2554 2737 \nQ 2325 3053 1888 3053 \nQ 1444 3053 1217 2703 \nQ 991 2353 991 1663 \nQ 991 975 1217 622 \nQ 1444 269 1888 269 \nQ 2325 269 2554 583 \nQ 2784 897 2784 1497 \nL 2784 1825 \nz\n\" transform=\"scale(0.015625)\"/>\n       <path id=\"DejaVuSerif-75\" d=\"M 2266 3322 \nL 3341 3322 \nL 3341 331 \nL 3884 331 \nL 3884 0 \nL 2766 0 \nL 2766 588 \nQ 2606 256 2353 82 \nQ 2100 -91 1766 -91 \nQ 1213 -91 952 223 \nQ 691 538 691 1209 \nL 691 2988 \nL 172 2988 \nL 172 3322 \nL 1269 3322 \nL 1269 1388 \nQ 1269 781 1417 556 \nQ 1566 331 1947 331 \nQ 2347 331 2556 625 \nQ 2766 919 2766 1478 \nL 2766 2988 \nL 2266 2988 \nL 2266 3322 \nz\n\" transform=\"scale(0.015625)\"/>\n       <path id=\"DejaVuSerif-6b\" d=\"M 1831 0 \nL 219 0 \nL 219 331 \nL 738 331 \nL 738 4531 \nL 184 4531 \nL 184 4863 \nL 1313 4863 \nL 1313 1697 \nL 2713 2988 \nL 2234 2988 \nL 2234 3322 \nL 3738 3322 \nL 3738 2988 \nL 3169 2988 \nL 2181 2075 \nL 3444 331 \nL 3922 331 \nL 3922 0 \nL 2284 0 \nL 2284 331 \nL 2759 331 \nL 1766 1697 \nL 1313 1275 \nL 1313 331 \nL 1831 331 \nL 1831 0 \nz\n\" transform=\"scale(0.015625)\"/>\n       <path id=\"DejaVuSerif-73\" d=\"M 359 184 \nL 359 959 \nL 691 959 \nQ 703 588 923 403 \nQ 1144 219 1575 219 \nQ 1963 219 2166 364 \nQ 2369 509 2369 788 \nQ 2369 1006 2220 1140 \nQ 2072 1275 1594 1428 \nL 1178 1569 \nQ 750 1706 558 1912 \nQ 366 2119 366 2438 \nQ 366 2894 700 3153 \nQ 1034 3413 1625 3413 \nQ 1888 3413 2178 3344 \nQ 2469 3275 2778 3144 \nL 2778 2419 \nL 2447 2419 \nQ 2434 2741 2221 2922 \nQ 2009 3103 1644 3103 \nQ 1281 3103 1095 2975 \nQ 909 2847 909 2591 \nQ 909 2381 1050 2254 \nQ 1191 2128 1613 1997 \nL 2069 1856 \nQ 2541 1709 2748 1489 \nQ 2956 1269 2956 922 \nQ 2956 450 2595 179 \nQ 2234 -91 1600 -91 \nQ 1278 -91 972 -22 \nQ 666 47 359 184 \nz\n\" transform=\"scale(0.015625)\"/>\n       <path id=\"DejaVuSerif-70\" d=\"M 1313 1825 \nL 1313 1497 \nQ 1313 897 1542 583 \nQ 1772 269 2209 269 \nQ 2650 269 2876 622 \nQ 3103 975 3103 1663 \nQ 3103 2353 2876 2703 \nQ 2650 3053 2209 3053 \nQ 1772 3053 1542 2737 \nQ 1313 2422 1313 1825 \nz\nM 738 2988 \nL 184 2988 \nL 184 3322 \nL 1313 3322 \nL 1313 2803 \nQ 1481 3116 1742 3264 \nQ 2003 3413 2388 3413 \nQ 3000 3413 3387 2928 \nQ 3775 2444 3775 1663 \nQ 3775 881 3387 395 \nQ 3000 -91 2388 -91 \nQ 2003 -91 1742 57 \nQ 1481 206 1313 519 \nL 1313 -997 \nL 1856 -997 \nL 1856 -1331 \nL 184 -1331 \nL 184 -997 \nL 738 -997 \nL 738 2988 \nz\n\" transform=\"scale(0.015625)\"/>\n       <path id=\"DejaVuSerif-64\" d=\"M 3359 331 \nL 3909 331 \nL 3909 0 \nL 2784 0 \nL 2784 519 \nQ 2616 206 2355 57 \nQ 2094 -91 1709 -91 \nQ 1097 -91 708 395 \nQ 319 881 319 1663 \nQ 319 2444 706 2928 \nQ 1094 3413 1709 3413 \nQ 2094 3413 2355 3264 \nQ 2616 3116 2784 2803 \nL 2784 4531 \nL 2241 4531 \nL 2241 4863 \nL 3359 4863 \nL 3359 331 \nz\nM 2784 1497 \nL 2784 1825 \nQ 2784 2422 2554 2737 \nQ 2325 3053 1888 3053 \nQ 1444 3053 1217 2703 \nQ 991 2353 991 1663 \nQ 991 975 1217 622 \nQ 1444 269 1888 269 \nQ 2325 269 2554 583 \nQ 2784 897 2784 1497 \nz\n\" transform=\"scale(0.015625)\"/>\n       <path id=\"DejaVuSerif-63\" d=\"M 3291 997 \nQ 3169 466 2822 187 \nQ 2475 -91 1925 -91 \nQ 1200 -91 759 389 \nQ 319 869 319 1663 \nQ 319 2459 759 2936 \nQ 1200 3413 1925 3413 \nQ 2241 3413 2553 3339 \nQ 2866 3266 3181 3116 \nL 3181 2266 \nL 2847 2266 \nQ 2781 2703 2561 2903 \nQ 2341 3103 1931 3103 \nQ 1466 3103 1228 2742 \nQ 991 2381 991 1663 \nQ 991 944 1227 581 \nQ 1463 219 1931 219 \nQ 2303 219 2525 412 \nQ 2747 606 2828 997 \nL 3291 997 \nz\n\" transform=\"scale(0.015625)\"/>\n       <path id=\"DejaVuSerif-29\" d=\"M 453 -997 \nL 453 -691 \nQ 934 -359 1145 242 \nQ 1356 844 1356 1931 \nQ 1356 3022 1145 3623 \nQ 934 4225 453 4556 \nL 453 4863 \nQ 1216 4522 1603 3783 \nQ 1991 3044 1991 1931 \nQ 1991 822 1603 83 \nQ 1216 -656 453 -997 \nz\n\" transform=\"scale(0.015625)\"/>\n      </defs>\n      <use xlink:href=\"#DejaVuSans-Oblique-3bb\" transform=\"translate(0 0.015625)\"/>\n      <use xlink:href=\"#DejaVuSerif-20\" transform=\"translate(59.179688 0.015625)\"/>\n      <use xlink:href=\"#DejaVuSerif-28\" transform=\"translate(90.966797 0.015625)\"/>\n      <use xlink:href=\"#DejaVuSerif-23\" transform=\"translate(129.980469 0.015625)\"/>\n      <use xlink:href=\"#DejaVuSerif-20\" transform=\"translate(213.769531 0.015625)\"/>\n      <use xlink:href=\"#DejaVuSerif-6f\" transform=\"translate(245.556641 0.015625)\"/>\n      <use xlink:href=\"#DejaVuSerif-72\" transform=\"translate(305.761719 0.015625)\"/>\n      <use xlink:href=\"#DejaVuSerif-20\" transform=\"translate(353.564453 0.015625)\"/>\n      <use xlink:href=\"#DejaVuSerif-6d\" transform=\"translate(385.351562 0.015625)\"/>\n      <use xlink:href=\"#DejaVuSerif-61\" transform=\"translate(480.175781 0.015625)\"/>\n      <use xlink:href=\"#DejaVuSerif-6a\" transform=\"translate(539.794922 0.015625)\"/>\n      <use xlink:href=\"#DejaVuSerif-6f\" transform=\"translate(570.800781 0.015625)\"/>\n      <use xlink:href=\"#DejaVuSerif-72\" transform=\"translate(631.005859 0.015625)\"/>\n      <use xlink:href=\"#DejaVuSerif-20\" transform=\"translate(678.808594 0.015625)\"/>\n      <use xlink:href=\"#DejaVuSerif-65\" transform=\"translate(710.595703 0.015625)\"/>\n      <use xlink:href=\"#DejaVuSerif-61\" transform=\"translate(769.775391 0.015625)\"/>\n      <use xlink:href=\"#DejaVuSerif-72\" transform=\"translate(829.394531 0.015625)\"/>\n      <use xlink:href=\"#DejaVuSerif-74\" transform=\"translate(877.197266 0.015625)\"/>\n      <use xlink:href=\"#DejaVuSerif-68\" transform=\"translate(917.382812 0.015625)\"/>\n      <use xlink:href=\"#DejaVuSerif-71\" transform=\"translate(981.787109 0.015625)\"/>\n      <use xlink:href=\"#DejaVuSerif-75\" transform=\"translate(1045.800781 0.015625)\"/>\n      <use xlink:href=\"#DejaVuSerif-61\" transform=\"translate(1110.205078 0.015625)\"/>\n      <use xlink:href=\"#DejaVuSerif-6b\" transform=\"translate(1169.824219 0.015625)\"/>\n      <use xlink:href=\"#DejaVuSerif-65\" transform=\"translate(1230.419922 0.015625)\"/>\n      <use xlink:href=\"#DejaVuSerif-73\" transform=\"translate(1289.599609 0.015625)\"/>\n      <use xlink:href=\"#DejaVuSerif-20\" transform=\"translate(1340.917969 0.015625)\"/>\n      <use xlink:href=\"#DejaVuSerif-70\" transform=\"translate(1372.705078 0.015625)\"/>\n      <use xlink:href=\"#DejaVuSerif-65\" transform=\"translate(1436.71875 0.015625)\"/>\n      <use xlink:href=\"#DejaVuSerif-72\" transform=\"translate(1495.898438 0.015625)\"/>\n      <use xlink:href=\"#DejaVuSerif-20\" transform=\"translate(1543.701172 0.015625)\"/>\n      <use xlink:href=\"#DejaVuSerif-64\" transform=\"translate(1575.488281 0.015625)\"/>\n      <use xlink:href=\"#DejaVuSerif-65\" transform=\"translate(1639.501953 0.015625)\"/>\n      <use xlink:href=\"#DejaVuSerif-63\" transform=\"translate(1698.681641 0.015625)\"/>\n      <use xlink:href=\"#DejaVuSerif-61\" transform=\"translate(1754.6875 0.015625)\"/>\n      <use xlink:href=\"#DejaVuSerif-64\" transform=\"translate(1814.306641 0.015625)\"/>\n      <use xlink:href=\"#DejaVuSerif-65\" transform=\"translate(1878.320312 0.015625)\"/>\n      <use xlink:href=\"#DejaVuSerif-29\" transform=\"translate(1937.5 0.015625)\"/>\n     </g>\n    </g>\n   </g>\n   <g id=\"matplotlib.axis_2\">\n    <g id=\"ytick_1\">\n     <g id=\"line2d_6\"/>\n     <g id=\"text_7\">\n      <!-- 0.0 -->\n      <g style=\"fill: #262626\" transform=\"translate(18.96 304.881047) scale(0.07 -0.07)\">\n       <defs>\n        <path id=\"DejaVuSerif-2e\" d=\"M 603 325 \nQ 603 500 722 622 \nQ 841 744 1019 744 \nQ 1191 744 1312 622 \nQ 1434 500 1434 325 \nQ 1434 153 1312 31 \nQ 1191 -91 1019 -91 \nQ 841 -91 722 29 \nQ 603 150 603 325 \nz\n\" transform=\"scale(0.015625)\"/>\n       </defs>\n       <use xlink:href=\"#DejaVuSerif-30\"/>\n       <use xlink:href=\"#DejaVuSerif-2e\" transform=\"translate(63.623047 0)\"/>\n       <use xlink:href=\"#DejaVuSerif-30\" transform=\"translate(95.410156 0)\"/>\n      </g>\n     </g>\n    </g>\n    <g id=\"ytick_2\">\n     <g id=\"line2d_7\"/>\n     <g id=\"text_8\">\n      <!-- 0.2 -->\n      <g style=\"fill: #262626\" transform=\"translate(18.96 248.659685) scale(0.07 -0.07)\">\n       <use xlink:href=\"#DejaVuSerif-30\"/>\n       <use xlink:href=\"#DejaVuSerif-2e\" transform=\"translate(63.623047 0)\"/>\n       <use xlink:href=\"#DejaVuSerif-32\" transform=\"translate(95.410156 0)\"/>\n      </g>\n     </g>\n    </g>\n    <g id=\"ytick_3\">\n     <g id=\"line2d_8\"/>\n     <g id=\"text_9\">\n      <!-- 0.4 -->\n      <g style=\"fill: #262626\" transform=\"translate(18.96 192.438324) scale(0.07 -0.07)\">\n       <use xlink:href=\"#DejaVuSerif-30\"/>\n       <use xlink:href=\"#DejaVuSerif-2e\" transform=\"translate(63.623047 0)\"/>\n       <use xlink:href=\"#DejaVuSerif-34\" transform=\"translate(95.410156 0)\"/>\n      </g>\n     </g>\n    </g>\n    <g id=\"ytick_4\">\n     <g id=\"line2d_9\"/>\n     <g id=\"text_10\">\n      <!-- 0.6 -->\n      <g style=\"fill: #262626\" transform=\"translate(18.96 136.216963) scale(0.07 -0.07)\">\n       <defs>\n        <path id=\"DejaVuSerif-36\" d=\"M 2094 219 \nQ 2534 219 2771 542 \nQ 3009 866 3009 1472 \nQ 3009 2078 2771 2401 \nQ 2534 2725 2094 2725 \nQ 1647 2725 1412 2412 \nQ 1178 2100 1178 1509 \nQ 1178 888 1415 553 \nQ 1653 219 2094 219 \nz\nM 1075 2569 \nQ 1288 2803 1556 2918 \nQ 1825 3034 2163 3034 \nQ 2859 3034 3264 2615 \nQ 3669 2197 3669 1472 \nQ 3669 763 3233 336 \nQ 2797 -91 2069 -91 \nQ 1278 -91 853 498 \nQ 428 1088 428 2181 \nQ 428 3406 931 4078 \nQ 1434 4750 2350 4750 \nQ 2597 4750 2869 4703 \nQ 3141 4656 3425 4563 \nL 3425 3794 \nL 3072 3794 \nQ 3034 4109 2831 4275 \nQ 2628 4441 2284 4441 \nQ 1678 4441 1381 3981 \nQ 1084 3522 1075 2569 \nz\n\" transform=\"scale(0.015625)\"/>\n       </defs>\n       <use xlink:href=\"#DejaVuSerif-30\"/>\n       <use xlink:href=\"#DejaVuSerif-2e\" transform=\"translate(63.623047 0)\"/>\n       <use xlink:href=\"#DejaVuSerif-36\" transform=\"translate(95.410156 0)\"/>\n      </g>\n     </g>\n    </g>\n    <g id=\"ytick_5\">\n     <g id=\"line2d_10\"/>\n     <g id=\"text_11\">\n      <!-- 0.8 -->\n      <g style=\"fill: #262626\" transform=\"translate(18.96 79.995601) scale(0.07 -0.07)\">\n       <defs>\n        <path id=\"DejaVuSerif-38\" d=\"M 2981 1275 \nQ 2981 1775 2732 2051 \nQ 2484 2328 2034 2328 \nQ 1584 2328 1336 2051 \nQ 1088 1775 1088 1275 \nQ 1088 772 1336 495 \nQ 1584 219 2034 219 \nQ 2484 219 2732 495 \nQ 2981 772 2981 1275 \nz\nM 2853 3541 \nQ 2853 3966 2637 4203 \nQ 2422 4441 2034 4441 \nQ 1650 4441 1433 4203 \nQ 1216 3966 1216 3541 \nQ 1216 3113 1433 2875 \nQ 1650 2638 2034 2638 \nQ 2422 2638 2637 2875 \nQ 2853 3113 2853 3541 \nz\nM 2516 2484 \nQ 3047 2413 3344 2092 \nQ 3641 1772 3641 1275 \nQ 3641 619 3225 264 \nQ 2809 -91 2034 -91 \nQ 1263 -91 845 264 \nQ 428 619 428 1275 \nQ 428 1772 725 2092 \nQ 1022 2413 1556 2484 \nQ 1084 2569 832 2842 \nQ 581 3116 581 3541 \nQ 581 4103 968 4426 \nQ 1356 4750 2034 4750 \nQ 2713 4750 3100 4426 \nQ 3488 4103 3488 3541 \nQ 3488 3116 3236 2842 \nQ 2984 2569 2516 2484 \nz\n\" transform=\"scale(0.015625)\"/>\n       </defs>\n       <use xlink:href=\"#DejaVuSerif-30\"/>\n       <use xlink:href=\"#DejaVuSerif-2e\" transform=\"translate(63.623047 0)\"/>\n       <use xlink:href=\"#DejaVuSerif-38\" transform=\"translate(95.410156 0)\"/>\n      </g>\n     </g>\n    </g>\n    <g id=\"ytick_6\">\n     <g id=\"line2d_11\"/>\n     <g id=\"text_12\">\n      <!-- 1.0 -->\n      <g style=\"fill: #262626\" transform=\"translate(18.96 23.77424) scale(0.07 -0.07)\">\n       <use xlink:href=\"#DejaVuSerif-31\"/>\n       <use xlink:href=\"#DejaVuSerif-2e\" transform=\"translate(63.623047 0)\"/>\n       <use xlink:href=\"#DejaVuSerif-30\" transform=\"translate(95.410156 0)\"/>\n      </g>\n     </g>\n    </g>\n    <g id=\"text_13\">\n     <!-- $p(\\lambda)$ -->\n     <g style=\"fill: #262626\" transform=\"translate(13.28 168.302656) rotate(-90) scale(0.08 -0.08)\">\n      <defs>\n       <path id=\"DejaVuSans-Oblique-70\" d=\"M 3175 2156 \nQ 3175 2616 2975 2859 \nQ 2775 3103 2400 3103 \nQ 2144 3103 1911 2972 \nQ 1678 2841 1497 2591 \nQ 1319 2344 1212 1994 \nQ 1106 1644 1106 1300 \nQ 1106 863 1306 627 \nQ 1506 391 1875 391 \nQ 2147 391 2380 519 \nQ 2613 647 2778 891 \nQ 2956 1147 3065 1494 \nQ 3175 1841 3175 2156 \nz\nM 1394 2969 \nQ 1625 3272 1939 3428 \nQ 2253 3584 2638 3584 \nQ 3175 3584 3472 3232 \nQ 3769 2881 3769 2247 \nQ 3769 1728 3584 1258 \nQ 3400 788 3053 416 \nQ 2822 169 2531 39 \nQ 2241 -91 1919 -91 \nQ 1547 -91 1294 64 \nQ 1041 219 916 525 \nL 556 -1331 \nL -19 -1331 \nL 922 3500 \nL 1497 3500 \nL 1394 2969 \nz\n\" transform=\"scale(0.015625)\"/>\n       <path id=\"DejaVuSans-28\" d=\"M 1984 4856 \nQ 1566 4138 1362 3434 \nQ 1159 2731 1159 2009 \nQ 1159 1288 1364 580 \nQ 1569 -128 1984 -844 \nL 1484 -844 \nQ 1016 -109 783 600 \nQ 550 1309 550 2009 \nQ 550 2706 781 3412 \nQ 1013 4119 1484 4856 \nL 1984 4856 \nz\n\" transform=\"scale(0.015625)\"/>\n       <path id=\"DejaVuSans-29\" d=\"M 513 4856 \nL 1013 4856 \nQ 1481 4119 1714 3412 \nQ 1947 2706 1947 2009 \nQ 1947 1309 1714 600 \nQ 1481 -109 1013 -844 \nL 513 -844 \nQ 928 -128 1133 580 \nQ 1338 1288 1338 2009 \nQ 1338 2731 1133 3434 \nQ 928 4138 513 4856 \nz\n\" transform=\"scale(0.015625)\"/>\n      </defs>\n      <use xlink:href=\"#DejaVuSans-Oblique-70\" transform=\"translate(0 0.015625)\"/>\n      <use xlink:href=\"#DejaVuSans-28\" transform=\"translate(63.476562 0.015625)\"/>\n      <use xlink:href=\"#DejaVuSans-Oblique-3bb\" transform=\"translate(102.490234 0.015625)\"/>\n      <use xlink:href=\"#DejaVuSans-29\" transform=\"translate(161.669922 0.015625)\"/>\n     </g>\n    </g>\n   </g>\n   <g id=\"line2d_12\">\n    <path d=\"M 52.552543 21.114787 \nL 56.382917 33.891525 \nL 60.213292 46.087541 \nL 64.043667 57.729229 \nL 67.874042 68.841784 \nL 71.704416 79.449257 \nL 75.534791 89.574603 \nL 79.365166 99.239737 \nL 83.195541 108.465576 \nL 87.025916 117.272086 \nL 90.85629 125.678326 \nL 94.686665 133.70249 \nL 98.51704 141.361944 \nL 102.347415 148.673263 \nL 106.177789 155.652272 \nL 110.008164 162.314074 \nL 113.838539 168.673086 \nL 117.668914 174.743072 \nL 121.499288 180.537168 \nL 125.329663 186.067913 \nL 129.160038 191.347277 \nL 132.990413 196.386685 \nL 136.820788 201.197045 \nL 140.651162 205.788767 \nL 144.481537 210.171788 \nL 148.311912 214.355594 \nL 152.142287 218.349239 \nL 155.972661 222.161367 \nL 159.803036 225.800228 \nL 163.633411 229.273697 \nL 167.463786 232.589291 \nL 171.29416 235.754187 \nL 175.124535 238.775233 \nL 178.95491 241.658968 \nL 182.785285 244.411633 \nL 186.61566 247.039185 \nL 190.446034 249.54731 \nL 194.276409 251.941438 \nL 198.106784 254.226749 \nL 201.937159 256.408188 \nL 205.767533 258.490478 \nL 209.597908 260.478125 \nL 213.428283 262.37543 \nL 217.258658 264.1865 \nL 221.089033 265.915253 \nL 224.919407 267.565433 \nL 228.749782 269.140609 \nL 232.580157 270.64419 \nL 236.410532 272.079432 \nL 240.240906 273.44944 \nL 244.071281 274.757179 \nL 247.901656 276.005479 \nL 251.732031 277.197042 \nL 255.562405 278.334446 \nL 259.39278 279.420154 \nL 263.223155 280.456514 \nL 267.05353 281.445771 \nL 270.883905 282.390064 \nL 274.714279 283.291438 \nL 278.544654 284.151843 \nL 282.375029 284.973141 \nL 286.205404 285.757109 \nL 290.035778 286.505446 \nL 293.866153 287.219769 \nL 297.696528 287.901625 \nL 301.526903 288.55249 \nL 305.357277 289.173771 \nL 309.187652 289.766815 \nL 313.018027 290.332904 \nL 316.848402 290.873263 \nL 320.678777 291.389062 \nL 324.509151 291.881418 \nL 328.339526 292.351395 \nL 332.169901 292.80001 \nL 336.000276 293.228236 \nL 339.83065 293.636998 \nL 343.661025 294.027181 \nL 347.4914 294.39963 \nL 351.321775 294.75515 \nL 355.152149 295.094511 \nL 358.982524 295.418448 \nL 362.812899 295.727662 \nL 366.643274 296.022821 \nL 370.473649 296.304565 \nL 374.304023 296.573503 \nL 378.134398 296.830217 \nL 381.964773 297.075264 \nL 385.795148 297.309172 \nL 389.625522 297.532449 \nL 393.455897 297.745578 \nL 397.286272 297.94902 \nL 401.116647 298.143215 \nL 404.947021 298.328584 \nL 408.777396 298.505527 \nL 412.607771 298.674428 \nL 416.438146 298.835652 \nL 420.268521 298.989548 \nL 424.098895 299.13645 \nL 427.92927 299.276674 \nL 431.759645 299.410526 \n\" clip-path=\"url(#pf773975fda)\" style=\"fill: none; stroke: #4c72b0; stroke-linecap: round\"/>\n   </g>\n   <g id=\"patch_3\">\n    <path d=\"M 33.592188 302.221594 \nL 33.592188 21.114787 \n\" style=\"fill: none; stroke: #262626; stroke-width: 0.5; stroke-linejoin: miter; stroke-linecap: square\"/>\n   </g>\n   <g id=\"patch_4\">\n    <path d=\"M 52.552543 313.325312 \nL 381.927647 313.325312 \n\" style=\"fill: none; stroke: #262626; stroke-width: 0.5; stroke-linejoin: miter; stroke-linecap: square\"/>\n   </g>\n  </g>\n </g>\n <defs>\n  <clipPath id=\"pf773975fda\">\n   <rect x=\"33.592188\" y=\"7.2\" width=\"417.127812\" height=\"306.125313\"/>\n  </clipPath>\n </defs>\n</svg>\n"
          },
          "metadata": {}
        }
      ],
      "source": [
        "import scipy.stats as st\n",
        "\n",
        "# You have to pick an alpha:\n",
        "alpha = 1.0\n",
        "# And you have to pick a beta:\n",
        "beta = 1.0\n",
        "\n",
        "# This is the prior on lambda:\n",
        "lambda_prior = st.gamma(alpha, scale=1.0 / beta)\n",
        "\n",
        "# Let's plot it:\n",
        "lambdas = np.linspace(0, lambda_prior.ppf(0.99), 100)\n",
        "fig, ax = plt.subplots()\n",
        "ax.plot(lambdas, lambda_prior.pdf(lambdas))\n",
        "ax.set_xlabel('$\\lambda$ (# or major earthquakes per decade)')\n",
        "ax.set_ylabel('$p(\\lambda)$')\n",
        "sns.despine(trim=True);"
      ]
    },
    {
      "cell_type": "markdown",
      "metadata": {
        "id": "bOf20A7TUO_A"
      },
      "source": [
        "C. Show that the posterior of $\\lambda$ conditioned on $x_{1:N}$ is also a Gamma, but with updated hyperparameters.\n",
        "<br>\n",
        "**Hint:** When you write down the posterior of $\\lambda$ you can drop any multiplicative term that does not depend on it as it will be absorbed in the normalization constant. This will simplify the notation a little bit.\n",
        "<br>\n",
        "**Answer:**\n",
        "<br><br><br><br><br><br><br><br>"
      ]
    },
    {
      "cell_type": "markdown",
      "metadata": {
        "id": "z1vxFL6oUO_A"
      },
      "source": [
        "D. Prior-likelihood pairs that result in a posterior with the same form as the prior are known as conjugate distributions. Conjugate distributions are your only hope for analytical Bayesian inference.\n",
        "As a verification check, look at the Wikipedia page for [conjugate priors](https://en.wikipedia.org/wiki/Conjugate_prior), locate the Poisson-Gamma pair, and verify your answer above.\n",
        "<br>\n",
        "*Nothing to report here. Just do it as a verification check.*"
      ]
    },
    {
      "cell_type": "markdown",
      "metadata": {
        "id": "6km33jhUUO_A"
      },
      "source": [
        "E. Plot the prior and the posterior of $\\lambda$ on the same plot."
      ]
    },
    {
      "cell_type": "code",
      "execution_count": 16,
      "metadata": {
        "id": "08v67ojVUO_A",
        "outputId": "0392a8ab-01db-43b6-f0fa-1ae9f7a02fe6",
        "colab": {
          "base_uri": "https://localhost:8080/",
          "height": 479
        }
      },
      "outputs": [
        {
          "output_type": "display_data",
          "data": {
            "text/plain": [
              "<Figure size 3840x2880 with 1 Axes>"
            ],
            "image/svg+xml": "<?xml version=\"1.0\" encoding=\"utf-8\" standalone=\"no\"?>\n<!DOCTYPE svg PUBLIC \"-//W3C//DTD SVG 1.1//EN\"\n  \"http://www.w3.org/Graphics/SVG/1.1/DTD/svg11.dtd\">\n<svg xmlns:xlink=\"http://www.w3.org/1999/xlink\" width=\"457.92pt\" height=\"342.72pt\" viewBox=\"0 0 457.92 342.72\" xmlns=\"http://www.w3.org/2000/svg\" version=\"1.1\">\n <metadata>\n  <rdf:RDF xmlns:dc=\"http://purl.org/dc/elements/1.1/\" xmlns:cc=\"http://creativecommons.org/ns#\" xmlns:rdf=\"http://www.w3.org/1999/02/22-rdf-syntax-ns#\">\n   <cc:Work>\n    <dc:type rdf:resource=\"http://purl.org/dc/dcmitype/StillImage\"/>\n    <dc:date>2025-07-08T23:16:50.900567</dc:date>\n    <dc:format>image/svg+xml</dc:format>\n    <dc:creator>\n     <cc:Agent>\n      <dc:title>Matplotlib v3.10.0, https://matplotlib.org/</dc:title>\n     </cc:Agent>\n    </dc:creator>\n   </cc:Work>\n  </rdf:RDF>\n </metadata>\n <defs>\n  <style type=\"text/css\">*{stroke-linejoin: round; stroke-linecap: butt}</style>\n </defs>\n <g id=\"figure_1\">\n  <g id=\"patch_1\">\n   <path d=\"M 0 342.72 \nL 457.92 342.72 \nL 457.92 0 \nL 0 0 \nz\n\" style=\"fill: #ffffff\"/>\n  </g>\n  <g id=\"axes_1\">\n   <g id=\"patch_2\">\n    <path d=\"M 33.912188 313.325312 \nL 450.72 313.325312 \nL 450.72 7.2 \nL 33.912188 7.2 \nz\n\" style=\"fill: #ffffff\"/>\n   </g>\n   <g id=\"matplotlib.axis_1\">\n    <g id=\"xtick_1\">\n     <g id=\"line2d_1\"/>\n     <g id=\"text_1\">\n      <!-- 0 -->\n      <g style=\"fill: #262626\" transform=\"translate(50.631122 322.144219) scale(0.07 -0.07)\">\n       <defs>\n        <path id=\"DejaVuSerif-30\" d=\"M 2034 219 \nQ 2513 219 2750 744 \nQ 2988 1269 2988 2328 \nQ 2988 3391 2750 3916 \nQ 2513 4441 2034 4441 \nQ 1556 4441 1318 3916 \nQ 1081 3391 1081 2328 \nQ 1081 1269 1318 744 \nQ 1556 219 2034 219 \nz\nM 2034 -91 \nQ 1275 -91 848 546 \nQ 422 1184 422 2328 \nQ 422 3475 848 4112 \nQ 1275 4750 2034 4750 \nQ 2797 4750 3222 4112 \nQ 3647 3475 3647 2328 \nQ 3647 1184 3222 546 \nQ 2797 -91 2034 -91 \nz\n\" transform=\"scale(0.015625)\"/>\n       </defs>\n       <use xlink:href=\"#DejaVuSerif-30\"/>\n      </g>\n     </g>\n    </g>\n    <g id=\"xtick_2\">\n     <g id=\"line2d_2\"/>\n     <g id=\"text_2\">\n      <!-- 1 -->\n      <g style=\"fill: #262626\" transform=\"translate(132.911728 322.144219) scale(0.07 -0.07)\">\n       <defs>\n        <path id=\"DejaVuSerif-31\" d=\"M 909 0 \nL 909 331 \nL 1722 331 \nL 1722 4213 \nL 781 3603 \nL 781 4013 \nL 1919 4750 \nL 2350 4750 \nL 2350 331 \nL 3163 331 \nL 3163 0 \nL 909 0 \nz\n\" transform=\"scale(0.015625)\"/>\n       </defs>\n       <use xlink:href=\"#DejaVuSerif-31\"/>\n      </g>\n     </g>\n    </g>\n    <g id=\"xtick_3\">\n     <g id=\"line2d_3\"/>\n     <g id=\"text_3\">\n      <!-- 2 -->\n      <g style=\"fill: #262626\" transform=\"translate(215.192334 322.144219) scale(0.07 -0.07)\">\n       <defs>\n        <path id=\"DejaVuSerif-32\" d=\"M 819 3553 \nL 469 3553 \nL 469 4384 \nQ 803 4563 1142 4656 \nQ 1481 4750 1806 4750 \nQ 2534 4750 2956 4397 \nQ 3378 4044 3378 3438 \nQ 3378 2753 2422 1800 \nQ 2347 1728 2309 1691 \nL 1131 513 \nL 3078 513 \nL 3078 1088 \nL 3444 1088 \nL 3444 0 \nL 434 0 \nL 434 341 \nL 1850 1753 \nQ 2319 2222 2519 2614 \nQ 2719 3006 2719 3438 \nQ 2719 3909 2473 4175 \nQ 2228 4441 1797 4441 \nQ 1350 4441 1106 4219 \nQ 863 3997 819 3553 \nz\n\" transform=\"scale(0.015625)\"/>\n       </defs>\n       <use xlink:href=\"#DejaVuSerif-32\"/>\n      </g>\n     </g>\n    </g>\n    <g id=\"xtick_4\">\n     <g id=\"line2d_4\"/>\n     <g id=\"text_4\">\n      <!-- 3 -->\n      <g style=\"fill: #262626\" transform=\"translate(297.47294 322.144219) scale(0.07 -0.07)\">\n       <defs>\n        <path id=\"DejaVuSerif-33\" d=\"M 622 4469 \nQ 988 4606 1323 4678 \nQ 1659 4750 1953 4750 \nQ 2638 4750 3022 4454 \nQ 3406 4159 3406 3634 \nQ 3406 3213 3140 2930 \nQ 2875 2647 2388 2547 \nQ 2963 2466 3280 2130 \nQ 3597 1794 3597 1259 \nQ 3597 606 3158 257 \nQ 2719 -91 1894 -91 \nQ 1528 -91 1179 -12 \nQ 831 66 488 225 \nL 488 1131 \nL 838 1131 \nQ 869 681 1141 450 \nQ 1413 219 1906 219 \nQ 2384 219 2661 495 \nQ 2938 772 2938 1253 \nQ 2938 1803 2653 2086 \nQ 2369 2369 1819 2369 \nL 1522 2369 \nL 1522 2688 \nL 1678 2688 \nQ 2225 2688 2498 2914 \nQ 2772 3141 2772 3597 \nQ 2772 4006 2547 4223 \nQ 2322 4441 1900 4441 \nQ 1478 4441 1245 4241 \nQ 1013 4041 972 3647 \nL 622 3647 \nL 622 4469 \nz\n\" transform=\"scale(0.015625)\"/>\n       </defs>\n       <use xlink:href=\"#DejaVuSerif-33\"/>\n      </g>\n     </g>\n    </g>\n    <g id=\"xtick_5\">\n     <g id=\"line2d_5\"/>\n     <g id=\"text_5\">\n      <!-- 4 -->\n      <g style=\"fill: #262626\" transform=\"translate(379.753546 322.144219) scale(0.07 -0.07)\">\n       <defs>\n        <path id=\"DejaVuSerif-34\" d=\"M 2234 1581 \nL 2234 4063 \nL 641 1581 \nL 2234 1581 \nz\nM 3609 0 \nL 1484 0 \nL 1484 331 \nL 2234 331 \nL 2234 1247 \nL 197 1247 \nL 197 1588 \nL 2241 4750 \nL 2859 4750 \nL 2859 1581 \nL 3750 1581 \nL 3750 1247 \nL 2859 1247 \nL 2859 331 \nL 3609 331 \nL 3609 0 \nz\n\" transform=\"scale(0.015625)\"/>\n       </defs>\n       <use xlink:href=\"#DejaVuSerif-34\"/>\n      </g>\n     </g>\n    </g>\n    <g id=\"text_6\">\n     <!-- $\\lambda$ (# or major earthquakes per decade) -->\n     <g style=\"fill: #262626\" transform=\"translate(163.236094 333.68) scale(0.08 -0.08)\">\n      <defs>\n       <path id=\"DejaVuSans-Oblique-3bb\" d=\"M 2350 4316 \nL 3125 0 \nL 2516 0 \nL 2038 2588 \nL 328 0 \nL -281 0 \nL 1903 3356 \nL 1794 3975 \nQ 1725 4369 1391 4369 \nL 1091 4369 \nL 1184 4863 \nL 1550 4856 \nQ 2253 4847 2350 4316 \nz\n\" transform=\"scale(0.015625)\"/>\n       <path id=\"DejaVuSerif-20\" transform=\"scale(0.015625)\"/>\n       <path id=\"DejaVuSerif-28\" d=\"M 2041 -997 \nQ 1281 -656 893 83 \nQ 506 822 506 1931 \nQ 506 3044 893 3783 \nQ 1281 4522 2041 4863 \nL 2041 4556 \nQ 1559 4225 1350 3623 \nQ 1141 3022 1141 1931 \nQ 1141 844 1350 242 \nQ 1559 -359 2041 -691 \nL 2041 -997 \nz\n\" transform=\"scale(0.015625)\"/>\n       <path id=\"DejaVuSerif-23\" d=\"M 3256 2816 \nL 2375 2816 \nL 2113 1772 \nL 3003 1772 \nL 3256 2816 \nz\nM 2816 4594 \nL 2497 3297 \nL 3378 3297 \nL 3700 4594 \nL 4238 4594 \nL 3909 3297 \nL 4872 3297 \nL 4872 2816 \nL 3788 2816 \nL 3531 1772 \nL 4513 1772 \nL 4513 1294 \nL 3413 1294 \nL 3091 0 \nL 2553 0 \nL 2881 1294 \nL 1997 1294 \nL 1672 0 \nL 1141 0 \nL 1459 1294 \nL 494 1294 \nL 494 1772 \nL 1581 1772 \nL 1838 2816 \nL 850 2816 \nL 850 3297 \nL 1959 3297 \nL 2284 4594 \nL 2816 4594 \nz\n\" transform=\"scale(0.015625)\"/>\n       <path id=\"DejaVuSerif-6f\" d=\"M 1925 219 \nQ 2388 219 2623 584 \nQ 2859 950 2859 1663 \nQ 2859 2375 2623 2739 \nQ 2388 3103 1925 3103 \nQ 1463 3103 1227 2739 \nQ 991 2375 991 1663 \nQ 991 950 1228 584 \nQ 1466 219 1925 219 \nz\nM 1925 -91 \nQ 1200 -91 759 389 \nQ 319 869 319 1663 \nQ 319 2456 758 2934 \nQ 1197 3413 1925 3413 \nQ 2653 3413 3092 2934 \nQ 3531 2456 3531 1663 \nQ 3531 869 3092 389 \nQ 2653 -91 1925 -91 \nz\n\" transform=\"scale(0.015625)\"/>\n       <path id=\"DejaVuSerif-72\" d=\"M 3059 3328 \nL 3059 2497 \nL 2728 2497 \nQ 2713 2744 2591 2866 \nQ 2469 2988 2234 2988 \nQ 1809 2988 1582 2694 \nQ 1356 2400 1356 1850 \nL 1356 331 \nL 2022 331 \nL 2022 0 \nL 263 0 \nL 263 331 \nL 781 331 \nL 781 2994 \nL 231 2994 \nL 231 3322 \nL 1356 3322 \nL 1356 2731 \nQ 1525 3078 1790 3245 \nQ 2056 3413 2438 3413 \nQ 2578 3413 2733 3391 \nQ 2888 3369 3059 3328 \nz\n\" transform=\"scale(0.015625)\"/>\n       <path id=\"DejaVuSerif-6d\" d=\"M 3316 2675 \nQ 3481 3041 3739 3227 \nQ 3997 3413 4341 3413 \nQ 4863 3413 5119 3089 \nQ 5375 2766 5375 2113 \nL 5375 331 \nL 5894 331 \nL 5894 0 \nL 4300 0 \nL 4300 331 \nL 4800 331 \nL 4800 2047 \nQ 4800 2556 4650 2772 \nQ 4500 2988 4153 2988 \nQ 3769 2988 3567 2697 \nQ 3366 2406 3366 1850 \nL 3366 331 \nL 3866 331 \nL 3866 0 \nL 2291 0 \nL 2291 331 \nL 2791 331 \nL 2791 2069 \nQ 2791 2566 2641 2777 \nQ 2491 2988 2144 2988 \nQ 1759 2988 1557 2697 \nQ 1356 2406 1356 1850 \nL 1356 331 \nL 1856 331 \nL 1856 0 \nL 263 0 \nL 263 331 \nL 781 331 \nL 781 2994 \nL 231 2994 \nL 231 3322 \nL 1356 3322 \nL 1356 2731 \nQ 1516 3063 1762 3238 \nQ 2009 3413 2322 3413 \nQ 2709 3413 2968 3220 \nQ 3228 3028 3316 2675 \nz\n\" transform=\"scale(0.015625)\"/>\n       <path id=\"DejaVuSerif-61\" d=\"M 2547 1044 \nL 2547 1747 \nL 1806 1747 \nQ 1378 1747 1168 1562 \nQ 959 1378 959 997 \nQ 959 650 1171 447 \nQ 1384 244 1747 244 \nQ 2106 244 2326 466 \nQ 2547 688 2547 1044 \nz\nM 3122 2075 \nL 3122 331 \nL 3634 331 \nL 3634 0 \nL 2547 0 \nL 2547 359 \nQ 2356 128 2106 18 \nQ 1856 -91 1522 -91 \nQ 969 -91 644 203 \nQ 319 497 319 997 \nQ 319 1513 691 1797 \nQ 1063 2081 1741 2081 \nL 2547 2081 \nL 2547 2309 \nQ 2547 2688 2317 2895 \nQ 2088 3103 1672 3103 \nQ 1328 3103 1125 2947 \nQ 922 2791 872 2484 \nL 575 2484 \nL 575 3156 \nQ 875 3284 1158 3348 \nQ 1441 3413 1709 3413 \nQ 2400 3413 2761 3070 \nQ 3122 2728 3122 2075 \nz\n\" transform=\"scale(0.015625)\"/>\n       <path id=\"DejaVuSerif-6a\" d=\"M 641 4353 \nQ 641 4497 745 4603 \nQ 850 4709 997 4709 \nQ 1141 4709 1245 4603 \nQ 1350 4497 1350 4353 \nQ 1350 4206 1248 4103 \nQ 1147 4000 997 4000 \nQ 850 4000 745 4103 \nQ 641 4206 641 4353 \nz\nM 781 2988 \nL 238 2988 \nL 238 3322 \nL 1356 3322 \nL 1356 -325 \nQ 1356 -838 1051 -1130 \nQ 747 -1422 213 -1422 \nQ -13 -1422 -217 -1370 \nQ -422 -1319 -616 -1216 \nL -616 -531 \nL -319 -531 \nQ -297 -831 -164 -972 \nQ -31 -1113 225 -1113 \nQ 509 -1113 645 -920 \nQ 781 -728 781 -325 \nL 781 2988 \nz\n\" transform=\"scale(0.015625)\"/>\n       <path id=\"DejaVuSerif-65\" d=\"M 3469 1600 \nL 991 1600 \nL 991 1575 \nQ 991 903 1244 561 \nQ 1497 219 1991 219 \nQ 2369 219 2611 417 \nQ 2853 616 2950 1006 \nL 3413 1006 \nQ 3275 459 2904 184 \nQ 2534 -91 1931 -91 \nQ 1203 -91 761 389 \nQ 319 869 319 1663 \nQ 319 2450 753 2931 \nQ 1188 3413 1894 3413 \nQ 2647 3413 3050 2948 \nQ 3453 2484 3469 1600 \nz\nM 2791 1931 \nQ 2772 2513 2545 2808 \nQ 2319 3103 1894 3103 \nQ 1497 3103 1269 2806 \nQ 1041 2509 991 1931 \nL 2791 1931 \nz\n\" transform=\"scale(0.015625)\"/>\n       <path id=\"DejaVuSerif-74\" d=\"M 691 2988 \nL 184 2988 \nL 184 3322 \nL 691 3322 \nL 691 4353 \nL 1269 4353 \nL 1269 3322 \nL 2350 3322 \nL 2350 2988 \nL 1269 2988 \nL 1269 878 \nQ 1269 456 1350 337 \nQ 1431 219 1650 219 \nQ 1875 219 1978 351 \nQ 2081 484 2088 781 \nL 2522 781 \nQ 2497 328 2275 118 \nQ 2053 -91 1600 -91 \nQ 1103 -91 897 129 \nQ 691 350 691 878 \nL 691 2988 \nz\n\" transform=\"scale(0.015625)\"/>\n       <path id=\"DejaVuSerif-68\" d=\"M 263 0 \nL 263 331 \nL 781 331 \nL 781 4531 \nL 231 4531 \nL 231 4863 \nL 1356 4863 \nL 1356 2731 \nQ 1516 3069 1770 3241 \nQ 2025 3413 2363 3413 \nQ 2913 3413 3172 3097 \nQ 3431 2781 3431 2113 \nL 3431 331 \nL 3944 331 \nL 3944 0 \nL 2356 0 \nL 2356 331 \nL 2853 331 \nL 2853 1931 \nQ 2853 2541 2704 2764 \nQ 2556 2988 2175 2988 \nQ 1775 2988 1565 2697 \nQ 1356 2406 1356 1850 \nL 1356 331 \nL 1856 331 \nL 1856 0 \nL 263 0 \nz\n\" transform=\"scale(0.015625)\"/>\n       <path id=\"DejaVuSerif-71\" d=\"M 3359 2988 \nL 3359 -997 \nL 3909 -997 \nL 3909 -1331 \nL 2241 -1331 \nL 2241 -997 \nL 2784 -997 \nL 2784 519 \nQ 2616 206 2355 57 \nQ 2094 -91 1709 -91 \nQ 1097 -91 708 395 \nQ 319 881 319 1663 \nQ 319 2444 706 2928 \nQ 1094 3413 1709 3413 \nQ 2094 3413 2355 3264 \nQ 2616 3116 2784 2803 \nL 2784 3322 \nL 3909 3322 \nL 3909 2988 \nL 3359 2988 \nz\nM 2784 1825 \nQ 2784 2422 2554 2737 \nQ 2325 3053 1888 3053 \nQ 1444 3053 1217 2703 \nQ 991 2353 991 1663 \nQ 991 975 1217 622 \nQ 1444 269 1888 269 \nQ 2325 269 2554 583 \nQ 2784 897 2784 1497 \nL 2784 1825 \nz\n\" transform=\"scale(0.015625)\"/>\n       <path id=\"DejaVuSerif-75\" d=\"M 2266 3322 \nL 3341 3322 \nL 3341 331 \nL 3884 331 \nL 3884 0 \nL 2766 0 \nL 2766 588 \nQ 2606 256 2353 82 \nQ 2100 -91 1766 -91 \nQ 1213 -91 952 223 \nQ 691 538 691 1209 \nL 691 2988 \nL 172 2988 \nL 172 3322 \nL 1269 3322 \nL 1269 1388 \nQ 1269 781 1417 556 \nQ 1566 331 1947 331 \nQ 2347 331 2556 625 \nQ 2766 919 2766 1478 \nL 2766 2988 \nL 2266 2988 \nL 2266 3322 \nz\n\" transform=\"scale(0.015625)\"/>\n       <path id=\"DejaVuSerif-6b\" d=\"M 1831 0 \nL 219 0 \nL 219 331 \nL 738 331 \nL 738 4531 \nL 184 4531 \nL 184 4863 \nL 1313 4863 \nL 1313 1697 \nL 2713 2988 \nL 2234 2988 \nL 2234 3322 \nL 3738 3322 \nL 3738 2988 \nL 3169 2988 \nL 2181 2075 \nL 3444 331 \nL 3922 331 \nL 3922 0 \nL 2284 0 \nL 2284 331 \nL 2759 331 \nL 1766 1697 \nL 1313 1275 \nL 1313 331 \nL 1831 331 \nL 1831 0 \nz\n\" transform=\"scale(0.015625)\"/>\n       <path id=\"DejaVuSerif-73\" d=\"M 359 184 \nL 359 959 \nL 691 959 \nQ 703 588 923 403 \nQ 1144 219 1575 219 \nQ 1963 219 2166 364 \nQ 2369 509 2369 788 \nQ 2369 1006 2220 1140 \nQ 2072 1275 1594 1428 \nL 1178 1569 \nQ 750 1706 558 1912 \nQ 366 2119 366 2438 \nQ 366 2894 700 3153 \nQ 1034 3413 1625 3413 \nQ 1888 3413 2178 3344 \nQ 2469 3275 2778 3144 \nL 2778 2419 \nL 2447 2419 \nQ 2434 2741 2221 2922 \nQ 2009 3103 1644 3103 \nQ 1281 3103 1095 2975 \nQ 909 2847 909 2591 \nQ 909 2381 1050 2254 \nQ 1191 2128 1613 1997 \nL 2069 1856 \nQ 2541 1709 2748 1489 \nQ 2956 1269 2956 922 \nQ 2956 450 2595 179 \nQ 2234 -91 1600 -91 \nQ 1278 -91 972 -22 \nQ 666 47 359 184 \nz\n\" transform=\"scale(0.015625)\"/>\n       <path id=\"DejaVuSerif-70\" d=\"M 1313 1825 \nL 1313 1497 \nQ 1313 897 1542 583 \nQ 1772 269 2209 269 \nQ 2650 269 2876 622 \nQ 3103 975 3103 1663 \nQ 3103 2353 2876 2703 \nQ 2650 3053 2209 3053 \nQ 1772 3053 1542 2737 \nQ 1313 2422 1313 1825 \nz\nM 738 2988 \nL 184 2988 \nL 184 3322 \nL 1313 3322 \nL 1313 2803 \nQ 1481 3116 1742 3264 \nQ 2003 3413 2388 3413 \nQ 3000 3413 3387 2928 \nQ 3775 2444 3775 1663 \nQ 3775 881 3387 395 \nQ 3000 -91 2388 -91 \nQ 2003 -91 1742 57 \nQ 1481 206 1313 519 \nL 1313 -997 \nL 1856 -997 \nL 1856 -1331 \nL 184 -1331 \nL 184 -997 \nL 738 -997 \nL 738 2988 \nz\n\" transform=\"scale(0.015625)\"/>\n       <path id=\"DejaVuSerif-64\" d=\"M 3359 331 \nL 3909 331 \nL 3909 0 \nL 2784 0 \nL 2784 519 \nQ 2616 206 2355 57 \nQ 2094 -91 1709 -91 \nQ 1097 -91 708 395 \nQ 319 881 319 1663 \nQ 319 2444 706 2928 \nQ 1094 3413 1709 3413 \nQ 2094 3413 2355 3264 \nQ 2616 3116 2784 2803 \nL 2784 4531 \nL 2241 4531 \nL 2241 4863 \nL 3359 4863 \nL 3359 331 \nz\nM 2784 1497 \nL 2784 1825 \nQ 2784 2422 2554 2737 \nQ 2325 3053 1888 3053 \nQ 1444 3053 1217 2703 \nQ 991 2353 991 1663 \nQ 991 975 1217 622 \nQ 1444 269 1888 269 \nQ 2325 269 2554 583 \nQ 2784 897 2784 1497 \nz\n\" transform=\"scale(0.015625)\"/>\n       <path id=\"DejaVuSerif-63\" d=\"M 3291 997 \nQ 3169 466 2822 187 \nQ 2475 -91 1925 -91 \nQ 1200 -91 759 389 \nQ 319 869 319 1663 \nQ 319 2459 759 2936 \nQ 1200 3413 1925 3413 \nQ 2241 3413 2553 3339 \nQ 2866 3266 3181 3116 \nL 3181 2266 \nL 2847 2266 \nQ 2781 2703 2561 2903 \nQ 2341 3103 1931 3103 \nQ 1466 3103 1228 2742 \nQ 991 2381 991 1663 \nQ 991 944 1227 581 \nQ 1463 219 1931 219 \nQ 2303 219 2525 412 \nQ 2747 606 2828 997 \nL 3291 997 \nz\n\" transform=\"scale(0.015625)\"/>\n       <path id=\"DejaVuSerif-29\" d=\"M 453 -997 \nL 453 -691 \nQ 934 -359 1145 242 \nQ 1356 844 1356 1931 \nQ 1356 3022 1145 3623 \nQ 934 4225 453 4556 \nL 453 4863 \nQ 1216 4522 1603 3783 \nQ 1991 3044 1991 1931 \nQ 1991 822 1603 83 \nQ 1216 -656 453 -997 \nz\n\" transform=\"scale(0.015625)\"/>\n      </defs>\n      <use xlink:href=\"#DejaVuSans-Oblique-3bb\" transform=\"translate(0 0.015625)\"/>\n      <use xlink:href=\"#DejaVuSerif-20\" transform=\"translate(59.179688 0.015625)\"/>\n      <use xlink:href=\"#DejaVuSerif-28\" transform=\"translate(90.966797 0.015625)\"/>\n      <use xlink:href=\"#DejaVuSerif-23\" transform=\"translate(129.980469 0.015625)\"/>\n      <use xlink:href=\"#DejaVuSerif-20\" transform=\"translate(213.769531 0.015625)\"/>\n      <use xlink:href=\"#DejaVuSerif-6f\" transform=\"translate(245.556641 0.015625)\"/>\n      <use xlink:href=\"#DejaVuSerif-72\" transform=\"translate(305.761719 0.015625)\"/>\n      <use xlink:href=\"#DejaVuSerif-20\" transform=\"translate(353.564453 0.015625)\"/>\n      <use xlink:href=\"#DejaVuSerif-6d\" transform=\"translate(385.351562 0.015625)\"/>\n      <use xlink:href=\"#DejaVuSerif-61\" transform=\"translate(480.175781 0.015625)\"/>\n      <use xlink:href=\"#DejaVuSerif-6a\" transform=\"translate(539.794922 0.015625)\"/>\n      <use xlink:href=\"#DejaVuSerif-6f\" transform=\"translate(570.800781 0.015625)\"/>\n      <use xlink:href=\"#DejaVuSerif-72\" transform=\"translate(631.005859 0.015625)\"/>\n      <use xlink:href=\"#DejaVuSerif-20\" transform=\"translate(678.808594 0.015625)\"/>\n      <use xlink:href=\"#DejaVuSerif-65\" transform=\"translate(710.595703 0.015625)\"/>\n      <use xlink:href=\"#DejaVuSerif-61\" transform=\"translate(769.775391 0.015625)\"/>\n      <use xlink:href=\"#DejaVuSerif-72\" transform=\"translate(829.394531 0.015625)\"/>\n      <use xlink:href=\"#DejaVuSerif-74\" transform=\"translate(877.197266 0.015625)\"/>\n      <use xlink:href=\"#DejaVuSerif-68\" transform=\"translate(917.382812 0.015625)\"/>\n      <use xlink:href=\"#DejaVuSerif-71\" transform=\"translate(981.787109 0.015625)\"/>\n      <use xlink:href=\"#DejaVuSerif-75\" transform=\"translate(1045.800781 0.015625)\"/>\n      <use xlink:href=\"#DejaVuSerif-61\" transform=\"translate(1110.205078 0.015625)\"/>\n      <use xlink:href=\"#DejaVuSerif-6b\" transform=\"translate(1169.824219 0.015625)\"/>\n      <use xlink:href=\"#DejaVuSerif-65\" transform=\"translate(1230.419922 0.015625)\"/>\n      <use xlink:href=\"#DejaVuSerif-73\" transform=\"translate(1289.599609 0.015625)\"/>\n      <use xlink:href=\"#DejaVuSerif-20\" transform=\"translate(1340.917969 0.015625)\"/>\n      <use xlink:href=\"#DejaVuSerif-70\" transform=\"translate(1372.705078 0.015625)\"/>\n      <use xlink:href=\"#DejaVuSerif-65\" transform=\"translate(1436.71875 0.015625)\"/>\n      <use xlink:href=\"#DejaVuSerif-72\" transform=\"translate(1495.898438 0.015625)\"/>\n      <use xlink:href=\"#DejaVuSerif-20\" transform=\"translate(1543.701172 0.015625)\"/>\n      <use xlink:href=\"#DejaVuSerif-64\" transform=\"translate(1575.488281 0.015625)\"/>\n      <use xlink:href=\"#DejaVuSerif-65\" transform=\"translate(1639.501953 0.015625)\"/>\n      <use xlink:href=\"#DejaVuSerif-63\" transform=\"translate(1698.681641 0.015625)\"/>\n      <use xlink:href=\"#DejaVuSerif-61\" transform=\"translate(1754.6875 0.015625)\"/>\n      <use xlink:href=\"#DejaVuSerif-64\" transform=\"translate(1814.306641 0.015625)\"/>\n      <use xlink:href=\"#DejaVuSerif-65\" transform=\"translate(1878.320312 0.015625)\"/>\n      <use xlink:href=\"#DejaVuSerif-29\" transform=\"translate(1937.5 0.015625)\"/>\n     </g>\n    </g>\n   </g>\n   <g id=\"matplotlib.axis_2\">\n    <g id=\"ytick_1\">\n     <g id=\"line2d_6\"/>\n     <g id=\"text_7\">\n      <!-- 0.0 -->\n      <g style=\"fill: #262626\" transform=\"translate(19.28 304.881047) scale(0.07 -0.07)\">\n       <defs>\n        <path id=\"DejaVuSerif-2e\" d=\"M 603 325 \nQ 603 500 722 622 \nQ 841 744 1019 744 \nQ 1191 744 1312 622 \nQ 1434 500 1434 325 \nQ 1434 153 1312 31 \nQ 1191 -91 1019 -91 \nQ 841 -91 722 29 \nQ 603 150 603 325 \nz\n\" transform=\"scale(0.015625)\"/>\n       </defs>\n       <use xlink:href=\"#DejaVuSerif-30\"/>\n       <use xlink:href=\"#DejaVuSerif-2e\" transform=\"translate(63.623047 0)\"/>\n       <use xlink:href=\"#DejaVuSerif-30\" transform=\"translate(95.410156 0)\"/>\n      </g>\n     </g>\n    </g>\n    <g id=\"ytick_2\">\n     <g id=\"line2d_7\"/>\n     <g id=\"text_8\">\n      <!-- 0.2 -->\n      <g style=\"fill: #262626\" transform=\"translate(19.28 248.659685) scale(0.07 -0.07)\">\n       <use xlink:href=\"#DejaVuSerif-30\"/>\n       <use xlink:href=\"#DejaVuSerif-2e\" transform=\"translate(63.623047 0)\"/>\n       <use xlink:href=\"#DejaVuSerif-32\" transform=\"translate(95.410156 0)\"/>\n      </g>\n     </g>\n    </g>\n    <g id=\"ytick_3\">\n     <g id=\"line2d_8\"/>\n     <g id=\"text_9\">\n      <!-- 0.4 -->\n      <g style=\"fill: #262626\" transform=\"translate(19.28 192.438324) scale(0.07 -0.07)\">\n       <use xlink:href=\"#DejaVuSerif-30\"/>\n       <use xlink:href=\"#DejaVuSerif-2e\" transform=\"translate(63.623047 0)\"/>\n       <use xlink:href=\"#DejaVuSerif-34\" transform=\"translate(95.410156 0)\"/>\n      </g>\n     </g>\n    </g>\n    <g id=\"ytick_4\">\n     <g id=\"line2d_9\"/>\n     <g id=\"text_10\">\n      <!-- 0.6 -->\n      <g style=\"fill: #262626\" transform=\"translate(19.28 136.216963) scale(0.07 -0.07)\">\n       <defs>\n        <path id=\"DejaVuSerif-36\" d=\"M 2094 219 \nQ 2534 219 2771 542 \nQ 3009 866 3009 1472 \nQ 3009 2078 2771 2401 \nQ 2534 2725 2094 2725 \nQ 1647 2725 1412 2412 \nQ 1178 2100 1178 1509 \nQ 1178 888 1415 553 \nQ 1653 219 2094 219 \nz\nM 1075 2569 \nQ 1288 2803 1556 2918 \nQ 1825 3034 2163 3034 \nQ 2859 3034 3264 2615 \nQ 3669 2197 3669 1472 \nQ 3669 763 3233 336 \nQ 2797 -91 2069 -91 \nQ 1278 -91 853 498 \nQ 428 1088 428 2181 \nQ 428 3406 931 4078 \nQ 1434 4750 2350 4750 \nQ 2597 4750 2869 4703 \nQ 3141 4656 3425 4563 \nL 3425 3794 \nL 3072 3794 \nQ 3034 4109 2831 4275 \nQ 2628 4441 2284 4441 \nQ 1678 4441 1381 3981 \nQ 1084 3522 1075 2569 \nz\n\" transform=\"scale(0.015625)\"/>\n       </defs>\n       <use xlink:href=\"#DejaVuSerif-30\"/>\n       <use xlink:href=\"#DejaVuSerif-2e\" transform=\"translate(63.623047 0)\"/>\n       <use xlink:href=\"#DejaVuSerif-36\" transform=\"translate(95.410156 0)\"/>\n      </g>\n     </g>\n    </g>\n    <g id=\"ytick_5\">\n     <g id=\"line2d_10\"/>\n     <g id=\"text_11\">\n      <!-- 0.8 -->\n      <g style=\"fill: #262626\" transform=\"translate(19.28 79.995601) scale(0.07 -0.07)\">\n       <defs>\n        <path id=\"DejaVuSerif-38\" d=\"M 2981 1275 \nQ 2981 1775 2732 2051 \nQ 2484 2328 2034 2328 \nQ 1584 2328 1336 2051 \nQ 1088 1775 1088 1275 \nQ 1088 772 1336 495 \nQ 1584 219 2034 219 \nQ 2484 219 2732 495 \nQ 2981 772 2981 1275 \nz\nM 2853 3541 \nQ 2853 3966 2637 4203 \nQ 2422 4441 2034 4441 \nQ 1650 4441 1433 4203 \nQ 1216 3966 1216 3541 \nQ 1216 3113 1433 2875 \nQ 1650 2638 2034 2638 \nQ 2422 2638 2637 2875 \nQ 2853 3113 2853 3541 \nz\nM 2516 2484 \nQ 3047 2413 3344 2092 \nQ 3641 1772 3641 1275 \nQ 3641 619 3225 264 \nQ 2809 -91 2034 -91 \nQ 1263 -91 845 264 \nQ 428 619 428 1275 \nQ 428 1772 725 2092 \nQ 1022 2413 1556 2484 \nQ 1084 2569 832 2842 \nQ 581 3116 581 3541 \nQ 581 4103 968 4426 \nQ 1356 4750 2034 4750 \nQ 2713 4750 3100 4426 \nQ 3488 4103 3488 3541 \nQ 3488 3116 3236 2842 \nQ 2984 2569 2516 2484 \nz\n\" transform=\"scale(0.015625)\"/>\n       </defs>\n       <use xlink:href=\"#DejaVuSerif-30\"/>\n       <use xlink:href=\"#DejaVuSerif-2e\" transform=\"translate(63.623047 0)\"/>\n       <use xlink:href=\"#DejaVuSerif-38\" transform=\"translate(95.410156 0)\"/>\n      </g>\n     </g>\n    </g>\n    <g id=\"ytick_6\">\n     <g id=\"line2d_11\"/>\n     <g id=\"text_12\">\n      <!-- 1.0 -->\n      <g style=\"fill: #262626\" transform=\"translate(19.28 23.77424) scale(0.07 -0.07)\">\n       <use xlink:href=\"#DejaVuSerif-31\"/>\n       <use xlink:href=\"#DejaVuSerif-2e\" transform=\"translate(63.623047 0)\"/>\n       <use xlink:href=\"#DejaVuSerif-30\" transform=\"translate(95.410156 0)\"/>\n      </g>\n     </g>\n    </g>\n    <g id=\"text_13\">\n     <!-- $p(\\lambda|x_{1:N})$ -->\n     <g style=\"fill: #262626\" transform=\"translate(13.36 178.062656) rotate(-90) scale(0.08 -0.08)\">\n      <defs>\n       <path id=\"DejaVuSans-Oblique-70\" d=\"M 3175 2156 \nQ 3175 2616 2975 2859 \nQ 2775 3103 2400 3103 \nQ 2144 3103 1911 2972 \nQ 1678 2841 1497 2591 \nQ 1319 2344 1212 1994 \nQ 1106 1644 1106 1300 \nQ 1106 863 1306 627 \nQ 1506 391 1875 391 \nQ 2147 391 2380 519 \nQ 2613 647 2778 891 \nQ 2956 1147 3065 1494 \nQ 3175 1841 3175 2156 \nz\nM 1394 2969 \nQ 1625 3272 1939 3428 \nQ 2253 3584 2638 3584 \nQ 3175 3584 3472 3232 \nQ 3769 2881 3769 2247 \nQ 3769 1728 3584 1258 \nQ 3400 788 3053 416 \nQ 2822 169 2531 39 \nQ 2241 -91 1919 -91 \nQ 1547 -91 1294 64 \nQ 1041 219 916 525 \nL 556 -1331 \nL -19 -1331 \nL 922 3500 \nL 1497 3500 \nL 1394 2969 \nz\n\" transform=\"scale(0.015625)\"/>\n       <path id=\"DejaVuSans-28\" d=\"M 1984 4856 \nQ 1566 4138 1362 3434 \nQ 1159 2731 1159 2009 \nQ 1159 1288 1364 580 \nQ 1569 -128 1984 -844 \nL 1484 -844 \nQ 1016 -109 783 600 \nQ 550 1309 550 2009 \nQ 550 2706 781 3412 \nQ 1013 4119 1484 4856 \nL 1984 4856 \nz\n\" transform=\"scale(0.015625)\"/>\n       <path id=\"DejaVuSans-7c\" d=\"M 1344 4891 \nL 1344 -1509 \nL 813 -1509 \nL 813 4891 \nL 1344 4891 \nz\n\" transform=\"scale(0.015625)\"/>\n       <path id=\"DejaVuSans-Oblique-78\" d=\"M 3841 3500 \nL 2234 1784 \nL 3219 0 \nL 2559 0 \nL 1819 1388 \nL 531 0 \nL -166 0 \nL 1556 1844 \nL 641 3500 \nL 1300 3500 \nL 1972 2234 \nL 3144 3500 \nL 3841 3500 \nz\n\" transform=\"scale(0.015625)\"/>\n       <path id=\"DejaVuSans-31\" d=\"M 794 531 \nL 1825 531 \nL 1825 4091 \nL 703 3866 \nL 703 4441 \nL 1819 4666 \nL 2450 4666 \nL 2450 531 \nL 3481 531 \nL 3481 0 \nL 794 0 \nL 794 531 \nz\n\" transform=\"scale(0.015625)\"/>\n       <path id=\"DejaVuSans-3a\" d=\"M 750 794 \nL 1409 794 \nL 1409 0 \nL 750 0 \nL 750 794 \nz\nM 750 3309 \nL 1409 3309 \nL 1409 2516 \nL 750 2516 \nL 750 3309 \nz\n\" transform=\"scale(0.015625)\"/>\n       <path id=\"DejaVuSans-Oblique-4e\" d=\"M 1081 4666 \nL 1931 4666 \nL 3219 666 \nL 4000 4666 \nL 4616 4666 \nL 3706 0 \nL 2853 0 \nL 1569 4025 \nL 788 0 \nL 172 0 \nL 1081 4666 \nz\n\" transform=\"scale(0.015625)\"/>\n       <path id=\"DejaVuSans-29\" d=\"M 513 4856 \nL 1013 4856 \nQ 1481 4119 1714 3412 \nQ 1947 2706 1947 2009 \nQ 1947 1309 1714 600 \nQ 1481 -109 1013 -844 \nL 513 -844 \nQ 928 -128 1133 580 \nQ 1338 1288 1338 2009 \nQ 1338 2731 1133 3434 \nQ 928 4138 513 4856 \nz\n\" transform=\"scale(0.015625)\"/>\n      </defs>\n      <use xlink:href=\"#DejaVuSans-Oblique-70\" transform=\"translate(0 0.578125)\"/>\n      <use xlink:href=\"#DejaVuSans-28\" transform=\"translate(63.476562 0.578125)\"/>\n      <use xlink:href=\"#DejaVuSans-Oblique-3bb\" transform=\"translate(102.490234 0.578125)\"/>\n      <use xlink:href=\"#DejaVuSans-7c\" transform=\"translate(161.669922 0.578125)\"/>\n      <use xlink:href=\"#DejaVuSans-Oblique-78\" transform=\"translate(195.361328 0.578125)\"/>\n      <use xlink:href=\"#DejaVuSans-31\" transform=\"translate(254.541016 -15.828125) scale(0.7)\"/>\n      <use xlink:href=\"#DejaVuSans-3a\" transform=\"translate(312.714844 -15.828125) scale(0.7)\"/>\n      <use xlink:href=\"#DejaVuSans-Oblique-4e\" transform=\"translate(349.936523 -15.828125) scale(0.7)\"/>\n      <use xlink:href=\"#DejaVuSans-29\" transform=\"translate(405.03418 0.578125)\"/>\n     </g>\n    </g>\n   </g>\n   <g id=\"line2d_12\">\n    <path d=\"M 52.857997 21.114787 \nL 56.685433 33.891525 \nL 60.51287 46.087541 \nL 64.340306 57.729229 \nL 68.167742 68.841784 \nL 71.995179 79.449257 \nL 75.822615 89.574603 \nL 79.650051 99.239737 \nL 83.477488 108.465576 \nL 87.304924 117.272086 \nL 91.13236 125.678326 \nL 94.959796 133.70249 \nL 98.787233 141.361944 \nL 102.614669 148.673263 \nL 106.442105 155.652272 \nL 110.269542 162.314074 \nL 114.096978 168.673086 \nL 117.924414 174.743072 \nL 121.75185 180.537168 \nL 125.579287 186.067913 \nL 129.406723 191.347277 \nL 133.234159 196.386685 \nL 137.061596 201.197045 \nL 140.889032 205.788767 \nL 144.716468 210.171788 \nL 148.543905 214.355594 \nL 152.371341 218.349239 \nL 156.198777 222.161367 \nL 160.026213 225.800228 \nL 163.85365 229.273697 \nL 167.681086 232.589291 \nL 171.508522 235.754187 \nL 175.335959 238.775233 \nL 179.163395 241.658968 \nL 182.990831 244.411633 \nL 186.818267 247.039185 \nL 190.645704 249.54731 \nL 194.47314 251.941438 \nL 198.300576 254.226749 \nL 202.128013 256.408188 \nL 205.955449 258.490478 \nL 209.782885 260.478125 \nL 213.610322 262.37543 \nL 217.437758 264.1865 \nL 221.265194 265.915253 \nL 225.09263 267.565433 \nL 228.920067 269.140609 \nL 232.747503 270.64419 \nL 236.574939 272.079432 \nL 240.402376 273.44944 \nL 244.229812 274.757179 \nL 248.057248 276.005479 \nL 251.884684 277.197042 \nL 255.712121 278.334446 \nL 259.539557 279.420154 \nL 263.366993 280.456514 \nL 267.19443 281.445771 \nL 271.021866 282.390064 \nL 274.849302 283.291438 \nL 278.676739 284.151843 \nL 282.504175 284.973141 \nL 286.331611 285.757109 \nL 290.159047 286.505446 \nL 293.986484 287.219769 \nL 297.81392 287.901625 \nL 301.641356 288.55249 \nL 305.468793 289.173771 \nL 309.296229 289.766815 \nL 313.123665 290.332904 \nL 316.951101 290.873263 \nL 320.778538 291.389062 \nL 324.605974 291.881418 \nL 328.43341 292.351395 \nL 332.260847 292.80001 \nL 336.088283 293.228236 \nL 339.915719 293.636998 \nL 343.743156 294.027181 \nL 347.570592 294.39963 \nL 351.398028 294.75515 \nL 355.225464 295.094511 \nL 359.052901 295.418448 \nL 362.880337 295.727662 \nL 366.707773 296.022821 \nL 370.53521 296.304565 \nL 374.362646 296.573503 \nL 378.190082 296.830217 \nL 382.017519 297.075264 \nL 385.844955 297.309172 \nL 389.672391 297.532449 \nL 393.499827 297.745578 \nL 397.327264 297.94902 \nL 401.1547 298.143215 \nL 404.982136 298.328584 \nL 408.809573 298.505527 \nL 412.637009 298.674428 \nL 416.464445 298.835652 \nL 420.291881 298.989548 \nL 424.119318 299.13645 \nL 427.946754 299.276674 \nL 431.77419 299.410526 \n\" clip-path=\"url(#p8d67ab5e5b)\" style=\"fill: none; stroke: #4c72b0; stroke-linecap: round\"/>\n   </g>\n   <g id=\"line2d_13\">\n    <path d=\"M 52.857997 21.114787 \nL 56.685433 33.891525 \nL 60.51287 46.087541 \nL 64.340306 57.729229 \nL 68.167742 68.841784 \nL 71.995179 79.449257 \nL 75.822615 89.574603 \nL 79.650051 99.239737 \nL 83.477488 108.465576 \nL 87.304924 117.272086 \nL 91.13236 125.678326 \nL 94.959796 133.70249 \nL 98.787233 141.361944 \nL 102.614669 148.673263 \nL 106.442105 155.652272 \nL 110.269542 162.314074 \nL 114.096978 168.673086 \nL 117.924414 174.743072 \nL 121.75185 180.537168 \nL 125.579287 186.067913 \nL 129.406723 191.347277 \nL 133.234159 196.386685 \nL 137.061596 201.197045 \nL 140.889032 205.788767 \nL 144.716468 210.171788 \nL 148.543905 214.355594 \nL 152.371341 218.349239 \nL 156.198777 222.161367 \nL 160.026213 225.800228 \nL 163.85365 229.273697 \nL 167.681086 232.589291 \nL 171.508522 235.754187 \nL 175.335959 238.775233 \nL 179.163395 241.658968 \nL 182.990831 244.411633 \nL 186.818267 247.039185 \nL 190.645704 249.54731 \nL 194.47314 251.941438 \nL 198.300576 254.226749 \nL 202.128013 256.408188 \nL 205.955449 258.490478 \nL 209.782885 260.478125 \nL 213.610322 262.37543 \nL 217.437758 264.1865 \nL 221.265194 265.915253 \nL 225.09263 267.565433 \nL 228.920067 269.140609 \nL 232.747503 270.64419 \nL 236.574939 272.079432 \nL 240.402376 273.44944 \nL 244.229812 274.757179 \nL 248.057248 276.005479 \nL 251.884684 277.197042 \nL 255.712121 278.334446 \nL 259.539557 279.420154 \nL 263.366993 280.456514 \nL 267.19443 281.445771 \nL 271.021866 282.390064 \nL 274.849302 283.291438 \nL 278.676739 284.151843 \nL 282.504175 284.973141 \nL 286.331611 285.757109 \nL 290.159047 286.505446 \nL 293.986484 287.219769 \nL 297.81392 287.901625 \nL 301.641356 288.55249 \nL 305.468793 289.173771 \nL 309.296229 289.766815 \nL 313.123665 290.332904 \nL 316.951101 290.873263 \nL 320.778538 291.389062 \nL 324.605974 291.881418 \nL 328.43341 292.351395 \nL 332.260847 292.80001 \nL 336.088283 293.228236 \nL 339.915719 293.636998 \nL 343.743156 294.027181 \nL 347.570592 294.39963 \nL 351.398028 294.75515 \nL 355.225464 295.094511 \nL 359.052901 295.418448 \nL 362.880337 295.727662 \nL 366.707773 296.022821 \nL 370.53521 296.304565 \nL 374.362646 296.573503 \nL 378.190082 296.830217 \nL 382.017519 297.075264 \nL 385.844955 297.309172 \nL 389.672391 297.532449 \nL 393.499827 297.745578 \nL 397.327264 297.94902 \nL 401.1547 298.143215 \nL 404.982136 298.328584 \nL 408.809573 298.505527 \nL 412.637009 298.674428 \nL 416.464445 298.835652 \nL 420.291881 298.989548 \nL 424.119318 299.13645 \nL 427.946754 299.276674 \nL 431.77419 299.410526 \n\" clip-path=\"url(#p8d67ab5e5b)\" style=\"fill: none; stroke: #dd8452; stroke-linecap: round\"/>\n   </g>\n   <g id=\"patch_3\">\n    <path d=\"M 33.912188 302.221594 \nL 33.912188 21.114787 \n\" style=\"fill: none; stroke: #262626; stroke-width: 0.5; stroke-linejoin: miter; stroke-linecap: square\"/>\n   </g>\n   <g id=\"patch_4\">\n    <path d=\"M 52.857997 313.325312 \nL 381.980421 313.325312 \n\" style=\"fill: none; stroke: #262626; stroke-width: 0.5; stroke-linejoin: miter; stroke-linecap: square\"/>\n   </g>\n  </g>\n </g>\n <defs>\n  <clipPath id=\"p8d67ab5e5b\">\n   <rect x=\"33.912188\" y=\"7.2\" width=\"416.807812\" height=\"306.125313\"/>\n  </clipPath>\n </defs>\n</svg>\n"
          },
          "metadata": {}
        }
      ],
      "source": [
        "# Your expression for alpha posterior here:\n",
        "alpha_post = 1.0\n",
        "# Your expression for beta posterior here:\n",
        "beta_post = 1.0\n",
        "# The posterior\n",
        "lambda_post = st.gamma(alpha_post, scale=1.0 / beta_post)\n",
        "\n",
        "# Plot it\n",
        "lambdas = np.linspace(0, lambda_post.ppf(0.99), 100)\n",
        "fig, ax = plt.subplots()\n",
        "ax.plot(lambdas, lambda_prior.pdf(lambdas))\n",
        "ax.plot(lambdas, lambda_post.pdf(lambdas))\n",
        "ax.set_xlabel('$\\lambda$ (# or major earthquakes per decade)')\n",
        "ax.set_ylabel('$p(\\lambda|x_{1:N})$')\n",
        "sns.despine(trim=True);"
      ]
    },
    {
      "cell_type": "markdown",
      "metadata": {
        "id": "5OtT5EzfUO_A"
      },
      "source": [
        "F. Let's determine the predictive distribution for the number of significant earthquakes during the next decade.\n",
        "This is something we did not do in class, but it will reappear in future lectures.\n",
        "Let $X$ be the random variable corresponding to the number of significant earthquakes during the next decade.\n",
        "We need to calculate:\n",
        "\n",
        "$$\n",
        "p(x|x_{1:N}) = \\text{our state of knowledge about $X$ after seeing the data}.\n",
        "$$\n",
        "\n",
        "How do we do this?\n",
        "We use the sum rule:\n",
        "\n",
        "$$\n",
        "p(x|x_{1:N}) = \\int_{0}^\\infty p(x|\\lambda, x_{1:N}) p(\\lambda|x_{1:N})d\\lambda = \\int_{0}^\\infty p(x|\\lambda) p(\\lambda|x_{1:N})d\\lambda,\n",
        "$$\n",
        "\n",
        "where going from the middle step to the rightmost one, we assumed that the number of earthquakes occurring in each decade is independent.\n",
        "You can carry out this integration analytically (it gives a [negative Binomial](https://en.wikipedia.org/wiki/Negative_binomial_distribution) distribution), but we are not going to bother with it.\n",
        "\n",
        "Below, you will write code to characterize it using Monte Carlo sampling.\n",
        "You can take a sample from the posterior predictive by:\n",
        "\n",
        "+ sampling a $\\lambda$ from its posterior $p(\\lambda|x_{1:N})$.\n",
        "+ sampling an $x$ from the likelihood $p(x|\\lambda)$.\n",
        "\n",
        "This is the same procedure we used for replicated experiments.\n",
        "\n",
        "Complete the code below:"
      ]
    },
    {
      "cell_type": "code",
      "execution_count": 17,
      "metadata": {
        "id": "NNNvCuZqUO_G",
        "outputId": "06627361-d646-486e-877d-2a257a8c585d",
        "colab": {
          "base_uri": "https://localhost:8080/",
          "height": 106
        }
      },
      "outputs": [
        {
          "output_type": "error",
          "ename": "SyntaxError",
          "evalue": "invalid syntax (ipython-input-17-2173990086.py, line 12)",
          "traceback": [
            "\u001b[0;36m  File \u001b[0;32m\"/tmp/ipython-input-17-2173990086.py\"\u001b[0;36m, line \u001b[0;32m12\u001b[0m\n\u001b[0;31m    lambda_sample = # WRITE ME (SAMPLE FROM POSTERIOR)\u001b[0m\n\u001b[0m                    ^\u001b[0m\n\u001b[0;31mSyntaxError\u001b[0m\u001b[0;31m:\u001b[0m invalid syntax\n"
          ]
        }
      ],
      "source": [
        "def sample_posterior_predictive(n, lambda_post):\n",
        "    \"\"\"Sample from the posterior predictive.\n",
        "\n",
        "    Arguments\n",
        "    n           -- The number of samples to take.\n",
        "    lambda_post -- The posterior for lambda.\n",
        "\n",
        "    Returns n samples from the posterior\n",
        "    \"\"\"\n",
        "    samples = np.empty((n,), dtype=\"i\")\n",
        "    for i in range(n):\n",
        "        lambda_sample = # WRITE ME (SAMPLE FROM POSTERIOR)\n",
        "        samples[i] = # WRITE ME (SAMPLE FROM POISSON GIVEN LAMBDA_SAMPLE)\n",
        "    return samples"
      ]
    },
    {
      "cell_type": "markdown",
      "metadata": {
        "id": "eSz37pVmUO_G"
      },
      "source": [
        "Test your code here:"
      ]
    },
    {
      "cell_type": "code",
      "execution_count": null,
      "metadata": {
        "id": "nT4IP7VcUO_G"
      },
      "outputs": [],
      "source": [
        "samples = sample_posterior_predictive(10, lambda_post)\n",
        "samples"
      ]
    },
    {
      "cell_type": "markdown",
      "metadata": {
        "id": "tIYI2xBmUO_G"
      },
      "source": [
        "G. Plot the predictive distribution $p(x|x_{1:N})$.\n",
        "<br>\n",
        "\n",
        "**Hint:** Draw 1,000 samples using `sample_posterior_predictive` and then draw a histogram."
      ]
    },
    {
      "cell_type": "code",
      "execution_count": null,
      "metadata": {
        "id": "mNEo7URvUO_G"
      },
      "outputs": [],
      "source": [
        "# Your code here"
      ]
    },
    {
      "cell_type": "markdown",
      "metadata": {
        "id": "vaDrVaxBUO_G"
      },
      "source": [
        "H. What is the probability that at least one major earthquake will occur during the next decade?\n",
        "<br>\n",
        "\n",
        "**Hint:** You may use a Monte Carlo estimate of the probability. Ignore the uncertainty in the estimate."
      ]
    },
    {
      "cell_type": "code",
      "execution_count": null,
      "metadata": {
        "id": "l2BHK3eMUO_G"
      },
      "outputs": [],
      "source": [
        "num_samples = 10000\n",
        "samples = sample_posterior_predictive(num_samples, lambda_post)\n",
        "\n",
        "# Count how many major earthquakes occured:\n",
        "count = 0\n",
        "for i in range(num_samples):\n",
        "    if samples[i] >=1:\n",
        "        count += 1\n",
        "\n",
        "prob_of_major_eq = # YOUR ESTIMATE HERE\n",
        "\n",
        "print(f\"p(X >= 1 | data) = {prob_of_major_eq}\")"
      ]
    },
    {
      "cell_type": "markdown",
      "metadata": {
        "id": "bx7EQMsaUO_G"
      },
      "source": [
        "I. Find a 95\\% credible interval for $\\lambda$."
      ]
    },
    {
      "cell_type": "code",
      "execution_count": null,
      "metadata": {
        "id": "9cXoXhqbUO_H"
      },
      "outputs": [],
      "source": [
        "# Write your code here and print() your answer"
      ]
    },
    {
      "cell_type": "markdown",
      "metadata": {
        "id": "b9pN1HIcUO_H"
      },
      "source": [
        "J. Find the $\\lambda$ that minimizes the absolute loss (see lecture), and call it $\\lambda^*_N$.\n",
        "Then, plot the fully Bayesian predictive $p(x|x_{1:N})$ in the same figure as $p(x|\\lambda^*_N)$."
      ]
    },
    {
      "cell_type": "code",
      "execution_count": null,
      "metadata": {
        "id": "-TA6moGZUO_H"
      },
      "outputs": [],
      "source": [
        "# Write your code here and print() your answer"
      ]
    },
    {
      "cell_type": "markdown",
      "metadata": {
        "id": "dkIoGVELUO_H"
      },
      "source": [
        "L. Draw replicated data from the model and compare them to the observed data.\n",
        "\n",
        "<br>\n",
        "\n",
        "**Hint:** Complete the missing code at the places indicated below."
      ]
    },
    {
      "cell_type": "code",
      "execution_count": null,
      "metadata": {
        "id": "8OMHHJwiUO_H"
      },
      "outputs": [],
      "source": [
        "def replicate_experiment(post_rv, n=len(eq_data), n_rep=9):\n",
        "    \"\"\"Replicate the experiment.\n",
        "\n",
        "    Arguments\n",
        "    post_rv -- The random variable object corresponding to\n",
        "               the posterior from which to sample.\n",
        "    n       -- The number of observations.\n",
        "    nrep    -- The number of repetitions.\n",
        "\n",
        "    Returns:\n",
        "    A numpy array of size n_rep x n.\n",
        "    \"\"\"\n",
        "    x_rep = np.empty((n_rep, n), dtype=\"i\")\n",
        "    for i in range(n_rep):\n",
        "        x_rep[i, :] = # Your code here\n",
        "    return x_rep"
      ]
    },
    {
      "cell_type": "markdown",
      "metadata": {
        "id": "XiuBpqYkUO_H"
      },
      "source": [
        "Try your code here:"
      ]
    },
    {
      "cell_type": "code",
      "execution_count": null,
      "metadata": {
        "id": "K-is8r0_UO_H"
      },
      "outputs": [],
      "source": [
        "x_rep = replicate_experiment(lambda_post)\n",
        "x_rep"
      ]
    },
    {
      "cell_type": "markdown",
      "metadata": {
        "id": "kFTCejfKUO_H"
      },
      "source": [
        "If it works, then try the following visualization:"
      ]
    },
    {
      "cell_type": "code",
      "execution_count": null,
      "metadata": {
        "id": "KW6IXIiQUO_H"
      },
      "outputs": [],
      "source": [
        "fig, ax = plt.subplots(\n",
        "    5,\n",
        "    2,\n",
        "    sharex='all',\n",
        "    sharey='all',\n",
        "    figsize=(20, 20)\n",
        ")\n",
        "ax[0, 0].bar(\n",
        "    np.linspace(1900, 2019, eq_data.shape[0]),\n",
        "    eq_data,\n",
        "    width=10,\n",
        "    color='red'\n",
        ")\n",
        "for i in range(1, n_rep + 1):\n",
        "    ax[int(i / 2), i % 2].bar(\n",
        "        np.linspace(1900, 2019, eq_data.shape[0]),\n",
        "        x_rep[i-1],\n",
        "        width=10\n",
        "    )"
      ]
    },
    {
      "cell_type": "markdown",
      "metadata": {
        "id": "NkW7w6FxUO_I"
      },
      "source": [
        "M. Plot the histograms and calculate the Bayesian p-values of the following test quantities:\n",
        "\n",
        "+ Maximum number of consecutive decades with no earthquakes.\n",
        "+ Maximum number of successive decades with earthquakes.\n",
        "\n",
        "**Hint:** You may reuse the code from [Hands-on 12.4](https://predictivesciencelab.github.io/data-analytics-se/lecture12/hands-on-12.4.html)."
      ]
    },
    {
      "cell_type": "code",
      "execution_count": null,
      "metadata": {
        "id": "QjLS3jq4UO_I"
      },
      "outputs": [],
      "source": [
        "def perform_diagnostics(post_rv, data, test_func, n_rep=1000):\n",
        "    \"\"\"Calculate Bayesian p-values.\n",
        "\n",
        "    Arguments\n",
        "    post_rv   -- The random variable object corresponding to\n",
        "                 the posterior from which to sample.\n",
        "    data      -- The training data.\n",
        "    test_func -- The test function.\n",
        "    n         -- The number of observations.\n",
        "    nrep      -- The number of repetitions.\n",
        "\n",
        "    Returns a dictionary that includes the observed value of\n",
        "    the test function (T_obs), the Bayesian p-value (p_val),\n",
        "    the replicated test statistic (T_rep),\n",
        "    and all the replicated data (data_rep).\n",
        "    \"\"\"\n",
        "    T_obs = test_func(data)\n",
        "    n = data.shape[0]\n",
        "    data_rep = replicate_experiment(post_rv, n_rep=n_rep)\n",
        "    T_rep = np.array(\n",
        "        tuple(\n",
        "            test_func(x)\n",
        "            for x in data_rep\n",
        "        )\n",
        "    )\n",
        "    p_val = (\n",
        "        np.sum(np.ones((n_rep,))[T_rep > T_obs]) / n_rep\n",
        "    )\n",
        "    return dict(\n",
        "        T_obs=T_obs,\n",
        "        p_val=p_val,\n",
        "        T_rep=T_rep,\n",
        "        data_rep=data_rep\n",
        "    )\n",
        "\n",
        "\n",
        "def plot_diagnostics(diagnostics):\n",
        "    \"\"\"Make the diagnostics plot.\n",
        "\n",
        "    Arguments:\n",
        "    diagnostics -- The dictionary returned by perform_diagnostics()\n",
        "    \"\"\"\n",
        "    fig, ax = plt.subplots()\n",
        "    tmp = ax.hist(\n",
        "        diagnostics[\"T_rep\"],\n",
        "        density=True,\n",
        "        alpha=0.25,\n",
        "        label='Replicated test quantity'\n",
        "    )[0]\n",
        "    ax.plot(\n",
        "        diagnostics[\"T_obs\"] * np.ones((50,)),\n",
        "        np.linspace(0, tmp.max(), 50),\n",
        "        'k',\n",
        "        label='Observed test quantity'\n",
        "    )\n",
        "    plt.legend(loc='best');\n",
        "\n",
        "\n",
        "def do_diagnostics(post_rv, data, test_func, n_rep=1000):\n",
        "    \"\"\"Calculate Bayesian p-values and make the corresponding\n",
        "    diagnostic plot.\n",
        "\n",
        "    Arguments\n",
        "    post_rv   -- The random variable object corresponding to\n",
        "                 the posterior from which to sample.\n",
        "    data      -- The training data.\n",
        "    test_func -- The test function.\n",
        "    n         -- The number of observations.\n",
        "    nrep      -- The number of repetitions.\n",
        "\n",
        "    Returns a dictionary that includes the observed value of\n",
        "    the test function (T_obs), the Bayesian p-value (p_val),\n",
        "    and the replicated experiment (data_rep).\n",
        "    \"\"\"\n",
        "    res = perform_diagnostics(\n",
        "        post_rv,\n",
        "        data,\n",
        "        test_func,\n",
        "        n_rep=n_rep\n",
        "    )\n",
        "\n",
        "    T_obs = res[\"T_obs\"]\n",
        "    p_val = res[\"p_val\"]\n",
        "\n",
        "    print(f'The observed test quantity is {T_obs}')\n",
        "    print(f'The Bayesian p_value is {p_val:.4f}')\n",
        "\n",
        "    plot_diagnostics(res)"
      ]
    },
    {
      "cell_type": "code",
      "execution_count": null,
      "metadata": {
        "id": "9ENekxCBUO_I"
      },
      "outputs": [],
      "source": [
        "# Here is the first test function for you\n",
        "def T_eq_max_neq(x):\n",
        "    \"\"\"Return the maximum number of consecutive decades\n",
        "    with no earthquakes.\"\"\"\n",
        "    count = 0\n",
        "    result = 0\n",
        "    for i in range(x.shape[0]):\n",
        "        if x[i] != 0:\n",
        "            count = 0\n",
        "        else:\n",
        "            count += 1\n",
        "            result = max(result, count)\n",
        "    return result\n",
        "\n",
        "# Consult the textbook (Lecture 12) to figure out\n",
        "# how to use do_diagnostics()."
      ]
    },
    {
      "cell_type": "code",
      "execution_count": null,
      "metadata": {
        "id": "MhjH6OSJUO_I"
      },
      "outputs": [],
      "source": [
        "# Write your code here for the second test quantity\n",
        "# (maximum number of consecutive decades with earthquakes)\n",
        "# Hint: copy paste your code from the previous cell\n",
        "# and make the necessary modifications"
      ]
    }
  ],
  "metadata": {
    "anaconda-cloud": {},
    "celltoolbar": "Tags",
    "kernelspec": {
      "display_name": "Python 3 (ipykernel)",
      "language": "python",
      "name": "python3"
    },
    "language_info": {
      "codemirror_mode": {
        "name": "ipython",
        "version": 3
      },
      "file_extension": ".py",
      "mimetype": "text/x-python",
      "name": "python",
      "nbconvert_exporter": "python",
      "pygments_lexer": "ipython3",
      "version": "3.11.3"
    },
    "latex_envs": {
      "bibliofile": "biblio.bib",
      "cite_by": "apalike",
      "current_citInitial": 1,
      "eqLabelWithNumbers": true,
      "eqNumInitial": 0
    },
    "colab": {
      "provenance": []
    }
  },
  "nbformat": 4,
  "nbformat_minor": 0
}
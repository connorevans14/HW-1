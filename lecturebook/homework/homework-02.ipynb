{
  "cells": [
    {
      "cell_type": "markdown",
      "metadata": {
        "id": "4D5gK51slODs"
      },
      "source": [
        "# Homework 2\n",
        "\n",
        "\n",
        "## References\n",
        "\n",
        "+ Lectures 4-8 (inclusive).\n",
        "\n",
        "## Instructions\n",
        "\n",
        "+ Type your name and email in the \"Student details\" section below.\n",
        "+ Develop the code and generate the figures you need to solve the problems using this notebook.\n",
        "+ For the answers that require a mathematical proof or derivation you should type them using latex. If you have never written latex before and you find it exceedingly difficult, we will likely accept handwritten solutions.\n",
        "+ The total homework points are 100. Please note that the problems are not weighed equally."
      ]
    },
    {
      "cell_type": "code",
      "execution_count": 63,
      "metadata": {
        "tags": [
          "hide-input"
        ],
        "id": "IYTQtAC_lODv"
      },
      "outputs": [],
      "source": [
        "MAKE_BOOK_FIGURES=True\n",
        "import numpy as np\n",
        "import scipy.stats as st\n",
        "\n",
        "import matplotlib as mpl\n",
        "import matplotlib.pyplot as plt\n",
        "%matplotlib inline\n",
        "import matplotlib_inline\n",
        "matplotlib_inline.backend_inline.set_matplotlib_formats('svg')\n",
        "import seaborn as sns\n",
        "sns.set_context(\"paper\")\n",
        "sns.set_style(\"ticks\")\n",
        "\n",
        "def set_book_style():\n",
        "    plt.style.use('seaborn-v0_8-white')\n",
        "    sns.set_style(\"ticks\")\n",
        "    sns.set_palette(\"deep\")\n",
        "\n",
        "    mpl.rcParams.update({\n",
        "        # Font settings\n",
        "        'font.family': 'serif',  # For academic publishing\n",
        "        'font.size': 8,  # As requested, 10pt font\n",
        "        'axes.labelsize': 8,\n",
        "        'axes.titlesize': 8,\n",
        "        'xtick.labelsize': 7,  # Slightly smaller for better readability\n",
        "        'ytick.labelsize': 7,\n",
        "        'legend.fontsize': 7,\n",
        "\n",
        "        # Line and marker settings for consistency\n",
        "        'axes.linewidth': 0.5,\n",
        "        'grid.linewidth': 0.5,\n",
        "        'lines.linewidth': 1.0,\n",
        "        'lines.markersize': 4,\n",
        "\n",
        "        # Layout to prevent clipped labels\n",
        "        'figure.constrained_layout.use': True,\n",
        "\n",
        "        # Default DPI (will override when saving)\n",
        "        'figure.dpi': 600,\n",
        "        'savefig.dpi': 600,\n",
        "\n",
        "        # Despine - remove top and right spines\n",
        "        'axes.spines.top': False,\n",
        "        'axes.spines.right': False,\n",
        "\n",
        "        # Remove legend frame\n",
        "        'legend.frameon': False,\n",
        "\n",
        "        # Additional trim settings\n",
        "        'figure.autolayout': True,  # Alternative to constrained_layout\n",
        "        'savefig.bbox': 'tight',    # Trim when saving\n",
        "        'savefig.pad_inches': 0.1   # Small padding to ensure nothing gets cut off\n",
        "    })\n",
        "\n",
        "def set_notebook_style():\n",
        "    plt.style.use('seaborn-v0_8-white')\n",
        "    sns.set_style(\"ticks\")\n",
        "    sns.set_palette(\"deep\")\n",
        "\n",
        "    mpl.rcParams.update({\n",
        "        # Font settings - using default sizes\n",
        "        'font.family': 'serif',\n",
        "        'axes.labelsize': 10,\n",
        "        'axes.titlesize': 10,\n",
        "        'xtick.labelsize': 9,\n",
        "        'ytick.labelsize': 9,\n",
        "        'legend.fontsize': 9,\n",
        "\n",
        "        # Line and marker settings\n",
        "        'axes.linewidth': 0.5,\n",
        "        'grid.linewidth': 0.5,\n",
        "        'lines.linewidth': 1.0,\n",
        "        'lines.markersize': 4,\n",
        "\n",
        "        # Layout settings\n",
        "        'figure.constrained_layout.use': True,\n",
        "\n",
        "        # Remove only top and right spines\n",
        "        'axes.spines.top': False,\n",
        "        'axes.spines.right': False,\n",
        "\n",
        "        # Remove legend frame\n",
        "        'legend.frameon': False,\n",
        "\n",
        "        # Additional settings\n",
        "        'figure.autolayout': True,\n",
        "        'savefig.bbox': 'tight',\n",
        "        'savefig.pad_inches': 0.1\n",
        "    })\n",
        "\n",
        "def save_for_book(fig, filename, is_vector=True, **kwargs):\n",
        "    \"\"\"\n",
        "    Save a figure with book-optimized settings.\n",
        "\n",
        "    Parameters:\n",
        "    -----------\n",
        "    fig : matplotlib figure\n",
        "        The figure to save\n",
        "    filename : str\n",
        "        Filename without extension\n",
        "    is_vector : bool\n",
        "        If True, saves as vector at 1000 dpi. If False, saves as raster at 600 dpi.\n",
        "    **kwargs : dict\n",
        "        Additional kwargs to pass to savefig\n",
        "    \"\"\"\n",
        "    # Set appropriate DPI and format based on figure type\n",
        "    if is_vector:\n",
        "        dpi = 1000\n",
        "        ext = '.pdf'\n",
        "    else:\n",
        "        dpi = 600\n",
        "        ext = '.tif'\n",
        "\n",
        "    # Save the figure with book settings\n",
        "    fig.savefig(f\"{filename}{ext}\", dpi=dpi, **kwargs)\n",
        "\n",
        "def make_full_width_fig():\n",
        "    return plt.subplots(figsize=(4.7, 2.9), constrained_layout=True)\n",
        "\n",
        "def make_half_width_fig():\n",
        "    return plt.subplots(figsize=(2.35, 1.45), constrained_layout=True)\n",
        "\n",
        "if MAKE_BOOK_FIGURES:\n",
        "    set_book_style()\n",
        "else:\n",
        "    set_notebook_style()\n",
        "\n",
        "make_full_width_fig = make_full_width_fig if MAKE_BOOK_FIGURES else lambda: plt.subplots()\n",
        "make_half_width_fig = make_half_width_fig if MAKE_BOOK_FIGURES else lambda: plt.subplots()"
      ]
    },
    {
      "cell_type": "markdown",
      "metadata": {
        "id": "6JT0KQaolODw"
      },
      "source": [
        "## Student details\n",
        "\n",
        "+ **First Name:**\n",
        "+ **Last Name:**\n",
        "+ **Email:**\n",
        "+ **Used generative AI to complete this assignment (Yes/No):**\n",
        "+ **Which generative AI tool did you use (if applicable)?:**"
      ]
    },
    {
      "cell_type": "markdown",
      "metadata": {
        "id": "loquI_HwlODw"
      },
      "source": [
        "## Problem 1 - Joint probability mass function of two discrete random variables\n",
        "\n",
        "Consider two random variables $X$ and $Y$.\n",
        "$X$ takes values $\\{0,1,\\dots,4\\}$ and $Y$ takes values $\\{0,1,\\dots,8\\}$.\n",
        "Their joint probability mass function, can be described using a matrix:"
      ]
    },
    {
      "cell_type": "code",
      "execution_count": 64,
      "metadata": {
        "id": "8mRmHNlslODw"
      },
      "outputs": [],
      "source": [
        "P = np.array(\n",
        "    [\n",
        "        [0.03607908, 0.03760034, 0.00503184, 0.0205082 , 0.01051408,\n",
        "         0.03776221, 0.00131325, 0.03760817, 0.01770659],\n",
        "        [0.03750162, 0.04317351, 0.03869997, 0.03069872, 0.02176718,\n",
        "         0.04778769, 0.01021053, 0.00324185, 0.02475319],\n",
        "        [0.03770951, 0.01053285, 0.01227089, 0.0339596 , 0.02296711,\n",
        "         0.02187814, 0.01925662, 0.0196836 , 0.01996279],\n",
        "        [0.02845139, 0.01209429, 0.02450163, 0.00874645, 0.03612603,\n",
        "         0.02352593, 0.00300314, 0.00103487, 0.04071951],\n",
        "        [0.00940187, 0.04633153, 0.01094094, 0.00172007, 0.00092633,\n",
        "         0.02032679, 0.02536328, 0.03552956, 0.01107725]\n",
        "    ]\n",
        ")"
      ]
    },
    {
      "cell_type": "markdown",
      "metadata": {
        "id": "4HU91zywlODx"
      },
      "source": [
        "The rows of the matrix correspond to the values of $X$ and the columns to the values of $Y$.\n",
        "So, if you wanted to find the probability of $p(X=2, Y=3)$ you would do:"
      ]
    },
    {
      "cell_type": "code",
      "execution_count": 65,
      "metadata": {
        "id": "Sy9_KK6_lODx",
        "outputId": "d1cca534-8d03-478a-e973-395ab4c9952b",
        "colab": {
          "base_uri": "https://localhost:8080/"
        }
      },
      "outputs": [
        {
          "output_type": "stream",
          "name": "stdout",
          "text": [
            "p(X=2, Y=3) = 0.034\n"
          ]
        }
      ],
      "source": [
        "print(f\"p(X=2, Y=3) = {P[2, 3]:.3f}\")"
      ]
    },
    {
      "cell_type": "markdown",
      "metadata": {
        "id": "9jv9idmAlODx"
      },
      "source": [
        "A. Verify that all the elements of $P$ sum to one, i.e., that $\\sum_{x,y}p(X=x, Y=y) = 1$."
      ]
    },
    {
      "cell_type": "code",
      "execution_count": 66,
      "metadata": {
        "id": "ASgwWM6tlODy",
        "outputId": "5018dbbd-4085-45b1-fa80-eac313e517b4",
        "colab": {
          "base_uri": "https://localhost:8080/"
        }
      },
      "outputs": [
        {
          "output_type": "stream",
          "name": "stdout",
          "text": [
            "Sum of P_ij = 1.00\n"
          ]
        }
      ],
      "source": [
        "# Your code here\n",
        "print(f\"Sum of P_ij = {np.sum(P):.2f}\")"
      ]
    },
    {
      "cell_type": "markdown",
      "metadata": {
        "id": "79xT016qlODy"
      },
      "source": [
        "B. Find the marginal probability density of $X$:\n",
        "\n",
        "$$\n",
        "p(x) = \\sum_{y}p(x,y).\n",
        "$$\n",
        "\n",
        "You can represent this as a 5-dimensional vector."
      ]
    },
    {
      "cell_type": "code",
      "execution_count": 67,
      "metadata": {
        "collapsed": true,
        "id": "K2fNjp5nlODy",
        "outputId": "f0d6c813-3d81-47b3-937e-bdb606f4aaa7",
        "colab": {
          "base_uri": "https://localhost:8080/"
        }
      },
      "outputs": [
        {
          "output_type": "stream",
          "name": "stdout",
          "text": [
            "Help on _ArrayFunctionDispatcher in module numpy:\n",
            "\n",
            "sum(a, axis=None, dtype=None, out=None, keepdims=<no value>, initial=<no value>, where=<no value>)\n",
            "    Sum of array elements over a given axis.\n",
            "    \n",
            "    Parameters\n",
            "    ----------\n",
            "    a : array_like\n",
            "        Elements to sum.\n",
            "    axis : None or int or tuple of ints, optional\n",
            "        Axis or axes along which a sum is performed.  The default,\n",
            "        axis=None, will sum all of the elements of the input array.  If\n",
            "        axis is negative it counts from the last to the first axis.\n",
            "    \n",
            "        .. versionadded:: 1.7.0\n",
            "    \n",
            "        If axis is a tuple of ints, a sum is performed on all of the axes\n",
            "        specified in the tuple instead of a single axis or all the axes as\n",
            "        before.\n",
            "    dtype : dtype, optional\n",
            "        The type of the returned array and of the accumulator in which the\n",
            "        elements are summed.  The dtype of `a` is used by default unless `a`\n",
            "        has an integer dtype of less precision than the default platform\n",
            "        integer.  In that case, if `a` is signed then the platform integer\n",
            "        is used while if `a` is unsigned then an unsigned integer of the\n",
            "        same precision as the platform integer is used.\n",
            "    out : ndarray, optional\n",
            "        Alternative output array in which to place the result. It must have\n",
            "        the same shape as the expected output, but the type of the output\n",
            "        values will be cast if necessary.\n",
            "    keepdims : bool, optional\n",
            "        If this is set to True, the axes which are reduced are left\n",
            "        in the result as dimensions with size one. With this option,\n",
            "        the result will broadcast correctly against the input array.\n",
            "    \n",
            "        If the default value is passed, then `keepdims` will not be\n",
            "        passed through to the `sum` method of sub-classes of\n",
            "        `ndarray`, however any non-default value will be.  If the\n",
            "        sub-class' method does not implement `keepdims` any\n",
            "        exceptions will be raised.\n",
            "    initial : scalar, optional\n",
            "        Starting value for the sum. See `~numpy.ufunc.reduce` for details.\n",
            "    \n",
            "        .. versionadded:: 1.15.0\n",
            "    \n",
            "    where : array_like of bool, optional\n",
            "        Elements to include in the sum. See `~numpy.ufunc.reduce` for details.\n",
            "    \n",
            "        .. versionadded:: 1.17.0\n",
            "    \n",
            "    Returns\n",
            "    -------\n",
            "    sum_along_axis : ndarray\n",
            "        An array with the same shape as `a`, with the specified\n",
            "        axis removed.   If `a` is a 0-d array, or if `axis` is None, a scalar\n",
            "        is returned.  If an output array is specified, a reference to\n",
            "        `out` is returned.\n",
            "    \n",
            "    See Also\n",
            "    --------\n",
            "    ndarray.sum : Equivalent method.\n",
            "    add: ``numpy.add.reduce`` equivalent function.\n",
            "    cumsum : Cumulative sum of array elements.\n",
            "    \n",
            "    mean, average\n",
            "    \n",
            "    Notes\n",
            "    -----\n",
            "    Arithmetic is modular when using integer types, and no error is\n",
            "    raised on overflow.\n",
            "    \n",
            "    The sum of an empty array is the neutral element 0:\n",
            "    \n",
            "    >>> np.sum([])\n",
            "    0.0\n",
            "    \n",
            "    For floating point numbers the numerical precision of sum (and\n",
            "    ``np.add.reduce``) is in general limited by directly adding each number\n",
            "    individually to the result causing rounding errors in every step.\n",
            "    However, often numpy will use a  numerically better approach (partial\n",
            "    pairwise summation) leading to improved precision in many use-cases.\n",
            "    This improved precision is always provided when no ``axis`` is given.\n",
            "    When ``axis`` is given, it will depend on which axis is summed.\n",
            "    Technically, to provide the best speed possible, the improved precision\n",
            "    is only used when the summation is along the fast axis in memory.\n",
            "    Note that the exact precision may vary depending on other parameters.\n",
            "    In contrast to NumPy, Python's ``math.fsum`` function uses a slower but\n",
            "    more precise approach to summation.\n",
            "    Especially when summing a large number of lower precision floating point\n",
            "    numbers, such as ``float32``, numerical errors can become significant.\n",
            "    In such cases it can be advisable to use `dtype=\"float64\"` to use a higher\n",
            "    precision for the output.\n",
            "    \n",
            "    Examples\n",
            "    --------\n",
            "    >>> np.sum([0.5, 1.5])\n",
            "    2.0\n",
            "    >>> np.sum([0.5, 0.7, 0.2, 1.5], dtype=np.int32)\n",
            "    1\n",
            "    >>> np.sum([[0, 1], [0, 5]])\n",
            "    6\n",
            "    >>> np.sum([[0, 1], [0, 5]], axis=0)\n",
            "    array([0, 6])\n",
            "    >>> np.sum([[0, 1], [0, 5]], axis=1)\n",
            "    array([1, 5])\n",
            "    >>> np.sum([[0, 1], [np.nan, 5]], where=[False, True], axis=1)\n",
            "    array([1., 5.])\n",
            "    \n",
            "    If the accumulator is too small, overflow occurs:\n",
            "    \n",
            "    >>> np.ones(128, dtype=np.int8).sum(dtype=np.int8)\n",
            "    -128\n",
            "    \n",
            "    You can also start the sum with a value other than zero:\n",
            "    \n",
            "    >>> np.sum([10], initial=5)\n",
            "    15\n",
            "\n"
          ]
        }
      ],
      "source": [
        "# Hint, you can do this in one line if you read this:\n",
        "help(np.sum)"
      ]
    },
    {
      "cell_type": "code",
      "source": [
        "p_x = np.sum(P, axis=1)\n",
        "print(f\"pmf of just X: {p_x}\")"
      ],
      "metadata": {
        "id": "sR2tN4OIluwD",
        "outputId": "7ddf564b-c03a-4787-8b63-2075ceffded6",
        "colab": {
          "base_uri": "https://localhost:8080/"
        }
      },
      "execution_count": 68,
      "outputs": [
        {
          "output_type": "stream",
          "name": "stdout",
          "text": [
            "pmf of just X: [0.20412376 0.25783426 0.19822111 0.17820324 0.16161762]\n"
          ]
        }
      ]
    },
    {
      "cell_type": "markdown",
      "metadata": {
        "id": "mysVuk7ylODy"
      },
      "source": [
        "C. Find the marginal probability density of $Y$. This is a 9-dimensional vector."
      ]
    },
    {
      "cell_type": "code",
      "execution_count": 69,
      "metadata": {
        "id": "7hQ3lZoklODy",
        "outputId": "f8fcf821-5dbd-47e1-e0a6-4c7129dce90c",
        "colab": {
          "base_uri": "https://localhost:8080/"
        }
      },
      "outputs": [
        {
          "output_type": "stream",
          "name": "stdout",
          "text": [
            "pmf of just Y: [0.14914347 0.14973252 0.09144527 0.09563304 0.09230073 0.15128076\n",
            " 0.05914682 0.09709805 0.11421933]\n"
          ]
        }
      ],
      "source": [
        "# Your code here\n",
        "p_y = np.sum(P, axis=0)\n",
        "print(f\"pmf of just Y: {p_y}\")"
      ]
    },
    {
      "cell_type": "markdown",
      "metadata": {
        "id": "pJKrjnMUlODz"
      },
      "source": [
        "D. Find the expectation and variance of $X$ and $Y$."
      ]
    },
    {
      "cell_type": "code",
      "execution_count": 70,
      "metadata": {
        "id": "1-LwM4gqlOD0",
        "outputId": "990cb64d-ea40-4663-ea4e-c0d15791aa19",
        "colab": {
          "base_uri": "https://localhost:8080/"
        }
      },
      "outputs": [
        {
          "output_type": "stream",
          "name": "stdout",
          "text": [
            "E[X] = 1.84\n",
            "E[Y] = 3.69\n"
          ]
        }
      ],
      "source": [
        "# Your code here\n",
        "E_X = np.sum(np.arange(5) * p_x)\n",
        "print(f\"E[X] = {E_X:.2f}\")\n",
        "E_Y = np.sum(np.arange(9) * p_y)\n",
        "print(f\"E[Y] = {E_Y:.2f}\")"
      ]
    },
    {
      "cell_type": "markdown",
      "metadata": {
        "id": "U7_yyHoVlOD0"
      },
      "source": [
        "E. Find the expectation of $E[X + Y]$."
      ]
    },
    {
      "cell_type": "code",
      "execution_count": 71,
      "metadata": {
        "id": "SgSuDajUlOD0",
        "outputId": "5ab71282-9687-4f03-e0d3-c084c760fc7e",
        "colab": {
          "base_uri": "https://localhost:8080/"
        }
      },
      "outputs": [
        {
          "output_type": "stream",
          "name": "stdout",
          "text": [
            "E[X+Y] = 5.53\n"
          ]
        }
      ],
      "source": [
        "# Your code here\n",
        "E_X_Y = E_X + E_Y\n",
        "print(f\"E[X+Y] = {E_X_Y:.2f}\")"
      ]
    },
    {
      "cell_type": "markdown",
      "metadata": {
        "id": "XBvAT_PvlOD0"
      },
      "source": [
        "F. Find the covariance of $X$ and $Y$. Are the two variable correlated? If yes, are they positively or negatively correlated?"
      ]
    },
    {
      "cell_type": "code",
      "execution_count": 72,
      "metadata": {
        "id": "OjDrUyKblOD0",
        "outputId": "35a1f3aa-cb24-498d-9988-6855ebd7d5cb",
        "colab": {
          "base_uri": "https://localhost:8080/"
        }
      },
      "outputs": [
        {
          "output_type": "stream",
          "name": "stdout",
          "text": [
            "C[X, Y] = 0.32\n"
          ]
        }
      ],
      "source": [
        "# Your code here\n",
        "C_XY = 0.0 # Keeping track of the sum\n",
        "for x in range(5):\n",
        "    for y in range(9):\n",
        "        C_XY += (x - E_X) * (y - E_Y) * P[x, y] # the += means add to the left hand side\n",
        "print(f\"C[X, Y] = {C_XY:.2f}\")"
      ]
    },
    {
      "cell_type": "markdown",
      "metadata": {
        "id": "xWChqLpclOD1"
      },
      "source": [
        "G. Find the variance of $X + Y$."
      ]
    },
    {
      "cell_type": "code",
      "execution_count": 73,
      "metadata": {
        "id": "aKMOmSLelOD1",
        "outputId": "734e88ac-5e24-44d4-ab61-5fe33c27fb28",
        "colab": {
          "base_uri": "https://localhost:8080/"
        }
      },
      "outputs": [
        {
          "output_type": "stream",
          "name": "stdout",
          "text": [
            "V[X+Y] = 9.70\n"
          ]
        }
      ],
      "source": [
        "# Your code here\n",
        "E_X2 = np.sum(np.arange(5) ** 2 * p_x)\n",
        "V_X = E_X2 - E_X ** 2\n",
        "E_Y2 = np.sum(np.arange(9) ** 2 * p_y)\n",
        "V_Y = E_Y2 - E_Y ** 2\n",
        "V_X_Y = V_X + V_Y + 2 * C_XY\n",
        "print(f\"V[X+Y] = {V_X_Y:.2f}\")"
      ]
    },
    {
      "cell_type": "markdown",
      "metadata": {
        "id": "A7IKuUbclOD1"
      },
      "source": [
        "J. Find the probability that $X+Y$ is less than or equal to 5.\n",
        "That is, find $p(X + Y \\le 5)$.\n",
        "Hint: Use two for loops to go over all the combinations of $X$ and $Y$ values, check if $X+Y\\le 5$, and sum up the probabilities."
      ]
    },
    {
      "cell_type": "code",
      "execution_count": 74,
      "metadata": {
        "id": "6huACC0klOD1",
        "outputId": "6c7d701f-fcc7-434b-b7c1-130ef6036158",
        "colab": {
          "base_uri": "https://localhost:8080/"
        }
      },
      "outputs": [
        {
          "output_type": "stream",
          "name": "stdout",
          "text": [
            "p(X+Y <= 5) = 0.53\n"
          ]
        }
      ],
      "source": [
        "# Your code here\n",
        "p_X_Y_le_5 = 0.0\n",
        "for x in range(5):\n",
        "    for y in range(9):\n",
        "        if x + y <= 5:\n",
        "            p_X_Y_le_5 += P[x, y]\n",
        "print(f\"p(X+Y <= 5) = {p_X_Y_le_5:.2f}\")"
      ]
    },
    {
      "cell_type": "markdown",
      "metadata": {
        "id": "zhCsWSbtlOD1"
      },
      "source": [
        "## Problem 2 - Zero correlation does not imply independence\n",
        "\n",
        "The purpose of this problem is to show that zero correlation does not imply independence.\n",
        "Consider the random variable $X$ and $Y$ following a standard normal distribution.\n",
        "Define the random variable as $Z = X^2 + 0.01\\cdot Y$.\n",
        "You will show that the correlation between $X$ and $Z$ is zero even though they are not independent."
      ]
    },
    {
      "cell_type": "markdown",
      "metadata": {
        "id": "JIqSTBoflOD1"
      },
      "source": [
        "A. Take 100 samples of $X$ and $Z$ using numpy or scipy. Hint: First sample $X$ and $Y$ and use the samples to get $Z$."
      ]
    },
    {
      "cell_type": "code",
      "execution_count": 75,
      "metadata": {
        "id": "kVRhlfsslOD1"
      },
      "outputs": [],
      "source": [
        "# Your code here\n",
        "X = np.random.randn(100)\n",
        "Y = np.random.randn(100)\n",
        "Z = X ** 2 + 0.01 * Y\n"
      ]
    },
    {
      "cell_type": "markdown",
      "metadata": {
        "id": "-_aCQpm8lOD1"
      },
      "source": [
        "B. Do the scatter plot between $X$ and $Z$."
      ]
    },
    {
      "cell_type": "code",
      "execution_count": 76,
      "metadata": {
        "id": "raPG0gMqlOD1",
        "outputId": "7e4ec1da-59d8-45e8-886b-37018b219534",
        "colab": {
          "base_uri": "https://localhost:8080/",
          "height": 478
        }
      },
      "outputs": [
        {
          "output_type": "display_data",
          "data": {
            "text/plain": [
              "<Figure size 3840x2880 with 1 Axes>"
            ],
            "image/svg+xml": "<?xml version=\"1.0\" encoding=\"utf-8\" standalone=\"no\"?>\n<!DOCTYPE svg PUBLIC \"-//W3C//DTD SVG 1.1//EN\"\n  \"http://www.w3.org/Graphics/SVG/1.1/DTD/svg11.dtd\">\n<svg xmlns:xlink=\"http://www.w3.org/1999/xlink\" width=\"457.92pt\" height=\"342.72pt\" viewBox=\"0 0 457.92 342.72\" xmlns=\"http://www.w3.org/2000/svg\" version=\"1.1\">\n <metadata>\n  <rdf:RDF xmlns:dc=\"http://purl.org/dc/elements/1.1/\" xmlns:cc=\"http://creativecommons.org/ns#\" xmlns:rdf=\"http://www.w3.org/1999/02/22-rdf-syntax-ns#\">\n   <cc:Work>\n    <dc:type rdf:resource=\"http://purl.org/dc/dcmitype/StillImage\"/>\n    <dc:date>2025-07-01T21:48:34.950268</dc:date>\n    <dc:format>image/svg+xml</dc:format>\n    <dc:creator>\n     <cc:Agent>\n      <dc:title>Matplotlib v3.10.0, https://matplotlib.org/</dc:title>\n     </cc:Agent>\n    </dc:creator>\n   </cc:Work>\n  </rdf:RDF>\n </metadata>\n <defs>\n  <style type=\"text/css\">*{stroke-linejoin: round; stroke-linecap: butt}</style>\n </defs>\n <g id=\"figure_1\">\n  <g id=\"patch_1\">\n   <path d=\"M 0 342.72 \nL 457.92 342.72 \nL 457.92 0 \nL 0 0 \nz\n\" style=\"fill: #ffffff\"/>\n  </g>\n  <g id=\"axes_1\">\n   <g id=\"patch_2\">\n    <path d=\"M 26.89625 313.502812 \nL 450.72 313.502812 \nL 450.72 7.2 \nL 26.89625 7.2 \nz\n\" style=\"fill: #ffffff\"/>\n   </g>\n   <g id=\"matplotlib.axis_1\">\n    <g id=\"xtick_1\">\n     <g id=\"line2d_1\"/>\n     <g id=\"text_1\">\n      <!-- −2 -->\n      <g style=\"fill: #262626\" transform=\"translate(79.263235 322.321719) scale(0.07 -0.07)\">\n       <defs>\n        <path id=\"DejaVuSerif-2212\" d=\"M 678 2259 \nL 4684 2259 \nL 4684 1753 \nL 678 1753 \nL 678 2259 \nz\n\" transform=\"scale(0.015625)\"/>\n        <path id=\"DejaVuSerif-32\" d=\"M 819 3553 \nL 469 3553 \nL 469 4384 \nQ 803 4563 1142 4656 \nQ 1481 4750 1806 4750 \nQ 2534 4750 2956 4397 \nQ 3378 4044 3378 3438 \nQ 3378 2753 2422 1800 \nQ 2347 1728 2309 1691 \nL 1131 513 \nL 3078 513 \nL 3078 1088 \nL 3444 1088 \nL 3444 0 \nL 434 0 \nL 434 341 \nL 1850 1753 \nQ 2319 2222 2519 2614 \nQ 2719 3006 2719 3438 \nQ 2719 3909 2473 4175 \nQ 2228 4441 1797 4441 \nQ 1350 4441 1106 4219 \nQ 863 3997 819 3553 \nz\n\" transform=\"scale(0.015625)\"/>\n       </defs>\n       <use xlink:href=\"#DejaVuSerif-2212\"/>\n       <use xlink:href=\"#DejaVuSerif-32\" transform=\"translate(83.789062 0)\"/>\n      </g>\n     </g>\n    </g>\n    <g id=\"xtick_2\">\n     <g id=\"line2d_2\"/>\n     <g id=\"text_2\">\n      <!-- −1 -->\n      <g style=\"fill: #262626\" transform=\"translate(161.741924 322.321719) scale(0.07 -0.07)\">\n       <defs>\n        <path id=\"DejaVuSerif-31\" d=\"M 909 0 \nL 909 331 \nL 1722 331 \nL 1722 4213 \nL 781 3603 \nL 781 4013 \nL 1919 4750 \nL 2350 4750 \nL 2350 331 \nL 3163 331 \nL 3163 0 \nL 909 0 \nz\n\" transform=\"scale(0.015625)\"/>\n       </defs>\n       <use xlink:href=\"#DejaVuSerif-2212\"/>\n       <use xlink:href=\"#DejaVuSerif-31\" transform=\"translate(83.789062 0)\"/>\n      </g>\n     </g>\n    </g>\n    <g id=\"xtick_3\">\n     <g id=\"line2d_3\"/>\n     <g id=\"text_3\">\n      <!-- 0 -->\n      <g style=\"fill: #262626\" transform=\"translate(247.153503 322.321719) scale(0.07 -0.07)\">\n       <defs>\n        <path id=\"DejaVuSerif-30\" d=\"M 2034 219 \nQ 2513 219 2750 744 \nQ 2988 1269 2988 2328 \nQ 2988 3391 2750 3916 \nQ 2513 4441 2034 4441 \nQ 1556 4441 1318 3916 \nQ 1081 3391 1081 2328 \nQ 1081 1269 1318 744 \nQ 1556 219 2034 219 \nz\nM 2034 -91 \nQ 1275 -91 848 546 \nQ 422 1184 422 2328 \nQ 422 3475 848 4112 \nQ 1275 4750 2034 4750 \nQ 2797 4750 3222 4112 \nQ 3647 3475 3647 2328 \nQ 3647 1184 3222 546 \nQ 2797 -91 2034 -91 \nz\n\" transform=\"scale(0.015625)\"/>\n       </defs>\n       <use xlink:href=\"#DejaVuSerif-30\"/>\n      </g>\n     </g>\n    </g>\n    <g id=\"xtick_4\">\n     <g id=\"line2d_4\"/>\n     <g id=\"text_4\">\n      <!-- 1 -->\n      <g style=\"fill: #262626\" transform=\"translate(329.632192 322.321719) scale(0.07 -0.07)\">\n       <use xlink:href=\"#DejaVuSerif-31\"/>\n      </g>\n     </g>\n    </g>\n    <g id=\"xtick_5\">\n     <g id=\"line2d_5\"/>\n     <g id=\"text_5\">\n      <!-- 2 -->\n      <g style=\"fill: #262626\" transform=\"translate(412.110881 322.321719) scale(0.07 -0.07)\">\n       <use xlink:href=\"#DejaVuSerif-32\"/>\n      </g>\n     </g>\n    </g>\n    <g id=\"text_6\">\n     <!-- $X$ -->\n     <g style=\"fill: #262626\" transform=\"translate(236.048125 333.85625) scale(0.08 -0.08)\">\n      <defs>\n       <path id=\"DejaVuSans-Oblique-58\" d=\"M 878 4666 \nL 1516 4666 \nL 2316 2981 \nL 3763 4666 \nL 4500 4666 \nL 2578 2438 \nL 3738 0 \nL 3103 0 \nL 2163 1966 \nL 459 0 \nL -275 0 \nL 1906 2509 \nL 878 4666 \nz\n\" transform=\"scale(0.015625)\"/>\n      </defs>\n      <use xlink:href=\"#DejaVuSans-Oblique-58\" transform=\"translate(0 0.09375)\"/>\n     </g>\n    </g>\n   </g>\n   <g id=\"matplotlib.axis_2\">\n    <g id=\"ytick_1\">\n     <g id=\"line2d_6\"/>\n     <g id=\"text_7\">\n      <!-- 0 -->\n      <g style=\"fill: #262626\" transform=\"translate(18.9425 301.746977) scale(0.07 -0.07)\">\n       <use xlink:href=\"#DejaVuSerif-30\"/>\n      </g>\n     </g>\n    </g>\n    <g id=\"ytick_2\">\n     <g id=\"line2d_7\"/>\n     <g id=\"text_8\">\n      <!-- 1 -->\n      <g style=\"fill: #262626\" transform=\"translate(18.9425 256.031377) scale(0.07 -0.07)\">\n       <use xlink:href=\"#DejaVuSerif-31\"/>\n      </g>\n     </g>\n    </g>\n    <g id=\"ytick_3\">\n     <g id=\"line2d_8\"/>\n     <g id=\"text_9\">\n      <!-- 2 -->\n      <g style=\"fill: #262626\" transform=\"translate(18.9425 210.315776) scale(0.07 -0.07)\">\n       <use xlink:href=\"#DejaVuSerif-32\"/>\n      </g>\n     </g>\n    </g>\n    <g id=\"ytick_4\">\n     <g id=\"line2d_9\"/>\n     <g id=\"text_10\">\n      <!-- 3 -->\n      <g style=\"fill: #262626\" transform=\"translate(18.9425 164.600176) scale(0.07 -0.07)\">\n       <defs>\n        <path id=\"DejaVuSerif-33\" d=\"M 622 4469 \nQ 988 4606 1323 4678 \nQ 1659 4750 1953 4750 \nQ 2638 4750 3022 4454 \nQ 3406 4159 3406 3634 \nQ 3406 3213 3140 2930 \nQ 2875 2647 2388 2547 \nQ 2963 2466 3280 2130 \nQ 3597 1794 3597 1259 \nQ 3597 606 3158 257 \nQ 2719 -91 1894 -91 \nQ 1528 -91 1179 -12 \nQ 831 66 488 225 \nL 488 1131 \nL 838 1131 \nQ 869 681 1141 450 \nQ 1413 219 1906 219 \nQ 2384 219 2661 495 \nQ 2938 772 2938 1253 \nQ 2938 1803 2653 2086 \nQ 2369 2369 1819 2369 \nL 1522 2369 \nL 1522 2688 \nL 1678 2688 \nQ 2225 2688 2498 2914 \nQ 2772 3141 2772 3597 \nQ 2772 4006 2547 4223 \nQ 2322 4441 1900 4441 \nQ 1478 4441 1245 4241 \nQ 1013 4041 972 3647 \nL 622 3647 \nL 622 4469 \nz\n\" transform=\"scale(0.015625)\"/>\n       </defs>\n       <use xlink:href=\"#DejaVuSerif-33\"/>\n      </g>\n     </g>\n    </g>\n    <g id=\"ytick_5\">\n     <g id=\"line2d_10\"/>\n     <g id=\"text_11\">\n      <!-- 4 -->\n      <g style=\"fill: #262626\" transform=\"translate(18.9425 118.884575) scale(0.07 -0.07)\">\n       <defs>\n        <path id=\"DejaVuSerif-34\" d=\"M 2234 1581 \nL 2234 4063 \nL 641 1581 \nL 2234 1581 \nz\nM 3609 0 \nL 1484 0 \nL 1484 331 \nL 2234 331 \nL 2234 1247 \nL 197 1247 \nL 197 1588 \nL 2241 4750 \nL 2859 4750 \nL 2859 1581 \nL 3750 1581 \nL 3750 1247 \nL 2859 1247 \nL 2859 331 \nL 3609 331 \nL 3609 0 \nz\n\" transform=\"scale(0.015625)\"/>\n       </defs>\n       <use xlink:href=\"#DejaVuSerif-34\"/>\n      </g>\n     </g>\n    </g>\n    <g id=\"ytick_6\">\n     <g id=\"line2d_11\"/>\n     <g id=\"text_12\">\n      <!-- 5 -->\n      <g style=\"fill: #262626\" transform=\"translate(18.9425 73.168975) scale(0.07 -0.07)\">\n       <defs>\n        <path id=\"DejaVuSerif-35\" d=\"M 3219 4666 \nL 3219 4153 \nL 1081 4153 \nL 1081 2816 \nQ 1244 2928 1461 2984 \nQ 1678 3041 1947 3041 \nQ 2703 3041 3140 2622 \nQ 3578 2203 3578 1478 \nQ 3578 738 3136 323 \nQ 2694 -91 1894 -91 \nQ 1572 -91 1234 -12 \nQ 897 66 544 225 \nL 544 1131 \nL 897 1131 \nQ 925 688 1179 453 \nQ 1434 219 1894 219 \nQ 2388 219 2653 544 \nQ 2919 869 2919 1478 \nQ 2919 2084 2655 2407 \nQ 2391 2731 1894 2731 \nQ 1613 2731 1398 2631 \nQ 1184 2531 1019 2322 \nL 750 2322 \nL 750 4666 \nL 3219 4666 \nz\n\" transform=\"scale(0.015625)\"/>\n       </defs>\n       <use xlink:href=\"#DejaVuSerif-35\"/>\n      </g>\n     </g>\n    </g>\n    <g id=\"ytick_7\">\n     <g id=\"line2d_12\"/>\n     <g id=\"text_13\">\n      <!-- 6 -->\n      <g style=\"fill: #262626\" transform=\"translate(18.9425 27.453374) scale(0.07 -0.07)\">\n       <defs>\n        <path id=\"DejaVuSerif-36\" d=\"M 2094 219 \nQ 2534 219 2771 542 \nQ 3009 866 3009 1472 \nQ 3009 2078 2771 2401 \nQ 2534 2725 2094 2725 \nQ 1647 2725 1412 2412 \nQ 1178 2100 1178 1509 \nQ 1178 888 1415 553 \nQ 1653 219 2094 219 \nz\nM 1075 2569 \nQ 1288 2803 1556 2918 \nQ 1825 3034 2163 3034 \nQ 2859 3034 3264 2615 \nQ 3669 2197 3669 1472 \nQ 3669 763 3233 336 \nQ 2797 -91 2069 -91 \nQ 1278 -91 853 498 \nQ 428 1088 428 2181 \nQ 428 3406 931 4078 \nQ 1434 4750 2350 4750 \nQ 2597 4750 2869 4703 \nQ 3141 4656 3425 4563 \nL 3425 3794 \nL 3072 3794 \nQ 3034 4109 2831 4275 \nQ 2628 4441 2284 4441 \nQ 1678 4441 1381 3981 \nQ 1084 3522 1075 2569 \nz\n\" transform=\"scale(0.015625)\"/>\n       </defs>\n       <use xlink:href=\"#DejaVuSerif-36\"/>\n      </g>\n     </g>\n    </g>\n    <g id=\"text_14\">\n     <!-- $Z$ -->\n     <g style=\"fill: #262626\" transform=\"translate(13.27875 163.111406) rotate(-90) scale(0.08 -0.08)\">\n      <defs>\n       <path id=\"DejaVuSans-Oblique-5a\" d=\"M 838 4666 \nL 4500 4666 \nL 4409 4184 \nL 794 531 \nL 3769 531 \nL 3669 0 \nL -141 0 \nL -50 481 \nL 3566 4134 \nL 738 4134 \nL 838 4666 \nz\n\" transform=\"scale(0.015625)\"/>\n      </defs>\n      <use xlink:href=\"#DejaVuSans-Oblique-5a\" transform=\"translate(0 0.09375)\"/>\n     </g>\n    </g>\n   </g>\n   <g id=\"PathCollection_1\">\n    <defs>\n     <path id=\"m9e221ab06b\" d=\"M 0 2 \nC 0.530406 2 1.03916 1.789267 1.414214 1.414214 \nC 1.789267 1.03916 2 0.530406 2 0 \nC 2 -0.530406 1.789267 -1.03916 1.414214 -1.414214 \nC 1.03916 -1.789267 0.530406 -2 0 -2 \nC -0.530406 -2 -1.03916 -1.789267 -1.414214 -1.414214 \nC -1.789267 -1.03916 -2 -0.530406 -2 0 \nC -2 0.530406 -1.789267 1.03916 -1.414214 1.414214 \nC -1.03916 1.789267 -0.530406 2 0 2 \nz\n\" style=\"stroke: #4c72b0; stroke-width: 0.8\"/>\n    </defs>\n    <g clip-path=\"url(#p49a57d2890)\">\n     <use xlink:href=\"#m9e221ab06b\" x=\"197.486112\" y=\"280.51967\" style=\"fill: #4c72b0; stroke: #4c72b0; stroke-width: 0.8\"/>\n     <use xlink:href=\"#m9e221ab06b\" x=\"345.322862\" y=\"237.385804\" style=\"fill: #4c72b0; stroke: #4c72b0; stroke-width: 0.8\"/>\n     <use xlink:href=\"#m9e221ab06b\" x=\"202.294081\" y=\"284.335193\" style=\"fill: #4c72b0; stroke: #4c72b0; stroke-width: 0.8\"/>\n     <use xlink:href=\"#m9e221ab06b\" x=\"197.392242\" y=\"280.891637\" style=\"fill: #4c72b0; stroke: #4c72b0; stroke-width: 0.8\"/>\n     <use xlink:href=\"#m9e221ab06b\" x=\"284.463781\" y=\"290.456134\" style=\"fill: #4c72b0; stroke: #4c72b0; stroke-width: 0.8\"/>\n     <use xlink:href=\"#m9e221ab06b\" x=\"149.023653\" y=\"231.773269\" style=\"fill: #4c72b0; stroke: #4c72b0; stroke-width: 0.8\"/>\n     <use xlink:href=\"#m9e221ab06b\" x=\"260.268816\" y=\"298.550448\" style=\"fill: #4c72b0; stroke: #4c72b0; stroke-width: 0.8\"/>\n     <use xlink:href=\"#m9e221ab06b\" x=\"431.455284\" y=\"76.564071\" style=\"fill: #4c72b0; stroke: #4c72b0; stroke-width: 0.8\"/>\n     <use xlink:href=\"#m9e221ab06b\" x=\"299.29407\" y=\"282.230796\" style=\"fill: #4c72b0; stroke: #4c72b0; stroke-width: 0.8\"/>\n     <use xlink:href=\"#m9e221ab06b\" x=\"197.241645\" y=\"280.372605\" style=\"fill: #4c72b0; stroke: #4c72b0; stroke-width: 0.8\"/>\n     <use xlink:href=\"#m9e221ab06b\" x=\"243.364774\" y=\"299.12355\" style=\"fill: #4c72b0; stroke: #4c72b0; stroke-width: 0.8\"/>\n     <use xlink:href=\"#m9e221ab06b\" x=\"79.365028\" y=\"105.060369\" style=\"fill: #4c72b0; stroke: #4c72b0; stroke-width: 0.8\"/>\n     <use xlink:href=\"#m9e221ab06b\" x=\"328.942755\" y=\"257.809528\" style=\"fill: #4c72b0; stroke: #4c72b0; stroke-width: 0.8\"/>\n     <use xlink:href=\"#m9e221ab06b\" x=\"305.861304\" y=\"276.571813\" style=\"fill: #4c72b0; stroke: #4c72b0; stroke-width: 0.8\"/>\n     <use xlink:href=\"#m9e221ab06b\" x=\"237.377951\" y=\"297.416297\" style=\"fill: #4c72b0; stroke: #4c72b0; stroke-width: 0.8\"/>\n     <use xlink:href=\"#m9e221ab06b\" x=\"203.358419\" y=\"284.454127\" style=\"fill: #4c72b0; stroke: #4c72b0; stroke-width: 0.8\"/>\n     <use xlink:href=\"#m9e221ab06b\" x=\"224.530734\" y=\"295.446785\" style=\"fill: #4c72b0; stroke: #4c72b0; stroke-width: 0.8\"/>\n     <use xlink:href=\"#m9e221ab06b\" x=\"308.62906\" y=\"276.064895\" style=\"fill: #4c72b0; stroke: #4c72b0; stroke-width: 0.8\"/>\n     <use xlink:href=\"#m9e221ab06b\" x=\"307.750569\" y=\"276.132423\" style=\"fill: #4c72b0; stroke: #4c72b0; stroke-width: 0.8\"/>\n     <use xlink:href=\"#m9e221ab06b\" x=\"181.918394\" y=\"268.126287\" style=\"fill: #4c72b0; stroke: #4c72b0; stroke-width: 0.8\"/>\n     <use xlink:href=\"#m9e221ab06b\" x=\"200.083397\" y=\"282.832441\" style=\"fill: #4c72b0; stroke: #4c72b0; stroke-width: 0.8\"/>\n     <use xlink:href=\"#m9e221ab06b\" x=\"204.294034\" y=\"285.768054\" style=\"fill: #4c72b0; stroke: #4c72b0; stroke-width: 0.8\"/>\n     <use xlink:href=\"#m9e221ab06b\" x=\"343.912614\" y=\"239.828974\" style=\"fill: #4c72b0; stroke: #4c72b0; stroke-width: 0.8\"/>\n     <use xlink:href=\"#m9e221ab06b\" x=\"46.160966\" y=\"21.122855\" style=\"fill: #4c72b0; stroke: #4c72b0; stroke-width: 0.8\"/>\n     <use xlink:href=\"#m9e221ab06b\" x=\"304.925136\" y=\"278.924899\" style=\"fill: #4c72b0; stroke: #4c72b0; stroke-width: 0.8\"/>\n     <use xlink:href=\"#m9e221ab06b\" x=\"199.459192\" y=\"283.291404\" style=\"fill: #4c72b0; stroke: #4c72b0; stroke-width: 0.8\"/>\n     <use xlink:href=\"#m9e221ab06b\" x=\"291.86215\" y=\"286.681648\" style=\"fill: #4c72b0; stroke: #4c72b0; stroke-width: 0.8\"/>\n     <use xlink:href=\"#m9e221ab06b\" x=\"270.161711\" y=\"296.559957\" style=\"fill: #4c72b0; stroke: #4c72b0; stroke-width: 0.8\"/>\n     <use xlink:href=\"#m9e221ab06b\" x=\"277.097205\" y=\"293.748173\" style=\"fill: #4c72b0; stroke: #4c72b0; stroke-width: 0.8\"/>\n     <use xlink:href=\"#m9e221ab06b\" x=\"267.762087\" y=\"296.398712\" style=\"fill: #4c72b0; stroke: #4c72b0; stroke-width: 0.8\"/>\n     <use xlink:href=\"#m9e221ab06b\" x=\"318.569094\" y=\"267.12938\" style=\"fill: #4c72b0; stroke: #4c72b0; stroke-width: 0.8\"/>\n     <use xlink:href=\"#m9e221ab06b\" x=\"417.477328\" y=\"108.089976\" style=\"fill: #4c72b0; stroke: #4c72b0; stroke-width: 0.8\"/>\n     <use xlink:href=\"#m9e221ab06b\" x=\"289.66317\" y=\"288.065402\" style=\"fill: #4c72b0; stroke: #4c72b0; stroke-width: 0.8\"/>\n     <use xlink:href=\"#m9e221ab06b\" x=\"362.308587\" y=\"212.914939\" style=\"fill: #4c72b0; stroke: #4c72b0; stroke-width: 0.8\"/>\n     <use xlink:href=\"#m9e221ab06b\" x=\"166.926685\" y=\"253.09335\" style=\"fill: #4c72b0; stroke: #4c72b0; stroke-width: 0.8\"/>\n     <use xlink:href=\"#m9e221ab06b\" x=\"201.668591\" y=\"284.486294\" style=\"fill: #4c72b0; stroke: #4c72b0; stroke-width: 0.8\"/>\n     <use xlink:href=\"#m9e221ab06b\" x=\"253.493843\" y=\"299.579957\" style=\"fill: #4c72b0; stroke: #4c72b0; stroke-width: 0.8\"/>\n     <use xlink:href=\"#m9e221ab06b\" x=\"147.121708\" y=\"229.141426\" style=\"fill: #4c72b0; stroke: #4c72b0; stroke-width: 0.8\"/>\n     <use xlink:href=\"#m9e221ab06b\" x=\"191.553535\" y=\"275.924082\" style=\"fill: #4c72b0; stroke: #4c72b0; stroke-width: 0.8\"/>\n     <use xlink:href=\"#m9e221ab06b\" x=\"140.567826\" y=\"220.012986\" style=\"fill: #4c72b0; stroke: #4c72b0; stroke-width: 0.8\"/>\n     <use xlink:href=\"#m9e221ab06b\" x=\"277.653558\" y=\"293.523881\" style=\"fill: #4c72b0; stroke: #4c72b0; stroke-width: 0.8\"/>\n     <use xlink:href=\"#m9e221ab06b\" x=\"152.892419\" y=\"236.381838\" style=\"fill: #4c72b0; stroke: #4c72b0; stroke-width: 0.8\"/>\n     <use xlink:href=\"#m9e221ab06b\" x=\"349.396578\" y=\"232.469107\" style=\"fill: #4c72b0; stroke: #4c72b0; stroke-width: 0.8\"/>\n     <use xlink:href=\"#m9e221ab06b\" x=\"146.526485\" y=\"227.786971\" style=\"fill: #4c72b0; stroke: #4c72b0; stroke-width: 0.8\"/>\n     <use xlink:href=\"#m9e221ab06b\" x=\"213.440237\" y=\"290.604104\" style=\"fill: #4c72b0; stroke: #4c72b0; stroke-width: 0.8\"/>\n     <use xlink:href=\"#m9e221ab06b\" x=\"252.533083\" y=\"299.241483\" style=\"fill: #4c72b0; stroke: #4c72b0; stroke-width: 0.8\"/>\n     <use xlink:href=\"#m9e221ab06b\" x=\"229.187734\" y=\"296.046478\" style=\"fill: #4c72b0; stroke: #4c72b0; stroke-width: 0.8\"/>\n     <use xlink:href=\"#m9e221ab06b\" x=\"322.36078\" y=\"263.469867\" style=\"fill: #4c72b0; stroke: #4c72b0; stroke-width: 0.8\"/>\n     <use xlink:href=\"#m9e221ab06b\" x=\"66.404582\" y=\"73.916401\" style=\"fill: #4c72b0; stroke: #4c72b0; stroke-width: 0.8\"/>\n     <use xlink:href=\"#m9e221ab06b\" x=\"156.588977\" y=\"241.754273\" style=\"fill: #4c72b0; stroke: #4c72b0; stroke-width: 0.8\"/>\n     <use xlink:href=\"#m9e221ab06b\" x=\"178.326327\" y=\"264.657198\" style=\"fill: #4c72b0; stroke: #4c72b0; stroke-width: 0.8\"/>\n     <use xlink:href=\"#m9e221ab06b\" x=\"286.585849\" y=\"290.429488\" style=\"fill: #4c72b0; stroke: #4c72b0; stroke-width: 0.8\"/>\n     <use xlink:href=\"#m9e221ab06b\" x=\"319.746453\" y=\"265.267027\" style=\"fill: #4c72b0; stroke: #4c72b0; stroke-width: 0.8\"/>\n     <use xlink:href=\"#m9e221ab06b\" x=\"184.694215\" y=\"270.451848\" style=\"fill: #4c72b0; stroke: #4c72b0; stroke-width: 0.8\"/>\n     <use xlink:href=\"#m9e221ab06b\" x=\"173.249689\" y=\"259.88757\" style=\"fill: #4c72b0; stroke: #4c72b0; stroke-width: 0.8\"/>\n     <use xlink:href=\"#m9e221ab06b\" x=\"197.358653\" y=\"281.540776\" style=\"fill: #4c72b0; stroke: #4c72b0; stroke-width: 0.8\"/>\n     <use xlink:href=\"#m9e221ab06b\" x=\"278.439388\" y=\"292.917187\" style=\"fill: #4c72b0; stroke: #4c72b0; stroke-width: 0.8\"/>\n     <use xlink:href=\"#m9e221ab06b\" x=\"358.172232\" y=\"219.613426\" style=\"fill: #4c72b0; stroke: #4c72b0; stroke-width: 0.8\"/>\n     <use xlink:href=\"#m9e221ab06b\" x=\"304.679741\" y=\"278.543544\" style=\"fill: #4c72b0; stroke: #4c72b0; stroke-width: 0.8\"/>\n     <use xlink:href=\"#m9e221ab06b\" x=\"267.357056\" y=\"297.138013\" style=\"fill: #4c72b0; stroke: #4c72b0; stroke-width: 0.8\"/>\n     <use xlink:href=\"#m9e221ab06b\" x=\"308.543432\" y=\"274.757945\" style=\"fill: #4c72b0; stroke: #4c72b0; stroke-width: 0.8\"/>\n     <use xlink:href=\"#m9e221ab06b\" x=\"280.955462\" y=\"292.702846\" style=\"fill: #4c72b0; stroke: #4c72b0; stroke-width: 0.8\"/>\n     <use xlink:href=\"#m9e221ab06b\" x=\"188.448253\" y=\"273.925875\" style=\"fill: #4c72b0; stroke: #4c72b0; stroke-width: 0.8\"/>\n     <use xlink:href=\"#m9e221ab06b\" x=\"206.727233\" y=\"286.104499\" style=\"fill: #4c72b0; stroke: #4c72b0; stroke-width: 0.8\"/>\n     <use xlink:href=\"#m9e221ab06b\" x=\"285.41876\" y=\"290.344623\" style=\"fill: #4c72b0; stroke: #4c72b0; stroke-width: 0.8\"/>\n     <use xlink:href=\"#m9e221ab06b\" x=\"284.54664\" y=\"291.348118\" style=\"fill: #4c72b0; stroke: #4c72b0; stroke-width: 0.8\"/>\n     <use xlink:href=\"#m9e221ab06b\" x=\"425.815057\" y=\"90.019116\" style=\"fill: #4c72b0; stroke: #4c72b0; stroke-width: 0.8\"/>\n     <use xlink:href=\"#m9e221ab06b\" x=\"298.354912\" y=\"283.277937\" style=\"fill: #4c72b0; stroke: #4c72b0; stroke-width: 0.8\"/>\n     <use xlink:href=\"#m9e221ab06b\" x=\"299.020862\" y=\"283.224079\" style=\"fill: #4c72b0; stroke: #4c72b0; stroke-width: 0.8\"/>\n     <use xlink:href=\"#m9e221ab06b\" x=\"195.215928\" y=\"279.212422\" style=\"fill: #4c72b0; stroke: #4c72b0; stroke-width: 0.8\"/>\n     <use xlink:href=\"#m9e221ab06b\" x=\"86.026225\" y=\"119.915921\" style=\"fill: #4c72b0; stroke: #4c72b0; stroke-width: 0.8\"/>\n     <use xlink:href=\"#m9e221ab06b\" x=\"212.975642\" y=\"289.423562\" style=\"fill: #4c72b0; stroke: #4c72b0; stroke-width: 0.8\"/>\n     <use xlink:href=\"#m9e221ab06b\" x=\"130.512975\" y=\"204.266319\" style=\"fill: #4c72b0; stroke: #4c72b0; stroke-width: 0.8\"/>\n     <use xlink:href=\"#m9e221ab06b\" x=\"203.897773\" y=\"285.703066\" style=\"fill: #4c72b0; stroke: #4c72b0; stroke-width: 0.8\"/>\n     <use xlink:href=\"#m9e221ab06b\" x=\"221.617374\" y=\"293.824305\" style=\"fill: #4c72b0; stroke: #4c72b0; stroke-width: 0.8\"/>\n     <use xlink:href=\"#m9e221ab06b\" x=\"154.743387\" y=\"238.500505\" style=\"fill: #4c72b0; stroke: #4c72b0; stroke-width: 0.8\"/>\n     <use xlink:href=\"#m9e221ab06b\" x=\"328.306882\" y=\"257.15153\" style=\"fill: #4c72b0; stroke: #4c72b0; stroke-width: 0.8\"/>\n     <use xlink:href=\"#m9e221ab06b\" x=\"181.182649\" y=\"268.14693\" style=\"fill: #4c72b0; stroke: #4c72b0; stroke-width: 0.8\"/>\n     <use xlink:href=\"#m9e221ab06b\" x=\"120.26326\" y=\"186.936714\" style=\"fill: #4c72b0; stroke: #4c72b0; stroke-width: 0.8\"/>\n     <use xlink:href=\"#m9e221ab06b\" x=\"107.453592\" y=\"163.598753\" style=\"fill: #4c72b0; stroke: #4c72b0; stroke-width: 0.8\"/>\n     <use xlink:href=\"#m9e221ab06b\" x=\"227.302262\" y=\"295.849141\" style=\"fill: #4c72b0; stroke: #4c72b0; stroke-width: 0.8\"/>\n     <use xlink:href=\"#m9e221ab06b\" x=\"252.162384\" y=\"298.928237\" style=\"fill: #4c72b0; stroke: #4c72b0; stroke-width: 0.8\"/>\n     <use xlink:href=\"#m9e221ab06b\" x=\"317.265017\" y=\"268.47483\" style=\"fill: #4c72b0; stroke: #4c72b0; stroke-width: 0.8\"/>\n     <use xlink:href=\"#m9e221ab06b\" x=\"277.441173\" y=\"293.739423\" style=\"fill: #4c72b0; stroke: #4c72b0; stroke-width: 0.8\"/>\n     <use xlink:href=\"#m9e221ab06b\" x=\"214.856772\" y=\"291.355981\" style=\"fill: #4c72b0; stroke: #4c72b0; stroke-width: 0.8\"/>\n     <use xlink:href=\"#m9e221ab06b\" x=\"231.5808\" y=\"297.265259\" style=\"fill: #4c72b0; stroke: #4c72b0; stroke-width: 0.8\"/>\n     <use xlink:href=\"#m9e221ab06b\" x=\"158.124363\" y=\"242.536346\" style=\"fill: #4c72b0; stroke: #4c72b0; stroke-width: 0.8\"/>\n     <use xlink:href=\"#m9e221ab06b\" x=\"278.399337\" y=\"294.182279\" style=\"fill: #4c72b0; stroke: #4c72b0; stroke-width: 0.8\"/>\n     <use xlink:href=\"#m9e221ab06b\" x=\"169.959076\" y=\"256.999798\" style=\"fill: #4c72b0; stroke: #4c72b0; stroke-width: 0.8\"/>\n     <use xlink:href=\"#m9e221ab06b\" x=\"135.533841\" y=\"212.751623\" style=\"fill: #4c72b0; stroke: #4c72b0; stroke-width: 0.8\"/>\n     <use xlink:href=\"#m9e221ab06b\" x=\"192.096493\" y=\"276.921271\" style=\"fill: #4c72b0; stroke: #4c72b0; stroke-width: 0.8\"/>\n     <use xlink:href=\"#m9e221ab06b\" x=\"264.518126\" y=\"297.029817\" style=\"fill: #4c72b0; stroke: #4c72b0; stroke-width: 0.8\"/>\n     <use xlink:href=\"#m9e221ab06b\" x=\"95.802318\" y=\"140.665524\" style=\"fill: #4c72b0; stroke: #4c72b0; stroke-width: 0.8\"/>\n     <use xlink:href=\"#m9e221ab06b\" x=\"243.927533\" y=\"299.264942\" style=\"fill: #4c72b0; stroke: #4c72b0; stroke-width: 0.8\"/>\n     <use xlink:href=\"#m9e221ab06b\" x=\"335.838694\" y=\"249.094087\" style=\"fill: #4c72b0; stroke: #4c72b0; stroke-width: 0.8\"/>\n     <use xlink:href=\"#m9e221ab06b\" x=\"321.372419\" y=\"264.418143\" style=\"fill: #4c72b0; stroke: #4c72b0; stroke-width: 0.8\"/>\n     <use xlink:href=\"#m9e221ab06b\" x=\"389.423484\" y=\"167.046661\" style=\"fill: #4c72b0; stroke: #4c72b0; stroke-width: 0.8\"/>\n     <use xlink:href=\"#m9e221ab06b\" x=\"264.635253\" y=\"296.595294\" style=\"fill: #4c72b0; stroke: #4c72b0; stroke-width: 0.8\"/>\n     <use xlink:href=\"#m9e221ab06b\" x=\"327.030597\" y=\"258.128554\" style=\"fill: #4c72b0; stroke: #4c72b0; stroke-width: 0.8\"/>\n     <use xlink:href=\"#m9e221ab06b\" x=\"382.558987\" y=\"179.71483\" style=\"fill: #4c72b0; stroke: #4c72b0; stroke-width: 0.8\"/>\n    </g>\n   </g>\n   <g id=\"patch_3\">\n    <path d=\"M 26.89625 299.087524 \nL 26.89625 24.793921 \n\" style=\"fill: none; stroke: #262626; stroke-width: 0.5; stroke-linejoin: miter; stroke-linecap: square\"/>\n   </g>\n   <g id=\"patch_4\">\n    <path d=\"M 84.423 313.502812 \nL 414.337756 313.502812 \n\" style=\"fill: none; stroke: #262626; stroke-width: 0.5; stroke-linejoin: miter; stroke-linecap: square\"/>\n   </g>\n  </g>\n </g>\n <defs>\n  <clipPath id=\"p49a57d2890\">\n   <rect x=\"26.89625\" y=\"7.2\" width=\"423.82375\" height=\"306.302812\"/>\n  </clipPath>\n </defs>\n</svg>\n"
          },
          "metadata": {}
        }
      ],
      "source": [
        "# Your code here\n",
        "fig, ax = plt.subplots()\n",
        "ax.scatter(X, Z)\n",
        "ax.set_xlabel(r\"$X$\")\n",
        "ax.set_ylabel(r\"$Z$\")\n",
        "sns.despine(trim=True);"
      ]
    },
    {
      "cell_type": "markdown",
      "metadata": {
        "id": "6-hu9tfqlOD1"
      },
      "source": [
        "C. Use the scatter plot to argue that $X$ and $Z$ are not independent."
      ]
    },
    {
      "cell_type": "markdown",
      "metadata": {
        "id": "yY7JjNkUlOD1"
      },
      "source": [
        "**Answer:**\n",
        "<br><br>"
      ]
    },
    {
      "cell_type": "markdown",
      "metadata": {
        "id": "xJMsti7blOD1"
      },
      "source": [
        "D. Use the samples you took to estimate the variance of $Z$."
      ]
    },
    {
      "cell_type": "code",
      "execution_count": 77,
      "metadata": {
        "id": "uWQBVv6rlOD1",
        "outputId": "46a2ccee-de80-4d54-846e-84126235918c",
        "colab": {
          "base_uri": "https://localhost:8080/"
        }
      },
      "outputs": [
        {
          "output_type": "stream",
          "name": "stdout",
          "text": [
            "var_Z = 1.58\n"
          ]
        }
      ],
      "source": [
        "# Your code here\n",
        "var_Z = np.var(Z)\n",
        "print(f\"var_Z = {var_Z:.2f}\")"
      ]
    },
    {
      "cell_type": "markdown",
      "metadata": {
        "id": "rKtAwjIulOD2"
      },
      "source": [
        "E. Use the samples you took to estimate the covariance between $X$ and $Z$."
      ]
    },
    {
      "cell_type": "code",
      "execution_count": 78,
      "metadata": {
        "id": "uhWOxwxwlOD2",
        "outputId": "759659ec-25d0-47cf-ce52-3864ed0412b4",
        "colab": {
          "base_uri": "https://localhost:8080/"
        }
      },
      "outputs": [
        {
          "output_type": "stream",
          "name": "stdout",
          "text": [
            "cov_X_Z = -0.19568\n"
          ]
        }
      ],
      "source": [
        "# Your code here\n",
        "cov_X_Z = np.cov(X,Z)\n",
        "print(f\"cov_X_Z = {cov_X_Z[0,1]:.5f}\")"
      ]
    },
    {
      "cell_type": "markdown",
      "metadata": {
        "id": "ZlFcpLcMlOD2"
      },
      "source": [
        "F. Use the results above to find the correlation between $X$ and $Z$."
      ]
    },
    {
      "cell_type": "code",
      "execution_count": 79,
      "metadata": {
        "id": "ORaTUTiylOD2",
        "outputId": "73b43dde-d5b2-4c9e-fcb4-b29cb7da5f74",
        "colab": {
          "base_uri": "https://localhost:8080/"
        }
      },
      "outputs": [
        {
          "output_type": "stream",
          "name": "stdout",
          "text": [
            "corr_X_Z = -0.15923\n"
          ]
        }
      ],
      "source": [
        "# Your code here\n",
        "corr_X_Z = cov_X_Z[0,1] / np.sqrt(np.var(X)*var_Z)\n",
        "print(f\"corr_X_Z = {corr_X_Z:.5f}\")"
      ]
    },
    {
      "cell_type": "markdown",
      "metadata": {
        "id": "4y92cCsIlOD2"
      },
      "source": [
        "G. The correlation coefficient you get may not be very close to zero. This is due to the fact that we estimate it with Monte Carlo averaging. To get a better estimate, we can increase the number of samples. Try increasing the number of samples to 1000 and see if the correlation coefficient gets closer to zero."
      ]
    },
    {
      "cell_type": "code",
      "execution_count": 81,
      "metadata": {
        "id": "G1P9HOmFlOD2",
        "outputId": "c0ccf5b8-9154-401d-94b7-f6a0dab2dcf7",
        "colab": {
          "base_uri": "https://localhost:8080/"
        }
      },
      "outputs": [
        {
          "output_type": "stream",
          "name": "stdout",
          "text": [
            "corr_X1k_Z1k = -0.04731\n"
          ]
        }
      ],
      "source": [
        "# Your code here\n",
        "X_1k = np.random.randn(1000)\n",
        "Y_1k = np.random.randn(1000)\n",
        "Z_1k = X_1k ** 2 + 0.01 * Y_1k\n",
        "cov_X1k_Z1k = np.cov(X_1k,Z_1k)\n",
        "corr_X1k_Z1k = cov_X1k_Z1k[0,1]/np.sqrt(np.var(X_1k)*np.var(Z_1k))\n",
        "print(f\"corr_X1k_Z1k = {corr_X1k_Z1k:.5f}\")"
      ]
    },
    {
      "cell_type": "markdown",
      "metadata": {
        "id": "sfVZVTSAlOD2"
      },
      "source": [
        "H. Let's do a more serious estimation of Monte Carlo convergence. Take 100,000 samples of $X$ and $Z$. Write code that estimates the correlation between $X$ and $Z$ using the first $n$ samples for $n=1,2,\\ldots,100,000$. Plot the estimates as a function of $n$. What do you observe? How many samples do you need to get a good estimate of the correlation?\n"
      ]
    },
    {
      "cell_type": "code",
      "execution_count": 82,
      "metadata": {
        "id": "Az8G_OaBlOD6",
        "outputId": "988d5795-7aac-4eed-ce0f-e8e667b5c59c",
        "colab": {
          "base_uri": "https://localhost:8080/",
          "height": 497
        }
      },
      "outputs": [
        {
          "output_type": "display_data",
          "data": {
            "text/plain": [
              "<Figure size 6000x3000 with 1 Axes>"
            ],
            "image/svg+xml": "<?xml version=\"1.0\" encoding=\"utf-8\" standalone=\"no\"?>\n<!DOCTYPE svg PUBLIC \"-//W3C//DTD SVG 1.1//EN\"\n  \"http://www.w3.org/Graphics/SVG/1.1/DTD/svg11.dtd\">\n<svg xmlns:xlink=\"http://www.w3.org/1999/xlink\" width=\"717.018594pt\" height=\"357.006562pt\" viewBox=\"0 0 717.018594 357.006562\" xmlns=\"http://www.w3.org/2000/svg\" version=\"1.1\">\n <metadata>\n  <rdf:RDF xmlns:dc=\"http://purl.org/dc/elements/1.1/\" xmlns:cc=\"http://creativecommons.org/ns#\" xmlns:rdf=\"http://www.w3.org/1999/02/22-rdf-syntax-ns#\">\n   <cc:Work>\n    <dc:type rdf:resource=\"http://purl.org/dc/dcmitype/StillImage\"/>\n    <dc:date>2025-07-01T21:51:51.296535</dc:date>\n    <dc:format>image/svg+xml</dc:format>\n    <dc:creator>\n     <cc:Agent>\n      <dc:title>Matplotlib v3.10.0, https://matplotlib.org/</dc:title>\n     </cc:Agent>\n    </dc:creator>\n   </cc:Work>\n  </rdf:RDF>\n </metadata>\n <defs>\n  <style type=\"text/css\">*{stroke-linejoin: round; stroke-linecap: butt}</style>\n </defs>\n <g id=\"figure_1\">\n  <g id=\"patch_1\">\n   <path d=\"M 0 357.006562 \nL 717.018594 357.006562 \nL 717.018594 0 \nL 0 0 \nz\n\" style=\"fill: #ffffff\"/>\n  </g>\n  <g id=\"axes_1\">\n   <g id=\"patch_2\">\n    <path d=\"M 39.440469 327.789375 \nL 709.818594 327.789375 \nL 709.818594 19.27875 \nL 39.440469 19.27875 \nz\n\" style=\"fill: #ffffff\"/>\n   </g>\n   <g id=\"matplotlib.axis_1\">\n    <g id=\"xtick_1\">\n     <g id=\"line2d_1\">\n      <path d=\"M 69.906107 327.789375 \nL 69.906107 19.27875 \n\" clip-path=\"url(#p32fdb4441e)\" style=\"fill: none; stroke: #cccccc; stroke-width: 0.5; stroke-linecap: round\"/>\n     </g>\n     <g id=\"line2d_2\"/>\n     <g id=\"text_1\">\n      <!-- 0 -->\n      <g style=\"fill: #262626\" transform=\"translate(67.679232 336.608281) scale(0.07 -0.07)\">\n       <defs>\n        <path id=\"DejaVuSerif-30\" d=\"M 2034 219 \nQ 2513 219 2750 744 \nQ 2988 1269 2988 2328 \nQ 2988 3391 2750 3916 \nQ 2513 4441 2034 4441 \nQ 1556 4441 1318 3916 \nQ 1081 3391 1081 2328 \nQ 1081 1269 1318 744 \nQ 1556 219 2034 219 \nz\nM 2034 -91 \nQ 1275 -91 848 546 \nQ 422 1184 422 2328 \nQ 422 3475 848 4112 \nQ 1275 4750 2034 4750 \nQ 2797 4750 3222 4112 \nQ 3647 3475 3647 2328 \nQ 3647 1184 3222 546 \nQ 2797 -91 2034 -91 \nz\n\" transform=\"scale(0.015625)\"/>\n       </defs>\n       <use xlink:href=\"#DejaVuSerif-30\"/>\n      </g>\n     </g>\n    </g>\n    <g id=\"xtick_2\">\n     <g id=\"line2d_3\">\n      <path d=\"M 191.794258 327.789375 \nL 191.794258 19.27875 \n\" clip-path=\"url(#p32fdb4441e)\" style=\"fill: none; stroke: #cccccc; stroke-width: 0.5; stroke-linecap: round\"/>\n     </g>\n     <g id=\"line2d_4\"/>\n     <g id=\"text_2\">\n      <!-- 20000 -->\n      <g style=\"fill: #262626\" transform=\"translate(180.659883 336.608281) scale(0.07 -0.07)\">\n       <defs>\n        <path id=\"DejaVuSerif-32\" d=\"M 819 3553 \nL 469 3553 \nL 469 4384 \nQ 803 4563 1142 4656 \nQ 1481 4750 1806 4750 \nQ 2534 4750 2956 4397 \nQ 3378 4044 3378 3438 \nQ 3378 2753 2422 1800 \nQ 2347 1728 2309 1691 \nL 1131 513 \nL 3078 513 \nL 3078 1088 \nL 3444 1088 \nL 3444 0 \nL 434 0 \nL 434 341 \nL 1850 1753 \nQ 2319 2222 2519 2614 \nQ 2719 3006 2719 3438 \nQ 2719 3909 2473 4175 \nQ 2228 4441 1797 4441 \nQ 1350 4441 1106 4219 \nQ 863 3997 819 3553 \nz\n\" transform=\"scale(0.015625)\"/>\n       </defs>\n       <use xlink:href=\"#DejaVuSerif-32\"/>\n       <use xlink:href=\"#DejaVuSerif-30\" transform=\"translate(63.623047 0)\"/>\n       <use xlink:href=\"#DejaVuSerif-30\" transform=\"translate(127.246094 0)\"/>\n       <use xlink:href=\"#DejaVuSerif-30\" transform=\"translate(190.869141 0)\"/>\n       <use xlink:href=\"#DejaVuSerif-30\" transform=\"translate(254.492188 0)\"/>\n      </g>\n     </g>\n    </g>\n    <g id=\"xtick_3\">\n     <g id=\"line2d_5\">\n      <path d=\"M 313.682409 327.789375 \nL 313.682409 19.27875 \n\" clip-path=\"url(#p32fdb4441e)\" style=\"fill: none; stroke: #cccccc; stroke-width: 0.5; stroke-linecap: round\"/>\n     </g>\n     <g id=\"line2d_6\"/>\n     <g id=\"text_3\">\n      <!-- 40000 -->\n      <g style=\"fill: #262626\" transform=\"translate(302.548034 336.608281) scale(0.07 -0.07)\">\n       <defs>\n        <path id=\"DejaVuSerif-34\" d=\"M 2234 1581 \nL 2234 4063 \nL 641 1581 \nL 2234 1581 \nz\nM 3609 0 \nL 1484 0 \nL 1484 331 \nL 2234 331 \nL 2234 1247 \nL 197 1247 \nL 197 1588 \nL 2241 4750 \nL 2859 4750 \nL 2859 1581 \nL 3750 1581 \nL 3750 1247 \nL 2859 1247 \nL 2859 331 \nL 3609 331 \nL 3609 0 \nz\n\" transform=\"scale(0.015625)\"/>\n       </defs>\n       <use xlink:href=\"#DejaVuSerif-34\"/>\n       <use xlink:href=\"#DejaVuSerif-30\" transform=\"translate(63.623047 0)\"/>\n       <use xlink:href=\"#DejaVuSerif-30\" transform=\"translate(127.246094 0)\"/>\n       <use xlink:href=\"#DejaVuSerif-30\" transform=\"translate(190.869141 0)\"/>\n       <use xlink:href=\"#DejaVuSerif-30\" transform=\"translate(254.492188 0)\"/>\n      </g>\n     </g>\n    </g>\n    <g id=\"xtick_4\">\n     <g id=\"line2d_7\">\n      <path d=\"M 435.570559 327.789375 \nL 435.570559 19.27875 \n\" clip-path=\"url(#p32fdb4441e)\" style=\"fill: none; stroke: #cccccc; stroke-width: 0.5; stroke-linecap: round\"/>\n     </g>\n     <g id=\"line2d_8\"/>\n     <g id=\"text_4\">\n      <!-- 60000 -->\n      <g style=\"fill: #262626\" transform=\"translate(424.436184 336.608281) scale(0.07 -0.07)\">\n       <defs>\n        <path id=\"DejaVuSerif-36\" d=\"M 2094 219 \nQ 2534 219 2771 542 \nQ 3009 866 3009 1472 \nQ 3009 2078 2771 2401 \nQ 2534 2725 2094 2725 \nQ 1647 2725 1412 2412 \nQ 1178 2100 1178 1509 \nQ 1178 888 1415 553 \nQ 1653 219 2094 219 \nz\nM 1075 2569 \nQ 1288 2803 1556 2918 \nQ 1825 3034 2163 3034 \nQ 2859 3034 3264 2615 \nQ 3669 2197 3669 1472 \nQ 3669 763 3233 336 \nQ 2797 -91 2069 -91 \nQ 1278 -91 853 498 \nQ 428 1088 428 2181 \nQ 428 3406 931 4078 \nQ 1434 4750 2350 4750 \nQ 2597 4750 2869 4703 \nQ 3141 4656 3425 4563 \nL 3425 3794 \nL 3072 3794 \nQ 3034 4109 2831 4275 \nQ 2628 4441 2284 4441 \nQ 1678 4441 1381 3981 \nQ 1084 3522 1075 2569 \nz\n\" transform=\"scale(0.015625)\"/>\n       </defs>\n       <use xlink:href=\"#DejaVuSerif-36\"/>\n       <use xlink:href=\"#DejaVuSerif-30\" transform=\"translate(63.623047 0)\"/>\n       <use xlink:href=\"#DejaVuSerif-30\" transform=\"translate(127.246094 0)\"/>\n       <use xlink:href=\"#DejaVuSerif-30\" transform=\"translate(190.869141 0)\"/>\n       <use xlink:href=\"#DejaVuSerif-30\" transform=\"translate(254.492188 0)\"/>\n      </g>\n     </g>\n    </g>\n    <g id=\"xtick_5\">\n     <g id=\"line2d_9\">\n      <path d=\"M 557.45871 327.789375 \nL 557.45871 19.27875 \n\" clip-path=\"url(#p32fdb4441e)\" style=\"fill: none; stroke: #cccccc; stroke-width: 0.5; stroke-linecap: round\"/>\n     </g>\n     <g id=\"line2d_10\"/>\n     <g id=\"text_5\">\n      <!-- 80000 -->\n      <g style=\"fill: #262626\" transform=\"translate(546.324335 336.608281) scale(0.07 -0.07)\">\n       <defs>\n        <path id=\"DejaVuSerif-38\" d=\"M 2981 1275 \nQ 2981 1775 2732 2051 \nQ 2484 2328 2034 2328 \nQ 1584 2328 1336 2051 \nQ 1088 1775 1088 1275 \nQ 1088 772 1336 495 \nQ 1584 219 2034 219 \nQ 2484 219 2732 495 \nQ 2981 772 2981 1275 \nz\nM 2853 3541 \nQ 2853 3966 2637 4203 \nQ 2422 4441 2034 4441 \nQ 1650 4441 1433 4203 \nQ 1216 3966 1216 3541 \nQ 1216 3113 1433 2875 \nQ 1650 2638 2034 2638 \nQ 2422 2638 2637 2875 \nQ 2853 3113 2853 3541 \nz\nM 2516 2484 \nQ 3047 2413 3344 2092 \nQ 3641 1772 3641 1275 \nQ 3641 619 3225 264 \nQ 2809 -91 2034 -91 \nQ 1263 -91 845 264 \nQ 428 619 428 1275 \nQ 428 1772 725 2092 \nQ 1022 2413 1556 2484 \nQ 1084 2569 832 2842 \nQ 581 3116 581 3541 \nQ 581 4103 968 4426 \nQ 1356 4750 2034 4750 \nQ 2713 4750 3100 4426 \nQ 3488 4103 3488 3541 \nQ 3488 3116 3236 2842 \nQ 2984 2569 2516 2484 \nz\n\" transform=\"scale(0.015625)\"/>\n       </defs>\n       <use xlink:href=\"#DejaVuSerif-38\"/>\n       <use xlink:href=\"#DejaVuSerif-30\" transform=\"translate(63.623047 0)\"/>\n       <use xlink:href=\"#DejaVuSerif-30\" transform=\"translate(127.246094 0)\"/>\n       <use xlink:href=\"#DejaVuSerif-30\" transform=\"translate(190.869141 0)\"/>\n       <use xlink:href=\"#DejaVuSerif-30\" transform=\"translate(254.492188 0)\"/>\n      </g>\n     </g>\n    </g>\n    <g id=\"xtick_6\">\n     <g id=\"line2d_11\">\n      <path d=\"M 679.346861 327.789375 \nL 679.346861 19.27875 \n\" clip-path=\"url(#p32fdb4441e)\" style=\"fill: none; stroke: #cccccc; stroke-width: 0.5; stroke-linecap: round\"/>\n     </g>\n     <g id=\"line2d_12\"/>\n     <g id=\"text_6\">\n      <!-- 100000 -->\n      <g style=\"fill: #262626\" transform=\"translate(665.985611 336.608281) scale(0.07 -0.07)\">\n       <defs>\n        <path id=\"DejaVuSerif-31\" d=\"M 909 0 \nL 909 331 \nL 1722 331 \nL 1722 4213 \nL 781 3603 \nL 781 4013 \nL 1919 4750 \nL 2350 4750 \nL 2350 331 \nL 3163 331 \nL 3163 0 \nL 909 0 \nz\n\" transform=\"scale(0.015625)\"/>\n       </defs>\n       <use xlink:href=\"#DejaVuSerif-31\"/>\n       <use xlink:href=\"#DejaVuSerif-30\" transform=\"translate(63.623047 0)\"/>\n       <use xlink:href=\"#DejaVuSerif-30\" transform=\"translate(127.246094 0)\"/>\n       <use xlink:href=\"#DejaVuSerif-30\" transform=\"translate(190.869141 0)\"/>\n       <use xlink:href=\"#DejaVuSerif-30\" transform=\"translate(254.492188 0)\"/>\n       <use xlink:href=\"#DejaVuSerif-30\" transform=\"translate(318.115234 0)\"/>\n      </g>\n     </g>\n    </g>\n    <g id=\"text_7\">\n     <!-- Number of Samples (n) -->\n     <g style=\"fill: #262626\" transform=\"translate(327.342031 348.142812) scale(0.08 -0.08)\">\n      <defs>\n       <path id=\"DejaVuSerif-4e\" d=\"M 313 0 \nL 313 331 \nL 941 331 \nL 941 4331 \nL 313 4331 \nL 313 4666 \nL 1509 4666 \nL 4306 984 \nL 4306 4331 \nL 3681 4331 \nL 3681 4666 \nL 5319 4666 \nL 5319 4331 \nL 4691 4331 \nL 4691 -91 \nL 4313 -91 \nL 1325 3841 \nL 1325 331 \nL 1953 331 \nL 1953 0 \nL 313 0 \nz\n\" transform=\"scale(0.015625)\"/>\n       <path id=\"DejaVuSerif-75\" d=\"M 2266 3322 \nL 3341 3322 \nL 3341 331 \nL 3884 331 \nL 3884 0 \nL 2766 0 \nL 2766 588 \nQ 2606 256 2353 82 \nQ 2100 -91 1766 -91 \nQ 1213 -91 952 223 \nQ 691 538 691 1209 \nL 691 2988 \nL 172 2988 \nL 172 3322 \nL 1269 3322 \nL 1269 1388 \nQ 1269 781 1417 556 \nQ 1566 331 1947 331 \nQ 2347 331 2556 625 \nQ 2766 919 2766 1478 \nL 2766 2988 \nL 2266 2988 \nL 2266 3322 \nz\n\" transform=\"scale(0.015625)\"/>\n       <path id=\"DejaVuSerif-6d\" d=\"M 3316 2675 \nQ 3481 3041 3739 3227 \nQ 3997 3413 4341 3413 \nQ 4863 3413 5119 3089 \nQ 5375 2766 5375 2113 \nL 5375 331 \nL 5894 331 \nL 5894 0 \nL 4300 0 \nL 4300 331 \nL 4800 331 \nL 4800 2047 \nQ 4800 2556 4650 2772 \nQ 4500 2988 4153 2988 \nQ 3769 2988 3567 2697 \nQ 3366 2406 3366 1850 \nL 3366 331 \nL 3866 331 \nL 3866 0 \nL 2291 0 \nL 2291 331 \nL 2791 331 \nL 2791 2069 \nQ 2791 2566 2641 2777 \nQ 2491 2988 2144 2988 \nQ 1759 2988 1557 2697 \nQ 1356 2406 1356 1850 \nL 1356 331 \nL 1856 331 \nL 1856 0 \nL 263 0 \nL 263 331 \nL 781 331 \nL 781 2994 \nL 231 2994 \nL 231 3322 \nL 1356 3322 \nL 1356 2731 \nQ 1516 3063 1762 3238 \nQ 2009 3413 2322 3413 \nQ 2709 3413 2968 3220 \nQ 3228 3028 3316 2675 \nz\n\" transform=\"scale(0.015625)\"/>\n       <path id=\"DejaVuSerif-62\" d=\"M 738 331 \nL 738 4531 \nL 184 4531 \nL 184 4863 \nL 1313 4863 \nL 1313 2803 \nQ 1481 3116 1742 3264 \nQ 2003 3413 2388 3413 \nQ 3000 3413 3387 2928 \nQ 3775 2444 3775 1663 \nQ 3775 881 3387 395 \nQ 3000 -91 2388 -91 \nQ 2003 -91 1742 57 \nQ 1481 206 1313 519 \nL 1313 0 \nL 184 0 \nL 184 331 \nL 738 331 \nz\nM 1313 1497 \nQ 1313 897 1542 583 \nQ 1772 269 2209 269 \nQ 2650 269 2876 622 \nQ 3103 975 3103 1663 \nQ 3103 2353 2876 2703 \nQ 2650 3053 2209 3053 \nQ 1772 3053 1542 2737 \nQ 1313 2422 1313 1825 \nL 1313 1497 \nz\n\" transform=\"scale(0.015625)\"/>\n       <path id=\"DejaVuSerif-65\" d=\"M 3469 1600 \nL 991 1600 \nL 991 1575 \nQ 991 903 1244 561 \nQ 1497 219 1991 219 \nQ 2369 219 2611 417 \nQ 2853 616 2950 1006 \nL 3413 1006 \nQ 3275 459 2904 184 \nQ 2534 -91 1931 -91 \nQ 1203 -91 761 389 \nQ 319 869 319 1663 \nQ 319 2450 753 2931 \nQ 1188 3413 1894 3413 \nQ 2647 3413 3050 2948 \nQ 3453 2484 3469 1600 \nz\nM 2791 1931 \nQ 2772 2513 2545 2808 \nQ 2319 3103 1894 3103 \nQ 1497 3103 1269 2806 \nQ 1041 2509 991 1931 \nL 2791 1931 \nz\n\" transform=\"scale(0.015625)\"/>\n       <path id=\"DejaVuSerif-72\" d=\"M 3059 3328 \nL 3059 2497 \nL 2728 2497 \nQ 2713 2744 2591 2866 \nQ 2469 2988 2234 2988 \nQ 1809 2988 1582 2694 \nQ 1356 2400 1356 1850 \nL 1356 331 \nL 2022 331 \nL 2022 0 \nL 263 0 \nL 263 331 \nL 781 331 \nL 781 2994 \nL 231 2994 \nL 231 3322 \nL 1356 3322 \nL 1356 2731 \nQ 1525 3078 1790 3245 \nQ 2056 3413 2438 3413 \nQ 2578 3413 2733 3391 \nQ 2888 3369 3059 3328 \nz\n\" transform=\"scale(0.015625)\"/>\n       <path id=\"DejaVuSerif-20\" transform=\"scale(0.015625)\"/>\n       <path id=\"DejaVuSerif-6f\" d=\"M 1925 219 \nQ 2388 219 2623 584 \nQ 2859 950 2859 1663 \nQ 2859 2375 2623 2739 \nQ 2388 3103 1925 3103 \nQ 1463 3103 1227 2739 \nQ 991 2375 991 1663 \nQ 991 950 1228 584 \nQ 1466 219 1925 219 \nz\nM 1925 -91 \nQ 1200 -91 759 389 \nQ 319 869 319 1663 \nQ 319 2456 758 2934 \nQ 1197 3413 1925 3413 \nQ 2653 3413 3092 2934 \nQ 3531 2456 3531 1663 \nQ 3531 869 3092 389 \nQ 2653 -91 1925 -91 \nz\n\" transform=\"scale(0.015625)\"/>\n       <path id=\"DejaVuSerif-66\" d=\"M 2753 4078 \nL 2450 4078 \nQ 2447 4313 2317 4434 \nQ 2188 4556 1941 4556 \nQ 1619 4556 1487 4379 \nQ 1356 4203 1356 3750 \nL 1356 3322 \nL 2284 3322 \nL 2284 2988 \nL 1356 2988 \nL 1356 331 \nL 2094 331 \nL 2094 0 \nL 231 0 \nL 231 331 \nL 781 331 \nL 781 2988 \nL 231 2988 \nL 231 3322 \nL 781 3322 \nL 781 3738 \nQ 781 4294 1070 4578 \nQ 1359 4863 1919 4863 \nQ 2128 4863 2337 4825 \nQ 2547 4788 2753 4709 \nL 2753 4078 \nz\n\" transform=\"scale(0.015625)\"/>\n       <path id=\"DejaVuSerif-53\" d=\"M 594 225 \nL 594 1288 \nL 953 1284 \nQ 969 753 1261 498 \nQ 1553 244 2150 244 \nQ 2706 244 2998 464 \nQ 3291 684 3291 1106 \nQ 3291 1444 3114 1625 \nQ 2938 1806 2369 1978 \nL 1753 2163 \nQ 1084 2366 811 2669 \nQ 538 2972 538 3500 \nQ 538 4094 959 4422 \nQ 1381 4750 2144 4750 \nQ 2469 4750 2856 4679 \nQ 3244 4609 3681 4475 \nL 3681 3481 \nL 3328 3481 \nQ 3275 3975 2998 4195 \nQ 2722 4416 2156 4416 \nQ 1663 4416 1405 4214 \nQ 1147 4013 1147 3628 \nQ 1147 3294 1340 3103 \nQ 1534 2913 2163 2725 \nL 2741 2553 \nQ 3375 2363 3645 2067 \nQ 3916 1772 3916 1275 \nQ 3916 597 3481 253 \nQ 3047 -91 2188 -91 \nQ 1803 -91 1404 -12 \nQ 1006 66 594 225 \nz\n\" transform=\"scale(0.015625)\"/>\n       <path id=\"DejaVuSerif-61\" d=\"M 2547 1044 \nL 2547 1747 \nL 1806 1747 \nQ 1378 1747 1168 1562 \nQ 959 1378 959 997 \nQ 959 650 1171 447 \nQ 1384 244 1747 244 \nQ 2106 244 2326 466 \nQ 2547 688 2547 1044 \nz\nM 3122 2075 \nL 3122 331 \nL 3634 331 \nL 3634 0 \nL 2547 0 \nL 2547 359 \nQ 2356 128 2106 18 \nQ 1856 -91 1522 -91 \nQ 969 -91 644 203 \nQ 319 497 319 997 \nQ 319 1513 691 1797 \nQ 1063 2081 1741 2081 \nL 2547 2081 \nL 2547 2309 \nQ 2547 2688 2317 2895 \nQ 2088 3103 1672 3103 \nQ 1328 3103 1125 2947 \nQ 922 2791 872 2484 \nL 575 2484 \nL 575 3156 \nQ 875 3284 1158 3348 \nQ 1441 3413 1709 3413 \nQ 2400 3413 2761 3070 \nQ 3122 2728 3122 2075 \nz\n\" transform=\"scale(0.015625)\"/>\n       <path id=\"DejaVuSerif-70\" d=\"M 1313 1825 \nL 1313 1497 \nQ 1313 897 1542 583 \nQ 1772 269 2209 269 \nQ 2650 269 2876 622 \nQ 3103 975 3103 1663 \nQ 3103 2353 2876 2703 \nQ 2650 3053 2209 3053 \nQ 1772 3053 1542 2737 \nQ 1313 2422 1313 1825 \nz\nM 738 2988 \nL 184 2988 \nL 184 3322 \nL 1313 3322 \nL 1313 2803 \nQ 1481 3116 1742 3264 \nQ 2003 3413 2388 3413 \nQ 3000 3413 3387 2928 \nQ 3775 2444 3775 1663 \nQ 3775 881 3387 395 \nQ 3000 -91 2388 -91 \nQ 2003 -91 1742 57 \nQ 1481 206 1313 519 \nL 1313 -997 \nL 1856 -997 \nL 1856 -1331 \nL 184 -1331 \nL 184 -997 \nL 738 -997 \nL 738 2988 \nz\n\" transform=\"scale(0.015625)\"/>\n       <path id=\"DejaVuSerif-6c\" d=\"M 1313 331 \nL 1856 331 \nL 1856 0 \nL 184 0 \nL 184 331 \nL 738 331 \nL 738 4531 \nL 184 4531 \nL 184 4863 \nL 1313 4863 \nL 1313 331 \nz\n\" transform=\"scale(0.015625)\"/>\n       <path id=\"DejaVuSerif-73\" d=\"M 359 184 \nL 359 959 \nL 691 959 \nQ 703 588 923 403 \nQ 1144 219 1575 219 \nQ 1963 219 2166 364 \nQ 2369 509 2369 788 \nQ 2369 1006 2220 1140 \nQ 2072 1275 1594 1428 \nL 1178 1569 \nQ 750 1706 558 1912 \nQ 366 2119 366 2438 \nQ 366 2894 700 3153 \nQ 1034 3413 1625 3413 \nQ 1888 3413 2178 3344 \nQ 2469 3275 2778 3144 \nL 2778 2419 \nL 2447 2419 \nQ 2434 2741 2221 2922 \nQ 2009 3103 1644 3103 \nQ 1281 3103 1095 2975 \nQ 909 2847 909 2591 \nQ 909 2381 1050 2254 \nQ 1191 2128 1613 1997 \nL 2069 1856 \nQ 2541 1709 2748 1489 \nQ 2956 1269 2956 922 \nQ 2956 450 2595 179 \nQ 2234 -91 1600 -91 \nQ 1278 -91 972 -22 \nQ 666 47 359 184 \nz\n\" transform=\"scale(0.015625)\"/>\n       <path id=\"DejaVuSerif-28\" d=\"M 2041 -997 \nQ 1281 -656 893 83 \nQ 506 822 506 1931 \nQ 506 3044 893 3783 \nQ 1281 4522 2041 4863 \nL 2041 4556 \nQ 1559 4225 1350 3623 \nQ 1141 3022 1141 1931 \nQ 1141 844 1350 242 \nQ 1559 -359 2041 -691 \nL 2041 -997 \nz\n\" transform=\"scale(0.015625)\"/>\n       <path id=\"DejaVuSerif-6e\" d=\"M 263 0 \nL 263 331 \nL 781 331 \nL 781 2988 \nL 231 2988 \nL 231 3322 \nL 1356 3322 \nL 1356 2731 \nQ 1516 3069 1770 3241 \nQ 2025 3413 2363 3413 \nQ 2913 3413 3172 3097 \nQ 3431 2781 3431 2113 \nL 3431 331 \nL 3944 331 \nL 3944 0 \nL 2356 0 \nL 2356 331 \nL 2853 331 \nL 2853 1931 \nQ 2853 2541 2703 2767 \nQ 2553 2994 2175 2994 \nQ 1775 2994 1565 2701 \nQ 1356 2409 1356 1850 \nL 1356 331 \nL 1856 331 \nL 1856 0 \nL 263 0 \nz\n\" transform=\"scale(0.015625)\"/>\n       <path id=\"DejaVuSerif-29\" d=\"M 453 -997 \nL 453 -691 \nQ 934 -359 1145 242 \nQ 1356 844 1356 1931 \nQ 1356 3022 1145 3623 \nQ 934 4225 453 4556 \nL 453 4863 \nQ 1216 4522 1603 3783 \nQ 1991 3044 1991 1931 \nQ 1991 822 1603 83 \nQ 1216 -656 453 -997 \nz\n\" transform=\"scale(0.015625)\"/>\n      </defs>\n      <use xlink:href=\"#DejaVuSerif-4e\"/>\n      <use xlink:href=\"#DejaVuSerif-75\" transform=\"translate(87.5 0)\"/>\n      <use xlink:href=\"#DejaVuSerif-6d\" transform=\"translate(151.904297 0)\"/>\n      <use xlink:href=\"#DejaVuSerif-62\" transform=\"translate(246.728516 0)\"/>\n      <use xlink:href=\"#DejaVuSerif-65\" transform=\"translate(310.742188 0)\"/>\n      <use xlink:href=\"#DejaVuSerif-72\" transform=\"translate(369.921875 0)\"/>\n      <use xlink:href=\"#DejaVuSerif-20\" transform=\"translate(417.724609 0)\"/>\n      <use xlink:href=\"#DejaVuSerif-6f\" transform=\"translate(449.511719 0)\"/>\n      <use xlink:href=\"#DejaVuSerif-66\" transform=\"translate(509.716797 0)\"/>\n      <use xlink:href=\"#DejaVuSerif-20\" transform=\"translate(546.728516 0)\"/>\n      <use xlink:href=\"#DejaVuSerif-53\" transform=\"translate(578.515625 0)\"/>\n      <use xlink:href=\"#DejaVuSerif-61\" transform=\"translate(647.021484 0)\"/>\n      <use xlink:href=\"#DejaVuSerif-6d\" transform=\"translate(706.640625 0)\"/>\n      <use xlink:href=\"#DejaVuSerif-70\" transform=\"translate(801.464844 0)\"/>\n      <use xlink:href=\"#DejaVuSerif-6c\" transform=\"translate(865.478516 0)\"/>\n      <use xlink:href=\"#DejaVuSerif-65\" transform=\"translate(897.460938 0)\"/>\n      <use xlink:href=\"#DejaVuSerif-73\" transform=\"translate(956.640625 0)\"/>\n      <use xlink:href=\"#DejaVuSerif-20\" transform=\"translate(1007.958984 0)\"/>\n      <use xlink:href=\"#DejaVuSerif-28\" transform=\"translate(1039.746094 0)\"/>\n      <use xlink:href=\"#DejaVuSerif-6e\" transform=\"translate(1078.759766 0)\"/>\n      <use xlink:href=\"#DejaVuSerif-29\" transform=\"translate(1143.164062 0)\"/>\n     </g>\n    </g>\n   </g>\n   <g id=\"matplotlib.axis_2\">\n    <g id=\"ytick_1\">\n     <g id=\"line2d_13\">\n      <path d=\"M 39.440469 325.247949 \nL 709.818594 325.247949 \n\" clip-path=\"url(#p32fdb4441e)\" style=\"fill: none; stroke: #cccccc; stroke-width: 0.5; stroke-linecap: round\"/>\n     </g>\n     <g id=\"line2d_14\"/>\n     <g id=\"text_8\">\n      <!-- −0.2 -->\n      <g style=\"fill: #262626\" transform=\"translate(18.9425 327.907402) scale(0.07 -0.07)\">\n       <defs>\n        <path id=\"DejaVuSerif-2212\" d=\"M 678 2259 \nL 4684 2259 \nL 4684 1753 \nL 678 1753 \nL 678 2259 \nz\n\" transform=\"scale(0.015625)\"/>\n        <path id=\"DejaVuSerif-2e\" d=\"M 603 325 \nQ 603 500 722 622 \nQ 841 744 1019 744 \nQ 1191 744 1312 622 \nQ 1434 500 1434 325 \nQ 1434 153 1312 31 \nQ 1191 -91 1019 -91 \nQ 841 -91 722 29 \nQ 603 150 603 325 \nz\n\" transform=\"scale(0.015625)\"/>\n       </defs>\n       <use xlink:href=\"#DejaVuSerif-2212\"/>\n       <use xlink:href=\"#DejaVuSerif-30\" transform=\"translate(83.789062 0)\"/>\n       <use xlink:href=\"#DejaVuSerif-2e\" transform=\"translate(147.412109 0)\"/>\n       <use xlink:href=\"#DejaVuSerif-32\" transform=\"translate(179.199219 0)\"/>\n      </g>\n     </g>\n    </g>\n    <g id=\"ytick_2\">\n     <g id=\"line2d_15\">\n      <path d=\"M 39.440469 276.590284 \nL 709.818594 276.590284 \n\" clip-path=\"url(#p32fdb4441e)\" style=\"fill: none; stroke: #cccccc; stroke-width: 0.5; stroke-linecap: round\"/>\n     </g>\n     <g id=\"line2d_16\"/>\n     <g id=\"text_9\">\n      <!-- 0.0 -->\n      <g style=\"fill: #262626\" transform=\"translate(24.808281 279.249737) scale(0.07 -0.07)\">\n       <use xlink:href=\"#DejaVuSerif-30\"/>\n       <use xlink:href=\"#DejaVuSerif-2e\" transform=\"translate(63.623047 0)\"/>\n       <use xlink:href=\"#DejaVuSerif-30\" transform=\"translate(95.410156 0)\"/>\n      </g>\n     </g>\n    </g>\n    <g id=\"ytick_3\">\n     <g id=\"line2d_17\">\n      <path d=\"M 39.440469 227.932619 \nL 709.818594 227.932619 \n\" clip-path=\"url(#p32fdb4441e)\" style=\"fill: none; stroke: #cccccc; stroke-width: 0.5; stroke-linecap: round\"/>\n     </g>\n     <g id=\"line2d_18\"/>\n     <g id=\"text_10\">\n      <!-- 0.2 -->\n      <g style=\"fill: #262626\" transform=\"translate(24.808281 230.592072) scale(0.07 -0.07)\">\n       <use xlink:href=\"#DejaVuSerif-30\"/>\n       <use xlink:href=\"#DejaVuSerif-2e\" transform=\"translate(63.623047 0)\"/>\n       <use xlink:href=\"#DejaVuSerif-32\" transform=\"translate(95.410156 0)\"/>\n      </g>\n     </g>\n    </g>\n    <g id=\"ytick_4\">\n     <g id=\"line2d_19\">\n      <path d=\"M 39.440469 179.274954 \nL 709.818594 179.274954 \n\" clip-path=\"url(#p32fdb4441e)\" style=\"fill: none; stroke: #cccccc; stroke-width: 0.5; stroke-linecap: round\"/>\n     </g>\n     <g id=\"line2d_20\"/>\n     <g id=\"text_11\">\n      <!-- 0.4 -->\n      <g style=\"fill: #262626\" transform=\"translate(24.808281 181.934408) scale(0.07 -0.07)\">\n       <use xlink:href=\"#DejaVuSerif-30\"/>\n       <use xlink:href=\"#DejaVuSerif-2e\" transform=\"translate(63.623047 0)\"/>\n       <use xlink:href=\"#DejaVuSerif-34\" transform=\"translate(95.410156 0)\"/>\n      </g>\n     </g>\n    </g>\n    <g id=\"ytick_5\">\n     <g id=\"line2d_21\">\n      <path d=\"M 39.440469 130.61729 \nL 709.818594 130.61729 \n\" clip-path=\"url(#p32fdb4441e)\" style=\"fill: none; stroke: #cccccc; stroke-width: 0.5; stroke-linecap: round\"/>\n     </g>\n     <g id=\"line2d_22\"/>\n     <g id=\"text_12\">\n      <!-- 0.6 -->\n      <g style=\"fill: #262626\" transform=\"translate(24.808281 133.276743) scale(0.07 -0.07)\">\n       <use xlink:href=\"#DejaVuSerif-30\"/>\n       <use xlink:href=\"#DejaVuSerif-2e\" transform=\"translate(63.623047 0)\"/>\n       <use xlink:href=\"#DejaVuSerif-36\" transform=\"translate(95.410156 0)\"/>\n      </g>\n     </g>\n    </g>\n    <g id=\"ytick_6\">\n     <g id=\"line2d_23\">\n      <path d=\"M 39.440469 81.959625 \nL 709.818594 81.959625 \n\" clip-path=\"url(#p32fdb4441e)\" style=\"fill: none; stroke: #cccccc; stroke-width: 0.5; stroke-linecap: round\"/>\n     </g>\n     <g id=\"line2d_24\"/>\n     <g id=\"text_13\">\n      <!-- 0.8 -->\n      <g style=\"fill: #262626\" transform=\"translate(24.808281 84.619078) scale(0.07 -0.07)\">\n       <use xlink:href=\"#DejaVuSerif-30\"/>\n       <use xlink:href=\"#DejaVuSerif-2e\" transform=\"translate(63.623047 0)\"/>\n       <use xlink:href=\"#DejaVuSerif-38\" transform=\"translate(95.410156 0)\"/>\n      </g>\n     </g>\n    </g>\n    <g id=\"ytick_7\">\n     <g id=\"line2d_25\">\n      <path d=\"M 39.440469 33.30196 \nL 709.818594 33.30196 \n\" clip-path=\"url(#p32fdb4441e)\" style=\"fill: none; stroke: #cccccc; stroke-width: 0.5; stroke-linecap: round\"/>\n     </g>\n     <g id=\"line2d_26\"/>\n     <g id=\"text_14\">\n      <!-- 1.0 -->\n      <g style=\"fill: #262626\" transform=\"translate(24.808281 35.961413) scale(0.07 -0.07)\">\n       <use xlink:href=\"#DejaVuSerif-31\"/>\n       <use xlink:href=\"#DejaVuSerif-2e\" transform=\"translate(63.623047 0)\"/>\n       <use xlink:href=\"#DejaVuSerif-30\" transform=\"translate(95.410156 0)\"/>\n      </g>\n     </g>\n    </g>\n    <g id=\"text_15\">\n     <!-- Estimated Correlation: Corr(X, Z) -->\n     <g style=\"fill: #262626\" transform=\"translate(13.27875 241.775937) rotate(-90) scale(0.08 -0.08)\">\n      <defs>\n       <path id=\"DejaVuSerif-45\" d=\"M 353 0 \nL 353 331 \nL 947 331 \nL 947 4331 \nL 353 4331 \nL 353 4666 \nL 4109 4666 \nL 4109 3628 \nL 3725 3628 \nL 3725 4281 \nL 1581 4281 \nL 1581 2719 \nL 3109 2719 \nL 3109 3303 \nL 3494 3303 \nL 3494 1753 \nL 3109 1753 \nL 3109 2338 \nL 1581 2338 \nL 1581 384 \nL 3775 384 \nL 3775 1038 \nL 4159 1038 \nL 4159 0 \nL 353 0 \nz\n\" transform=\"scale(0.015625)\"/>\n       <path id=\"DejaVuSerif-74\" d=\"M 691 2988 \nL 184 2988 \nL 184 3322 \nL 691 3322 \nL 691 4353 \nL 1269 4353 \nL 1269 3322 \nL 2350 3322 \nL 2350 2988 \nL 1269 2988 \nL 1269 878 \nQ 1269 456 1350 337 \nQ 1431 219 1650 219 \nQ 1875 219 1978 351 \nQ 2081 484 2088 781 \nL 2522 781 \nQ 2497 328 2275 118 \nQ 2053 -91 1600 -91 \nQ 1103 -91 897 129 \nQ 691 350 691 878 \nL 691 2988 \nz\n\" transform=\"scale(0.015625)\"/>\n       <path id=\"DejaVuSerif-69\" d=\"M 622 4353 \nQ 622 4497 726 4603 \nQ 831 4709 978 4709 \nQ 1122 4709 1226 4603 \nQ 1331 4497 1331 4353 \nQ 1331 4206 1228 4103 \nQ 1125 4000 978 4000 \nQ 831 4000 726 4103 \nQ 622 4206 622 4353 \nz\nM 1356 331 \nL 1900 331 \nL 1900 0 \nL 231 0 \nL 231 331 \nL 781 331 \nL 781 2988 \nL 231 2988 \nL 231 3322 \nL 1356 3322 \nL 1356 331 \nz\n\" transform=\"scale(0.015625)\"/>\n       <path id=\"DejaVuSerif-64\" d=\"M 3359 331 \nL 3909 331 \nL 3909 0 \nL 2784 0 \nL 2784 519 \nQ 2616 206 2355 57 \nQ 2094 -91 1709 -91 \nQ 1097 -91 708 395 \nQ 319 881 319 1663 \nQ 319 2444 706 2928 \nQ 1094 3413 1709 3413 \nQ 2094 3413 2355 3264 \nQ 2616 3116 2784 2803 \nL 2784 4531 \nL 2241 4531 \nL 2241 4863 \nL 3359 4863 \nL 3359 331 \nz\nM 2784 1497 \nL 2784 1825 \nQ 2784 2422 2554 2737 \nQ 2325 3053 1888 3053 \nQ 1444 3053 1217 2703 \nQ 991 2353 991 1663 \nQ 991 975 1217 622 \nQ 1444 269 1888 269 \nQ 2325 269 2554 583 \nQ 2784 897 2784 1497 \nz\n\" transform=\"scale(0.015625)\"/>\n       <path id=\"DejaVuSerif-43\" d=\"M 4513 1234 \nQ 4306 581 3820 245 \nQ 3334 -91 2591 -91 \nQ 2134 -91 1743 65 \nQ 1353 222 1050 525 \nQ 700 875 529 1320 \nQ 359 1766 359 2328 \nQ 359 3416 987 4083 \nQ 1616 4750 2644 4750 \nQ 3025 4750 3456 4650 \nQ 3888 4550 4384 4347 \nL 4384 3272 \nL 4031 3272 \nQ 3916 3859 3567 4137 \nQ 3219 4416 2591 4416 \nQ 1844 4416 1459 3886 \nQ 1075 3356 1075 2328 \nQ 1075 1303 1459 773 \nQ 1844 244 2591 244 \nQ 3113 244 3450 492 \nQ 3788 741 3938 1234 \nL 4513 1234 \nz\n\" transform=\"scale(0.015625)\"/>\n       <path id=\"DejaVuSerif-3a\" d=\"M 666 325 \nQ 666 500 786 622 \nQ 906 744 1081 744 \nQ 1256 744 1376 622 \nQ 1497 500 1497 325 \nQ 1497 150 1378 29 \nQ 1259 -91 1081 -91 \nQ 903 -91 784 29 \nQ 666 150 666 325 \nz\nM 666 2363 \nQ 666 2538 786 2658 \nQ 906 2778 1081 2778 \nQ 1259 2778 1378 2659 \nQ 1497 2541 1497 2363 \nQ 1497 2184 1378 2065 \nQ 1259 1947 1081 1947 \nQ 906 1947 786 2067 \nQ 666 2188 666 2363 \nz\n\" transform=\"scale(0.015625)\"/>\n       <path id=\"DejaVuSerif-58\" d=\"M 2119 1997 \nL 978 331 \nL 1581 331 \nL 1581 0 \nL 38 0 \nL 38 331 \nL 575 331 \nL 1919 2291 \nL 556 4331 \nL 56 4331 \nL 56 4666 \nL 1906 4666 \nL 1906 4331 \nL 1356 4331 \nL 2356 2828 \nL 3384 4331 \nL 2784 4331 \nL 2784 4666 \nL 4313 4666 \nL 4313 4331 \nL 3788 4331 \nL 2553 2534 \nL 4025 331 \nL 4525 331 \nL 4525 0 \nL 2675 0 \nL 2675 331 \nL 3231 331 \nL 2119 1997 \nz\n\" transform=\"scale(0.015625)\"/>\n       <path id=\"DejaVuSerif-2c\" d=\"M 231 -622 \nQ 525 -406 662 -114 \nQ 800 178 800 594 \nL 800 709 \nL 1416 709 \nQ 1391 175 1164 -208 \nQ 938 -591 481 -872 \nL 231 -622 \nz\n\" transform=\"scale(0.015625)\"/>\n       <path id=\"DejaVuSerif-5a\" d=\"M 288 0 \nL 288 225 \nL 3194 4281 \nL 781 4281 \nL 781 3584 \nL 397 3584 \nL 397 4666 \nL 4084 4666 \nL 4084 4441 \nL 1178 384 \nL 3816 384 \nL 3816 1038 \nL 4197 1038 \nL 4197 0 \nL 288 0 \nz\n\" transform=\"scale(0.015625)\"/>\n      </defs>\n      <use xlink:href=\"#DejaVuSerif-45\"/>\n      <use xlink:href=\"#DejaVuSerif-73\" transform=\"translate(72.998047 0)\"/>\n      <use xlink:href=\"#DejaVuSerif-74\" transform=\"translate(124.316406 0)\"/>\n      <use xlink:href=\"#DejaVuSerif-69\" transform=\"translate(164.501953 0)\"/>\n      <use xlink:href=\"#DejaVuSerif-6d\" transform=\"translate(196.484375 0)\"/>\n      <use xlink:href=\"#DejaVuSerif-61\" transform=\"translate(291.308594 0)\"/>\n      <use xlink:href=\"#DejaVuSerif-74\" transform=\"translate(350.927734 0)\"/>\n      <use xlink:href=\"#DejaVuSerif-65\" transform=\"translate(391.113281 0)\"/>\n      <use xlink:href=\"#DejaVuSerif-64\" transform=\"translate(450.292969 0)\"/>\n      <use xlink:href=\"#DejaVuSerif-20\" transform=\"translate(514.306641 0)\"/>\n      <use xlink:href=\"#DejaVuSerif-43\" transform=\"translate(546.09375 0)\"/>\n      <use xlink:href=\"#DejaVuSerif-6f\" transform=\"translate(622.607422 0)\"/>\n      <use xlink:href=\"#DejaVuSerif-72\" transform=\"translate(682.8125 0)\"/>\n      <use xlink:href=\"#DejaVuSerif-72\" transform=\"translate(730.615234 0)\"/>\n      <use xlink:href=\"#DejaVuSerif-65\" transform=\"translate(778.417969 0)\"/>\n      <use xlink:href=\"#DejaVuSerif-6c\" transform=\"translate(837.597656 0)\"/>\n      <use xlink:href=\"#DejaVuSerif-61\" transform=\"translate(869.580078 0)\"/>\n      <use xlink:href=\"#DejaVuSerif-74\" transform=\"translate(929.199219 0)\"/>\n      <use xlink:href=\"#DejaVuSerif-69\" transform=\"translate(969.384766 0)\"/>\n      <use xlink:href=\"#DejaVuSerif-6f\" transform=\"translate(1001.367188 0)\"/>\n      <use xlink:href=\"#DejaVuSerif-6e\" transform=\"translate(1061.572266 0)\"/>\n      <use xlink:href=\"#DejaVuSerif-3a\" transform=\"translate(1125.976562 0)\"/>\n      <use xlink:href=\"#DejaVuSerif-20\" transform=\"translate(1159.667969 0)\"/>\n      <use xlink:href=\"#DejaVuSerif-43\" transform=\"translate(1191.455078 0)\"/>\n      <use xlink:href=\"#DejaVuSerif-6f\" transform=\"translate(1267.96875 0)\"/>\n      <use xlink:href=\"#DejaVuSerif-72\" transform=\"translate(1328.173828 0)\"/>\n      <use xlink:href=\"#DejaVuSerif-72\" transform=\"translate(1375.976562 0)\"/>\n      <use xlink:href=\"#DejaVuSerif-28\" transform=\"translate(1423.779297 0)\"/>\n      <use xlink:href=\"#DejaVuSerif-58\" transform=\"translate(1462.792969 0)\"/>\n      <use xlink:href=\"#DejaVuSerif-2c\" transform=\"translate(1533.984375 0)\"/>\n      <use xlink:href=\"#DejaVuSerif-20\" transform=\"translate(1565.771484 0)\"/>\n      <use xlink:href=\"#DejaVuSerif-5a\" transform=\"translate(1597.558594 0)\"/>\n      <use xlink:href=\"#DejaVuSerif-29\" transform=\"translate(1667.041016 0)\"/>\n     </g>\n    </g>\n   </g>\n   <g id=\"line2d_27\">\n    <path d=\"M 69.912202 276.590284 \nL 69.918296 33.30196 \nL 70.027995 83.186932 \nL 70.046279 264.089259 \nL 70.143789 244.973188 \nL 70.149884 242.738653 \nL 70.168167 259.72211 \nL 70.235205 252.13438 \nL 70.259583 253.701311 \nL 70.290055 248.46794 \nL 70.363188 267.662972 \nL 70.411943 267.505335 \nL 70.418038 272.022488 \nL 70.466793 256.610737 \nL 70.497265 258.702938 \nL 70.606964 221.892948 \nL 70.637436 223.756029 \nL 70.655719 225.1318 \nL 70.680097 222.93301 \nL 70.789796 214.889648 \nL 70.783702 224.881924 \nL 70.801985 215.120123 \nL 70.80808 215.096415 \nL 70.814174 216.743386 \nL 70.893401 208.53717 \nL 71.015289 215.828958 \nL 71.021384 215.488554 \nL 71.1128 232.344429 \nL 71.137178 225.307958 \nL 71.143272 225.270168 \nL 71.149366 225.672408 \nL 71.204216 229.856819 \nL 71.234688 229.567545 \nL 71.26516 222.812814 \nL 71.344387 227.687807 \nL 71.350482 226.497877 \nL 71.405332 236.05225 \nL 71.411426 235.868292 \nL 71.423615 235.658961 \nL 71.606447 262.948544 \nL 71.618636 258.671742 \nL 71.62473 258.68773 \nL 71.630825 258.468755 \nL 71.758807 250.12753 \nL 71.77709 250.904302 \nL 71.813657 251.953552 \nL 71.88679 251.553765 \nL 71.898979 251.346053 \nL 71.911167 246.374088 \nL 71.966017 260.400228 \nL 71.996489 258.314357 \nL 72.13666 261.317406 \nL 72.020867 258.209786 \nL 72.154944 260.985063 \nL 72.234171 265.097451 \nL 72.270737 272.317666 \nL 72.349965 271.093331 \nL 72.417003 274.393515 \nL 72.459664 272.010444 \nL 72.465758 270.451926 \nL 72.514514 281.927478 \nL 72.526703 281.881286 \nL 72.532797 281.732662 \nL 72.587647 282.906061 \nL 72.593741 282.77358 \nL 72.679063 283.554586 \nL 72.75829 278.747373 \nL 72.776573 284.95491 \nL 72.782668 284.81221 \nL 72.807045 283.125257 \nL 72.825329 282.509058 \nL 72.861895 282.610432 \nL 72.867989 288.389196 \nL 72.953311 280.529144 \nL 72.9655 280.644904 \nL 72.989878 280.247931 \nL 72.995972 281.184154 \nL 73.069105 283.764661 \nL 73.11786 283.364145 \nL 73.123954 282.858507 \nL 73.148332 289.390585 \nL 73.154427 289.166649 \nL 73.166615 289.424684 \nL 73.197087 289.074529 \nL 73.215371 289.236209 \nL 73.239748 288.247278 \nL 73.245843 292.474437 \nL 73.294598 291.782611 \nL 73.410392 295.976455 \nL 73.440864 295.687141 \nL 73.574941 304.090992 \nL 73.581035 304.042865 \nL 73.62979 305.794343 \nL 73.690734 306.587298 \nL 73.727301 306.467076 \nL 73.830906 304.561519 \nL 73.849189 304.574354 \nL 73.861378 304.460262 \nL 73.867472 303.754054 \nL 73.946699 306.814725 \nL 73.952794 306.845072 \nL 73.977172 306.561582 \nL 74.086871 313.766165 \nL 74.105154 312.072057 \nL 74.208759 307.81719 \nL 74.220948 307.82419 \nL 74.318458 306.667796 \nL 74.34893 306.922975 \nL 74.355025 307.01036 \nL 74.373308 306.758086 \nL 74.379402 306.763279 \nL 74.385497 303.183073 \nL 74.489102 305.93737 \nL 74.495196 306.023773 \nL 74.501291 305.180114 \nL 74.586612 305.834905 \nL 74.629273 304.480751 \nL 74.696312 305.68157 \nL 74.714595 306.052796 \nL 74.781633 305.450308 \nL 74.897427 303.941184 \nL 74.836483 305.823222 \nL 74.91571 303.962487 \nL 74.933994 303.742945 \nL 74.946182 303.876694 \nL 75.049787 299.577011 \nL 75.06807 299.67597 \nL 75.080259 299.525158 \nL 75.086354 299.536766 \nL 75.202147 302.982414 \nL 75.269186 303.508964 \nL 75.232619 302.784624 \nL 75.324036 303.088012 \nL 75.372791 301.815641 \nL 75.360602 303.26484 \nL 75.378885 302.18939 \nL 75.458113 297.767493 \nL 75.494679 299.181932 \nL 75.531245 298.904907 \nL 75.519057 299.330411 \nL 75.543434 298.963527 \nL 75.665322 291.191436 \nL 75.671417 291.242245 \nL 75.677511 291.295409 \nL 75.720172 290.71708 \nL 75.738455 290.87268 \nL 75.74455 290.817852 \nL 75.866438 286.843839 \nL 75.939571 286.473208 \nL 76.006609 286.757264 \nL 76.018798 286.724839 \nL 76.043176 286.899468 \nL 76.067553 287.655309 \nL 76.098025 286.572098 \nL 76.146781 287.217513 \nL 76.207725 286.338547 \nL 76.262574 286.64883 \nL 76.329613 286.187685 \nL 76.366179 280.956705 \nL 76.445407 281.606346 \nL 76.567295 282.324799 \nL 76.573389 282.275056 \nL 76.683088 280.435022 \nL 76.689183 280.491247 \nL 76.695277 280.788265 \nL 76.731844 277.67659 \nL 76.737938 277.730809 \nL 76.756221 277.639382 \nL 76.786693 277.679498 \nL 76.865921 279.020998 \nL 76.902487 278.72992 \nL 77.018281 278.154529 \nL 76.945148 279.056115 \nL 77.036564 278.271739 \nL 77.054847 278.413194 \nL 77.060942 278.397238 \nL 77.121886 276.850625 \nL 77.176735 277.444304 \nL 77.207208 277.100488 \nL 77.213302 278.050898 \nL 77.33519 278.998003 \nL 77.353473 278.934582 \nL 77.469267 276.844211 \nL 77.481456 276.918233 \nL 77.560683 277.673832 \nL 77.59725 280.443631 \nL 77.670382 278.398248 \nL 77.74961 278.975706 \nL 77.792271 278.634543 \nL 77.804459 278.209733 \nL 77.865404 279.428265 \nL 77.889781 279.351164 \nL 77.895876 279.403553 \nL 77.944631 279.205383 \nL 77.975103 279.206446 \nL 78.096991 278.687898 \nL 78.139652 278.81752 \nL 78.182313 274.81542 \nL 78.255446 275.209225 \nL 78.304201 275.58894 \nL 78.285918 274.94287 \nL 78.371239 275.236838 \nL 78.4139 275.213563 \nL 78.383428 275.264128 \nL 78.419995 275.232653 \nL 78.456561 276.156389 \nL 78.505316 273.698638 \nL 78.517505 273.901913 \nL 78.529694 273.819183 \nL 78.535788 274.29775 \nL 78.547977 274.099655 \nL 78.669865 278.792138 \nL 78.682054 278.760093 \nL 78.718621 278.930802 \nL 78.730809 281.898352 \nL 78.82832 281.16114 \nL 78.962397 281.378905 \nL 78.840509 281.133628 \nL 78.974586 281.242894 \nL 79.005058 279.045762 \nL 79.084285 279.882873 \nL 79.163512 280.1853 \nL 79.120851 279.789707 \nL 79.18789 279.972835 \nL 79.218362 278.215897 \nL 79.309778 278.84786 \nL 79.382911 279.356161 \nL 79.419477 278.787156 \nL 79.425572 278.746671 \nL 79.468233 278.810972 \nL 79.486516 278.805227 \nL 79.571838 280.353134 \nL 79.535271 278.623517 \nL 79.590121 278.681631 \nL 79.644971 278.566463 \nL 79.724198 279.043188 \nL 79.839992 277.809237 \nL 79.864369 277.870689 \nL 79.913124 277.691879 \nL 79.925313 277.648769 \nL 79.931408 277.686414 \nL 79.937502 277.074729 \nL 80.041107 277.776326 \nL 80.132523 278.704844 \nL 80.150806 277.843417 \nL 80.162995 277.894074 \nL 80.223939 276.260376 \nL 80.278789 276.587303 \nL 80.284883 276.611968 \nL 80.290978 276.573853 \nL 80.297072 276.576911 \nL 80.315355 275.827737 \nL 80.406771 276.142269 \nL 80.443338 276.175187 \nL 80.461621 275.976634 \nL 80.498188 273.788507 \nL 80.57132 275.29318 \nL 80.607887 275.336346 \nL 80.583509 275.147836 \nL 80.644453 275.239306 \nL 80.650548 275.659361 \nL 80.693209 275.142004 \nL 80.754153 275.187676 \nL 80.760247 275.193427 \nL 80.766342 274.71842 \nL 80.845569 276.941816 \nL 80.912607 276.516352 \nL 80.943079 277.009655 \nL 80.949174 276.985432 \nL 80.967457 276.928227 \nL 80.973551 277.091136 \nL 81.089345 275.394204 \nL 81.101534 275.427182 \nL 81.113723 275.399085 \nL 81.174667 276.00643 \nL 81.223422 275.520126 \nL 81.229516 275.556582 \nL 81.259989 275.416798 \nL 81.314838 275.441919 \nL 81.320933 275.413307 \nL 81.333121 275.719565 \nL 81.363593 275.697872 \nL 81.430632 275.875583 \nL 81.394066 275.373036 \nL 81.436726 275.470918 \nL 81.467198 275.162492 \nL 81.522048 275.565766 \nL 81.528142 275.574102 \nL 81.546426 275.496328 \nL 81.55252 275.417199 \nL 81.564709 276.11083 \nL 81.589087 275.742765 \nL 81.619559 276.669742 \nL 81.698786 275.992702 \nL 81.802391 275.009107 \nL 81.820674 275.727697 \nL 81.845052 275.850703 \nL 81.881618 274.636737 \nL 81.96694 274.785555 \nL 82.033978 275.031904 \nL 82.003506 274.7275 \nL 82.070545 274.807445 \nL 82.076639 274.671856 \nL 82.113206 275.340725 \nL 82.155866 275.286514 \nL 82.204622 275.440021 \nL 82.228999 278.482773 \nL 82.320415 278.098833 \nL 82.387454 277.846029 \nL 82.411832 278.611546 \nL 82.417926 278.596775 \nL 82.460587 278.667373 \nL 82.576381 276.300523 \nL 82.619041 276.516637 \nL 82.63123 276.411984 \nL 82.74093 275.587491 \nL 82.747024 275.615652 \nL 82.753118 275.622686 \nL 82.765307 275.56251 \nL 82.78359 275.132843 \nL 82.801874 277.111132 \nL 82.844534 276.896581 \nL 82.887195 277.085097 \nL 82.923762 276.527832 \nL 82.929856 276.557903 \nL 82.972517 276.452114 \nL 83.070028 278.250156 \nL 83.094405 278.148072 \nL 83.106594 278.15997 \nL 83.124877 278.100792 \nL 83.137066 278.136246 \nL 83.191916 277.275591 \nL 83.246765 277.549485 \nL 83.277237 277.624687 \nL 83.265049 277.464106 \nL 83.295521 277.548655 \nL 83.399126 277.003607 \nL 83.40522 277.007903 \nL 83.411314 277.652915 \nL 83.514919 277.439602 \nL 83.521014 277.315716 \nL 83.588052 278.087857 \nL 83.594147 278.087512 \nL 83.636807 278.041254 \nL 83.606335 278.103823 \nL 83.642902 278.069045 \nL 83.758696 279.870786 \nL 83.783073 279.899473 \nL 83.911056 278.670509 \nL 83.923245 278.745385 \nL 84.032944 278.161222 \nL 84.06951 278.642758 \nL 84.209682 279.012848 \nL 84.087794 278.34097 \nL 84.215776 278.889947 \nL 84.227965 278.422905 \nL 84.301098 280.449208 \nL 84.313287 280.50105 \nL 84.319381 280.473477 \nL 84.380325 280.719375 \nL 84.355948 280.327611 \nL 84.42908 280.464257 \nL 84.447364 280.300784 \nL 84.453458 280.512514 \nL 84.53878 280.399768 \nL 84.587535 280.464978 \nL 84.630196 279.986903 \nL 84.697234 279.439871 \nL 84.74599 279.560331 \nL 84.800839 280.129371 \nL 84.849595 279.431452 \nL 84.861783 279.592311 \nL 84.880067 279.30835 \nL 84.886161 279.283483 \nL 84.922727 279.417877 \nL 84.928822 279.365444 \nL 84.989766 280.911906 \nL 85.05071 280.706706 \nL 85.093371 280.784114 \nL 85.184787 280.075105 \nL 85.276203 281.601914 \nL 85.306675 281.557342 \nL 85.379808 281.623844 \nL 85.385902 281.651971 \nL 85.404186 281.548958 \nL 85.41028 281.575876 \nL 85.446847 280.901392 \nL 85.519979 281.265466 \nL 85.526074 281.185238 \nL 85.593112 281.679857 \nL 85.599207 281.669518 \nL 85.660151 282.321491 \nL 85.666245 282.319962 \nL 85.690623 282.046898 \nL 85.812511 283.26761 \nL 85.903927 282.647432 \nL 85.879549 283.296367 \nL 85.92221 282.699214 \nL 85.928305 282.263042 \nL 86.025815 282.868223 \nL 86.044098 282.837534 \nL 86.165987 283.874815 \nL 86.172081 283.899993 \nL 86.18427 283.560694 \nL 86.220836 283.344441 \nL 86.293969 283.447892 \nL 86.312252 283.480604 \nL 86.421952 285.676139 \nL 86.434141 285.658904 \nL 86.531651 286.436646 \nL 86.562123 285.74979 \nL 86.659634 285.21083 \nL 86.714483 285.59287 \nL 86.720578 285.606416 \nL 86.75105 285.122845 \nL 86.830277 285.356741 \nL 86.836371 285.347532 \nL 86.872938 285.471329 \nL 86.885127 285.444042 \nL 87.025298 286.472154 \nL 86.952165 285.34663 \nL 87.031392 286.323396 \nL 87.037487 286.341127 \nL 87.153281 285.825311 \nL 87.250791 285.806086 \nL 87.177658 285.940578 \nL 87.256886 285.826998 \nL 87.275169 285.813747 \nL 87.342207 285.851571 \nL 87.372679 284.914083 \nL 87.458001 285.161884 \nL 87.464095 285.140043 \nL 87.476284 285.713509 \nL 87.561606 284.831351 \nL 87.5677 284.844117 \nL 87.573795 284.823275 \nL 87.616456 285.602975 \nL 87.689588 285.482707 \nL 87.768816 285.322889 \nL 87.811477 285.425292 \nL 87.945554 286.335516 \nL 87.976026 286.47758 \nL 88.03697 286.340332 \nL 88.073536 285.89982 \nL 88.097914 286.413268 \nL 88.146669 286.21949 \nL 88.158858 286.247801 \nL 88.195424 285.606824 \nL 88.268557 285.817717 \nL 88.353879 287.336477 \nL 88.439201 287.04252 \nL 88.536711 285.758172 \nL 88.554994 285.804097 \nL 88.567183 285.774107 \nL 88.591561 286.022683 \nL 88.597655 286.010081 \nL 88.609844 285.981985 \nL 88.628127 286.030078 \nL 88.634222 286.290654 \nL 88.689071 285.802473 \nL 88.804865 283.621674 \nL 88.817054 283.604062 \nL 88.829243 283.883119 \nL 88.847526 283.578318 \nL 88.90847 283.649465 \nL 88.945036 279.532219 \nL 89.024264 279.865891 \nL 89.048641 279.788373 \nL 89.06083 279.831423 \nL 89.066925 280.040511 \nL 89.17053 279.965967 \nL 89.176624 279.913016 \nL 89.219285 280.25954 \nL 89.249757 280.217121 \nL 89.274134 280.371625 \nL 89.310701 280.332505 \nL 89.365551 278.533139 \nL 89.426495 278.729396 \nL 89.5301 279.748441 \nL 89.542288 279.744768 \nL 89.548383 279.74489 \nL 89.584949 279.88095 \nL 89.603232 278.559434 \nL 89.658082 278.388818 \nL 89.700743 278.51203 \nL 89.773876 278.284656 \nL 89.822631 279.199236 \nL 89.914047 278.668674 \nL 90.005463 278.190077 \nL 90.029841 278.435464 \nL 90.151729 279.820224 \nL 90.176107 279.748079 \nL 90.182201 279.736787 \nL 90.188296 279.950525 \nL 90.224862 280.135587 \nL 90.243145 279.599399 \nL 90.285806 279.62449 \nL 90.328467 279.359568 \nL 90.4016 279.483317 \nL 90.438166 279.699179 \nL 90.419883 279.466733 \nL 90.444261 279.695437 \nL 90.450355 280.245385 \nL 90.523488 279.644952 \nL 90.55396 279.695228 \nL 90.566149 279.806807 \nL 90.596621 279.907867 \nL 90.627093 279.865156 \nL 90.633187 280.139681 \nL 90.736792 279.960966 \nL 90.822114 279.732519 \nL 90.755075 280.101588 \nL 90.852586 279.784822 \nL 90.876964 279.937042 \nL 90.91353 279.86951 \nL 90.944002 277.630658 \nL 91.023229 279.232843 \nL 91.035418 279.215124 \nL 91.053701 278.629773 \nL 91.145118 278.742151 \nL 91.163401 279.13136 \nL 91.254817 278.910269 \nL 91.285289 278.402744 \nL 91.370611 278.70106 \nL 91.504688 278.018028 \nL 91.401083 278.952775 \nL 91.510782 278.020974 \nL 91.53516 278.96511 \nL 91.626576 278.793788 \nL 91.705803 278.935589 \nL 91.717992 278.071534 \nL 91.815502 278.349685 \nL 91.821597 278.333512 \nL 91.833786 278.596396 \nL 91.882541 278.674655 \nL 91.888635 278.536177 \nL 91.925202 278.539999 \nL 91.937391 278.532444 \nL 92.022712 278.073419 \nL 92.04709 278.418294 \nL 92.059279 278.446885 \nL 92.077562 278.309714 \nL 92.083656 278.309378 \nL 92.211639 277.107597 \nL 92.229922 277.153223 \nL 92.339621 279.329726 \nL 92.370093 279.255234 \nL 92.388377 279.22455 \nL 92.394471 279.241572 \nL 92.485887 278.19952 \nL 92.510265 278.296423 \nL 92.540737 278.338824 \nL 92.656531 277.455933 \nL 92.729664 278.17984 \nL 92.772324 278.159497 \nL 92.827174 280.495801 \nL 92.888118 280.272268 \nL 92.955157 280.034277 \nL 92.991723 280.207132 \nL 93.083139 280.764299 \nL 93.107517 280.731791 \nL 93.162366 280.729936 \nL 93.137989 280.764128 \nL 93.174555 280.738493 \nL 93.192838 280.878048 \nL 93.235499 280.043887 \nL 93.253783 280.054418 \nL 93.308632 280.213985 \nL 93.351293 280.128661 \nL 93.491464 279.217086 \nL 93.528031 279.579121 \nL 93.619447 279.713447 \nL 93.631636 279.697201 \nL 93.69258 279.405903 \nL 93.74743 279.464321 \nL 93.84494 280.202959 \nL 93.869318 280.041041 \nL 93.911979 280.062609 \nL 93.893695 280.018596 \nL 93.918073 280.046311 \nL 93.991206 279.809629 \nL 94.033867 279.876788 \nL 94.05215 279.864564 \nL 94.076528 280.052867 \nL 94.088716 280.204004 \nL 94.119188 280.132198 \nL 94.198416 279.501497 \nL 94.234982 279.607722 \nL 94.253265 279.614627 \nL 94.25936 279.598982 \nL 94.308115 279.091714 \nL 94.344682 279.70311 \nL 94.362965 279.680408 \nL 94.436098 280.133094 \nL 94.472664 279.867892 \nL 94.484853 279.746743 \nL 94.557986 280.262705 \nL 94.789573 281.033595 \nL 94.813951 281.599285 \nL 94.887084 280.836306 \nL 94.899273 281.05142 \nL 94.929745 281.076725 \nL 95.027255 281.54464 \nL 94.990689 280.551928 \nL 95.063822 281.466325 \nL 95.094294 281.458119 \nL 95.118671 281.523035 \nL 95.124766 281.517132 \nL 95.234465 281.859144 \nL 95.344164 281.088491 \nL 95.350259 281.104393 \nL 95.405108 281.279606 \nL 95.417297 281.304058 \nL 95.441675 281.103309 \nL 95.453864 281.117911 \nL 95.478241 280.983601 \nL 95.557469 281.135717 \nL 95.612318 282.077389 \nL 95.673262 281.989514 \nL 95.679357 281.965663 \nL 95.69764 282.082688 \nL 95.734206 282.085893 \nL 95.746395 282.378367 \nL 95.795151 281.723216 \nL 95.837811 281.967867 \nL 95.856095 281.994126 \nL 95.977983 281.411708 \nL 96.130343 281.838036 \nL 96.008455 281.326669 \nL 96.203476 281.601884 \nL 96.276609 281.469131 \nL 96.31927 281.073615 \nL 96.349742 281.974932 \nL 96.374119 281.949244 \nL 96.380214 281.962851 \nL 96.41678 281.824489 \nL 96.428969 281.823443 \nL 96.465535 281.942487 \nL 96.489913 281.781884 \nL 96.526479 280.832978 \nL 96.611801 280.997457 \nL 96.617896 280.87908 \nL 96.666651 281.421165 \nL 96.703217 281.210605 \nL 96.715406 281.566327 \nL 96.819011 281.509496 \nL 96.989654 279.84293 \nL 97.105448 279.978334 \nL 97.263903 281.755788 \nL 97.276092 281.734586 \nL 97.373602 281.785541 \nL 97.465018 281.997853 \nL 97.483301 281.827684 \nL 97.568623 281.369932 \nL 97.574718 281.372879 \nL 97.696606 280.455395 \nL 97.7027 280.54918 \nL 97.794116 280.513407 \nL 97.745361 280.513799 \nL 97.800211 280.505766 \nL 97.806305 280.494503 \nL 97.812399 280.501561 \nL 97.818494 279.866661 \nL 97.922099 280.330521 \nL 97.928193 280.350713 \nL 97.958665 280.167313 \nL 97.983043 280.177689 \nL 98.129309 279.822863 \nL 98.208536 279.807876 \nL 98.251197 280.064826 \nL 98.32433 279.978978 \nL 98.336518 279.924357 \nL 98.397463 280.233832 \nL 98.403557 280.248543 \nL 98.409651 279.651229 \nL 98.513256 279.824781 \nL 98.525445 279.849135 \nL 98.531539 279.512585 \nL 98.62905 279.844369 \nL 98.641239 280.052602 \nL 98.714372 279.310184 \nL 98.720466 279.370911 \nL 98.885015 278.817865 \nL 98.903298 278.838517 \nL 98.915487 278.817957 \nL 98.921582 278.910289 \nL 98.93377 278.909729 \nL 98.945959 279.16314 \nL 99.049564 278.99611 \nL 99.073942 279.044901 \nL 99.080036 279.035436 \nL 99.092225 278.787829 \nL 99.183641 279.142107 \nL 99.201924 279.14471 \nL 99.214113 279.105836 \nL 99.220208 279.105054 \nL 99.336001 278.789315 \nL 99.34819 278.827186 \nL 99.427417 278.687776 \nL 99.451795 278.524823 \nL 99.470078 278.809817 \nL 99.531022 278.756962 \nL 99.573683 278.619301 \nL 99.646816 278.714691 \nL 99.713855 278.854599 \nL 99.756515 278.727984 \nL 99.780893 278.64848 \nL 99.829648 277.588577 \nL 99.908876 278.227433 \nL 99.945442 278.280979 \nL 99.951536 278.166744 \nL 99.96982 278.196133 \nL 100.091708 277.787844 \nL 100.103897 277.808522 \nL 100.116085 277.864367 \nL 100.152652 277.746012 \nL 100.201407 277.804693 \nL 100.341579 277.183246 \nL 100.353767 277.257979 \nL 100.414711 277.458539 \nL 100.451278 276.943341 \nL 100.518316 277.326649 \nL 100.597544 277.905039 \nL 100.63411 277.82734 \nL 100.652393 277.882638 \nL 100.670677 277.654749 \nL 100.707243 277.623694 \nL 100.695054 277.668374 \nL 100.713337 277.633599 \nL 100.798659 278.764738 \nL 100.84132 278.627797 \nL 101.109474 278.896875 \nL 101.127757 278.645124 \nL 101.158229 278.903609 \nL 101.219173 278.746201 \nL 101.450761 279.675654 \nL 101.46295 279.323221 \nL 101.481233 279.309177 \nL 101.523894 279.424898 \nL 101.542177 279.410978 \nL 101.572649 279.728773 \nL 101.609215 279.402582 \nL 101.651876 279.618321 \nL 101.670159 279.636001 \nL 101.785953 279.52428 \nL 101.792048 279.770328 \nL 101.889558 279.518344 \nL 101.895652 279.519179 \nL 101.968785 279.510431 \nL 102.084579 278.785915 \nL 102.121146 278.815823 \nL 102.236939 279.05335 \nL 102.243034 279.05243 \nL 102.358827 278.639542 \nL 102.297883 279.127372 \nL 102.371016 278.684375 \nL 102.590415 279.083668 \nL 102.651359 279.020081 \nL 102.657453 279.010286 \nL 102.687925 279.053074 \nL 102.754964 278.475361 \nL 102.803719 278.646576 \nL 103.065779 278.1093 \nL 102.834191 278.67272 \nL 103.096251 278.16863 \nL 103.193761 278.768453 \nL 103.20595 278.406711 \nL 103.218139 278.386367 \nL 103.272989 279.225313 \nL 103.340027 278.969184 \nL 103.376593 278.82574 \nL 103.382688 278.835691 \nL 103.388782 278.393896 \nL 103.492387 278.562613 \nL 103.608181 278.344205 \nL 103.650842 278.379074 \nL 103.699597 278.428385 \nL 103.705691 278.82072 \nL 103.809296 278.703404 \nL 103.918996 278.596352 \nL 103.92509 278.496665 \nL 103.992129 278.82036 \nL 103.998223 278.810342 \nL 104.071356 279.224321 \nL 104.114017 279.151532 \nL 104.120111 279.162047 \nL 104.126206 279.150449 \nL 104.229811 278.67286 \nL 104.248094 278.676637 \nL 104.327321 278.733204 \nL 104.449209 277.356748 \nL 104.467492 277.359844 \nL 104.504059 277.640204 \nL 104.534531 277.176254 \nL 104.540625 277.18211 \nL 104.552814 277.166517 \nL 104.565003 277.438309 \nL 104.64423 277.114659 \nL 104.662513 277.148197 \nL 104.717363 277.543386 \nL 104.820968 277.323978 \nL 104.833157 277.307842 \nL 104.85144 277.336949 \nL 104.930667 277.512134 \nL 104.948951 277.452155 \nL 105.064744 277.10555 \nL 105.107405 276.958519 \nL 105.204916 277.704506 \nL 105.223199 277.612719 \nL 105.241482 277.583329 \nL 105.271954 277.654505 \nL 105.278049 277.643257 \nL 105.381654 277.935414 \nL 105.393842 277.850226 \nL 105.515731 278.063119 \nL 105.430409 277.796799 \nL 105.564486 277.922624 \nL 105.613241 277.612675 \nL 105.68028 277.659011 \nL 105.698563 277.626399 \nL 105.759507 278.131882 \nL 105.814356 278.112161 \nL 105.820451 278.123128 \nL 105.826545 278.118363 \nL 105.942339 277.616207 \nL 106.033755 277.946021 \nL 106.100794 277.887239 \nL 106.222682 277.755347 \nL 106.295815 276.777457 \nL 106.338476 276.939869 \nL 106.362853 276.92775 \nL 106.39942 277.527953 \nL 106.490836 277.30836 \nL 106.521308 277.374296 \nL 106.563969 277.323646 \nL 106.600535 277.585654 \nL 106.655385 277.060622 \nL 106.667574 277.071746 \nL 106.783367 276.76134 \nL 106.838217 276.751481 \nL 106.905255 277.151996 \nL 106.954011 276.991811 \nL 106.960105 277.002456 \nL 107.057616 276.323639 \nL 107.075899 276.337599 \nL 107.112465 276.378824 \nL 107.088088 276.37999 \nL 107.11856 276.419987 \nL 107.185598 276.894805 \nL 107.234353 276.630132 \nL 107.240448 276.342753 \nL 107.344053 276.421767 \nL 107.362336 276.41446 \nL 107.465941 275.627082 \nL 107.484224 275.860349 \nL 107.648773 275.624409 \nL 107.496413 275.893069 \nL 107.654868 275.633787 \nL 107.660962 276.08307 \nL 107.770661 276.017547 \nL 107.8377 276.046854 \nL 107.825511 275.946869 \nL 107.849889 275.985362 \nL 107.959588 275.56448 \nL 107.971777 275.565314 \nL 107.996154 275.675295 \nL 108.008343 275.633013 \nL 108.026626 275.36112 \nL 108.105854 275.666312 \nL 108.118043 275.651132 \nL 108.185081 275.60161 \nL 108.288686 274.349775 \nL 108.319158 274.456321 \nL 108.343536 274.459695 \nL 108.459329 275.183534 \nL 108.465424 275.187735 \nL 108.599501 276.125131 \nL 108.636067 276.160751 \nL 108.666539 276.501631 \nL 108.745767 276.380309 \nL 108.788427 276.362077 \nL 108.898127 277.037225 \nL 108.904221 277.0349 \nL 108.91641 277.02674 \nL 108.934693 277.273314 \nL 108.983448 276.781523 \nL 109.020015 276.854618 \nL 109.038298 276.913678 \nL 109.032204 276.670713 \nL 109.074865 276.690701 \nL 109.178469 276.483718 \nL 109.117525 276.736213 \nL 109.190658 276.652179 \nL 109.251602 276.67084 \nL 109.367396 277.394943 \nL 109.471001 277.237677 \nL 109.586795 277.672844 \nL 109.592889 277.671785 \nL 109.781816 278.07778 \nL 109.879326 278.688158 \nL 109.903704 278.675148 \nL 109.909798 278.66718 \nL 109.915893 278.6972 \nL 109.94027 278.699437 \nL 110.013403 277.522952 \nL 110.056064 277.728445 \nL 110.104819 277.738066 \nL 110.117008 277.669086 \nL 110.129197 277.693176 \nL 110.159669 277.492336 \nL 110.226708 277.948258 \nL 110.232802 277.923948 \nL 110.379068 277.92741 \nL 110.421729 277.93817 \nL 110.452201 277.404735 \nL 110.537522 277.499601 \nL 110.543617 277.495859 \nL 110.665505 276.9857 \nL 110.671599 276.994759 \nL 110.756921 276.699086 \nL 110.787393 276.733961 \nL 110.836148 276.612225 \nL 110.903187 276.669554 \nL 111.018981 277.895129 \nL 111.025075 277.888514 \nL 111.110397 278.080343 \nL 111.159152 278.042806 \nL 111.177435 278.039709 \nL 111.28104 277.668009 \nL 111.256662 278.28454 \nL 111.305418 277.715826 \nL 111.512628 277.559773 \nL 111.524816 277.571209 \nL 111.530911 277.578547 \nL 111.537005 276.977502 \nL 111.646705 277.091103 \nL 111.744215 277.151074 \nL 111.756404 277.121518 \nL 111.823442 277.025991 \nL 111.866103 277.126303 \nL 111.920953 277.051296 \nL 111.94533 277.058474 \nL 112.073313 277.062143 \nL 112.250051 277.004604 \nL 112.329278 276.601273 \nL 112.390222 276.662837 \nL 112.432883 276.592132 \nL 112.530394 276.646158 \nL 112.573054 276.615034 \nL 112.579149 276.623978 \nL 112.640093 276.812325 \nL 112.646187 276.603006 \nL 112.688848 276.601627 \nL 112.865586 276.657883 \nL 112.944813 276.456802 \nL 112.963097 276.468199 \nL 113.017946 276.938703 \nL 113.07889 276.91123 \nL 113.176401 276.933041 \nL 113.182495 276.924972 \nL 113.194684 277.334333 \nL 113.298289 277.2414 \nL 113.505499 277.265718 \nL 113.590821 277.52883 \nL 113.621293 277.418239 \nL 113.791936 277.494053 \nL 113.877258 277.388886 \nL 113.895541 277.462006 \nL 113.913824 277.793856 \nL 113.993051 277.260678 \nL 114.041807 277.238691 \nL 114.11494 276.618751 \nL 114.1576 276.634161 \nL 114.188072 276.684817 \nL 114.2673 276.508055 \nL 114.285583 276.674832 \nL 114.297772 275.857803 \nL 114.36481 276.297043 \nL 114.529359 276.087661 \nL 114.535454 275.733483 \nL 114.639059 275.996886 \nL 114.687814 276.055019 \nL 114.693908 275.954332 \nL 114.700003 275.954608 \nL 114.736569 275.109856 \nL 114.815796 275.217887 \nL 114.87674 275.151011 \nL 114.925496 275.203099 \nL 114.974251 274.604615 \nL 115.04129 274.676322 \nL 115.047384 274.681073 \nL 115.053478 274.649393 \nL 115.065667 274.648064 \nL 115.132706 274.168455 \nL 115.157083 274.757657 \nL 115.175366 274.742898 \nL 115.199744 274.752754 \nL 115.29116 275.509803 \nL 115.315538 275.458571 \nL 115.321632 275.345228 \nL 115.352104 275.642311 \nL 115.419143 275.503804 \nL 115.486181 275.592969 \nL 115.528842 275.491239 \nL 115.595881 275.032132 \nL 115.675108 275.087079 \nL 115.699486 275.233879 \nL 115.717769 274.946855 \nL 115.778713 275.096316 \nL 115.864035 274.813861 \nL 115.888412 274.867876 \nL 115.906695 274.981726 \nL 115.998111 274.845066 \nL 116.004206 274.838385 \nL 116.028584 274.922816 \nL 116.052961 274.89986 \nL 116.101716 275.195705 \nL 116.113905 274.699934 \nL 116.156566 274.828674 \nL 116.180944 274.85135 \nL 116.241888 275.059216 \nL 116.284549 274.791833 \nL 116.363776 274.701473 \nL 116.400342 274.722784 \nL 116.412531 274.73369 \nL 116.430814 274.412245 \nL 116.516136 274.93293 \nL 116.857423 275.245748 \nL 116.875706 275.20341 \nL 116.924461 274.967025 \nL 117.009783 274.542604 \nL 117.058538 274.628709 \nL 117.064633 274.635928 \nL 117.180427 273.943382 \nL 117.19871 273.974974 \nL 117.223087 273.967195 \nL 117.229182 274.047884 \nL 117.241371 273.744327 \nL 117.338881 274.006675 \nL 117.357164 273.950041 \nL 117.430297 274.026102 \nL 117.515619 274.638894 \nL 117.546091 274.636617 \nL 117.771584 274.565372 \nL 117.869095 274.807386 \nL 117.887378 274.782512 \nL 117.942227 274.811575 \nL 118.094588 275.265631 \nL 118.155532 275.288476 \nL 118.161626 275.189146 \nL 118.198193 275.308042 \nL 118.283514 275.145947 \nL 118.441969 275.293793 \nL 118.448063 275.291489 \nL 118.533385 275.125504 \nL 118.539479 275.070534 \nL 118.588235 275.638482 \nL 118.606518 275.645057 \nL 118.618707 275.517726 \nL 118.685745 275.465588 \nL 118.697934 275.567476 \nL 118.801539 275.758745 \nL 118.838105 275.718781 \nL 118.923427 275.938254 \nL 118.929522 275.679381 \nL 118.947805 275.699826 \nL 118.966088 275.719138 \nL 119.002654 275.374208 \nL 119.081882 275.406565 \nL 119.100165 275.383982 \nL 119.112354 275.399955 \nL 119.234242 276.073865 \nL 119.380508 276.053379 \nL 119.386602 276.061277 \nL 119.392696 276.067823 \nL 119.404885 276.047466 \nL 119.484113 275.504174 \nL 119.520679 275.601669 \nL 119.569434 275.625369 \nL 119.551151 275.640285 \nL 119.575529 275.630752 \nL 119.581623 275.795538 \nL 119.66085 275.564304 \nL 119.685228 275.625875 \nL 119.7157 275.529196 \nL 119.764455 275.818326 \nL 119.782739 275.776908 \nL 119.788833 275.785005 \nL 119.801022 275.632207 \nL 119.807116 275.634552 \nL 119.837588 275.63853 \nL 119.892438 275.775523 \nL 119.947288 275.639607 \nL 119.971665 275.518736 \nL 119.989948 275.675497 \nL 120.032609 275.682631 \nL 120.117931 275.699212 \nL 120.142309 275.669977 \nL 120.312952 275.559776 \nL 120.404368 275.294998 \nL 120.440935 275.31158 \nL 120.477501 275.379751 \nL 120.520162 275.31154 \nL 120.550634 275.116102 \nL 120.635956 275.151065 \nL 120.843165 275.494786 \nL 120.84926 275.455646 \nL 120.934582 275.456156 \nL 120.977242 275.845296 \nL 121.044281 275.650045 \nL 121.080847 275.710704 \nL 121.086942 275.592782 \nL 121.099131 275.606384 \nL 121.190547 275.539569 \nL 121.123508 275.66165 \nL 121.202736 275.645598 \nL 121.379473 275.898011 \nL 121.446512 275.869462 \nL 121.550117 276.852043 \nL 121.562306 276.847683 \nL 121.659816 276.685229 \nL 121.678099 276.700137 \nL 121.763421 276.577432 \nL 121.806082 276.279019 \nL 121.848743 276.64537 \nL 121.952348 276.648164 \nL 122.055953 276.135361 \nL 122.068141 276.142114 \nL 122.263162 276.25093 \nL 122.348484 275.907056 \nL 122.385051 276.055244 \nL 122.415523 276.01264 \nL 122.519128 276.052091 \nL 122.531316 276.002104 \nL 122.567883 276.036168 \nL 122.586166 276.493639 \nL 122.683677 276.317285 \nL 122.793376 276.234317 \nL 122.85432 275.937435 \nL 122.90917 275.952375 \nL 122.976208 275.997877 \nL 122.988397 275.910185 \nL 123.043247 276.03958 \nL 123.104191 275.829638 \nL 123.219984 275.879412 \nL 123.250456 275.819566 \nL 123.4211 276.262763 \nL 123.457666 276.77087 \nL 123.536894 276.662223 \nL 123.567366 276.744879 \nL 123.658782 276.697083 \nL 123.72582 276.73585 \nL 123.750198 277.091205 \nL 123.83552 276.919574 \nL 123.847708 276.892827 \nL 123.902558 277.005037 \nL 123.926936 277.004689 \nL 123.963502 276.961841 \nL 124.079296 277.458082 \nL 124.08539 277.451928 \nL 124.134146 277.341575 \nL 124.182901 276.971874 \nL 124.268223 276.985812 \nL 124.487621 276.977941 \nL 124.536376 276.781958 \nL 124.591226 276.953801 \nL 124.65217 277.224936 \nL 124.713114 277.133014 \nL 124.792342 276.932164 \nL 124.798436 277.372256 \nL 124.810625 277.306172 \nL 124.828908 277.299426 \nL 124.932513 277.627044 \nL 124.944702 277.617119 \nL 124.950796 277.606019 \nL 124.981268 277.709114 \nL 125.072684 278.244371 \nL 125.097062 278.110189 \nL 125.1641 278.524847 \nL 125.182384 278.898508 \nL 125.2738 278.761412 \nL 125.474915 279.17523 \nL 125.52367 279.194096 \nL 125.511482 279.116018 \nL 125.572426 279.173189 \nL 125.645559 279.081487 \nL 125.688219 279.08708 \nL 125.694314 279.130564 \nL 125.718692 279.055868 \nL 125.797919 279.096431 \nL 125.804013 279.090598 \nL 125.810108 279.174132 \nL 125.828391 279.181134 \nL 125.925901 279.38537 \nL 125.931996 279.379505 \nL 125.93809 279.118375 \nL 126.029506 279.771971 \nL 126.181866 279.840658 \nL 126.315943 280.306045 \nL 126.334227 280.262732 \nL 126.358604 280.256203 \nL 126.382982 280.174896 \nL 126.389076 280.175172 \nL 126.456115 280.100871 \nL 126.50487 280.133633 \nL 126.687702 280.065703 \nL 126.779118 280.46444 \nL 126.803496 280.461181 \nL 126.870535 280.551087 \nL 126.888818 280.453084 \nL 126.901007 280.102834 \nL 126.998517 280.295816 \nL 127.047272 280.381631 \nL 127.096028 280.347111 \nL 127.163066 280.38182 \nL 127.16916 280.267162 \nL 127.187444 280.283396 \nL 127.236199 280.114596 \nL 127.205727 280.320975 \nL 127.339804 280.28468 \nL 127.345898 280.290835 \nL 127.443409 279.871386 \nL 127.461692 279.891327 \nL 127.492164 279.891886 \nL 127.607958 280.211257 \nL 127.69328 280.168436 \nL 127.802979 279.586664 \nL 127.815168 279.608974 \nL 127.900489 279.631215 \nL 127.912678 279.662258 \nL 127.949245 279.681616 \nL 127.955339 279.534852 \nL 127.979717 279.33229 \nL 128.046755 279.551712 \nL 128.065038 279.520088 \nL 128.186927 279.320512 \nL 128.083322 279.55708 \nL 128.193021 279.327445 \nL 128.211304 279.05109 \nL 128.284437 279.338823 \nL 128.30272 279.331047 \nL 128.473364 279.213786 \nL 128.485553 279.26072 \nL 128.576969 279.30561 \nL 128.589157 279.303475 \nL 128.637913 279.196335 \nL 128.698857 279.257984 \nL 128.729329 279.258282 \nL 128.857311 279.593875 \nL 129.235165 279.12636 \nL 129.271731 279.21321 \nL 129.28392 279.04027 \nL 129.375336 279.281033 \nL 129.417997 279.241192 \nL 129.430186 279.158688 \nL 129.503319 279.358709 \nL 129.515507 279.348474 \nL 129.673962 279.455828 \nL 129.893361 279.684274 \nL 129.929927 279.616296 \nL 129.936022 279.939229 \nL 130.027438 279.519958 \nL 130.039626 279.569944 \nL 130.082287 279.627862 \nL 130.088382 279.689896 \nL 130.167609 279.586359 \nL 130.185892 279.587273 \nL 130.252931 279.061016 \nL 130.216364 279.673629 \nL 130.26512 279.139359 \nL 130.271214 278.912541 \nL 130.380913 278.955912 \nL 130.484518 278.63771 \nL 130.557651 278.728112 \nL 130.563745 278.731365 \nL 130.56984 278.623557 \nL 130.575934 278.625737 \nL 130.710011 278.603658 \nL 130.7222 278.602815 \nL 130.728294 278.52211 \nL 130.77705 278.52022 \nL 130.807522 278.516824 \nL 130.917221 278.329019 \nL 130.923316 278.349836 \nL 130.978165 278.242765 \nL 130.996448 278.257521 \nL 131.002543 278.598691 \nL 131.106148 278.383107 \nL 131.240225 278.457574 \nL 131.264602 278.493051 \nL 131.325546 278.379675 \nL 131.337735 278.460738 \nL 131.356018 278.351716 \nL 131.416963 278.471393 \nL 131.435246 278.448695 \nL 131.490095 278.689823 \nL 131.55104 278.687155 \nL 131.569323 278.700737 \nL 131.575417 278.569291 \nL 131.581512 278.571824 \nL 131.624172 278.600338 \nL 131.630267 278.657372 \nL 131.642456 278.664983 \nL 131.666833 278.627161 \nL 131.691211 278.648881 \nL 131.709494 278.265387 \nL 131.825288 278.302076 \nL 131.867949 278.423097 \nL 131.874043 278.214992 \nL 131.886232 278.227349 \nL 131.892326 278.187048 \nL 131.95327 278.342659 \nL 131.971554 278.333929 \nL 132.069064 278.797302 \nL 132.105631 278.768548 \nL 132.221424 278.931302 \nL 132.27018 278.874801 \nL 132.343312 278.293074 \nL 132.440823 278.3407 \nL 132.641938 278.53586 \nL 132.67241 278.452822 \nL 132.702883 278.497204 \nL 132.800393 278.199576 \nL 132.812582 278.059109 \nL 132.843054 278.216427 \nL 132.910092 278.196138 \nL 132.983225 278.233438 \nL 133.025886 278.160401 \nL 133.178246 278.183307 \nL 133.19653 278.138205 \nL 133.354984 277.995583 \nL 133.464683 278.029038 \nL 133.580477 277.762508 \nL 133.677988 278.065874 \nL 133.690177 277.8506 \nL 133.964425 277.897279 \nL 133.988803 278.152601 \nL 134.074124 277.954476 \nL 134.27524 277.899074 \nL 134.586054 278.314296 \nL 134.293523 277.775718 \nL 134.610432 278.241038 \nL 134.653093 277.856364 \nL 134.726226 277.869586 \nL 134.738415 277.825063 \nL 134.805453 277.893998 \nL 134.902964 277.600499 \nL 134.927341 277.619454 \nL 134.970002 277.53714 \nL 134.988285 277.769219 \nL 135.079701 277.625378 \nL 135.116268 277.651601 \nL 135.134551 277.593166 \nL 135.268628 276.974381 \nL 135.286911 276.962903 \nL 135.335667 276.456321 \nL 135.402705 276.508596 \nL 135.433177 276.492841 \nL 135.555065 275.381174 \nL 135.616009 275.391198 \nL 135.725709 275.177635 \nL 135.731803 275.210123 \nL 135.86588 274.999003 \nL 135.871974 274.875218 \nL 135.975579 274.953298 \nL 135.999957 274.953817 \nL 136.024335 275.006122 \nL 136.030429 275.012068 \nL 136.036523 275.165009 \nL 136.079184 274.836894 \nL 136.134034 274.845581 \nL 136.219356 274.899796 \nL 136.158412 274.903619 \nL 136.22545 274.908909 \nL 136.341244 275.126631 \nL 136.359527 275.116974 \nL 136.481415 274.593347 \nL 136.517982 274.689678 \nL 136.560643 275.041703 \nL 136.633775 274.83551 \nL 136.725192 274.870117 \nL 136.645964 274.789209 \nL 136.755664 274.858403 \nL 136.816608 274.637595 \nL 136.871457 274.72659 \nL 137.212744 274.664253 \nL 137.237122 274.679001 \nL 137.340727 275.031958 \nL 137.352915 275.018341 \nL 137.474804 275.029895 \nL 137.480898 275.127752 \nL 137.547937 274.80477 \nL 137.584503 275.023236 \nL 137.742958 275.266974 \nL 137.767335 275.241519 \nL 137.791713 275.248274 \nL 137.797807 275.286164 \nL 137.828279 275.585761 \nL 137.901412 275.239623 \nL 137.907507 275.244747 \nL 137.968451 275.184417 \nL 138.017206 275.244858 \nL 138.07815 275.278427 \nL 138.120811 275.193937 \nL 138.212227 274.803664 \nL 138.236605 274.870536 \nL 138.309737 275.004908 \nL 138.346304 274.915765 \nL 138.498664 274.906796 \nL 138.614458 275.041902 \nL 138.657119 275.032033 \nL 138.669308 275.720942 \nL 138.772912 275.692652 \nL 138.839951 275.68683 \nL 138.846045 275.910434 \nL 138.94965 275.813941 \nL 139.047161 275.923964 \nL 138.967933 275.734149 \nL 139.071538 275.881891 \nL 139.089822 275.881644 \nL 139.199521 276.132415 \nL 139.205615 276.126895 \nL 139.41892 275.960587 \nL 139.46158 276.033707 \nL 139.552997 276.099627 \nL 139.577374 276.079431 \nL 139.607846 276.017719 \nL 139.662696 275.975185 \nL 139.717546 275.990651 \nL 139.888189 276.06912 \nL 139.912567 276.152852 \nL 140.016172 275.5338 \nL 140.02836 275.570871 \nL 140.119777 275.621595 \nL 140.156343 275.185318 \nL 140.23557 275.379481 \nL 140.247759 275.374944 \nL 140.308703 275.780805 \nL 140.357458 275.692072 \nL 140.473252 275.537444 \nL 140.479347 275.54238 \nL 140.607329 275.645599 \nL 140.656084 275.359135 \nL 140.717028 275.431035 \nL 140.796256 275.760326 \nL 140.832822 275.740218 \nL 140.960805 275.733207 \nL 140.972994 275.67485 \nL 140.985182 275.465176 \nL 141.06441 276.017045 \nL 141.070504 275.959191 \nL 141.082693 276.132216 \nL 141.131448 275.656432 \nL 141.168015 275.73599 \nL 141.582434 276.077278 \nL 141.588529 276.047701 \nL 141.716511 276.330381 \nL 141.771361 276.334906 \nL 141.789644 276.30466 \nL 141.820116 276.1148 \nL 141.88106 276.385951 \nL 141.893249 276.37297 \nL 142.021232 276.424112 \nL 142.069987 276.572824 \nL 142.130931 276.524032 \nL 142.149214 276.445823 \nL 142.24063 276.4723 \nL 142.271102 276.505799 \nL 142.277197 276.399318 \nL 142.338141 276.413535 \nL 142.478312 276.329997 \nL 142.496595 276.414681 \nL 142.50269 276.420344 \nL 142.520973 276.354861 \nL 142.527067 276.356061 \nL 142.575823 276.279521 \nL 142.581917 276.570374 \nL 142.618484 276.566015 \nL 142.843977 276.718874 \nL 142.856165 276.979931 \nL 142.953676 276.721513 \nL 143.118225 276.746605 \nL 143.124319 276.725853 \nL 143.16698 276.704696 \nL 143.258396 276.960264 \nL 143.282774 276.917846 \nL 143.288868 276.923112 \nL 143.294963 276.915731 \nL 143.416851 276.428711 \nL 143.441229 276.451688 \nL 143.447323 276.11719 \nL 143.550928 276.240285 \nL 143.5814 276.315704 \nL 143.666722 276.081552 \nL 143.697194 276.127109 \nL 143.715477 276.128975 \nL 143.800799 275.582107 \nL 143.831271 275.656491 \nL 143.934876 275.568211 \nL 143.947064 275.577609 \nL 144.001914 275.593581 \nL 144.117708 275.865885 \nL 144.172558 275.851896 \nL 144.178652 275.645709 \nL 144.24569 275.905204 \nL 144.282257 275.8945 \nL 144.306634 275.971309 \nL 144.367579 275.939807 \nL 144.477278 276.544718 \nL 144.489467 276.473001 \nL 144.586977 276.473563 \nL 144.678393 276.80452 \nL 144.702771 276.789763 \nL 144.71496 276.805032 \nL 144.721054 276.747431 \nL 144.794187 276.733576 \nL 144.940453 276.80259 \nL 145.07453 277.303293 \nL 145.086719 277.270669 \nL 145.373156 277.137634 \nL 145.37925 277.288405 \nL 145.446289 276.495479 \nL 145.452383 276.498201 \nL 145.549894 276.437089 \nL 145.610838 276.506629 \nL 145.690065 276.559126 \nL 145.696159 276.622719 \nL 145.787576 276.416301 \nL 145.933841 276.405084 \nL 146.043541 276.497929 \nL 145.994785 276.264071 \nL 146.055729 276.492063 \nL 146.348261 276.595462 \nL 146.476244 276.380925 \nL 146.482338 276.345518 \nL 146.494527 276.53101 \nL 146.561565 276.52715 \nL 146.823625 276.482581 \nL 146.841908 276.537921 \nL 146.848002 276.539432 \nL 146.939419 276.683099 \nL 146.963796 276.670679 \nL 147.280705 276.614743 \nL 147.323366 276.633523 \nL 147.451349 276.407198 \nL 147.689031 276.650291 \nL 147.469632 276.3464 \nL 147.74388 276.507494 \nL 147.804824 276.344576 \nL 147.859674 276.362057 \nL 147.981562 276.30509 \nL 148.018129 276.369759 \nL 148.024223 276.375112 \nL 148.097356 276.042023 \nL 148.140017 276.135652 \nL 148.243622 276.101924 \nL 148.414265 275.321486 \nL 148.432548 275.433997 \nL 148.51787 275.270172 \nL 148.536153 275.209212 \nL 148.639758 275.413111 \nL 148.743363 275.632451 \nL 148.761646 275.59796 \nL 148.810402 275.102444 \nL 148.87744 275.169756 \nL 148.889629 275.164889 \nL 148.981045 275.451574 \nL 149.005423 275.450038 \nL 149.054178 275.458186 \nL 149.115122 275.176544 \nL 149.163877 275.40642 \nL 149.334521 275.244622 \nL 149.34671 275.482106 \nL 149.44422 275.272181 \nL 149.761129 275.184942 \nL 149.773318 275.245562 \nL 149.779412 275.293043 \nL 149.85864 275.278014 \nL 149.974433 275.035298 \nL 150.004906 275.020531 \nL 150.071944 274.862684 \nL 150.114605 274.935068 \nL 150.132888 274.948815 \nL 150.151171 275.194874 \nL 150.242587 275.119902 \nL 150.486364 275.093845 \nL 150.535119 275.19241 \nL 150.596063 275.122271 \nL 150.748423 275.103673 \nL 150.8825 274.79807 \nL 150.925161 274.79438 \nL 150.961728 275.13187 \nL 151.03486 275.021486 \nL 151.065332 274.97354 \nL 151.150654 274.992774 \nL 151.162843 274.954998 \nL 151.193315 275.054972 \nL 151.248165 275.052198 \nL 151.339581 275.100295 \nL 151.44928 275.43415 \nL 151.461469 275.318777 \nL 151.796661 275.35323 \nL 151.912455 275.413926 \nL 151.918549 275.411643 \nL 152.046532 275.415772 \nL 152.064815 275.533336 \nL 152.162326 275.463901 \nL 152.479235 275.350377 \nL 152.515801 275.538682 \nL 152.588934 275.459571 \nL 152.619406 275.44982 \nL 152.674256 275.518631 \nL 152.68035 275.51902 \nL 152.79005 275.561513 \nL 152.911938 275.008941 \nL 153.052109 275.01539 \nL 153.113053 275.144881 \nL 153.173997 275.135177 \nL 153.490907 275.246047 \nL 153.503095 275.293107 \nL 153.539662 275.294343 \nL 153.545756 275.021682 \nL 153.649361 275.160478 \nL 153.777344 275.451966 \nL 153.887043 275.402119 \nL 153.899232 275.492329 \nL 154.100347 275.617906 \nL 154.161291 276.233158 \nL 154.216141 276.177799 \nL 154.362407 276.16991 \nL 154.459917 275.891006 \nL 154.478201 275.921697 \nL 154.630561 275.802622 \nL 154.74026 275.996781 \nL 154.746355 275.964876 \nL 154.89262 275.830793 \nL 154.776827 276.006131 \nL 154.923092 275.856959 \nL 155.038886 275.903512 \nL 155.044981 275.890271 \nL 155.172963 275.825862 \nL 155.093736 275.945402 \nL 155.179058 275.82884 \nL 155.276568 275.734943 \nL 155.349701 276.051913 \nL 155.392362 275.946691 \nL 155.410645 275.990352 \nL 155.422834 275.703379 \nL 155.471589 275.735465 \nL 155.544722 275.509976 \nL 155.483778 275.744278 \nL 155.61176 275.522284 \nL 155.630044 275.531031 \nL 155.636138 275.431227 \nL 155.66661 275.466591 \nL 155.751932 275.298374 \nL 155.922575 275.311445 \nL 155.92867 275.327081 \nL 155.959142 275.244159 \nL 156.020086 275.255955 \nL 156.044463 275.307489 \nL 156.160257 274.87427 \nL 156.184635 274.436693 \nL 156.276051 274.479177 \nL 156.434505 274.47419 \nL 156.568582 274.397147 \nL 156.95253 274.389967 \nL 156.983002 274.376491 \nL 157.092701 274.118451 \nL 157.098796 274.122891 \nL 157.318195 274.157208 \nL 157.440083 274.199439 \nL 157.555876 274.238099 \nL 157.568065 274.23167 \nL 157.769181 274.401364 \nL 157.787464 274.365686 \nL 157.799653 274.19519 \nL 157.897163 274.237188 \nL 157.921541 274.262853 \nL 157.945919 274.099054 \nL 157.970296 274.115357 \nL 158.037335 274.179272 \nL 158.104373 274.066631 \nL 158.165317 274.164969 \nL 158.214072 274.378862 \nL 158.281111 274.362848 \nL 158.396905 274.421516 \nL 158.439566 274.336291 \nL 158.683342 274.310127 \nL 159.085573 274.377359 \nL 159.134328 274.325842 \nL 159.195272 274.395575 \nL 159.311066 274.288776 \nL 159.420765 274.020442 \nL 159.42686 274.021083 \nL 159.57922 274.059069 \nL 159.640164 274.236885 \nL 159.695014 274.231373 \nL 159.82909 274.234535 \nL 159.93879 274.47756 \nL 159.950979 274.455615 \nL 159.963167 274.418615 \nL 159.981451 274.560667 \nL 160.030206 274.562904 \nL 160.048489 274.672527 \nL 160.139905 274.621322 \nL 160.24351 274.640604 \nL 160.255699 274.600144 \nL 160.292265 274.546814 \nL 160.365398 274.603864 \nL 160.389776 274.63237 \nL 160.401965 274.50848 \nL 160.560419 274.288221 \nL 160.75544 274.285001 \nL 161.084538 274.390558 \nL 161.090633 274.334931 \nL 161.133294 274.150098 \nL 161.188143 274.390317 \nL 161.32222 274.261078 \nL 161.419731 274.047471 \nL 161.438014 274.083434 \nL 161.517241 274.60003 \nL 161.553808 274.425605 \nL 161.712262 274.777058 \nL 161.785395 274.731063 \nL 161.901189 274.414418 \nL 161.919472 274.419463 \nL 162.090116 274.425341 \nL 162.187626 274.662684 \nL 162.224193 274.606227 \nL 162.614235 274.514941 \nL 162.632518 274.220586 \nL 162.723934 274.351255 \nL 162.839728 274.390927 \nL 162.882389 274.47152 \nL 162.973805 274.425316 \nL 162.979899 274.476046 \nL 163.071315 274.345972 \nL 163.266336 274.196488 \nL 163.315092 274.049268 \nL 163.376036 274.115361 \nL 163.406508 274.267225 \nL 163.491829 274.210171 \nL 163.607623 273.992545 \nL 163.699039 273.93732 \nL 163.820927 273.899976 \nL 163.991571 274.290083 \nL 164.095176 274.281424 \nL 164.10127 274.231114 \nL 164.588823 274.065189 \nL 164.594917 274.046415 \nL 164.607106 274.106777 \nL 164.649767 274.104818 \nL 164.789938 274.707126 \nL 164.881354 274.60003 \nL 164.917921 274.642053 \nL 164.936204 274.644254 \nL 164.960582 275.068915 \nL 165.051998 274.831934 \nL 165.064187 274.840387 \nL 165.192169 274.801078 \nL 165.210452 274.861129 \nL 165.612683 274.717576 \nL 165.655344 274.707786 \nL 165.716288 274.539708 \nL 165.771138 274.576565 \nL 165.838176 274.540852 \nL 165.844271 274.345711 \nL 165.947876 274.481957 \nL 166.088047 274.603817 \nL 166.094141 274.602008 \nL 166.10633 274.600978 \nL 166.112425 274.718996 \nL 166.21603 274.672653 \nL 166.283068 274.695249 \nL 166.392767 274.868474 \nL 166.398862 274.864425 \nL 166.526844 274.601586 \nL 166.545128 274.606497 \nL 166.599977 274.668373 \nL 166.630449 274.553079 \nL 166.648733 274.562223 \nL 166.709677 274.393151 \nL 166.752337 274.67211 \nL 166.898603 274.610668 \nL 166.910792 274.609166 \nL 166.959547 274.4624 \nL 167.026586 274.491505 \nL 167.343495 274.580653 \nL 167.349589 274.676893 \nL 167.441005 274.545395 \nL 167.4471 274.545631 \nL 167.642121 274.341876 \nL 167.715254 274.208433 \nL 167.757915 274.21856 \nL 167.800576 274.250667 \nL 167.849331 274.124183 \nL 168.093107 274.094852 \nL 168.208901 273.880681 \nL 168.22109 273.933709 \nL 168.349072 273.889246 \nL 168.361261 274.095028 \nL 168.37345 273.871258 \nL 168.458772 273.92915 \nL 168.879286 273.894638 \nL 168.891474 273.962303 \nL 168.970702 273.946747 \nL 169.043835 274.043473 \nL 169.086496 274.037529 \nL 169.1901 274.050504 \nL 169.305894 273.591173 \nL 169.318083 273.596041 \nL 169.464349 273.658567 \nL 169.622803 273.725761 \nL 169.665464 273.263084 \nL 169.738597 273.294048 \nL 170.006751 273.275909 \nL 170.037223 273.372683 \nL 170.11645 273.288296 \nL 170.238339 273.304319 \nL 170.354132 273.105513 \nL 170.360227 273.107741 \nL 170.506492 272.969081 \nL 170.628381 272.71908 \nL 170.640569 272.634701 \nL 170.725891 272.663166 \nL 170.731986 272.566137 \nL 170.768552 272.996493 \nL 170.817307 272.935948 \nL 170.823402 272.969443 \nL 170.829496 272.907525 \nL 170.920912 272.912869 \nL 170.987951 272.910733 \nL 171.000139 272.830612 \nL 171.347521 272.613197 \nL 171.432842 272.447146 \nL 171.463314 272.453245 \nL 171.573014 272.374358 \nL 171.615675 272.230489 \nL 171.688808 272.264998 \nL 171.828979 272.289941 \nL 171.835073 272.302491 \nL 171.950867 272.463814 \nL 172.066661 272.399365 \nL 172.072755 272.403176 \nL 172.188549 272.522805 \nL 172.420136 272.932677 \nL 172.426231 272.929823 \nL 172.596874 272.952788 \nL 172.602969 272.910113 \nL 172.663913 272.896575 \nL 172.670007 272.953838 \nL 172.706574 272.940195 \nL 172.810179 272.935019 \nL 172.822367 272.880963 \nL 172.938161 272.816393 \nL 172.901595 272.958599 \nL 172.944255 272.820427 \nL 172.999105 272.844276 \nL 173.011294 272.790816 \nL 173.096616 272.710234 \nL 173.127088 272.723486 \nL 173.236787 272.790035 \nL 173.248976 272.758064 \nL 173.303826 272.273709 \nL 173.36477 272.364747 \nL 173.66949 272.463002 \nL 173.687773 272.386621 \nL 173.82185 272.204429 \nL 173.736528 272.450818 \nL 173.827945 272.207097 \nL 173.864511 272.278213 \nL 173.97421 272.395813 \nL 173.998588 272.284818 \nL 174.08391 272.3219 \nL 174.382536 272.220797 \nL 174.504424 272.357773 \nL 174.516613 272.353195 \nL 174.522707 272.459076 \nL 174.534896 272.430104 \nL 174.553179 272.472984 \nL 174.577557 272.376855 \nL 174.638501 272.403002 \nL 174.772578 272.392603 \nL 174.90056 272.676677 \nL 175.101676 272.80941 \nL 175.211375 272.993049 \nL 175.21747 272.982641 \nL 175.327169 273.010605 \nL 175.333263 273.020563 \nL 175.36983 273.025329 \nL 175.46734 273.223729 \nL 175.485623 273.19946 \nL 175.631889 273.307928 \nL 175.637984 273.395293 \nL 175.7294 273.17526 \nL 175.808627 273.14515 \nL 175.93661 273.458898 \nL 176.101159 273.378876 \nL 176.119442 273.18437 \nL 176.216952 273.195067 \nL 176.351029 273.22996 \nL 176.472917 273.262779 \nL 176.515578 273.377287 \nL 176.54605 273.471488 \nL 176.594806 273.344916 \nL 176.710599 273.143836 \nL 176.722788 273.085991 \nL 176.802015 273.062319 \nL 176.936092 273.119343 \nL 176.978753 273.140972 \nL 177.01532 272.824248 \nL 177.094547 272.889019 \nL 177.326135 272.973138 \nL 177.350512 273.15451 \nL 177.435834 273.02979 \nL 177.588194 273.032235 \nL 177.600383 272.92608 \nL 177.697893 272.962933 \nL 178.380467 273.265157 \nL 178.429222 273.248848 \nL 178.490166 273.279418 \nL 178.636432 273.362179 \nL 178.679093 273.229342 \nL 178.746131 273.311591 \nL 178.75832 273.350208 \nL 178.86802 273.345876 \nL 178.953341 273.443094 \nL 178.977719 273.356487 \nL 179.026474 273.401686 \nL 179.050852 273.578307 \nL 179.136174 273.446806 \nL 179.233684 273.419641 \nL 179.264156 273.481667 \nL 179.300723 273.631732 \nL 179.37995 273.569684 \nL 179.459177 273.504291 \nL 179.562782 273.202142 \nL 179.599349 273.209636 \nL 179.843125 273.213051 \nL 179.958919 273.443076 \nL 180.519604 273.325753 \nL 180.635398 273.446235 \nL 180.641492 273.442704 \nL 180.757286 273.382246 \nL 180.806041 273.222788 \nL 180.87308 273.310839 \nL 181.104667 273.360157 \nL 181.110762 273.467172 \nL 181.214367 273.432437 \nL 181.226555 273.391559 \nL 181.275311 273.594712 \nL 181.287499 273.596358 \nL 181.561748 273.487468 \nL 181.665353 273.620367 \nL 181.683636 273.611049 \nL 181.866468 273.6677 \nL 182.073678 273.763967 \nL 182.213849 273.76789 \nL 182.329643 273.626171 \nL 182.585608 273.547843 \nL 182.658741 273.193134 \nL 182.701402 273.215998 \nL 182.774535 273.215706 \nL 182.872045 273.342239 \nL 182.890329 273.317467 \nL 182.963461 273.447501 \nL 183.0305 273.654893 \nL 183.079255 273.647786 \nL 183.310843 273.698387 \nL 183.329126 273.603007 \nL 183.377881 273.786728 \nL 183.414448 273.716147 \nL 183.499769 273.979659 \nL 183.518053 273.662148 \nL 183.524147 273.696202 \nL 183.664318 273.669895 \nL 183.761829 273.625283 \nL 183.822773 273.43852 \nL 183.871528 273.547247 \nL 183.981228 273.50713 \nL 183.987322 273.624549 \nL 184.090927 273.55243 \nL 184.456591 273.530631 \nL 184.462686 273.592375 \nL 184.554102 273.634483 \nL 184.578479 273.414459 \nL 184.663801 273.57242 \nL 185.096504 273.434205 \nL 185.181826 273.565148 \nL 185.224487 273.525422 \nL 185.254959 273.52632 \nL 185.370752 273.680027 \nL 185.437791 273.700008 \nL 185.553585 273.941612 \nL 185.894872 274.050624 \nL 185.919249 273.996801 \nL 185.943627 273.989875 \nL 185.949721 274.052622 \nL 185.974099 274.057347 \nL 186.089893 273.731242 \nL 186.358046 273.686942 \nL 186.47384 274.560595 \nL 186.705428 274.618282 \nL 186.821221 275.043601 \nL 186.863882 275.08122 \nL 186.88826 274.890942 \nL 187.058903 274.90558 \nL 187.186886 274.670557 \nL 187.241736 274.735857 \nL 187.339246 274.48824 \nL 187.357529 274.495548 \nL 187.375813 274.411117 \nL 187.418473 274.413105 \nL 187.45504 274.338834 \nL 187.515984 274.436692 \nL 187.522078 274.435894 \nL 187.656155 274.427517 \nL 187.771949 274.227155 \nL 188.241218 274.418277 \nL 188.363107 274.667518 \nL 188.448428 274.670385 \nL 188.527656 274.000199 \nL 188.570316 274.018101 \nL 188.814093 273.867651 \nL 188.923792 274.07131 \nL 188.929886 274.057041 \nL 188.942075 274.051892 \nL 188.94817 274.132719 \nL 189.009114 274.115371 \nL 189.063963 274.118335 \nL 189.070058 273.992916 \nL 189.076152 273.992745 \nL 189.10053 273.976976 \nL 189.131002 274.091668 \nL 189.143191 274.092098 \nL 189.173663 274.084516 \nL 189.258984 273.740574 \nL 189.289456 273.74808 \nL 189.508855 273.705574 \nL 189.51495 273.703019 \nL 189.521044 273.812632 \nL 189.533233 273.813355 \nL 189.795292 273.82961 \nL 189.807481 273.86617 \nL 189.984219 273.869791 \nL 190.12439 273.926177 \nL 190.209712 273.742111 \nL 190.258467 273.75619 \nL 190.544904 273.97748 \nL 190.611943 273.811222 \nL 190.703359 273.695307 \nL 190.727737 273.697859 \nL 190.831342 273.747323 \nL 190.837436 273.806354 \nL 190.867908 273.712221 \nL 190.941041 273.764101 \nL 190.959324 273.714846 \nL 191.044646 273.689311 \nL 191.221384 273.680989 \nL 191.282328 273.942656 \nL 191.343272 273.762641 \nL 191.367649 273.79613 \nL 191.373744 273.861001 \nL 191.385933 273.863927 \nL 191.611426 273.898832 \nL 191.775975 273.497459 \nL 191.818636 273.503992 \nL 191.928335 273.670294 \nL 191.934429 273.668539 \nL 192.306188 273.661494 \nL 192.373227 273.585718 \nL 192.421982 273.596452 \nL 192.775458 273.550102 \nL 192.781552 273.531344 \nL 192.812024 273.61736 \nL 192.866874 273.614806 \nL 193.080178 273.709083 \nL 193.086272 273.834755 \nL 193.153311 273.672295 \nL 193.189877 273.727166 \nL 193.409276 273.67601 \nL 193.433654 274.044228 \nL 193.518975 273.95329 \nL 193.531164 273.998909 \nL 193.616486 273.999888 \nL 193.646958 274.054807 \nL 193.707902 273.886067 \nL 194.372192 273.688974 \nL 194.463608 273.91957 \nL 194.494081 273.913485 \nL 194.914595 273.710361 \nL 194.920689 273.665917 \nL 194.999916 273.845047 \nL 195.012105 273.812206 \nL 195.292448 273.780778 \nL 195.298542 273.894343 \nL 195.329014 274.012501 \nL 195.396053 273.773022 \nL 195.469186 273.826943 \nL 195.493563 273.706425 \nL 195.499658 273.624489 \nL 195.572791 274.096594 \nL 195.804378 273.923123 \nL 195.816567 274.080868 \nL 195.822661 274.134124 \nL 195.926266 274.092716 \nL 196.657595 273.920236 \nL 196.70635 274.086388 \nL 196.773389 274.043353 \nL 196.937938 274.074939 \nL 196.944032 274.049708 \nL 197.059826 274.017102 \nL 197.139053 274.114246 \nL 197.17562 274.093408 \nL 197.23047 274.130076 \nL 197.27313 274.107674 \nL 197.38283 273.905354 \nL 197.388924 273.905842 \nL 197.980082 274.035853 \nL 198.089781 273.994817 \nL 198.095875 273.996974 \nL 198.266519 274.051705 \nL 198.333557 274.234195 \nL 198.388407 274.150755 \nL 198.607806 274.072406 \nL 198.723599 274.060365 \nL 198.796732 274.242805 \nL 198.845488 274.222825 \nL 198.97347 274.165884 \nL 199.12583 274.18176 \nL 199.223341 274.288767 \nL 199.241624 274.284882 \nL 199.521967 274.521762 \nL 199.674327 275.09507 \nL 199.796215 274.914605 \nL 199.826687 275.034861 \nL 199.948575 275.044783 \nL 199.960764 275.075169 \nL 200.125313 275.02132 \nL 200.235012 275.090839 \nL 200.362995 274.922772 \nL 200.527544 274.948672 \nL 200.704282 274.939256 \nL 200.716471 274.877773 \nL 200.728659 274.992586 \nL 200.813981 274.927355 \nL 201.136985 274.973929 \nL 201.18574 274.880532 \nL 201.252778 274.920692 \nL 202.05724 274.632548 \nL 202.179128 274.687406 \nL 202.453377 274.529179 \nL 202.575265 274.596633 \nL 202.721531 274.558877 \nL 202.819041 274.442506 \nL 202.843419 274.456645 \nL 202.898269 274.491027 \nL 203.001873 274.565808 \nL 203.014062 274.557819 \nL 203.373632 274.561 \nL 203.525993 274.712654 \nL 203.538181 274.697188 \nL 203.586937 274.712871 \nL 203.684447 274.34864 \nL 203.70273 274.364247 \nL 203.879468 274.3365 \nL 203.983073 274.644177 \nL 204.001356 274.642853 \nL 204.031828 274.626674 \nL 204.037923 274.861976 \nL 204.147622 274.813636 \nL 204.299982 274.751794 \nL 204.452342 274.854214 \nL 204.574231 274.870036 \nL 204.580325 274.842265 \nL 204.586419 274.705819 \nL 204.690024 274.760614 \nL 205.006934 274.875609 \nL 205.019122 274.946942 \nL 205.092255 274.785309 \nL 205.110538 274.937171 \nL 205.226332 274.611886 \nL 205.238521 274.5531 \nL 205.384787 274.565212 \nL 205.524958 274.616859 \nL 205.561525 274.621354 \nL 205.677318 274.38921 \nL 205.683413 274.389523 \nL 205.726074 274.327317 \nL 205.750451 274.516901 \nL 205.780923 274.501831 \nL 205.866245 274.584258 \nL 205.884528 274.631596 \nL 205.890623 274.534301 \nL 205.96985 274.547694 \nL 206.140493 274.589258 \nL 206.414742 274.527919 \nL 206.420836 274.43959 \nL 206.518347 274.573797 \nL 206.530535 274.580644 \nL 206.53663 274.470732 \nL 206.548819 274.469817 \nL 206.609763 274.467765 \nL 206.567102 274.522035 \nL 206.621952 274.500384 \nL 206.74384 274.715751 \nL 206.780406 274.416128 \nL 206.865728 274.500026 \nL 207.438602 274.626845 \nL 207.493452 274.635125 \nL 207.609246 274.271545 \nL 207.779889 274.237815 \nL 207.834739 274.150643 \nL 207.889588 274.252265 \nL 208.310102 274.334215 \nL 208.431991 274.287149 \nL 208.523407 274.293369 \nL 208.602634 274.145874 \nL 208.6392 274.180966 \nL 208.724522 274.234043 \nL 208.828127 274.352981 \nL 208.840316 274.349154 \nL 208.943921 274.208582 \nL 208.992676 274.300211 \nL 209.090187 274.399351 \nL 209.10847 274.378015 \nL 209.120659 274.306326 \nL 209.175508 274.600051 \nL 209.187697 274.599712 \nL 209.273019 274.624007 \nL 209.309585 274.808484 \nL 209.388813 274.790489 \nL 209.41319 274.695093 \nL 209.455851 274.605706 \nL 209.52289 274.635371 \nL 209.650872 274.629831 \nL 209.742288 274.926731 \nL 209.766666 274.920747 \nL 209.851988 274.907758 \nL 209.937309 274.663458 \nL 209.967781 274.665807 \nL 210.004348 274.630111 \nL 210.022631 274.230474 \nL 210.114047 274.33576 \nL 210.376107 274.22638 \nL 210.443145 274.156622 \nL 210.4919 274.186602 \nL 210.54675 274.214234 \nL 210.552844 274.304739 \nL 210.6016 273.96978 \nL 210.638166 273.999338 \nL 210.857565 274.017884 \nL 210.924603 274.021766 \nL 210.955075 273.967135 \nL 211.332929 273.966544 \nL 211.387778 273.934074 \nL 211.460911 274.003345 \nL 211.899708 273.951073 \nL 212.015502 274.112355 \nL 212.119107 274.007612 \nL 212.125202 273.988894 \nL 212.131296 274.012821 \nL 212.155674 274.0119 \nL 212.271467 274.414668 \nL 212.503055 274.338119 \nL 212.521338 274.364203 \nL 212.545716 274.296826 \nL 212.588377 274.271789 \nL 212.698076 274.324475 \nL 212.771209 274.390394 \nL 212.81387 274.381317 \nL 213.014985 274.259918 \nL 213.11859 274.224722 \nL 213.136873 274.260336 \nL 213.246573 274.388159 \nL 213.258761 274.383638 \nL 213.709747 274.463553 \nL 213.758503 274.806788 \nL 213.825541 274.783212 \nL 213.977901 274.642173 \nL 214.105884 274.43771 \nL 214.288716 274.519441 \nL 214.325283 274.593366 \nL 214.34966 274.500711 \nL 214.398416 274.526295 \nL 214.843307 274.464686 \nL 214.965195 274.616018 \nL 214.989573 274.604922 \nL 215.233349 274.625938 \nL 215.269916 274.791913 \nL 215.349143 274.745579 \nL 215.525881 274.775135 \nL 215.629486 275.091813 \nL 215.641675 275.07143 \nL 215.928112 274.926187 \nL 215.958584 274.813281 \nL 216.037811 274.862205 \nL 216.385192 274.87506 \nL 216.574119 274.892448 \nL 216.580213 274.846191 \nL 216.866651 274.741635 \nL 216.964161 275.011401 \nL 216.988539 274.999397 \nL 217.067766 274.991786 \nL 217.153088 275.197579 \nL 217.18356 275.192019 \nL 217.268881 275.241292 \nL 217.305448 275.208454 \nL 217.799095 275.209641 \nL 217.811284 275.226623 \nL 217.853945 275.378426 \nL 217.890511 275.179362 \nL 217.920983 275.324223 \nL 218.036777 275.261797 \nL 218.146476 275.160671 \nL 218.158665 275.163528 \nL 218.371969 275.135269 \nL 218.499952 274.748225 \nL 218.804672 274.750636 \nL 218.92656 274.832147 \nL 219.005788 274.835118 \nL 219.024071 275.003838 \nL 219.115487 274.958053 \nL 219.200809 274.99077 \nL 219.225186 275.074112 \nL 219.28613 274.980424 \nL 219.310508 275.008381 \nL 219.377547 275.111081 \nL 219.468963 275.249764 \nL 219.49334 275.228962 \nL 219.96261 275.197548 \nL 220.249047 275.259837 \nL 220.401407 275.374871 \nL 220.431879 275.355595 \nL 220.657372 275.352544 \nL 220.736599 275.430004 \nL 220.83411 275.090872 \nL 220.852393 275.167574 \nL 220.98647 275.177586 \nL 221.029131 275.388388 \nL 221.102264 275.327245 \nL 221.303379 275.26885 \nL 221.516684 275.324014 \nL 222.107841 275.383562 \nL 222.223635 275.093766 \nL 222.229729 275.095291 \nL 222.497883 275.173196 \nL 222.820887 275.205258 \nL 223.076852 275.052698 \nL 223.204834 275.247157 \nL 223.210929 275.24366 \nL 223.674104 275.24718 \nL 223.716765 275.23222 \nL 223.722859 275.422932 \nL 223.832558 275.406139 \nL 224.039768 275.342497 \nL 224.045863 275.378113 \nL 224.265261 275.36505 \nL 224.374961 275.366672 \nL 224.478566 275.307082 \nL 224.618737 275.017306 \nL 224.624831 275.031129 \nL 224.862513 274.976762 \nL 224.880797 275.025263 \nL 224.953929 275.140501 \nL 224.99659 275.131377 \nL 225.008779 275.131354 \nL 225.069723 275.276804 \nL 225.124573 275.264705 \nL 225.319594 275.250578 \nL 225.325688 275.273994 \nL 225.441482 275.392965 \nL 225.612125 275.353294 \nL 225.734014 275.242471 \nL 225.740108 275.244442 \nL 225.965601 275.246184 \nL 226.014356 275.392173 \nL 226.0753 275.294463 \nL 226.136244 275.36484 \nL 226.191094 275.351686 \nL 226.386115 275.332116 \nL 226.428776 275.450593 \nL 226.501909 275.438418 \nL 227.800018 275.275162 \nL 227.897528 274.98599 \nL 227.915811 274.991999 \nL 227.970661 274.982991 \nL 227.976756 275.035884 \nL 228.019416 275.02701 \nL 228.153493 275.078104 \nL 228.263193 275.063844 \nL 228.275382 274.922017 \nL 228.378986 274.938457 \nL 228.70199 275.073429 \nL 228.787312 275.211453 \nL 228.817784 275.207701 \nL 229.06156 275.255824 \nL 229.140787 275.360708 \nL 229.177354 275.315128 \nL 229.591774 275.184911 \nL 229.658812 275.412564 \nL 229.707567 275.408393 \nL 229.823361 275.490867 \nL 229.926966 275.567063 \nL 229.939155 275.555153 \nL 230.243875 275.56071 \nL 230.451085 275.55304 \nL 230.463274 275.64652 \nL 230.560784 275.609055 \nL 231.127564 275.53357 \nL 231.243358 275.559418 \nL 231.249452 275.556137 \nL 231.468851 275.54144 \nL 232.35254 275.629132 \nL 232.370823 275.603674 \nL 232.376918 275.695318 \nL 232.456145 275.663257 \nL 232.693827 275.758446 \nL 232.840093 276.01044 \nL 232.858376 275.904145 \nL 233.12653 275.997501 \nL 233.236229 276.179121 \nL 233.248418 276.167606 \nL 233.388589 276.290303 \nL 233.412967 276.26199 \nL 233.516572 276.087361 \nL 233.54095 276.094388 \nL 233.687215 276.057182 \nL 233.784726 275.899456 \nL 233.742065 276.107184 \nL 233.815198 275.910906 \nL 233.906614 275.864052 \nL 233.912708 275.829775 \nL 234.241806 275.724306 \nL 234.296656 275.507268 \nL 234.3576 275.542385 \nL 234.381978 275.512937 \nL 234.4673 275.541709 \nL 234.473394 275.629079 \nL 234.516055 275.521246 \nL 234.576999 275.545525 \nL 234.973135 275.526503 \nL 235.149873 275.630239 \nL 235.265667 275.804682 \nL 235.290045 275.798741 \nL 236.283433 276.171239 \nL 236.295622 276.097712 \nL 236.454076 275.997603 \nL 236.606437 276.083735 \nL 236.764891 276.221686 \nL 236.770986 276.219436 \nL 236.783174 276.178981 \nL 237.026951 276.208212 \nL 237.100084 276.100563 \nL 237.142744 276.116882 \nL 237.715619 276.051765 \nL 238.056906 276.055311 \nL 238.312871 276.035228 \nL 238.465231 275.938982 \nL 238.635874 275.698673 \nL 238.68463 275.770048 \nL 238.812612 275.876335 \nL 239.964455 275.741319 \nL 240.043682 275.654339 \nL 240.080249 275.66095 \nL 240.415441 275.714572 \nL 240.543424 275.793565 \nL 240.695784 275.863378 \nL 240.817672 275.858988 \nL 240.927372 275.756297 \nL 240.933466 275.757971 \nL 241.067543 275.771651 \nL 241.079732 275.624787 \nL 241.183337 275.648592 \nL 241.207714 275.652622 \nL 241.274753 275.467569 \nL 241.317414 275.641349 \nL 241.841533 275.719256 \nL 242.170631 276.066691 \nL 242.530201 276.175044 \nL 242.609428 276.275199 \nL 242.627711 276.035229 \nL 242.773977 276.127087 \nL 242.993376 276.223866 \nL 243.042131 276.098704 \nL 243.109169 276.142146 \nL 244.011142 276.163099 \nL 244.126935 276.129239 \nL 244.571827 276.147551 \nL 244.663243 276.880846 \nL 244.687621 276.793477 \nL 245.260495 276.58802 \nL 245.376289 277.010997 \nL 246.095429 277.163711 \nL 246.180751 277.15509 \nL 246.205128 277.240501 \nL 246.65002 277.273308 \nL 246.656115 277.340321 \nL 246.75972 277.314683 \nL 247.210706 277.270205 \nL 247.235083 277.242899 \nL 247.399632 277.382135 \nL 248.118772 277.062457 \nL 248.228472 276.958416 \nL 248.234566 276.960654 \nL 248.289416 276.987607 \nL 248.399115 277.242286 \nL 248.40521 277.224894 \nL 248.496626 277.242327 \nL 248.551475 277.320635 \nL 248.606325 277.288466 \nL 248.716024 277.364032 \nL 248.831818 277.521813 \nL 248.844007 277.520022 \nL 249.587525 277.483505 \nL 250.940483 277.685547 \nL 250.946578 277.608915 \nL 251.050182 277.671799 \nL 251.233015 277.72125 \nL 251.348808 277.74661 \nL 251.391469 277.6814 \nL 251.464602 277.720947 \nL 251.775417 277.716418 \nL 252.110609 277.509061 \nL 252.116704 277.484111 \nL 252.134987 277.52121 \nL 252.220309 277.512981 \nL 252.653012 277.479654 \nL 253.390435 277.534785 \nL 253.506229 277.397688 \nL 253.518418 277.404302 \nL 253.628117 277.334987 \nL 253.750005 277.186995 \nL 253.95112 277.191319 \nL 253.987687 277.499911 \nL 254.066914 277.492708 \nL 254.170519 277.661924 \nL 254.176614 277.660815 \nL 254.21318 277.528951 \nL 254.286313 277.645572 \nL 254.670261 277.743317 \nL 254.77996 277.494841 \nL 254.786054 277.495225 \nL 254.914037 277.573242 \nL 255.176096 277.677572 \nL 255.243135 277.625459 \nL 255.279701 277.715492 \nL 255.285796 277.654147 \nL 255.816009 277.779183 \nL 255.864764 277.831411 \nL 255.925708 277.777644 \nL 255.974464 277.778036 \nL 256.071974 277.679962 \nL 256.090257 277.684407 \nL 256.260901 277.721304 \nL 256.364506 277.661741 \nL 256.3706 277.739137 \nL 256.638754 277.80287 \nL 256.663132 277.760802 \nL 256.748454 277.789683 \nL 256.943475 277.843054 \nL 256.986135 277.704168 \nL 257.053174 277.852526 \nL 257.248195 277.823137 \nL 257.254289 277.744434 \nL 257.363989 277.7564 \nL 257.473688 277.640294 \nL 257.479782 277.547898 \nL 257.528538 277.761713 \nL 257.577293 277.75664 \nL 257.619954 277.616453 \nL 257.699181 277.629367 \nL 257.930769 277.768865 \nL 257.991713 277.953391 \nL 258.040468 277.867298 \nL 258.570681 277.815201 \nL 258.686475 277.974328 \nL 258.826646 278.014435 \nL 258.94244 278.062232 \nL 259.180122 277.959399 \nL 259.30201 277.629509 \nL 259.308105 277.631478 \nL 259.838318 277.664537 \nL 260.063811 277.544252 \nL 260.179605 277.764235 \nL 260.216171 277.751744 \nL 260.362437 277.842237 \nL 260.423381 277.885187 \nL 260.478231 277.851703 \nL 260.819518 277.862687 \nL 260.935311 277.975646 \nL 261.392392 277.918288 \nL 261.465525 277.735151 \nL 261.508186 277.80317 \nL 262.014022 277.546719 \nL 262.117627 277.436805 \nL 262.129815 277.439851 \nL 262.861144 277.550914 \nL 263.117109 277.539448 \nL 263.165865 277.476491 \nL 263.226809 277.52526 \nL 263.616851 277.583727 \nL 263.689984 277.66432 \nL 263.732645 277.642794 \nL 263.860627 277.615802 \nL 263.976421 277.548273 \nL 264.116592 277.483566 \nL 264.122687 277.456945 \nL 264.208008 277.485812 \nL 264.323802 277.644577 \nL 264.329896 277.626197 \nL 264.421313 277.592062 \nL 264.439596 277.627531 \nL 264.658994 277.541681 \nL 264.86011 277.486232 \nL 265.341568 277.522727 \nL 265.682855 277.613359 \nL 265.768177 277.812716 \nL 265.798649 277.769736 \nL 266.176502 277.788129 \nL 266.304485 277.910263 \nL 266.334957 277.869514 \nL 266.420278 277.909216 \nL 266.950492 277.984584 \nL 267.078474 277.963654 \nL 267.16989 277.869966 \nL 267.194268 277.885746 \nL 267.310062 277.97705 \nL 267.316156 278.063996 \nL 267.425856 278.052698 \nL 267.547744 278.065822 \nL 267.438044 278.066689 \nL 267.553838 278.073034 \nL 267.608688 278.172967 \nL 267.669632 278.133461 \nL 268.114524 278.05316 \nL 268.157184 278.125787 \nL 268.169373 277.976753 \nL 268.218128 277.983713 \nL 268.248601 277.978876 \nL 268.272978 277.868562 \nL 268.3583 277.940629 \nL 269.406538 278.116081 \nL 269.418727 278.134617 \nL 269.43701 278.135184 \nL 269.546709 278.465962 \nL 269.552804 278.46499 \nL 269.930657 278.34194 \nL 269.936751 278.575646 \nL 270.046451 278.539723 \nL 270.168339 278.645077 \nL 270.198811 278.729125 \nL 270.302416 278.635407 \nL 270.479154 278.695575 \nL 271.228766 278.856023 \nL 271.332371 278.748831 \nL 271.34456 278.752114 \nL 271.771168 278.820286 \nL 271.880867 278.748897 \nL 271.886962 278.750857 \nL 271.996661 278.67017 \nL 272.100266 278.578888 \nL 272.118549 278.584618 \nL 272.380609 278.542218 \nL 272.490308 278.424859 \nL 272.496403 278.426704 \nL 272.691424 278.338372 \nL 273.678718 278.219463 \nL 273.8067 277.890485 \nL 273.910305 277.972951 \nL 274.038288 278.299937 \nL 274.452707 278.266755 \nL 274.470991 278.3213 \nL 274.568501 278.304227 \nL 274.672106 278.328314 \nL 274.684295 278.320764 \nL 274.812277 278.397514 \nL 274.94026 278.459869 \nL 275.220603 278.431353 \nL 275.24498 278.622907 \nL 275.336396 278.565095 \nL 275.647211 278.625807 \nL 275.781288 279.040603 \nL 277.548666 279.108874 \nL 277.603516 279.014333 \nL 277.66446 279.032662 \nL 278.279995 279.274691 \nL 278.389695 279.490697 \nL 278.395789 279.489394 \nL 278.523772 279.540198 \nL 278.651754 279.453242 \nL 278.670037 279.618218 \nL 279.474499 279.688685 \nL 279.626859 279.602983 \nL 279.797503 279.660691 \nL 279.852352 279.754612 \nL 279.907202 279.698019 \nL 280.065657 279.707704 \nL 280.102223 279.598462 \nL 280.18145 279.632975 \nL 280.38866 279.586431 \nL 280.589776 279.533212 \nL 280.70557 279.683449 \nL 280.870119 279.702389 \nL 280.985912 279.808256 \nL 281.144367 279.81049 \nL 281.168744 279.872638 \nL 281.241877 279.700508 \nL 281.613636 280.007037 \nL 282.552175 279.922336 \nL 282.576553 279.97758 \nL 282.594836 279.898957 \nL 282.661874 279.906583 \nL 282.923934 280.000028 \nL 283.118955 279.943009 \nL 283.502903 279.928605 \nL 283.618696 280.013682 \nL 283.752773 280.072131 \nL 283.868567 280.144493 \nL 283.874661 280.143281 \nL 283.959983 280.121667 \nL 283.978266 280.153092 \nL 284.09406 280.203548 \nL 284.331742 280.219188 \nL 284.447536 279.928936 \nL 284.581613 279.969282 \nL 285.044788 280.02946 \nL 285.142298 280.077603 \nL 285.160581 280.052163 \nL 285.361697 280.147953 \nL 285.404358 280.310565 \nL 285.477491 280.293491 \nL 285.965043 280.482662 \nL 286.038176 280.390118 \nL 286.074743 280.420053 \nL 286.093026 280.352979 \nL 286.239292 280.364496 \nL 286.245386 280.314079 \nL 286.348991 280.366359 \nL 286.422124 280.278145 \nL 286.45869 280.397925 \nL 286.836544 280.317706 \nL 286.964526 280.204266 \nL 286.988904 280.213049 \nL 286.994998 280.211335 \nL 287.001093 279.978789 \nL 287.104697 280.146267 \nL 287.500834 280.173681 \nL 287.610533 280.09216 \nL 287.671477 279.937351 \nL 287.726327 279.940111 \nL 288.36624 279.978072 \nL 288.384523 280.103854 \nL 288.482034 280.093281 \nL 288.82332 279.967005 \nL 288.835509 279.937234 \nL 288.908642 280.018663 \nL 288.920831 280.018173 \nL 289.024436 280.092251 \nL 289.128041 279.854755 \nL 289.14023 279.856433 \nL 289.987352 279.797445 \nL 289.993447 279.884223 \nL 290.072674 279.952721 \nL 290.103146 279.902109 \nL 290.279884 279.912857 \nL 290.340828 280.052281 \nL 290.395678 280.04469 \nL 290.840569 280.008336 \nL 291.096534 280.042451 \nL 291.340311 280.110298 \nL 291.492671 280.016737 \nL 291.535332 279.954874 \nL 291.541426 280.030361 \nL 291.60237 280.029717 \nL 291.821769 279.966781 \nL 291.943657 279.945596 \nL 292.096017 279.984244 \nL 292.199622 280.110926 \nL 292.217905 280.056437 \nL 292.419021 280.097632 \nL 292.467776 279.972965 \nL 292.534815 279.97714 \nL 292.985801 279.951283 \nL 293.0955 279.858635 \nL 293.113783 279.890502 \nL 293.375843 279.928616 \nL 294.17421 280.063077 \nL 294.290004 279.999174 \nL 294.753179 280.040697 \nL 294.868973 280.315132 \nL 294.881161 280.314243 \nL 295.15541 280.251744 \nL 295.161504 280.187234 \nL 295.185882 280.317816 \nL 295.259015 280.311197 \nL 295.417469 280.254629 \nL 295.527169 280.219412 \nL 295.539357 280.225016 \nL 296.014721 280.238101 \nL 296.087854 280.252087 \nL 296.106137 280.324135 \nL 296.465707 280.318883 \nL 296.59369 280.326915 \nL 296.715578 280.36342 \nL 297.069054 280.417973 \nL 297.184847 280.517124 \nL 297.21532 280.471444 \nL 297.270169 280.452024 \nL 297.318924 280.424506 \nL 297.379869 280.459112 \nL 297.538323 280.459712 \nL 297.678495 280.403813 \nL 297.587078 280.509609 \nL 297.684589 280.418889 \nL 298.604844 280.278698 \nL 298.745016 280.537021 \nL 299.043642 280.56249 \nL 299.080208 280.531592 \nL 299.177719 280.572792 \nL 299.391023 280.487378 \nL 299.421495 280.414226 \nL 299.506817 280.425639 \nL 299.701838 280.370372 \nL 299.878576 280.28237 \nL 300.012653 280.390118 \nL 300.03703 280.37109 \nL 300.292995 280.341964 \nL 300.360034 280.263534 \nL 300.408789 280.297999 \nL 301.066985 280.296307 \nL 301.146212 280.135612 \nL 301.188873 280.157703 \nL 301.310761 280.118302 \nL 301.987241 280.032281 \nL 302.115223 280.247856 \nL 302.45651 280.32754 \nL 302.462604 280.336088 \nL 302.51136 280.254527 \nL 302.535737 280.252552 \nL 302.858741 280.212096 \nL 302.864835 280.151901 \nL 302.96844 280.207351 \nL 303.529126 280.12665 \nL 303.657108 280.09111 \nL 304.607836 280.166782 \nL 306.186287 279.898983 \nL 306.210665 279.969357 \nL 306.295987 279.933128 \nL 306.344742 279.820939 \nL 306.478819 279.84641 \nL 306.594613 279.919822 \nL 306.631179 279.936887 \nL 306.704312 279.907457 \nL 306.820106 279.880757 \nL 306.911522 279.710677 \nL 306.9359 279.713584 \nL 307.795211 279.707696 \nL 307.929288 279.54271 \nL 308.057271 279.527128 \nL 308.173064 279.612667 \nL 308.721561 279.553346 \nL 308.776411 279.377545 \nL 308.837355 279.407407 \nL 309.203019 279.381449 \nL 309.331002 279.458857 \nL 309.434607 279.561517 \nL 309.45289 279.557328 \nL 309.995292 279.552395 \nL 310.111086 279.406774 \nL 310.312201 279.436672 \nL 310.336579 279.479113 \nL 310.354862 279.430323 \nL 310.427995 279.465732 \nL 310.964303 279.572879 \nL 310.988681 279.520822 \nL 311.067908 279.519952 \nL 311.464044 279.397889 \nL 311.470139 279.518473 \nL 311.55546 279.511938 \nL 311.567649 279.473338 \nL 311.573744 279.479718 \nL 311.951597 279.462856 \nL 312.067391 279.652604 \nL 312.213656 279.598417 \nL 312.335545 279.534467 \nL 312.804814 279.619479 \nL 312.95108 279.728272 \nL 313.3655 279.719123 \nL 313.584898 279.643853 \nL 313.658031 279.688111 \nL 313.700692 279.669244 \nL 313.907902 279.724264 \nL 314.048073 279.884496 \nL 314.651419 279.91351 \nL 316.485836 279.841279 \nL 316.60163 279.829432 \nL 317.223259 279.860519 \nL 317.229354 279.819479 \nL 317.637679 279.778642 \nL 317.729095 279.859997 \nL 317.753473 279.846558 \nL 318.021627 279.915176 \nL 318.052099 279.970705 \nL 318.131326 279.932907 \nL 318.423858 279.892009 \nL 318.460424 279.784965 \nL 318.539652 279.80737 \nL 318.777333 279.732123 \nL 318.789522 279.915189 \nL 318.887033 279.828051 \nL 319.008921 279.918281 \nL 319.191753 279.939712 \nL 319.53304 279.930923 \nL 319.648834 279.805825 \nL 320.239991 279.823033 \nL 320.477673 279.71096 \nL 320.599561 279.656882 \nL 320.806771 279.629193 \nL 321.477156 279.61132 \nL 321.544194 279.578575 \nL 321.653894 279.831245 \nL 321.659988 279.829725 \nL 322.379128 279.95482 \nL 322.476639 279.820238 \nL 322.494922 279.826062 \nL 322.970286 279.867969 \nL 322.988569 279.753469 \nL 323.08608 279.77038 \nL 323.323761 279.841596 \nL 323.829597 279.804333 \nL 324.158695 279.833842 \nL 324.908307 279.786444 \nL 325.011912 279.769118 \nL 325.024101 279.775229 \nL 325.694486 279.723196 \nL 325.81028 279.641594 \nL 326.316116 279.629849 \nL 326.401437 279.476881 \nL 326.431909 279.483792 \nL 326.572081 279.489426 \nL 327.736112 279.675355 \nL 327.748301 279.624633 \nL 327.797057 279.693707 \nL 327.845812 279.691906 \nL 328.162721 279.76198 \nL 328.205382 279.796295 \nL 328.27242 279.748217 \nL 328.577141 279.702699 \nL 329.235337 279.705287 \nL 329.259714 279.728547 \nL 329.345036 279.685589 \nL 330.63705 279.935059 \nL 330.722372 279.726362 \nL 330.752844 279.740638 \nL 331.063659 279.81122 \nL 331.191642 279.841471 \nL 331.727949 279.714108 \nL 331.807177 279.687449 \nL 331.837649 279.716174 \nL 332.172841 279.662014 \nL 332.203313 279.619941 \nL 332.233785 279.696051 \nL 332.28254 279.660589 \nL 332.623827 279.632123 \nL 333.361251 279.563286 \nL 333.976786 279.560592 \nL 334.183996 279.564246 \nL 334.372922 279.687015 \nL 335.11644 279.610374 \nL 335.226139 279.621175 \nL 335.250517 279.597477 \nL 335.823391 279.587943 \nL 335.920902 279.635459 \nL 335.939185 279.624021 \nL 336.792402 279.628664 \nL 336.841157 279.654264 \nL 336.902101 279.618697 \nL 337.389654 279.682717 \nL 337.505448 279.720231 \nL 337.877207 279.663116 \nL 338.108794 279.739886 \nL 338.236777 279.794373 \nL 338.724329 279.807979 \nL 338.730424 279.84762 \nL 338.754801 279.707257 \nL 338.815745 279.704834 \nL 339.193599 279.665661 \nL 339.236259 279.593132 \nL 339.309392 279.612069 \nL 339.796945 279.573423 \nL 339.827417 279.661685 \nL 339.912739 279.652122 \nL 340.77205 279.539947 \nL 340.857372 279.590012 \nL 340.887844 279.563055 \nL 341.125526 279.583603 \nL 341.192564 279.671112 \nL 341.235225 279.621258 \nL 341.680117 279.688357 \nL 341.747155 279.463726 \nL 341.795911 279.571187 \nL 341.966554 279.535459 \nL 342.137197 279.489369 \nL 343.636422 279.574351 \nL 343.75831 279.564164 \nL 344.06303 279.503627 \nL 344.178824 279.410296 \nL 344.428695 279.347433 \nL 344.648093 279.381171 \nL 344.769982 279.617535 \nL 344.788265 279.613774 \nL 345.568349 279.5961 \nL 345.720709 279.583021 \nL 345.873069 279.62955 \nL 346.768947 279.603439 \nL 346.884741 279.636926 \nL 347.518559 279.594338 \nL 347.628259 279.429634 \nL 347.634353 279.434539 \nL 348.079245 279.487332 \nL 348.201133 279.532297 \nL 348.627742 279.520424 \nL 349.450487 279.437524 \nL 349.46877 279.327951 \nL 349.56628 279.338223 \nL 350.742501 279.117015 \nL 350.748595 279.179835 \nL 350.785162 279.20302 \nL 350.797351 279.101417 \nL 350.840011 279.103982 \nL 351.614001 279.293464 \nL 351.735889 279.475836 \nL 351.912627 279.530805 \nL 352.028421 279.516724 \nL 352.284386 279.456181 \nL 352.40018 279.420765 \nL 352.710995 279.464206 \nL 352.796316 279.434801 \nL 352.826788 279.444235 \nL 353.32653 279.529745 \nL 353.332624 279.556769 \nL 353.411851 279.482007 \nL 353.430135 279.489977 \nL 353.850649 279.449328 \nL 354.149275 279.495917 \nL 354.283352 279.545544 \nL 354.399145 279.53271 \nL 354.575883 279.58128 \nL 354.661205 279.726553 \nL 354.697771 279.719518 \nL 354.81966 279.743648 \nL 354.831848 279.767274 \nL 355.22189 279.729962 \nL 355.301118 279.598247 \nL 355.337684 279.608267 \nL 355.831331 279.595176 \nL 355.84352 279.664497 \nL 355.892275 279.579075 \nL 355.941031 279.589567 \nL 356.221373 279.540949 \nL 356.337167 279.498381 \nL 356.623604 279.507652 \nL 356.629699 279.44806 \nL 356.660171 279.430064 \nL 356.666265 279.510719 \nL 356.702831 279.514602 \nL 356.800342 279.593649 \nL 356.818625 279.590413 \nL 357.690126 279.692074 \nL 357.79373 279.582978 \nL 357.799825 279.697095 \nL 358.56772 279.678433 \nL 358.689608 279.639429 \nL 358.805402 279.662195 \nL 358.915101 279.891891 \nL 358.92729 279.891122 \nL 359.43922 279.819136 \nL 359.555014 279.799824 \nL 359.573297 279.704591 \nL 359.670808 279.744056 \nL 359.865829 279.664334 \nL 359.993812 279.645629 \nL 360.21321 279.672986 \nL 360.261965 279.634296 \nL 360.36557 279.73872 \nL 360.658102 279.78755 \nL 361.669774 279.861611 \nL 361.773379 279.760783 \nL 361.785567 279.782889 \nL 362.053721 279.709024 \nL 362.175609 279.625407 \nL 362.181704 279.633782 \nL 362.388914 279.682495 \nL 362.443763 279.742321 \nL 362.522991 279.848741 \nL 362.559557 279.826539 \nL 363.284792 279.828757 \nL 363.382302 279.945382 \nL 363.40668 279.931694 \nL 363.778439 279.885086 \nL 363.86376 279.833424 \nL 363.894232 279.89397 \nL 366.892681 280.3802 \nL 367.105985 280.3739 \nL 367.166929 280.467423 \nL 367.221779 280.456375 \nL 368.099374 280.452862 \nL 368.105468 280.382926 \nL 368.209073 280.425304 \nL 368.404094 280.49246 \nL 368.44066 280.561605 \nL 368.513793 280.532257 \nL 370.214133 280.459344 \nL 370.360399 280.550089 \nL 371.103916 280.584387 \nL 371.640224 280.656148 \nL 371.713357 280.740025 \nL 371.756018 280.691705 \nL 372.011983 280.75035 \nL 372.725029 280.908005 \nL 372.743312 280.804663 \nL 372.810351 280.765483 \nL 372.853011 280.802806 \nL 373.182109 280.749676 \nL 373.474641 280.602864 \nL 373.48683 280.619997 \nL 374.291292 280.662646 \nL 374.400991 280.632834 \nL 374.407085 280.635924 \nL 374.528974 280.607425 \nL 374.541162 280.621547 \nL 375.296869 280.662351 \nL 375.388285 280.628851 \nL 375.406568 280.655082 \nL 375.449229 280.75782 \nL 375.528456 280.891891 \nL 375.577212 280.873788 \nL 375.766138 280.909255 \nL 377.222702 280.940727 \nL 377.259268 280.892021 \nL 377.332401 280.92248 \nL 377.515233 280.85903 \nL 377.643216 280.804476 \nL 379.715314 280.967609 \nL 380.038318 281.048341 \nL 380.385699 281.017299 \nL 380.507587 280.952374 \nL 380.94029 280.929934 \nL 381.04999 280.936628 \nL 381.153595 280.970091 \nL 381.165783 280.962473 \nL 381.372993 280.968933 \nL 381.482693 281.035774 \nL 381.488787 281.034494 \nL 382.342004 281.040074 \nL 382.348098 280.906387 \nL 382.457798 280.921285 \nL 382.597969 280.89675 \nL 382.616252 280.981446 \nL 382.683291 280.758103 \nL 382.69548 280.757348 \nL 383.231787 280.761995 \nL 384.603029 280.823126 \nL 384.731012 280.907883 \nL 384.743201 280.883456 \nL 385.955988 280.985358 \nL 386.071781 280.864695 \nL 386.364313 280.811854 \nL 386.583712 280.798864 \nL 386.839677 280.753129 \nL 386.870149 280.726054 \nL 386.876243 280.814833 \nL 386.937187 280.805329 \nL 387.193152 280.809425 \nL 387.5771 280.726988 \nL 387.686799 280.769473 \nL 387.705083 280.803873 \nL 387.796499 280.784594 \nL 387.83916 280.77021 \nL 387.857443 280.886627 \nL 388.149974 280.889515 \nL 388.485167 280.607102 \nL 388.497356 280.652629 \nL 389.027569 280.612525 \nL 389.143363 280.658293 \nL 389.271345 280.586577 \nL 389.399328 280.558706 \nL 389.99658 280.531128 \nL 390.112374 280.67379 \nL 390.703531 280.601743 \nL 390.782758 280.589512 \nL 390.819325 280.622975 \nL 391.501899 280.593884 \nL 392.373399 280.643239 \nL 392.452626 280.615126 \nL 392.483098 280.660945 \nL 392.848763 280.619305 \nL 392.921895 280.48195 \nL 392.970651 280.527246 \nL 393.836057 280.506865 \nL 393.970134 280.511639 \nL 394.555197 280.482164 \nL 394.658802 280.526865 \nL 394.67099 280.513351 \nL 394.859917 280.491285 \nL 395.158543 280.437397 \nL 396.450557 280.299307 \nL 396.88326 280.262101 \nL 397.127037 280.204381 \nL 397.279397 280.285494 \nL 397.35253 280.3208 \nL 397.401285 280.284752 \nL 398.22403 280.212342 \nL 398.419051 280.15156 \nL 399.86952 280.108301 \nL 400.040163 280.157754 \nL 400.369261 280.227464 \nL 400.521622 280.244417 \nL 404.099039 280.537521 \nL 404.105133 280.870571 \nL 404.214833 280.829785 \nL 404.836462 280.82209 \nL 404.946162 280.73817 \nL 404.964445 280.778867 \nL 405.196032 280.82044 \nL 405.311826 280.882618 \nL 405.744529 280.828673 \nL 405.860323 280.777407 \nL 406.024872 280.777879 \nL 406.8659 280.825075 \nL 409.388985 280.762233 \nL 409.443834 280.714281 \nL 409.504778 280.736205 \nL 411.034475 280.557698 \nL 411.077136 280.572246 \nL 411.107608 280.488189 \nL 411.119796 280.488076 \nL 411.717048 280.490298 \nL 411.832842 280.552151 \nL 412.478849 280.477823 \nL 412.491038 280.365058 \nL 412.588549 280.418111 \nL 414.813007 280.3873 \nL 415.142105 280.373573 \nL 415.678413 280.375364 \nL 415.763735 280.177357 \nL 415.818585 280.197112 \nL 417.439697 280.149452 \nL 417.531113 280.004495 \nL 417.592057 280.124168 \nL 417.811456 279.997415 \nL 417.92725 279.95653 \nL 419.432568 279.8818 \nL 419.505701 279.972456 \nL 419.548362 279.962293 \nL 420.74896 279.906032 \nL 420.883037 279.909065 \nL 422.132391 280.073563 \nL 422.254279 280.055782 \nL 422.96123 280.043809 \nL 423.07093 279.948051 \nL 423.546293 280.004756 \nL 423.686465 279.999057 \nL 424.503115 279.796265 \nL 424.625003 279.712611 \nL 425.581825 279.641074 \nL 426.447231 279.899226 \nL 426.465515 279.926175 \nL 426.489892 279.875415 \nL 426.556931 279.88706 \nL 426.770235 279.960472 \nL 426.910406 279.951932 \nL 426.959162 279.934839 \nL 427.014011 279.997537 \nL 427.154183 279.990491 \nL 427.276071 279.943317 \nL 427.550319 280.039362 \nL 427.653924 280.024007 \nL 427.562508 280.028805 \nL 427.660018 280.014751 \nL 428.080533 280.037875 \nL 428.208515 280.086912 \nL 428.665596 280.124011 \nL 428.805767 280.179597 \nL 429.719928 280.205605 \nL 429.786967 280.233907 \nL 429.829627 280.187853 \nL 432.218635 280.082009 \nL 432.620866 280.028461 \nL 432.700093 279.95917 \nL 432.73666 279.970813 \nL 433.413139 279.976144 \nL 433.474083 279.941227 \nL 433.528933 279.992141 \nL 433.583783 279.970098 \nL 433.644727 279.991216 \nL 433.955541 280.052183 \nL 434.260262 279.986162 \nL 436.563948 279.800192 \nL 436.698025 279.820689 \nL 436.710214 279.816659 \nL 436.716308 279.87912 \nL 436.752874 279.880496 \nL 436.789441 279.983066 \nL 436.862574 279.946439 \nL 437.270899 280.024594 \nL 437.276994 280.07294 \nL 437.295277 280.013275 \nL 437.380598 280.021962 \nL 437.599997 280.006665 \nL 437.630469 279.78786 \nL 437.715791 279.800139 \nL 437.898623 279.836837 \nL 439.141882 279.944005 \nL 439.233298 279.9334 \nL 439.257676 279.944986 \nL 439.379564 279.973605 \nL 439.702568 279.842255 \nL 439.818361 279.787763 \nL 440.098704 279.760551 \nL 440.135271 279.727507 \nL 440.153554 279.798731 \nL 440.202309 279.79101 \nL 441.165226 279.797687 \nL 441.305397 279.751774 \nL 442.128142 279.741039 \nL 442.445051 279.78932 \nL 442.579128 279.792284 \nL 442.798527 279.743841 \nL 443.615177 279.698282 \nL 443.730971 279.736618 \nL 444.084447 279.796091 \nL 444.273373 279.749919 \nL 444.66951 279.809077 \nL 445.272856 279.90457 \nL 445.553199 279.923123 \nL 447.003668 280.124248 \nL 447.113367 280.228168 \nL 447.119462 280.227156 \nL 447.424182 280.259818 \nL 447.777658 280.179811 \nL 447.917829 280.140821 \nL 449.374392 280.27973 \nL 450.776106 280.25977 \nL 454.767943 280.072857 \nL 454.883737 280.025896 \nL 455.864936 279.98535 \nL 457.05944 279.908427 \nL 457.163045 279.826329 \nL 457.175234 279.829405 \nL 457.644503 279.806275 \nL 457.802958 279.815742 \nL 458.887763 279.852644 \nL 459.088878 279.840759 \nL 459.38141 279.922914 \nL 459.619092 279.928171 \nL 459.716602 279.906422 \nL 459.74098 279.92367 \nL 460.716085 279.991282 \nL 460.941578 280.121687 \nL 461.270676 280.170627 \nL 461.380375 280.387848 \nL 461.392564 280.385335 \nL 464.342257 280.341108 \nL 464.464146 280.390328 \nL 464.823716 280.448777 \nL 464.945604 280.497421 \nL 465.195474 280.502073 \nL 465.201569 280.480504 \nL 465.250324 280.4394 \nL 465.317363 280.472614 \nL 465.378307 280.4638 \nL 465.384401 280.387432 \nL 465.390495 280.391708 \nL 467.115213 280.447786 \nL 467.243195 280.400143 \nL 467.529633 280.349864 \nL 467.675898 280.338561 \nL 467.998902 280.282183 \nL 468.12079 280.291477 \nL 468.248773 280.274665 \nL 469.741902 280.329101 \nL 469.76628 280.316239 \nL 469.857696 280.33012 \nL 470.613403 280.243125 \nL 470.741385 280.19728 \nL 470.753574 280.209217 \nL 470.84499 280.226192 \nL 470.95469 280.345595 \nL 470.960784 280.344882 \nL 471.783529 280.335112 \nL 471.789623 280.440147 \nL 471.893228 280.373966 \nL 472.197949 280.464623 \nL 474.007988 280.639609 \nL 474.087215 280.622126 \nL 474.117687 280.632604 \nL 475.275624 280.696151 \nL 475.397513 280.648829 \nL 475.68395 280.652219 \nL 475.690044 280.626725 \nL 476.04352 280.644305 \nL 476.14103 280.709463 \nL 476.159314 280.698363 \nL 476.311674 280.691823 \nL 476.421373 280.727507 \nL 476.433562 280.721463 \nL 477.097852 280.710821 \nL 477.213646 280.722619 \nL 478.079052 280.597956 \nL 478.176562 280.546914 \nL 478.194846 280.550885 \nL 478.243601 280.603388 \nL 478.316734 280.582709 \nL 479.38935 280.642644 \nL 479.882997 280.673852 \nL 479.99879 280.693044 \nL 480.62042 280.786554 \nL 480.730119 280.839256 \nL 480.736214 280.822481 \nL 480.797158 280.808357 \nL 480.815441 280.743384 \nL 480.937329 280.705573 \nL 482.083078 280.751396 \nL 482.655952 280.783726 \nL 482.802218 280.820255 \nL 482.942389 280.778821 \nL 483.624963 280.778879 \nL 483.740757 280.739448 \nL 484.210026 280.709147 \nL 486.647789 280.462239 \nL 486.769677 280.473615 \nL 487.519289 280.440205 \nL 487.653366 280.4246 \nL 488.372506 280.363841 \nL 488.665038 280.314119 \nL 489.755937 280.337419 \nL 490.200829 280.394635 \nL 490.322717 280.426447 \nL 490.414133 280.351633 \nL 490.43851 280.358398 \nL 491.425804 280.448135 \nL 492.730008 280.473352 \nL 492.894557 280.391818 \nL 492.973784 280.427766 \nL 493.004256 280.385513 \nL 493.717302 280.442358 \nL 493.833095 280.519397 \nL 493.948889 280.481445 \nL 495.405453 280.53823 \nL 495.606568 280.521604 \nL 496.374463 280.514163 \nL 497.361757 280.441427 \nL 497.514118 280.392589 \nL 498.00167 280.423595 \nL 498.062614 280.44967 \nL 498.117464 280.422943 \nL 498.672055 280.511338 \nL 498.787849 280.555992 \nL 500.591793 280.299196 \nL 500.713682 280.178267 \nL 503.456165 280.406702 \nL 503.541487 280.374826 \nL 503.571959 280.391005 \nL 504.90054 280.464907 \nL 505.046805 280.447601 \nL 507.198131 280.286209 \nL 507.313925 280.227666 \nL 509.623705 280.185309 \nL 509.739499 280.126702 \nL 510.117352 280.072298 \nL 514.810046 279.999608 \nL 514.931934 280.002869 \nL 515.577942 279.965246 \nL 515.693735 279.858243 \nL 515.815623 279.883785 \nL 516.486008 279.889445 \nL 516.492103 279.946478 \nL 516.595708 279.910293 \nL 517.320942 279.779088 \nL 517.710984 279.792607 \nL 517.973044 279.856244 \nL 518.113215 279.874429 \nL 518.338708 279.871696 \nL 518.344803 280.007343 \nL 518.448407 279.965839 \nL 519.417418 279.937163 \nL 519.478362 279.907737 \nL 519.521023 279.920325 \nL 519.527118 279.975488 \nL 519.630723 279.952432 \nL 520.404712 279.953937 \nL 521.440762 279.949256 \nL 521.635783 279.955748 \nL 525.566675 280.004562 \nL 525.682469 279.956013 \nL 526.742896 279.958844 \nL 526.80384 279.972759 \nL 526.85869 279.946298 \nL 527.157316 279.942714 \nL 527.267015 279.898235 \nL 527.27311 279.90352 \nL 528.101949 279.902732 \nL 528.223837 279.936165 \nL 528.875939 279.906986 \nL 529.649929 279.923932 \nL 529.668212 279.925621 \nL 529.674306 279.823272 \nL 529.698684 279.824105 \nL 530.497051 279.816956 \nL 530.612845 279.825539 \nL 532.709321 279.888282 \nL 532.825115 279.82109 \nL 534.848458 279.841216 \nL 535.049574 279.891648 \nL 535.726053 279.823164 \nL 535.811375 279.787994 \nL 535.835752 279.833167 \nL 537.03635 279.788314 \nL 537.152144 279.817055 \nL 539.272998 279.909838 \nL 539.431453 279.937554 \nL 539.699607 280.065207 \nL 539.809306 280.029341 \nL 539.931194 279.914464 \nL 540.900205 279.738421 \nL 541.034282 279.627675 \nL 542.222691 279.552004 \nL 542.332391 279.601134 \nL 542.338485 279.598429 \nL 542.710244 279.61772 \nL 542.826038 279.64432 \nL 542.972303 279.633672 \nL 545.117535 279.481934 \nL 545.239423 279.489762 \nL 546.214528 279.48536 \nL 546.312039 279.503782 \nL 546.330322 279.464814 \nL 546.677703 279.469291 \nL 546.769119 279.398362 \nL 546.81178 279.352831 \nL 546.878819 279.376887 \nL 547.134784 279.307704 \nL 547.262766 279.294021 \nL 547.841735 279.236572 \nL 547.957529 279.228613 \nL 548.56697 279.169039 \nL 548.597442 279.148187 \nL 548.676669 279.171953 \nL 549.011861 279.242349 \nL 549.127655 279.249626 \nL 549.706624 279.162083 \nL 550.261215 279.182737 \nL 550.334348 279.203068 \nL 550.346537 279.158691 \nL 550.36482 279.159471 \nL 550.992544 279.172536 \nL 551.108337 279.208293 \nL 552.333313 279.133782 \nL 553.887387 278.988504 \nL 554.01537 278.93838 \nL 556.94678 278.971468 \nL 557.074762 278.944758 \nL 557.495277 278.906999 \nL 558.884801 278.923912 \nL 558.970123 278.877437 \nL 559.00669 278.912012 \nL 560.524197 279.000767 \nL 561.602907 278.946882 \nL 561.651662 278.99162 \nL 561.718701 278.969577 \nL 562.102649 278.911905 \nL 562.218442 278.860387 \nL 563.589684 278.924687 \nL 564.211314 278.971512 \nL 564.24788 279.00284 \nL 564.327107 278.961587 \nL 567.733881 279.041625 \nL 567.776542 279.002501 \nL 567.843581 279.032973 \nL 569.59877 278.941196 \nL 569.757225 279.015011 \nL 571.890267 278.85096 \nL 572.006061 278.928514 \nL 572.578935 278.942336 \nL 572.706918 279.022148 \nL 573.048205 278.999211 \nL 573.084771 278.956414 \nL 573.163998 278.985589 \nL 575.04717 279.028994 \nL 575.19953 279.051979 \nL 575.321419 279.101176 \nL 575.345796 279.081036 \nL 575.985709 279.084531 \nL 576.095408 279.104474 \nL 576.101503 279.094448 \nL 580.233511 279.120316 \nL 580.367588 279.141656 \nL 582.787068 279.202678 \nL 582.902862 279.196077 \nL 583.506208 279.229172 \nL 583.628096 279.258834 \nL 583.640285 279.244777 \nL 584.268009 279.375045 \nL 584.395991 279.385147 \nL 584.846978 279.359389 \nL 584.859166 279.397841 \nL 584.92011 279.346722 \nL 584.956677 279.344049 \nL 585.121226 279.312099 \nL 585.188264 279.360291 \nL 585.23702 279.345095 \nL 586.266975 279.348408 \nL 586.376674 279.38224 \nL 586.382768 279.371929 \nL 587.516328 279.326134 \nL 587.638216 279.327049 \nL 588.05873 279.351282 \nL 588.119674 279.504713 \nL 588.174524 279.486589 \nL 588.363451 279.424537 \nL 588.369545 279.435615 \nL 588.808342 279.375611 \nL 588.98508 279.374187 \nL 592.812368 279.34442 \nL 592.946445 279.329335 \nL 594.738201 279.140572 \nL 594.8479 279.122527 \nL 594.853995 279.124323 \nL 595.615796 279.107298 \nL 595.969271 279.010269 \nL 596.194764 279.026768 \nL 596.54824 278.9936 \nL 596.670128 279.000311 \nL 597.108926 279.044631 \nL 597.224719 279.076328 \nL 597.864632 279.029942 \nL 598.084031 279.008244 \nL 600.637587 278.945455 \nL 600.649776 278.978403 \nL 600.704626 278.927655 \nL 600.747287 278.94743 \nL 601.570032 278.893578 \nL 601.685826 278.805745 \nL 602.612176 278.739852 \nL 602.679214 278.706235 \nL 602.721875 278.755466 \nL 604.31861 278.732595 \nL 604.440498 278.791643 \nL 606.384614 278.732267 \nL 606.506502 278.713591 \nL 607.353625 278.717359 \nL 607.396285 278.732677 \nL 607.463324 278.710405 \nL 608.145898 278.74011 \nL 608.804094 278.677092 \nL 610.035164 278.655387 \nL 610.041258 278.748998 \nL 610.150958 278.739586 \nL 610.528811 278.826683 \nL 610.644605 278.898982 \nL 611.302801 278.81575 \nL 612.07679 278.82495 \nL 612.192584 278.763768 \nL 613.338333 278.741579 \nL 616.903561 278.682767 \nL 617.007166 278.639175 \nL 617.019355 278.644129 \nL 621.005097 278.396766 \nL 621.126986 278.462823 \nL 624.875046 278.531717 \nL 624.948179 278.466561 \nL 624.99084 278.491258 \nL 625.265088 278.400983 \nL 626.618047 278.420154 \nL 627.71504 278.508775 \nL 627.830834 278.394691 \nL 628.361047 278.39877 \nL 628.476841 278.466545 \nL 628.501219 278.482499 \nL 628.592635 278.481528 \nL 630.213747 278.522994 \nL 630.457524 278.549389 \nL 630.591601 278.532415 \nL 631.396062 278.52538 \nL 631.505762 278.403335 \nL 631.511856 278.403671 \nL 631.767821 278.376365 \nL 632.285846 278.359426 \nL 632.383356 278.443118 \nL 632.40164 278.434976 \nL 643.804276 278.191557 \nL 643.92007 278.145686 \nL 645.023158 278.181236 \nL 645.145046 278.218567 \nL 645.15114 278.205633 \nL 647.259805 278.264632 \nL 647.393882 278.296605 \nL 648.204438 278.315593 \nL 649.892589 278.375762 \nL 650.051044 278.334324 \nL 650.136365 278.325204 \nL 650.154649 278.295989 \nL 651.379625 278.187326 \nL 651.501513 278.185444 \nL 651.854988 278.096774 \nL 651.989065 278.12878 \nL 653.969748 278.022455 \nL 654.085542 278.003687 \nL 655.243479 278.051434 \nL 655.280045 277.987225 \nL 655.359273 278.006881 \nL 655.901675 278.06098 \nL 656.029658 278.05191 \nL 657.723903 278.068671 \nL 663.550156 278.077415 \nL 663.635478 278.048857 \nL 663.66595 278.057743 \nL 667.834525 277.863899 \nL 670.912201 277.888648 \nL 671.046278 277.886166 \nL 672.070138 277.888463 \nL 672.185932 277.873508 \nL 674.245842 277.843672 \nL 674.678545 277.765224 \nL 674.794338 277.743994 \nL 675.361118 277.694103 \nL 675.476912 277.651088 \nL 676.378884 277.57205 \nL 676.957853 277.547877 \nL 677.073647 277.524503 \nL 677.999997 277.452143 \nL 678.822742 277.483489 \nL 679.346861 277.494004 \nL 679.346861 277.494004 \n\" clip-path=\"url(#p32fdb4441e)\" style=\"fill: none; stroke: #4c72b0; stroke-linecap: round\"/>\n   </g>\n   <g id=\"line2d_28\">\n    <path d=\"M 39.440469 276.590284 \nL 709.818594 276.590284 \n\" clip-path=\"url(#p32fdb4441e)\" style=\"fill: none; stroke-dasharray: 3.7,1.6; stroke-dashoffset: 0; stroke: #ff0000\"/>\n   </g>\n   <g id=\"patch_3\">\n    <path d=\"M 39.440469 327.789375 \nL 39.440469 19.27875 \n\" style=\"fill: none; stroke: #262626; stroke-width: 0.5; stroke-linejoin: miter; stroke-linecap: square\"/>\n   </g>\n   <g id=\"patch_4\">\n    <path d=\"M 39.440469 327.789375 \nL 709.818594 327.789375 \n\" style=\"fill: none; stroke: #262626; stroke-width: 0.5; stroke-linejoin: miter; stroke-linecap: square\"/>\n   </g>\n   <g id=\"text_16\">\n    <!-- Monte Carlo Convergence of Correlation Estimate -->\n    <g style=\"fill: #262626\" transform=\"translate(272.380156 13.27875) scale(0.08 -0.08)\">\n     <defs>\n      <path id=\"DejaVuSerif-4d\" d=\"M 353 0 \nL 353 331 \nL 947 331 \nL 947 4331 \nL 319 4331 \nL 319 4666 \nL 1678 4666 \nL 3316 1344 \nL 4953 4666 \nL 6228 4666 \nL 6228 4331 \nL 5606 4331 \nL 5606 331 \nL 6203 331 \nL 6203 0 \nL 4378 0 \nL 4378 331 \nL 4972 331 \nL 4972 3938 \nL 3372 684 \nL 2931 684 \nL 1331 3938 \nL 1331 331 \nL 1925 331 \nL 1925 0 \nL 353 0 \nz\n\" transform=\"scale(0.015625)\"/>\n      <path id=\"DejaVuSerif-76\" d=\"M 1581 0 \nL 359 2988 \nL -19 2988 \nL -19 3322 \nL 1509 3322 \nL 1509 2988 \nL 978 2988 \nL 1913 703 \nL 2847 2988 \nL 2350 2988 \nL 2350 3322 \nL 3597 3322 \nL 3597 2988 \nL 3225 2988 \nL 2003 0 \nL 1581 0 \nz\n\" transform=\"scale(0.015625)\"/>\n      <path id=\"DejaVuSerif-67\" d=\"M 3359 2988 \nL 3359 72 \nQ 3359 -644 2965 -1033 \nQ 2572 -1422 1844 -1422 \nQ 1516 -1422 1216 -1362 \nQ 916 -1303 641 -1184 \nL 641 -488 \nL 941 -488 \nQ 997 -813 1206 -963 \nQ 1416 -1113 1806 -1113 \nQ 2313 -1113 2548 -827 \nQ 2784 -541 2784 72 \nL 2784 519 \nQ 2616 206 2355 57 \nQ 2094 -91 1709 -91 \nQ 1097 -91 708 395 \nQ 319 881 319 1663 \nQ 319 2444 706 2928 \nQ 1094 3413 1709 3413 \nQ 2094 3413 2355 3264 \nQ 2616 3116 2784 2803 \nL 2784 3322 \nL 3909 3322 \nL 3909 2988 \nL 3359 2988 \nz\nM 2784 1825 \nQ 2784 2422 2554 2737 \nQ 2325 3053 1888 3053 \nQ 1444 3053 1217 2703 \nQ 991 2353 991 1663 \nQ 991 975 1217 622 \nQ 1444 269 1888 269 \nQ 2325 269 2554 583 \nQ 2784 897 2784 1497 \nL 2784 1825 \nz\n\" transform=\"scale(0.015625)\"/>\n      <path id=\"DejaVuSerif-63\" d=\"M 3291 997 \nQ 3169 466 2822 187 \nQ 2475 -91 1925 -91 \nQ 1200 -91 759 389 \nQ 319 869 319 1663 \nQ 319 2459 759 2936 \nQ 1200 3413 1925 3413 \nQ 2241 3413 2553 3339 \nQ 2866 3266 3181 3116 \nL 3181 2266 \nL 2847 2266 \nQ 2781 2703 2561 2903 \nQ 2341 3103 1931 3103 \nQ 1466 3103 1228 2742 \nQ 991 2381 991 1663 \nQ 991 944 1227 581 \nQ 1463 219 1931 219 \nQ 2303 219 2525 412 \nQ 2747 606 2828 997 \nL 3291 997 \nz\n\" transform=\"scale(0.015625)\"/>\n     </defs>\n     <use xlink:href=\"#DejaVuSerif-4d\"/>\n     <use xlink:href=\"#DejaVuSerif-6f\" transform=\"translate(102.392578 0)\"/>\n     <use xlink:href=\"#DejaVuSerif-6e\" transform=\"translate(162.597656 0)\"/>\n     <use xlink:href=\"#DejaVuSerif-74\" transform=\"translate(227.001953 0)\"/>\n     <use xlink:href=\"#DejaVuSerif-65\" transform=\"translate(267.1875 0)\"/>\n     <use xlink:href=\"#DejaVuSerif-20\" transform=\"translate(326.367188 0)\"/>\n     <use xlink:href=\"#DejaVuSerif-43\" transform=\"translate(358.154297 0)\"/>\n     <use xlink:href=\"#DejaVuSerif-61\" transform=\"translate(434.667969 0)\"/>\n     <use xlink:href=\"#DejaVuSerif-72\" transform=\"translate(494.287109 0)\"/>\n     <use xlink:href=\"#DejaVuSerif-6c\" transform=\"translate(542.089844 0)\"/>\n     <use xlink:href=\"#DejaVuSerif-6f\" transform=\"translate(574.072266 0)\"/>\n     <use xlink:href=\"#DejaVuSerif-20\" transform=\"translate(634.277344 0)\"/>\n     <use xlink:href=\"#DejaVuSerif-43\" transform=\"translate(666.064453 0)\"/>\n     <use xlink:href=\"#DejaVuSerif-6f\" transform=\"translate(742.578125 0)\"/>\n     <use xlink:href=\"#DejaVuSerif-6e\" transform=\"translate(802.783203 0)\"/>\n     <use xlink:href=\"#DejaVuSerif-76\" transform=\"translate(867.1875 0)\"/>\n     <use xlink:href=\"#DejaVuSerif-65\" transform=\"translate(923.681641 0)\"/>\n     <use xlink:href=\"#DejaVuSerif-72\" transform=\"translate(982.861328 0)\"/>\n     <use xlink:href=\"#DejaVuSerif-67\" transform=\"translate(1030.664062 0)\"/>\n     <use xlink:href=\"#DejaVuSerif-65\" transform=\"translate(1094.677734 0)\"/>\n     <use xlink:href=\"#DejaVuSerif-6e\" transform=\"translate(1153.857422 0)\"/>\n     <use xlink:href=\"#DejaVuSerif-63\" transform=\"translate(1218.261719 0)\"/>\n     <use xlink:href=\"#DejaVuSerif-65\" transform=\"translate(1274.267578 0)\"/>\n     <use xlink:href=\"#DejaVuSerif-20\" transform=\"translate(1333.447266 0)\"/>\n     <use xlink:href=\"#DejaVuSerif-6f\" transform=\"translate(1365.234375 0)\"/>\n     <use xlink:href=\"#DejaVuSerif-66\" transform=\"translate(1425.439453 0)\"/>\n     <use xlink:href=\"#DejaVuSerif-20\" transform=\"translate(1462.451172 0)\"/>\n     <use xlink:href=\"#DejaVuSerif-43\" transform=\"translate(1494.238281 0)\"/>\n     <use xlink:href=\"#DejaVuSerif-6f\" transform=\"translate(1570.751953 0)\"/>\n     <use xlink:href=\"#DejaVuSerif-72\" transform=\"translate(1630.957031 0)\"/>\n     <use xlink:href=\"#DejaVuSerif-72\" transform=\"translate(1678.759766 0)\"/>\n     <use xlink:href=\"#DejaVuSerif-65\" transform=\"translate(1726.5625 0)\"/>\n     <use xlink:href=\"#DejaVuSerif-6c\" transform=\"translate(1785.742188 0)\"/>\n     <use xlink:href=\"#DejaVuSerif-61\" transform=\"translate(1817.724609 0)\"/>\n     <use xlink:href=\"#DejaVuSerif-74\" transform=\"translate(1877.34375 0)\"/>\n     <use xlink:href=\"#DejaVuSerif-69\" transform=\"translate(1917.529297 0)\"/>\n     <use xlink:href=\"#DejaVuSerif-6f\" transform=\"translate(1949.511719 0)\"/>\n     <use xlink:href=\"#DejaVuSerif-6e\" transform=\"translate(2009.716797 0)\"/>\n     <use xlink:href=\"#DejaVuSerif-20\" transform=\"translate(2074.121094 0)\"/>\n     <use xlink:href=\"#DejaVuSerif-45\" transform=\"translate(2105.908203 0)\"/>\n     <use xlink:href=\"#DejaVuSerif-73\" transform=\"translate(2178.90625 0)\"/>\n     <use xlink:href=\"#DejaVuSerif-74\" transform=\"translate(2230.224609 0)\"/>\n     <use xlink:href=\"#DejaVuSerif-69\" transform=\"translate(2270.410156 0)\"/>\n     <use xlink:href=\"#DejaVuSerif-6d\" transform=\"translate(2302.392578 0)\"/>\n     <use xlink:href=\"#DejaVuSerif-61\" transform=\"translate(2397.216797 0)\"/>\n     <use xlink:href=\"#DejaVuSerif-74\" transform=\"translate(2456.835938 0)\"/>\n     <use xlink:href=\"#DejaVuSerif-65\" transform=\"translate(2497.021484 0)\"/>\n    </g>\n   </g>\n   <g id=\"legend_1\">\n    <g id=\"line2d_29\">\n     <path d=\"M 604.203906 28.447656 \nL 611.203906 28.447656 \nL 618.203906 28.447656 \n\" style=\"fill: none; stroke-dasharray: 3.7,1.6; stroke-dashoffset: 0; stroke: #ff0000\"/>\n    </g>\n    <g id=\"text_17\">\n     <!-- True Correlation (≈ 0) -->\n     <g style=\"fill: #262626\" transform=\"translate(623.803906 30.897656) scale(0.07 -0.07)\">\n      <defs>\n       <path id=\"DejaVuSerif-54\" d=\"M 1222 0 \nL 1222 331 \nL 1819 331 \nL 1819 4294 \nL 447 4294 \nL 447 3566 \nL 63 3566 \nL 63 4666 \nL 4206 4666 \nL 4206 3566 \nL 3822 3566 \nL 3822 4294 \nL 2450 4294 \nL 2450 331 \nL 3047 331 \nL 3047 0 \nL 1222 0 \nz\n\" transform=\"scale(0.015625)\"/>\n       <path id=\"DejaVuSerif-2248\" d=\"M 4684 1913 \nL 4684 1453 \nQ 4375 1172 4092 1040 \nQ 3809 909 3519 909 \nQ 3231 909 2713 1106 \nQ 2666 1125 2641 1134 \nQ 2609 1147 2541 1172 \nQ 2081 1350 1784 1350 \nQ 1497 1350 1226 1236 \nQ 956 1122 678 884 \nL 678 1344 \nQ 994 1625 1273 1753 \nQ 1553 1881 1844 1881 \nQ 2144 1881 2688 1675 \nL 2719 1663 \nQ 2753 1653 2816 1625 \nQ 3269 1447 3572 1447 \nQ 3859 1447 4134 1561 \nQ 4409 1675 4684 1913 \nz\nM 4684 3128 \nL 4684 2669 \nQ 4378 2391 4095 2261 \nQ 3813 2131 3519 2131 \nQ 3219 2131 2675 2338 \nL 2644 2350 \nQ 2609 2363 2541 2388 \nQ 2081 2566 1784 2566 \nQ 1497 2566 1226 2452 \nQ 956 2338 678 2100 \nL 678 2559 \nQ 994 2841 1273 2969 \nQ 1553 3097 1844 3097 \nQ 2144 3097 2688 2894 \nL 2719 2881 \nQ 2753 2869 2816 2841 \nQ 3269 2663 3572 2663 \nQ 3859 2663 4134 2777 \nQ 4409 2891 4684 3128 \nz\n\" transform=\"scale(0.015625)\"/>\n      </defs>\n      <use xlink:href=\"#DejaVuSerif-54\"/>\n      <use xlink:href=\"#DejaVuSerif-72\" transform=\"translate(66.699219 0)\"/>\n      <use xlink:href=\"#DejaVuSerif-75\" transform=\"translate(114.501953 0)\"/>\n      <use xlink:href=\"#DejaVuSerif-65\" transform=\"translate(178.90625 0)\"/>\n      <use xlink:href=\"#DejaVuSerif-20\" transform=\"translate(238.085938 0)\"/>\n      <use xlink:href=\"#DejaVuSerif-43\" transform=\"translate(269.873047 0)\"/>\n      <use xlink:href=\"#DejaVuSerif-6f\" transform=\"translate(346.386719 0)\"/>\n      <use xlink:href=\"#DejaVuSerif-72\" transform=\"translate(406.591797 0)\"/>\n      <use xlink:href=\"#DejaVuSerif-72\" transform=\"translate(454.394531 0)\"/>\n      <use xlink:href=\"#DejaVuSerif-65\" transform=\"translate(502.197266 0)\"/>\n      <use xlink:href=\"#DejaVuSerif-6c\" transform=\"translate(561.376953 0)\"/>\n      <use xlink:href=\"#DejaVuSerif-61\" transform=\"translate(593.359375 0)\"/>\n      <use xlink:href=\"#DejaVuSerif-74\" transform=\"translate(652.978516 0)\"/>\n      <use xlink:href=\"#DejaVuSerif-69\" transform=\"translate(693.164062 0)\"/>\n      <use xlink:href=\"#DejaVuSerif-6f\" transform=\"translate(725.146484 0)\"/>\n      <use xlink:href=\"#DejaVuSerif-6e\" transform=\"translate(785.351562 0)\"/>\n      <use xlink:href=\"#DejaVuSerif-20\" transform=\"translate(849.755859 0)\"/>\n      <use xlink:href=\"#DejaVuSerif-28\" transform=\"translate(881.542969 0)\"/>\n      <use xlink:href=\"#DejaVuSerif-2248\" transform=\"translate(920.556641 0)\"/>\n      <use xlink:href=\"#DejaVuSerif-20\" transform=\"translate(1004.345703 0)\"/>\n      <use xlink:href=\"#DejaVuSerif-30\" transform=\"translate(1036.132812 0)\"/>\n      <use xlink:href=\"#DejaVuSerif-29\" transform=\"translate(1099.755859 0)\"/>\n     </g>\n    </g>\n   </g>\n  </g>\n </g>\n <defs>\n  <clipPath id=\"p32fdb4441e\">\n   <rect x=\"39.440469\" y=\"19.27875\" width=\"670.378125\" height=\"308.510625\"/>\n  </clipPath>\n </defs>\n</svg>\n"
          },
          "metadata": {}
        }
      ],
      "source": [
        "# Your code here\n",
        "# Generate 100,000 samples\n",
        "np.random.seed(0)\n",
        "N = 100_000\n",
        "X_100k = np.random.randn(N)\n",
        "Y_100k = np.random.randn(N)\n",
        "Z_100k = X_100k**2 + 0.01 * Y_100k\n",
        "\n",
        "# Storage for correlation estimates\n",
        "correlations = np.zeros(N)\n",
        "\n",
        "# Compute running correlation\n",
        "for n in range(1, N + 1):\n",
        "    x_slice = X_100k[:n]\n",
        "    z_slice = Z_100k[:n]\n",
        "\n",
        "    # Use np.corrcoef for n >= 2, else default to 0 correlation\n",
        "    if n == 1:\n",
        "        correlations[n - 1] = 0.0  # correlation undefined for 1 sample\n",
        "    else:\n",
        "        correlations[n - 1] = np.corrcoef(x_slice, z_slice)[0, 1]\n",
        "\n",
        "# Plotting\n",
        "plt.figure(figsize=(10, 5))\n",
        "plt.plot(range(1, N + 1), correlations, linewidth=1)\n",
        "plt.axhline(0, color='red', linestyle='--', label='True Correlation (≈ 0)')\n",
        "plt.xlabel('Number of Samples (n)')\n",
        "plt.ylabel('Estimated Correlation: Corr(X, Z)')\n",
        "plt.title('Monte Carlo Convergence of Correlation Estimate')\n",
        "plt.legend()\n",
        "plt.grid(True)\n",
        "plt.tight_layout()\n",
        "plt.show()"
      ]
    },
    {
      "cell_type": "markdown",
      "metadata": {
        "id": "hs9wblQalOD6"
      },
      "source": [
        "## Problem 3 - Creating a stochastic model for the magnetic properties of steel\n",
        "\n",
        "The magnetic properties of steel are captured in the so-called [$B-H$ curve](https://en.wikipedia.org/wiki/Saturation_(magnetic)), which connects the magnetic field $H$ to the magnetic flux density $B$.\n",
        "The $B-H$ curve is a nonlinear function typically measured in the lab.\n",
        "It appears in Maxwell's equations and is, therefore, crucial in the design of electrical machines.\n",
        "\n",
        "The shape of the $B-H$ curve depends on the manufacturing process of the steel.\n",
        "As a result, the $B-H$ differs across different suppliers but also across time for the same supplier.\n",
        "The goal of this problem is to guide you through the process of creating a stochastic model for the $B-H$ curve using real data.\n",
        "Such a model is the first step when we do uncertainty quantification for the design of electrical machines.\n",
        "Once constructed, the stochastic model can generate random samples of the $B-H$ curve.\n",
        "We can then propagate the uncertainty in the $B-H$ curve through Maxwell's equations to quantify the uncertainty in the performance of the electrical machine.\n",
        "\n",
        "Let's use some actual manufacturer data to visualize the differences in the $B-H$ curve across different suppliers.\n",
        "The data are [here](https://github.com/PredictiveScienceLab/data-analytics-se/raw/master/homework/B_data.csv).\n",
        "Explaining how to upload data on Google Colab will take a while.\n",
        "We will do it in the next homework set.\n",
        "You should know that the data file ``B_data.csv`` needs to be in the same working directory as this Jupyter Notebook.\n",
        "I have written some code that allows you to put the data file in the right place without too much trouble.\n",
        "Run the following:"
      ]
    },
    {
      "cell_type": "code",
      "execution_count": null,
      "metadata": {
        "id": "nCdistjdlOD6"
      },
      "outputs": [],
      "source": [
        "url = \"https://raw.githubusercontent.com/PredictiveScienceLab/data-analytics-se/master/lecturebook/data/B_data.csv\"\n",
        "!curl -O $url"
      ]
    },
    {
      "cell_type": "markdown",
      "metadata": {
        "id": "MlaHlk1GlOD7"
      },
      "source": [
        "If everything worked well, then the following will work:"
      ]
    },
    {
      "cell_type": "code",
      "execution_count": null,
      "metadata": {
        "id": "Cm5Z4jG0lOD7"
      },
      "outputs": [],
      "source": [
        "B_data = np.loadtxt('B_data.csv')\n",
        "B_data"
      ]
    },
    {
      "cell_type": "markdown",
      "metadata": {
        "id": "5Hh271hIlOD7"
      },
      "source": [
        "The shape of this dataset is:"
      ]
    },
    {
      "cell_type": "code",
      "execution_count": null,
      "metadata": {
        "id": "Op8UUG7BlOD7"
      },
      "outputs": [],
      "source": [
        "B_data.shape"
      ]
    },
    {
      "cell_type": "markdown",
      "metadata": {
        "id": "PAYO4NNNlOD7"
      },
      "source": [
        "The rows (200) correspond to different samples of the $B-H$ curves (suppliers and times).\n",
        "The columns (1500) correspond to different values of $H$.\n",
        "That is, the $i, j$ element is the value of $B$ at the specific value of $H$, say $H_j$. The values of $H$ are equidistant and identical; we will ignore them in this analysis.\n",
        "Let's visualize some of the samples.\n",
        "\n",
        "Here is one sample:"
      ]
    },
    {
      "cell_type": "code",
      "execution_count": null,
      "metadata": {
        "tags": [
          "hide-input"
        ],
        "id": "pMK_KUWklOD7"
      },
      "outputs": [],
      "source": [
        "fig, ax = plt.subplots()\n",
        "ax.plot(B_data[0, :])\n",
        "ax.set_xlabel(r\"Index $j$\")\n",
        "ax.set_ylabel(r\"$B$ (T)\")\n",
        "sns.despine(trim=True);"
      ]
    },
    {
      "cell_type": "markdown",
      "metadata": {
        "id": "-RZdHFmblOD7"
      },
      "source": [
        "Here are five samples:"
      ]
    },
    {
      "cell_type": "code",
      "execution_count": null,
      "metadata": {
        "tags": [
          "hide-input"
        ],
        "id": "DA_x0dbxlOD8"
      },
      "outputs": [],
      "source": [
        "fig, ax = plt.subplots()\n",
        "ax.plot(B_data[:5, :].T)\n",
        "ax.set_xlabel(r\"Index $j$\")\n",
        "ax.set_ylabel(r\"$B$ (T)\")\n",
        "sns.despine(trim=True);"
      ]
    },
    {
      "cell_type": "markdown",
      "metadata": {
        "id": "rVzTkfs9lOD8"
      },
      "source": [
        "Here are all the samples:"
      ]
    },
    {
      "cell_type": "code",
      "execution_count": null,
      "metadata": {
        "tags": [
          "hide-input"
        ],
        "id": "cUfG-RHDlOD8"
      },
      "outputs": [],
      "source": [
        "fig, ax = plt.subplots()\n",
        "ax.plot(B_data[:, :].T, 'r', lw=0.1)\n",
        "ax.set_xlabel(r\"Index $j$\")\n",
        "ax.set_ylabel(r\"$B$ (T)\")\n",
        "sns.despine(trim=True);"
      ]
    },
    {
      "cell_type": "markdown",
      "metadata": {
        "id": "W7SvMI6PlOD8"
      },
      "source": [
        "A. We are going to start by studying the data at only one index. Say index $j=500$.\n",
        "Let's define a random variable\n",
        "\n",
        "$$\n",
        "X = B(H_{500}),\n",
        "$$\n",
        "\n",
        "for this reason. Extract and do a histogram of the data for $X$:"
      ]
    },
    {
      "cell_type": "code",
      "execution_count": null,
      "metadata": {
        "tags": [
          "hide-input"
        ],
        "id": "Pb3rkZK3lOD8"
      },
      "outputs": [],
      "source": [
        "X_data = B_data[:, 500]\n",
        "fig, ax = plt.subplots()\n",
        "ax.hist(X_data, alpha=0.5, density=True)\n",
        "ax.set_xlabel(r\"$x$\")\n",
        "ax.set_ylabel(r\"p(x)\")\n",
        "sns.despine(trim=True);"
      ]
    },
    {
      "cell_type": "markdown",
      "metadata": {
        "id": "yjFJ5pFrlOD8"
      },
      "source": [
        "This looks like a Gaussian $N(\\mu_{500}, \\sigma_{500}^2)$. Let's try to find a mean and variance for that Gaussian.\n",
        "A good choice for the mean is the empirical average of the data:\n",
        "\n",
        "$$\n",
        "\\mu_j = \\frac{1}{N}\\sum_{i=1}^NB_{ij}.\n",
        "$$\n",
        "\n",
        "By the law of large numbers, this is a good approximation of the true mean as $N\\to\\infty$.\n",
        "Later we will learn that this is also the *maximum likelihood* estimate of the mean.\n",
        "\n",
        "So, the mean is:"
      ]
    },
    {
      "cell_type": "code",
      "execution_count": null,
      "metadata": {
        "id": "QhsFPAxGlOD8"
      },
      "outputs": [],
      "source": [
        "mu_500 = X_data.mean()\n",
        "print(f\"mu_500 = {mu_500:.2f}\")"
      ]
    },
    {
      "cell_type": "markdown",
      "metadata": {
        "id": "X2cwdFTXlOD9"
      },
      "source": [
        "Similarly, for the variance a good choice is the empirical variance defined by:\n",
        "\n",
        "$$\n",
        "\\sigma_j^2 = \\frac{1}{N}\\sum_{i=1}^N(B_{ij} - \\mu_j)^2.\n",
        "$$\n",
        "\n",
        "This also converges to the true variance as $N\\to\\infty$.\n",
        "Here it is:"
      ]
    },
    {
      "cell_type": "code",
      "execution_count": null,
      "metadata": {
        "id": "wHe2PeA5lOD9"
      },
      "outputs": [],
      "source": [
        "sigma2_500 = np.var(X_data)\n",
        "print(f\"sigma_500 = {sigma2_500:.2e}\")"
      ]
    },
    {
      "cell_type": "markdown",
      "metadata": {
        "id": "x2L7rNgblOD9"
      },
      "source": [
        "Repeat the plot of the histogram of $X$ along with the PDF of the normal variable we have just identified using the functionality of ``scipy.stats``."
      ]
    },
    {
      "cell_type": "code",
      "execution_count": null,
      "metadata": {
        "id": "YoulX7-VlOD9"
      },
      "outputs": [],
      "source": [
        "# Your code here"
      ]
    },
    {
      "cell_type": "markdown",
      "metadata": {
        "id": "yYoRoItilOD9"
      },
      "source": [
        "B. Using your normal approximation to the PDF of $X$, find the probability that $X = B(H_{500})$ is greater than 1.66 T."
      ]
    },
    {
      "cell_type": "code",
      "execution_count": null,
      "metadata": {
        "id": "7RDmNB3XlOD9"
      },
      "outputs": [],
      "source": [
        "# Your code here"
      ]
    },
    {
      "cell_type": "markdown",
      "metadata": {
        "id": "ThhlDqLSlOD9"
      },
      "source": [
        "C. Let us now consider another random variable\n",
        "\n",
        "$$\n",
        "Y = B(H_{1000}).\n",
        "$$\n",
        "\n",
        "Isolate the data for this as well:"
      ]
    },
    {
      "cell_type": "code",
      "execution_count": null,
      "metadata": {
        "id": "eVgNhk3xlOD9"
      },
      "outputs": [],
      "source": [
        "Y_data = B_data[:, 1000]"
      ]
    },
    {
      "cell_type": "markdown",
      "metadata": {
        "id": "XjL2FO5alOD-"
      },
      "source": [
        "Do the ``scatter`` plot of $X$ and $Y$:"
      ]
    },
    {
      "cell_type": "code",
      "execution_count": null,
      "metadata": {
        "id": "drTF5qfYlOD-"
      },
      "outputs": [],
      "source": [
        "# Your code here"
      ]
    },
    {
      "cell_type": "markdown",
      "metadata": {
        "id": "AtK8NqVvlOD-"
      },
      "source": [
        "D. From the scatter plot, it looks like the random vector\n",
        "\n",
        "$$\n",
        "\\mathbf{X} = (X, Y),\n",
        "$$\n",
        "\n",
        "follows a multivariate normal distribution. What would be the mean and covariance of the distribution?\n",
        "First, organize the samples of $X$ and $Y$ in a matrix with the number of rows being the number of samples and two columns (one corresponding to $X$ and one to $Y$)."
      ]
    },
    {
      "cell_type": "code",
      "execution_count": null,
      "metadata": {
        "id": "D-7aCUmVlOD-"
      },
      "outputs": [],
      "source": [
        "XY_data = np.hstack([X_data[:, None], Y_data[:, None]])"
      ]
    },
    {
      "cell_type": "markdown",
      "metadata": {
        "id": "hcGigDktlOD-"
      },
      "source": [
        "In case you are wondering, the code above takes two 1D numpy arrays of the same size and puts them in a two-column numpy array. The first column is the first array, the second column is the second array. The result is a 2D numpy array.\n",
        "We take sampling averages over the first axis of the array."
      ]
    },
    {
      "cell_type": "markdown",
      "metadata": {
        "id": "lTjwQz_YlOD-"
      },
      "source": [
        "The mean vector is:"
      ]
    },
    {
      "cell_type": "code",
      "execution_count": null,
      "metadata": {
        "id": "-J5O9EsylOD-"
      },
      "outputs": [],
      "source": [
        "mu_XY = np.mean(XY_data, axis=0)\n",
        "print(f\"mu_XY = {mu_XY}\")"
      ]
    },
    {
      "cell_type": "markdown",
      "metadata": {
        "id": "fiObR3m2lOD-"
      },
      "source": [
        "The covariance matrix is trickier.\n",
        "We have already discussed how to find the diagonals of the covariance matrix (it is simply the variance).\n",
        "For the off-diagonal terms, this is the formula that is being used:\n",
        "\n",
        "$$\n",
        "C_{jk} = \\frac{1}{N}\\sum_{i=1}^N(B_{ij} - \\mu_j)(B_{ik} - \\mu_k).\n",
        "$$\n",
        "\n",
        "This formula converges as $N\\rightarrow\\infty$.\n",
        "Here is the implementation:"
      ]
    },
    {
      "cell_type": "code",
      "execution_count": null,
      "metadata": {
        "id": "rgo8hUbLlOD_"
      },
      "outputs": [],
      "source": [
        "# Careful with np.cov because it requires you to transpose the matrix we defined in class\n",
        "C_XY = np.cov(XY_data.T)\n",
        "print(f\"C_XY =\")\n",
        "print(C_XY)"
      ]
    },
    {
      "cell_type": "markdown",
      "metadata": {
        "id": "uK0zwdOxlOD_"
      },
      "source": [
        "Use the covariance matrix `C_XY` to find the correlation coefficient between $X$ and $Y$."
      ]
    },
    {
      "cell_type": "code",
      "execution_count": null,
      "metadata": {
        "id": "47DHTCp1lOD_"
      },
      "outputs": [],
      "source": [
        "# Your code here"
      ]
    },
    {
      "cell_type": "markdown",
      "metadata": {
        "id": "IGtwT8PplOD_"
      },
      "source": [
        "Are the two variables $X$ and $Y$ positively or negatively correlated?<br>\n",
        "<br>\n",
        "**Answer:**\n",
        "<br><br>"
      ]
    },
    {
      "cell_type": "markdown",
      "metadata": {
        "id": "2HFC6jRHlOD_"
      },
      "source": [
        "E. Use ``np.linalg.eigh`` to check that the matrix ``C_XY`` is indeed positive definite."
      ]
    },
    {
      "cell_type": "code",
      "execution_count": null,
      "metadata": {
        "id": "LF4J1URPlOD_"
      },
      "outputs": [],
      "source": [
        "# Your code here"
      ]
    },
    {
      "cell_type": "markdown",
      "metadata": {
        "id": "lQdM6GHplOD_"
      },
      "source": [
        "F. Use the functionality of ``scipy.stats.multivariate_normal`` to plot the joint probability function of the samples of $X$ and $Y$ in the same plot as the scatter plot of $X$ and $Y$."
      ]
    },
    {
      "cell_type": "code",
      "execution_count": null,
      "metadata": {
        "id": "qI6i7q9KlOD_"
      },
      "outputs": [],
      "source": [
        "# Your code here"
      ]
    },
    {
      "cell_type": "markdown",
      "metadata": {
        "id": "yOgmBb8klOD_"
      },
      "source": [
        "G. Now, consider each $B-H$ curve a random vector.\n",
        "That is, the random vector $\\mathbf{B}$ corresponds to the magnetic flux density values at a fixed number of $H$-values. It is:\n",
        "\n",
        "$$\n",
        "\\mathbf{B} = (B(H_1), \\dots, B(H_{1500})).\n",
        "$$\n",
        "\n",
        "It is like $\\mathbf{X} = (X, Y)$ only now we have 1,500 dimensions instead of $2$.\n",
        "\n",
        "First, let's find the mean of this random vector:"
      ]
    },
    {
      "cell_type": "code",
      "execution_count": null,
      "metadata": {
        "id": "E8mgWnx4lOEA"
      },
      "outputs": [],
      "source": [
        "B_mu = np.mean(B_data, axis=0)\n",
        "B_mu"
      ]
    },
    {
      "cell_type": "markdown",
      "metadata": {
        "id": "8K2xM3W4lOEA"
      },
      "source": [
        "Let's plot the mean on top of all the data we have:"
      ]
    },
    {
      "cell_type": "code",
      "execution_count": null,
      "metadata": {
        "tags": [
          "hide-input"
        ],
        "id": "qgo5GUa5lOEA"
      },
      "outputs": [],
      "source": [
        "fig, ax = plt.subplots()\n",
        "ax.plot(B_data[:, :].T, 'r', lw=0.1)\n",
        "plt.plot([],[], 'r', label='Data')\n",
        "ax.plot(B_mu, label=\"Mean vector\")\n",
        "ax.set_xlabel(r\"Index $j$\")\n",
        "ax.set_ylabel(r\"$B$ (T)\")\n",
        "plt.legend(loc=\"best\", frameon=False)\n",
        "sns.despine(trim=True);"
      ]
    },
    {
      "cell_type": "markdown",
      "metadata": {
        "id": "k2RUMh-7lOEA"
      },
      "source": [
        "It looks good. Now, find the covariance matrix of $\\mathbf{B}$. This is going to be a 1500x1500 matrix."
      ]
    },
    {
      "cell_type": "code",
      "execution_count": null,
      "metadata": {
        "id": "VXo2-JuNlOEA"
      },
      "outputs": [],
      "source": [
        "B_cov = np.cov(B_data.T)\n",
        "B_cov"
      ]
    },
    {
      "cell_type": "markdown",
      "metadata": {
        "id": "HdGqBFdplOEA"
      },
      "source": [
        "Let's plot this matrix:"
      ]
    },
    {
      "cell_type": "code",
      "execution_count": null,
      "metadata": {
        "tags": [
          "hide-input"
        ],
        "id": "FrPvOUGxlOEA"
      },
      "outputs": [],
      "source": [
        "fig, ax = plt.subplots()\n",
        "c = ax.imshow(B_cov, interpolation='nearest')\n",
        "plt.colorbar(c, label=\"Covariance\")\n",
        "sns.despine(trim=True);"
      ]
    },
    {
      "cell_type": "markdown",
      "metadata": {
        "id": "9ZJ35aMQlOEA"
      },
      "source": [
        "The numbers are very small.\n",
        "This is because the covariance depends on the units of the variables.\n",
        "We need to do the same thing we did with the correlation coefficient: divide by the standard deviations of the variables.\n",
        "Here is how you can get the correlation coefficients:"
      ]
    },
    {
      "cell_type": "code",
      "execution_count": null,
      "metadata": {
        "id": "a_dbBkbGlOEB"
      },
      "outputs": [],
      "source": [
        "# Note that I have to remove the first point because it is always zero\n",
        "# and it has zero variance.\n",
        "B_corr = np.corrcoef(B_data[:,1:].T)\n",
        "B_corr"
      ]
    },
    {
      "cell_type": "markdown",
      "metadata": {
        "id": "qwd-uHt9lOEB"
      },
      "source": [
        "Here is the correlation visualized:"
      ]
    },
    {
      "cell_type": "code",
      "execution_count": null,
      "metadata": {
        "id": "Q0y0vLDelOEB"
      },
      "outputs": [],
      "source": [
        "fig, ax = plt.subplots()\n",
        "c = ax.imshow(B_corr, interpolation='nearest')\n",
        "plt.colorbar(c, label=\"Correlation\")\n",
        "sns.despine(trim=True);"
      ]
    },
    {
      "cell_type": "markdown",
      "metadata": {
        "id": "i_XGm4KilOEB"
      },
      "source": [
        "The values are quite a bit correlated. This makes sense because the curves are all very smooth and look very much alike.\n",
        "\n",
        "Let's check if the covariance is indeed positive definite:"
      ]
    },
    {
      "cell_type": "code",
      "execution_count": null,
      "metadata": {
        "id": "3nbE1F1wlOEB"
      },
      "outputs": [],
      "source": [
        "print(\"Eigenvalues of B_cov:\")\n",
        "print(np.linalg.eigh(B_cov)[0])"
      ]
    },
    {
      "cell_type": "markdown",
      "metadata": {
        "id": "sssC8rgClOEB"
      },
      "source": [
        "Notice that several eigenvalues are negative, but they are too small. Very close to zero. This happens often in practice when you are finding the covariance of large random vectors. It arises from the fact that we use floating-point arithmetic instead of real numbers. It is a numerical artifact.\n",
        "If you tried to use this covariance to make a multivariate average random vector using ``scipy.stats`` it would fail.\n",
        "Try this:"
      ]
    },
    {
      "cell_type": "code",
      "execution_count": null,
      "metadata": {
        "tags": [
          "hide-output"
        ],
        "id": "p4hx5XhWlOEB"
      },
      "outputs": [],
      "source": [
        "B = st.multivariate_normal(mean=B_mu, cov=B_cov)"
      ]
    },
    {
      "cell_type": "markdown",
      "metadata": {
        "id": "IQrt-qKWlOEB"
      },
      "source": [
        "The way to overcome this problem is to add a small positive number to the diagonal. This needs to be very small so that the distribution stays mostly the same. It must be the smallest possible number that makes the covariance matrix behave well. This is known as the *jitter* or the *nugget*. Find the nugget playing with the code below. Every time you try, multiply the nugget by ten."
      ]
    },
    {
      "cell_type": "code",
      "execution_count": null,
      "metadata": {
        "id": "KUteo--1lOEB"
      },
      "outputs": [],
      "source": [
        "# Pick the nugget here\n",
        "nugget = 1e-12\n",
        "# This is the modified covariance matrix\n",
        "B_cov_w_nugget = B_cov + nugget * np.eye(B_cov.shape[0])\n",
        "# Try building the distribution:\n",
        "try:\n",
        "    B = st.multivariate_normal(mean=B_mu, cov=B_cov_w_nugget)\n",
        "    print('It worked! Move on.')\n",
        "except:\n",
        "    print('It did not work. Increase nugget by 10.')"
      ]
    },
    {
      "cell_type": "markdown",
      "metadata": {
        "id": "L6k8_xjFlOEC"
      },
      "source": [
        "H. Now, you have created your first stochastic model of a complicated physical quantity. By sampling from your newly constructed random vector $\\mathbf{B}$, you have essentially quantified your uncertainty about the $B-H$ curve as induced by the inability to control steel production perfectly. Take ten samples of this random vector and plot them."
      ]
    },
    {
      "cell_type": "code",
      "execution_count": null,
      "metadata": {
        "id": "SDsj6avTlOEC"
      },
      "outputs": [],
      "source": [
        "# Your code here"
      ]
    },
    {
      "cell_type": "markdown",
      "metadata": {
        "id": "6D1TQ4ullOEC"
      },
      "source": [
        "Congratulations!\n",
        "You have made your first stochastic model of a physical field quantity.\n",
        "You can now sample $B-H$ curves in a way that honors the manufacturing uncertainties.\n",
        "This is the first step in uncertainty quantification studies.\n",
        "The next step would be to propagate these samples through Maxwell's equations to characterize the effect on the performance of an electric machine.\n",
        "If you want to see how that looks, look at {cite}`sahu2020` and {cite}`beltran2020`."
      ]
    },
    {
      "cell_type": "code",
      "execution_count": null,
      "metadata": {
        "id": "lAJ8evMwlOEC"
      },
      "outputs": [],
      "source": []
    }
  ],
  "metadata": {
    "celltoolbar": "Tags",
    "kernelspec": {
      "display_name": "Python 3",
      "language": "python",
      "name": "python3"
    },
    "language_info": {
      "codemirror_mode": {
        "name": "ipython",
        "version": 3
      },
      "file_extension": ".py",
      "mimetype": "text/x-python",
      "name": "python",
      "nbconvert_exporter": "python",
      "pygments_lexer": "ipython3",
      "version": "3.12.5"
    },
    "colab": {
      "provenance": []
    }
  },
  "nbformat": 4,
  "nbformat_minor": 0
}
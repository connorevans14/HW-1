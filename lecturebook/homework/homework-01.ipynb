{
  "cells": [
    {
      "cell_type": "markdown",
      "metadata": {
        "id": "So4sRz8ZzKKd"
      },
      "source": [
        "# Homework 1\n",
        "\n",
        "## References\n",
        "\n",
        "+ Lectures 1 through 4 (inclusive).\n",
        "\n",
        "\n",
        "## Instructions\n",
        "\n",
        "+ Type your name and email in the \"Student details\" section below.\n",
        "+ Develop the code and generate the figures you need to solve the problems using this notebook.\n",
        "+ For the answers that require a mathematical proof or derivation you should type them using latex. If you have never written latex before and you find it exceedingly difficult, we will likely accept handwritten solutions.\n",
        "+ The total homework points are 100. Please note that the problems are not weighed equally."
      ]
    },
    {
      "cell_type": "code",
      "execution_count": 63,
      "metadata": {
        "tags": [
          "hide-input"
        ],
        "id": "pIbb7Y1wzKKe"
      },
      "outputs": [],
      "source": [
        "MAKE_BOOK_FIGURES=True\n",
        "\n",
        "import numpy as np\n",
        "import scipy.stats as st\n",
        "import matplotlib as mpl\n",
        "import matplotlib.pyplot as plt\n",
        "%matplotlib inline\n",
        "import matplotlib_inline\n",
        "matplotlib_inline.backend_inline.set_matplotlib_formats('svg')\n",
        "import seaborn as sns\n",
        "sns.set_context(\"paper\")\n",
        "sns.set_style(\"ticks\")\n",
        "\n",
        "def set_book_style():\n",
        "    plt.style.use('seaborn-v0_8-white')\n",
        "    sns.set_style(\"ticks\")\n",
        "    sns.set_palette(\"deep\")\n",
        "\n",
        "    mpl.rcParams.update({\n",
        "        # Font settings\n",
        "        'font.family': 'serif',  # For academic publishing\n",
        "        'font.size': 8,  # As requested, 10pt font\n",
        "        'axes.labelsize': 8,\n",
        "        'axes.titlesize': 8,\n",
        "        'xtick.labelsize': 7,  # Slightly smaller for better readability\n",
        "        'ytick.labelsize': 7,\n",
        "        'legend.fontsize': 7,\n",
        "\n",
        "        # Line and marker settings for consistency\n",
        "        'axes.linewidth': 0.5,\n",
        "        'grid.linewidth': 0.5,\n",
        "        'lines.linewidth': 1.0,\n",
        "        'lines.markersize': 4,\n",
        "\n",
        "        # Layout to prevent clipped labels\n",
        "        'figure.constrained_layout.use': True,\n",
        "\n",
        "        # Default DPI (will override when saving)\n",
        "        'figure.dpi': 600,\n",
        "        'savefig.dpi': 600,\n",
        "\n",
        "        # Despine - remove top and right spines\n",
        "        'axes.spines.top': False,\n",
        "        'axes.spines.right': False,\n",
        "\n",
        "        # Remove legend frame\n",
        "        'legend.frameon': False,\n",
        "\n",
        "        # Additional trim settings\n",
        "        'figure.autolayout': True,  # Alternative to constrained_layout\n",
        "        'savefig.bbox': 'tight',    # Trim when saving\n",
        "        'savefig.pad_inches': 0.1   # Small padding to ensure nothing gets cut off\n",
        "    })\n",
        "\n",
        "def set_notebook_style():\n",
        "    plt.style.use('seaborn-v0_8-white')\n",
        "    sns.set_style(\"ticks\")\n",
        "    sns.set_palette(\"deep\")\n",
        "\n",
        "    mpl.rcParams.update({\n",
        "        # Font settings - using default sizes\n",
        "        'font.family': 'serif',\n",
        "        'axes.labelsize': 10,\n",
        "        'axes.titlesize': 10,\n",
        "        'xtick.labelsize': 9,\n",
        "        'ytick.labelsize': 9,\n",
        "        'legend.fontsize': 9,\n",
        "\n",
        "        # Line and marker settings\n",
        "        'axes.linewidth': 0.5,\n",
        "        'grid.linewidth': 0.5,\n",
        "        'lines.linewidth': 1.0,\n",
        "        'lines.markersize': 4,\n",
        "\n",
        "        # Layout settings\n",
        "        'figure.constrained_layout.use': True,\n",
        "\n",
        "        # Remove only top and right spines\n",
        "        'axes.spines.top': False,\n",
        "        'axes.spines.right': False,\n",
        "\n",
        "        # Remove legend frame\n",
        "        'legend.frameon': False,\n",
        "\n",
        "        # Additional settings\n",
        "        'figure.autolayout': True,\n",
        "        'savefig.bbox': 'tight',\n",
        "        'savefig.pad_inches': 0.1\n",
        "    })\n",
        "\n",
        "def save_for_book(fig, filename, is_vector=True, **kwargs):\n",
        "    \"\"\"\n",
        "    Save a figure with book-optimized settings.\n",
        "\n",
        "    Parameters:\n",
        "    -----------\n",
        "    fig : matplotlib figure\n",
        "        The figure to save\n",
        "    filename : str\n",
        "        Filename without extension\n",
        "    is_vector : bool\n",
        "        If True, saves as vector at 1000 dpi. If False, saves as raster at 600 dpi.\n",
        "    **kwargs : dict\n",
        "        Additional kwargs to pass to savefig\n",
        "    \"\"\"\n",
        "    # Set appropriate DPI and format based on figure type\n",
        "    if is_vector:\n",
        "        dpi = 1000\n",
        "        ext = '.pdf'\n",
        "    else:\n",
        "        dpi = 600\n",
        "        ext = '.tif'\n",
        "\n",
        "    # Save the figure with book settings\n",
        "    fig.savefig(f\"{filename}{ext}\", dpi=dpi, **kwargs)\n",
        "\n",
        "def make_full_width_fig():\n",
        "    return plt.subplots(figsize=(4.7, 2.9), constrained_layout=True)\n",
        "\n",
        "def make_half_width_fig():\n",
        "    return plt.subplots(figsize=(2.35, 1.45), constrained_layout=True)\n",
        "\n",
        "if MAKE_BOOK_FIGURES:\n",
        "    set_book_style()\n",
        "else:\n",
        "    set_notebook_style()\n",
        "\n",
        "make_full_width_fig = make_full_width_fig if MAKE_BOOK_FIGURES else lambda: plt.subplots()\n",
        "make_half_width_fig = make_half_width_fig if MAKE_BOOK_FIGURES else lambda: plt.subplots()"
      ]
    },
    {
      "cell_type": "markdown",
      "metadata": {
        "id": "xjKY3fDOzKKe"
      },
      "source": [
        "## Student details\n",
        "\n",
        "+ **First Name:**\n",
        "+ **Last Name:**\n",
        "+ **Email:**\n",
        "+ **Used generative AI to complete this assignment (Yes/No):**\n",
        "+ **Which generative AI tool did you use (if applicable)?:**"
      ]
    },
    {
      "cell_type": "markdown",
      "metadata": {
        "id": "kppEJ4RnzKKf"
      },
      "source": [
        "## Problem 1\n",
        "\n",
        "Disclaimer: This example is a modified version of the one found in a 2013 lecture on Bayesian Scientific Computing taught by Prof. Nicholas Zabaras.\n",
        "I am not sure where the original problem is coming from.\n",
        "\n",
        "We are tasked with assessing the usefulness of a tuberculosis test.\n",
        "The prior information I is:\n",
        "\n",
        "> The percentage of the population infected by tuberculosis is 0.4\\%.\n",
        "We have run several experiments and determined that:\n",
        "+ If a tested patient has the disease, then 80\\% of the time the test comes out positive.\n",
        "+ If a tested patient does not have the disease, then 90\\% of the time the test comes out negative.\n",
        "\n",
        "To facilitate your analysis, consider the following logical sentences concerning a patient:\n",
        "\n",
        "> A: The patient is tested and the test is positive.\n",
        "\n",
        "> B: The patient has tuberculosis.\n",
        "\n",
        "A. Find the probability that the patient has tuberculosis (before looking at the result of the test), i.e., $p(B|I)$. This is known as the base rate or the prior probability.<br>\n",
        "**Answer:**\n",
        "<br><br><br><br><br><br><br><br><br>\n"
      ]
    },
    {
      "cell_type": "markdown",
      "metadata": {
        "id": "i7isXn-UzKKf"
      },
      "source": [
        "B. Find the probability that the test is positive given that the patient has tuberculosis, i.e., $p(A|B,I)$.<br>\n",
        "**Answer:**\n",
        "<br><br><br><br><br><br><br><br><br>"
      ]
    },
    {
      "cell_type": "markdown",
      "metadata": {
        "id": "98ZmTzOczKKf"
      },
      "source": [
        "C. Find the probability that the test is positive given that the patient does not have tuberculosis, i.e., $p(A|\\neg B, I)$.<br>\n",
        "**Answer:**\n",
        "\n",
        "<br><br><br><br><br><br><br><br><br>\n"
      ]
    },
    {
      "cell_type": "markdown",
      "metadata": {
        "id": "8IL6tIxDzKKf"
      },
      "source": [
        "D. Find the probability that a patient that tested positive has tuberculosis, i.e., $p(B|A,I)$.<br>\n",
        "**Answer:**\n",
        "<br><br><br><br><br><br><br><br>"
      ]
    },
    {
      "cell_type": "markdown",
      "metadata": {
        "id": "6Epz-fpSzKKf"
      },
      "source": [
        "E. Find the probability that a patient that tested negative has tuberculosis, i.e., $p(B|\\neg A, I)$. Does the test change our prior state of knowledge about about the patient? Is the test useful?<br>\n",
        "**Answer:**\n",
        "<br><br><br><br><br><br><br><br>"
      ]
    },
    {
      "cell_type": "markdown",
      "metadata": {
        "id": "63lpDxkfzKKg"
      },
      "source": [
        "F. What would a good test look like? Find values for\n",
        "\n",
        "$$\n",
        "p(A|B,I)= p(\\text{test is positive} |\\text{has tuberculosis},I),\n",
        "$$\n",
        "\n",
        "and\n",
        "\n",
        "$$\n",
        "p(A| \\neg B, I) = p(\\text{test is positive}|\\text{does not have tuberculosis}, I),\n",
        "$$\n",
        "\n",
        "so that\n",
        "\n",
        "$$\n",
        "p(B|A, I) = p(\\text{has tuberculosis}|\\text{test is positive}, I) = 0.99.\n",
        "$$\n",
        "\n",
        "There are more than one solutions. How would you pick a good one? Thinking in this way can help you set goals if you work in R\\&D. If you have time, try to figure out whether or not there exists such an accurate test for tuberculosis<br>\n",
        "**Answer:**\n",
        "<br><br><br><br><br><br><br><br><br>"
      ]
    },
    {
      "cell_type": "markdown",
      "metadata": {
        "id": "RwUSAEsNzKKg"
      },
      "source": [
        "## Problem 2 - Practice with discrete random variables\n",
        "\n",
        "Consider the Categorical random variable:\n",
        "\n",
        "$$\n",
        "X \\sim \\operatorname{Categorical}(0.3, 0.1, 0.2, 0.4),\n",
        "$$\n",
        "\n",
        "taking values in $\\{0,1,2,3\\}$. Find the following (you may use ``scipy.stats.rv_discrete`` or do it by hand):"
      ]
    },
    {
      "cell_type": "markdown",
      "metadata": {
        "id": "TV62c1KIzKKg"
      },
      "source": [
        "A. The expectation $\\mathbb{E}[X]$.\n",
        "\n",
        "**Answer:**\n",
        "<br><br>"
      ]
    },
    {
      "cell_type": "code",
      "execution_count": 64,
      "metadata": {
        "colab": {
          "base_uri": "https://localhost:8080/"
        },
        "id": "AuTPTiXkzKKg",
        "outputId": "263a068c-f315-42c0-a397-cc759d921995"
      },
      "outputs": [
        {
          "output_type": "stream",
          "name": "stdout",
          "text": [
            "E[X] = 1.70\n"
          ]
        }
      ],
      "source": [
        "# You can also answer with code here:\n",
        "ps = [0.3,0.1,0.2,0.4]\n",
        "xs = np.array([0,1,2,3])\n",
        "X = st.rv_discrete(name = \"Custom Categorical\", values=(xs,ps))\n",
        "print(f\"E[X] = {X.expect():.2f}\")"
      ]
    },
    {
      "cell_type": "markdown",
      "metadata": {
        "id": "AyrnCX4szKKg"
      },
      "source": [
        "B. The variance $\\mathbb{V}[X]$.\n",
        "\n",
        "**Answer:**\n",
        "<br><br>"
      ]
    },
    {
      "cell_type": "code",
      "execution_count": 65,
      "metadata": {
        "colab": {
          "base_uri": "https://localhost:8080/"
        },
        "id": "zbh9WQW6zKKg",
        "outputId": "0990c463-c70a-4c72-d37a-0e0ba441928a"
      },
      "outputs": [
        {
          "output_type": "stream",
          "name": "stdout",
          "text": [
            "V[X] = 1.61\n"
          ]
        }
      ],
      "source": [
        "# You can also answer with code here:\n",
        "print(f\"V[X] = {X.var():.2f}\")"
      ]
    },
    {
      "cell_type": "markdown",
      "metadata": {
        "id": "uGeT79KdzKKh"
      },
      "source": [
        "C. Plot the probability mass function of $X$."
      ]
    },
    {
      "cell_type": "code",
      "execution_count": 66,
      "metadata": {
        "colab": {
          "base_uri": "https://localhost:8080/",
          "height": 478
        },
        "id": "uOmue89XzKKh",
        "outputId": "b8970b10-85d1-4046-c006-1e04a3ef258e"
      },
      "outputs": [
        {
          "output_type": "display_data",
          "data": {
            "text/plain": [
              "<Figure size 3840x2880 with 1 Axes>"
            ],
            "image/svg+xml": "<?xml version=\"1.0\" encoding=\"utf-8\" standalone=\"no\"?>\n<!DOCTYPE svg PUBLIC \"-//W3C//DTD SVG 1.1//EN\"\n  \"http://www.w3.org/Graphics/SVG/1.1/DTD/svg11.dtd\">\n<svg xmlns:xlink=\"http://www.w3.org/1999/xlink\" width=\"457.92pt\" height=\"342.72pt\" viewBox=\"0 0 457.92 342.72\" xmlns=\"http://www.w3.org/2000/svg\" version=\"1.1\">\n <metadata>\n  <rdf:RDF xmlns:dc=\"http://purl.org/dc/elements/1.1/\" xmlns:cc=\"http://creativecommons.org/ns#\" xmlns:rdf=\"http://www.w3.org/1999/02/22-rdf-syntax-ns#\">\n   <cc:Work>\n    <dc:type rdf:resource=\"http://purl.org/dc/dcmitype/StillImage\"/>\n    <dc:date>2025-06-24T20:34:32.923035</dc:date>\n    <dc:format>image/svg+xml</dc:format>\n    <dc:creator>\n     <cc:Agent>\n      <dc:title>Matplotlib v3.10.0, https://matplotlib.org/</dc:title>\n     </cc:Agent>\n    </dc:creator>\n   </cc:Work>\n  </rdf:RDF>\n </metadata>\n <defs>\n  <style type=\"text/css\">*{stroke-linejoin: round; stroke-linecap: butt}</style>\n </defs>\n <g id=\"figure_1\">\n  <g id=\"patch_1\">\n   <path d=\"M 0 342.72 \nL 457.92 342.72 \nL 457.92 0 \nL 0 0 \nz\n\" style=\"fill: #ffffff\"/>\n  </g>\n  <g id=\"axes_1\">\n   <g id=\"patch_2\">\n    <path d=\"M 38.045938 313.502812 \nL 450.72 313.502812 \nL 450.72 7.2 \nL 38.045938 7.2 \nz\n\" style=\"fill: #ffffff\"/>\n   </g>\n   <g id=\"matplotlib.axis_1\">\n    <g id=\"xtick_1\">\n     <g id=\"line2d_1\"/>\n     <g id=\"text_1\">\n      <!-- −0.5 -->\n      <g style=\"fill: #262626\" transform=\"translate(38.43228 322.321719) scale(0.07 -0.07)\">\n       <defs>\n        <path id=\"DejaVuSerif-2212\" d=\"M 678 2259 \nL 4684 2259 \nL 4684 1753 \nL 678 1753 \nL 678 2259 \nz\n\" transform=\"scale(0.015625)\"/>\n        <path id=\"DejaVuSerif-30\" d=\"M 2034 219 \nQ 2513 219 2750 744 \nQ 2988 1269 2988 2328 \nQ 2988 3391 2750 3916 \nQ 2513 4441 2034 4441 \nQ 1556 4441 1318 3916 \nQ 1081 3391 1081 2328 \nQ 1081 1269 1318 744 \nQ 1556 219 2034 219 \nz\nM 2034 -91 \nQ 1275 -91 848 546 \nQ 422 1184 422 2328 \nQ 422 3475 848 4112 \nQ 1275 4750 2034 4750 \nQ 2797 4750 3222 4112 \nQ 3647 3475 3647 2328 \nQ 3647 1184 3222 546 \nQ 2797 -91 2034 -91 \nz\n\" transform=\"scale(0.015625)\"/>\n        <path id=\"DejaVuSerif-2e\" d=\"M 603 325 \nQ 603 500 722 622 \nQ 841 744 1019 744 \nQ 1191 744 1312 622 \nQ 1434 500 1434 325 \nQ 1434 153 1312 31 \nQ 1191 -91 1019 -91 \nQ 841 -91 722 29 \nQ 603 150 603 325 \nz\n\" transform=\"scale(0.015625)\"/>\n        <path id=\"DejaVuSerif-35\" d=\"M 3219 4666 \nL 3219 4153 \nL 1081 4153 \nL 1081 2816 \nQ 1244 2928 1461 2984 \nQ 1678 3041 1947 3041 \nQ 2703 3041 3140 2622 \nQ 3578 2203 3578 1478 \nQ 3578 738 3136 323 \nQ 2694 -91 1894 -91 \nQ 1572 -91 1234 -12 \nQ 897 66 544 225 \nL 544 1131 \nL 897 1131 \nQ 925 688 1179 453 \nQ 1434 219 1894 219 \nQ 2388 219 2653 544 \nQ 2919 869 2919 1478 \nQ 2919 2084 2655 2407 \nQ 2391 2731 1894 2731 \nQ 1613 2731 1398 2631 \nQ 1184 2531 1019 2322 \nL 750 2322 \nL 750 4666 \nL 3219 4666 \nz\n\" transform=\"scale(0.015625)\"/>\n       </defs>\n       <use xlink:href=\"#DejaVuSerif-2212\"/>\n       <use xlink:href=\"#DejaVuSerif-30\" transform=\"translate(83.789062 0)\"/>\n       <use xlink:href=\"#DejaVuSerif-2e\" transform=\"translate(147.412109 0)\"/>\n       <use xlink:href=\"#DejaVuSerif-35\" transform=\"translate(179.199219 0)\"/>\n      </g>\n     </g>\n    </g>\n    <g id=\"xtick_2\">\n     <g id=\"line2d_2\"/>\n     <g id=\"text_2\">\n      <!-- 0.0 -->\n      <g style=\"fill: #262626\" transform=\"translate(90.728097 322.321719) scale(0.07 -0.07)\">\n       <use xlink:href=\"#DejaVuSerif-30\"/>\n       <use xlink:href=\"#DejaVuSerif-2e\" transform=\"translate(63.623047 0)\"/>\n       <use xlink:href=\"#DejaVuSerif-30\" transform=\"translate(95.410156 0)\"/>\n      </g>\n     </g>\n    </g>\n    <g id=\"xtick_3\">\n     <g id=\"line2d_3\"/>\n     <g id=\"text_3\">\n      <!-- 0.5 -->\n      <g style=\"fill: #262626\" transform=\"translate(140.091023 322.321719) scale(0.07 -0.07)\">\n       <use xlink:href=\"#DejaVuSerif-30\"/>\n       <use xlink:href=\"#DejaVuSerif-2e\" transform=\"translate(63.623047 0)\"/>\n       <use xlink:href=\"#DejaVuSerif-35\" transform=\"translate(95.410156 0)\"/>\n      </g>\n     </g>\n    </g>\n    <g id=\"xtick_4\">\n     <g id=\"line2d_4\"/>\n     <g id=\"text_4\">\n      <!-- 1.0 -->\n      <g style=\"fill: #262626\" transform=\"translate(189.453949 322.321719) scale(0.07 -0.07)\">\n       <defs>\n        <path id=\"DejaVuSerif-31\" d=\"M 909 0 \nL 909 331 \nL 1722 331 \nL 1722 4213 \nL 781 3603 \nL 781 4013 \nL 1919 4750 \nL 2350 4750 \nL 2350 331 \nL 3163 331 \nL 3163 0 \nL 909 0 \nz\n\" transform=\"scale(0.015625)\"/>\n       </defs>\n       <use xlink:href=\"#DejaVuSerif-31\"/>\n       <use xlink:href=\"#DejaVuSerif-2e\" transform=\"translate(63.623047 0)\"/>\n       <use xlink:href=\"#DejaVuSerif-30\" transform=\"translate(95.410156 0)\"/>\n      </g>\n     </g>\n    </g>\n    <g id=\"xtick_5\">\n     <g id=\"line2d_5\"/>\n     <g id=\"text_5\">\n      <!-- 1.5 -->\n      <g style=\"fill: #262626\" transform=\"translate(238.816875 322.321719) scale(0.07 -0.07)\">\n       <use xlink:href=\"#DejaVuSerif-31\"/>\n       <use xlink:href=\"#DejaVuSerif-2e\" transform=\"translate(63.623047 0)\"/>\n       <use xlink:href=\"#DejaVuSerif-35\" transform=\"translate(95.410156 0)\"/>\n      </g>\n     </g>\n    </g>\n    <g id=\"xtick_6\">\n     <g id=\"line2d_6\"/>\n     <g id=\"text_6\">\n      <!-- 2.0 -->\n      <g style=\"fill: #262626\" transform=\"translate(288.179801 322.321719) scale(0.07 -0.07)\">\n       <defs>\n        <path id=\"DejaVuSerif-32\" d=\"M 819 3553 \nL 469 3553 \nL 469 4384 \nQ 803 4563 1142 4656 \nQ 1481 4750 1806 4750 \nQ 2534 4750 2956 4397 \nQ 3378 4044 3378 3438 \nQ 3378 2753 2422 1800 \nQ 2347 1728 2309 1691 \nL 1131 513 \nL 3078 513 \nL 3078 1088 \nL 3444 1088 \nL 3444 0 \nL 434 0 \nL 434 341 \nL 1850 1753 \nQ 2319 2222 2519 2614 \nQ 2719 3006 2719 3438 \nQ 2719 3909 2473 4175 \nQ 2228 4441 1797 4441 \nQ 1350 4441 1106 4219 \nQ 863 3997 819 3553 \nz\n\" transform=\"scale(0.015625)\"/>\n       </defs>\n       <use xlink:href=\"#DejaVuSerif-32\"/>\n       <use xlink:href=\"#DejaVuSerif-2e\" transform=\"translate(63.623047 0)\"/>\n       <use xlink:href=\"#DejaVuSerif-30\" transform=\"translate(95.410156 0)\"/>\n      </g>\n     </g>\n    </g>\n    <g id=\"xtick_7\">\n     <g id=\"line2d_7\"/>\n     <g id=\"text_7\">\n      <!-- 2.5 -->\n      <g style=\"fill: #262626\" transform=\"translate(337.542727 322.321719) scale(0.07 -0.07)\">\n       <use xlink:href=\"#DejaVuSerif-32\"/>\n       <use xlink:href=\"#DejaVuSerif-2e\" transform=\"translate(63.623047 0)\"/>\n       <use xlink:href=\"#DejaVuSerif-35\" transform=\"translate(95.410156 0)\"/>\n      </g>\n     </g>\n    </g>\n    <g id=\"xtick_8\">\n     <g id=\"line2d_8\"/>\n     <g id=\"text_8\">\n      <!-- 3.0 -->\n      <g style=\"fill: #262626\" transform=\"translate(386.905653 322.321719) scale(0.07 -0.07)\">\n       <defs>\n        <path id=\"DejaVuSerif-33\" d=\"M 622 4469 \nQ 988 4606 1323 4678 \nQ 1659 4750 1953 4750 \nQ 2638 4750 3022 4454 \nQ 3406 4159 3406 3634 \nQ 3406 3213 3140 2930 \nQ 2875 2647 2388 2547 \nQ 2963 2466 3280 2130 \nQ 3597 1794 3597 1259 \nQ 3597 606 3158 257 \nQ 2719 -91 1894 -91 \nQ 1528 -91 1179 -12 \nQ 831 66 488 225 \nL 488 1131 \nL 838 1131 \nQ 869 681 1141 450 \nQ 1413 219 1906 219 \nQ 2384 219 2661 495 \nQ 2938 772 2938 1253 \nQ 2938 1803 2653 2086 \nQ 2369 2369 1819 2369 \nL 1522 2369 \nL 1522 2688 \nL 1678 2688 \nQ 2225 2688 2498 2914 \nQ 2772 3141 2772 3597 \nQ 2772 4006 2547 4223 \nQ 2322 4441 1900 4441 \nQ 1478 4441 1245 4241 \nQ 1013 4041 972 3647 \nL 622 3647 \nL 622 4469 \nz\n\" transform=\"scale(0.015625)\"/>\n       </defs>\n       <use xlink:href=\"#DejaVuSerif-33\"/>\n       <use xlink:href=\"#DejaVuSerif-2e\" transform=\"translate(63.623047 0)\"/>\n       <use xlink:href=\"#DejaVuSerif-30\" transform=\"translate(95.410156 0)\"/>\n      </g>\n     </g>\n    </g>\n    <g id=\"xtick_9\">\n     <g id=\"line2d_9\"/>\n     <g id=\"text_9\">\n      <!-- 3.5 -->\n      <g style=\"fill: #262626\" transform=\"translate(436.26858 322.321719) scale(0.07 -0.07)\">\n       <use xlink:href=\"#DejaVuSerif-33\"/>\n       <use xlink:href=\"#DejaVuSerif-2e\" transform=\"translate(63.623047 0)\"/>\n       <use xlink:href=\"#DejaVuSerif-35\" transform=\"translate(95.410156 0)\"/>\n      </g>\n     </g>\n    </g>\n    <g id=\"text_10\">\n     <!-- $x$ -->\n     <g style=\"fill: #262626\" transform=\"translate(241.982969 333.85625) scale(0.08 -0.08)\">\n      <defs>\n       <path id=\"DejaVuSans-Oblique-78\" d=\"M 3841 3500 \nL 2234 1784 \nL 3219 0 \nL 2559 0 \nL 1819 1388 \nL 531 0 \nL -166 0 \nL 1556 1844 \nL 641 3500 \nL 1300 3500 \nL 1972 2234 \nL 3144 3500 \nL 3841 3500 \nz\n\" transform=\"scale(0.015625)\"/>\n      </defs>\n      <use xlink:href=\"#DejaVuSans-Oblique-78\" transform=\"translate(0 0.3125)\"/>\n     </g>\n    </g>\n   </g>\n   <g id=\"matplotlib.axis_2\">\n    <g id=\"ytick_1\">\n     <g id=\"line2d_10\"/>\n     <g id=\"text_11\">\n      <!-- 0.00 -->\n      <g style=\"fill: #262626\" transform=\"translate(18.96 316.162266) scale(0.07 -0.07)\">\n       <use xlink:href=\"#DejaVuSerif-30\"/>\n       <use xlink:href=\"#DejaVuSerif-2e\" transform=\"translate(63.623047 0)\"/>\n       <use xlink:href=\"#DejaVuSerif-30\" transform=\"translate(95.410156 0)\"/>\n       <use xlink:href=\"#DejaVuSerif-30\" transform=\"translate(159.033203 0)\"/>\n      </g>\n     </g>\n    </g>\n    <g id=\"ytick_2\">\n     <g id=\"line2d_11\"/>\n     <g id=\"text_12\">\n      <!-- 0.05 -->\n      <g style=\"fill: #262626\" transform=\"translate(18.96 279.697645) scale(0.07 -0.07)\">\n       <use xlink:href=\"#DejaVuSerif-30\"/>\n       <use xlink:href=\"#DejaVuSerif-2e\" transform=\"translate(63.623047 0)\"/>\n       <use xlink:href=\"#DejaVuSerif-30\" transform=\"translate(95.410156 0)\"/>\n       <use xlink:href=\"#DejaVuSerif-35\" transform=\"translate(159.033203 0)\"/>\n      </g>\n     </g>\n    </g>\n    <g id=\"ytick_3\">\n     <g id=\"line2d_12\"/>\n     <g id=\"text_13\">\n      <!-- 0.10 -->\n      <g style=\"fill: #262626\" transform=\"translate(18.96 243.233025) scale(0.07 -0.07)\">\n       <use xlink:href=\"#DejaVuSerif-30\"/>\n       <use xlink:href=\"#DejaVuSerif-2e\" transform=\"translate(63.623047 0)\"/>\n       <use xlink:href=\"#DejaVuSerif-31\" transform=\"translate(95.410156 0)\"/>\n       <use xlink:href=\"#DejaVuSerif-30\" transform=\"translate(159.033203 0)\"/>\n      </g>\n     </g>\n    </g>\n    <g id=\"ytick_4\">\n     <g id=\"line2d_13\"/>\n     <g id=\"text_14\">\n      <!-- 0.15 -->\n      <g style=\"fill: #262626\" transform=\"translate(18.96 206.768404) scale(0.07 -0.07)\">\n       <use xlink:href=\"#DejaVuSerif-30\"/>\n       <use xlink:href=\"#DejaVuSerif-2e\" transform=\"translate(63.623047 0)\"/>\n       <use xlink:href=\"#DejaVuSerif-31\" transform=\"translate(95.410156 0)\"/>\n       <use xlink:href=\"#DejaVuSerif-35\" transform=\"translate(159.033203 0)\"/>\n      </g>\n     </g>\n    </g>\n    <g id=\"ytick_5\">\n     <g id=\"line2d_14\"/>\n     <g id=\"text_15\">\n      <!-- 0.20 -->\n      <g style=\"fill: #262626\" transform=\"translate(18.96 170.303783) scale(0.07 -0.07)\">\n       <use xlink:href=\"#DejaVuSerif-30\"/>\n       <use xlink:href=\"#DejaVuSerif-2e\" transform=\"translate(63.623047 0)\"/>\n       <use xlink:href=\"#DejaVuSerif-32\" transform=\"translate(95.410156 0)\"/>\n       <use xlink:href=\"#DejaVuSerif-30\" transform=\"translate(159.033203 0)\"/>\n      </g>\n     </g>\n    </g>\n    <g id=\"ytick_6\">\n     <g id=\"line2d_15\"/>\n     <g id=\"text_16\">\n      <!-- 0.25 -->\n      <g style=\"fill: #262626\" transform=\"translate(18.96 133.839163) scale(0.07 -0.07)\">\n       <use xlink:href=\"#DejaVuSerif-30\"/>\n       <use xlink:href=\"#DejaVuSerif-2e\" transform=\"translate(63.623047 0)\"/>\n       <use xlink:href=\"#DejaVuSerif-32\" transform=\"translate(95.410156 0)\"/>\n       <use xlink:href=\"#DejaVuSerif-35\" transform=\"translate(159.033203 0)\"/>\n      </g>\n     </g>\n    </g>\n    <g id=\"ytick_7\">\n     <g id=\"line2d_16\"/>\n     <g id=\"text_17\">\n      <!-- 0.30 -->\n      <g style=\"fill: #262626\" transform=\"translate(18.96 97.374542) scale(0.07 -0.07)\">\n       <use xlink:href=\"#DejaVuSerif-30\"/>\n       <use xlink:href=\"#DejaVuSerif-2e\" transform=\"translate(63.623047 0)\"/>\n       <use xlink:href=\"#DejaVuSerif-33\" transform=\"translate(95.410156 0)\"/>\n       <use xlink:href=\"#DejaVuSerif-30\" transform=\"translate(159.033203 0)\"/>\n      </g>\n     </g>\n    </g>\n    <g id=\"ytick_8\">\n     <g id=\"line2d_17\"/>\n     <g id=\"text_18\">\n      <!-- 0.35 -->\n      <g style=\"fill: #262626\" transform=\"translate(18.96 60.909922) scale(0.07 -0.07)\">\n       <use xlink:href=\"#DejaVuSerif-30\"/>\n       <use xlink:href=\"#DejaVuSerif-2e\" transform=\"translate(63.623047 0)\"/>\n       <use xlink:href=\"#DejaVuSerif-33\" transform=\"translate(95.410156 0)\"/>\n       <use xlink:href=\"#DejaVuSerif-35\" transform=\"translate(159.033203 0)\"/>\n      </g>\n     </g>\n    </g>\n    <g id=\"ytick_9\">\n     <g id=\"line2d_18\"/>\n     <g id=\"text_19\">\n      <!-- 0.40 -->\n      <g style=\"fill: #262626\" transform=\"translate(18.96 24.445301) scale(0.07 -0.07)\">\n       <defs>\n        <path id=\"DejaVuSerif-34\" d=\"M 2234 1581 \nL 2234 4063 \nL 641 1581 \nL 2234 1581 \nz\nM 3609 0 \nL 1484 0 \nL 1484 331 \nL 2234 331 \nL 2234 1247 \nL 197 1247 \nL 197 1588 \nL 2241 4750 \nL 2859 4750 \nL 2859 1581 \nL 3750 1581 \nL 3750 1247 \nL 2859 1247 \nL 2859 331 \nL 3609 331 \nL 3609 0 \nz\n\" transform=\"scale(0.015625)\"/>\n       </defs>\n       <use xlink:href=\"#DejaVuSerif-30\"/>\n       <use xlink:href=\"#DejaVuSerif-2e\" transform=\"translate(63.623047 0)\"/>\n       <use xlink:href=\"#DejaVuSerif-34\" transform=\"translate(95.410156 0)\"/>\n       <use xlink:href=\"#DejaVuSerif-30\" transform=\"translate(159.033203 0)\"/>\n      </g>\n     </g>\n    </g>\n    <g id=\"text_20\">\n     <!-- $p(x)$ -->\n     <g style=\"fill: #262626\" transform=\"translate(13.28 168.391406) rotate(-90) scale(0.08 -0.08)\">\n      <defs>\n       <path id=\"DejaVuSans-Oblique-70\" d=\"M 3175 2156 \nQ 3175 2616 2975 2859 \nQ 2775 3103 2400 3103 \nQ 2144 3103 1911 2972 \nQ 1678 2841 1497 2591 \nQ 1319 2344 1212 1994 \nQ 1106 1644 1106 1300 \nQ 1106 863 1306 627 \nQ 1506 391 1875 391 \nQ 2147 391 2380 519 \nQ 2613 647 2778 891 \nQ 2956 1147 3065 1494 \nQ 3175 1841 3175 2156 \nz\nM 1394 2969 \nQ 1625 3272 1939 3428 \nQ 2253 3584 2638 3584 \nQ 3175 3584 3472 3232 \nQ 3769 2881 3769 2247 \nQ 3769 1728 3584 1258 \nQ 3400 788 3053 416 \nQ 2822 169 2531 39 \nQ 2241 -91 1919 -91 \nQ 1547 -91 1294 64 \nQ 1041 219 916 525 \nL 556 -1331 \nL -19 -1331 \nL 922 3500 \nL 1497 3500 \nL 1394 2969 \nz\n\" transform=\"scale(0.015625)\"/>\n       <path id=\"DejaVuSans-28\" d=\"M 1984 4856 \nQ 1566 4138 1362 3434 \nQ 1159 2731 1159 2009 \nQ 1159 1288 1364 580 \nQ 1569 -128 1984 -844 \nL 1484 -844 \nQ 1016 -109 783 600 \nQ 550 1309 550 2009 \nQ 550 2706 781 3412 \nQ 1013 4119 1484 4856 \nL 1984 4856 \nz\n\" transform=\"scale(0.015625)\"/>\n       <path id=\"DejaVuSans-29\" d=\"M 513 4856 \nL 1013 4856 \nQ 1481 4119 1714 3412 \nQ 1947 2706 1947 2009 \nQ 1947 1309 1714 600 \nQ 1481 -109 1013 -844 \nL 513 -844 \nQ 928 -128 1133 580 \nQ 1338 1288 1338 2009 \nQ 1338 2731 1133 3434 \nQ 928 4138 513 4856 \nz\n\" transform=\"scale(0.015625)\"/>\n      </defs>\n      <use xlink:href=\"#DejaVuSans-Oblique-70\" transform=\"translate(0 0.125)\"/>\n      <use xlink:href=\"#DejaVuSans-28\" transform=\"translate(63.476562 0.125)\"/>\n      <use xlink:href=\"#DejaVuSans-Oblique-78\" transform=\"translate(102.490234 0.125)\"/>\n      <use xlink:href=\"#DejaVuSans-29\" transform=\"translate(161.669922 0.125)\"/>\n     </g>\n    </g>\n   </g>\n   <g id=\"patch_3\">\n    <path d=\"M 56.803849 313.502812 \nL 135.784531 313.502812 \nL 135.784531 94.715089 \nL 56.803849 94.715089 \nz\n\" clip-path=\"url(#pbaf51f59eb)\" style=\"fill: #4c72b0; stroke: #ffffff; stroke-width: 0.8; stroke-linejoin: miter\"/>\n   </g>\n   <g id=\"patch_4\">\n    <path d=\"M 155.529702 313.502812 \nL 234.510384 313.502812 \nL 234.510384 240.573571 \nL 155.529702 240.573571 \nz\n\" clip-path=\"url(#pbaf51f59eb)\" style=\"fill: #4c72b0; stroke: #ffffff; stroke-width: 0.8; stroke-linejoin: miter\"/>\n   </g>\n   <g id=\"patch_5\">\n    <path d=\"M 254.255554 313.502812 \nL 333.236236 313.502812 \nL 333.236236 167.64433 \nL 254.255554 167.64433 \nz\n\" clip-path=\"url(#pbaf51f59eb)\" style=\"fill: #4c72b0; stroke: #ffffff; stroke-width: 0.8; stroke-linejoin: miter\"/>\n   </g>\n   <g id=\"patch_6\">\n    <path d=\"M 352.981406 313.502812 \nL 431.962088 313.502812 \nL 431.962088 21.785848 \nL 352.981406 21.785848 \nz\n\" clip-path=\"url(#pbaf51f59eb)\" style=\"fill: #4c72b0; stroke: #ffffff; stroke-width: 0.8; stroke-linejoin: miter\"/>\n   </g>\n   <g id=\"patch_7\">\n    <path d=\"M 38.045938 313.502812 \nL 38.045938 21.785848 \n\" style=\"fill: none; stroke: #262626; stroke-width: 0.5; stroke-linejoin: miter; stroke-linecap: square\"/>\n   </g>\n   <g id=\"patch_8\">\n    <path d=\"M 46.931264 313.502812 \nL 441.834673 313.502812 \n\" style=\"fill: none; stroke: #262626; stroke-width: 0.5; stroke-linejoin: miter; stroke-linecap: square\"/>\n   </g>\n  </g>\n </g>\n <defs>\n  <clipPath id=\"pbaf51f59eb\">\n   <rect x=\"38.045938\" y=\"7.2\" width=\"412.674062\" height=\"306.302812\"/>\n  </clipPath>\n </defs>\n</svg>\n"
          },
          "metadata": {}
        }
      ],
      "source": [
        "# Your code here. Hint: use a bar plot\n",
        "fig, ax = plt.subplots()\n",
        "ax.bar(xs, X.pmf(xs))\n",
        "ax.set_xlabel(\"$x$\")\n",
        "ax.set_ylabel(\"$p(x)$\")\n",
        "sns.despine(trim=True);"
      ]
    },
    {
      "cell_type": "markdown",
      "metadata": {
        "id": "0ZfgdlC8zKKh"
      },
      "source": [
        "D. Find the probability that $X$ is in $\\{0, 2\\}$.\n",
        "\n",
        "**Answer:**\n",
        "<br><br>"
      ]
    },
    {
      "cell_type": "code",
      "execution_count": 67,
      "metadata": {
        "colab": {
          "base_uri": "https://localhost:8080/"
        },
        "id": "zIORvAYIzKKh",
        "outputId": "7d1f35e4-58dd-4b9c-ccf4-fc7cfd1b464b"
      },
      "outputs": [
        {
          "output_type": "stream",
          "name": "stdout",
          "text": [
            "p(X=2) = 0.20\n"
          ]
        }
      ],
      "source": [
        "# You can also answer with code here:\n",
        "print(f\"p(X=2) = {X.pmf(2):.2f}\")"
      ]
    },
    {
      "cell_type": "markdown",
      "metadata": {
        "id": "egUIV_g6zKKh"
      },
      "source": [
        "E. Find $\\mathbb{E}[4X + 3]$.\n",
        "\n",
        "**Answer:**\n",
        "<br><br>"
      ]
    },
    {
      "cell_type": "code",
      "execution_count": 68,
      "metadata": {
        "colab": {
          "base_uri": "https://localhost:8080/"
        },
        "id": "F-3AzUqNzKKh",
        "outputId": "67220989-6816-4d25-96af-c0c7aeeb007d"
      },
      "outputs": [
        {
          "output_type": "stream",
          "name": "stdout",
          "text": [
            "E[exp(X)] = 16.00\n"
          ]
        }
      ],
      "source": [
        "# You can also answer with code here:\n",
        "E_eX = np.sum(3 + 4 * X.pmf(xs))\n",
        "print(f\"E[exp(X)] = {E_eX:.2f}\")"
      ]
    },
    {
      "cell_type": "markdown",
      "metadata": {
        "id": "cksggVQCzKKh"
      },
      "source": [
        "F. Find $\\mathbb{V}[4X+3]$.\n",
        "\n",
        "**Answer:**\n",
        "<br><br>"
      ]
    },
    {
      "cell_type": "code",
      "execution_count": 69,
      "metadata": {
        "id": "arKTbdmpzKKh"
      },
      "outputs": [],
      "source": [
        "# You can also answer with code here:"
      ]
    },
    {
      "cell_type": "markdown",
      "metadata": {
        "id": "dFiDsDiKzKKh"
      },
      "source": [
        "## Problem 3 - Predicting the probability of major earthquakes in Southern California\n",
        "\n",
        "The [San Andreas fault](https://en.wikipedia.org/wiki/San_Andreas_Fault) extends through California forming the boundary between the Pacific and the North American tectonic plates.\n",
        "It has caused some of the major earthquakes on Earth.\n",
        "We are going to focus on Southern California and we would like to assess the probability of a major earthquake, defined as an earthquake of magnitude 6.5 or greater, during the next ten years.\n",
        "\n",
        "A. The first thing we are going to do is go over a [database of past earthquakes](https://scedc.caltech.edu/significant/chron-index.html) that have occured in Southern California and collect the relevant data. We are going to start at 1900 because data before that time may are unreliable.\n",
        "Go over each decade and count the occurence of a major earthquake (i.e., count the number of organge and red colors in each decade). We have done this for you."
      ]
    },
    {
      "cell_type": "code",
      "execution_count": 70,
      "metadata": {
        "colab": {
          "base_uri": "https://localhost:8080/",
          "height": 533
        },
        "id": "jGe3nWGnzKKh",
        "outputId": "5c88a057-0aed-41a0-c4ed-634957ec05e4"
      },
      "outputs": [
        {
          "output_type": "stream",
          "name": "stderr",
          "text": [
            "/tmp/ipython-input-70-3470915569.py:19: UserWarning: No artists with labels found to put in legend.  Note that artists whose label start with an underscore are ignored when legend() is called with no argument.\n",
            "  plt.legend(loc=\"best\", frameon=False)\n"
          ]
        },
        {
          "output_type": "display_data",
          "data": {
            "text/plain": [
              "<Figure size 960x720 with 1 Axes>"
            ],
            "image/svg+xml": "<?xml version=\"1.0\" encoding=\"utf-8\" standalone=\"no\"?>\n<!DOCTYPE svg PUBLIC \"-//W3C//DTD SVG 1.1//EN\"\n  \"http://www.w3.org/Graphics/SVG/1.1/DTD/svg11.dtd\">\n<svg xmlns:xlink=\"http://www.w3.org/1999/xlink\" width=\"457.92pt\" height=\"342.72pt\" viewBox=\"0 0 457.92 342.72\" xmlns=\"http://www.w3.org/2000/svg\" version=\"1.1\">\n <metadata>\n  <rdf:RDF xmlns:dc=\"http://purl.org/dc/elements/1.1/\" xmlns:cc=\"http://creativecommons.org/ns#\" xmlns:rdf=\"http://www.w3.org/1999/02/22-rdf-syntax-ns#\">\n   <cc:Work>\n    <dc:type rdf:resource=\"http://purl.org/dc/dcmitype/StillImage\"/>\n    <dc:date>2025-06-24T20:34:33.692374</dc:date>\n    <dc:format>image/svg+xml</dc:format>\n    <dc:creator>\n     <cc:Agent>\n      <dc:title>Matplotlib v3.10.0, https://matplotlib.org/</dc:title>\n     </cc:Agent>\n    </dc:creator>\n   </cc:Work>\n  </rdf:RDF>\n </metadata>\n <defs>\n  <style type=\"text/css\">*{stroke-linejoin: round; stroke-linecap: butt}</style>\n </defs>\n <g id=\"figure_1\">\n  <g id=\"patch_1\">\n   <path d=\"M 0 342.72 \nL 457.92 342.72 \nL 457.92 0 \nL 0 0 \nz\n\" style=\"fill: #ffffff\"/>\n  </g>\n  <g id=\"axes_1\">\n   <g id=\"patch_2\">\n    <path d=\"M 33.688438 313.502812 \nL 450.72 313.502812 \nL 450.72 7.2 \nL 33.688438 7.2 \nz\n\" style=\"fill: #ffffff\"/>\n   </g>\n   <g id=\"matplotlib.axis_1\">\n    <g id=\"xtick_1\">\n     <g id=\"line2d_1\"/>\n     <g id=\"text_1\">\n      <!-- 1900 -->\n      <g style=\"fill: #262626\" transform=\"translate(58.431476 322.321719) scale(0.07 -0.07)\">\n       <defs>\n        <path id=\"DejaVuSerif-31\" d=\"M 909 0 \nL 909 331 \nL 1722 331 \nL 1722 4213 \nL 781 3603 \nL 781 4013 \nL 1919 4750 \nL 2350 4750 \nL 2350 331 \nL 3163 331 \nL 3163 0 \nL 909 0 \nz\n\" transform=\"scale(0.015625)\"/>\n        <path id=\"DejaVuSerif-39\" d=\"M 2994 2091 \nQ 2784 1856 2512 1740 \nQ 2241 1625 1900 1625 \nQ 1206 1625 804 2044 \nQ 403 2463 403 3188 \nQ 403 3897 839 4323 \nQ 1275 4750 2003 4750 \nQ 2794 4750 3217 4161 \nQ 3641 3572 3641 2478 \nQ 3641 1253 3137 581 \nQ 2634 -91 1722 -91 \nQ 1475 -91 1203 -44 \nQ 931 3 647 97 \nL 647 872 \nL 997 872 \nQ 1038 556 1241 387 \nQ 1444 219 1784 219 \nQ 2391 219 2687 676 \nQ 2984 1134 2994 2091 \nz\nM 1978 4441 \nQ 1534 4441 1298 4117 \nQ 1063 3794 1063 3188 \nQ 1063 2581 1298 2256 \nQ 1534 1931 1978 1931 \nQ 2422 1931 2658 2245 \nQ 2894 2559 2894 3150 \nQ 2894 3772 2656 4106 \nQ 2419 4441 1978 4441 \nz\n\" transform=\"scale(0.015625)\"/>\n        <path id=\"DejaVuSerif-30\" d=\"M 2034 219 \nQ 2513 219 2750 744 \nQ 2988 1269 2988 2328 \nQ 2988 3391 2750 3916 \nQ 2513 4441 2034 4441 \nQ 1556 4441 1318 3916 \nQ 1081 3391 1081 2328 \nQ 1081 1269 1318 744 \nQ 1556 219 2034 219 \nz\nM 2034 -91 \nQ 1275 -91 848 546 \nQ 422 1184 422 2328 \nQ 422 3475 848 4112 \nQ 1275 4750 2034 4750 \nQ 2797 4750 3222 4112 \nQ 3647 3475 3647 2328 \nQ 3647 1184 3222 546 \nQ 2797 -91 2034 -91 \nz\n\" transform=\"scale(0.015625)\"/>\n       </defs>\n       <use xlink:href=\"#DejaVuSerif-31\"/>\n       <use xlink:href=\"#DejaVuSerif-39\" transform=\"translate(63.623047 0)\"/>\n       <use xlink:href=\"#DejaVuSerif-30\" transform=\"translate(127.246094 0)\"/>\n       <use xlink:href=\"#DejaVuSerif-30\" transform=\"translate(190.869141 0)\"/>\n      </g>\n     </g>\n    </g>\n    <g id=\"xtick_2\">\n     <g id=\"line2d_2\"/>\n     <g id=\"text_2\">\n      <!-- 1920 -->\n      <g style=\"fill: #262626\" transform=\"translate(117.209709 322.321719) scale(0.07 -0.07)\">\n       <defs>\n        <path id=\"DejaVuSerif-32\" d=\"M 819 3553 \nL 469 3553 \nL 469 4384 \nQ 803 4563 1142 4656 \nQ 1481 4750 1806 4750 \nQ 2534 4750 2956 4397 \nQ 3378 4044 3378 3438 \nQ 3378 2753 2422 1800 \nQ 2347 1728 2309 1691 \nL 1131 513 \nL 3078 513 \nL 3078 1088 \nL 3444 1088 \nL 3444 0 \nL 434 0 \nL 434 341 \nL 1850 1753 \nQ 2319 2222 2519 2614 \nQ 2719 3006 2719 3438 \nQ 2719 3909 2473 4175 \nQ 2228 4441 1797 4441 \nQ 1350 4441 1106 4219 \nQ 863 3997 819 3553 \nz\n\" transform=\"scale(0.015625)\"/>\n       </defs>\n       <use xlink:href=\"#DejaVuSerif-31\"/>\n       <use xlink:href=\"#DejaVuSerif-39\" transform=\"translate(63.623047 0)\"/>\n       <use xlink:href=\"#DejaVuSerif-32\" transform=\"translate(127.246094 0)\"/>\n       <use xlink:href=\"#DejaVuSerif-30\" transform=\"translate(190.869141 0)\"/>\n      </g>\n     </g>\n    </g>\n    <g id=\"xtick_3\">\n     <g id=\"line2d_3\"/>\n     <g id=\"text_3\">\n      <!-- 1940 -->\n      <g style=\"fill: #262626\" transform=\"translate(175.987942 322.321719) scale(0.07 -0.07)\">\n       <defs>\n        <path id=\"DejaVuSerif-34\" d=\"M 2234 1581 \nL 2234 4063 \nL 641 1581 \nL 2234 1581 \nz\nM 3609 0 \nL 1484 0 \nL 1484 331 \nL 2234 331 \nL 2234 1247 \nL 197 1247 \nL 197 1588 \nL 2241 4750 \nL 2859 4750 \nL 2859 1581 \nL 3750 1581 \nL 3750 1247 \nL 2859 1247 \nL 2859 331 \nL 3609 331 \nL 3609 0 \nz\n\" transform=\"scale(0.015625)\"/>\n       </defs>\n       <use xlink:href=\"#DejaVuSerif-31\"/>\n       <use xlink:href=\"#DejaVuSerif-39\" transform=\"translate(63.623047 0)\"/>\n       <use xlink:href=\"#DejaVuSerif-34\" transform=\"translate(127.246094 0)\"/>\n       <use xlink:href=\"#DejaVuSerif-30\" transform=\"translate(190.869141 0)\"/>\n      </g>\n     </g>\n    </g>\n    <g id=\"xtick_4\">\n     <g id=\"line2d_4\"/>\n     <g id=\"text_4\">\n      <!-- 1960 -->\n      <g style=\"fill: #262626\" transform=\"translate(234.766175 322.321719) scale(0.07 -0.07)\">\n       <defs>\n        <path id=\"DejaVuSerif-36\" d=\"M 2094 219 \nQ 2534 219 2771 542 \nQ 3009 866 3009 1472 \nQ 3009 2078 2771 2401 \nQ 2534 2725 2094 2725 \nQ 1647 2725 1412 2412 \nQ 1178 2100 1178 1509 \nQ 1178 888 1415 553 \nQ 1653 219 2094 219 \nz\nM 1075 2569 \nQ 1288 2803 1556 2918 \nQ 1825 3034 2163 3034 \nQ 2859 3034 3264 2615 \nQ 3669 2197 3669 1472 \nQ 3669 763 3233 336 \nQ 2797 -91 2069 -91 \nQ 1278 -91 853 498 \nQ 428 1088 428 2181 \nQ 428 3406 931 4078 \nQ 1434 4750 2350 4750 \nQ 2597 4750 2869 4703 \nQ 3141 4656 3425 4563 \nL 3425 3794 \nL 3072 3794 \nQ 3034 4109 2831 4275 \nQ 2628 4441 2284 4441 \nQ 1678 4441 1381 3981 \nQ 1084 3522 1075 2569 \nz\n\" transform=\"scale(0.015625)\"/>\n       </defs>\n       <use xlink:href=\"#DejaVuSerif-31\"/>\n       <use xlink:href=\"#DejaVuSerif-39\" transform=\"translate(63.623047 0)\"/>\n       <use xlink:href=\"#DejaVuSerif-36\" transform=\"translate(127.246094 0)\"/>\n       <use xlink:href=\"#DejaVuSerif-30\" transform=\"translate(190.869141 0)\"/>\n      </g>\n     </g>\n    </g>\n    <g id=\"xtick_5\">\n     <g id=\"line2d_5\"/>\n     <g id=\"text_5\">\n      <!-- 1980 -->\n      <g style=\"fill: #262626\" transform=\"translate(293.544407 322.321719) scale(0.07 -0.07)\">\n       <defs>\n        <path id=\"DejaVuSerif-38\" d=\"M 2981 1275 \nQ 2981 1775 2732 2051 \nQ 2484 2328 2034 2328 \nQ 1584 2328 1336 2051 \nQ 1088 1775 1088 1275 \nQ 1088 772 1336 495 \nQ 1584 219 2034 219 \nQ 2484 219 2732 495 \nQ 2981 772 2981 1275 \nz\nM 2853 3541 \nQ 2853 3966 2637 4203 \nQ 2422 4441 2034 4441 \nQ 1650 4441 1433 4203 \nQ 1216 3966 1216 3541 \nQ 1216 3113 1433 2875 \nQ 1650 2638 2034 2638 \nQ 2422 2638 2637 2875 \nQ 2853 3113 2853 3541 \nz\nM 2516 2484 \nQ 3047 2413 3344 2092 \nQ 3641 1772 3641 1275 \nQ 3641 619 3225 264 \nQ 2809 -91 2034 -91 \nQ 1263 -91 845 264 \nQ 428 619 428 1275 \nQ 428 1772 725 2092 \nQ 1022 2413 1556 2484 \nQ 1084 2569 832 2842 \nQ 581 3116 581 3541 \nQ 581 4103 968 4426 \nQ 1356 4750 2034 4750 \nQ 2713 4750 3100 4426 \nQ 3488 4103 3488 3541 \nQ 3488 3116 3236 2842 \nQ 2984 2569 2516 2484 \nz\n\" transform=\"scale(0.015625)\"/>\n       </defs>\n       <use xlink:href=\"#DejaVuSerif-31\"/>\n       <use xlink:href=\"#DejaVuSerif-39\" transform=\"translate(63.623047 0)\"/>\n       <use xlink:href=\"#DejaVuSerif-38\" transform=\"translate(127.246094 0)\"/>\n       <use xlink:href=\"#DejaVuSerif-30\" transform=\"translate(190.869141 0)\"/>\n      </g>\n     </g>\n    </g>\n    <g id=\"xtick_6\">\n     <g id=\"line2d_6\"/>\n     <g id=\"text_6\">\n      <!-- 2000 -->\n      <g style=\"fill: #262626\" transform=\"translate(352.32264 322.321719) scale(0.07 -0.07)\">\n       <use xlink:href=\"#DejaVuSerif-32\"/>\n       <use xlink:href=\"#DejaVuSerif-30\" transform=\"translate(63.623047 0)\"/>\n       <use xlink:href=\"#DejaVuSerif-30\" transform=\"translate(127.246094 0)\"/>\n       <use xlink:href=\"#DejaVuSerif-30\" transform=\"translate(190.869141 0)\"/>\n      </g>\n     </g>\n    </g>\n    <g id=\"xtick_7\">\n     <g id=\"line2d_7\"/>\n     <g id=\"text_7\">\n      <!-- 2020 -->\n      <g style=\"fill: #262626\" transform=\"translate(411.100873 322.321719) scale(0.07 -0.07)\">\n       <use xlink:href=\"#DejaVuSerif-32\"/>\n       <use xlink:href=\"#DejaVuSerif-30\" transform=\"translate(63.623047 0)\"/>\n       <use xlink:href=\"#DejaVuSerif-32\" transform=\"translate(127.246094 0)\"/>\n       <use xlink:href=\"#DejaVuSerif-30\" transform=\"translate(190.869141 0)\"/>\n      </g>\n     </g>\n    </g>\n    <g id=\"text_8\">\n     <!-- Decade -->\n     <g style=\"fill: #262626\" transform=\"translate(227.076719 333.85625) scale(0.08 -0.08)\">\n      <defs>\n       <path id=\"DejaVuSerif-44\" d=\"M 1581 331 \nL 2163 331 \nQ 3072 331 3558 850 \nQ 4044 1369 4044 2338 \nQ 4044 3306 3559 3818 \nQ 3075 4331 2163 4331 \nL 1581 4331 \nL 1581 331 \nz\nM 353 0 \nL 353 331 \nL 947 331 \nL 947 4331 \nL 353 4331 \nL 353 4666 \nL 2209 4666 \nQ 3416 4666 4089 4050 \nQ 4763 3434 4763 2338 \nQ 4763 1238 4088 619 \nQ 3413 0 2209 0 \nL 353 0 \nz\n\" transform=\"scale(0.015625)\"/>\n       <path id=\"DejaVuSerif-65\" d=\"M 3469 1600 \nL 991 1600 \nL 991 1575 \nQ 991 903 1244 561 \nQ 1497 219 1991 219 \nQ 2369 219 2611 417 \nQ 2853 616 2950 1006 \nL 3413 1006 \nQ 3275 459 2904 184 \nQ 2534 -91 1931 -91 \nQ 1203 -91 761 389 \nQ 319 869 319 1663 \nQ 319 2450 753 2931 \nQ 1188 3413 1894 3413 \nQ 2647 3413 3050 2948 \nQ 3453 2484 3469 1600 \nz\nM 2791 1931 \nQ 2772 2513 2545 2808 \nQ 2319 3103 1894 3103 \nQ 1497 3103 1269 2806 \nQ 1041 2509 991 1931 \nL 2791 1931 \nz\n\" transform=\"scale(0.015625)\"/>\n       <path id=\"DejaVuSerif-63\" d=\"M 3291 997 \nQ 3169 466 2822 187 \nQ 2475 -91 1925 -91 \nQ 1200 -91 759 389 \nQ 319 869 319 1663 \nQ 319 2459 759 2936 \nQ 1200 3413 1925 3413 \nQ 2241 3413 2553 3339 \nQ 2866 3266 3181 3116 \nL 3181 2266 \nL 2847 2266 \nQ 2781 2703 2561 2903 \nQ 2341 3103 1931 3103 \nQ 1466 3103 1228 2742 \nQ 991 2381 991 1663 \nQ 991 944 1227 581 \nQ 1463 219 1931 219 \nQ 2303 219 2525 412 \nQ 2747 606 2828 997 \nL 3291 997 \nz\n\" transform=\"scale(0.015625)\"/>\n       <path id=\"DejaVuSerif-61\" d=\"M 2547 1044 \nL 2547 1747 \nL 1806 1747 \nQ 1378 1747 1168 1562 \nQ 959 1378 959 997 \nQ 959 650 1171 447 \nQ 1384 244 1747 244 \nQ 2106 244 2326 466 \nQ 2547 688 2547 1044 \nz\nM 3122 2075 \nL 3122 331 \nL 3634 331 \nL 3634 0 \nL 2547 0 \nL 2547 359 \nQ 2356 128 2106 18 \nQ 1856 -91 1522 -91 \nQ 969 -91 644 203 \nQ 319 497 319 997 \nQ 319 1513 691 1797 \nQ 1063 2081 1741 2081 \nL 2547 2081 \nL 2547 2309 \nQ 2547 2688 2317 2895 \nQ 2088 3103 1672 3103 \nQ 1328 3103 1125 2947 \nQ 922 2791 872 2484 \nL 575 2484 \nL 575 3156 \nQ 875 3284 1158 3348 \nQ 1441 3413 1709 3413 \nQ 2400 3413 2761 3070 \nQ 3122 2728 3122 2075 \nz\n\" transform=\"scale(0.015625)\"/>\n       <path id=\"DejaVuSerif-64\" d=\"M 3359 331 \nL 3909 331 \nL 3909 0 \nL 2784 0 \nL 2784 519 \nQ 2616 206 2355 57 \nQ 2094 -91 1709 -91 \nQ 1097 -91 708 395 \nQ 319 881 319 1663 \nQ 319 2444 706 2928 \nQ 1094 3413 1709 3413 \nQ 2094 3413 2355 3264 \nQ 2616 3116 2784 2803 \nL 2784 4531 \nL 2241 4531 \nL 2241 4863 \nL 3359 4863 \nL 3359 331 \nz\nM 2784 1497 \nL 2784 1825 \nQ 2784 2422 2554 2737 \nQ 2325 3053 1888 3053 \nQ 1444 3053 1217 2703 \nQ 991 2353 991 1663 \nQ 991 975 1217 622 \nQ 1444 269 1888 269 \nQ 2325 269 2554 583 \nQ 2784 897 2784 1497 \nz\n\" transform=\"scale(0.015625)\"/>\n      </defs>\n      <use xlink:href=\"#DejaVuSerif-44\"/>\n      <use xlink:href=\"#DejaVuSerif-65\" transform=\"translate(80.175781 0)\"/>\n      <use xlink:href=\"#DejaVuSerif-63\" transform=\"translate(139.355469 0)\"/>\n      <use xlink:href=\"#DejaVuSerif-61\" transform=\"translate(195.361328 0)\"/>\n      <use xlink:href=\"#DejaVuSerif-64\" transform=\"translate(254.980469 0)\"/>\n      <use xlink:href=\"#DejaVuSerif-65\" transform=\"translate(318.994141 0)\"/>\n     </g>\n    </g>\n   </g>\n   <g id=\"matplotlib.axis_2\">\n    <g id=\"ytick_1\">\n     <g id=\"line2d_8\"/>\n     <g id=\"text_9\">\n      <!-- 0.0 -->\n      <g style=\"fill: #262626\" transform=\"translate(19.05625 316.162266) scale(0.07 -0.07)\">\n       <defs>\n        <path id=\"DejaVuSerif-2e\" d=\"M 603 325 \nQ 603 500 722 622 \nQ 841 744 1019 744 \nQ 1191 744 1312 622 \nQ 1434 500 1434 325 \nQ 1434 153 1312 31 \nQ 1191 -91 1019 -91 \nQ 841 -91 722 29 \nQ 603 150 603 325 \nz\n\" transform=\"scale(0.015625)\"/>\n       </defs>\n       <use xlink:href=\"#DejaVuSerif-30\"/>\n       <use xlink:href=\"#DejaVuSerif-2e\" transform=\"translate(63.623047 0)\"/>\n       <use xlink:href=\"#DejaVuSerif-30\" transform=\"translate(95.410156 0)\"/>\n      </g>\n     </g>\n    </g>\n    <g id=\"ytick_2\">\n     <g id=\"line2d_9\"/>\n     <g id=\"text_10\">\n      <!-- 0.5 -->\n      <g style=\"fill: #262626\" transform=\"translate(19.05625 279.697645) scale(0.07 -0.07)\">\n       <defs>\n        <path id=\"DejaVuSerif-35\" d=\"M 3219 4666 \nL 3219 4153 \nL 1081 4153 \nL 1081 2816 \nQ 1244 2928 1461 2984 \nQ 1678 3041 1947 3041 \nQ 2703 3041 3140 2622 \nQ 3578 2203 3578 1478 \nQ 3578 738 3136 323 \nQ 2694 -91 1894 -91 \nQ 1572 -91 1234 -12 \nQ 897 66 544 225 \nL 544 1131 \nL 897 1131 \nQ 925 688 1179 453 \nQ 1434 219 1894 219 \nQ 2388 219 2653 544 \nQ 2919 869 2919 1478 \nQ 2919 2084 2655 2407 \nQ 2391 2731 1894 2731 \nQ 1613 2731 1398 2631 \nQ 1184 2531 1019 2322 \nL 750 2322 \nL 750 4666 \nL 3219 4666 \nz\n\" transform=\"scale(0.015625)\"/>\n       </defs>\n       <use xlink:href=\"#DejaVuSerif-30\"/>\n       <use xlink:href=\"#DejaVuSerif-2e\" transform=\"translate(63.623047 0)\"/>\n       <use xlink:href=\"#DejaVuSerif-35\" transform=\"translate(95.410156 0)\"/>\n      </g>\n     </g>\n    </g>\n    <g id=\"ytick_3\">\n     <g id=\"line2d_10\"/>\n     <g id=\"text_11\">\n      <!-- 1.0 -->\n      <g style=\"fill: #262626\" transform=\"translate(19.05625 243.233025) scale(0.07 -0.07)\">\n       <use xlink:href=\"#DejaVuSerif-31\"/>\n       <use xlink:href=\"#DejaVuSerif-2e\" transform=\"translate(63.623047 0)\"/>\n       <use xlink:href=\"#DejaVuSerif-30\" transform=\"translate(95.410156 0)\"/>\n      </g>\n     </g>\n    </g>\n    <g id=\"ytick_4\">\n     <g id=\"line2d_11\"/>\n     <g id=\"text_12\">\n      <!-- 1.5 -->\n      <g style=\"fill: #262626\" transform=\"translate(19.05625 206.768404) scale(0.07 -0.07)\">\n       <use xlink:href=\"#DejaVuSerif-31\"/>\n       <use xlink:href=\"#DejaVuSerif-2e\" transform=\"translate(63.623047 0)\"/>\n       <use xlink:href=\"#DejaVuSerif-35\" transform=\"translate(95.410156 0)\"/>\n      </g>\n     </g>\n    </g>\n    <g id=\"ytick_5\">\n     <g id=\"line2d_12\"/>\n     <g id=\"text_13\">\n      <!-- 2.0 -->\n      <g style=\"fill: #262626\" transform=\"translate(19.05625 170.303783) scale(0.07 -0.07)\">\n       <use xlink:href=\"#DejaVuSerif-32\"/>\n       <use xlink:href=\"#DejaVuSerif-2e\" transform=\"translate(63.623047 0)\"/>\n       <use xlink:href=\"#DejaVuSerif-30\" transform=\"translate(95.410156 0)\"/>\n      </g>\n     </g>\n    </g>\n    <g id=\"ytick_6\">\n     <g id=\"line2d_13\"/>\n     <g id=\"text_14\">\n      <!-- 2.5 -->\n      <g style=\"fill: #262626\" transform=\"translate(19.05625 133.839163) scale(0.07 -0.07)\">\n       <use xlink:href=\"#DejaVuSerif-32\"/>\n       <use xlink:href=\"#DejaVuSerif-2e\" transform=\"translate(63.623047 0)\"/>\n       <use xlink:href=\"#DejaVuSerif-35\" transform=\"translate(95.410156 0)\"/>\n      </g>\n     </g>\n    </g>\n    <g id=\"ytick_7\">\n     <g id=\"line2d_14\"/>\n     <g id=\"text_15\">\n      <!-- 3.0 -->\n      <g style=\"fill: #262626\" transform=\"translate(19.05625 97.374542) scale(0.07 -0.07)\">\n       <defs>\n        <path id=\"DejaVuSerif-33\" d=\"M 622 4469 \nQ 988 4606 1323 4678 \nQ 1659 4750 1953 4750 \nQ 2638 4750 3022 4454 \nQ 3406 4159 3406 3634 \nQ 3406 3213 3140 2930 \nQ 2875 2647 2388 2547 \nQ 2963 2466 3280 2130 \nQ 3597 1794 3597 1259 \nQ 3597 606 3158 257 \nQ 2719 -91 1894 -91 \nQ 1528 -91 1179 -12 \nQ 831 66 488 225 \nL 488 1131 \nL 838 1131 \nQ 869 681 1141 450 \nQ 1413 219 1906 219 \nQ 2384 219 2661 495 \nQ 2938 772 2938 1253 \nQ 2938 1803 2653 2086 \nQ 2369 2369 1819 2369 \nL 1522 2369 \nL 1522 2688 \nL 1678 2688 \nQ 2225 2688 2498 2914 \nQ 2772 3141 2772 3597 \nQ 2772 4006 2547 4223 \nQ 2322 4441 1900 4441 \nQ 1478 4441 1245 4241 \nQ 1013 4041 972 3647 \nL 622 3647 \nL 622 4469 \nz\n\" transform=\"scale(0.015625)\"/>\n       </defs>\n       <use xlink:href=\"#DejaVuSerif-33\"/>\n       <use xlink:href=\"#DejaVuSerif-2e\" transform=\"translate(63.623047 0)\"/>\n       <use xlink:href=\"#DejaVuSerif-30\" transform=\"translate(95.410156 0)\"/>\n      </g>\n     </g>\n    </g>\n    <g id=\"ytick_8\">\n     <g id=\"line2d_15\"/>\n     <g id=\"text_16\">\n      <!-- 3.5 -->\n      <g style=\"fill: #262626\" transform=\"translate(19.05625 60.909922) scale(0.07 -0.07)\">\n       <use xlink:href=\"#DejaVuSerif-33\"/>\n       <use xlink:href=\"#DejaVuSerif-2e\" transform=\"translate(63.623047 0)\"/>\n       <use xlink:href=\"#DejaVuSerif-35\" transform=\"translate(95.410156 0)\"/>\n      </g>\n     </g>\n    </g>\n    <g id=\"ytick_9\">\n     <g id=\"line2d_16\"/>\n     <g id=\"text_17\">\n      <!-- 4.0 -->\n      <g style=\"fill: #262626\" transform=\"translate(19.05625 24.445301) scale(0.07 -0.07)\">\n       <use xlink:href=\"#DejaVuSerif-34\"/>\n       <use xlink:href=\"#DejaVuSerif-2e\" transform=\"translate(63.623047 0)\"/>\n       <use xlink:href=\"#DejaVuSerif-30\" transform=\"translate(95.410156 0)\"/>\n      </g>\n     </g>\n    </g>\n    <g id=\"text_18\">\n     <!-- # of major earthquakes in Southern CA -->\n     <g style=\"fill: #262626\" transform=\"translate(13.27875 240.740156) rotate(-90) scale(0.08 -0.08)\">\n      <defs>\n       <path id=\"DejaVuSerif-23\" d=\"M 3256 2816 \nL 2375 2816 \nL 2113 1772 \nL 3003 1772 \nL 3256 2816 \nz\nM 2816 4594 \nL 2497 3297 \nL 3378 3297 \nL 3700 4594 \nL 4238 4594 \nL 3909 3297 \nL 4872 3297 \nL 4872 2816 \nL 3788 2816 \nL 3531 1772 \nL 4513 1772 \nL 4513 1294 \nL 3413 1294 \nL 3091 0 \nL 2553 0 \nL 2881 1294 \nL 1997 1294 \nL 1672 0 \nL 1141 0 \nL 1459 1294 \nL 494 1294 \nL 494 1772 \nL 1581 1772 \nL 1838 2816 \nL 850 2816 \nL 850 3297 \nL 1959 3297 \nL 2284 4594 \nL 2816 4594 \nz\n\" transform=\"scale(0.015625)\"/>\n       <path id=\"DejaVuSerif-20\" transform=\"scale(0.015625)\"/>\n       <path id=\"DejaVuSerif-6f\" d=\"M 1925 219 \nQ 2388 219 2623 584 \nQ 2859 950 2859 1663 \nQ 2859 2375 2623 2739 \nQ 2388 3103 1925 3103 \nQ 1463 3103 1227 2739 \nQ 991 2375 991 1663 \nQ 991 950 1228 584 \nQ 1466 219 1925 219 \nz\nM 1925 -91 \nQ 1200 -91 759 389 \nQ 319 869 319 1663 \nQ 319 2456 758 2934 \nQ 1197 3413 1925 3413 \nQ 2653 3413 3092 2934 \nQ 3531 2456 3531 1663 \nQ 3531 869 3092 389 \nQ 2653 -91 1925 -91 \nz\n\" transform=\"scale(0.015625)\"/>\n       <path id=\"DejaVuSerif-66\" d=\"M 2753 4078 \nL 2450 4078 \nQ 2447 4313 2317 4434 \nQ 2188 4556 1941 4556 \nQ 1619 4556 1487 4379 \nQ 1356 4203 1356 3750 \nL 1356 3322 \nL 2284 3322 \nL 2284 2988 \nL 1356 2988 \nL 1356 331 \nL 2094 331 \nL 2094 0 \nL 231 0 \nL 231 331 \nL 781 331 \nL 781 2988 \nL 231 2988 \nL 231 3322 \nL 781 3322 \nL 781 3738 \nQ 781 4294 1070 4578 \nQ 1359 4863 1919 4863 \nQ 2128 4863 2337 4825 \nQ 2547 4788 2753 4709 \nL 2753 4078 \nz\n\" transform=\"scale(0.015625)\"/>\n       <path id=\"DejaVuSerif-6d\" d=\"M 3316 2675 \nQ 3481 3041 3739 3227 \nQ 3997 3413 4341 3413 \nQ 4863 3413 5119 3089 \nQ 5375 2766 5375 2113 \nL 5375 331 \nL 5894 331 \nL 5894 0 \nL 4300 0 \nL 4300 331 \nL 4800 331 \nL 4800 2047 \nQ 4800 2556 4650 2772 \nQ 4500 2988 4153 2988 \nQ 3769 2988 3567 2697 \nQ 3366 2406 3366 1850 \nL 3366 331 \nL 3866 331 \nL 3866 0 \nL 2291 0 \nL 2291 331 \nL 2791 331 \nL 2791 2069 \nQ 2791 2566 2641 2777 \nQ 2491 2988 2144 2988 \nQ 1759 2988 1557 2697 \nQ 1356 2406 1356 1850 \nL 1356 331 \nL 1856 331 \nL 1856 0 \nL 263 0 \nL 263 331 \nL 781 331 \nL 781 2994 \nL 231 2994 \nL 231 3322 \nL 1356 3322 \nL 1356 2731 \nQ 1516 3063 1762 3238 \nQ 2009 3413 2322 3413 \nQ 2709 3413 2968 3220 \nQ 3228 3028 3316 2675 \nz\n\" transform=\"scale(0.015625)\"/>\n       <path id=\"DejaVuSerif-6a\" d=\"M 641 4353 \nQ 641 4497 745 4603 \nQ 850 4709 997 4709 \nQ 1141 4709 1245 4603 \nQ 1350 4497 1350 4353 \nQ 1350 4206 1248 4103 \nQ 1147 4000 997 4000 \nQ 850 4000 745 4103 \nQ 641 4206 641 4353 \nz\nM 781 2988 \nL 238 2988 \nL 238 3322 \nL 1356 3322 \nL 1356 -325 \nQ 1356 -838 1051 -1130 \nQ 747 -1422 213 -1422 \nQ -13 -1422 -217 -1370 \nQ -422 -1319 -616 -1216 \nL -616 -531 \nL -319 -531 \nQ -297 -831 -164 -972 \nQ -31 -1113 225 -1113 \nQ 509 -1113 645 -920 \nQ 781 -728 781 -325 \nL 781 2988 \nz\n\" transform=\"scale(0.015625)\"/>\n       <path id=\"DejaVuSerif-72\" d=\"M 3059 3328 \nL 3059 2497 \nL 2728 2497 \nQ 2713 2744 2591 2866 \nQ 2469 2988 2234 2988 \nQ 1809 2988 1582 2694 \nQ 1356 2400 1356 1850 \nL 1356 331 \nL 2022 331 \nL 2022 0 \nL 263 0 \nL 263 331 \nL 781 331 \nL 781 2994 \nL 231 2994 \nL 231 3322 \nL 1356 3322 \nL 1356 2731 \nQ 1525 3078 1790 3245 \nQ 2056 3413 2438 3413 \nQ 2578 3413 2733 3391 \nQ 2888 3369 3059 3328 \nz\n\" transform=\"scale(0.015625)\"/>\n       <path id=\"DejaVuSerif-74\" d=\"M 691 2988 \nL 184 2988 \nL 184 3322 \nL 691 3322 \nL 691 4353 \nL 1269 4353 \nL 1269 3322 \nL 2350 3322 \nL 2350 2988 \nL 1269 2988 \nL 1269 878 \nQ 1269 456 1350 337 \nQ 1431 219 1650 219 \nQ 1875 219 1978 351 \nQ 2081 484 2088 781 \nL 2522 781 \nQ 2497 328 2275 118 \nQ 2053 -91 1600 -91 \nQ 1103 -91 897 129 \nQ 691 350 691 878 \nL 691 2988 \nz\n\" transform=\"scale(0.015625)\"/>\n       <path id=\"DejaVuSerif-68\" d=\"M 263 0 \nL 263 331 \nL 781 331 \nL 781 4531 \nL 231 4531 \nL 231 4863 \nL 1356 4863 \nL 1356 2731 \nQ 1516 3069 1770 3241 \nQ 2025 3413 2363 3413 \nQ 2913 3413 3172 3097 \nQ 3431 2781 3431 2113 \nL 3431 331 \nL 3944 331 \nL 3944 0 \nL 2356 0 \nL 2356 331 \nL 2853 331 \nL 2853 1931 \nQ 2853 2541 2704 2764 \nQ 2556 2988 2175 2988 \nQ 1775 2988 1565 2697 \nQ 1356 2406 1356 1850 \nL 1356 331 \nL 1856 331 \nL 1856 0 \nL 263 0 \nz\n\" transform=\"scale(0.015625)\"/>\n       <path id=\"DejaVuSerif-71\" d=\"M 3359 2988 \nL 3359 -997 \nL 3909 -997 \nL 3909 -1331 \nL 2241 -1331 \nL 2241 -997 \nL 2784 -997 \nL 2784 519 \nQ 2616 206 2355 57 \nQ 2094 -91 1709 -91 \nQ 1097 -91 708 395 \nQ 319 881 319 1663 \nQ 319 2444 706 2928 \nQ 1094 3413 1709 3413 \nQ 2094 3413 2355 3264 \nQ 2616 3116 2784 2803 \nL 2784 3322 \nL 3909 3322 \nL 3909 2988 \nL 3359 2988 \nz\nM 2784 1825 \nQ 2784 2422 2554 2737 \nQ 2325 3053 1888 3053 \nQ 1444 3053 1217 2703 \nQ 991 2353 991 1663 \nQ 991 975 1217 622 \nQ 1444 269 1888 269 \nQ 2325 269 2554 583 \nQ 2784 897 2784 1497 \nL 2784 1825 \nz\n\" transform=\"scale(0.015625)\"/>\n       <path id=\"DejaVuSerif-75\" d=\"M 2266 3322 \nL 3341 3322 \nL 3341 331 \nL 3884 331 \nL 3884 0 \nL 2766 0 \nL 2766 588 \nQ 2606 256 2353 82 \nQ 2100 -91 1766 -91 \nQ 1213 -91 952 223 \nQ 691 538 691 1209 \nL 691 2988 \nL 172 2988 \nL 172 3322 \nL 1269 3322 \nL 1269 1388 \nQ 1269 781 1417 556 \nQ 1566 331 1947 331 \nQ 2347 331 2556 625 \nQ 2766 919 2766 1478 \nL 2766 2988 \nL 2266 2988 \nL 2266 3322 \nz\n\" transform=\"scale(0.015625)\"/>\n       <path id=\"DejaVuSerif-6b\" d=\"M 1831 0 \nL 219 0 \nL 219 331 \nL 738 331 \nL 738 4531 \nL 184 4531 \nL 184 4863 \nL 1313 4863 \nL 1313 1697 \nL 2713 2988 \nL 2234 2988 \nL 2234 3322 \nL 3738 3322 \nL 3738 2988 \nL 3169 2988 \nL 2181 2075 \nL 3444 331 \nL 3922 331 \nL 3922 0 \nL 2284 0 \nL 2284 331 \nL 2759 331 \nL 1766 1697 \nL 1313 1275 \nL 1313 331 \nL 1831 331 \nL 1831 0 \nz\n\" transform=\"scale(0.015625)\"/>\n       <path id=\"DejaVuSerif-73\" d=\"M 359 184 \nL 359 959 \nL 691 959 \nQ 703 588 923 403 \nQ 1144 219 1575 219 \nQ 1963 219 2166 364 \nQ 2369 509 2369 788 \nQ 2369 1006 2220 1140 \nQ 2072 1275 1594 1428 \nL 1178 1569 \nQ 750 1706 558 1912 \nQ 366 2119 366 2438 \nQ 366 2894 700 3153 \nQ 1034 3413 1625 3413 \nQ 1888 3413 2178 3344 \nQ 2469 3275 2778 3144 \nL 2778 2419 \nL 2447 2419 \nQ 2434 2741 2221 2922 \nQ 2009 3103 1644 3103 \nQ 1281 3103 1095 2975 \nQ 909 2847 909 2591 \nQ 909 2381 1050 2254 \nQ 1191 2128 1613 1997 \nL 2069 1856 \nQ 2541 1709 2748 1489 \nQ 2956 1269 2956 922 \nQ 2956 450 2595 179 \nQ 2234 -91 1600 -91 \nQ 1278 -91 972 -22 \nQ 666 47 359 184 \nz\n\" transform=\"scale(0.015625)\"/>\n       <path id=\"DejaVuSerif-69\" d=\"M 622 4353 \nQ 622 4497 726 4603 \nQ 831 4709 978 4709 \nQ 1122 4709 1226 4603 \nQ 1331 4497 1331 4353 \nQ 1331 4206 1228 4103 \nQ 1125 4000 978 4000 \nQ 831 4000 726 4103 \nQ 622 4206 622 4353 \nz\nM 1356 331 \nL 1900 331 \nL 1900 0 \nL 231 0 \nL 231 331 \nL 781 331 \nL 781 2988 \nL 231 2988 \nL 231 3322 \nL 1356 3322 \nL 1356 331 \nz\n\" transform=\"scale(0.015625)\"/>\n       <path id=\"DejaVuSerif-6e\" d=\"M 263 0 \nL 263 331 \nL 781 331 \nL 781 2988 \nL 231 2988 \nL 231 3322 \nL 1356 3322 \nL 1356 2731 \nQ 1516 3069 1770 3241 \nQ 2025 3413 2363 3413 \nQ 2913 3413 3172 3097 \nQ 3431 2781 3431 2113 \nL 3431 331 \nL 3944 331 \nL 3944 0 \nL 2356 0 \nL 2356 331 \nL 2853 331 \nL 2853 1931 \nQ 2853 2541 2703 2767 \nQ 2553 2994 2175 2994 \nQ 1775 2994 1565 2701 \nQ 1356 2409 1356 1850 \nL 1356 331 \nL 1856 331 \nL 1856 0 \nL 263 0 \nz\n\" transform=\"scale(0.015625)\"/>\n       <path id=\"DejaVuSerif-53\" d=\"M 594 225 \nL 594 1288 \nL 953 1284 \nQ 969 753 1261 498 \nQ 1553 244 2150 244 \nQ 2706 244 2998 464 \nQ 3291 684 3291 1106 \nQ 3291 1444 3114 1625 \nQ 2938 1806 2369 1978 \nL 1753 2163 \nQ 1084 2366 811 2669 \nQ 538 2972 538 3500 \nQ 538 4094 959 4422 \nQ 1381 4750 2144 4750 \nQ 2469 4750 2856 4679 \nQ 3244 4609 3681 4475 \nL 3681 3481 \nL 3328 3481 \nQ 3275 3975 2998 4195 \nQ 2722 4416 2156 4416 \nQ 1663 4416 1405 4214 \nQ 1147 4013 1147 3628 \nQ 1147 3294 1340 3103 \nQ 1534 2913 2163 2725 \nL 2741 2553 \nQ 3375 2363 3645 2067 \nQ 3916 1772 3916 1275 \nQ 3916 597 3481 253 \nQ 3047 -91 2188 -91 \nQ 1803 -91 1404 -12 \nQ 1006 66 594 225 \nz\n\" transform=\"scale(0.015625)\"/>\n       <path id=\"DejaVuSerif-43\" d=\"M 4513 1234 \nQ 4306 581 3820 245 \nQ 3334 -91 2591 -91 \nQ 2134 -91 1743 65 \nQ 1353 222 1050 525 \nQ 700 875 529 1320 \nQ 359 1766 359 2328 \nQ 359 3416 987 4083 \nQ 1616 4750 2644 4750 \nQ 3025 4750 3456 4650 \nQ 3888 4550 4384 4347 \nL 4384 3272 \nL 4031 3272 \nQ 3916 3859 3567 4137 \nQ 3219 4416 2591 4416 \nQ 1844 4416 1459 3886 \nQ 1075 3356 1075 2328 \nQ 1075 1303 1459 773 \nQ 1844 244 2591 244 \nQ 3113 244 3450 492 \nQ 3788 741 3938 1234 \nL 4513 1234 \nz\n\" transform=\"scale(0.015625)\"/>\n       <path id=\"DejaVuSerif-41\" d=\"M 1281 1691 \nL 2994 1691 \nL 2138 3909 \nL 1281 1691 \nz\nM -38 0 \nL -38 331 \nL 372 331 \nL 2034 4666 \nL 2559 4666 \nL 4225 331 \nL 4684 331 \nL 4684 0 \nL 2988 0 \nL 2988 331 \nL 3506 331 \nL 3116 1356 \nL 1153 1356 \nL 763 331 \nL 1275 331 \nL 1275 0 \nL -38 0 \nz\n\" transform=\"scale(0.015625)\"/>\n      </defs>\n      <use xlink:href=\"#DejaVuSerif-23\"/>\n      <use xlink:href=\"#DejaVuSerif-20\" transform=\"translate(83.789062 0)\"/>\n      <use xlink:href=\"#DejaVuSerif-6f\" transform=\"translate(115.576172 0)\"/>\n      <use xlink:href=\"#DejaVuSerif-66\" transform=\"translate(175.78125 0)\"/>\n      <use xlink:href=\"#DejaVuSerif-20\" transform=\"translate(212.792969 0)\"/>\n      <use xlink:href=\"#DejaVuSerif-6d\" transform=\"translate(244.580078 0)\"/>\n      <use xlink:href=\"#DejaVuSerif-61\" transform=\"translate(339.404297 0)\"/>\n      <use xlink:href=\"#DejaVuSerif-6a\" transform=\"translate(399.023438 0)\"/>\n      <use xlink:href=\"#DejaVuSerif-6f\" transform=\"translate(430.029297 0)\"/>\n      <use xlink:href=\"#DejaVuSerif-72\" transform=\"translate(490.234375 0)\"/>\n      <use xlink:href=\"#DejaVuSerif-20\" transform=\"translate(538.037109 0)\"/>\n      <use xlink:href=\"#DejaVuSerif-65\" transform=\"translate(569.824219 0)\"/>\n      <use xlink:href=\"#DejaVuSerif-61\" transform=\"translate(629.003906 0)\"/>\n      <use xlink:href=\"#DejaVuSerif-72\" transform=\"translate(688.623047 0)\"/>\n      <use xlink:href=\"#DejaVuSerif-74\" transform=\"translate(736.425781 0)\"/>\n      <use xlink:href=\"#DejaVuSerif-68\" transform=\"translate(776.611328 0)\"/>\n      <use xlink:href=\"#DejaVuSerif-71\" transform=\"translate(841.015625 0)\"/>\n      <use xlink:href=\"#DejaVuSerif-75\" transform=\"translate(905.029297 0)\"/>\n      <use xlink:href=\"#DejaVuSerif-61\" transform=\"translate(969.433594 0)\"/>\n      <use xlink:href=\"#DejaVuSerif-6b\" transform=\"translate(1029.052734 0)\"/>\n      <use xlink:href=\"#DejaVuSerif-65\" transform=\"translate(1089.648438 0)\"/>\n      <use xlink:href=\"#DejaVuSerif-73\" transform=\"translate(1148.828125 0)\"/>\n      <use xlink:href=\"#DejaVuSerif-20\" transform=\"translate(1200.146484 0)\"/>\n      <use xlink:href=\"#DejaVuSerif-69\" transform=\"translate(1231.933594 0)\"/>\n      <use xlink:href=\"#DejaVuSerif-6e\" transform=\"translate(1263.916016 0)\"/>\n      <use xlink:href=\"#DejaVuSerif-20\" transform=\"translate(1328.320312 0)\"/>\n      <use xlink:href=\"#DejaVuSerif-53\" transform=\"translate(1360.107422 0)\"/>\n      <use xlink:href=\"#DejaVuSerif-6f\" transform=\"translate(1428.613281 0)\"/>\n      <use xlink:href=\"#DejaVuSerif-75\" transform=\"translate(1488.818359 0)\"/>\n      <use xlink:href=\"#DejaVuSerif-74\" transform=\"translate(1553.222656 0)\"/>\n      <use xlink:href=\"#DejaVuSerif-68\" transform=\"translate(1593.408203 0)\"/>\n      <use xlink:href=\"#DejaVuSerif-65\" transform=\"translate(1657.8125 0)\"/>\n      <use xlink:href=\"#DejaVuSerif-72\" transform=\"translate(1716.992188 0)\"/>\n      <use xlink:href=\"#DejaVuSerif-6e\" transform=\"translate(1764.794922 0)\"/>\n      <use xlink:href=\"#DejaVuSerif-20\" transform=\"translate(1829.199219 0)\"/>\n      <use xlink:href=\"#DejaVuSerif-43\" transform=\"translate(1860.986328 0)\"/>\n      <use xlink:href=\"#DejaVuSerif-41\" transform=\"translate(1937.5 0)\"/>\n     </g>\n    </g>\n   </g>\n   <g id=\"patch_3\">\n    <path d=\"M 52.644418 313.502812 \nL 82.033534 313.502812 \nL 82.033534 313.502812 \nL 52.644418 313.502812 \nz\n\" clip-path=\"url(#pd054aafff1)\" style=\"fill: #4c72b0; stroke: #ffffff; stroke-width: 0.8; stroke-linejoin: miter\"/>\n   </g>\n   <g id=\"patch_4\">\n    <path d=\"M 84.438098 313.502812 \nL 113.827215 313.502812 \nL 113.827215 240.573571 \nL 84.438098 240.573571 \nz\n\" clip-path=\"url(#pd054aafff1)\" style=\"fill: #4c72b0; stroke: #ffffff; stroke-width: 0.8; stroke-linejoin: miter\"/>\n   </g>\n   <g id=\"patch_5\">\n    <path d=\"M 116.231779 313.502812 \nL 145.620895 313.502812 \nL 145.620895 167.64433 \nL 116.231779 167.64433 \nz\n\" clip-path=\"url(#pd054aafff1)\" style=\"fill: #4c72b0; stroke: #ffffff; stroke-width: 0.8; stroke-linejoin: miter\"/>\n   </g>\n   <g id=\"patch_6\">\n    <path d=\"M 148.025459 313.502812 \nL 177.414576 313.502812 \nL 177.414576 313.502812 \nL 148.025459 313.502812 \nz\n\" clip-path=\"url(#pd054aafff1)\" style=\"fill: #4c72b0; stroke: #ffffff; stroke-width: 0.8; stroke-linejoin: miter\"/>\n   </g>\n   <g id=\"patch_7\">\n    <path d=\"M 179.81914 313.502812 \nL 209.208256 313.502812 \nL 209.208256 94.715089 \nL 179.81914 94.715089 \nz\n\" clip-path=\"url(#pd054aafff1)\" style=\"fill: #4c72b0; stroke: #ffffff; stroke-width: 0.8; stroke-linejoin: miter\"/>\n   </g>\n   <g id=\"patch_8\">\n    <path d=\"M 211.61282 313.502812 \nL 241.001937 313.502812 \nL 241.001937 167.64433 \nL 211.61282 167.64433 \nz\n\" clip-path=\"url(#pd054aafff1)\" style=\"fill: #4c72b0; stroke: #ffffff; stroke-width: 0.8; stroke-linejoin: miter\"/>\n   </g>\n   <g id=\"patch_9\">\n    <path d=\"M 243.406501 313.502812 \nL 272.795617 313.502812 \nL 272.795617 240.573571 \nL 243.406501 240.573571 \nz\n\" clip-path=\"url(#pd054aafff1)\" style=\"fill: #4c72b0; stroke: #ffffff; stroke-width: 0.8; stroke-linejoin: miter\"/>\n   </g>\n   <g id=\"patch_10\">\n    <path d=\"M 275.200181 313.502812 \nL 304.589298 313.502812 \nL 304.589298 167.64433 \nL 275.200181 167.64433 \nz\n\" clip-path=\"url(#pd054aafff1)\" style=\"fill: #4c72b0; stroke: #ffffff; stroke-width: 0.8; stroke-linejoin: miter\"/>\n   </g>\n   <g id=\"patch_11\">\n    <path d=\"M 306.993862 313.502812 \nL 336.382978 313.502812 \nL 336.382978 240.573571 \nL 306.993862 240.573571 \nz\n\" clip-path=\"url(#pd054aafff1)\" style=\"fill: #4c72b0; stroke: #ffffff; stroke-width: 0.8; stroke-linejoin: miter\"/>\n   </g>\n   <g id=\"patch_12\">\n    <path d=\"M 338.787542 313.502812 \nL 368.176659 313.502812 \nL 368.176659 21.785848 \nL 338.787542 21.785848 \nz\n\" clip-path=\"url(#pd054aafff1)\" style=\"fill: #4c72b0; stroke: #ffffff; stroke-width: 0.8; stroke-linejoin: miter\"/>\n   </g>\n   <g id=\"patch_13\">\n    <path d=\"M 370.581223 313.502812 \nL 399.970339 313.502812 \nL 399.970339 313.502812 \nL 370.581223 313.502812 \nz\n\" clip-path=\"url(#pd054aafff1)\" style=\"fill: #4c72b0; stroke: #ffffff; stroke-width: 0.8; stroke-linejoin: miter\"/>\n   </g>\n   <g id=\"patch_14\">\n    <path d=\"M 402.374903 313.502812 \nL 431.76402 313.502812 \nL 431.76402 167.64433 \nL 402.374903 167.64433 \nz\n\" clip-path=\"url(#pd054aafff1)\" style=\"fill: #4c72b0; stroke: #ffffff; stroke-width: 0.8; stroke-linejoin: miter\"/>\n   </g>\n   <g id=\"patch_15\">\n    <path d=\"M 33.688438 313.502812 \nL 33.688438 21.785848 \n\" style=\"fill: none; stroke: #262626; stroke-width: 0.5; stroke-linejoin: miter; stroke-linecap: square\"/>\n   </g>\n   <g id=\"patch_16\">\n    <path d=\"M 67.338976 313.502812 \nL 420.008373 313.502812 \n\" style=\"fill: none; stroke: #262626; stroke-width: 0.5; stroke-linejoin: miter; stroke-linecap: square\"/>\n   </g>\n   <g id=\"legend_1\"/>\n  </g>\n </g>\n <defs>\n  <clipPath id=\"pd054aafff1\">\n   <rect x=\"33.688438\" y=\"7.2\" width=\"417.031562\" height=\"306.302812\"/>\n  </clipPath>\n </defs>\n</svg>\n"
          },
          "metadata": {}
        }
      ],
      "source": [
        "eq_data = np.array([\n",
        "    0, # 1900-1909\n",
        "    1, # 1910-1919\n",
        "    2, # 1920-1929\n",
        "    0, # 1930-1939\n",
        "    3, # 1940-1949\n",
        "    2, # 1950-1959\n",
        "    1, # 1960-1969\n",
        "    2, # 1970-1979\n",
        "    1, # 1980-1989\n",
        "    4, # 1990-1999\n",
        "    0, # 2000-2009\n",
        "    2 # 2010-2019\n",
        "])\n",
        "fig, ax = plt.subplots(dpi=150)\n",
        "ax.bar(np.linspace(1900, 2019, eq_data.shape[0]), eq_data, width=10)\n",
        "ax.set_xlabel('Decade')\n",
        "ax.set_ylabel('# of major earthquakes in Southern CA')\n",
        "plt.legend(loc=\"best\", frameon=False)\n",
        "sns.despine(trim=True);"
      ]
    },
    {
      "cell_type": "markdown",
      "metadata": {
        "id": "LbViu0QHzKKi"
      },
      "source": [
        "B. The [Poisson distribution](https://en.wikipedia.org/wiki/Poisson_distribution) is a discrete distribution with values $\\{0,1,2,\\dots\\}$ which is commonly used to model the number of events occuring in a certain time period.\n",
        "It is the right choice when these events are happening independently and the probability of any event happening over a small period of time is constant.\n",
        "Let's use the Poisson to model the number of earthquakes $X$ occuring in a decade.\n",
        "We write:\n",
        "\n",
        "$$\n",
        "X \\sim \\operatorname{Poisson}(r),\n",
        "$$\n",
        "\n",
        "where $r$ is the *rate parameter* of Poisson.\n",
        "The rate is the number of events per time period.\n",
        "Here, $r$ is the number of earthquakes per decade.\n",
        "Using the data above, we can set the rate as the empirical average of the observed number of earthquakes per decade:"
      ]
    },
    {
      "cell_type": "code",
      "execution_count": 71,
      "metadata": {
        "colab": {
          "base_uri": "https://localhost:8080/"
        },
        "id": "F8x9JzE_zKKi",
        "outputId": "13d2746f-2789-40ff-c6c4-c279c699e5ae"
      },
      "outputs": [
        {
          "output_type": "stream",
          "name": "stdout",
          "text": [
            "r = 1.50 major earthquakes per decade\n"
          ]
        }
      ],
      "source": [
        "r = np.mean(eq_data)\n",
        "print('r = {0:1.2f} major earthquakes per decade'.format(r))"
      ]
    },
    {
      "cell_type": "markdown",
      "metadata": {
        "id": "IA8WhJLAzKKi"
      },
      "source": [
        "Strictly speaking, **this is not how you should be calibrating models!!!**\n",
        "We will learn about the **right** way (which uses Bayes' rule) in the subsequent lectures.\n",
        "But it will do for now as the answer you would get using the **right** way is, for this problem, almost the same.\n",
        "Let's define a Poisson distribution using ``scipy.stats.poisson`` (see documentation [here](https://docs.scipy.org/doc/scipy/reference/generated/scipy.stats.poisson.html)):"
      ]
    },
    {
      "cell_type": "code",
      "execution_count": 72,
      "metadata": {
        "id": "y4lqIhCDzKKi"
      },
      "outputs": [],
      "source": [
        "X = st.poisson(r)"
      ]
    },
    {
      "cell_type": "markdown",
      "metadata": {
        "id": "A4uuQTlazKKi"
      },
      "source": [
        "A. Plot the probability mass function of ``X``."
      ]
    },
    {
      "cell_type": "code",
      "execution_count": 73,
      "metadata": {
        "id": "j5lF_Q_mzKKi"
      },
      "outputs": [],
      "source": [
        "# Your code here"
      ]
    },
    {
      "cell_type": "markdown",
      "metadata": {
        "id": "JvAj7bGFzKKi"
      },
      "source": [
        "B. What is the probability that at least one major earthquake will occur during the next decade?<br>\n",
        "**Answer:**\n",
        "<br><br><br><br><br><br><br><br>"
      ]
    },
    {
      "cell_type": "code",
      "execution_count": 74,
      "metadata": {
        "id": "jeLY9CNHzKKi"
      },
      "outputs": [],
      "source": [
        "# You can also answer with code here:"
      ]
    },
    {
      "cell_type": "markdown",
      "metadata": {
        "id": "CEekTNaGzKKi"
      },
      "source": [
        "C. What is the probability that at least one major earthquake will occur during the next two decades?\n",
        "Hint: Consider two independent and identical copies of $X$, say $X_1$ and $X_2$.\n",
        "And consider their sum $Y = X_1 + X_2$. Read [this](https://en.wikipedia.org/wiki/Poisson_distribution#Sums_of_Poisson-distributed_random_variables) about the sum of two independent Poisson distributions.\n",
        "<br>\n",
        "**Answer:**\n",
        "<br><br><br><br><br><br><br><br>"
      ]
    },
    {
      "cell_type": "code",
      "execution_count": 75,
      "metadata": {
        "id": "nhETjTMCzKKi"
      },
      "outputs": [],
      "source": [
        "# You can also answer with code here:"
      ]
    },
    {
      "cell_type": "markdown",
      "metadata": {
        "id": "8kFjak_czKKi"
      },
      "source": [
        "D. What is the probability that at least one major earthquake will occur during the next five decades?<br>\n",
        "**Answer:**\n",
        "<br><br><br><br><br><br><br><br>"
      ]
    },
    {
      "cell_type": "code",
      "execution_count": 76,
      "metadata": {
        "id": "1rGO8J2fzKKi"
      },
      "outputs": [],
      "source": [
        "# You can also answer with code here:"
      ]
    },
    {
      "cell_type": "markdown",
      "metadata": {
        "id": "SMOEcy5TzKKj"
      },
      "source": [
        "## Problem 4 - Failure of a mechanical component\n",
        "\n",
        "Assume that you designing a gear for a mechanical system.\n",
        "Under normal operating conditions the gear is expected to fail at a random time.\n",
        "Let $T$ be a random variable capturing the time the gear fails.\n",
        "What should the probability density of $T$ look like?\n",
        "\n",
        "Here are some hypothetical data to work with.\n",
        "Suppose that we took ten gears and we worked them until failure.\n",
        "The failure times (say in years) are as follows:"
      ]
    },
    {
      "cell_type": "code",
      "execution_count": 77,
      "metadata": {
        "id": "aq4ReZZmzKKj"
      },
      "outputs": [],
      "source": [
        "time_to_fail_data = np.array(\n",
        "    [\n",
        "        10.5,\n",
        "        7.5,\n",
        "        8.1,\n",
        "        8.4,\n",
        "        11.2,\n",
        "        9.3,\n",
        "        8.9,\n",
        "        12.4\n",
        "    ]\n",
        ")"
      ]
    },
    {
      "cell_type": "markdown",
      "metadata": {
        "id": "X2jBj8MbzKKj"
      },
      "source": [
        "Why does each gear fail at different times?\n",
        "There are several sources of uncertainty.\n",
        "The most important are:\n",
        "\n",
        "- Manufacturing imperfections.\n",
        "- Different loading conditions.\n",
        "\n",
        "If this was a controlled fatigue experiment, then we could eliminate the second source of uncertainty by using exactly the same loading conditions.\n",
        "\n",
        "Now, we are going to fit a probability density function to these data.\n",
        "Which one should we use?\n",
        "Well, new gears do not fail easily.\n",
        "So, the probability density function of $T$ should be close to zero for small $T$.\n",
        "As time goes by, the probability density should increase because various things start happening to the material, e.g., crack formation, fatigue, etc.\n",
        "Finally, the probability density must again start going to zero as time further increases because nothing lasts forever...\n",
        "A probability distribution that is commonly used to model this situation is the [Weibull](https://en.wikipedia.org/wiki/Weibull_distribution).\n",
        "We are going to fit some fail time data to a Weibull distribution and then you will have to answer a few questions about failing times.\n",
        "\n",
        "The Weibull has parameters and we are going to fit them to the available data.\n",
        "The method we are going to use is called the *maximum likelihood method*.\n",
        "We haven't really talked about this, and it is not important to know what it is to do this homework problem.\n",
        "We will learn about maximum likelihood in later lectures.\n",
        "Here is how we fit the parameters using `scipy.stats`:"
      ]
    },
    {
      "cell_type": "code",
      "execution_count": 78,
      "metadata": {
        "colab": {
          "base_uri": "https://localhost:8080/"
        },
        "id": "1fVkYvYyzKKm",
        "outputId": "1326ee46-ca8e-4010-cf04-251fcbbbe718"
      },
      "outputs": [
        {
          "output_type": "stream",
          "name": "stdout",
          "text": [
            "Fitted parameters: (np.float64(448.066965711728), np.float64(0.7099665338918923), np.float64(3.4218808260575804), np.float64(0.41627831297126994))\n"
          ]
        }
      ],
      "source": [
        "fitted_params = st.exponweib.fit(time_to_fail_data, loc=0)\n",
        "T = st.exponweib(*fitted_params)\n",
        "print(f\"Fitted parameters: {fitted_params}\")"
      ]
    },
    {
      "cell_type": "markdown",
      "metadata": {
        "id": "Kg62JjqLzKKm"
      },
      "source": [
        "Let's plot the fitted Weibul PDF and the data we used:"
      ]
    },
    {
      "cell_type": "code",
      "execution_count": 79,
      "metadata": {
        "colab": {
          "base_uri": "https://localhost:8080/",
          "height": 478
        },
        "id": "SQRSOrO-zKKm",
        "outputId": "f04114ca-0308-443e-89c6-7349a36fbd05"
      },
      "outputs": [
        {
          "output_type": "display_data",
          "data": {
            "text/plain": [
              "<Figure size 3840x2880 with 1 Axes>"
            ],
            "image/svg+xml": "<?xml version=\"1.0\" encoding=\"utf-8\" standalone=\"no\"?>\n<!DOCTYPE svg PUBLIC \"-//W3C//DTD SVG 1.1//EN\"\n  \"http://www.w3.org/Graphics/SVG/1.1/DTD/svg11.dtd\">\n<svg xmlns:xlink=\"http://www.w3.org/1999/xlink\" width=\"457.92pt\" height=\"342.72pt\" viewBox=\"0 0 457.92 342.72\" xmlns=\"http://www.w3.org/2000/svg\" version=\"1.1\">\n <metadata>\n  <rdf:RDF xmlns:dc=\"http://purl.org/dc/elements/1.1/\" xmlns:cc=\"http://creativecommons.org/ns#\" xmlns:rdf=\"http://www.w3.org/1999/02/22-rdf-syntax-ns#\">\n   <cc:Work>\n    <dc:type rdf:resource=\"http://purl.org/dc/dcmitype/StillImage\"/>\n    <dc:date>2025-06-24T20:34:34.441939</dc:date>\n    <dc:format>image/svg+xml</dc:format>\n    <dc:creator>\n     <cc:Agent>\n      <dc:title>Matplotlib v3.10.0, https://matplotlib.org/</dc:title>\n     </cc:Agent>\n    </dc:creator>\n   </cc:Work>\n  </rdf:RDF>\n </metadata>\n <defs>\n  <style type=\"text/css\">*{stroke-linejoin: round; stroke-linecap: butt}</style>\n </defs>\n <g id=\"figure_1\">\n  <g id=\"patch_1\">\n   <path d=\"M 0 342.72 \nL 457.92 342.72 \nL 457.92 0 \nL 0 0 \nz\n\" style=\"fill: #ffffff\"/>\n  </g>\n  <g id=\"axes_1\">\n   <g id=\"patch_2\">\n    <path d=\"M 38.045938 313.325312 \nL 450.72 313.325312 \nL 450.72 7.2 \nL 38.045938 7.2 \nz\n\" style=\"fill: #ffffff\"/>\n   </g>\n   <g id=\"matplotlib.axis_1\">\n    <g id=\"xtick_1\">\n     <g id=\"line2d_1\"/>\n     <g id=\"text_1\">\n      <!-- 0.0 -->\n      <g style=\"fill: #262626\" transform=\"translate(51.237756 322.144219) scale(0.07 -0.07)\">\n       <defs>\n        <path id=\"DejaVuSerif-30\" d=\"M 2034 219 \nQ 2513 219 2750 744 \nQ 2988 1269 2988 2328 \nQ 2988 3391 2750 3916 \nQ 2513 4441 2034 4441 \nQ 1556 4441 1318 3916 \nQ 1081 3391 1081 2328 \nQ 1081 1269 1318 744 \nQ 1556 219 2034 219 \nz\nM 2034 -91 \nQ 1275 -91 848 546 \nQ 422 1184 422 2328 \nQ 422 3475 848 4112 \nQ 1275 4750 2034 4750 \nQ 2797 4750 3222 4112 \nQ 3647 3475 3647 2328 \nQ 3647 1184 3222 546 \nQ 2797 -91 2034 -91 \nz\n\" transform=\"scale(0.015625)\"/>\n        <path id=\"DejaVuSerif-2e\" d=\"M 603 325 \nQ 603 500 722 622 \nQ 841 744 1019 744 \nQ 1191 744 1312 622 \nQ 1434 500 1434 325 \nQ 1434 153 1312 31 \nQ 1191 -91 1019 -91 \nQ 841 -91 722 29 \nQ 603 150 603 325 \nz\n\" transform=\"scale(0.015625)\"/>\n       </defs>\n       <use xlink:href=\"#DejaVuSerif-30\"/>\n       <use xlink:href=\"#DejaVuSerif-2e\" transform=\"translate(63.623047 0)\"/>\n       <use xlink:href=\"#DejaVuSerif-30\" transform=\"translate(95.410156 0)\"/>\n      </g>\n     </g>\n    </g>\n    <g id=\"xtick_2\">\n     <g id=\"line2d_2\"/>\n     <g id=\"text_2\">\n      <!-- 2.5 -->\n      <g style=\"fill: #262626\" transform=\"translate(98.132536 322.144219) scale(0.07 -0.07)\">\n       <defs>\n        <path id=\"DejaVuSerif-32\" d=\"M 819 3553 \nL 469 3553 \nL 469 4384 \nQ 803 4563 1142 4656 \nQ 1481 4750 1806 4750 \nQ 2534 4750 2956 4397 \nQ 3378 4044 3378 3438 \nQ 3378 2753 2422 1800 \nQ 2347 1728 2309 1691 \nL 1131 513 \nL 3078 513 \nL 3078 1088 \nL 3444 1088 \nL 3444 0 \nL 434 0 \nL 434 341 \nL 1850 1753 \nQ 2319 2222 2519 2614 \nQ 2719 3006 2719 3438 \nQ 2719 3909 2473 4175 \nQ 2228 4441 1797 4441 \nQ 1350 4441 1106 4219 \nQ 863 3997 819 3553 \nz\n\" transform=\"scale(0.015625)\"/>\n        <path id=\"DejaVuSerif-35\" d=\"M 3219 4666 \nL 3219 4153 \nL 1081 4153 \nL 1081 2816 \nQ 1244 2928 1461 2984 \nQ 1678 3041 1947 3041 \nQ 2703 3041 3140 2622 \nQ 3578 2203 3578 1478 \nQ 3578 738 3136 323 \nQ 2694 -91 1894 -91 \nQ 1572 -91 1234 -12 \nQ 897 66 544 225 \nL 544 1131 \nL 897 1131 \nQ 925 688 1179 453 \nQ 1434 219 1894 219 \nQ 2388 219 2653 544 \nQ 2919 869 2919 1478 \nQ 2919 2084 2655 2407 \nQ 2391 2731 1894 2731 \nQ 1613 2731 1398 2631 \nQ 1184 2531 1019 2322 \nL 750 2322 \nL 750 4666 \nL 3219 4666 \nz\n\" transform=\"scale(0.015625)\"/>\n       </defs>\n       <use xlink:href=\"#DejaVuSerif-32\"/>\n       <use xlink:href=\"#DejaVuSerif-2e\" transform=\"translate(63.623047 0)\"/>\n       <use xlink:href=\"#DejaVuSerif-35\" transform=\"translate(95.410156 0)\"/>\n      </g>\n     </g>\n    </g>\n    <g id=\"xtick_3\">\n     <g id=\"line2d_3\"/>\n     <g id=\"text_3\">\n      <!-- 5.0 -->\n      <g style=\"fill: #262626\" transform=\"translate(145.027315 322.144219) scale(0.07 -0.07)\">\n       <use xlink:href=\"#DejaVuSerif-35\"/>\n       <use xlink:href=\"#DejaVuSerif-2e\" transform=\"translate(63.623047 0)\"/>\n       <use xlink:href=\"#DejaVuSerif-30\" transform=\"translate(95.410156 0)\"/>\n      </g>\n     </g>\n    </g>\n    <g id=\"xtick_4\">\n     <g id=\"line2d_4\"/>\n     <g id=\"text_4\">\n      <!-- 7.5 -->\n      <g style=\"fill: #262626\" transform=\"translate(191.922095 322.144219) scale(0.07 -0.07)\">\n       <defs>\n        <path id=\"DejaVuSerif-37\" d=\"M 3609 4347 \nL 1784 0 \nL 1319 0 \nL 3059 4153 \nL 903 4153 \nL 903 3578 \nL 538 3578 \nL 538 4666 \nL 3609 4666 \nL 3609 4347 \nz\n\" transform=\"scale(0.015625)\"/>\n       </defs>\n       <use xlink:href=\"#DejaVuSerif-37\"/>\n       <use xlink:href=\"#DejaVuSerif-2e\" transform=\"translate(63.623047 0)\"/>\n       <use xlink:href=\"#DejaVuSerif-35\" transform=\"translate(95.410156 0)\"/>\n      </g>\n     </g>\n    </g>\n    <g id=\"xtick_5\">\n     <g id=\"line2d_5\"/>\n     <g id=\"text_5\">\n      <!-- 10.0 -->\n      <g style=\"fill: #262626\" transform=\"translate(236.59 322.144219) scale(0.07 -0.07)\">\n       <defs>\n        <path id=\"DejaVuSerif-31\" d=\"M 909 0 \nL 909 331 \nL 1722 331 \nL 1722 4213 \nL 781 3603 \nL 781 4013 \nL 1919 4750 \nL 2350 4750 \nL 2350 331 \nL 3163 331 \nL 3163 0 \nL 909 0 \nz\n\" transform=\"scale(0.015625)\"/>\n       </defs>\n       <use xlink:href=\"#DejaVuSerif-31\"/>\n       <use xlink:href=\"#DejaVuSerif-30\" transform=\"translate(63.623047 0)\"/>\n       <use xlink:href=\"#DejaVuSerif-2e\" transform=\"translate(127.246094 0)\"/>\n       <use xlink:href=\"#DejaVuSerif-30\" transform=\"translate(159.033203 0)\"/>\n      </g>\n     </g>\n    </g>\n    <g id=\"xtick_6\">\n     <g id=\"line2d_6\"/>\n     <g id=\"text_6\">\n      <!-- 12.5 -->\n      <g style=\"fill: #262626\" transform=\"translate(283.48478 322.144219) scale(0.07 -0.07)\">\n       <use xlink:href=\"#DejaVuSerif-31\"/>\n       <use xlink:href=\"#DejaVuSerif-32\" transform=\"translate(63.623047 0)\"/>\n       <use xlink:href=\"#DejaVuSerif-2e\" transform=\"translate(127.246094 0)\"/>\n       <use xlink:href=\"#DejaVuSerif-35\" transform=\"translate(159.033203 0)\"/>\n      </g>\n     </g>\n    </g>\n    <g id=\"xtick_7\">\n     <g id=\"line2d_7\"/>\n     <g id=\"text_7\">\n      <!-- 15.0 -->\n      <g style=\"fill: #262626\" transform=\"translate(330.37956 322.144219) scale(0.07 -0.07)\">\n       <use xlink:href=\"#DejaVuSerif-31\"/>\n       <use xlink:href=\"#DejaVuSerif-35\" transform=\"translate(63.623047 0)\"/>\n       <use xlink:href=\"#DejaVuSerif-2e\" transform=\"translate(127.246094 0)\"/>\n       <use xlink:href=\"#DejaVuSerif-30\" transform=\"translate(159.033203 0)\"/>\n      </g>\n     </g>\n    </g>\n    <g id=\"xtick_8\">\n     <g id=\"line2d_8\"/>\n     <g id=\"text_8\">\n      <!-- 17.5 -->\n      <g style=\"fill: #262626\" transform=\"translate(377.274339 322.144219) scale(0.07 -0.07)\">\n       <use xlink:href=\"#DejaVuSerif-31\"/>\n       <use xlink:href=\"#DejaVuSerif-37\" transform=\"translate(63.623047 0)\"/>\n       <use xlink:href=\"#DejaVuSerif-2e\" transform=\"translate(127.246094 0)\"/>\n       <use xlink:href=\"#DejaVuSerif-35\" transform=\"translate(159.033203 0)\"/>\n      </g>\n     </g>\n    </g>\n    <g id=\"xtick_9\">\n     <g id=\"line2d_9\"/>\n     <g id=\"text_9\">\n      <!-- 20.0 -->\n      <g style=\"fill: #262626\" transform=\"translate(424.169119 322.144219) scale(0.07 -0.07)\">\n       <use xlink:href=\"#DejaVuSerif-32\"/>\n       <use xlink:href=\"#DejaVuSerif-30\" transform=\"translate(63.623047 0)\"/>\n       <use xlink:href=\"#DejaVuSerif-2e\" transform=\"translate(127.246094 0)\"/>\n       <use xlink:href=\"#DejaVuSerif-30\" transform=\"translate(159.033203 0)\"/>\n      </g>\n     </g>\n    </g>\n    <g id=\"text_10\">\n     <!-- $t$ (years) -->\n     <g style=\"fill: #262626\" transform=\"translate(227.422969 333.68) scale(0.08 -0.08)\">\n      <defs>\n       <path id=\"DejaVuSans-Oblique-74\" d=\"M 2706 3500 \nL 2619 3053 \nL 1472 3053 \nL 1100 1153 \nQ 1081 1047 1072 975 \nQ 1063 903 1063 863 \nQ 1063 663 1183 572 \nQ 1303 481 1569 481 \nL 2150 481 \nL 2053 0 \nL 1503 0 \nQ 991 0 739 200 \nQ 488 400 488 806 \nQ 488 878 497 964 \nQ 506 1050 525 1153 \nL 897 3053 \nL 409 3053 \nL 500 3500 \nL 978 3500 \nL 1172 4494 \nL 1747 4494 \nL 1556 3500 \nL 2706 3500 \nz\n\" transform=\"scale(0.015625)\"/>\n       <path id=\"DejaVuSerif-20\" transform=\"scale(0.015625)\"/>\n       <path id=\"DejaVuSerif-28\" d=\"M 2041 -997 \nQ 1281 -656 893 83 \nQ 506 822 506 1931 \nQ 506 3044 893 3783 \nQ 1281 4522 2041 4863 \nL 2041 4556 \nQ 1559 4225 1350 3623 \nQ 1141 3022 1141 1931 \nQ 1141 844 1350 242 \nQ 1559 -359 2041 -691 \nL 2041 -997 \nz\n\" transform=\"scale(0.015625)\"/>\n       <path id=\"DejaVuSerif-79\" d=\"M 1381 -609 \nL 1600 -56 \nL 359 2988 \nL -19 2988 \nL -19 3322 \nL 1509 3322 \nL 1509 2988 \nL 978 2988 \nL 1913 703 \nL 2847 2988 \nL 2350 2988 \nL 2350 3322 \nL 3597 3322 \nL 3597 2988 \nL 3225 2988 \nL 1703 -750 \nQ 1547 -1138 1356 -1280 \nQ 1166 -1422 819 -1422 \nQ 672 -1422 517 -1397 \nQ 363 -1372 206 -1325 \nL 206 -691 \nL 500 -691 \nQ 519 -903 608 -995 \nQ 697 -1088 884 -1088 \nQ 1056 -1088 1161 -992 \nQ 1266 -897 1381 -609 \nz\n\" transform=\"scale(0.015625)\"/>\n       <path id=\"DejaVuSerif-65\" d=\"M 3469 1600 \nL 991 1600 \nL 991 1575 \nQ 991 903 1244 561 \nQ 1497 219 1991 219 \nQ 2369 219 2611 417 \nQ 2853 616 2950 1006 \nL 3413 1006 \nQ 3275 459 2904 184 \nQ 2534 -91 1931 -91 \nQ 1203 -91 761 389 \nQ 319 869 319 1663 \nQ 319 2450 753 2931 \nQ 1188 3413 1894 3413 \nQ 2647 3413 3050 2948 \nQ 3453 2484 3469 1600 \nz\nM 2791 1931 \nQ 2772 2513 2545 2808 \nQ 2319 3103 1894 3103 \nQ 1497 3103 1269 2806 \nQ 1041 2509 991 1931 \nL 2791 1931 \nz\n\" transform=\"scale(0.015625)\"/>\n       <path id=\"DejaVuSerif-61\" d=\"M 2547 1044 \nL 2547 1747 \nL 1806 1747 \nQ 1378 1747 1168 1562 \nQ 959 1378 959 997 \nQ 959 650 1171 447 \nQ 1384 244 1747 244 \nQ 2106 244 2326 466 \nQ 2547 688 2547 1044 \nz\nM 3122 2075 \nL 3122 331 \nL 3634 331 \nL 3634 0 \nL 2547 0 \nL 2547 359 \nQ 2356 128 2106 18 \nQ 1856 -91 1522 -91 \nQ 969 -91 644 203 \nQ 319 497 319 997 \nQ 319 1513 691 1797 \nQ 1063 2081 1741 2081 \nL 2547 2081 \nL 2547 2309 \nQ 2547 2688 2317 2895 \nQ 2088 3103 1672 3103 \nQ 1328 3103 1125 2947 \nQ 922 2791 872 2484 \nL 575 2484 \nL 575 3156 \nQ 875 3284 1158 3348 \nQ 1441 3413 1709 3413 \nQ 2400 3413 2761 3070 \nQ 3122 2728 3122 2075 \nz\n\" transform=\"scale(0.015625)\"/>\n       <path id=\"DejaVuSerif-72\" d=\"M 3059 3328 \nL 3059 2497 \nL 2728 2497 \nQ 2713 2744 2591 2866 \nQ 2469 2988 2234 2988 \nQ 1809 2988 1582 2694 \nQ 1356 2400 1356 1850 \nL 1356 331 \nL 2022 331 \nL 2022 0 \nL 263 0 \nL 263 331 \nL 781 331 \nL 781 2994 \nL 231 2994 \nL 231 3322 \nL 1356 3322 \nL 1356 2731 \nQ 1525 3078 1790 3245 \nQ 2056 3413 2438 3413 \nQ 2578 3413 2733 3391 \nQ 2888 3369 3059 3328 \nz\n\" transform=\"scale(0.015625)\"/>\n       <path id=\"DejaVuSerif-73\" d=\"M 359 184 \nL 359 959 \nL 691 959 \nQ 703 588 923 403 \nQ 1144 219 1575 219 \nQ 1963 219 2166 364 \nQ 2369 509 2369 788 \nQ 2369 1006 2220 1140 \nQ 2072 1275 1594 1428 \nL 1178 1569 \nQ 750 1706 558 1912 \nQ 366 2119 366 2438 \nQ 366 2894 700 3153 \nQ 1034 3413 1625 3413 \nQ 1888 3413 2178 3344 \nQ 2469 3275 2778 3144 \nL 2778 2419 \nL 2447 2419 \nQ 2434 2741 2221 2922 \nQ 2009 3103 1644 3103 \nQ 1281 3103 1095 2975 \nQ 909 2847 909 2591 \nQ 909 2381 1050 2254 \nQ 1191 2128 1613 1997 \nL 2069 1856 \nQ 2541 1709 2748 1489 \nQ 2956 1269 2956 922 \nQ 2956 450 2595 179 \nQ 2234 -91 1600 -91 \nQ 1278 -91 972 -22 \nQ 666 47 359 184 \nz\n\" transform=\"scale(0.015625)\"/>\n       <path id=\"DejaVuSerif-29\" d=\"M 453 -997 \nL 453 -691 \nQ 934 -359 1145 242 \nQ 1356 844 1356 1931 \nQ 1356 3022 1145 3623 \nQ 934 4225 453 4556 \nL 453 4863 \nQ 1216 4522 1603 3783 \nQ 1991 3044 1991 1931 \nQ 1991 822 1603 83 \nQ 1216 -656 453 -997 \nz\n\" transform=\"scale(0.015625)\"/>\n      </defs>\n      <use xlink:href=\"#DejaVuSans-Oblique-74\" transform=\"translate(0 0.015625)\"/>\n      <use xlink:href=\"#DejaVuSerif-20\" transform=\"translate(39.208984 0.015625)\"/>\n      <use xlink:href=\"#DejaVuSerif-28\" transform=\"translate(70.996094 0.015625)\"/>\n      <use xlink:href=\"#DejaVuSerif-79\" transform=\"translate(110.009766 0.015625)\"/>\n      <use xlink:href=\"#DejaVuSerif-65\" transform=\"translate(166.503906 0.015625)\"/>\n      <use xlink:href=\"#DejaVuSerif-61\" transform=\"translate(225.683594 0.015625)\"/>\n      <use xlink:href=\"#DejaVuSerif-72\" transform=\"translate(285.302734 0.015625)\"/>\n      <use xlink:href=\"#DejaVuSerif-73\" transform=\"translate(333.105469 0.015625)\"/>\n      <use xlink:href=\"#DejaVuSerif-29\" transform=\"translate(384.423828 0.015625)\"/>\n     </g>\n    </g>\n   </g>\n   <g id=\"matplotlib.axis_2\">\n    <g id=\"ytick_1\">\n     <g id=\"line2d_10\"/>\n     <g id=\"text_11\">\n      <!-- 0.00 -->\n      <g style=\"fill: #262626\" transform=\"translate(18.96 302.069979) scale(0.07 -0.07)\">\n       <use xlink:href=\"#DejaVuSerif-30\"/>\n       <use xlink:href=\"#DejaVuSerif-2e\" transform=\"translate(63.623047 0)\"/>\n       <use xlink:href=\"#DejaVuSerif-30\" transform=\"translate(95.410156 0)\"/>\n       <use xlink:href=\"#DejaVuSerif-30\" transform=\"translate(159.033203 0)\"/>\n      </g>\n     </g>\n    </g>\n    <g id=\"ytick_2\">\n     <g id=\"line2d_11\"/>\n     <g id=\"text_12\">\n      <!-- 0.05 -->\n      <g style=\"fill: #262626\" transform=\"translate(18.96 255.776306) scale(0.07 -0.07)\">\n       <use xlink:href=\"#DejaVuSerif-30\"/>\n       <use xlink:href=\"#DejaVuSerif-2e\" transform=\"translate(63.623047 0)\"/>\n       <use xlink:href=\"#DejaVuSerif-30\" transform=\"translate(95.410156 0)\"/>\n       <use xlink:href=\"#DejaVuSerif-35\" transform=\"translate(159.033203 0)\"/>\n      </g>\n     </g>\n    </g>\n    <g id=\"ytick_3\">\n     <g id=\"line2d_12\"/>\n     <g id=\"text_13\">\n      <!-- 0.10 -->\n      <g style=\"fill: #262626\" transform=\"translate(18.96 209.482634) scale(0.07 -0.07)\">\n       <use xlink:href=\"#DejaVuSerif-30\"/>\n       <use xlink:href=\"#DejaVuSerif-2e\" transform=\"translate(63.623047 0)\"/>\n       <use xlink:href=\"#DejaVuSerif-31\" transform=\"translate(95.410156 0)\"/>\n       <use xlink:href=\"#DejaVuSerif-30\" transform=\"translate(159.033203 0)\"/>\n      </g>\n     </g>\n    </g>\n    <g id=\"ytick_4\">\n     <g id=\"line2d_13\"/>\n     <g id=\"text_14\">\n      <!-- 0.15 -->\n      <g style=\"fill: #262626\" transform=\"translate(18.96 163.188962) scale(0.07 -0.07)\">\n       <use xlink:href=\"#DejaVuSerif-30\"/>\n       <use xlink:href=\"#DejaVuSerif-2e\" transform=\"translate(63.623047 0)\"/>\n       <use xlink:href=\"#DejaVuSerif-31\" transform=\"translate(95.410156 0)\"/>\n       <use xlink:href=\"#DejaVuSerif-35\" transform=\"translate(159.033203 0)\"/>\n      </g>\n     </g>\n    </g>\n    <g id=\"ytick_5\">\n     <g id=\"line2d_14\"/>\n     <g id=\"text_15\">\n      <!-- 0.20 -->\n      <g style=\"fill: #262626\" transform=\"translate(18.96 116.89529) scale(0.07 -0.07)\">\n       <use xlink:href=\"#DejaVuSerif-30\"/>\n       <use xlink:href=\"#DejaVuSerif-2e\" transform=\"translate(63.623047 0)\"/>\n       <use xlink:href=\"#DejaVuSerif-32\" transform=\"translate(95.410156 0)\"/>\n       <use xlink:href=\"#DejaVuSerif-30\" transform=\"translate(159.033203 0)\"/>\n      </g>\n     </g>\n    </g>\n    <g id=\"ytick_6\">\n     <g id=\"line2d_15\"/>\n     <g id=\"text_16\">\n      <!-- 0.25 -->\n      <g style=\"fill: #262626\" transform=\"translate(18.96 70.601617) scale(0.07 -0.07)\">\n       <use xlink:href=\"#DejaVuSerif-30\"/>\n       <use xlink:href=\"#DejaVuSerif-2e\" transform=\"translate(63.623047 0)\"/>\n       <use xlink:href=\"#DejaVuSerif-32\" transform=\"translate(95.410156 0)\"/>\n       <use xlink:href=\"#DejaVuSerif-35\" transform=\"translate(159.033203 0)\"/>\n      </g>\n     </g>\n    </g>\n    <g id=\"ytick_7\">\n     <g id=\"line2d_16\"/>\n     <g id=\"text_17\">\n      <!-- 0.30 -->\n      <g style=\"fill: #262626\" transform=\"translate(18.96 24.307945) scale(0.07 -0.07)\">\n       <defs>\n        <path id=\"DejaVuSerif-33\" d=\"M 622 4469 \nQ 988 4606 1323 4678 \nQ 1659 4750 1953 4750 \nQ 2638 4750 3022 4454 \nQ 3406 4159 3406 3634 \nQ 3406 3213 3140 2930 \nQ 2875 2647 2388 2547 \nQ 2963 2466 3280 2130 \nQ 3597 1794 3597 1259 \nQ 3597 606 3158 257 \nQ 2719 -91 1894 -91 \nQ 1528 -91 1179 -12 \nQ 831 66 488 225 \nL 488 1131 \nL 838 1131 \nQ 869 681 1141 450 \nQ 1413 219 1906 219 \nQ 2384 219 2661 495 \nQ 2938 772 2938 1253 \nQ 2938 1803 2653 2086 \nQ 2369 2369 1819 2369 \nL 1522 2369 \nL 1522 2688 \nL 1678 2688 \nQ 2225 2688 2498 2914 \nQ 2772 3141 2772 3597 \nQ 2772 4006 2547 4223 \nQ 2322 4441 1900 4441 \nQ 1478 4441 1245 4241 \nQ 1013 4041 972 3647 \nL 622 3647 \nL 622 4469 \nz\n\" transform=\"scale(0.015625)\"/>\n       </defs>\n       <use xlink:href=\"#DejaVuSerif-30\"/>\n       <use xlink:href=\"#DejaVuSerif-2e\" transform=\"translate(63.623047 0)\"/>\n       <use xlink:href=\"#DejaVuSerif-33\" transform=\"translate(95.410156 0)\"/>\n       <use xlink:href=\"#DejaVuSerif-30\" transform=\"translate(159.033203 0)\"/>\n      </g>\n     </g>\n    </g>\n    <g id=\"text_18\">\n     <!-- $p(t)$ -->\n     <g style=\"fill: #262626\" transform=\"translate(13.28 167.502656) rotate(-90) scale(0.08 -0.08)\">\n      <defs>\n       <path id=\"DejaVuSans-Oblique-70\" d=\"M 3175 2156 \nQ 3175 2616 2975 2859 \nQ 2775 3103 2400 3103 \nQ 2144 3103 1911 2972 \nQ 1678 2841 1497 2591 \nQ 1319 2344 1212 1994 \nQ 1106 1644 1106 1300 \nQ 1106 863 1306 627 \nQ 1506 391 1875 391 \nQ 2147 391 2380 519 \nQ 2613 647 2778 891 \nQ 2956 1147 3065 1494 \nQ 3175 1841 3175 2156 \nz\nM 1394 2969 \nQ 1625 3272 1939 3428 \nQ 2253 3584 2638 3584 \nQ 3175 3584 3472 3232 \nQ 3769 2881 3769 2247 \nQ 3769 1728 3584 1258 \nQ 3400 788 3053 416 \nQ 2822 169 2531 39 \nQ 2241 -91 1919 -91 \nQ 1547 -91 1294 64 \nQ 1041 219 916 525 \nL 556 -1331 \nL -19 -1331 \nL 922 3500 \nL 1497 3500 \nL 1394 2969 \nz\n\" transform=\"scale(0.015625)\"/>\n       <path id=\"DejaVuSans-28\" d=\"M 1984 4856 \nQ 1566 4138 1362 3434 \nQ 1159 2731 1159 2009 \nQ 1159 1288 1364 580 \nQ 1569 -128 1984 -844 \nL 1484 -844 \nQ 1016 -109 783 600 \nQ 550 1309 550 2009 \nQ 550 2706 781 3412 \nQ 1013 4119 1484 4856 \nL 1984 4856 \nz\n\" transform=\"scale(0.015625)\"/>\n       <path id=\"DejaVuSans-29\" d=\"M 513 4856 \nL 1013 4856 \nQ 1481 4119 1714 3412 \nQ 1947 2706 1947 2009 \nQ 1947 1309 1714 600 \nQ 1481 -109 1013 -844 \nL 513 -844 \nQ 928 -128 1133 580 \nQ 1338 1288 1338 2009 \nQ 1338 2731 1133 3434 \nQ 928 4138 513 4856 \nz\n\" transform=\"scale(0.015625)\"/>\n      </defs>\n      <use xlink:href=\"#DejaVuSans-Oblique-70\" transform=\"translate(0 0.125)\"/>\n      <use xlink:href=\"#DejaVuSans-28\" transform=\"translate(63.476562 0.125)\"/>\n      <use xlink:href=\"#DejaVuSans-Oblique-74\" transform=\"translate(102.490234 0.125)\"/>\n      <use xlink:href=\"#DejaVuSans-29\" transform=\"translate(141.699219 0.125)\"/>\n     </g>\n    </g>\n   </g>\n   <g id=\"line2d_17\">\n    <path d=\"M 56.803849 299.410526 \nL 60.593327 299.410526 \nL 64.382804 299.410526 \nL 68.172281 299.410526 \nL 71.961758 299.410526 \nL 75.751235 299.410526 \nL 79.540712 299.410526 \nL 83.33019 299.410526 \nL 87.119667 299.410526 \nL 90.909144 299.410526 \nL 94.698621 299.410526 \nL 98.488098 299.410526 \nL 102.277575 299.410526 \nL 106.067052 299.410526 \nL 109.85653 299.410526 \nL 113.646007 299.410526 \nL 117.435484 299.410526 \nL 121.224961 299.410526 \nL 125.014438 299.410526 \nL 128.803915 299.410526 \nL 132.593393 299.410526 \nL 136.38287 299.410526 \nL 140.172347 299.410526 \nL 143.961824 299.410526 \nL 147.751301 299.410526 \nL 151.540778 299.410526 \nL 155.330256 299.410525 \nL 159.119733 299.41051 \nL 162.90921 299.409751 \nL 166.698687 299.395087 \nL 170.488164 299.253757 \nL 174.277641 298.459401 \nL 178.067118 295.533753 \nL 181.856596 287.820836 \nL 185.646073 272.251014 \nL 189.43555 246.91299 \nL 193.225027 212.350249 \nL 197.014504 171.681372 \nL 200.803981 129.582636 \nL 204.593459 90.845408 \nL 208.382936 59.219842 \nL 212.172413 36.867927 \nL 215.96189 24.377627 \nL 219.751367 21.114787 \nL 223.540844 25.685793 \nL 227.330322 36.359625 \nL 231.119799 51.380937 \nL 234.909276 69.164195 \nL 238.698753 88.388918 \nL 242.48823 108.025327 \nL 246.277707 127.317779 \nL 250.067184 145.746889 \nL 253.856662 162.984371 \nL 257.646139 178.848886 \nL 261.435616 193.267101 \nL 265.225093 206.241534 \nL 269.01457 217.825252 \nL 272.804047 228.102714 \nL 276.593525 237.175763 \nL 280.383002 245.153713 \nL 284.172479 252.146604 \nL 287.961956 258.260802 \nL 291.751433 263.596322 \nL 295.54091 268.245366 \nL 299.330388 272.291691 \nL 303.119865 275.810543 \nL 306.909342 278.868944 \nL 310.698819 281.526193 \nL 314.488296 283.834484 \nL 318.277773 285.839563 \nL 322.06725 287.581403 \nL 325.856728 289.094835 \nL 329.646205 290.410157 \nL 333.435682 291.553679 \nL 337.225159 292.548225 \nL 341.014636 293.413576 \nL 344.804113 294.166867 \nL 348.593591 294.822937 \nL 352.383068 295.394631 \nL 356.172545 295.893069 \nL 359.962022 296.327879 \nL 363.751499 296.707396 \nL 367.540976 297.038842 \nL 371.330454 297.328472 \nL 375.119931 297.581707 \nL 378.909408 297.80325 \nL 382.698885 297.997179 \nL 386.488362 298.167033 \nL 390.277839 298.315886 \nL 394.067316 298.446409 \nL 397.856794 298.560924 \nL 401.646271 298.66145 \nL 405.435748 298.749745 \nL 409.225225 298.82734 \nL 413.014702 298.895567 \nL 416.804179 298.955591 \nL 420.593657 299.008424 \nL 424.383134 299.054953 \nL 428.172611 299.095951 \nL 431.962088 299.132093 \n\" clip-path=\"url(#p46dfd676f9)\" style=\"fill: none; stroke: #4c72b0; stroke-linecap: round\"/>\n   </g>\n   <g id=\"line2d_18\">\n    <defs>\n     <path id=\"m0f79bad9e6\" d=\"M -2 2 \nL 2 -2 \nM -2 -2 \nL 2 2 \n\" style=\"stroke: #dd8452\"/>\n    </defs>\n    <g clip-path=\"url(#p46dfd676f9)\">\n     <use xlink:href=\"#m0f79bad9e6\" x=\"253.761925\" y=\"299.410526\" style=\"fill: #dd8452; stroke: #dd8452\"/>\n     <use xlink:href=\"#m0f79bad9e6\" x=\"197.488189\" y=\"299.410526\" style=\"fill: #dd8452; stroke: #dd8452\"/>\n     <use xlink:href=\"#m0f79bad9e6\" x=\"208.742936\" y=\"299.410526\" style=\"fill: #dd8452; stroke: #dd8452\"/>\n     <use xlink:href=\"#m0f79bad9e6\" x=\"214.37031\" y=\"299.410526\" style=\"fill: #dd8452; stroke: #dd8452\"/>\n     <use xlink:href=\"#m0f79bad9e6\" x=\"266.892463\" y=\"299.410526\" style=\"fill: #dd8452; stroke: #dd8452\"/>\n     <use xlink:href=\"#m0f79bad9e6\" x=\"231.25243\" y=\"299.410526\" style=\"fill: #dd8452; stroke: #dd8452\"/>\n     <use xlink:href=\"#m0f79bad9e6\" x=\"223.749266\" y=\"299.410526\" style=\"fill: #dd8452; stroke: #dd8452\"/>\n     <use xlink:href=\"#m0f79bad9e6\" x=\"289.401957\" y=\"299.410526\" style=\"fill: #dd8452; stroke: #dd8452\"/>\n    </g>\n   </g>\n   <g id=\"patch_3\">\n    <path d=\"M 38.045938 299.410526 \nL 38.045938 21.648492 \n\" style=\"fill: none; stroke: #262626; stroke-width: 0.5; stroke-linejoin: miter; stroke-linecap: square\"/>\n   </g>\n   <g id=\"patch_4\">\n    <path d=\"M 56.803849 313.325312 \nL 431.962088 313.325312 \n\" style=\"fill: none; stroke: #262626; stroke-width: 0.5; stroke-linejoin: miter; stroke-linecap: square\"/>\n   </g>\n   <g id=\"legend_1\">\n    <g id=\"line2d_19\">\n     <path d=\"M 359.172031 16.368906 \nL 366.172031 16.368906 \nL 373.172031 16.368906 \n\" style=\"fill: none; stroke: #4c72b0; stroke-linecap: round\"/>\n    </g>\n    <g id=\"text_19\">\n     <!-- Fitted PDF -->\n     <g style=\"fill: #262626\" transform=\"translate(378.772031 18.818906) scale(0.07 -0.07)\">\n      <defs>\n       <path id=\"DejaVuSerif-46\" d=\"M 353 0 \nL 353 331 \nL 947 331 \nL 947 4331 \nL 353 4331 \nL 353 4666 \nL 4172 4666 \nL 4172 3628 \nL 3788 3628 \nL 3788 4281 \nL 1581 4281 \nL 1581 2719 \nL 3175 2719 \nL 3175 3303 \nL 3559 3303 \nL 3559 1753 \nL 3175 1753 \nL 3175 2338 \nL 1581 2338 \nL 1581 331 \nL 2328 331 \nL 2328 0 \nL 353 0 \nz\n\" transform=\"scale(0.015625)\"/>\n       <path id=\"DejaVuSerif-69\" d=\"M 622 4353 \nQ 622 4497 726 4603 \nQ 831 4709 978 4709 \nQ 1122 4709 1226 4603 \nQ 1331 4497 1331 4353 \nQ 1331 4206 1228 4103 \nQ 1125 4000 978 4000 \nQ 831 4000 726 4103 \nQ 622 4206 622 4353 \nz\nM 1356 331 \nL 1900 331 \nL 1900 0 \nL 231 0 \nL 231 331 \nL 781 331 \nL 781 2988 \nL 231 2988 \nL 231 3322 \nL 1356 3322 \nL 1356 331 \nz\n\" transform=\"scale(0.015625)\"/>\n       <path id=\"DejaVuSerif-74\" d=\"M 691 2988 \nL 184 2988 \nL 184 3322 \nL 691 3322 \nL 691 4353 \nL 1269 4353 \nL 1269 3322 \nL 2350 3322 \nL 2350 2988 \nL 1269 2988 \nL 1269 878 \nQ 1269 456 1350 337 \nQ 1431 219 1650 219 \nQ 1875 219 1978 351 \nQ 2081 484 2088 781 \nL 2522 781 \nQ 2497 328 2275 118 \nQ 2053 -91 1600 -91 \nQ 1103 -91 897 129 \nQ 691 350 691 878 \nL 691 2988 \nz\n\" transform=\"scale(0.015625)\"/>\n       <path id=\"DejaVuSerif-64\" d=\"M 3359 331 \nL 3909 331 \nL 3909 0 \nL 2784 0 \nL 2784 519 \nQ 2616 206 2355 57 \nQ 2094 -91 1709 -91 \nQ 1097 -91 708 395 \nQ 319 881 319 1663 \nQ 319 2444 706 2928 \nQ 1094 3413 1709 3413 \nQ 2094 3413 2355 3264 \nQ 2616 3116 2784 2803 \nL 2784 4531 \nL 2241 4531 \nL 2241 4863 \nL 3359 4863 \nL 3359 331 \nz\nM 2784 1497 \nL 2784 1825 \nQ 2784 2422 2554 2737 \nQ 2325 3053 1888 3053 \nQ 1444 3053 1217 2703 \nQ 991 2353 991 1663 \nQ 991 975 1217 622 \nQ 1444 269 1888 269 \nQ 2325 269 2554 583 \nQ 2784 897 2784 1497 \nz\n\" transform=\"scale(0.015625)\"/>\n       <path id=\"DejaVuSerif-50\" d=\"M 1581 2375 \nL 2406 2375 \nQ 2872 2375 3115 2626 \nQ 3359 2878 3359 3353 \nQ 3359 3831 3115 4081 \nQ 2872 4331 2406 4331 \nL 1581 4331 \nL 1581 2375 \nz\nM 353 0 \nL 353 331 \nL 947 331 \nL 947 4331 \nL 353 4331 \nL 353 4666 \nL 2559 4666 \nQ 3259 4666 3668 4311 \nQ 4078 3956 4078 3353 \nQ 4078 2753 3668 2397 \nQ 3259 2041 2559 2041 \nL 1581 2041 \nL 1581 331 \nL 2303 331 \nL 2303 0 \nL 353 0 \nz\n\" transform=\"scale(0.015625)\"/>\n       <path id=\"DejaVuSerif-44\" d=\"M 1581 331 \nL 2163 331 \nQ 3072 331 3558 850 \nQ 4044 1369 4044 2338 \nQ 4044 3306 3559 3818 \nQ 3075 4331 2163 4331 \nL 1581 4331 \nL 1581 331 \nz\nM 353 0 \nL 353 331 \nL 947 331 \nL 947 4331 \nL 353 4331 \nL 353 4666 \nL 2209 4666 \nQ 3416 4666 4089 4050 \nQ 4763 3434 4763 2338 \nQ 4763 1238 4088 619 \nQ 3413 0 2209 0 \nL 353 0 \nz\n\" transform=\"scale(0.015625)\"/>\n      </defs>\n      <use xlink:href=\"#DejaVuSerif-46\"/>\n      <use xlink:href=\"#DejaVuSerif-69\" transform=\"translate(69.384766 0)\"/>\n      <use xlink:href=\"#DejaVuSerif-74\" transform=\"translate(101.367188 0)\"/>\n      <use xlink:href=\"#DejaVuSerif-74\" transform=\"translate(141.552734 0)\"/>\n      <use xlink:href=\"#DejaVuSerif-65\" transform=\"translate(181.738281 0)\"/>\n      <use xlink:href=\"#DejaVuSerif-64\" transform=\"translate(240.917969 0)\"/>\n      <use xlink:href=\"#DejaVuSerif-20\" transform=\"translate(304.931641 0)\"/>\n      <use xlink:href=\"#DejaVuSerif-50\" transform=\"translate(336.71875 0)\"/>\n      <use xlink:href=\"#DejaVuSerif-44\" transform=\"translate(404.003906 0)\"/>\n      <use xlink:href=\"#DejaVuSerif-46\" transform=\"translate(484.179688 0)\"/>\n     </g>\n    </g>\n    <g id=\"line2d_20\">\n     <g>\n      <use xlink:href=\"#m0f79bad9e6\" x=\"366.172031\" y=\"26.643594\" style=\"fill: #dd8452; stroke: #dd8452\"/>\n     </g>\n    </g>\n    <g id=\"text_20\">\n     <!-- Experimental data -->\n     <g style=\"fill: #262626\" transform=\"translate(378.772031 29.093594) scale(0.07 -0.07)\">\n      <defs>\n       <path id=\"DejaVuSerif-45\" d=\"M 353 0 \nL 353 331 \nL 947 331 \nL 947 4331 \nL 353 4331 \nL 353 4666 \nL 4109 4666 \nL 4109 3628 \nL 3725 3628 \nL 3725 4281 \nL 1581 4281 \nL 1581 2719 \nL 3109 2719 \nL 3109 3303 \nL 3494 3303 \nL 3494 1753 \nL 3109 1753 \nL 3109 2338 \nL 1581 2338 \nL 1581 384 \nL 3775 384 \nL 3775 1038 \nL 4159 1038 \nL 4159 0 \nL 353 0 \nz\n\" transform=\"scale(0.015625)\"/>\n       <path id=\"DejaVuSerif-78\" d=\"M 1863 2028 \nL 2559 2988 \nL 2113 2988 \nL 2113 3322 \nL 3391 3322 \nL 3391 2988 \nL 2950 2988 \nL 2059 1759 \nL 3097 331 \nL 3531 331 \nL 3531 0 \nL 1997 0 \nL 1997 331 \nL 2419 331 \nL 1697 1325 \nL 972 331 \nL 1403 331 \nL 1403 0 \nL 141 0 \nL 141 331 \nL 581 331 \nL 1497 1594 \nL 488 2988 \nL 78 2988 \nL 78 3322 \nL 1563 3322 \nL 1563 2988 \nL 1166 2988 \nL 1863 2028 \nz\n\" transform=\"scale(0.015625)\"/>\n       <path id=\"DejaVuSerif-70\" d=\"M 1313 1825 \nL 1313 1497 \nQ 1313 897 1542 583 \nQ 1772 269 2209 269 \nQ 2650 269 2876 622 \nQ 3103 975 3103 1663 \nQ 3103 2353 2876 2703 \nQ 2650 3053 2209 3053 \nQ 1772 3053 1542 2737 \nQ 1313 2422 1313 1825 \nz\nM 738 2988 \nL 184 2988 \nL 184 3322 \nL 1313 3322 \nL 1313 2803 \nQ 1481 3116 1742 3264 \nQ 2003 3413 2388 3413 \nQ 3000 3413 3387 2928 \nQ 3775 2444 3775 1663 \nQ 3775 881 3387 395 \nQ 3000 -91 2388 -91 \nQ 2003 -91 1742 57 \nQ 1481 206 1313 519 \nL 1313 -997 \nL 1856 -997 \nL 1856 -1331 \nL 184 -1331 \nL 184 -997 \nL 738 -997 \nL 738 2988 \nz\n\" transform=\"scale(0.015625)\"/>\n       <path id=\"DejaVuSerif-6d\" d=\"M 3316 2675 \nQ 3481 3041 3739 3227 \nQ 3997 3413 4341 3413 \nQ 4863 3413 5119 3089 \nQ 5375 2766 5375 2113 \nL 5375 331 \nL 5894 331 \nL 5894 0 \nL 4300 0 \nL 4300 331 \nL 4800 331 \nL 4800 2047 \nQ 4800 2556 4650 2772 \nQ 4500 2988 4153 2988 \nQ 3769 2988 3567 2697 \nQ 3366 2406 3366 1850 \nL 3366 331 \nL 3866 331 \nL 3866 0 \nL 2291 0 \nL 2291 331 \nL 2791 331 \nL 2791 2069 \nQ 2791 2566 2641 2777 \nQ 2491 2988 2144 2988 \nQ 1759 2988 1557 2697 \nQ 1356 2406 1356 1850 \nL 1356 331 \nL 1856 331 \nL 1856 0 \nL 263 0 \nL 263 331 \nL 781 331 \nL 781 2994 \nL 231 2994 \nL 231 3322 \nL 1356 3322 \nL 1356 2731 \nQ 1516 3063 1762 3238 \nQ 2009 3413 2322 3413 \nQ 2709 3413 2968 3220 \nQ 3228 3028 3316 2675 \nz\n\" transform=\"scale(0.015625)\"/>\n       <path id=\"DejaVuSerif-6e\" d=\"M 263 0 \nL 263 331 \nL 781 331 \nL 781 2988 \nL 231 2988 \nL 231 3322 \nL 1356 3322 \nL 1356 2731 \nQ 1516 3069 1770 3241 \nQ 2025 3413 2363 3413 \nQ 2913 3413 3172 3097 \nQ 3431 2781 3431 2113 \nL 3431 331 \nL 3944 331 \nL 3944 0 \nL 2356 0 \nL 2356 331 \nL 2853 331 \nL 2853 1931 \nQ 2853 2541 2703 2767 \nQ 2553 2994 2175 2994 \nQ 1775 2994 1565 2701 \nQ 1356 2409 1356 1850 \nL 1356 331 \nL 1856 331 \nL 1856 0 \nL 263 0 \nz\n\" transform=\"scale(0.015625)\"/>\n       <path id=\"DejaVuSerif-6c\" d=\"M 1313 331 \nL 1856 331 \nL 1856 0 \nL 184 0 \nL 184 331 \nL 738 331 \nL 738 4531 \nL 184 4531 \nL 184 4863 \nL 1313 4863 \nL 1313 331 \nz\n\" transform=\"scale(0.015625)\"/>\n      </defs>\n      <use xlink:href=\"#DejaVuSerif-45\"/>\n      <use xlink:href=\"#DejaVuSerif-78\" transform=\"translate(72.998047 0)\"/>\n      <use xlink:href=\"#DejaVuSerif-70\" transform=\"translate(129.394531 0)\"/>\n      <use xlink:href=\"#DejaVuSerif-65\" transform=\"translate(193.408203 0)\"/>\n      <use xlink:href=\"#DejaVuSerif-72\" transform=\"translate(252.587891 0)\"/>\n      <use xlink:href=\"#DejaVuSerif-69\" transform=\"translate(300.390625 0)\"/>\n      <use xlink:href=\"#DejaVuSerif-6d\" transform=\"translate(332.373047 0)\"/>\n      <use xlink:href=\"#DejaVuSerif-65\" transform=\"translate(427.197266 0)\"/>\n      <use xlink:href=\"#DejaVuSerif-6e\" transform=\"translate(486.376953 0)\"/>\n      <use xlink:href=\"#DejaVuSerif-74\" transform=\"translate(550.78125 0)\"/>\n      <use xlink:href=\"#DejaVuSerif-61\" transform=\"translate(590.966797 0)\"/>\n      <use xlink:href=\"#DejaVuSerif-6c\" transform=\"translate(650.585938 0)\"/>\n      <use xlink:href=\"#DejaVuSerif-20\" transform=\"translate(682.568359 0)\"/>\n      <use xlink:href=\"#DejaVuSerif-64\" transform=\"translate(714.355469 0)\"/>\n      <use xlink:href=\"#DejaVuSerif-61\" transform=\"translate(778.369141 0)\"/>\n      <use xlink:href=\"#DejaVuSerif-74\" transform=\"translate(837.988281 0)\"/>\n      <use xlink:href=\"#DejaVuSerif-61\" transform=\"translate(878.173828 0)\"/>\n     </g>\n    </g>\n   </g>\n  </g>\n </g>\n <defs>\n  <clipPath id=\"p46dfd676f9\">\n   <rect x=\"38.045938\" y=\"7.2\" width=\"412.674062\" height=\"306.125313\"/>\n  </clipPath>\n </defs>\n</svg>\n"
          },
          "metadata": {}
        }
      ],
      "source": [
        "fig, ax = plt.subplots()\n",
        "ts = np.linspace(0.0, 20.0, 100)\n",
        "ax.plot(\n",
        "    ts,\n",
        "    T.pdf(ts),\n",
        "    label=\"Fitted PDF\"\n",
        ")\n",
        "ax.plot(\n",
        "    time_to_fail_data,\n",
        "    np.zeros_like(time_to_fail_data),\n",
        "    \"x\",\n",
        "    label=\"Experimental data\"\n",
        ")\n",
        "ax.set_xlabel(r\"$t$ (years)\")\n",
        "ax.set_ylabel(r\"$p(t)$\")\n",
        "plt.legend(loc=\"best\", frameon=False)\n",
        "sns.despine(trim=True);"
      ]
    },
    {
      "cell_type": "markdown",
      "metadata": {
        "id": "BVpY1jQfzKKn"
      },
      "source": [
        "Now you have to answer a series of questions about the random variable $T$ that we just fitted.\n",
        "\n",
        "A. Find the mean fail time and its variance.\n",
        "Hint: Do not integrate anything by hand. Just use the functionality of ``scipy.stats``."
      ]
    },
    {
      "cell_type": "code",
      "execution_count": 80,
      "metadata": {
        "colab": {
          "base_uri": "https://localhost:8080/"
        },
        "id": "vAGPF_5AzKKn",
        "outputId": "6a8678ba-1a63-473d-d9d2-4e72ebf8e962"
      },
      "outputs": [
        {
          "output_type": "stream",
          "name": "stdout",
          "text": [
            "E[T] = 0.00\n",
            "V[T] = 0.00\n"
          ]
        }
      ],
      "source": [
        "# Your code here\n",
        "t_mean = 0.0 # Change me\n",
        "t_var = 0.0 # Change me\n",
        "print(f\"E[T] = {t_mean:.2f}\")\n",
        "print(f\"V[T] = {t_var:.2f}\")"
      ]
    },
    {
      "cell_type": "markdown",
      "metadata": {
        "id": "X75OMWRFzKKn"
      },
      "source": [
        "B. Plot the cumulative distribution function $F(t) = P(T\\le t)$ of $T$."
      ]
    },
    {
      "cell_type": "code",
      "execution_count": 81,
      "metadata": {
        "id": "HvA6-hOqzKKn"
      },
      "outputs": [],
      "source": [
        "# Your code here"
      ]
    },
    {
      "cell_type": "markdown",
      "metadata": {
        "id": "NM5EseNFzKKn"
      },
      "source": [
        "C. Plot the probability that gear survives for more than $t$ as a function of $t$.\n",
        "That is, plot the function:\n",
        "\n",
        "$$\n",
        "S(t) = p(T > t).\n",
        "$$\n",
        "\n",
        "Hint: First connect $S(t)$ to the cumulative distribution function $F(t)$ of $T$."
      ]
    },
    {
      "cell_type": "code",
      "execution_count": 82,
      "metadata": {
        "id": "xqU_b5HnzKKn"
      },
      "outputs": [],
      "source": [
        "# Your code here"
      ]
    },
    {
      "cell_type": "markdown",
      "metadata": {
        "id": "5IpNIu10zKKn"
      },
      "source": [
        "D. Find the probability that the gear lasts anywhere between 8 and 10 years."
      ]
    },
    {
      "cell_type": "code",
      "execution_count": 83,
      "metadata": {
        "id": "50ZVqvn_zKKn"
      },
      "outputs": [],
      "source": [
        "# Your code here"
      ]
    },
    {
      "cell_type": "markdown",
      "metadata": {
        "id": "3HV9qv9RzKKn"
      },
      "source": [
        "E. Find the time $t^*$ such that the probability that the gear fails before $t^*$ is $0.01$."
      ]
    },
    {
      "cell_type": "code",
      "execution_count": 83,
      "metadata": {
        "id": "LqyzTt_hzKKn"
      },
      "outputs": [],
      "source": [
        "\n"
      ]
    }
  ],
  "metadata": {
    "celltoolbar": "Tags",
    "kernelspec": {
      "display_name": "Python 3 (ipykernel)",
      "language": "python",
      "name": "python3"
    },
    "language_info": {
      "codemirror_mode": {
        "name": "ipython",
        "version": 3
      },
      "file_extension": ".py",
      "mimetype": "text/x-python",
      "name": "python",
      "nbconvert_exporter": "python",
      "pygments_lexer": "ipython3",
      "version": "3.11.3"
    },
    "colab": {
      "provenance": [],
      "toc_visible": true
    }
  },
  "nbformat": 4,
  "nbformat_minor": 0
}
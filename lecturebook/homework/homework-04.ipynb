{
  "cells": [
    {
      "cell_type": "markdown",
      "metadata": {
        "id": "5Rq3KDdJCM6-"
      },
      "source": [
        "# Homework 4\n",
        "\n",
        "## References\n",
        "\n",
        "+ Lectures 13-16 (inclusive).\n",
        "\n",
        "\n",
        "## Instructions\n",
        "\n",
        "+ Type your name and email in the \"Student details\" section below.\n",
        "+ Develop the code and generate the figures you need to solve the problems using this notebook.\n",
        "+ For the answers that require a mathematical proof or derivation you should type them using latex. If you have never written latex before and you find it exceedingly difficult, we will likely accept handwritten solutions.\n",
        "+ The total homework points are 100. Please note that the problems are not weighed equally."
      ]
    },
    {
      "cell_type": "code",
      "execution_count": 6,
      "metadata": {
        "tags": [
          "hide-input"
        ],
        "id": "MwQdina2CM7B"
      },
      "outputs": [],
      "source": [
        "MAKE_BOOK_FIGURES=True\n",
        "import numpy as np\n",
        "import scipy.stats as st\n",
        "\n",
        "import matplotlib as mpl\n",
        "import matplotlib.pyplot as plt\n",
        "%matplotlib inline\n",
        "import matplotlib_inline\n",
        "matplotlib_inline.backend_inline.set_matplotlib_formats('svg')\n",
        "import seaborn as sns\n",
        "sns.set_context(\"paper\")\n",
        "sns.set_style(\"ticks\")\n",
        "\n",
        "def set_book_style():\n",
        "    plt.style.use('seaborn-v0_8-white')\n",
        "    sns.set_style(\"ticks\")\n",
        "    sns.set_palette(\"deep\")\n",
        "\n",
        "    mpl.rcParams.update({\n",
        "        # Font settings\n",
        "        'font.family': 'serif',  # For academic publishing\n",
        "        'font.size': 8,  # As requested, 10pt font\n",
        "        'axes.labelsize': 8,\n",
        "        'axes.titlesize': 8,\n",
        "        'xtick.labelsize': 7,  # Slightly smaller for better readability\n",
        "        'ytick.labelsize': 7,\n",
        "        'legend.fontsize': 7,\n",
        "\n",
        "        # Line and marker settings for consistency\n",
        "        'axes.linewidth': 0.5,\n",
        "        'grid.linewidth': 0.5,\n",
        "        'lines.linewidth': 1.0,\n",
        "        'lines.markersize': 4,\n",
        "\n",
        "        # Layout to prevent clipped labels\n",
        "        'figure.constrained_layout.use': True,\n",
        "\n",
        "        # Default DPI (will override when saving)\n",
        "        'figure.dpi': 600,\n",
        "        'savefig.dpi': 600,\n",
        "\n",
        "        # Despine - remove top and right spines\n",
        "        'axes.spines.top': False,\n",
        "        'axes.spines.right': False,\n",
        "\n",
        "        # Remove legend frame\n",
        "        'legend.frameon': False,\n",
        "\n",
        "        # Additional trim settings\n",
        "        'figure.autolayout': True,  # Alternative to constrained_layout\n",
        "        'savefig.bbox': 'tight',    # Trim when saving\n",
        "        'savefig.pad_inches': 0.1   # Small padding to ensure nothing gets cut off\n",
        "    })\n",
        "\n",
        "def set_notebook_style():\n",
        "    plt.style.use('seaborn-v0_8-white')\n",
        "    sns.set_style(\"ticks\")\n",
        "    sns.set_palette(\"deep\")\n",
        "\n",
        "    mpl.rcParams.update({\n",
        "        # Font settings - using default sizes\n",
        "        'font.family': 'serif',\n",
        "        'axes.labelsize': 10,\n",
        "        'axes.titlesize': 10,\n",
        "        'xtick.labelsize': 9,\n",
        "        'ytick.labelsize': 9,\n",
        "        'legend.fontsize': 9,\n",
        "\n",
        "        # Line and marker settings\n",
        "        'axes.linewidth': 0.5,\n",
        "        'grid.linewidth': 0.5,\n",
        "        'lines.linewidth': 1.0,\n",
        "        'lines.markersize': 4,\n",
        "\n",
        "        # Layout settings\n",
        "        'figure.constrained_layout.use': True,\n",
        "\n",
        "        # Remove only top and right spines\n",
        "        'axes.spines.top': False,\n",
        "        'axes.spines.right': False,\n",
        "\n",
        "        # Remove legend frame\n",
        "        'legend.frameon': False,\n",
        "\n",
        "        # Additional settings\n",
        "        'figure.autolayout': True,\n",
        "        'savefig.bbox': 'tight',\n",
        "        'savefig.pad_inches': 0.1\n",
        "    })\n",
        "\n",
        "def save_for_book(fig, filename, is_vector=True, **kwargs):\n",
        "    \"\"\"\n",
        "    Save a figure with book-optimized settings.\n",
        "\n",
        "    Parameters:\n",
        "    -----------\n",
        "    fig : matplotlib figure\n",
        "        The figure to save\n",
        "    filename : str\n",
        "        Filename without extension\n",
        "    is_vector : bool\n",
        "        If True, saves as vector at 1000 dpi. If False, saves as raster at 600 dpi.\n",
        "    **kwargs : dict\n",
        "        Additional kwargs to pass to savefig\n",
        "    \"\"\"\n",
        "    # Set appropriate DPI and format based on figure type\n",
        "    if is_vector:\n",
        "        dpi = 1000\n",
        "        ext = '.pdf'\n",
        "    else:\n",
        "        dpi = 600\n",
        "        ext = '.tif'\n",
        "\n",
        "    # Save the figure with book settings\n",
        "    fig.savefig(f\"{filename}{ext}\", dpi=dpi, **kwargs)\n",
        "\n",
        "def make_full_width_fig():\n",
        "    return plt.subplots(figsize=(4.7, 2.9), constrained_layout=True)\n",
        "\n",
        "def make_half_width_fig():\n",
        "    return plt.subplots(figsize=(2.35, 1.45), constrained_layout=True)\n",
        "\n",
        "if MAKE_BOOK_FIGURES:\n",
        "    set_book_style()\n",
        "else:\n",
        "    set_notebook_style()\n",
        "\n",
        "make_full_width_fig = make_full_width_fig if MAKE_BOOK_FIGURES else lambda: plt.subplots()\n",
        "make_half_width_fig = make_half_width_fig if MAKE_BOOK_FIGURES else lambda: plt.subplots()"
      ]
    },
    {
      "cell_type": "markdown",
      "metadata": {
        "id": "dZBdzD6_CM7C"
      },
      "source": [
        "## Student details\n",
        "\n",
        "+ **First Name:** Connor\n",
        "+ **Last Name:** Evans\n",
        "+ **Email:** evans604@purdue.edu"
      ]
    },
    {
      "cell_type": "markdown",
      "metadata": {
        "id": "5pHuz4nkCM7C"
      },
      "source": [
        "# Problem 1 - Estimating the mechanical properties of a plastic material from molecular dynamics simulations"
      ]
    },
    {
      "cell_type": "markdown",
      "metadata": {
        "id": "q0IAMLZQCM7C"
      },
      "source": [
        "First, make sure that [this](https://raw.githubusercontent.com/PredictiveScienceLab/data-analytics-se/master/homework/stress_strain.txt) dataset is visible from this Jupyter notebook.\n",
        "You may achieve this by either:\n",
        "\n",
        "+ Downloading the data file and then manually upload it on Google Colab. The easiest way is to click on the folder icon on the left of the browser window and click on the upload button (or drag and drop the file). Some other options are [here](https://colab.research.google.com/notebooks/io.ipynb).\n",
        "+ Downloading the file to the working directory of this notebook with this code:"
      ]
    },
    {
      "cell_type": "code",
      "execution_count": 16,
      "metadata": {
        "collapsed": true,
        "colab": {
          "base_uri": "https://localhost:8080/"
        },
        "id": "iWkOd_biCM7C",
        "outputId": "e2514fd7-bb66-40b7-8230-0716a02b37f4"
      },
      "outputs": [
        {
          "output_type": "execute_result",
          "data": {
            "text/plain": [
              "('stress_strain.txt', <http.client.HTTPMessage at 0x7d709e77e150>)"
            ]
          },
          "metadata": {},
          "execution_count": 16
        }
      ],
      "source": [
        "import urllib.request\n",
        "\n",
        "url = \"https://github.com/PredictiveScienceLab/data-analytics-se/raw/master/lecturebook/data/stress_strain.txt\"\n",
        "urllib.request.urlretrieve(url, \"stress_strain.txt\")"
      ]
    },
    {
      "cell_type": "markdown",
      "metadata": {
        "id": "EcnMXb0bCM7D"
      },
      "source": [
        "It's up to you what you choose to do.\n",
        "If the file is in the right place, the following code should work:"
      ]
    },
    {
      "cell_type": "code",
      "execution_count": 17,
      "metadata": {
        "id": "923D8JtCCM7D"
      },
      "outputs": [],
      "source": [
        "data =  np.loadtxt('stress_strain.txt')"
      ]
    },
    {
      "cell_type": "markdown",
      "metadata": {
        "id": "KZsNQZVgCM7D"
      },
      "source": [
        "The dataset was generated using a molecular dynamics simulation of a plastic material (thanks to [Professor Alejandro Strachan](https://engineering.purdue.edu/MSE/people/ptProfile?id=33239) for sharing the data!).\n",
        "Specifically, Strachan's group did the following:\n",
        "- They took a rectangular chunk of the material and marked the position of each one of its atoms;\n",
        "- They started applying a tensile force along one dimension.\n",
        "The atoms are coupled together through electromagnetic forces, and they must all satisfy Newton's law of motion.\n",
        "- For each value of the applied tensile force, they marked the stress (force be unit area) in the middle of the material and the corresponding strain of the material (percent elongation in the pulling direction).\n",
        "- Eventually, the material entered the plastic regime and broke.\n",
        "Here is a visualization of the data:"
      ]
    },
    {
      "cell_type": "code",
      "execution_count": 18,
      "metadata": {
        "tags": [
          "hide-input"
        ],
        "colab": {
          "base_uri": "https://localhost:8080/",
          "height": 478
        },
        "id": "Klyswt8vCM7D",
        "outputId": "3d061e47-ee09-4508-a4c9-758d29debd0e"
      },
      "outputs": [
        {
          "output_type": "display_data",
          "data": {
            "text/plain": [
              "<Figure size 3840x2880 with 1 Axes>"
            ],
            "image/svg+xml": "<?xml version=\"1.0\" encoding=\"utf-8\" standalone=\"no\"?>\n<!DOCTYPE svg PUBLIC \"-//W3C//DTD SVG 1.1//EN\"\n  \"http://www.w3.org/Graphics/SVG/1.1/DTD/svg11.dtd\">\n<svg xmlns:xlink=\"http://www.w3.org/1999/xlink\" width=\"457.92pt\" height=\"342.72pt\" viewBox=\"0 0 457.92 342.72\" xmlns=\"http://www.w3.org/2000/svg\" version=\"1.1\">\n <metadata>\n  <rdf:RDF xmlns:dc=\"http://purl.org/dc/elements/1.1/\" xmlns:cc=\"http://creativecommons.org/ns#\" xmlns:rdf=\"http://www.w3.org/1999/02/22-rdf-syntax-ns#\">\n   <cc:Work>\n    <dc:type rdf:resource=\"http://purl.org/dc/dcmitype/StillImage\"/>\n    <dc:date>2025-07-15T17:19:06.205712</dc:date>\n    <dc:format>image/svg+xml</dc:format>\n    <dc:creator>\n     <cc:Agent>\n      <dc:title>Matplotlib v3.10.0, https://matplotlib.org/</dc:title>\n     </cc:Agent>\n    </dc:creator>\n   </cc:Work>\n  </rdf:RDF>\n </metadata>\n <defs>\n  <style type=\"text/css\">*{stroke-linejoin: round; stroke-linecap: butt}</style>\n </defs>\n <g id=\"figure_1\">\n  <g id=\"patch_1\">\n   <path d=\"M 0 342.72 \nL 457.92 342.72 \nL 457.92 0 \nL 0 0 \nz\n\" style=\"fill: #ffffff\"/>\n  </g>\n  <g id=\"axes_1\">\n   <g id=\"patch_2\">\n    <path d=\"M 35.80375 313.502812 \nL 450.72 313.502812 \nL 450.72 7.2 \nL 35.80375 7.2 \nz\n\" style=\"fill: #ffffff\"/>\n   </g>\n   <g id=\"matplotlib.axis_1\">\n    <g id=\"xtick_1\">\n     <g id=\"line2d_1\"/>\n     <g id=\"text_1\">\n      <!-- 0.00 -->\n      <g style=\"fill: #262626\" transform=\"translate(46.870611 322.321719) scale(0.07 -0.07)\">\n       <defs>\n        <path id=\"DejaVuSerif-30\" d=\"M 2034 219 \nQ 2513 219 2750 744 \nQ 2988 1269 2988 2328 \nQ 2988 3391 2750 3916 \nQ 2513 4441 2034 4441 \nQ 1556 4441 1318 3916 \nQ 1081 3391 1081 2328 \nQ 1081 1269 1318 744 \nQ 1556 219 2034 219 \nz\nM 2034 -91 \nQ 1275 -91 848 546 \nQ 422 1184 422 2328 \nQ 422 3475 848 4112 \nQ 1275 4750 2034 4750 \nQ 2797 4750 3222 4112 \nQ 3647 3475 3647 2328 \nQ 3647 1184 3222 546 \nQ 2797 -91 2034 -91 \nz\n\" transform=\"scale(0.015625)\"/>\n        <path id=\"DejaVuSerif-2e\" d=\"M 603 325 \nQ 603 500 722 622 \nQ 841 744 1019 744 \nQ 1191 744 1312 622 \nQ 1434 500 1434 325 \nQ 1434 153 1312 31 \nQ 1191 -91 1019 -91 \nQ 841 -91 722 29 \nQ 603 150 603 325 \nz\n\" transform=\"scale(0.015625)\"/>\n       </defs>\n       <use xlink:href=\"#DejaVuSerif-30\"/>\n       <use xlink:href=\"#DejaVuSerif-2e\" transform=\"translate(63.623047 0)\"/>\n       <use xlink:href=\"#DejaVuSerif-30\" transform=\"translate(95.410156 0)\"/>\n       <use xlink:href=\"#DejaVuSerif-30\" transform=\"translate(159.033203 0)\"/>\n      </g>\n     </g>\n    </g>\n    <g id=\"xtick_2\">\n     <g id=\"line2d_2\"/>\n     <g id=\"text_2\">\n      <!-- 0.05 -->\n      <g style=\"fill: #262626\" transform=\"translate(121.83333 322.321719) scale(0.07 -0.07)\">\n       <defs>\n        <path id=\"DejaVuSerif-35\" d=\"M 3219 4666 \nL 3219 4153 \nL 1081 4153 \nL 1081 2816 \nQ 1244 2928 1461 2984 \nQ 1678 3041 1947 3041 \nQ 2703 3041 3140 2622 \nQ 3578 2203 3578 1478 \nQ 3578 738 3136 323 \nQ 2694 -91 1894 -91 \nQ 1572 -91 1234 -12 \nQ 897 66 544 225 \nL 544 1131 \nL 897 1131 \nQ 925 688 1179 453 \nQ 1434 219 1894 219 \nQ 2388 219 2653 544 \nQ 2919 869 2919 1478 \nQ 2919 2084 2655 2407 \nQ 2391 2731 1894 2731 \nQ 1613 2731 1398 2631 \nQ 1184 2531 1019 2322 \nL 750 2322 \nL 750 4666 \nL 3219 4666 \nz\n\" transform=\"scale(0.015625)\"/>\n       </defs>\n       <use xlink:href=\"#DejaVuSerif-30\"/>\n       <use xlink:href=\"#DejaVuSerif-2e\" transform=\"translate(63.623047 0)\"/>\n       <use xlink:href=\"#DejaVuSerif-30\" transform=\"translate(95.410156 0)\"/>\n       <use xlink:href=\"#DejaVuSerif-35\" transform=\"translate(159.033203 0)\"/>\n      </g>\n     </g>\n    </g>\n    <g id=\"xtick_3\">\n     <g id=\"line2d_3\"/>\n     <g id=\"text_3\">\n      <!-- 0.10 -->\n      <g style=\"fill: #262626\" transform=\"translate(196.79605 322.321719) scale(0.07 -0.07)\">\n       <defs>\n        <path id=\"DejaVuSerif-31\" d=\"M 909 0 \nL 909 331 \nL 1722 331 \nL 1722 4213 \nL 781 3603 \nL 781 4013 \nL 1919 4750 \nL 2350 4750 \nL 2350 331 \nL 3163 331 \nL 3163 0 \nL 909 0 \nz\n\" transform=\"scale(0.015625)\"/>\n       </defs>\n       <use xlink:href=\"#DejaVuSerif-30\"/>\n       <use xlink:href=\"#DejaVuSerif-2e\" transform=\"translate(63.623047 0)\"/>\n       <use xlink:href=\"#DejaVuSerif-31\" transform=\"translate(95.410156 0)\"/>\n       <use xlink:href=\"#DejaVuSerif-30\" transform=\"translate(159.033203 0)\"/>\n      </g>\n     </g>\n    </g>\n    <g id=\"xtick_4\">\n     <g id=\"line2d_4\"/>\n     <g id=\"text_4\">\n      <!-- 0.15 -->\n      <g style=\"fill: #262626\" transform=\"translate(271.75877 322.321719) scale(0.07 -0.07)\">\n       <use xlink:href=\"#DejaVuSerif-30\"/>\n       <use xlink:href=\"#DejaVuSerif-2e\" transform=\"translate(63.623047 0)\"/>\n       <use xlink:href=\"#DejaVuSerif-31\" transform=\"translate(95.410156 0)\"/>\n       <use xlink:href=\"#DejaVuSerif-35\" transform=\"translate(159.033203 0)\"/>\n      </g>\n     </g>\n    </g>\n    <g id=\"xtick_5\">\n     <g id=\"line2d_5\"/>\n     <g id=\"text_5\">\n      <!-- 0.20 -->\n      <g style=\"fill: #262626\" transform=\"translate(346.721489 322.321719) scale(0.07 -0.07)\">\n       <defs>\n        <path id=\"DejaVuSerif-32\" d=\"M 819 3553 \nL 469 3553 \nL 469 4384 \nQ 803 4563 1142 4656 \nQ 1481 4750 1806 4750 \nQ 2534 4750 2956 4397 \nQ 3378 4044 3378 3438 \nQ 3378 2753 2422 1800 \nQ 2347 1728 2309 1691 \nL 1131 513 \nL 3078 513 \nL 3078 1088 \nL 3444 1088 \nL 3444 0 \nL 434 0 \nL 434 341 \nL 1850 1753 \nQ 2319 2222 2519 2614 \nQ 2719 3006 2719 3438 \nQ 2719 3909 2473 4175 \nQ 2228 4441 1797 4441 \nQ 1350 4441 1106 4219 \nQ 863 3997 819 3553 \nz\n\" transform=\"scale(0.015625)\"/>\n       </defs>\n       <use xlink:href=\"#DejaVuSerif-30\"/>\n       <use xlink:href=\"#DejaVuSerif-2e\" transform=\"translate(63.623047 0)\"/>\n       <use xlink:href=\"#DejaVuSerif-32\" transform=\"translate(95.410156 0)\"/>\n       <use xlink:href=\"#DejaVuSerif-30\" transform=\"translate(159.033203 0)\"/>\n      </g>\n     </g>\n    </g>\n    <g id=\"xtick_6\">\n     <g id=\"line2d_6\"/>\n     <g id=\"text_6\">\n      <!-- 0.25 -->\n      <g style=\"fill: #262626\" transform=\"translate(421.684209 322.321719) scale(0.07 -0.07)\">\n       <use xlink:href=\"#DejaVuSerif-30\"/>\n       <use xlink:href=\"#DejaVuSerif-2e\" transform=\"translate(63.623047 0)\"/>\n       <use xlink:href=\"#DejaVuSerif-32\" transform=\"translate(95.410156 0)\"/>\n       <use xlink:href=\"#DejaVuSerif-35\" transform=\"translate(159.033203 0)\"/>\n      </g>\n     </g>\n    </g>\n    <g id=\"text_7\">\n     <!-- $\\epsilon$ (strain in %) -->\n     <g style=\"fill: #262626\" transform=\"translate(214.661875 333.85625) scale(0.08 -0.08)\">\n      <defs>\n       <path id=\"DejaVuSans-Oblique-3b5\" d=\"M 1263 1888 \nQ 925 1963 778 2166 \nQ 669 2309 669 2503 \nQ 669 3034 1175 3344 \nQ 1575 3588 2188 3588 \nQ 2425 3588 2684 3550 \nQ 2944 3513 3234 3438 \nL 3134 2916 \nQ 2847 3006 2606 3047 \nQ 2359 3088 2138 3088 \nQ 1766 3088 1522 2944 \nQ 1228 2772 1228 2522 \nQ 1228 2356 1381 2241 \nQ 1563 2103 1925 2103 \nL 2409 2103 \nL 2319 1628 \nL 1856 1628 \nQ 1425 1628 1172 1469 \nQ 828 1253 828 916 \nQ 828 703 1013 563 \nQ 1244 388 1716 388 \nQ 2006 388 2284 444 \nQ 2563 503 2806 619 \nL 2700 84 \nQ 2403 -3 2131 -47 \nQ 1859 -91 1609 -91 \nQ 866 -91 516 194 \nQ 250 413 250 781 \nQ 250 1278 600 1584 \nQ 859 1813 1263 1888 \nz\n\" transform=\"scale(0.015625)\"/>\n       <path id=\"DejaVuSerif-20\" transform=\"scale(0.015625)\"/>\n       <path id=\"DejaVuSerif-28\" d=\"M 2041 -997 \nQ 1281 -656 893 83 \nQ 506 822 506 1931 \nQ 506 3044 893 3783 \nQ 1281 4522 2041 4863 \nL 2041 4556 \nQ 1559 4225 1350 3623 \nQ 1141 3022 1141 1931 \nQ 1141 844 1350 242 \nQ 1559 -359 2041 -691 \nL 2041 -997 \nz\n\" transform=\"scale(0.015625)\"/>\n       <path id=\"DejaVuSerif-73\" d=\"M 359 184 \nL 359 959 \nL 691 959 \nQ 703 588 923 403 \nQ 1144 219 1575 219 \nQ 1963 219 2166 364 \nQ 2369 509 2369 788 \nQ 2369 1006 2220 1140 \nQ 2072 1275 1594 1428 \nL 1178 1569 \nQ 750 1706 558 1912 \nQ 366 2119 366 2438 \nQ 366 2894 700 3153 \nQ 1034 3413 1625 3413 \nQ 1888 3413 2178 3344 \nQ 2469 3275 2778 3144 \nL 2778 2419 \nL 2447 2419 \nQ 2434 2741 2221 2922 \nQ 2009 3103 1644 3103 \nQ 1281 3103 1095 2975 \nQ 909 2847 909 2591 \nQ 909 2381 1050 2254 \nQ 1191 2128 1613 1997 \nL 2069 1856 \nQ 2541 1709 2748 1489 \nQ 2956 1269 2956 922 \nQ 2956 450 2595 179 \nQ 2234 -91 1600 -91 \nQ 1278 -91 972 -22 \nQ 666 47 359 184 \nz\n\" transform=\"scale(0.015625)\"/>\n       <path id=\"DejaVuSerif-74\" d=\"M 691 2988 \nL 184 2988 \nL 184 3322 \nL 691 3322 \nL 691 4353 \nL 1269 4353 \nL 1269 3322 \nL 2350 3322 \nL 2350 2988 \nL 1269 2988 \nL 1269 878 \nQ 1269 456 1350 337 \nQ 1431 219 1650 219 \nQ 1875 219 1978 351 \nQ 2081 484 2088 781 \nL 2522 781 \nQ 2497 328 2275 118 \nQ 2053 -91 1600 -91 \nQ 1103 -91 897 129 \nQ 691 350 691 878 \nL 691 2988 \nz\n\" transform=\"scale(0.015625)\"/>\n       <path id=\"DejaVuSerif-72\" d=\"M 3059 3328 \nL 3059 2497 \nL 2728 2497 \nQ 2713 2744 2591 2866 \nQ 2469 2988 2234 2988 \nQ 1809 2988 1582 2694 \nQ 1356 2400 1356 1850 \nL 1356 331 \nL 2022 331 \nL 2022 0 \nL 263 0 \nL 263 331 \nL 781 331 \nL 781 2994 \nL 231 2994 \nL 231 3322 \nL 1356 3322 \nL 1356 2731 \nQ 1525 3078 1790 3245 \nQ 2056 3413 2438 3413 \nQ 2578 3413 2733 3391 \nQ 2888 3369 3059 3328 \nz\n\" transform=\"scale(0.015625)\"/>\n       <path id=\"DejaVuSerif-61\" d=\"M 2547 1044 \nL 2547 1747 \nL 1806 1747 \nQ 1378 1747 1168 1562 \nQ 959 1378 959 997 \nQ 959 650 1171 447 \nQ 1384 244 1747 244 \nQ 2106 244 2326 466 \nQ 2547 688 2547 1044 \nz\nM 3122 2075 \nL 3122 331 \nL 3634 331 \nL 3634 0 \nL 2547 0 \nL 2547 359 \nQ 2356 128 2106 18 \nQ 1856 -91 1522 -91 \nQ 969 -91 644 203 \nQ 319 497 319 997 \nQ 319 1513 691 1797 \nQ 1063 2081 1741 2081 \nL 2547 2081 \nL 2547 2309 \nQ 2547 2688 2317 2895 \nQ 2088 3103 1672 3103 \nQ 1328 3103 1125 2947 \nQ 922 2791 872 2484 \nL 575 2484 \nL 575 3156 \nQ 875 3284 1158 3348 \nQ 1441 3413 1709 3413 \nQ 2400 3413 2761 3070 \nQ 3122 2728 3122 2075 \nz\n\" transform=\"scale(0.015625)\"/>\n       <path id=\"DejaVuSerif-69\" d=\"M 622 4353 \nQ 622 4497 726 4603 \nQ 831 4709 978 4709 \nQ 1122 4709 1226 4603 \nQ 1331 4497 1331 4353 \nQ 1331 4206 1228 4103 \nQ 1125 4000 978 4000 \nQ 831 4000 726 4103 \nQ 622 4206 622 4353 \nz\nM 1356 331 \nL 1900 331 \nL 1900 0 \nL 231 0 \nL 231 331 \nL 781 331 \nL 781 2988 \nL 231 2988 \nL 231 3322 \nL 1356 3322 \nL 1356 331 \nz\n\" transform=\"scale(0.015625)\"/>\n       <path id=\"DejaVuSerif-6e\" d=\"M 263 0 \nL 263 331 \nL 781 331 \nL 781 2988 \nL 231 2988 \nL 231 3322 \nL 1356 3322 \nL 1356 2731 \nQ 1516 3069 1770 3241 \nQ 2025 3413 2363 3413 \nQ 2913 3413 3172 3097 \nQ 3431 2781 3431 2113 \nL 3431 331 \nL 3944 331 \nL 3944 0 \nL 2356 0 \nL 2356 331 \nL 2853 331 \nL 2853 1931 \nQ 2853 2541 2703 2767 \nQ 2553 2994 2175 2994 \nQ 1775 2994 1565 2701 \nQ 1356 2409 1356 1850 \nL 1356 331 \nL 1856 331 \nL 1856 0 \nL 263 0 \nz\n\" transform=\"scale(0.015625)\"/>\n       <path id=\"DejaVuSerif-25\" d=\"M 1434 4459 \nQ 1159 4459 1004 4200 \nQ 850 3941 850 3475 \nQ 850 3016 1008 2753 \nQ 1166 2491 1434 2491 \nQ 1700 2491 1854 2752 \nQ 2009 3013 2009 3475 \nQ 2009 3938 1854 4198 \nQ 1700 4459 1434 4459 \nz\nM 4653 2169 \nQ 4381 2169 4226 1906 \nQ 4072 1644 4072 1178 \nQ 4072 719 4228 458 \nQ 4384 197 4653 197 \nQ 4922 197 5075 458 \nQ 5228 719 5228 1178 \nQ 5228 1641 5073 1905 \nQ 4919 2169 4653 2169 \nz\nM 4653 2450 \nQ 5147 2450 5437 2106 \nQ 5728 1763 5728 1178 \nQ 5728 594 5436 251 \nQ 5144 -91 4653 -91 \nQ 4153 -91 3862 251 \nQ 3572 594 3572 1178 \nQ 3572 1766 3864 2108 \nQ 4156 2450 4653 2450 \nz\nM 4263 4750 \nL 4738 4750 \nL 1819 -91 \nL 1344 -91 \nL 4263 4750 \nz\nM 1428 4750 \nQ 1922 4750 2215 4408 \nQ 2509 4066 2509 3481 \nQ 2509 2891 2217 2550 \nQ 1925 2209 1428 2209 \nQ 931 2209 642 2551 \nQ 353 2894 353 3481 \nQ 353 4063 643 4406 \nQ 934 4750 1428 4750 \nz\n\" transform=\"scale(0.015625)\"/>\n       <path id=\"DejaVuSerif-29\" d=\"M 453 -997 \nL 453 -691 \nQ 934 -359 1145 242 \nQ 1356 844 1356 1931 \nQ 1356 3022 1145 3623 \nQ 934 4225 453 4556 \nL 453 4863 \nQ 1216 4522 1603 3783 \nQ 1991 3044 1991 1931 \nQ 1991 822 1603 83 \nQ 1216 -656 453 -997 \nz\n\" transform=\"scale(0.015625)\"/>\n      </defs>\n      <use xlink:href=\"#DejaVuSans-Oblique-3b5\" transform=\"translate(0 0.015625)\"/>\n      <use xlink:href=\"#DejaVuSerif-20\" transform=\"translate(54.052734 0.015625)\"/>\n      <use xlink:href=\"#DejaVuSerif-28\" transform=\"translate(85.839844 0.015625)\"/>\n      <use xlink:href=\"#DejaVuSerif-73\" transform=\"translate(124.853516 0.015625)\"/>\n      <use xlink:href=\"#DejaVuSerif-74\" transform=\"translate(176.171875 0.015625)\"/>\n      <use xlink:href=\"#DejaVuSerif-72\" transform=\"translate(216.357422 0.015625)\"/>\n      <use xlink:href=\"#DejaVuSerif-61\" transform=\"translate(264.160156 0.015625)\"/>\n      <use xlink:href=\"#DejaVuSerif-69\" transform=\"translate(323.779297 0.015625)\"/>\n      <use xlink:href=\"#DejaVuSerif-6e\" transform=\"translate(355.761719 0.015625)\"/>\n      <use xlink:href=\"#DejaVuSerif-20\" transform=\"translate(420.166016 0.015625)\"/>\n      <use xlink:href=\"#DejaVuSerif-69\" transform=\"translate(451.953125 0.015625)\"/>\n      <use xlink:href=\"#DejaVuSerif-6e\" transform=\"translate(483.935547 0.015625)\"/>\n      <use xlink:href=\"#DejaVuSerif-20\" transform=\"translate(548.339844 0.015625)\"/>\n      <use xlink:href=\"#DejaVuSerif-25\" transform=\"translate(580.126953 0.015625)\"/>\n      <use xlink:href=\"#DejaVuSerif-29\" transform=\"translate(675.146484 0.015625)\"/>\n     </g>\n    </g>\n   </g>\n   <g id=\"matplotlib.axis_2\">\n    <g id=\"ytick_1\">\n     <g id=\"line2d_7\"/>\n     <g id=\"text_8\">\n      <!-- 0 -->\n      <g style=\"fill: #262626\" transform=\"translate(27.85 279.15703) scale(0.07 -0.07)\">\n       <use xlink:href=\"#DejaVuSerif-30\"/>\n      </g>\n     </g>\n    </g>\n    <g id=\"ytick_2\">\n     <g id=\"line2d_8\"/>\n     <g id=\"text_9\">\n      <!-- 50 -->\n      <g style=\"fill: #262626\" transform=\"translate(23.39625 240.020765) scale(0.07 -0.07)\">\n       <use xlink:href=\"#DejaVuSerif-35\"/>\n       <use xlink:href=\"#DejaVuSerif-30\" transform=\"translate(63.623047 0)\"/>\n      </g>\n     </g>\n    </g>\n    <g id=\"ytick_3\">\n     <g id=\"line2d_9\"/>\n     <g id=\"text_10\">\n      <!-- 100 -->\n      <g style=\"fill: #262626\" transform=\"translate(18.9425 200.8845) scale(0.07 -0.07)\">\n       <use xlink:href=\"#DejaVuSerif-31\"/>\n       <use xlink:href=\"#DejaVuSerif-30\" transform=\"translate(63.623047 0)\"/>\n       <use xlink:href=\"#DejaVuSerif-30\" transform=\"translate(127.246094 0)\"/>\n      </g>\n     </g>\n    </g>\n    <g id=\"ytick_4\">\n     <g id=\"line2d_10\"/>\n     <g id=\"text_11\">\n      <!-- 150 -->\n      <g style=\"fill: #262626\" transform=\"translate(18.9425 161.748236) scale(0.07 -0.07)\">\n       <use xlink:href=\"#DejaVuSerif-31\"/>\n       <use xlink:href=\"#DejaVuSerif-35\" transform=\"translate(63.623047 0)\"/>\n       <use xlink:href=\"#DejaVuSerif-30\" transform=\"translate(127.246094 0)\"/>\n      </g>\n     </g>\n    </g>\n    <g id=\"ytick_5\">\n     <g id=\"line2d_11\"/>\n     <g id=\"text_12\">\n      <!-- 200 -->\n      <g style=\"fill: #262626\" transform=\"translate(18.9425 122.611971) scale(0.07 -0.07)\">\n       <use xlink:href=\"#DejaVuSerif-32\"/>\n       <use xlink:href=\"#DejaVuSerif-30\" transform=\"translate(63.623047 0)\"/>\n       <use xlink:href=\"#DejaVuSerif-30\" transform=\"translate(127.246094 0)\"/>\n      </g>\n     </g>\n    </g>\n    <g id=\"ytick_6\">\n     <g id=\"line2d_12\"/>\n     <g id=\"text_13\">\n      <!-- 250 -->\n      <g style=\"fill: #262626\" transform=\"translate(18.9425 83.475707) scale(0.07 -0.07)\">\n       <use xlink:href=\"#DejaVuSerif-32\"/>\n       <use xlink:href=\"#DejaVuSerif-35\" transform=\"translate(63.623047 0)\"/>\n       <use xlink:href=\"#DejaVuSerif-30\" transform=\"translate(127.246094 0)\"/>\n      </g>\n     </g>\n    </g>\n    <g id=\"ytick_7\">\n     <g id=\"line2d_13\"/>\n     <g id=\"text_14\">\n      <!-- 300 -->\n      <g style=\"fill: #262626\" transform=\"translate(18.9425 44.339442) scale(0.07 -0.07)\">\n       <defs>\n        <path id=\"DejaVuSerif-33\" d=\"M 622 4469 \nQ 988 4606 1323 4678 \nQ 1659 4750 1953 4750 \nQ 2638 4750 3022 4454 \nQ 3406 4159 3406 3634 \nQ 3406 3213 3140 2930 \nQ 2875 2647 2388 2547 \nQ 2963 2466 3280 2130 \nQ 3597 1794 3597 1259 \nQ 3597 606 3158 257 \nQ 2719 -91 1894 -91 \nQ 1528 -91 1179 -12 \nQ 831 66 488 225 \nL 488 1131 \nL 838 1131 \nQ 869 681 1141 450 \nQ 1413 219 1906 219 \nQ 2384 219 2661 495 \nQ 2938 772 2938 1253 \nQ 2938 1803 2653 2086 \nQ 2369 2369 1819 2369 \nL 1522 2369 \nL 1522 2688 \nL 1678 2688 \nQ 2225 2688 2498 2914 \nQ 2772 3141 2772 3597 \nQ 2772 4006 2547 4223 \nQ 2322 4441 1900 4441 \nQ 1478 4441 1245 4241 \nQ 1013 4041 972 3647 \nL 622 3647 \nL 622 4469 \nz\n\" transform=\"scale(0.015625)\"/>\n       </defs>\n       <use xlink:href=\"#DejaVuSerif-33\"/>\n       <use xlink:href=\"#DejaVuSerif-30\" transform=\"translate(63.623047 0)\"/>\n       <use xlink:href=\"#DejaVuSerif-30\" transform=\"translate(127.246094 0)\"/>\n      </g>\n     </g>\n    </g>\n    <g id=\"text_15\">\n     <!-- $\\sigma$ (stress in MPa) -->\n     <g style=\"fill: #262626\" transform=\"translate(13.27875 194.911406) rotate(-90) scale(0.08 -0.08)\">\n      <defs>\n       <path id=\"DejaVuSans-Oblique-3c3\" d=\"M 2219 3044 \nQ 1744 3044 1422 2700 \nQ 1081 2341 969 1747 \nQ 844 1119 1044 756 \nQ 1241 397 1706 397 \nQ 2166 397 2503 759 \nQ 2844 1122 2966 1747 \nQ 3075 2319 2881 2700 \nQ 2700 3044 2219 3044 \nz\nM 2309 3503 \nL 4219 3500 \nL 4106 2925 \nL 3463 2925 \nQ 3706 2438 3575 1747 \nQ 3406 888 2884 400 \nQ 2359 -91 1609 -91 \nQ 856 -91 525 400 \nQ 194 888 363 1747 \nQ 528 2609 1050 3097 \nQ 1484 3503 2309 3503 \nz\n\" transform=\"scale(0.015625)\"/>\n       <path id=\"DejaVuSerif-65\" d=\"M 3469 1600 \nL 991 1600 \nL 991 1575 \nQ 991 903 1244 561 \nQ 1497 219 1991 219 \nQ 2369 219 2611 417 \nQ 2853 616 2950 1006 \nL 3413 1006 \nQ 3275 459 2904 184 \nQ 2534 -91 1931 -91 \nQ 1203 -91 761 389 \nQ 319 869 319 1663 \nQ 319 2450 753 2931 \nQ 1188 3413 1894 3413 \nQ 2647 3413 3050 2948 \nQ 3453 2484 3469 1600 \nz\nM 2791 1931 \nQ 2772 2513 2545 2808 \nQ 2319 3103 1894 3103 \nQ 1497 3103 1269 2806 \nQ 1041 2509 991 1931 \nL 2791 1931 \nz\n\" transform=\"scale(0.015625)\"/>\n       <path id=\"DejaVuSerif-4d\" d=\"M 353 0 \nL 353 331 \nL 947 331 \nL 947 4331 \nL 319 4331 \nL 319 4666 \nL 1678 4666 \nL 3316 1344 \nL 4953 4666 \nL 6228 4666 \nL 6228 4331 \nL 5606 4331 \nL 5606 331 \nL 6203 331 \nL 6203 0 \nL 4378 0 \nL 4378 331 \nL 4972 331 \nL 4972 3938 \nL 3372 684 \nL 2931 684 \nL 1331 3938 \nL 1331 331 \nL 1925 331 \nL 1925 0 \nL 353 0 \nz\n\" transform=\"scale(0.015625)\"/>\n       <path id=\"DejaVuSerif-50\" d=\"M 1581 2375 \nL 2406 2375 \nQ 2872 2375 3115 2626 \nQ 3359 2878 3359 3353 \nQ 3359 3831 3115 4081 \nQ 2872 4331 2406 4331 \nL 1581 4331 \nL 1581 2375 \nz\nM 353 0 \nL 353 331 \nL 947 331 \nL 947 4331 \nL 353 4331 \nL 353 4666 \nL 2559 4666 \nQ 3259 4666 3668 4311 \nQ 4078 3956 4078 3353 \nQ 4078 2753 3668 2397 \nQ 3259 2041 2559 2041 \nL 1581 2041 \nL 1581 331 \nL 2303 331 \nL 2303 0 \nL 353 0 \nz\n\" transform=\"scale(0.015625)\"/>\n      </defs>\n      <use xlink:href=\"#DejaVuSans-Oblique-3c3\" transform=\"translate(0 0.015625)\"/>\n      <use xlink:href=\"#DejaVuSerif-20\" transform=\"translate(63.378906 0.015625)\"/>\n      <use xlink:href=\"#DejaVuSerif-28\" transform=\"translate(95.166016 0.015625)\"/>\n      <use xlink:href=\"#DejaVuSerif-73\" transform=\"translate(134.179688 0.015625)\"/>\n      <use xlink:href=\"#DejaVuSerif-74\" transform=\"translate(185.498047 0.015625)\"/>\n      <use xlink:href=\"#DejaVuSerif-72\" transform=\"translate(225.683594 0.015625)\"/>\n      <use xlink:href=\"#DejaVuSerif-65\" transform=\"translate(273.486328 0.015625)\"/>\n      <use xlink:href=\"#DejaVuSerif-73\" transform=\"translate(332.666016 0.015625)\"/>\n      <use xlink:href=\"#DejaVuSerif-73\" transform=\"translate(383.984375 0.015625)\"/>\n      <use xlink:href=\"#DejaVuSerif-20\" transform=\"translate(435.302734 0.015625)\"/>\n      <use xlink:href=\"#DejaVuSerif-69\" transform=\"translate(467.089844 0.015625)\"/>\n      <use xlink:href=\"#DejaVuSerif-6e\" transform=\"translate(499.072266 0.015625)\"/>\n      <use xlink:href=\"#DejaVuSerif-20\" transform=\"translate(563.476562 0.015625)\"/>\n      <use xlink:href=\"#DejaVuSerif-4d\" transform=\"translate(595.263672 0.015625)\"/>\n      <use xlink:href=\"#DejaVuSerif-50\" transform=\"translate(697.65625 0.015625)\"/>\n      <use xlink:href=\"#DejaVuSerif-61\" transform=\"translate(764.941406 0.015625)\"/>\n      <use xlink:href=\"#DejaVuSerif-29\" transform=\"translate(824.560547 0.015625)\"/>\n     </g>\n    </g>\n   </g>\n   <g id=\"line2d_14\">\n    <defs>\n     <path id=\"m258434bb3c\" d=\"M 0 1 \nC 0.265203 1 0.51958 0.894634 0.707107 0.707107 \nC 0.894634 0.51958 1 0.265203 1 0 \nC 1 -0.265203 0.894634 -0.51958 0.707107 -0.707107 \nC 0.51958 -0.894634 0.265203 -1 0 -1 \nC -0.265203 -1 -0.51958 -0.894634 -0.707107 -0.707107 \nC -0.894634 -0.51958 -1 -0.265203 -1 0 \nC -1 0.265203 -0.894634 0.51958 -0.707107 0.707107 \nC -0.51958 0.894634 -0.265203 1 0 1 \nz\n\" style=\"stroke: #ff0000\"/>\n    </defs>\n    <g clip-path=\"url(#p08950984bc)\">\n     <use xlink:href=\"#m258434bb3c\" x=\"54.66358\" y=\"299.579957\" style=\"fill: #ff0000; stroke: #ff0000\"/>\n     <use xlink:href=\"#m258434bb3c\" x=\"55.040866\" y=\"267.277363\" style=\"fill: #ff0000; stroke: #ff0000\"/>\n     <use xlink:href=\"#m258434bb3c\" x=\"55.418152\" y=\"241.122074\" style=\"fill: #ff0000; stroke: #ff0000\"/>\n     <use xlink:href=\"#m258434bb3c\" x=\"55.795439\" y=\"237.75642\" style=\"fill: #ff0000; stroke: #ff0000\"/>\n     <use xlink:href=\"#m258434bb3c\" x=\"56.172725\" y=\"243.401588\" style=\"fill: #ff0000; stroke: #ff0000\"/>\n     <use xlink:href=\"#m258434bb3c\" x=\"56.550012\" y=\"269.925597\" style=\"fill: #ff0000; stroke: #ff0000\"/>\n     <use xlink:href=\"#m258434bb3c\" x=\"56.927298\" y=\"288.215284\" style=\"fill: #ff0000; stroke: #ff0000\"/>\n     <use xlink:href=\"#m258434bb3c\" x=\"57.302588\" y=\"233.204599\" style=\"fill: #ff0000; stroke: #ff0000\"/>\n     <use xlink:href=\"#m258434bb3c\" x=\"57.679875\" y=\"237.272488\" style=\"fill: #ff0000; stroke: #ff0000\"/>\n     <use xlink:href=\"#m258434bb3c\" x=\"58.057161\" y=\"222.93327\" style=\"fill: #ff0000; stroke: #ff0000\"/>\n     <use xlink:href=\"#m258434bb3c\" x=\"58.434448\" y=\"275.683131\" style=\"fill: #ff0000; stroke: #ff0000\"/>\n     <use xlink:href=\"#m258434bb3c\" x=\"58.811734\" y=\"299.37854\" style=\"fill: #ff0000; stroke: #ff0000\"/>\n     <use xlink:href=\"#m258434bb3c\" x=\"59.18902\" y=\"245.785677\" style=\"fill: #ff0000; stroke: #ff0000\"/>\n     <use xlink:href=\"#m258434bb3c\" x=\"59.566307\" y=\"264.367553\" style=\"fill: #ff0000; stroke: #ff0000\"/>\n     <use xlink:href=\"#m258434bb3c\" x=\"59.943593\" y=\"244.400556\" style=\"fill: #ff0000; stroke: #ff0000\"/>\n     <use xlink:href=\"#m258434bb3c\" x=\"60.32088\" y=\"251.749115\" style=\"fill: #ff0000; stroke: #ff0000\"/>\n     <use xlink:href=\"#m258434bb3c\" x=\"60.698166\" y=\"226.026089\" style=\"fill: #ff0000; stroke: #ff0000\"/>\n     <use xlink:href=\"#m258434bb3c\" x=\"61.075452\" y=\"253.465767\" style=\"fill: #ff0000; stroke: #ff0000\"/>\n     <use xlink:href=\"#m258434bb3c\" x=\"61.452739\" y=\"232.324477\" style=\"fill: #ff0000; stroke: #ff0000\"/>\n     <use xlink:href=\"#m258434bb3c\" x=\"61.830025\" y=\"224.687654\" style=\"fill: #ff0000; stroke: #ff0000\"/>\n     <use xlink:href=\"#m258434bb3c\" x=\"62.207312\" y=\"210.447912\" style=\"fill: #ff0000; stroke: #ff0000\"/>\n     <use xlink:href=\"#m258434bb3c\" x=\"62.584598\" y=\"226.29804\" style=\"fill: #ff0000; stroke: #ff0000\"/>\n     <use xlink:href=\"#m258434bb3c\" x=\"62.961885\" y=\"262.653734\" style=\"fill: #ff0000; stroke: #ff0000\"/>\n     <use xlink:href=\"#m258434bb3c\" x=\"63.339171\" y=\"270.131749\" style=\"fill: #ff0000; stroke: #ff0000\"/>\n     <use xlink:href=\"#m258434bb3c\" x=\"63.716457\" y=\"220.278981\" style=\"fill: #ff0000; stroke: #ff0000\"/>\n     <use xlink:href=\"#m258434bb3c\" x=\"64.093744\" y=\"234.147772\" style=\"fill: #ff0000; stroke: #ff0000\"/>\n     <use xlink:href=\"#m258434bb3c\" x=\"64.47103\" y=\"171.66631\" style=\"fill: #ff0000; stroke: #ff0000\"/>\n     <use xlink:href=\"#m258434bb3c\" x=\"64.848317\" y=\"241.490234\" style=\"fill: #ff0000; stroke: #ff0000\"/>\n     <use xlink:href=\"#m258434bb3c\" x=\"65.225603\" y=\"178.556116\" style=\"fill: #ff0000; stroke: #ff0000\"/>\n     <use xlink:href=\"#m258434bb3c\" x=\"65.600893\" y=\"211.039052\" style=\"fill: #ff0000; stroke: #ff0000\"/>\n     <use xlink:href=\"#m258434bb3c\" x=\"65.97818\" y=\"229.541141\" style=\"fill: #ff0000; stroke: #ff0000\"/>\n     <use xlink:href=\"#m258434bb3c\" x=\"66.355466\" y=\"227.056542\" style=\"fill: #ff0000; stroke: #ff0000\"/>\n     <use xlink:href=\"#m258434bb3c\" x=\"66.732753\" y=\"234.773826\" style=\"fill: #ff0000; stroke: #ff0000\"/>\n     <use xlink:href=\"#m258434bb3c\" x=\"67.110039\" y=\"193.477584\" style=\"fill: #ff0000; stroke: #ff0000\"/>\n     <use xlink:href=\"#m258434bb3c\" x=\"67.487325\" y=\"241.339843\" style=\"fill: #ff0000; stroke: #ff0000\"/>\n     <use xlink:href=\"#m258434bb3c\" x=\"67.864612\" y=\"253.544192\" style=\"fill: #ff0000; stroke: #ff0000\"/>\n     <use xlink:href=\"#m258434bb3c\" x=\"68.241898\" y=\"246.242607\" style=\"fill: #ff0000; stroke: #ff0000\"/>\n     <use xlink:href=\"#m258434bb3c\" x=\"68.619185\" y=\"214.477017\" style=\"fill: #ff0000; stroke: #ff0000\"/>\n     <use xlink:href=\"#m258434bb3c\" x=\"68.996471\" y=\"212.671597\" style=\"fill: #ff0000; stroke: #ff0000\"/>\n     <use xlink:href=\"#m258434bb3c\" x=\"69.373758\" y=\"237.6981\" style=\"fill: #ff0000; stroke: #ff0000\"/>\n     <use xlink:href=\"#m258434bb3c\" x=\"69.751044\" y=\"188.058371\" style=\"fill: #ff0000; stroke: #ff0000\"/>\n     <use xlink:href=\"#m258434bb3c\" x=\"70.12833\" y=\"199.413732\" style=\"fill: #ff0000; stroke: #ff0000\"/>\n     <use xlink:href=\"#m258434bb3c\" x=\"70.505617\" y=\"173.332755\" style=\"fill: #ff0000; stroke: #ff0000\"/>\n     <use xlink:href=\"#m258434bb3c\" x=\"70.882903\" y=\"230.488371\" style=\"fill: #ff0000; stroke: #ff0000\"/>\n     <use xlink:href=\"#m258434bb3c\" x=\"71.26019\" y=\"213.213562\" style=\"fill: #ff0000; stroke: #ff0000\"/>\n     <use xlink:href=\"#m258434bb3c\" x=\"71.637476\" y=\"234.175767\" style=\"fill: #ff0000; stroke: #ff0000\"/>\n     <use xlink:href=\"#m258434bb3c\" x=\"72.014762\" y=\"192.663465\" style=\"fill: #ff0000; stroke: #ff0000\"/>\n     <use xlink:href=\"#m258434bb3c\" x=\"72.392049\" y=\"180.827321\" style=\"fill: #ff0000; stroke: #ff0000\"/>\n     <use xlink:href=\"#m258434bb3c\" x=\"72.769335\" y=\"216.984182\" style=\"fill: #ff0000; stroke: #ff0000\"/>\n     <use xlink:href=\"#m258434bb3c\" x=\"73.146622\" y=\"231.726455\" style=\"fill: #ff0000; stroke: #ff0000\"/>\n     <use xlink:href=\"#m258434bb3c\" x=\"73.523908\" y=\"184.85206\" style=\"fill: #ff0000; stroke: #ff0000\"/>\n     <use xlink:href=\"#m258434bb3c\" x=\"73.899198\" y=\"181.074026\" style=\"fill: #ff0000; stroke: #ff0000\"/>\n     <use xlink:href=\"#m258434bb3c\" x=\"74.276485\" y=\"205.872108\" style=\"fill: #ff0000; stroke: #ff0000\"/>\n     <use xlink:href=\"#m258434bb3c\" x=\"74.653771\" y=\"195.864207\" style=\"fill: #ff0000; stroke: #ff0000\"/>\n     <use xlink:href=\"#m258434bb3c\" x=\"75.031058\" y=\"217.547096\" style=\"fill: #ff0000; stroke: #ff0000\"/>\n     <use xlink:href=\"#m258434bb3c\" x=\"75.408344\" y=\"189.170382\" style=\"fill: #ff0000; stroke: #ff0000\"/>\n     <use xlink:href=\"#m258434bb3c\" x=\"75.78563\" y=\"190.126186\" style=\"fill: #ff0000; stroke: #ff0000\"/>\n     <use xlink:href=\"#m258434bb3c\" x=\"76.162917\" y=\"189.763605\" style=\"fill: #ff0000; stroke: #ff0000\"/>\n     <use xlink:href=\"#m258434bb3c\" x=\"76.540203\" y=\"180.252473\" style=\"fill: #ff0000; stroke: #ff0000\"/>\n     <use xlink:href=\"#m258434bb3c\" x=\"76.91749\" y=\"181.026045\" style=\"fill: #ff0000; stroke: #ff0000\"/>\n     <use xlink:href=\"#m258434bb3c\" x=\"77.294776\" y=\"171.422224\" style=\"fill: #ff0000; stroke: #ff0000\"/>\n     <use xlink:href=\"#m258434bb3c\" x=\"77.672063\" y=\"177.40447\" style=\"fill: #ff0000; stroke: #ff0000\"/>\n     <use xlink:href=\"#m258434bb3c\" x=\"78.049349\" y=\"182.045977\" style=\"fill: #ff0000; stroke: #ff0000\"/>\n     <use xlink:href=\"#m258434bb3c\" x=\"78.426635\" y=\"201.350664\" style=\"fill: #ff0000; stroke: #ff0000\"/>\n     <use xlink:href=\"#m258434bb3c\" x=\"78.803922\" y=\"221.260886\" style=\"fill: #ff0000; stroke: #ff0000\"/>\n     <use xlink:href=\"#m258434bb3c\" x=\"79.181208\" y=\"184.845785\" style=\"fill: #ff0000; stroke: #ff0000\"/>\n     <use xlink:href=\"#m258434bb3c\" x=\"79.558495\" y=\"172.007004\" style=\"fill: #ff0000; stroke: #ff0000\"/>\n     <use xlink:href=\"#m258434bb3c\" x=\"79.935781\" y=\"150.305711\" style=\"fill: #ff0000; stroke: #ff0000\"/>\n     <use xlink:href=\"#m258434bb3c\" x=\"80.313068\" y=\"173.347216\" style=\"fill: #ff0000; stroke: #ff0000\"/>\n     <use xlink:href=\"#m258434bb3c\" x=\"80.690354\" y=\"158.736105\" style=\"fill: #ff0000; stroke: #ff0000\"/>\n     <use xlink:href=\"#m258434bb3c\" x=\"81.06764\" y=\"190.50313\" style=\"fill: #ff0000; stroke: #ff0000\"/>\n     <use xlink:href=\"#m258434bb3c\" x=\"81.444927\" y=\"142.494922\" style=\"fill: #ff0000; stroke: #ff0000\"/>\n     <use xlink:href=\"#m258434bb3c\" x=\"81.822213\" y=\"176.209406\" style=\"fill: #ff0000; stroke: #ff0000\"/>\n     <use xlink:href=\"#m258434bb3c\" x=\"82.1995\" y=\"180.857876\" style=\"fill: #ff0000; stroke: #ff0000\"/>\n     <use xlink:href=\"#m258434bb3c\" x=\"82.57479\" y=\"210.532126\" style=\"fill: #ff0000; stroke: #ff0000\"/>\n     <use xlink:href=\"#m258434bb3c\" x=\"82.952076\" y=\"167.032115\" style=\"fill: #ff0000; stroke: #ff0000\"/>\n     <use xlink:href=\"#m258434bb3c\" x=\"83.329363\" y=\"205.360647\" style=\"fill: #ff0000; stroke: #ff0000\"/>\n     <use xlink:href=\"#m258434bb3c\" x=\"83.706649\" y=\"156.391745\" style=\"fill: #ff0000; stroke: #ff0000\"/>\n     <use xlink:href=\"#m258434bb3c\" x=\"84.083935\" y=\"145.388674\" style=\"fill: #ff0000; stroke: #ff0000\"/>\n     <use xlink:href=\"#m258434bb3c\" x=\"84.461222\" y=\"148.478944\" style=\"fill: #ff0000; stroke: #ff0000\"/>\n     <use xlink:href=\"#m258434bb3c\" x=\"84.838508\" y=\"195.06671\" style=\"fill: #ff0000; stroke: #ff0000\"/>\n     <use xlink:href=\"#m258434bb3c\" x=\"85.215795\" y=\"160.921294\" style=\"fill: #ff0000; stroke: #ff0000\"/>\n     <use xlink:href=\"#m258434bb3c\" x=\"85.593081\" y=\"134.462887\" style=\"fill: #ff0000; stroke: #ff0000\"/>\n     <use xlink:href=\"#m258434bb3c\" x=\"85.970368\" y=\"185.351193\" style=\"fill: #ff0000; stroke: #ff0000\"/>\n     <use xlink:href=\"#m258434bb3c\" x=\"86.347654\" y=\"179.770055\" style=\"fill: #ff0000; stroke: #ff0000\"/>\n     <use xlink:href=\"#m258434bb3c\" x=\"86.72494\" y=\"170.082719\" style=\"fill: #ff0000; stroke: #ff0000\"/>\n     <use xlink:href=\"#m258434bb3c\" x=\"87.102227\" y=\"165.437719\" style=\"fill: #ff0000; stroke: #ff0000\"/>\n     <use xlink:href=\"#m258434bb3c\" x=\"87.479513\" y=\"160.549269\" style=\"fill: #ff0000; stroke: #ff0000\"/>\n     <use xlink:href=\"#m258434bb3c\" x=\"87.8568\" y=\"161.035106\" style=\"fill: #ff0000; stroke: #ff0000\"/>\n     <use xlink:href=\"#m258434bb3c\" x=\"88.234086\" y=\"165.057824\" style=\"fill: #ff0000; stroke: #ff0000\"/>\n     <use xlink:href=\"#m258434bb3c\" x=\"88.611373\" y=\"190.732416\" style=\"fill: #ff0000; stroke: #ff0000\"/>\n     <use xlink:href=\"#m258434bb3c\" x=\"88.988659\" y=\"184.315911\" style=\"fill: #ff0000; stroke: #ff0000\"/>\n     <use xlink:href=\"#m258434bb3c\" x=\"89.365945\" y=\"146.629508\" style=\"fill: #ff0000; stroke: #ff0000\"/>\n     <use xlink:href=\"#m258434bb3c\" x=\"89.743232\" y=\"169.049166\" style=\"fill: #ff0000; stroke: #ff0000\"/>\n     <use xlink:href=\"#m258434bb3c\" x=\"90.120518\" y=\"149.381579\" style=\"fill: #ff0000; stroke: #ff0000\"/>\n     <use xlink:href=\"#m258434bb3c\" x=\"90.497805\" y=\"147.336319\" style=\"fill: #ff0000; stroke: #ff0000\"/>\n     <use xlink:href=\"#m258434bb3c\" x=\"90.873095\" y=\"147.931008\" style=\"fill: #ff0000; stroke: #ff0000\"/>\n     <use xlink:href=\"#m258434bb3c\" x=\"91.250381\" y=\"168.694654\" style=\"fill: #ff0000; stroke: #ff0000\"/>\n     <use xlink:href=\"#m258434bb3c\" x=\"91.627668\" y=\"127.738193\" style=\"fill: #ff0000; stroke: #ff0000\"/>\n     <use xlink:href=\"#m258434bb3c\" x=\"92.004954\" y=\"157.893282\" style=\"fill: #ff0000; stroke: #ff0000\"/>\n     <use xlink:href=\"#m258434bb3c\" x=\"92.382241\" y=\"127.333964\" style=\"fill: #ff0000; stroke: #ff0000\"/>\n     <use xlink:href=\"#m258434bb3c\" x=\"92.759527\" y=\"120.910687\" style=\"fill: #ff0000; stroke: #ff0000\"/>\n     <use xlink:href=\"#m258434bb3c\" x=\"93.136813\" y=\"142.730724\" style=\"fill: #ff0000; stroke: #ff0000\"/>\n     <use xlink:href=\"#m258434bb3c\" x=\"93.5141\" y=\"153.18152\" style=\"fill: #ff0000; stroke: #ff0000\"/>\n     <use xlink:href=\"#m258434bb3c\" x=\"93.891386\" y=\"134.517234\" style=\"fill: #ff0000; stroke: #ff0000\"/>\n     <use xlink:href=\"#m258434bb3c\" x=\"94.268673\" y=\"130.113288\" style=\"fill: #ff0000; stroke: #ff0000\"/>\n     <use xlink:href=\"#m258434bb3c\" x=\"94.645959\" y=\"148.615444\" style=\"fill: #ff0000; stroke: #ff0000\"/>\n     <use xlink:href=\"#m258434bb3c\" x=\"95.023245\" y=\"125.191958\" style=\"fill: #ff0000; stroke: #ff0000\"/>\n     <use xlink:href=\"#m258434bb3c\" x=\"95.400532\" y=\"154.1768\" style=\"fill: #ff0000; stroke: #ff0000\"/>\n     <use xlink:href=\"#m258434bb3c\" x=\"95.777818\" y=\"132.791356\" style=\"fill: #ff0000; stroke: #ff0000\"/>\n     <use xlink:href=\"#m258434bb3c\" x=\"96.155105\" y=\"151.861981\" style=\"fill: #ff0000; stroke: #ff0000\"/>\n     <use xlink:href=\"#m258434bb3c\" x=\"96.532391\" y=\"122.020293\" style=\"fill: #ff0000; stroke: #ff0000\"/>\n     <use xlink:href=\"#m258434bb3c\" x=\"96.909678\" y=\"154.4799\" style=\"fill: #ff0000; stroke: #ff0000\"/>\n     <use xlink:href=\"#m258434bb3c\" x=\"97.286964\" y=\"128.884265\" style=\"fill: #ff0000; stroke: #ff0000\"/>\n     <use xlink:href=\"#m258434bb3c\" x=\"97.66425\" y=\"164.300273\" style=\"fill: #ff0000; stroke: #ff0000\"/>\n     <use xlink:href=\"#m258434bb3c\" x=\"98.041537\" y=\"86.643616\" style=\"fill: #ff0000; stroke: #ff0000\"/>\n     <use xlink:href=\"#m258434bb3c\" x=\"98.418823\" y=\"100.20177\" style=\"fill: #ff0000; stroke: #ff0000\"/>\n     <use xlink:href=\"#m258434bb3c\" x=\"98.79611\" y=\"100.987066\" style=\"fill: #ff0000; stroke: #ff0000\"/>\n     <use xlink:href=\"#m258434bb3c\" x=\"99.1714\" y=\"120.360887\" style=\"fill: #ff0000; stroke: #ff0000\"/>\n     <use xlink:href=\"#m258434bb3c\" x=\"99.548686\" y=\"134.032189\" style=\"fill: #ff0000; stroke: #ff0000\"/>\n     <use xlink:href=\"#m258434bb3c\" x=\"99.925973\" y=\"117.31086\" style=\"fill: #ff0000; stroke: #ff0000\"/>\n     <use xlink:href=\"#m258434bb3c\" x=\"100.303259\" y=\"111.806461\" style=\"fill: #ff0000; stroke: #ff0000\"/>\n     <use xlink:href=\"#m258434bb3c\" x=\"100.680546\" y=\"118.051539\" style=\"fill: #ff0000; stroke: #ff0000\"/>\n     <use xlink:href=\"#m258434bb3c\" x=\"101.057832\" y=\"89.638784\" style=\"fill: #ff0000; stroke: #ff0000\"/>\n     <use xlink:href=\"#m258434bb3c\" x=\"101.435118\" y=\"106.300641\" style=\"fill: #ff0000; stroke: #ff0000\"/>\n     <use xlink:href=\"#m258434bb3c\" x=\"101.812405\" y=\"129.529525\" style=\"fill: #ff0000; stroke: #ff0000\"/>\n     <use xlink:href=\"#m258434bb3c\" x=\"102.189691\" y=\"77.817125\" style=\"fill: #ff0000; stroke: #ff0000\"/>\n     <use xlink:href=\"#m258434bb3c\" x=\"102.566978\" y=\"112.749556\" style=\"fill: #ff0000; stroke: #ff0000\"/>\n     <use xlink:href=\"#m258434bb3c\" x=\"102.944264\" y=\"92.925484\" style=\"fill: #ff0000; stroke: #ff0000\"/>\n     <use xlink:href=\"#m258434bb3c\" x=\"103.321551\" y=\"109.439315\" style=\"fill: #ff0000; stroke: #ff0000\"/>\n     <use xlink:href=\"#m258434bb3c\" x=\"103.698837\" y=\"113.763864\" style=\"fill: #ff0000; stroke: #ff0000\"/>\n     <use xlink:href=\"#m258434bb3c\" x=\"104.076123\" y=\"124.719704\" style=\"fill: #ff0000; stroke: #ff0000\"/>\n     <use xlink:href=\"#m258434bb3c\" x=\"104.45341\" y=\"122.903939\" style=\"fill: #ff0000; stroke: #ff0000\"/>\n     <use xlink:href=\"#m258434bb3c\" x=\"104.830696\" y=\"106.693169\" style=\"fill: #ff0000; stroke: #ff0000\"/>\n     <use xlink:href=\"#m258434bb3c\" x=\"105.207983\" y=\"96.318804\" style=\"fill: #ff0000; stroke: #ff0000\"/>\n     <use xlink:href=\"#m258434bb3c\" x=\"105.585269\" y=\"80.214189\" style=\"fill: #ff0000; stroke: #ff0000\"/>\n     <use xlink:href=\"#m258434bb3c\" x=\"105.962555\" y=\"103.684054\" style=\"fill: #ff0000; stroke: #ff0000\"/>\n     <use xlink:href=\"#m258434bb3c\" x=\"106.339842\" y=\"121.093303\" style=\"fill: #ff0000; stroke: #ff0000\"/>\n     <use xlink:href=\"#m258434bb3c\" x=\"106.717128\" y=\"116.583312\" style=\"fill: #ff0000; stroke: #ff0000\"/>\n     <use xlink:href=\"#m258434bb3c\" x=\"107.094415\" y=\"130.825708\" style=\"fill: #ff0000; stroke: #ff0000\"/>\n     <use xlink:href=\"#m258434bb3c\" x=\"107.471701\" y=\"152.83833\" style=\"fill: #ff0000; stroke: #ff0000\"/>\n     <use xlink:href=\"#m258434bb3c\" x=\"107.846991\" y=\"93.648248\" style=\"fill: #ff0000; stroke: #ff0000\"/>\n     <use xlink:href=\"#m258434bb3c\" x=\"108.224278\" y=\"104.044881\" style=\"fill: #ff0000; stroke: #ff0000\"/>\n     <use xlink:href=\"#m258434bb3c\" x=\"108.601564\" y=\"83.121098\" style=\"fill: #ff0000; stroke: #ff0000\"/>\n     <use xlink:href=\"#m258434bb3c\" x=\"108.978851\" y=\"99.352286\" style=\"fill: #ff0000; stroke: #ff0000\"/>\n     <use xlink:href=\"#m258434bb3c\" x=\"109.356137\" y=\"116.315052\" style=\"fill: #ff0000; stroke: #ff0000\"/>\n     <use xlink:href=\"#m258434bb3c\" x=\"109.733423\" y=\"126.467695\" style=\"fill: #ff0000; stroke: #ff0000\"/>\n     <use xlink:href=\"#m258434bb3c\" x=\"110.11071\" y=\"126.431969\" style=\"fill: #ff0000; stroke: #ff0000\"/>\n     <use xlink:href=\"#m258434bb3c\" x=\"110.487996\" y=\"94.645445\" style=\"fill: #ff0000; stroke: #ff0000\"/>\n     <use xlink:href=\"#m258434bb3c\" x=\"110.865283\" y=\"119.222058\" style=\"fill: #ff0000; stroke: #ff0000\"/>\n     <use xlink:href=\"#m258434bb3c\" x=\"111.242569\" y=\"101.01898\" style=\"fill: #ff0000; stroke: #ff0000\"/>\n     <use xlink:href=\"#m258434bb3c\" x=\"111.619856\" y=\"112.23691\" style=\"fill: #ff0000; stroke: #ff0000\"/>\n     <use xlink:href=\"#m258434bb3c\" x=\"111.997142\" y=\"119.30097\" style=\"fill: #ff0000; stroke: #ff0000\"/>\n     <use xlink:href=\"#m258434bb3c\" x=\"112.374428\" y=\"96.862008\" style=\"fill: #ff0000; stroke: #ff0000\"/>\n     <use xlink:href=\"#m258434bb3c\" x=\"112.751715\" y=\"95.326847\" style=\"fill: #ff0000; stroke: #ff0000\"/>\n     <use xlink:href=\"#m258434bb3c\" x=\"113.129001\" y=\"118.695021\" style=\"fill: #ff0000; stroke: #ff0000\"/>\n     <use xlink:href=\"#m258434bb3c\" x=\"113.506288\" y=\"120.794299\" style=\"fill: #ff0000; stroke: #ff0000\"/>\n     <use xlink:href=\"#m258434bb3c\" x=\"113.883574\" y=\"111.126337\" style=\"fill: #ff0000; stroke: #ff0000\"/>\n     <use xlink:href=\"#m258434bb3c\" x=\"114.26086\" y=\"63.631407\" style=\"fill: #ff0000; stroke: #ff0000\"/>\n     <use xlink:href=\"#m258434bb3c\" x=\"114.638147\" y=\"115.829467\" style=\"fill: #ff0000; stroke: #ff0000\"/>\n     <use xlink:href=\"#m258434bb3c\" x=\"115.015433\" y=\"101.811831\" style=\"fill: #ff0000; stroke: #ff0000\"/>\n     <use xlink:href=\"#m258434bb3c\" x=\"115.39272\" y=\"114.169325\" style=\"fill: #ff0000; stroke: #ff0000\"/>\n     <use xlink:href=\"#m258434bb3c\" x=\"115.770006\" y=\"122.813577\" style=\"fill: #ff0000; stroke: #ff0000\"/>\n     <use xlink:href=\"#m258434bb3c\" x=\"116.145296\" y=\"86.983695\" style=\"fill: #ff0000; stroke: #ff0000\"/>\n     <use xlink:href=\"#m258434bb3c\" x=\"116.522583\" y=\"116.174344\" style=\"fill: #ff0000; stroke: #ff0000\"/>\n     <use xlink:href=\"#m258434bb3c\" x=\"116.899869\" y=\"78.644416\" style=\"fill: #ff0000; stroke: #ff0000\"/>\n     <use xlink:href=\"#m258434bb3c\" x=\"117.277156\" y=\"109.20845\" style=\"fill: #ff0000; stroke: #ff0000\"/>\n     <use xlink:href=\"#m258434bb3c\" x=\"117.654442\" y=\"105.7982\" style=\"fill: #ff0000; stroke: #ff0000\"/>\n     <use xlink:href=\"#m258434bb3c\" x=\"118.031728\" y=\"100.732754\" style=\"fill: #ff0000; stroke: #ff0000\"/>\n     <use xlink:href=\"#m258434bb3c\" x=\"118.409015\" y=\"71.78836\" style=\"fill: #ff0000; stroke: #ff0000\"/>\n     <use xlink:href=\"#m258434bb3c\" x=\"118.786301\" y=\"67.87187\" style=\"fill: #ff0000; stroke: #ff0000\"/>\n     <use xlink:href=\"#m258434bb3c\" x=\"119.163588\" y=\"83.094817\" style=\"fill: #ff0000; stroke: #ff0000\"/>\n     <use xlink:href=\"#m258434bb3c\" x=\"119.540874\" y=\"81.100558\" style=\"fill: #ff0000; stroke: #ff0000\"/>\n     <use xlink:href=\"#m258434bb3c\" x=\"119.918161\" y=\"85.965275\" style=\"fill: #ff0000; stroke: #ff0000\"/>\n     <use xlink:href=\"#m258434bb3c\" x=\"120.295447\" y=\"114.883547\" style=\"fill: #ff0000; stroke: #ff0000\"/>\n     <use xlink:href=\"#m258434bb3c\" x=\"120.672733\" y=\"87.612041\" style=\"fill: #ff0000; stroke: #ff0000\"/>\n     <use xlink:href=\"#m258434bb3c\" x=\"121.05002\" y=\"79.187744\" style=\"fill: #ff0000; stroke: #ff0000\"/>\n     <use xlink:href=\"#m258434bb3c\" x=\"121.427306\" y=\"53.101287\" style=\"fill: #ff0000; stroke: #ff0000\"/>\n     <use xlink:href=\"#m258434bb3c\" x=\"121.804593\" y=\"95.791466\" style=\"fill: #ff0000; stroke: #ff0000\"/>\n     <use xlink:href=\"#m258434bb3c\" x=\"122.181879\" y=\"83.75506\" style=\"fill: #ff0000; stroke: #ff0000\"/>\n     <use xlink:href=\"#m258434bb3c\" x=\"122.559166\" y=\"110.75035\" style=\"fill: #ff0000; stroke: #ff0000\"/>\n     <use xlink:href=\"#m258434bb3c\" x=\"122.936452\" y=\"74.63761\" style=\"fill: #ff0000; stroke: #ff0000\"/>\n     <use xlink:href=\"#m258434bb3c\" x=\"123.313738\" y=\"91.427596\" style=\"fill: #ff0000; stroke: #ff0000\"/>\n     <use xlink:href=\"#m258434bb3c\" x=\"123.691025\" y=\"96.409077\" style=\"fill: #ff0000; stroke: #ff0000\"/>\n     <use xlink:href=\"#m258434bb3c\" x=\"124.068311\" y=\"62.626459\" style=\"fill: #ff0000; stroke: #ff0000\"/>\n     <use xlink:href=\"#m258434bb3c\" x=\"124.443601\" y=\"82.095479\" style=\"fill: #ff0000; stroke: #ff0000\"/>\n     <use xlink:href=\"#m258434bb3c\" x=\"124.820888\" y=\"77.451353\" style=\"fill: #ff0000; stroke: #ff0000\"/>\n     <use xlink:href=\"#m258434bb3c\" x=\"125.198174\" y=\"75.360431\" style=\"fill: #ff0000; stroke: #ff0000\"/>\n     <use xlink:href=\"#m258434bb3c\" x=\"125.575461\" y=\"58.447911\" style=\"fill: #ff0000; stroke: #ff0000\"/>\n     <use xlink:href=\"#m258434bb3c\" x=\"125.952747\" y=\"86.542163\" style=\"fill: #ff0000; stroke: #ff0000\"/>\n     <use xlink:href=\"#m258434bb3c\" x=\"126.330034\" y=\"66.803208\" style=\"fill: #ff0000; stroke: #ff0000\"/>\n     <use xlink:href=\"#m258434bb3c\" x=\"126.70732\" y=\"57.791898\" style=\"fill: #ff0000; stroke: #ff0000\"/>\n     <use xlink:href=\"#m258434bb3c\" x=\"127.084606\" y=\"70.242122\" style=\"fill: #ff0000; stroke: #ff0000\"/>\n     <use xlink:href=\"#m258434bb3c\" x=\"127.461893\" y=\"69.205135\" style=\"fill: #ff0000; stroke: #ff0000\"/>\n     <use xlink:href=\"#m258434bb3c\" x=\"127.839179\" y=\"57.888992\" style=\"fill: #ff0000; stroke: #ff0000\"/>\n     <use xlink:href=\"#m258434bb3c\" x=\"128.216466\" y=\"31.100482\" style=\"fill: #ff0000; stroke: #ff0000\"/>\n     <use xlink:href=\"#m258434bb3c\" x=\"128.593752\" y=\"60.621472\" style=\"fill: #ff0000; stroke: #ff0000\"/>\n     <use xlink:href=\"#m258434bb3c\" x=\"128.971038\" y=\"47.37903\" style=\"fill: #ff0000; stroke: #ff0000\"/>\n     <use xlink:href=\"#m258434bb3c\" x=\"129.348325\" y=\"74.906387\" style=\"fill: #ff0000; stroke: #ff0000\"/>\n     <use xlink:href=\"#m258434bb3c\" x=\"129.725611\" y=\"68.133119\" style=\"fill: #ff0000; stroke: #ff0000\"/>\n     <use xlink:href=\"#m258434bb3c\" x=\"130.102898\" y=\"110.016544\" style=\"fill: #ff0000; stroke: #ff0000\"/>\n     <use xlink:href=\"#m258434bb3c\" x=\"130.480184\" y=\"114.917497\" style=\"fill: #ff0000; stroke: #ff0000\"/>\n     <use xlink:href=\"#m258434bb3c\" x=\"130.857471\" y=\"91.152526\" style=\"fill: #ff0000; stroke: #ff0000\"/>\n     <use xlink:href=\"#m258434bb3c\" x=\"131.234757\" y=\"81.194695\" style=\"fill: #ff0000; stroke: #ff0000\"/>\n     <use xlink:href=\"#m258434bb3c\" x=\"131.612043\" y=\"47.472577\" style=\"fill: #ff0000; stroke: #ff0000\"/>\n     <use xlink:href=\"#m258434bb3c\" x=\"131.98933\" y=\"30.828415\" style=\"fill: #ff0000; stroke: #ff0000\"/>\n     <use xlink:href=\"#m258434bb3c\" x=\"132.366616\" y=\"49.371197\" style=\"fill: #ff0000; stroke: #ff0000\"/>\n     <use xlink:href=\"#m258434bb3c\" x=\"132.743903\" y=\"73.732581\" style=\"fill: #ff0000; stroke: #ff0000\"/>\n     <use xlink:href=\"#m258434bb3c\" x=\"133.119193\" y=\"61.511071\" style=\"fill: #ff0000; stroke: #ff0000\"/>\n     <use xlink:href=\"#m258434bb3c\" x=\"133.496479\" y=\"54.924153\" style=\"fill: #ff0000; stroke: #ff0000\"/>\n     <use xlink:href=\"#m258434bb3c\" x=\"133.873766\" y=\"70.503587\" style=\"fill: #ff0000; stroke: #ff0000\"/>\n     <use xlink:href=\"#m258434bb3c\" x=\"134.251052\" y=\"71.685187\" style=\"fill: #ff0000; stroke: #ff0000\"/>\n     <use xlink:href=\"#m258434bb3c\" x=\"134.628339\" y=\"90.447352\" style=\"fill: #ff0000; stroke: #ff0000\"/>\n     <use xlink:href=\"#m258434bb3c\" x=\"135.005625\" y=\"70.350143\" style=\"fill: #ff0000; stroke: #ff0000\"/>\n     <use xlink:href=\"#m258434bb3c\" x=\"135.382911\" y=\"55.90696\" style=\"fill: #ff0000; stroke: #ff0000\"/>\n     <use xlink:href=\"#m258434bb3c\" x=\"135.760198\" y=\"79.063841\" style=\"fill: #ff0000; stroke: #ff0000\"/>\n     <use xlink:href=\"#m258434bb3c\" x=\"136.137484\" y=\"79.919215\" style=\"fill: #ff0000; stroke: #ff0000\"/>\n     <use xlink:href=\"#m258434bb3c\" x=\"136.514771\" y=\"107.264833\" style=\"fill: #ff0000; stroke: #ff0000\"/>\n     <use xlink:href=\"#m258434bb3c\" x=\"136.892057\" y=\"87.292838\" style=\"fill: #ff0000; stroke: #ff0000\"/>\n     <use xlink:href=\"#m258434bb3c\" x=\"137.269344\" y=\"59.826068\" style=\"fill: #ff0000; stroke: #ff0000\"/>\n     <use xlink:href=\"#m258434bb3c\" x=\"137.64663\" y=\"69.860674\" style=\"fill: #ff0000; stroke: #ff0000\"/>\n     <use xlink:href=\"#m258434bb3c\" x=\"138.023916\" y=\"58.082915\" style=\"fill: #ff0000; stroke: #ff0000\"/>\n     <use xlink:href=\"#m258434bb3c\" x=\"138.401203\" y=\"45.458106\" style=\"fill: #ff0000; stroke: #ff0000\"/>\n     <use xlink:href=\"#m258434bb3c\" x=\"138.778489\" y=\"71.350768\" style=\"fill: #ff0000; stroke: #ff0000\"/>\n     <use xlink:href=\"#m258434bb3c\" x=\"139.155776\" y=\"53.837672\" style=\"fill: #ff0000; stroke: #ff0000\"/>\n     <use xlink:href=\"#m258434bb3c\" x=\"139.533062\" y=\"80.07226\" style=\"fill: #ff0000; stroke: #ff0000\"/>\n     <use xlink:href=\"#m258434bb3c\" x=\"139.910348\" y=\"45.818534\" style=\"fill: #ff0000; stroke: #ff0000\"/>\n     <use xlink:href=\"#m258434bb3c\" x=\"140.287635\" y=\"73.891364\" style=\"fill: #ff0000; stroke: #ff0000\"/>\n     <use xlink:href=\"#m258434bb3c\" x=\"140.664921\" y=\"72.224889\" style=\"fill: #ff0000; stroke: #ff0000\"/>\n     <use xlink:href=\"#m258434bb3c\" x=\"141.042208\" y=\"90.671534\" style=\"fill: #ff0000; stroke: #ff0000\"/>\n     <use xlink:href=\"#m258434bb3c\" x=\"141.417498\" y=\"107.628054\" style=\"fill: #ff0000; stroke: #ff0000\"/>\n     <use xlink:href=\"#m258434bb3c\" x=\"141.794784\" y=\"72.872868\" style=\"fill: #ff0000; stroke: #ff0000\"/>\n     <use xlink:href=\"#m258434bb3c\" x=\"142.172071\" y=\"27.501994\" style=\"fill: #ff0000; stroke: #ff0000\"/>\n     <use xlink:href=\"#m258434bb3c\" x=\"142.549357\" y=\"61.026435\" style=\"fill: #ff0000; stroke: #ff0000\"/>\n     <use xlink:href=\"#m258434bb3c\" x=\"142.926644\" y=\"52.468566\" style=\"fill: #ff0000; stroke: #ff0000\"/>\n     <use xlink:href=\"#m258434bb3c\" x=\"143.30393\" y=\"52.438369\" style=\"fill: #ff0000; stroke: #ff0000\"/>\n     <use xlink:href=\"#m258434bb3c\" x=\"143.681216\" y=\"75.378346\" style=\"fill: #ff0000; stroke: #ff0000\"/>\n     <use xlink:href=\"#m258434bb3c\" x=\"144.058503\" y=\"96.45021\" style=\"fill: #ff0000; stroke: #ff0000\"/>\n     <use xlink:href=\"#m258434bb3c\" x=\"144.435789\" y=\"65.665819\" style=\"fill: #ff0000; stroke: #ff0000\"/>\n     <use xlink:href=\"#m258434bb3c\" x=\"144.813076\" y=\"58.063158\" style=\"fill: #ff0000; stroke: #ff0000\"/>\n     <use xlink:href=\"#m258434bb3c\" x=\"145.190362\" y=\"39.595107\" style=\"fill: #ff0000; stroke: #ff0000\"/>\n     <use xlink:href=\"#m258434bb3c\" x=\"145.567649\" y=\"31.909608\" style=\"fill: #ff0000; stroke: #ff0000\"/>\n     <use xlink:href=\"#m258434bb3c\" x=\"145.944935\" y=\"64.553318\" style=\"fill: #ff0000; stroke: #ff0000\"/>\n     <use xlink:href=\"#m258434bb3c\" x=\"146.322221\" y=\"40.648037\" style=\"fill: #ff0000; stroke: #ff0000\"/>\n     <use xlink:href=\"#m258434bb3c\" x=\"146.699508\" y=\"51.983714\" style=\"fill: #ff0000; stroke: #ff0000\"/>\n     <use xlink:href=\"#m258434bb3c\" x=\"147.076794\" y=\"87.67024\" style=\"fill: #ff0000; stroke: #ff0000\"/>\n     <use xlink:href=\"#m258434bb3c\" x=\"147.454081\" y=\"68.686446\" style=\"fill: #ff0000; stroke: #ff0000\"/>\n     <use xlink:href=\"#m258434bb3c\" x=\"147.831367\" y=\"85.129716\" style=\"fill: #ff0000; stroke: #ff0000\"/>\n     <use xlink:href=\"#m258434bb3c\" x=\"148.208653\" y=\"62.285883\" style=\"fill: #ff0000; stroke: #ff0000\"/>\n     <use xlink:href=\"#m258434bb3c\" x=\"148.58594\" y=\"79.116533\" style=\"fill: #ff0000; stroke: #ff0000\"/>\n     <use xlink:href=\"#m258434bb3c\" x=\"148.963226\" y=\"80.733028\" style=\"fill: #ff0000; stroke: #ff0000\"/>\n     <use xlink:href=\"#m258434bb3c\" x=\"149.340513\" y=\"45.759675\" style=\"fill: #ff0000; stroke: #ff0000\"/>\n     <use xlink:href=\"#m258434bb3c\" x=\"149.715803\" y=\"66.380465\" style=\"fill: #ff0000; stroke: #ff0000\"/>\n     <use xlink:href=\"#m258434bb3c\" x=\"150.093089\" y=\"39.505565\" style=\"fill: #ff0000; stroke: #ff0000\"/>\n     <use xlink:href=\"#m258434bb3c\" x=\"150.470376\" y=\"54.883975\" style=\"fill: #ff0000; stroke: #ff0000\"/>\n     <use xlink:href=\"#m258434bb3c\" x=\"150.847662\" y=\"103.563724\" style=\"fill: #ff0000; stroke: #ff0000\"/>\n     <use xlink:href=\"#m258434bb3c\" x=\"151.224949\" y=\"32.469737\" style=\"fill: #ff0000; stroke: #ff0000\"/>\n     <use xlink:href=\"#m258434bb3c\" x=\"151.602235\" y=\"77.121197\" style=\"fill: #ff0000; stroke: #ff0000\"/>\n     <use xlink:href=\"#m258434bb3c\" x=\"151.979521\" y=\"86.882123\" style=\"fill: #ff0000; stroke: #ff0000\"/>\n     <use xlink:href=\"#m258434bb3c\" x=\"152.356808\" y=\"56.477351\" style=\"fill: #ff0000; stroke: #ff0000\"/>\n     <use xlink:href=\"#m258434bb3c\" x=\"152.734094\" y=\"53.518485\" style=\"fill: #ff0000; stroke: #ff0000\"/>\n     <use xlink:href=\"#m258434bb3c\" x=\"153.111381\" y=\"73.482894\" style=\"fill: #ff0000; stroke: #ff0000\"/>\n     <use xlink:href=\"#m258434bb3c\" x=\"153.488667\" y=\"57.134195\" style=\"fill: #ff0000; stroke: #ff0000\"/>\n     <use xlink:href=\"#m258434bb3c\" x=\"153.865954\" y=\"78.386294\" style=\"fill: #ff0000; stroke: #ff0000\"/>\n     <use xlink:href=\"#m258434bb3c\" x=\"154.24324\" y=\"83.088559\" style=\"fill: #ff0000; stroke: #ff0000\"/>\n     <use xlink:href=\"#m258434bb3c\" x=\"154.620526\" y=\"50.332268\" style=\"fill: #ff0000; stroke: #ff0000\"/>\n     <use xlink:href=\"#m258434bb3c\" x=\"154.997813\" y=\"64.293376\" style=\"fill: #ff0000; stroke: #ff0000\"/>\n     <use xlink:href=\"#m258434bb3c\" x=\"155.375099\" y=\"31.960108\" style=\"fill: #ff0000; stroke: #ff0000\"/>\n     <use xlink:href=\"#m258434bb3c\" x=\"155.752386\" y=\"32.79398\" style=\"fill: #ff0000; stroke: #ff0000\"/>\n     <use xlink:href=\"#m258434bb3c\" x=\"156.129672\" y=\"56.594781\" style=\"fill: #ff0000; stroke: #ff0000\"/>\n     <use xlink:href=\"#m258434bb3c\" x=\"156.506959\" y=\"68.022754\" style=\"fill: #ff0000; stroke: #ff0000\"/>\n     <use xlink:href=\"#m258434bb3c\" x=\"156.884245\" y=\"38.067977\" style=\"fill: #ff0000; stroke: #ff0000\"/>\n     <use xlink:href=\"#m258434bb3c\" x=\"157.261531\" y=\"38.557836\" style=\"fill: #ff0000; stroke: #ff0000\"/>\n     <use xlink:href=\"#m258434bb3c\" x=\"157.638818\" y=\"80.282178\" style=\"fill: #ff0000; stroke: #ff0000\"/>\n     <use xlink:href=\"#m258434bb3c\" x=\"158.016104\" y=\"55.844468\" style=\"fill: #ff0000; stroke: #ff0000\"/>\n     <use xlink:href=\"#m258434bb3c\" x=\"158.391394\" y=\"21.122855\" style=\"fill: #ff0000; stroke: #ff0000\"/>\n     <use xlink:href=\"#m258434bb3c\" x=\"158.768681\" y=\"73.990675\" style=\"fill: #ff0000; stroke: #ff0000\"/>\n     <use xlink:href=\"#m258434bb3c\" x=\"159.145967\" y=\"56.897156\" style=\"fill: #ff0000; stroke: #ff0000\"/>\n     <use xlink:href=\"#m258434bb3c\" x=\"159.523254\" y=\"67.490445\" style=\"fill: #ff0000; stroke: #ff0000\"/>\n     <use xlink:href=\"#m258434bb3c\" x=\"159.90054\" y=\"82.760393\" style=\"fill: #ff0000; stroke: #ff0000\"/>\n     <use xlink:href=\"#m258434bb3c\" x=\"160.277827\" y=\"84.148569\" style=\"fill: #ff0000; stroke: #ff0000\"/>\n     <use xlink:href=\"#m258434bb3c\" x=\"160.655113\" y=\"61.374212\" style=\"fill: #ff0000; stroke: #ff0000\"/>\n     <use xlink:href=\"#m258434bb3c\" x=\"161.032399\" y=\"40.454623\" style=\"fill: #ff0000; stroke: #ff0000\"/>\n     <use xlink:href=\"#m258434bb3c\" x=\"161.409686\" y=\"36.5298\" style=\"fill: #ff0000; stroke: #ff0000\"/>\n     <use xlink:href=\"#m258434bb3c\" x=\"161.786972\" y=\"26.372241\" style=\"fill: #ff0000; stroke: #ff0000\"/>\n     <use xlink:href=\"#m258434bb3c\" x=\"162.164259\" y=\"44.119615\" style=\"fill: #ff0000; stroke: #ff0000\"/>\n     <use xlink:href=\"#m258434bb3c\" x=\"162.541545\" y=\"74.219428\" style=\"fill: #ff0000; stroke: #ff0000\"/>\n     <use xlink:href=\"#m258434bb3c\" x=\"162.918831\" y=\"57.29374\" style=\"fill: #ff0000; stroke: #ff0000\"/>\n     <use xlink:href=\"#m258434bb3c\" x=\"163.296118\" y=\"112.092467\" style=\"fill: #ff0000; stroke: #ff0000\"/>\n     <use xlink:href=\"#m258434bb3c\" x=\"163.673404\" y=\"58.023093\" style=\"fill: #ff0000; stroke: #ff0000\"/>\n     <use xlink:href=\"#m258434bb3c\" x=\"164.050691\" y=\"72.197374\" style=\"fill: #ff0000; stroke: #ff0000\"/>\n     <use xlink:href=\"#m258434bb3c\" x=\"164.427977\" y=\"46.961474\" style=\"fill: #ff0000; stroke: #ff0000\"/>\n     <use xlink:href=\"#m258434bb3c\" x=\"164.805264\" y=\"45.470555\" style=\"fill: #ff0000; stroke: #ff0000\"/>\n     <use xlink:href=\"#m258434bb3c\" x=\"165.18255\" y=\"64.070345\" style=\"fill: #ff0000; stroke: #ff0000\"/>\n     <use xlink:href=\"#m258434bb3c\" x=\"165.559836\" y=\"56.381309\" style=\"fill: #ff0000; stroke: #ff0000\"/>\n     <use xlink:href=\"#m258434bb3c\" x=\"165.937123\" y=\"90.779394\" style=\"fill: #ff0000; stroke: #ff0000\"/>\n     <use xlink:href=\"#m258434bb3c\" x=\"166.314409\" y=\"83.999821\" style=\"fill: #ff0000; stroke: #ff0000\"/>\n     <use xlink:href=\"#m258434bb3c\" x=\"166.689699\" y=\"42.163958\" style=\"fill: #ff0000; stroke: #ff0000\"/>\n     <use xlink:href=\"#m258434bb3c\" x=\"167.066986\" y=\"74.782063\" style=\"fill: #ff0000; stroke: #ff0000\"/>\n     <use xlink:href=\"#m258434bb3c\" x=\"167.444272\" y=\"48.663735\" style=\"fill: #ff0000; stroke: #ff0000\"/>\n     <use xlink:href=\"#m258434bb3c\" x=\"167.821559\" y=\"52.375626\" style=\"fill: #ff0000; stroke: #ff0000\"/>\n     <use xlink:href=\"#m258434bb3c\" x=\"168.198845\" y=\"79.214197\" style=\"fill: #ff0000; stroke: #ff0000\"/>\n     <use xlink:href=\"#m258434bb3c\" x=\"168.576132\" y=\"67.648634\" style=\"fill: #ff0000; stroke: #ff0000\"/>\n     <use xlink:href=\"#m258434bb3c\" x=\"168.953418\" y=\"38.960359\" style=\"fill: #ff0000; stroke: #ff0000\"/>\n     <use xlink:href=\"#m258434bb3c\" x=\"169.330704\" y=\"51.579752\" style=\"fill: #ff0000; stroke: #ff0000\"/>\n     <use xlink:href=\"#m258434bb3c\" x=\"169.707991\" y=\"55.585189\" style=\"fill: #ff0000; stroke: #ff0000\"/>\n     <use xlink:href=\"#m258434bb3c\" x=\"170.085277\" y=\"57.550161\" style=\"fill: #ff0000; stroke: #ff0000\"/>\n     <use xlink:href=\"#m258434bb3c\" x=\"170.462564\" y=\"55.168918\" style=\"fill: #ff0000; stroke: #ff0000\"/>\n     <use xlink:href=\"#m258434bb3c\" x=\"170.83985\" y=\"84.582871\" style=\"fill: #ff0000; stroke: #ff0000\"/>\n     <use xlink:href=\"#m258434bb3c\" x=\"171.217136\" y=\"79.013964\" style=\"fill: #ff0000; stroke: #ff0000\"/>\n     <use xlink:href=\"#m258434bb3c\" x=\"171.594423\" y=\"68.379588\" style=\"fill: #ff0000; stroke: #ff0000\"/>\n     <use xlink:href=\"#m258434bb3c\" x=\"171.971709\" y=\"64.479307\" style=\"fill: #ff0000; stroke: #ff0000\"/>\n     <use xlink:href=\"#m258434bb3c\" x=\"172.348996\" y=\"54.890494\" style=\"fill: #ff0000; stroke: #ff0000\"/>\n     <use xlink:href=\"#m258434bb3c\" x=\"172.726282\" y=\"65.512948\" style=\"fill: #ff0000; stroke: #ff0000\"/>\n     <use xlink:href=\"#m258434bb3c\" x=\"173.103569\" y=\"61.987385\" style=\"fill: #ff0000; stroke: #ff0000\"/>\n     <use xlink:href=\"#m258434bb3c\" x=\"173.480855\" y=\"77.102308\" style=\"fill: #ff0000; stroke: #ff0000\"/>\n     <use xlink:href=\"#m258434bb3c\" x=\"173.858141\" y=\"59.006015\" style=\"fill: #ff0000; stroke: #ff0000\"/>\n     <use xlink:href=\"#m258434bb3c\" x=\"174.235428\" y=\"70.295214\" style=\"fill: #ff0000; stroke: #ff0000\"/>\n     <use xlink:href=\"#m258434bb3c\" x=\"174.612714\" y=\"80.259441\" style=\"fill: #ff0000; stroke: #ff0000\"/>\n     <use xlink:href=\"#m258434bb3c\" x=\"174.988004\" y=\"59.055784\" style=\"fill: #ff0000; stroke: #ff0000\"/>\n     <use xlink:href=\"#m258434bb3c\" x=\"175.365291\" y=\"62.100633\" style=\"fill: #ff0000; stroke: #ff0000\"/>\n     <use xlink:href=\"#m258434bb3c\" x=\"175.742577\" y=\"54.917258\" style=\"fill: #ff0000; stroke: #ff0000\"/>\n     <use xlink:href=\"#m258434bb3c\" x=\"176.119864\" y=\"63.309342\" style=\"fill: #ff0000; stroke: #ff0000\"/>\n     <use xlink:href=\"#m258434bb3c\" x=\"176.49715\" y=\"65.102197\" style=\"fill: #ff0000; stroke: #ff0000\"/>\n     <use xlink:href=\"#m258434bb3c\" x=\"176.874437\" y=\"92.32122\" style=\"fill: #ff0000; stroke: #ff0000\"/>\n     <use xlink:href=\"#m258434bb3c\" x=\"177.251723\" y=\"34.925134\" style=\"fill: #ff0000; stroke: #ff0000\"/>\n     <use xlink:href=\"#m258434bb3c\" x=\"177.629009\" y=\"68.354439\" style=\"fill: #ff0000; stroke: #ff0000\"/>\n     <use xlink:href=\"#m258434bb3c\" x=\"178.006296\" y=\"50.904922\" style=\"fill: #ff0000; stroke: #ff0000\"/>\n     <use xlink:href=\"#m258434bb3c\" x=\"178.383582\" y=\"85.96853\" style=\"fill: #ff0000; stroke: #ff0000\"/>\n     <use xlink:href=\"#m258434bb3c\" x=\"178.760869\" y=\"104.056306\" style=\"fill: #ff0000; stroke: #ff0000\"/>\n     <use xlink:href=\"#m258434bb3c\" x=\"179.138155\" y=\"92.95319\" style=\"fill: #ff0000; stroke: #ff0000\"/>\n     <use xlink:href=\"#m258434bb3c\" x=\"179.515442\" y=\"81.194472\" style=\"fill: #ff0000; stroke: #ff0000\"/>\n     <use xlink:href=\"#m258434bb3c\" x=\"179.892728\" y=\"64.672724\" style=\"fill: #ff0000; stroke: #ff0000\"/>\n     <use xlink:href=\"#m258434bb3c\" x=\"180.270014\" y=\"60.293132\" style=\"fill: #ff0000; stroke: #ff0000\"/>\n     <use xlink:href=\"#m258434bb3c\" x=\"180.647301\" y=\"59.934191\" style=\"fill: #ff0000; stroke: #ff0000\"/>\n     <use xlink:href=\"#m258434bb3c\" x=\"181.024587\" y=\"57.340772\" style=\"fill: #ff0000; stroke: #ff0000\"/>\n     <use xlink:href=\"#m258434bb3c\" x=\"181.401874\" y=\"80.704574\" style=\"fill: #ff0000; stroke: #ff0000\"/>\n     <use xlink:href=\"#m258434bb3c\" x=\"181.77916\" y=\"80.41805\" style=\"fill: #ff0000; stroke: #ff0000\"/>\n     <use xlink:href=\"#m258434bb3c\" x=\"182.156446\" y=\"65.826375\" style=\"fill: #ff0000; stroke: #ff0000\"/>\n     <use xlink:href=\"#m258434bb3c\" x=\"182.533733\" y=\"48.819037\" style=\"fill: #ff0000; stroke: #ff0000\"/>\n     <use xlink:href=\"#m258434bb3c\" x=\"182.911019\" y=\"79.893001\" style=\"fill: #ff0000; stroke: #ff0000\"/>\n     <use xlink:href=\"#m258434bb3c\" x=\"183.288306\" y=\"69.076019\" style=\"fill: #ff0000; stroke: #ff0000\"/>\n     <use xlink:href=\"#m258434bb3c\" x=\"183.663596\" y=\"47.377403\" style=\"fill: #ff0000; stroke: #ff0000\"/>\n     <use xlink:href=\"#m258434bb3c\" x=\"184.040882\" y=\"79.98736\" style=\"fill: #ff0000; stroke: #ff0000\"/>\n     <use xlink:href=\"#m258434bb3c\" x=\"184.418169\" y=\"97.325634\" style=\"fill: #ff0000; stroke: #ff0000\"/>\n     <use xlink:href=\"#m258434bb3c\" x=\"184.795455\" y=\"67.061681\" style=\"fill: #ff0000; stroke: #ff0000\"/>\n     <use xlink:href=\"#m258434bb3c\" x=\"185.172742\" y=\"68.565582\" style=\"fill: #ff0000; stroke: #ff0000\"/>\n     <use xlink:href=\"#m258434bb3c\" x=\"185.550028\" y=\"45.276788\" style=\"fill: #ff0000; stroke: #ff0000\"/>\n     <use xlink:href=\"#m258434bb3c\" x=\"185.927314\" y=\"55.785097\" style=\"fill: #ff0000; stroke: #ff0000\"/>\n     <use xlink:href=\"#m258434bb3c\" x=\"186.304601\" y=\"68.878852\" style=\"fill: #ff0000; stroke: #ff0000\"/>\n     <use xlink:href=\"#m258434bb3c\" x=\"186.681887\" y=\"80.382426\" style=\"fill: #ff0000; stroke: #ff0000\"/>\n     <use xlink:href=\"#m258434bb3c\" x=\"187.059174\" y=\"71.231951\" style=\"fill: #ff0000; stroke: #ff0000\"/>\n     <use xlink:href=\"#m258434bb3c\" x=\"187.43646\" y=\"40.627316\" style=\"fill: #ff0000; stroke: #ff0000\"/>\n     <use xlink:href=\"#m258434bb3c\" x=\"187.813747\" y=\"90.571677\" style=\"fill: #ff0000; stroke: #ff0000\"/>\n     <use xlink:href=\"#m258434bb3c\" x=\"188.191033\" y=\"58.181935\" style=\"fill: #ff0000; stroke: #ff0000\"/>\n     <use xlink:href=\"#m258434bb3c\" x=\"188.568319\" y=\"47.431925\" style=\"fill: #ff0000; stroke: #ff0000\"/>\n     <use xlink:href=\"#m258434bb3c\" x=\"188.945606\" y=\"66.928265\" style=\"fill: #ff0000; stroke: #ff0000\"/>\n     <use xlink:href=\"#m258434bb3c\" x=\"189.322892\" y=\"98.58293\" style=\"fill: #ff0000; stroke: #ff0000\"/>\n     <use xlink:href=\"#m258434bb3c\" x=\"189.700179\" y=\"79.755126\" style=\"fill: #ff0000; stroke: #ff0000\"/>\n     <use xlink:href=\"#m258434bb3c\" x=\"190.077465\" y=\"63.069348\" style=\"fill: #ff0000; stroke: #ff0000\"/>\n     <use xlink:href=\"#m258434bb3c\" x=\"190.454752\" y=\"77.631294\" style=\"fill: #ff0000; stroke: #ff0000\"/>\n     <use xlink:href=\"#m258434bb3c\" x=\"190.832038\" y=\"67.932748\" style=\"fill: #ff0000; stroke: #ff0000\"/>\n     <use xlink:href=\"#m258434bb3c\" x=\"191.209324\" y=\"70.215572\" style=\"fill: #ff0000; stroke: #ff0000\"/>\n     <use xlink:href=\"#m258434bb3c\" x=\"191.586611\" y=\"21.432597\" style=\"fill: #ff0000; stroke: #ff0000\"/>\n     <use xlink:href=\"#m258434bb3c\" x=\"191.961901\" y=\"113.861066\" style=\"fill: #ff0000; stroke: #ff0000\"/>\n     <use xlink:href=\"#m258434bb3c\" x=\"192.339187\" y=\"103.09788\" style=\"fill: #ff0000; stroke: #ff0000\"/>\n     <use xlink:href=\"#m258434bb3c\" x=\"192.716474\" y=\"55.002522\" style=\"fill: #ff0000; stroke: #ff0000\"/>\n     <use xlink:href=\"#m258434bb3c\" x=\"193.09376\" y=\"100.825207\" style=\"fill: #ff0000; stroke: #ff0000\"/>\n     <use xlink:href=\"#m258434bb3c\" x=\"193.471047\" y=\"68.008862\" style=\"fill: #ff0000; stroke: #ff0000\"/>\n     <use xlink:href=\"#m258434bb3c\" x=\"193.848333\" y=\"86.146215\" style=\"fill: #ff0000; stroke: #ff0000\"/>\n     <use xlink:href=\"#m258434bb3c\" x=\"194.22562\" y=\"81.781929\" style=\"fill: #ff0000; stroke: #ff0000\"/>\n     <use xlink:href=\"#m258434bb3c\" x=\"194.602906\" y=\"76.185373\" style=\"fill: #ff0000; stroke: #ff0000\"/>\n     <use xlink:href=\"#m258434bb3c\" x=\"194.980192\" y=\"75.90369\" style=\"fill: #ff0000; stroke: #ff0000\"/>\n     <use xlink:href=\"#m258434bb3c\" x=\"195.357479\" y=\"50.014692\" style=\"fill: #ff0000; stroke: #ff0000\"/>\n     <use xlink:href=\"#m258434bb3c\" x=\"195.734765\" y=\"66.897629\" style=\"fill: #ff0000; stroke: #ff0000\"/>\n     <use xlink:href=\"#m258434bb3c\" x=\"196.112052\" y=\"95.087801\" style=\"fill: #ff0000; stroke: #ff0000\"/>\n     <use xlink:href=\"#m258434bb3c\" x=\"196.489338\" y=\"66.444607\" style=\"fill: #ff0000; stroke: #ff0000\"/>\n     <use xlink:href=\"#m258434bb3c\" x=\"196.866624\" y=\"70.770513\" style=\"fill: #ff0000; stroke: #ff0000\"/>\n     <use xlink:href=\"#m258434bb3c\" x=\"197.243911\" y=\"53.404508\" style=\"fill: #ff0000; stroke: #ff0000\"/>\n     <use xlink:href=\"#m258434bb3c\" x=\"197.621197\" y=\"43.599514\" style=\"fill: #ff0000; stroke: #ff0000\"/>\n     <use xlink:href=\"#m258434bb3c\" x=\"197.998484\" y=\"113.527554\" style=\"fill: #ff0000; stroke: #ff0000\"/>\n     <use xlink:href=\"#m258434bb3c\" x=\"198.37577\" y=\"107.245231\" style=\"fill: #ff0000; stroke: #ff0000\"/>\n     <use xlink:href=\"#m258434bb3c\" x=\"198.753057\" y=\"105.9972\" style=\"fill: #ff0000; stroke: #ff0000\"/>\n     <use xlink:href=\"#m258434bb3c\" x=\"199.130343\" y=\"94.911515\" style=\"fill: #ff0000; stroke: #ff0000\"/>\n     <use xlink:href=\"#m258434bb3c\" x=\"199.507629\" y=\"84.161801\" style=\"fill: #ff0000; stroke: #ff0000\"/>\n     <use xlink:href=\"#m258434bb3c\" x=\"199.884916\" y=\"50.317938\" style=\"fill: #ff0000; stroke: #ff0000\"/>\n     <use xlink:href=\"#m258434bb3c\" x=\"200.260206\" y=\"62.664719\" style=\"fill: #ff0000; stroke: #ff0000\"/>\n     <use xlink:href=\"#m258434bb3c\" x=\"200.637492\" y=\"94.888147\" style=\"fill: #ff0000; stroke: #ff0000\"/>\n     <use xlink:href=\"#m258434bb3c\" x=\"201.014779\" y=\"82.840989\" style=\"fill: #ff0000; stroke: #ff0000\"/>\n     <use xlink:href=\"#m258434bb3c\" x=\"201.392065\" y=\"88.53392\" style=\"fill: #ff0000; stroke: #ff0000\"/>\n     <use xlink:href=\"#m258434bb3c\" x=\"201.769352\" y=\"38.655259\" style=\"fill: #ff0000; stroke: #ff0000\"/>\n     <use xlink:href=\"#m258434bb3c\" x=\"202.146638\" y=\"57.724099\" style=\"fill: #ff0000; stroke: #ff0000\"/>\n     <use xlink:href=\"#m258434bb3c\" x=\"202.523925\" y=\"82.597595\" style=\"fill: #ff0000; stroke: #ff0000\"/>\n     <use xlink:href=\"#m258434bb3c\" x=\"202.901211\" y=\"83.017791\" style=\"fill: #ff0000; stroke: #ff0000\"/>\n     <use xlink:href=\"#m258434bb3c\" x=\"203.278497\" y=\"87.539792\" style=\"fill: #ff0000; stroke: #ff0000\"/>\n     <use xlink:href=\"#m258434bb3c\" x=\"203.655784\" y=\"99.238904\" style=\"fill: #ff0000; stroke: #ff0000\"/>\n     <use xlink:href=\"#m258434bb3c\" x=\"204.03307\" y=\"94.518787\" style=\"fill: #ff0000; stroke: #ff0000\"/>\n     <use xlink:href=\"#m258434bb3c\" x=\"204.410357\" y=\"66.589141\" style=\"fill: #ff0000; stroke: #ff0000\"/>\n     <use xlink:href=\"#m258434bb3c\" x=\"204.787643\" y=\"68.240227\" style=\"fill: #ff0000; stroke: #ff0000\"/>\n     <use xlink:href=\"#m258434bb3c\" x=\"205.164929\" y=\"60.500735\" style=\"fill: #ff0000; stroke: #ff0000\"/>\n     <use xlink:href=\"#m258434bb3c\" x=\"205.542216\" y=\"56.113994\" style=\"fill: #ff0000; stroke: #ff0000\"/>\n     <use xlink:href=\"#m258434bb3c\" x=\"205.919502\" y=\"43.681871\" style=\"fill: #ff0000; stroke: #ff0000\"/>\n     <use xlink:href=\"#m258434bb3c\" x=\"206.296789\" y=\"56.193702\" style=\"fill: #ff0000; stroke: #ff0000\"/>\n     <use xlink:href=\"#m258434bb3c\" x=\"206.674075\" y=\"95.564539\" style=\"fill: #ff0000; stroke: #ff0000\"/>\n     <use xlink:href=\"#m258434bb3c\" x=\"207.051362\" y=\"59.792301\" style=\"fill: #ff0000; stroke: #ff0000\"/>\n     <use xlink:href=\"#m258434bb3c\" x=\"207.428648\" y=\"112.62939\" style=\"fill: #ff0000; stroke: #ff0000\"/>\n     <use xlink:href=\"#m258434bb3c\" x=\"207.805934\" y=\"80.790479\" style=\"fill: #ff0000; stroke: #ff0000\"/>\n     <use xlink:href=\"#m258434bb3c\" x=\"208.183221\" y=\"91.197639\" style=\"fill: #ff0000; stroke: #ff0000\"/>\n     <use xlink:href=\"#m258434bb3c\" x=\"208.560507\" y=\"98.277697\" style=\"fill: #ff0000; stroke: #ff0000\"/>\n     <use xlink:href=\"#m258434bb3c\" x=\"208.935797\" y=\"146.370426\" style=\"fill: #ff0000; stroke: #ff0000\"/>\n     <use xlink:href=\"#m258434bb3c\" x=\"209.313084\" y=\"107.090024\" style=\"fill: #ff0000; stroke: #ff0000\"/>\n     <use xlink:href=\"#m258434bb3c\" x=\"209.69037\" y=\"105.690904\" style=\"fill: #ff0000; stroke: #ff0000\"/>\n     <use xlink:href=\"#m258434bb3c\" x=\"210.067657\" y=\"74.3802\" style=\"fill: #ff0000; stroke: #ff0000\"/>\n     <use xlink:href=\"#m258434bb3c\" x=\"210.444943\" y=\"59.779003\" style=\"fill: #ff0000; stroke: #ff0000\"/>\n     <use xlink:href=\"#m258434bb3c\" x=\"210.82223\" y=\"98.518321\" style=\"fill: #ff0000; stroke: #ff0000\"/>\n     <use xlink:href=\"#m258434bb3c\" x=\"211.199516\" y=\"81.888674\" style=\"fill: #ff0000; stroke: #ff0000\"/>\n     <use xlink:href=\"#m258434bb3c\" x=\"211.576802\" y=\"120.211682\" style=\"fill: #ff0000; stroke: #ff0000\"/>\n     <use xlink:href=\"#m258434bb3c\" x=\"211.954089\" y=\"84.650133\" style=\"fill: #ff0000; stroke: #ff0000\"/>\n     <use xlink:href=\"#m258434bb3c\" x=\"212.331375\" y=\"87.314745\" style=\"fill: #ff0000; stroke: #ff0000\"/>\n     <use xlink:href=\"#m258434bb3c\" x=\"212.708662\" y=\"63.026295\" style=\"fill: #ff0000; stroke: #ff0000\"/>\n     <use xlink:href=\"#m258434bb3c\" x=\"213.085948\" y=\"97.910055\" style=\"fill: #ff0000; stroke: #ff0000\"/>\n     <use xlink:href=\"#m258434bb3c\" x=\"213.463235\" y=\"84.201685\" style=\"fill: #ff0000; stroke: #ff0000\"/>\n     <use xlink:href=\"#m258434bb3c\" x=\"213.840521\" y=\"79.158417\" style=\"fill: #ff0000; stroke: #ff0000\"/>\n     <use xlink:href=\"#m258434bb3c\" x=\"214.217807\" y=\"90.522346\" style=\"fill: #ff0000; stroke: #ff0000\"/>\n     <use xlink:href=\"#m258434bb3c\" x=\"214.595094\" y=\"94.065764\" style=\"fill: #ff0000; stroke: #ff0000\"/>\n     <use xlink:href=\"#m258434bb3c\" x=\"214.97238\" y=\"91.041925\" style=\"fill: #ff0000; stroke: #ff0000\"/>\n     <use xlink:href=\"#m258434bb3c\" x=\"215.349667\" y=\"57.700042\" style=\"fill: #ff0000; stroke: #ff0000\"/>\n     <use xlink:href=\"#m258434bb3c\" x=\"215.726953\" y=\"66.184615\" style=\"fill: #ff0000; stroke: #ff0000\"/>\n     <use xlink:href=\"#m258434bb3c\" x=\"216.104239\" y=\"78.495178\" style=\"fill: #ff0000; stroke: #ff0000\"/>\n     <use xlink:href=\"#m258434bb3c\" x=\"216.481526\" y=\"107.400793\" style=\"fill: #ff0000; stroke: #ff0000\"/>\n     <use xlink:href=\"#m258434bb3c\" x=\"216.858812\" y=\"107.046197\" style=\"fill: #ff0000; stroke: #ff0000\"/>\n     <use xlink:href=\"#m258434bb3c\" x=\"217.234103\" y=\"122.431147\" style=\"fill: #ff0000; stroke: #ff0000\"/>\n     <use xlink:href=\"#m258434bb3c\" x=\"217.611389\" y=\"101.092961\" style=\"fill: #ff0000; stroke: #ff0000\"/>\n     <use xlink:href=\"#m258434bb3c\" x=\"217.988675\" y=\"78.803966\" style=\"fill: #ff0000; stroke: #ff0000\"/>\n     <use xlink:href=\"#m258434bb3c\" x=\"218.365962\" y=\"85.516965\" style=\"fill: #ff0000; stroke: #ff0000\"/>\n     <use xlink:href=\"#m258434bb3c\" x=\"218.743248\" y=\"88.593136\" style=\"fill: #ff0000; stroke: #ff0000\"/>\n     <use xlink:href=\"#m258434bb3c\" x=\"219.120535\" y=\"93.91557\" style=\"fill: #ff0000; stroke: #ff0000\"/>\n     <use xlink:href=\"#m258434bb3c\" x=\"219.497821\" y=\"118.088553\" style=\"fill: #ff0000; stroke: #ff0000\"/>\n     <use xlink:href=\"#m258434bb3c\" x=\"219.875107\" y=\"94.465126\" style=\"fill: #ff0000; stroke: #ff0000\"/>\n     <use xlink:href=\"#m258434bb3c\" x=\"220.252394\" y=\"110.619673\" style=\"fill: #ff0000; stroke: #ff0000\"/>\n     <use xlink:href=\"#m258434bb3c\" x=\"220.62968\" y=\"64.123521\" style=\"fill: #ff0000; stroke: #ff0000\"/>\n     <use xlink:href=\"#m258434bb3c\" x=\"221.006967\" y=\"101.999217\" style=\"fill: #ff0000; stroke: #ff0000\"/>\n     <use xlink:href=\"#m258434bb3c\" x=\"221.384253\" y=\"122.666506\" style=\"fill: #ff0000; stroke: #ff0000\"/>\n     <use xlink:href=\"#m258434bb3c\" x=\"221.76154\" y=\"153.703128\" style=\"fill: #ff0000; stroke: #ff0000\"/>\n     <use xlink:href=\"#m258434bb3c\" x=\"222.138826\" y=\"137.057359\" style=\"fill: #ff0000; stroke: #ff0000\"/>\n     <use xlink:href=\"#m258434bb3c\" x=\"222.516112\" y=\"100.110639\" style=\"fill: #ff0000; stroke: #ff0000\"/>\n     <use xlink:href=\"#m258434bb3c\" x=\"222.893399\" y=\"93.651823\" style=\"fill: #ff0000; stroke: #ff0000\"/>\n     <use xlink:href=\"#m258434bb3c\" x=\"223.270685\" y=\"84.351725\" style=\"fill: #ff0000; stroke: #ff0000\"/>\n     <use xlink:href=\"#m258434bb3c\" x=\"223.647972\" y=\"84.432411\" style=\"fill: #ff0000; stroke: #ff0000\"/>\n     <use xlink:href=\"#m258434bb3c\" x=\"224.025258\" y=\"118.939331\" style=\"fill: #ff0000; stroke: #ff0000\"/>\n     <use xlink:href=\"#m258434bb3c\" x=\"224.402545\" y=\"114.26289\" style=\"fill: #ff0000; stroke: #ff0000\"/>\n     <use xlink:href=\"#m258434bb3c\" x=\"224.779831\" y=\"124.899456\" style=\"fill: #ff0000; stroke: #ff0000\"/>\n     <use xlink:href=\"#m258434bb3c\" x=\"225.157117\" y=\"111.686822\" style=\"fill: #ff0000; stroke: #ff0000\"/>\n     <use xlink:href=\"#m258434bb3c\" x=\"225.532408\" y=\"130.855227\" style=\"fill: #ff0000; stroke: #ff0000\"/>\n     <use xlink:href=\"#m258434bb3c\" x=\"225.909694\" y=\"95.848397\" style=\"fill: #ff0000; stroke: #ff0000\"/>\n     <use xlink:href=\"#m258434bb3c\" x=\"226.28698\" y=\"111.770585\" style=\"fill: #ff0000; stroke: #ff0000\"/>\n     <use xlink:href=\"#m258434bb3c\" x=\"226.664267\" y=\"146.280304\" style=\"fill: #ff0000; stroke: #ff0000\"/>\n     <use xlink:href=\"#m258434bb3c\" x=\"227.041553\" y=\"110.179593\" style=\"fill: #ff0000; stroke: #ff0000\"/>\n     <use xlink:href=\"#m258434bb3c\" x=\"227.41884\" y=\"94.251956\" style=\"fill: #ff0000; stroke: #ff0000\"/>\n     <use xlink:href=\"#m258434bb3c\" x=\"227.796126\" y=\"102.787592\" style=\"fill: #ff0000; stroke: #ff0000\"/>\n     <use xlink:href=\"#m258434bb3c\" x=\"228.173412\" y=\"106.576093\" style=\"fill: #ff0000; stroke: #ff0000\"/>\n     <use xlink:href=\"#m258434bb3c\" x=\"228.550699\" y=\"103.751236\" style=\"fill: #ff0000; stroke: #ff0000\"/>\n     <use xlink:href=\"#m258434bb3c\" x=\"228.927985\" y=\"126.387135\" style=\"fill: #ff0000; stroke: #ff0000\"/>\n     <use xlink:href=\"#m258434bb3c\" x=\"229.305272\" y=\"121.749149\" style=\"fill: #ff0000; stroke: #ff0000\"/>\n     <use xlink:href=\"#m258434bb3c\" x=\"229.682558\" y=\"128.975606\" style=\"fill: #ff0000; stroke: #ff0000\"/>\n     <use xlink:href=\"#m258434bb3c\" x=\"230.059845\" y=\"120.877805\" style=\"fill: #ff0000; stroke: #ff0000\"/>\n     <use xlink:href=\"#m258434bb3c\" x=\"230.437131\" y=\"104.820403\" style=\"fill: #ff0000; stroke: #ff0000\"/>\n     <use xlink:href=\"#m258434bb3c\" x=\"230.814417\" y=\"122.750267\" style=\"fill: #ff0000; stroke: #ff0000\"/>\n     <use xlink:href=\"#m258434bb3c\" x=\"231.191704\" y=\"105.076394\" style=\"fill: #ff0000; stroke: #ff0000\"/>\n     <use xlink:href=\"#m258434bb3c\" x=\"231.56899\" y=\"55.373145\" style=\"fill: #ff0000; stroke: #ff0000\"/>\n     <use xlink:href=\"#m258434bb3c\" x=\"231.946277\" y=\"111.989141\" style=\"fill: #ff0000; stroke: #ff0000\"/>\n     <use xlink:href=\"#m258434bb3c\" x=\"232.323563\" y=\"99.43717\" style=\"fill: #ff0000; stroke: #ff0000\"/>\n     <use xlink:href=\"#m258434bb3c\" x=\"232.70085\" y=\"126.837671\" style=\"fill: #ff0000; stroke: #ff0000\"/>\n     <use xlink:href=\"#m258434bb3c\" x=\"233.078136\" y=\"106.670525\" style=\"fill: #ff0000; stroke: #ff0000\"/>\n     <use xlink:href=\"#m258434bb3c\" x=\"233.455422\" y=\"107.609578\" style=\"fill: #ff0000; stroke: #ff0000\"/>\n     <use xlink:href=\"#m258434bb3c\" x=\"233.832709\" y=\"95.744905\" style=\"fill: #ff0000; stroke: #ff0000\"/>\n     <use xlink:href=\"#m258434bb3c\" x=\"234.207999\" y=\"95.103669\" style=\"fill: #ff0000; stroke: #ff0000\"/>\n     <use xlink:href=\"#m258434bb3c\" x=\"234.585285\" y=\"95.257026\" style=\"fill: #ff0000; stroke: #ff0000\"/>\n     <use xlink:href=\"#m258434bb3c\" x=\"234.962572\" y=\"103.397283\" style=\"fill: #ff0000; stroke: #ff0000\"/>\n     <use xlink:href=\"#m258434bb3c\" x=\"235.339858\" y=\"87.272955\" style=\"fill: #ff0000; stroke: #ff0000\"/>\n     <use xlink:href=\"#m258434bb3c\" x=\"235.717145\" y=\"128.553412\" style=\"fill: #ff0000; stroke: #ff0000\"/>\n     <use xlink:href=\"#m258434bb3c\" x=\"236.094431\" y=\"123.356554\" style=\"fill: #ff0000; stroke: #ff0000\"/>\n     <use xlink:href=\"#m258434bb3c\" x=\"236.471718\" y=\"96.810462\" style=\"fill: #ff0000; stroke: #ff0000\"/>\n     <use xlink:href=\"#m258434bb3c\" x=\"236.849004\" y=\"136.421042\" style=\"fill: #ff0000; stroke: #ff0000\"/>\n     <use xlink:href=\"#m258434bb3c\" x=\"237.22629\" y=\"126.796885\" style=\"fill: #ff0000; stroke: #ff0000\"/>\n     <use xlink:href=\"#m258434bb3c\" x=\"237.603577\" y=\"112.955154\" style=\"fill: #ff0000; stroke: #ff0000\"/>\n     <use xlink:href=\"#m258434bb3c\" x=\"237.980863\" y=\"132.289879\" style=\"fill: #ff0000; stroke: #ff0000\"/>\n     <use xlink:href=\"#m258434bb3c\" x=\"238.35815\" y=\"119.66183\" style=\"fill: #ff0000; stroke: #ff0000\"/>\n     <use xlink:href=\"#m258434bb3c\" x=\"238.735436\" y=\"147.309293\" style=\"fill: #ff0000; stroke: #ff0000\"/>\n     <use xlink:href=\"#m258434bb3c\" x=\"239.112722\" y=\"135.903512\" style=\"fill: #ff0000; stroke: #ff0000\"/>\n     <use xlink:href=\"#m258434bb3c\" x=\"239.490009\" y=\"106.712098\" style=\"fill: #ff0000; stroke: #ff0000\"/>\n     <use xlink:href=\"#m258434bb3c\" x=\"239.867295\" y=\"122.514165\" style=\"fill: #ff0000; stroke: #ff0000\"/>\n     <use xlink:href=\"#m258434bb3c\" x=\"240.244582\" y=\"102.929503\" style=\"fill: #ff0000; stroke: #ff0000\"/>\n     <use xlink:href=\"#m258434bb3c\" x=\"240.621868\" y=\"112.93972\" style=\"fill: #ff0000; stroke: #ff0000\"/>\n     <use xlink:href=\"#m258434bb3c\" x=\"240.999155\" y=\"119.55014\" style=\"fill: #ff0000; stroke: #ff0000\"/>\n     <use xlink:href=\"#m258434bb3c\" x=\"241.376441\" y=\"145.506665\" style=\"fill: #ff0000; stroke: #ff0000\"/>\n     <use xlink:href=\"#m258434bb3c\" x=\"241.753727\" y=\"127.921352\" style=\"fill: #ff0000; stroke: #ff0000\"/>\n     <use xlink:href=\"#m258434bb3c\" x=\"242.131014\" y=\"148.783907\" style=\"fill: #ff0000; stroke: #ff0000\"/>\n     <use xlink:href=\"#m258434bb3c\" x=\"242.506304\" y=\"123.679828\" style=\"fill: #ff0000; stroke: #ff0000\"/>\n     <use xlink:href=\"#m258434bb3c\" x=\"242.88359\" y=\"106.482921\" style=\"fill: #ff0000; stroke: #ff0000\"/>\n     <use xlink:href=\"#m258434bb3c\" x=\"243.260877\" y=\"137.469727\" style=\"fill: #ff0000; stroke: #ff0000\"/>\n     <use xlink:href=\"#m258434bb3c\" x=\"243.638163\" y=\"87.43242\" style=\"fill: #ff0000; stroke: #ff0000\"/>\n     <use xlink:href=\"#m258434bb3c\" x=\"244.01545\" y=\"92.799216\" style=\"fill: #ff0000; stroke: #ff0000\"/>\n     <use xlink:href=\"#m258434bb3c\" x=\"244.392736\" y=\"106.912496\" style=\"fill: #ff0000; stroke: #ff0000\"/>\n     <use xlink:href=\"#m258434bb3c\" x=\"244.770023\" y=\"131.933886\" style=\"fill: #ff0000; stroke: #ff0000\"/>\n     <use xlink:href=\"#m258434bb3c\" x=\"245.147309\" y=\"113.019948\" style=\"fill: #ff0000; stroke: #ff0000\"/>\n     <use xlink:href=\"#m258434bb3c\" x=\"245.524595\" y=\"115.062109\" style=\"fill: #ff0000; stroke: #ff0000\"/>\n     <use xlink:href=\"#m258434bb3c\" x=\"245.901882\" y=\"154.717085\" style=\"fill: #ff0000; stroke: #ff0000\"/>\n     <use xlink:href=\"#m258434bb3c\" x=\"246.279168\" y=\"121.47165\" style=\"fill: #ff0000; stroke: #ff0000\"/>\n     <use xlink:href=\"#m258434bb3c\" x=\"246.656455\" y=\"117.100804\" style=\"fill: #ff0000; stroke: #ff0000\"/>\n     <use xlink:href=\"#m258434bb3c\" x=\"247.033741\" y=\"151.319862\" style=\"fill: #ff0000; stroke: #ff0000\"/>\n     <use xlink:href=\"#m258434bb3c\" x=\"247.411028\" y=\"114.787414\" style=\"fill: #ff0000; stroke: #ff0000\"/>\n     <use xlink:href=\"#m258434bb3c\" x=\"247.788314\" y=\"148.296318\" style=\"fill: #ff0000; stroke: #ff0000\"/>\n     <use xlink:href=\"#m258434bb3c\" x=\"248.1656\" y=\"137.214683\" style=\"fill: #ff0000; stroke: #ff0000\"/>\n     <use xlink:href=\"#m258434bb3c\" x=\"248.542887\" y=\"133.095906\" style=\"fill: #ff0000; stroke: #ff0000\"/>\n     <use xlink:href=\"#m258434bb3c\" x=\"248.920173\" y=\"111.331745\" style=\"fill: #ff0000; stroke: #ff0000\"/>\n     <use xlink:href=\"#m258434bb3c\" x=\"249.29746\" y=\"113.202529\" style=\"fill: #ff0000; stroke: #ff0000\"/>\n     <use xlink:href=\"#m258434bb3c\" x=\"249.674746\" y=\"115.466023\" style=\"fill: #ff0000; stroke: #ff0000\"/>\n     <use xlink:href=\"#m258434bb3c\" x=\"250.052032\" y=\"127.996406\" style=\"fill: #ff0000; stroke: #ff0000\"/>\n     <use xlink:href=\"#m258434bb3c\" x=\"250.429319\" y=\"116.116936\" style=\"fill: #ff0000; stroke: #ff0000\"/>\n     <use xlink:href=\"#m258434bb3c\" x=\"250.804609\" y=\"89.752658\" style=\"fill: #ff0000; stroke: #ff0000\"/>\n     <use xlink:href=\"#m258434bb3c\" x=\"251.181896\" y=\"120.08647\" style=\"fill: #ff0000; stroke: #ff0000\"/>\n     <use xlink:href=\"#m258434bb3c\" x=\"251.559182\" y=\"115.81461\" style=\"fill: #ff0000; stroke: #ff0000\"/>\n     <use xlink:href=\"#m258434bb3c\" x=\"251.936468\" y=\"118.076703\" style=\"fill: #ff0000; stroke: #ff0000\"/>\n     <use xlink:href=\"#m258434bb3c\" x=\"252.313755\" y=\"149.007047\" style=\"fill: #ff0000; stroke: #ff0000\"/>\n     <use xlink:href=\"#m258434bb3c\" x=\"252.691041\" y=\"158.235861\" style=\"fill: #ff0000; stroke: #ff0000\"/>\n     <use xlink:href=\"#m258434bb3c\" x=\"253.068328\" y=\"129.659986\" style=\"fill: #ff0000; stroke: #ff0000\"/>\n     <use xlink:href=\"#m258434bb3c\" x=\"253.445614\" y=\"104.602915\" style=\"fill: #ff0000; stroke: #ff0000\"/>\n     <use xlink:href=\"#m258434bb3c\" x=\"253.8229\" y=\"114.0868\" style=\"fill: #ff0000; stroke: #ff0000\"/>\n     <use xlink:href=\"#m258434bb3c\" x=\"254.200187\" y=\"133.912212\" style=\"fill: #ff0000; stroke: #ff0000\"/>\n     <use xlink:href=\"#m258434bb3c\" x=\"254.577473\" y=\"148.975225\" style=\"fill: #ff0000; stroke: #ff0000\"/>\n     <use xlink:href=\"#m258434bb3c\" x=\"254.95476\" y=\"146.266545\" style=\"fill: #ff0000; stroke: #ff0000\"/>\n     <use xlink:href=\"#m258434bb3c\" x=\"255.332046\" y=\"124.523912\" style=\"fill: #ff0000; stroke: #ff0000\"/>\n     <use xlink:href=\"#m258434bb3c\" x=\"255.709333\" y=\"133.931207\" style=\"fill: #ff0000; stroke: #ff0000\"/>\n     <use xlink:href=\"#m258434bb3c\" x=\"256.086619\" y=\"157.418059\" style=\"fill: #ff0000; stroke: #ff0000\"/>\n     <use xlink:href=\"#m258434bb3c\" x=\"256.463905\" y=\"120.576361\" style=\"fill: #ff0000; stroke: #ff0000\"/>\n     <use xlink:href=\"#m258434bb3c\" x=\"256.841192\" y=\"132.627714\" style=\"fill: #ff0000; stroke: #ff0000\"/>\n     <use xlink:href=\"#m258434bb3c\" x=\"257.218478\" y=\"145.405072\" style=\"fill: #ff0000; stroke: #ff0000\"/>\n     <use xlink:href=\"#m258434bb3c\" x=\"257.595765\" y=\"139.662175\" style=\"fill: #ff0000; stroke: #ff0000\"/>\n     <use xlink:href=\"#m258434bb3c\" x=\"257.973051\" y=\"151.660509\" style=\"fill: #ff0000; stroke: #ff0000\"/>\n     <use xlink:href=\"#m258434bb3c\" x=\"258.350338\" y=\"141.523195\" style=\"fill: #ff0000; stroke: #ff0000\"/>\n     <use xlink:href=\"#m258434bb3c\" x=\"258.727624\" y=\"140.411319\" style=\"fill: #ff0000; stroke: #ff0000\"/>\n     <use xlink:href=\"#m258434bb3c\" x=\"259.10491\" y=\"128.852207\" style=\"fill: #ff0000; stroke: #ff0000\"/>\n     <use xlink:href=\"#m258434bb3c\" x=\"259.480201\" y=\"132.702754\" style=\"fill: #ff0000; stroke: #ff0000\"/>\n     <use xlink:href=\"#m258434bb3c\" x=\"259.857487\" y=\"118.609335\" style=\"fill: #ff0000; stroke: #ff0000\"/>\n     <use xlink:href=\"#m258434bb3c\" x=\"260.234773\" y=\"168.913365\" style=\"fill: #ff0000; stroke: #ff0000\"/>\n     <use xlink:href=\"#m258434bb3c\" x=\"260.61206\" y=\"157.707225\" style=\"fill: #ff0000; stroke: #ff0000\"/>\n     <use xlink:href=\"#m258434bb3c\" x=\"260.989346\" y=\"154.696828\" style=\"fill: #ff0000; stroke: #ff0000\"/>\n     <use xlink:href=\"#m258434bb3c\" x=\"261.366633\" y=\"124.914496\" style=\"fill: #ff0000; stroke: #ff0000\"/>\n     <use xlink:href=\"#m258434bb3c\" x=\"261.743919\" y=\"155.583301\" style=\"fill: #ff0000; stroke: #ff0000\"/>\n     <use xlink:href=\"#m258434bb3c\" x=\"262.121205\" y=\"117.002365\" style=\"fill: #ff0000; stroke: #ff0000\"/>\n     <use xlink:href=\"#m258434bb3c\" x=\"262.498492\" y=\"88.04697\" style=\"fill: #ff0000; stroke: #ff0000\"/>\n     <use xlink:href=\"#m258434bb3c\" x=\"262.875778\" y=\"122.860128\" style=\"fill: #ff0000; stroke: #ff0000\"/>\n     <use xlink:href=\"#m258434bb3c\" x=\"263.253065\" y=\"125.584227\" style=\"fill: #ff0000; stroke: #ff0000\"/>\n     <use xlink:href=\"#m258434bb3c\" x=\"263.630351\" y=\"114.253627\" style=\"fill: #ff0000; stroke: #ff0000\"/>\n     <use xlink:href=\"#m258434bb3c\" x=\"264.007638\" y=\"138.359371\" style=\"fill: #ff0000; stroke: #ff0000\"/>\n     <use xlink:href=\"#m258434bb3c\" x=\"264.384924\" y=\"124.818289\" style=\"fill: #ff0000; stroke: #ff0000\"/>\n     <use xlink:href=\"#m258434bb3c\" x=\"264.76221\" y=\"118.30569\" style=\"fill: #ff0000; stroke: #ff0000\"/>\n     <use xlink:href=\"#m258434bb3c\" x=\"265.139497\" y=\"157.187052\" style=\"fill: #ff0000; stroke: #ff0000\"/>\n     <use xlink:href=\"#m258434bb3c\" x=\"265.516783\" y=\"124.389327\" style=\"fill: #ff0000; stroke: #ff0000\"/>\n     <use xlink:href=\"#m258434bb3c\" x=\"265.89407\" y=\"153.857491\" style=\"fill: #ff0000; stroke: #ff0000\"/>\n     <use xlink:href=\"#m258434bb3c\" x=\"266.271356\" y=\"153.004273\" style=\"fill: #ff0000; stroke: #ff0000\"/>\n     <use xlink:href=\"#m258434bb3c\" x=\"266.648643\" y=\"189.294549\" style=\"fill: #ff0000; stroke: #ff0000\"/>\n     <use xlink:href=\"#m258434bb3c\" x=\"267.025929\" y=\"140.941859\" style=\"fill: #ff0000; stroke: #ff0000\"/>\n     <use xlink:href=\"#m258434bb3c\" x=\"267.403215\" y=\"159.969564\" style=\"fill: #ff0000; stroke: #ff0000\"/>\n     <use xlink:href=\"#m258434bb3c\" x=\"267.778506\" y=\"90.52222\" style=\"fill: #ff0000; stroke: #ff0000\"/>\n     <use xlink:href=\"#m258434bb3c\" x=\"268.155792\" y=\"147.421252\" style=\"fill: #ff0000; stroke: #ff0000\"/>\n     <use xlink:href=\"#m258434bb3c\" x=\"268.533078\" y=\"149.947131\" style=\"fill: #ff0000; stroke: #ff0000\"/>\n     <use xlink:href=\"#m258434bb3c\" x=\"268.910365\" y=\"116.791148\" style=\"fill: #ff0000; stroke: #ff0000\"/>\n     <use xlink:href=\"#m258434bb3c\" x=\"269.287651\" y=\"146.641275\" style=\"fill: #ff0000; stroke: #ff0000\"/>\n     <use xlink:href=\"#m258434bb3c\" x=\"269.664938\" y=\"139.331759\" style=\"fill: #ff0000; stroke: #ff0000\"/>\n     <use xlink:href=\"#m258434bb3c\" x=\"270.042224\" y=\"100.912814\" style=\"fill: #ff0000; stroke: #ff0000\"/>\n     <use xlink:href=\"#m258434bb3c\" x=\"270.419511\" y=\"157.869227\" style=\"fill: #ff0000; stroke: #ff0000\"/>\n     <use xlink:href=\"#m258434bb3c\" x=\"270.796797\" y=\"158.57671\" style=\"fill: #ff0000; stroke: #ff0000\"/>\n     <use xlink:href=\"#m258434bb3c\" x=\"271.174083\" y=\"138.612135\" style=\"fill: #ff0000; stroke: #ff0000\"/>\n     <use xlink:href=\"#m258434bb3c\" x=\"271.55137\" y=\"133.057747\" style=\"fill: #ff0000; stroke: #ff0000\"/>\n     <use xlink:href=\"#m258434bb3c\" x=\"271.928656\" y=\"139.102361\" style=\"fill: #ff0000; stroke: #ff0000\"/>\n     <use xlink:href=\"#m258434bb3c\" x=\"272.305943\" y=\"171.793665\" style=\"fill: #ff0000; stroke: #ff0000\"/>\n     <use xlink:href=\"#m258434bb3c\" x=\"272.683229\" y=\"180.104111\" style=\"fill: #ff0000; stroke: #ff0000\"/>\n     <use xlink:href=\"#m258434bb3c\" x=\"273.060515\" y=\"145.940381\" style=\"fill: #ff0000; stroke: #ff0000\"/>\n     <use xlink:href=\"#m258434bb3c\" x=\"273.437802\" y=\"174.870543\" style=\"fill: #ff0000; stroke: #ff0000\"/>\n     <use xlink:href=\"#m258434bb3c\" x=\"273.815088\" y=\"114.896325\" style=\"fill: #ff0000; stroke: #ff0000\"/>\n     <use xlink:href=\"#m258434bb3c\" x=\"274.192375\" y=\"141.626594\" style=\"fill: #ff0000; stroke: #ff0000\"/>\n     <use xlink:href=\"#m258434bb3c\" x=\"274.569661\" y=\"144.925566\" style=\"fill: #ff0000; stroke: #ff0000\"/>\n     <use xlink:href=\"#m258434bb3c\" x=\"274.946948\" y=\"152.345593\" style=\"fill: #ff0000; stroke: #ff0000\"/>\n     <use xlink:href=\"#m258434bb3c\" x=\"275.324234\" y=\"130.320172\" style=\"fill: #ff0000; stroke: #ff0000\"/>\n     <use xlink:href=\"#m258434bb3c\" x=\"275.70152\" y=\"148.251338\" style=\"fill: #ff0000; stroke: #ff0000\"/>\n     <use xlink:href=\"#m258434bb3c\" x=\"276.076811\" y=\"131.636946\" style=\"fill: #ff0000; stroke: #ff0000\"/>\n     <use xlink:href=\"#m258434bb3c\" x=\"276.454097\" y=\"131.739873\" style=\"fill: #ff0000; stroke: #ff0000\"/>\n     <use xlink:href=\"#m258434bb3c\" x=\"276.831383\" y=\"151.760705\" style=\"fill: #ff0000; stroke: #ff0000\"/>\n     <use xlink:href=\"#m258434bb3c\" x=\"277.20867\" y=\"120.921921\" style=\"fill: #ff0000; stroke: #ff0000\"/>\n     <use xlink:href=\"#m258434bb3c\" x=\"277.585956\" y=\"127.624981\" style=\"fill: #ff0000; stroke: #ff0000\"/>\n     <use xlink:href=\"#m258434bb3c\" x=\"277.963243\" y=\"152.539406\" style=\"fill: #ff0000; stroke: #ff0000\"/>\n     <use xlink:href=\"#m258434bb3c\" x=\"278.340529\" y=\"158.977986\" style=\"fill: #ff0000; stroke: #ff0000\"/>\n     <use xlink:href=\"#m258434bb3c\" x=\"278.717816\" y=\"146.888519\" style=\"fill: #ff0000; stroke: #ff0000\"/>\n     <use xlink:href=\"#m258434bb3c\" x=\"279.095102\" y=\"162.57189\" style=\"fill: #ff0000; stroke: #ff0000\"/>\n     <use xlink:href=\"#m258434bb3c\" x=\"279.472388\" y=\"152.964642\" style=\"fill: #ff0000; stroke: #ff0000\"/>\n     <use xlink:href=\"#m258434bb3c\" x=\"279.849675\" y=\"120.984133\" style=\"fill: #ff0000; stroke: #ff0000\"/>\n     <use xlink:href=\"#m258434bb3c\" x=\"280.226961\" y=\"143.90816\" style=\"fill: #ff0000; stroke: #ff0000\"/>\n     <use xlink:href=\"#m258434bb3c\" x=\"280.604248\" y=\"130.638932\" style=\"fill: #ff0000; stroke: #ff0000\"/>\n     <use xlink:href=\"#m258434bb3c\" x=\"280.981534\" y=\"169.384062\" style=\"fill: #ff0000; stroke: #ff0000\"/>\n     <use xlink:href=\"#m258434bb3c\" x=\"281.358821\" y=\"178.375036\" style=\"fill: #ff0000; stroke: #ff0000\"/>\n     <use xlink:href=\"#m258434bb3c\" x=\"281.736107\" y=\"158.366969\" style=\"fill: #ff0000; stroke: #ff0000\"/>\n     <use xlink:href=\"#m258434bb3c\" x=\"282.113393\" y=\"143.176439\" style=\"fill: #ff0000; stroke: #ff0000\"/>\n     <use xlink:href=\"#m258434bb3c\" x=\"282.49068\" y=\"152.863815\" style=\"fill: #ff0000; stroke: #ff0000\"/>\n     <use xlink:href=\"#m258434bb3c\" x=\"282.867966\" y=\"153.656486\" style=\"fill: #ff0000; stroke: #ff0000\"/>\n     <use xlink:href=\"#m258434bb3c\" x=\"283.245253\" y=\"128.868377\" style=\"fill: #ff0000; stroke: #ff0000\"/>\n     <use xlink:href=\"#m258434bb3c\" x=\"283.622539\" y=\"125.214273\" style=\"fill: #ff0000; stroke: #ff0000\"/>\n     <use xlink:href=\"#m258434bb3c\" x=\"283.999825\" y=\"126.412546\" style=\"fill: #ff0000; stroke: #ff0000\"/>\n     <use xlink:href=\"#m258434bb3c\" x=\"284.377112\" y=\"143.368394\" style=\"fill: #ff0000; stroke: #ff0000\"/>\n     <use xlink:href=\"#m258434bb3c\" x=\"284.752402\" y=\"168.669993\" style=\"fill: #ff0000; stroke: #ff0000\"/>\n     <use xlink:href=\"#m258434bb3c\" x=\"285.129688\" y=\"135.887734\" style=\"fill: #ff0000; stroke: #ff0000\"/>\n     <use xlink:href=\"#m258434bb3c\" x=\"285.506975\" y=\"181.792447\" style=\"fill: #ff0000; stroke: #ff0000\"/>\n     <use xlink:href=\"#m258434bb3c\" x=\"285.884261\" y=\"147.954231\" style=\"fill: #ff0000; stroke: #ff0000\"/>\n     <use xlink:href=\"#m258434bb3c\" x=\"286.261548\" y=\"173.128354\" style=\"fill: #ff0000; stroke: #ff0000\"/>\n     <use xlink:href=\"#m258434bb3c\" x=\"286.638834\" y=\"149.430136\" style=\"fill: #ff0000; stroke: #ff0000\"/>\n     <use xlink:href=\"#m258434bb3c\" x=\"287.016121\" y=\"163.377148\" style=\"fill: #ff0000; stroke: #ff0000\"/>\n     <use xlink:href=\"#m258434bb3c\" x=\"287.393407\" y=\"169.997763\" style=\"fill: #ff0000; stroke: #ff0000\"/>\n     <use xlink:href=\"#m258434bb3c\" x=\"287.770693\" y=\"140.739762\" style=\"fill: #ff0000; stroke: #ff0000\"/>\n     <use xlink:href=\"#m258434bb3c\" x=\"288.14798\" y=\"180.431576\" style=\"fill: #ff0000; stroke: #ff0000\"/>\n     <use xlink:href=\"#m258434bb3c\" x=\"288.525266\" y=\"143.253764\" style=\"fill: #ff0000; stroke: #ff0000\"/>\n     <use xlink:href=\"#m258434bb3c\" x=\"288.902553\" y=\"158.759182\" style=\"fill: #ff0000; stroke: #ff0000\"/>\n     <use xlink:href=\"#m258434bb3c\" x=\"289.279839\" y=\"180.652822\" style=\"fill: #ff0000; stroke: #ff0000\"/>\n     <use xlink:href=\"#m258434bb3c\" x=\"289.657126\" y=\"124.377408\" style=\"fill: #ff0000; stroke: #ff0000\"/>\n     <use xlink:href=\"#m258434bb3c\" x=\"290.034412\" y=\"142.996988\" style=\"fill: #ff0000; stroke: #ff0000\"/>\n     <use xlink:href=\"#m258434bb3c\" x=\"290.411698\" y=\"173.240396\" style=\"fill: #ff0000; stroke: #ff0000\"/>\n     <use xlink:href=\"#m258434bb3c\" x=\"290.788985\" y=\"147.222493\" style=\"fill: #ff0000; stroke: #ff0000\"/>\n     <use xlink:href=\"#m258434bb3c\" x=\"291.166271\" y=\"167.146928\" style=\"fill: #ff0000; stroke: #ff0000\"/>\n     <use xlink:href=\"#m258434bb3c\" x=\"291.543558\" y=\"135.640943\" style=\"fill: #ff0000; stroke: #ff0000\"/>\n     <use xlink:href=\"#m258434bb3c\" x=\"291.920844\" y=\"150.343508\" style=\"fill: #ff0000; stroke: #ff0000\"/>\n     <use xlink:href=\"#m258434bb3c\" x=\"292.29813\" y=\"171.695232\" style=\"fill: #ff0000; stroke: #ff0000\"/>\n     <use xlink:href=\"#m258434bb3c\" x=\"292.675417\" y=\"160.042822\" style=\"fill: #ff0000; stroke: #ff0000\"/>\n     <use xlink:href=\"#m258434bb3c\" x=\"293.050707\" y=\"154.414091\" style=\"fill: #ff0000; stroke: #ff0000\"/>\n     <use xlink:href=\"#m258434bb3c\" x=\"293.427994\" y=\"133.082879\" style=\"fill: #ff0000; stroke: #ff0000\"/>\n     <use xlink:href=\"#m258434bb3c\" x=\"293.80528\" y=\"137.83493\" style=\"fill: #ff0000; stroke: #ff0000\"/>\n     <use xlink:href=\"#m258434bb3c\" x=\"294.182566\" y=\"185.890735\" style=\"fill: #ff0000; stroke: #ff0000\"/>\n     <use xlink:href=\"#m258434bb3c\" x=\"294.559853\" y=\"152.795674\" style=\"fill: #ff0000; stroke: #ff0000\"/>\n     <use xlink:href=\"#m258434bb3c\" x=\"294.937139\" y=\"143.911497\" style=\"fill: #ff0000; stroke: #ff0000\"/>\n     <use xlink:href=\"#m258434bb3c\" x=\"295.314426\" y=\"162.053566\" style=\"fill: #ff0000; stroke: #ff0000\"/>\n     <use xlink:href=\"#m258434bb3c\" x=\"295.691712\" y=\"137.775248\" style=\"fill: #ff0000; stroke: #ff0000\"/>\n     <use xlink:href=\"#m258434bb3c\" x=\"296.068998\" y=\"134.43436\" style=\"fill: #ff0000; stroke: #ff0000\"/>\n     <use xlink:href=\"#m258434bb3c\" x=\"296.446285\" y=\"149.842138\" style=\"fill: #ff0000; stroke: #ff0000\"/>\n     <use xlink:href=\"#m258434bb3c\" x=\"296.823571\" y=\"159.748205\" style=\"fill: #ff0000; stroke: #ff0000\"/>\n     <use xlink:href=\"#m258434bb3c\" x=\"297.200858\" y=\"156.32242\" style=\"fill: #ff0000; stroke: #ff0000\"/>\n     <use xlink:href=\"#m258434bb3c\" x=\"297.578144\" y=\"137.945366\" style=\"fill: #ff0000; stroke: #ff0000\"/>\n     <use xlink:href=\"#m258434bb3c\" x=\"297.955431\" y=\"161.290059\" style=\"fill: #ff0000; stroke: #ff0000\"/>\n     <use xlink:href=\"#m258434bb3c\" x=\"298.332717\" y=\"148.551489\" style=\"fill: #ff0000; stroke: #ff0000\"/>\n     <use xlink:href=\"#m258434bb3c\" x=\"298.710003\" y=\"179.233692\" style=\"fill: #ff0000; stroke: #ff0000\"/>\n     <use xlink:href=\"#m258434bb3c\" x=\"299.08729\" y=\"176.811369\" style=\"fill: #ff0000; stroke: #ff0000\"/>\n     <use xlink:href=\"#m258434bb3c\" x=\"299.464576\" y=\"178.851792\" style=\"fill: #ff0000; stroke: #ff0000\"/>\n     <use xlink:href=\"#m258434bb3c\" x=\"299.841863\" y=\"141.710296\" style=\"fill: #ff0000; stroke: #ff0000\"/>\n     <use xlink:href=\"#m258434bb3c\" x=\"300.219149\" y=\"180.846051\" style=\"fill: #ff0000; stroke: #ff0000\"/>\n     <use xlink:href=\"#m258434bb3c\" x=\"300.596436\" y=\"155.757308\" style=\"fill: #ff0000; stroke: #ff0000\"/>\n     <use xlink:href=\"#m258434bb3c\" x=\"300.973722\" y=\"144.896689\" style=\"fill: #ff0000; stroke: #ff0000\"/>\n     <use xlink:href=\"#m258434bb3c\" x=\"301.349012\" y=\"158.420367\" style=\"fill: #ff0000; stroke: #ff0000\"/>\n     <use xlink:href=\"#m258434bb3c\" x=\"301.726299\" y=\"136.581014\" style=\"fill: #ff0000; stroke: #ff0000\"/>\n     <use xlink:href=\"#m258434bb3c\" x=\"302.103585\" y=\"146.274886\" style=\"fill: #ff0000; stroke: #ff0000\"/>\n     <use xlink:href=\"#m258434bb3c\" x=\"302.480871\" y=\"181.54883\" style=\"fill: #ff0000; stroke: #ff0000\"/>\n     <use xlink:href=\"#m258434bb3c\" x=\"302.858158\" y=\"178.11145\" style=\"fill: #ff0000; stroke: #ff0000\"/>\n     <use xlink:href=\"#m258434bb3c\" x=\"303.235444\" y=\"167.948909\" style=\"fill: #ff0000; stroke: #ff0000\"/>\n     <use xlink:href=\"#m258434bb3c\" x=\"303.612731\" y=\"155.084364\" style=\"fill: #ff0000; stroke: #ff0000\"/>\n     <use xlink:href=\"#m258434bb3c\" x=\"303.990017\" y=\"150.976992\" style=\"fill: #ff0000; stroke: #ff0000\"/>\n     <use xlink:href=\"#m258434bb3c\" x=\"304.367304\" y=\"122.664569\" style=\"fill: #ff0000; stroke: #ff0000\"/>\n     <use xlink:href=\"#m258434bb3c\" x=\"304.74459\" y=\"130.646922\" style=\"fill: #ff0000; stroke: #ff0000\"/>\n     <use xlink:href=\"#m258434bb3c\" x=\"305.121876\" y=\"139.495193\" style=\"fill: #ff0000; stroke: #ff0000\"/>\n     <use xlink:href=\"#m258434bb3c\" x=\"305.499163\" y=\"169.426382\" style=\"fill: #ff0000; stroke: #ff0000\"/>\n     <use xlink:href=\"#m258434bb3c\" x=\"305.876449\" y=\"165.82105\" style=\"fill: #ff0000; stroke: #ff0000\"/>\n     <use xlink:href=\"#m258434bb3c\" x=\"306.253736\" y=\"183.85755\" style=\"fill: #ff0000; stroke: #ff0000\"/>\n     <use xlink:href=\"#m258434bb3c\" x=\"306.631022\" y=\"171.721807\" style=\"fill: #ff0000; stroke: #ff0000\"/>\n     <use xlink:href=\"#m258434bb3c\" x=\"307.008308\" y=\"177.088618\" style=\"fill: #ff0000; stroke: #ff0000\"/>\n     <use xlink:href=\"#m258434bb3c\" x=\"307.385595\" y=\"177.039188\" style=\"fill: #ff0000; stroke: #ff0000\"/>\n     <use xlink:href=\"#m258434bb3c\" x=\"307.762881\" y=\"147.462166\" style=\"fill: #ff0000; stroke: #ff0000\"/>\n     <use xlink:href=\"#m258434bb3c\" x=\"308.140168\" y=\"149.383477\" style=\"fill: #ff0000; stroke: #ff0000\"/>\n     <use xlink:href=\"#m258434bb3c\" x=\"308.517454\" y=\"156.880508\" style=\"fill: #ff0000; stroke: #ff0000\"/>\n     <use xlink:href=\"#m258434bb3c\" x=\"308.894741\" y=\"161.098584\" style=\"fill: #ff0000; stroke: #ff0000\"/>\n     <use xlink:href=\"#m258434bb3c\" x=\"309.272027\" y=\"151.096103\" style=\"fill: #ff0000; stroke: #ff0000\"/>\n     <use xlink:href=\"#m258434bb3c\" x=\"309.649313\" y=\"214.077689\" style=\"fill: #ff0000; stroke: #ff0000\"/>\n     <use xlink:href=\"#m258434bb3c\" x=\"310.024604\" y=\"135.697139\" style=\"fill: #ff0000; stroke: #ff0000\"/>\n     <use xlink:href=\"#m258434bb3c\" x=\"310.40189\" y=\"215.262566\" style=\"fill: #ff0000; stroke: #ff0000\"/>\n     <use xlink:href=\"#m258434bb3c\" x=\"310.779176\" y=\"177.117109\" style=\"fill: #ff0000; stroke: #ff0000\"/>\n     <use xlink:href=\"#m258434bb3c\" x=\"311.156463\" y=\"194.291072\" style=\"fill: #ff0000; stroke: #ff0000\"/>\n     <use xlink:href=\"#m258434bb3c\" x=\"311.533749\" y=\"157.56961\" style=\"fill: #ff0000; stroke: #ff0000\"/>\n     <use xlink:href=\"#m258434bb3c\" x=\"311.911036\" y=\"146.772075\" style=\"fill: #ff0000; stroke: #ff0000\"/>\n     <use xlink:href=\"#m258434bb3c\" x=\"312.288322\" y=\"130.721474\" style=\"fill: #ff0000; stroke: #ff0000\"/>\n     <use xlink:href=\"#m258434bb3c\" x=\"312.665609\" y=\"157.006512\" style=\"fill: #ff0000; stroke: #ff0000\"/>\n     <use xlink:href=\"#m258434bb3c\" x=\"313.042895\" y=\"145.451803\" style=\"fill: #ff0000; stroke: #ff0000\"/>\n     <use xlink:href=\"#m258434bb3c\" x=\"313.420181\" y=\"160.399814\" style=\"fill: #ff0000; stroke: #ff0000\"/>\n     <use xlink:href=\"#m258434bb3c\" x=\"313.797468\" y=\"144.274255\" style=\"fill: #ff0000; stroke: #ff0000\"/>\n     <use xlink:href=\"#m258434bb3c\" x=\"314.174754\" y=\"164.915604\" style=\"fill: #ff0000; stroke: #ff0000\"/>\n     <use xlink:href=\"#m258434bb3c\" x=\"314.552041\" y=\"177.842701\" style=\"fill: #ff0000; stroke: #ff0000\"/>\n     <use xlink:href=\"#m258434bb3c\" x=\"314.929327\" y=\"181.343039\" style=\"fill: #ff0000; stroke: #ff0000\"/>\n     <use xlink:href=\"#m258434bb3c\" x=\"315.306614\" y=\"147.294937\" style=\"fill: #ff0000; stroke: #ff0000\"/>\n     <use xlink:href=\"#m258434bb3c\" x=\"315.6839\" y=\"191.632596\" style=\"fill: #ff0000; stroke: #ff0000\"/>\n     <use xlink:href=\"#m258434bb3c\" x=\"316.061186\" y=\"138.593455\" style=\"fill: #ff0000; stroke: #ff0000\"/>\n     <use xlink:href=\"#m258434bb3c\" x=\"316.438473\" y=\"131.659027\" style=\"fill: #ff0000; stroke: #ff0000\"/>\n     <use xlink:href=\"#m258434bb3c\" x=\"316.815759\" y=\"151.460656\" style=\"fill: #ff0000; stroke: #ff0000\"/>\n     <use xlink:href=\"#m258434bb3c\" x=\"317.193046\" y=\"156.168989\" style=\"fill: #ff0000; stroke: #ff0000\"/>\n     <use xlink:href=\"#m258434bb3c\" x=\"317.570332\" y=\"204.782487\" style=\"fill: #ff0000; stroke: #ff0000\"/>\n     <use xlink:href=\"#m258434bb3c\" x=\"317.947618\" y=\"157.829386\" style=\"fill: #ff0000; stroke: #ff0000\"/>\n     <use xlink:href=\"#m258434bb3c\" x=\"318.322909\" y=\"184.320861\" style=\"fill: #ff0000; stroke: #ff0000\"/>\n     <use xlink:href=\"#m258434bb3c\" x=\"318.700195\" y=\"181.656898\" style=\"fill: #ff0000; stroke: #ff0000\"/>\n     <use xlink:href=\"#m258434bb3c\" x=\"319.077481\" y=\"152.311605\" style=\"fill: #ff0000; stroke: #ff0000\"/>\n     <use xlink:href=\"#m258434bb3c\" x=\"319.454768\" y=\"164.097093\" style=\"fill: #ff0000; stroke: #ff0000\"/>\n     <use xlink:href=\"#m258434bb3c\" x=\"319.832054\" y=\"160.893295\" style=\"fill: #ff0000; stroke: #ff0000\"/>\n     <use xlink:href=\"#m258434bb3c\" x=\"320.209341\" y=\"187.623286\" style=\"fill: #ff0000; stroke: #ff0000\"/>\n     <use xlink:href=\"#m258434bb3c\" x=\"320.586627\" y=\"152.881162\" style=\"fill: #ff0000; stroke: #ff0000\"/>\n     <use xlink:href=\"#m258434bb3c\" x=\"320.963914\" y=\"170.934954\" style=\"fill: #ff0000; stroke: #ff0000\"/>\n     <use xlink:href=\"#m258434bb3c\" x=\"321.3412\" y=\"125.233077\" style=\"fill: #ff0000; stroke: #ff0000\"/>\n     <use xlink:href=\"#m258434bb3c\" x=\"321.718486\" y=\"193.837564\" style=\"fill: #ff0000; stroke: #ff0000\"/>\n     <use xlink:href=\"#m258434bb3c\" x=\"322.095773\" y=\"163.816031\" style=\"fill: #ff0000; stroke: #ff0000\"/>\n     <use xlink:href=\"#m258434bb3c\" x=\"322.473059\" y=\"165.404091\" style=\"fill: #ff0000; stroke: #ff0000\"/>\n     <use xlink:href=\"#m258434bb3c\" x=\"322.850346\" y=\"153.337168\" style=\"fill: #ff0000; stroke: #ff0000\"/>\n     <use xlink:href=\"#m258434bb3c\" x=\"323.227632\" y=\"174.519887\" style=\"fill: #ff0000; stroke: #ff0000\"/>\n     <use xlink:href=\"#m258434bb3c\" x=\"323.604919\" y=\"158.738432\" style=\"fill: #ff0000; stroke: #ff0000\"/>\n     <use xlink:href=\"#m258434bb3c\" x=\"323.982205\" y=\"136.306095\" style=\"fill: #ff0000; stroke: #ff0000\"/>\n     <use xlink:href=\"#m258434bb3c\" x=\"324.359491\" y=\"141.826455\" style=\"fill: #ff0000; stroke: #ff0000\"/>\n     <use xlink:href=\"#m258434bb3c\" x=\"324.736778\" y=\"172.520331\" style=\"fill: #ff0000; stroke: #ff0000\"/>\n     <use xlink:href=\"#m258434bb3c\" x=\"325.114064\" y=\"159.666141\" style=\"fill: #ff0000; stroke: #ff0000\"/>\n     <use xlink:href=\"#m258434bb3c\" x=\"325.491351\" y=\"187.253549\" style=\"fill: #ff0000; stroke: #ff0000\"/>\n     <use xlink:href=\"#m258434bb3c\" x=\"325.868637\" y=\"146.15649\" style=\"fill: #ff0000; stroke: #ff0000\"/>\n     <use xlink:href=\"#m258434bb3c\" x=\"326.245923\" y=\"176.990516\" style=\"fill: #ff0000; stroke: #ff0000\"/>\n     <use xlink:href=\"#m258434bb3c\" x=\"326.621214\" y=\"150.399642\" style=\"fill: #ff0000; stroke: #ff0000\"/>\n     <use xlink:href=\"#m258434bb3c\" x=\"326.9985\" y=\"188.606274\" style=\"fill: #ff0000; stroke: #ff0000\"/>\n     <use xlink:href=\"#m258434bb3c\" x=\"327.375787\" y=\"177.049437\" style=\"fill: #ff0000; stroke: #ff0000\"/>\n     <use xlink:href=\"#m258434bb3c\" x=\"327.753073\" y=\"182.933456\" style=\"fill: #ff0000; stroke: #ff0000\"/>\n     <use xlink:href=\"#m258434bb3c\" x=\"328.130359\" y=\"150.874796\" style=\"fill: #ff0000; stroke: #ff0000\"/>\n     <use xlink:href=\"#m258434bb3c\" x=\"328.507646\" y=\"180.693116\" style=\"fill: #ff0000; stroke: #ff0000\"/>\n     <use xlink:href=\"#m258434bb3c\" x=\"328.884932\" y=\"165.306353\" style=\"fill: #ff0000; stroke: #ff0000\"/>\n     <use xlink:href=\"#m258434bb3c\" x=\"329.262219\" y=\"139.228482\" style=\"fill: #ff0000; stroke: #ff0000\"/>\n     <use xlink:href=\"#m258434bb3c\" x=\"329.639505\" y=\"158.508188\" style=\"fill: #ff0000; stroke: #ff0000\"/>\n     <use xlink:href=\"#m258434bb3c\" x=\"330.016791\" y=\"170.672215\" style=\"fill: #ff0000; stroke: #ff0000\"/>\n     <use xlink:href=\"#m258434bb3c\" x=\"330.394078\" y=\"137.260343\" style=\"fill: #ff0000; stroke: #ff0000\"/>\n     <use xlink:href=\"#m258434bb3c\" x=\"330.771364\" y=\"180.115587\" style=\"fill: #ff0000; stroke: #ff0000\"/>\n     <use xlink:href=\"#m258434bb3c\" x=\"331.148651\" y=\"173.627538\" style=\"fill: #ff0000; stroke: #ff0000\"/>\n     <use xlink:href=\"#m258434bb3c\" x=\"331.525937\" y=\"187.911233\" style=\"fill: #ff0000; stroke: #ff0000\"/>\n     <use xlink:href=\"#m258434bb3c\" x=\"331.903224\" y=\"189.509208\" style=\"fill: #ff0000; stroke: #ff0000\"/>\n     <use xlink:href=\"#m258434bb3c\" x=\"332.28051\" y=\"192.048217\" style=\"fill: #ff0000; stroke: #ff0000\"/>\n     <use xlink:href=\"#m258434bb3c\" x=\"332.657796\" y=\"152.585041\" style=\"fill: #ff0000; stroke: #ff0000\"/>\n     <use xlink:href=\"#m258434bb3c\" x=\"333.035083\" y=\"145.285563\" style=\"fill: #ff0000; stroke: #ff0000\"/>\n     <use xlink:href=\"#m258434bb3c\" x=\"333.412369\" y=\"153.608103\" style=\"fill: #ff0000; stroke: #ff0000\"/>\n     <use xlink:href=\"#m258434bb3c\" x=\"333.789656\" y=\"147.251584\" style=\"fill: #ff0000; stroke: #ff0000\"/>\n     <use xlink:href=\"#m258434bb3c\" x=\"334.166942\" y=\"125.300494\" style=\"fill: #ff0000; stroke: #ff0000\"/>\n     <use xlink:href=\"#m258434bb3c\" x=\"334.544229\" y=\"167.25913\" style=\"fill: #ff0000; stroke: #ff0000\"/>\n     <use xlink:href=\"#m258434bb3c\" x=\"334.921515\" y=\"166.324051\" style=\"fill: #ff0000; stroke: #ff0000\"/>\n     <use xlink:href=\"#m258434bb3c\" x=\"335.296805\" y=\"155.073627\" style=\"fill: #ff0000; stroke: #ff0000\"/>\n     <use xlink:href=\"#m258434bb3c\" x=\"335.674092\" y=\"179.65379\" style=\"fill: #ff0000; stroke: #ff0000\"/>\n     <use xlink:href=\"#m258434bb3c\" x=\"336.051378\" y=\"174.359302\" style=\"fill: #ff0000; stroke: #ff0000\"/>\n     <use xlink:href=\"#m258434bb3c\" x=\"336.428664\" y=\"166.435649\" style=\"fill: #ff0000; stroke: #ff0000\"/>\n     <use xlink:href=\"#m258434bb3c\" x=\"336.805951\" y=\"145.402508\" style=\"fill: #ff0000; stroke: #ff0000\"/>\n     <use xlink:href=\"#m258434bb3c\" x=\"337.183237\" y=\"183.164021\" style=\"fill: #ff0000; stroke: #ff0000\"/>\n     <use xlink:href=\"#m258434bb3c\" x=\"337.560524\" y=\"148.411098\" style=\"fill: #ff0000; stroke: #ff0000\"/>\n     <use xlink:href=\"#m258434bb3c\" x=\"337.93781\" y=\"161.661382\" style=\"fill: #ff0000; stroke: #ff0000\"/>\n     <use xlink:href=\"#m258434bb3c\" x=\"338.315097\" y=\"161.654547\" style=\"fill: #ff0000; stroke: #ff0000\"/>\n     <use xlink:href=\"#m258434bb3c\" x=\"338.692383\" y=\"159.196478\" style=\"fill: #ff0000; stroke: #ff0000\"/>\n     <use xlink:href=\"#m258434bb3c\" x=\"339.069669\" y=\"136.496675\" style=\"fill: #ff0000; stroke: #ff0000\"/>\n     <use xlink:href=\"#m258434bb3c\" x=\"339.446956\" y=\"158.835429\" style=\"fill: #ff0000; stroke: #ff0000\"/>\n     <use xlink:href=\"#m258434bb3c\" x=\"339.824242\" y=\"158.783122\" style=\"fill: #ff0000; stroke: #ff0000\"/>\n     <use xlink:href=\"#m258434bb3c\" x=\"340.201529\" y=\"187.269347\" style=\"fill: #ff0000; stroke: #ff0000\"/>\n     <use xlink:href=\"#m258434bb3c\" x=\"340.578815\" y=\"179.961711\" style=\"fill: #ff0000; stroke: #ff0000\"/>\n     <use xlink:href=\"#m258434bb3c\" x=\"340.956101\" y=\"186.291353\" style=\"fill: #ff0000; stroke: #ff0000\"/>\n     <use xlink:href=\"#m258434bb3c\" x=\"341.333388\" y=\"158.659621\" style=\"fill: #ff0000; stroke: #ff0000\"/>\n     <use xlink:href=\"#m258434bb3c\" x=\"341.710674\" y=\"159.34913\" style=\"fill: #ff0000; stroke: #ff0000\"/>\n     <use xlink:href=\"#m258434bb3c\" x=\"342.087961\" y=\"116.892001\" style=\"fill: #ff0000; stroke: #ff0000\"/>\n     <use xlink:href=\"#m258434bb3c\" x=\"342.465247\" y=\"165.1252\" style=\"fill: #ff0000; stroke: #ff0000\"/>\n     <use xlink:href=\"#m258434bb3c\" x=\"342.842534\" y=\"129.97951\" style=\"fill: #ff0000; stroke: #ff0000\"/>\n     <use xlink:href=\"#m258434bb3c\" x=\"343.21982\" y=\"130.713409\" style=\"fill: #ff0000; stroke: #ff0000\"/>\n     <use xlink:href=\"#m258434bb3c\" x=\"343.59511\" y=\"146.946615\" style=\"fill: #ff0000; stroke: #ff0000\"/>\n     <use xlink:href=\"#m258434bb3c\" x=\"343.972397\" y=\"175.94618\" style=\"fill: #ff0000; stroke: #ff0000\"/>\n     <use xlink:href=\"#m258434bb3c\" x=\"344.349683\" y=\"171.512855\" style=\"fill: #ff0000; stroke: #ff0000\"/>\n     <use xlink:href=\"#m258434bb3c\" x=\"344.726969\" y=\"146.156014\" style=\"fill: #ff0000; stroke: #ff0000\"/>\n     <use xlink:href=\"#m258434bb3c\" x=\"345.104256\" y=\"172.883018\" style=\"fill: #ff0000; stroke: #ff0000\"/>\n     <use xlink:href=\"#m258434bb3c\" x=\"345.481542\" y=\"153.748749\" style=\"fill: #ff0000; stroke: #ff0000\"/>\n     <use xlink:href=\"#m258434bb3c\" x=\"345.858829\" y=\"175.678807\" style=\"fill: #ff0000; stroke: #ff0000\"/>\n     <use xlink:href=\"#m258434bb3c\" x=\"346.236115\" y=\"149.923764\" style=\"fill: #ff0000; stroke: #ff0000\"/>\n     <use xlink:href=\"#m258434bb3c\" x=\"346.613402\" y=\"205.732098\" style=\"fill: #ff0000; stroke: #ff0000\"/>\n     <use xlink:href=\"#m258434bb3c\" x=\"346.990688\" y=\"156.472252\" style=\"fill: #ff0000; stroke: #ff0000\"/>\n     <use xlink:href=\"#m258434bb3c\" x=\"347.367974\" y=\"182.872194\" style=\"fill: #ff0000; stroke: #ff0000\"/>\n     <use xlink:href=\"#m258434bb3c\" x=\"347.745261\" y=\"184.122264\" style=\"fill: #ff0000; stroke: #ff0000\"/>\n     <use xlink:href=\"#m258434bb3c\" x=\"348.122547\" y=\"149.01799\" style=\"fill: #ff0000; stroke: #ff0000\"/>\n     <use xlink:href=\"#m258434bb3c\" x=\"348.499834\" y=\"133.713973\" style=\"fill: #ff0000; stroke: #ff0000\"/>\n     <use xlink:href=\"#m258434bb3c\" x=\"348.87712\" y=\"143.591931\" style=\"fill: #ff0000; stroke: #ff0000\"/>\n     <use xlink:href=\"#m258434bb3c\" x=\"349.254406\" y=\"170.343629\" style=\"fill: #ff0000; stroke: #ff0000\"/>\n     <use xlink:href=\"#m258434bb3c\" x=\"349.631693\" y=\"172.936141\" style=\"fill: #ff0000; stroke: #ff0000\"/>\n     <use xlink:href=\"#m258434bb3c\" x=\"350.008979\" y=\"176.663819\" style=\"fill: #ff0000; stroke: #ff0000\"/>\n     <use xlink:href=\"#m258434bb3c\" x=\"350.386266\" y=\"194.480513\" style=\"fill: #ff0000; stroke: #ff0000\"/>\n     <use xlink:href=\"#m258434bb3c\" x=\"350.763552\" y=\"175.287986\" style=\"fill: #ff0000; stroke: #ff0000\"/>\n     <use xlink:href=\"#m258434bb3c\" x=\"351.140839\" y=\"178.558013\" style=\"fill: #ff0000; stroke: #ff0000\"/>\n     <use xlink:href=\"#m258434bb3c\" x=\"351.518125\" y=\"168.491751\" style=\"fill: #ff0000; stroke: #ff0000\"/>\n     <use xlink:href=\"#m258434bb3c\" x=\"351.893415\" y=\"160.321452\" style=\"fill: #ff0000; stroke: #ff0000\"/>\n     <use xlink:href=\"#m258434bb3c\" x=\"352.270702\" y=\"144.254807\" style=\"fill: #ff0000; stroke: #ff0000\"/>\n     <use xlink:href=\"#m258434bb3c\" x=\"352.647988\" y=\"134.136675\" style=\"fill: #ff0000; stroke: #ff0000\"/>\n     <use xlink:href=\"#m258434bb3c\" x=\"353.025274\" y=\"153.019811\" style=\"fill: #ff0000; stroke: #ff0000\"/>\n     <use xlink:href=\"#m258434bb3c\" x=\"353.402561\" y=\"164.324951\" style=\"fill: #ff0000; stroke: #ff0000\"/>\n     <use xlink:href=\"#m258434bb3c\" x=\"353.779847\" y=\"178.210109\" style=\"fill: #ff0000; stroke: #ff0000\"/>\n     <use xlink:href=\"#m258434bb3c\" x=\"354.157134\" y=\"168.84962\" style=\"fill: #ff0000; stroke: #ff0000\"/>\n     <use xlink:href=\"#m258434bb3c\" x=\"354.53442\" y=\"185.827029\" style=\"fill: #ff0000; stroke: #ff0000\"/>\n     <use xlink:href=\"#m258434bb3c\" x=\"354.911707\" y=\"179.784357\" style=\"fill: #ff0000; stroke: #ff0000\"/>\n     <use xlink:href=\"#m258434bb3c\" x=\"355.288993\" y=\"166.476015\" style=\"fill: #ff0000; stroke: #ff0000\"/>\n     <use xlink:href=\"#m258434bb3c\" x=\"355.666279\" y=\"143.844157\" style=\"fill: #ff0000; stroke: #ff0000\"/>\n     <use xlink:href=\"#m258434bb3c\" x=\"356.043566\" y=\"161.949497\" style=\"fill: #ff0000; stroke: #ff0000\"/>\n     <use xlink:href=\"#m258434bb3c\" x=\"356.420852\" y=\"142.098604\" style=\"fill: #ff0000; stroke: #ff0000\"/>\n     <use xlink:href=\"#m258434bb3c\" x=\"356.798139\" y=\"144.638916\" style=\"fill: #ff0000; stroke: #ff0000\"/>\n     <use xlink:href=\"#m258434bb3c\" x=\"357.175425\" y=\"146.654711\" style=\"fill: #ff0000; stroke: #ff0000\"/>\n     <use xlink:href=\"#m258434bb3c\" x=\"357.552712\" y=\"184.104516\" style=\"fill: #ff0000; stroke: #ff0000\"/>\n     <use xlink:href=\"#m258434bb3c\" x=\"357.929998\" y=\"178.946557\" style=\"fill: #ff0000; stroke: #ff0000\"/>\n     <use xlink:href=\"#m258434bb3c\" x=\"358.307284\" y=\"172.773241\" style=\"fill: #ff0000; stroke: #ff0000\"/>\n     <use xlink:href=\"#m258434bb3c\" x=\"358.684571\" y=\"159.620079\" style=\"fill: #ff0000; stroke: #ff0000\"/>\n     <use xlink:href=\"#m258434bb3c\" x=\"359.061857\" y=\"134.600023\" style=\"fill: #ff0000; stroke: #ff0000\"/>\n     <use xlink:href=\"#m258434bb3c\" x=\"359.439144\" y=\"126.482793\" style=\"fill: #ff0000; stroke: #ff0000\"/>\n     <use xlink:href=\"#m258434bb3c\" x=\"359.81643\" y=\"176.627154\" style=\"fill: #ff0000; stroke: #ff0000\"/>\n     <use xlink:href=\"#m258434bb3c\" x=\"360.193716\" y=\"144.749861\" style=\"fill: #ff0000; stroke: #ff0000\"/>\n     <use xlink:href=\"#m258434bb3c\" x=\"360.569007\" y=\"187.365783\" style=\"fill: #ff0000; stroke: #ff0000\"/>\n     <use xlink:href=\"#m258434bb3c\" x=\"360.946293\" y=\"155.184337\" style=\"fill: #ff0000; stroke: #ff0000\"/>\n     <use xlink:href=\"#m258434bb3c\" x=\"361.32358\" y=\"151.603419\" style=\"fill: #ff0000; stroke: #ff0000\"/>\n     <use xlink:href=\"#m258434bb3c\" x=\"361.700866\" y=\"169.257675\" style=\"fill: #ff0000; stroke: #ff0000\"/>\n     <use xlink:href=\"#m258434bb3c\" x=\"362.078152\" y=\"130.120048\" style=\"fill: #ff0000; stroke: #ff0000\"/>\n     <use xlink:href=\"#m258434bb3c\" x=\"362.455439\" y=\"159.333583\" style=\"fill: #ff0000; stroke: #ff0000\"/>\n     <use xlink:href=\"#m258434bb3c\" x=\"362.832725\" y=\"131.521513\" style=\"fill: #ff0000; stroke: #ff0000\"/>\n     <use xlink:href=\"#m258434bb3c\" x=\"363.210012\" y=\"211.766484\" style=\"fill: #ff0000; stroke: #ff0000\"/>\n     <use xlink:href=\"#m258434bb3c\" x=\"363.587298\" y=\"174.038216\" style=\"fill: #ff0000; stroke: #ff0000\"/>\n     <use xlink:href=\"#m258434bb3c\" x=\"363.964584\" y=\"178.782906\" style=\"fill: #ff0000; stroke: #ff0000\"/>\n     <use xlink:href=\"#m258434bb3c\" x=\"364.341871\" y=\"162.681497\" style=\"fill: #ff0000; stroke: #ff0000\"/>\n     <use xlink:href=\"#m258434bb3c\" x=\"364.719157\" y=\"152.877041\" style=\"fill: #ff0000; stroke: #ff0000\"/>\n     <use xlink:href=\"#m258434bb3c\" x=\"365.096444\" y=\"159.858399\" style=\"fill: #ff0000; stroke: #ff0000\"/>\n     <use xlink:href=\"#m258434bb3c\" x=\"365.47373\" y=\"161.213899\" style=\"fill: #ff0000; stroke: #ff0000\"/>\n     <use xlink:href=\"#m258434bb3c\" x=\"365.851017\" y=\"161.03028\" style=\"fill: #ff0000; stroke: #ff0000\"/>\n     <use xlink:href=\"#m258434bb3c\" x=\"366.228303\" y=\"154.969838\" style=\"fill: #ff0000; stroke: #ff0000\"/>\n     <use xlink:href=\"#m258434bb3c\" x=\"366.605589\" y=\"196.269628\" style=\"fill: #ff0000; stroke: #ff0000\"/>\n     <use xlink:href=\"#m258434bb3c\" x=\"366.982876\" y=\"168.223581\" style=\"fill: #ff0000; stroke: #ff0000\"/>\n     <use xlink:href=\"#m258434bb3c\" x=\"367.360162\" y=\"153.682908\" style=\"fill: #ff0000; stroke: #ff0000\"/>\n     <use xlink:href=\"#m258434bb3c\" x=\"367.737449\" y=\"157.221943\" style=\"fill: #ff0000; stroke: #ff0000\"/>\n     <use xlink:href=\"#m258434bb3c\" x=\"368.114735\" y=\"150.760473\" style=\"fill: #ff0000; stroke: #ff0000\"/>\n     <use xlink:href=\"#m258434bb3c\" x=\"368.492022\" y=\"192.583558\" style=\"fill: #ff0000; stroke: #ff0000\"/>\n     <use xlink:href=\"#m258434bb3c\" x=\"368.867312\" y=\"168.339291\" style=\"fill: #ff0000; stroke: #ff0000\"/>\n     <use xlink:href=\"#m258434bb3c\" x=\"369.244598\" y=\"165.619836\" style=\"fill: #ff0000; stroke: #ff0000\"/>\n     <use xlink:href=\"#m258434bb3c\" x=\"369.621885\" y=\"180.181634\" style=\"fill: #ff0000; stroke: #ff0000\"/>\n     <use xlink:href=\"#m258434bb3c\" x=\"369.999171\" y=\"146.263561\" style=\"fill: #ff0000; stroke: #ff0000\"/>\n     <use xlink:href=\"#m258434bb3c\" x=\"370.376457\" y=\"147.343451\" style=\"fill: #ff0000; stroke: #ff0000\"/>\n     <use xlink:href=\"#m258434bb3c\" x=\"370.753744\" y=\"153.170697\" style=\"fill: #ff0000; stroke: #ff0000\"/>\n     <use xlink:href=\"#m258434bb3c\" x=\"371.13103\" y=\"165.216803\" style=\"fill: #ff0000; stroke: #ff0000\"/>\n     <use xlink:href=\"#m258434bb3c\" x=\"371.508317\" y=\"159.577606\" style=\"fill: #ff0000; stroke: #ff0000\"/>\n     <use xlink:href=\"#m258434bb3c\" x=\"371.885603\" y=\"154.520559\" style=\"fill: #ff0000; stroke: #ff0000\"/>\n     <use xlink:href=\"#m258434bb3c\" x=\"372.26289\" y=\"171.54602\" style=\"fill: #ff0000; stroke: #ff0000\"/>\n     <use xlink:href=\"#m258434bb3c\" x=\"372.640176\" y=\"152.94288\" style=\"fill: #ff0000; stroke: #ff0000\"/>\n     <use xlink:href=\"#m258434bb3c\" x=\"373.017462\" y=\"148.568803\" style=\"fill: #ff0000; stroke: #ff0000\"/>\n     <use xlink:href=\"#m258434bb3c\" x=\"373.394749\" y=\"181.157553\" style=\"fill: #ff0000; stroke: #ff0000\"/>\n     <use xlink:href=\"#m258434bb3c\" x=\"373.772035\" y=\"152.151258\" style=\"fill: #ff0000; stroke: #ff0000\"/>\n     <use xlink:href=\"#m258434bb3c\" x=\"374.149322\" y=\"174.953226\" style=\"fill: #ff0000; stroke: #ff0000\"/>\n     <use xlink:href=\"#m258434bb3c\" x=\"374.526608\" y=\"167.042892\" style=\"fill: #ff0000; stroke: #ff0000\"/>\n     <use xlink:href=\"#m258434bb3c\" x=\"374.903894\" y=\"132.133551\" style=\"fill: #ff0000; stroke: #ff0000\"/>\n     <use xlink:href=\"#m258434bb3c\" x=\"375.281181\" y=\"182.985888\" style=\"fill: #ff0000; stroke: #ff0000\"/>\n     <use xlink:href=\"#m258434bb3c\" x=\"375.658467\" y=\"169.414044\" style=\"fill: #ff0000; stroke: #ff0000\"/>\n     <use xlink:href=\"#m258434bb3c\" x=\"376.035754\" y=\"154.648577\" style=\"fill: #ff0000; stroke: #ff0000\"/>\n     <use xlink:href=\"#m258434bb3c\" x=\"376.41304\" y=\"164.032227\" style=\"fill: #ff0000; stroke: #ff0000\"/>\n     <use xlink:href=\"#m258434bb3c\" x=\"376.790327\" y=\"182.561008\" style=\"fill: #ff0000; stroke: #ff0000\"/>\n     <use xlink:href=\"#m258434bb3c\" x=\"377.165617\" y=\"148.508553\" style=\"fill: #ff0000; stroke: #ff0000\"/>\n     <use xlink:href=\"#m258434bb3c\" x=\"377.542903\" y=\"154.735355\" style=\"fill: #ff0000; stroke: #ff0000\"/>\n     <use xlink:href=\"#m258434bb3c\" x=\"377.92019\" y=\"169.039206\" style=\"fill: #ff0000; stroke: #ff0000\"/>\n     <use xlink:href=\"#m258434bb3c\" x=\"378.297476\" y=\"173.239872\" style=\"fill: #ff0000; stroke: #ff0000\"/>\n     <use xlink:href=\"#m258434bb3c\" x=\"378.674762\" y=\"182.205993\" style=\"fill: #ff0000; stroke: #ff0000\"/>\n     <use xlink:href=\"#m258434bb3c\" x=\"379.052049\" y=\"137.978102\" style=\"fill: #ff0000; stroke: #ff0000\"/>\n     <use xlink:href=\"#m258434bb3c\" x=\"379.429335\" y=\"177.197372\" style=\"fill: #ff0000; stroke: #ff0000\"/>\n     <use xlink:href=\"#m258434bb3c\" x=\"379.806622\" y=\"161.06981\" style=\"fill: #ff0000; stroke: #ff0000\"/>\n     <use xlink:href=\"#m258434bb3c\" x=\"380.183908\" y=\"158.937973\" style=\"fill: #ff0000; stroke: #ff0000\"/>\n     <use xlink:href=\"#m258434bb3c\" x=\"380.561195\" y=\"163.286976\" style=\"fill: #ff0000; stroke: #ff0000\"/>\n     <use xlink:href=\"#m258434bb3c\" x=\"380.938481\" y=\"178.283873\" style=\"fill: #ff0000; stroke: #ff0000\"/>\n     <use xlink:href=\"#m258434bb3c\" x=\"381.315767\" y=\"182.900881\" style=\"fill: #ff0000; stroke: #ff0000\"/>\n     <use xlink:href=\"#m258434bb3c\" x=\"381.693054\" y=\"156.501782\" style=\"fill: #ff0000; stroke: #ff0000\"/>\n     <use xlink:href=\"#m258434bb3c\" x=\"382.07034\" y=\"153.231698\" style=\"fill: #ff0000; stroke: #ff0000\"/>\n     <use xlink:href=\"#m258434bb3c\" x=\"382.447627\" y=\"186.865613\" style=\"fill: #ff0000; stroke: #ff0000\"/>\n     <use xlink:href=\"#m258434bb3c\" x=\"382.824913\" y=\"181.465023\" style=\"fill: #ff0000; stroke: #ff0000\"/>\n     <use xlink:href=\"#m258434bb3c\" x=\"383.202199\" y=\"179.06058\" style=\"fill: #ff0000; stroke: #ff0000\"/>\n     <use xlink:href=\"#m258434bb3c\" x=\"383.579486\" y=\"173.130689\" style=\"fill: #ff0000; stroke: #ff0000\"/>\n     <use xlink:href=\"#m258434bb3c\" x=\"383.956772\" y=\"180.470832\" style=\"fill: #ff0000; stroke: #ff0000\"/>\n     <use xlink:href=\"#m258434bb3c\" x=\"384.334059\" y=\"155.183902\" style=\"fill: #ff0000; stroke: #ff0000\"/>\n     <use xlink:href=\"#m258434bb3c\" x=\"384.711345\" y=\"179.888495\" style=\"fill: #ff0000; stroke: #ff0000\"/>\n     <use xlink:href=\"#m258434bb3c\" x=\"385.088632\" y=\"139.058481\" style=\"fill: #ff0000; stroke: #ff0000\"/>\n     <use xlink:href=\"#m258434bb3c\" x=\"385.465918\" y=\"162.038529\" style=\"fill: #ff0000; stroke: #ff0000\"/>\n     <use xlink:href=\"#m258434bb3c\" x=\"385.841208\" y=\"150.236091\" style=\"fill: #ff0000; stroke: #ff0000\"/>\n     <use xlink:href=\"#m258434bb3c\" x=\"386.218495\" y=\"148.796257\" style=\"fill: #ff0000; stroke: #ff0000\"/>\n     <use xlink:href=\"#m258434bb3c\" x=\"386.595781\" y=\"156.91818\" style=\"fill: #ff0000; stroke: #ff0000\"/>\n     <use xlink:href=\"#m258434bb3c\" x=\"386.973067\" y=\"134.541246\" style=\"fill: #ff0000; stroke: #ff0000\"/>\n     <use xlink:href=\"#m258434bb3c\" x=\"387.350354\" y=\"139.435843\" style=\"fill: #ff0000; stroke: #ff0000\"/>\n     <use xlink:href=\"#m258434bb3c\" x=\"387.72764\" y=\"142.322497\" style=\"fill: #ff0000; stroke: #ff0000\"/>\n     <use xlink:href=\"#m258434bb3c\" x=\"388.104927\" y=\"147.705194\" style=\"fill: #ff0000; stroke: #ff0000\"/>\n     <use xlink:href=\"#m258434bb3c\" x=\"388.482213\" y=\"164.227785\" style=\"fill: #ff0000; stroke: #ff0000\"/>\n     <use xlink:href=\"#m258434bb3c\" x=\"388.8595\" y=\"158.676934\" style=\"fill: #ff0000; stroke: #ff0000\"/>\n     <use xlink:href=\"#m258434bb3c\" x=\"389.236786\" y=\"156.590407\" style=\"fill: #ff0000; stroke: #ff0000\"/>\n     <use xlink:href=\"#m258434bb3c\" x=\"389.614072\" y=\"145.095208\" style=\"fill: #ff0000; stroke: #ff0000\"/>\n     <use xlink:href=\"#m258434bb3c\" x=\"389.991359\" y=\"165.787267\" style=\"fill: #ff0000; stroke: #ff0000\"/>\n     <use xlink:href=\"#m258434bb3c\" x=\"390.368645\" y=\"153.398194\" style=\"fill: #ff0000; stroke: #ff0000\"/>\n     <use xlink:href=\"#m258434bb3c\" x=\"390.745932\" y=\"171.991363\" style=\"fill: #ff0000; stroke: #ff0000\"/>\n     <use xlink:href=\"#m258434bb3c\" x=\"391.123218\" y=\"144.52901\" style=\"fill: #ff0000; stroke: #ff0000\"/>\n     <use xlink:href=\"#m258434bb3c\" x=\"391.500505\" y=\"166.960907\" style=\"fill: #ff0000; stroke: #ff0000\"/>\n     <use xlink:href=\"#m258434bb3c\" x=\"391.877791\" y=\"158.731753\" style=\"fill: #ff0000; stroke: #ff0000\"/>\n     <use xlink:href=\"#m258434bb3c\" x=\"392.255077\" y=\"151.170124\" style=\"fill: #ff0000; stroke: #ff0000\"/>\n     <use xlink:href=\"#m258434bb3c\" x=\"392.632364\" y=\"159.753109\" style=\"fill: #ff0000; stroke: #ff0000\"/>\n     <use xlink:href=\"#m258434bb3c\" x=\"393.00965\" y=\"150.725413\" style=\"fill: #ff0000; stroke: #ff0000\"/>\n     <use xlink:href=\"#m258434bb3c\" x=\"393.386937\" y=\"141.67942\" style=\"fill: #ff0000; stroke: #ff0000\"/>\n     <use xlink:href=\"#m258434bb3c\" x=\"393.764223\" y=\"142.676604\" style=\"fill: #ff0000; stroke: #ff0000\"/>\n     <use xlink:href=\"#m258434bb3c\" x=\"394.139513\" y=\"142.885919\" style=\"fill: #ff0000; stroke: #ff0000\"/>\n     <use xlink:href=\"#m258434bb3c\" x=\"394.5168\" y=\"118.064316\" style=\"fill: #ff0000; stroke: #ff0000\"/>\n     <use xlink:href=\"#m258434bb3c\" x=\"394.894086\" y=\"159.883009\" style=\"fill: #ff0000; stroke: #ff0000\"/>\n     <use xlink:href=\"#m258434bb3c\" x=\"395.271373\" y=\"149.791005\" style=\"fill: #ff0000; stroke: #ff0000\"/>\n     <use xlink:href=\"#m258434bb3c\" x=\"395.648659\" y=\"202.485092\" style=\"fill: #ff0000; stroke: #ff0000\"/>\n     <use xlink:href=\"#m258434bb3c\" x=\"396.025945\" y=\"164.155633\" style=\"fill: #ff0000; stroke: #ff0000\"/>\n     <use xlink:href=\"#m258434bb3c\" x=\"396.403232\" y=\"160.095007\" style=\"fill: #ff0000; stroke: #ff0000\"/>\n     <use xlink:href=\"#m258434bb3c\" x=\"396.780518\" y=\"165.408559\" style=\"fill: #ff0000; stroke: #ff0000\"/>\n     <use xlink:href=\"#m258434bb3c\" x=\"397.157805\" y=\"155.52653\" style=\"fill: #ff0000; stroke: #ff0000\"/>\n     <use xlink:href=\"#m258434bb3c\" x=\"397.535091\" y=\"170.12063\" style=\"fill: #ff0000; stroke: #ff0000\"/>\n     <use xlink:href=\"#m258434bb3c\" x=\"397.912377\" y=\"153.46268\" style=\"fill: #ff0000; stroke: #ff0000\"/>\n     <use xlink:href=\"#m258434bb3c\" x=\"398.289664\" y=\"183.044739\" style=\"fill: #ff0000; stroke: #ff0000\"/>\n     <use xlink:href=\"#m258434bb3c\" x=\"398.66695\" y=\"158.820164\" style=\"fill: #ff0000; stroke: #ff0000\"/>\n     <use xlink:href=\"#m258434bb3c\" x=\"399.044237\" y=\"161.875749\" style=\"fill: #ff0000; stroke: #ff0000\"/>\n     <use xlink:href=\"#m258434bb3c\" x=\"399.421523\" y=\"141.504385\" style=\"fill: #ff0000; stroke: #ff0000\"/>\n     <use xlink:href=\"#m258434bb3c\" x=\"399.79881\" y=\"105.941004\" style=\"fill: #ff0000; stroke: #ff0000\"/>\n     <use xlink:href=\"#m258434bb3c\" x=\"400.176096\" y=\"176.707204\" style=\"fill: #ff0000; stroke: #ff0000\"/>\n     <use xlink:href=\"#m258434bb3c\" x=\"400.553382\" y=\"163.41916\" style=\"fill: #ff0000; stroke: #ff0000\"/>\n     <use xlink:href=\"#m258434bb3c\" x=\"400.930669\" y=\"169.130196\" style=\"fill: #ff0000; stroke: #ff0000\"/>\n     <use xlink:href=\"#m258434bb3c\" x=\"401.307955\" y=\"146.931267\" style=\"fill: #ff0000; stroke: #ff0000\"/>\n     <use xlink:href=\"#m258434bb3c\" x=\"401.685242\" y=\"171.861969\" style=\"fill: #ff0000; stroke: #ff0000\"/>\n     <use xlink:href=\"#m258434bb3c\" x=\"402.062528\" y=\"146.162096\" style=\"fill: #ff0000; stroke: #ff0000\"/>\n     <use xlink:href=\"#m258434bb3c\" x=\"402.437818\" y=\"154.567532\" style=\"fill: #ff0000; stroke: #ff0000\"/>\n     <use xlink:href=\"#m258434bb3c\" x=\"402.815105\" y=\"160.233338\" style=\"fill: #ff0000; stroke: #ff0000\"/>\n     <use xlink:href=\"#m258434bb3c\" x=\"403.192391\" y=\"155.059264\" style=\"fill: #ff0000; stroke: #ff0000\"/>\n     <use xlink:href=\"#m258434bb3c\" x=\"403.569678\" y=\"161.502905\" style=\"fill: #ff0000; stroke: #ff0000\"/>\n     <use xlink:href=\"#m258434bb3c\" x=\"403.946964\" y=\"133.285208\" style=\"fill: #ff0000; stroke: #ff0000\"/>\n     <use xlink:href=\"#m258434bb3c\" x=\"404.32425\" y=\"179.558071\" style=\"fill: #ff0000; stroke: #ff0000\"/>\n     <use xlink:href=\"#m258434bb3c\" x=\"404.701537\" y=\"158.101278\" style=\"fill: #ff0000; stroke: #ff0000\"/>\n     <use xlink:href=\"#m258434bb3c\" x=\"405.078823\" y=\"163.949696\" style=\"fill: #ff0000; stroke: #ff0000\"/>\n     <use xlink:href=\"#m258434bb3c\" x=\"405.45611\" y=\"170.352252\" style=\"fill: #ff0000; stroke: #ff0000\"/>\n     <use xlink:href=\"#m258434bb3c\" x=\"405.833396\" y=\"179.578596\" style=\"fill: #ff0000; stroke: #ff0000\"/>\n     <use xlink:href=\"#m258434bb3c\" x=\"406.210682\" y=\"173.862002\" style=\"fill: #ff0000; stroke: #ff0000\"/>\n     <use xlink:href=\"#m258434bb3c\" x=\"406.587969\" y=\"147.261242\" style=\"fill: #ff0000; stroke: #ff0000\"/>\n     <use xlink:href=\"#m258434bb3c\" x=\"406.965255\" y=\"154.841639\" style=\"fill: #ff0000; stroke: #ff0000\"/>\n     <use xlink:href=\"#m258434bb3c\" x=\"407.342542\" y=\"159.783772\" style=\"fill: #ff0000; stroke: #ff0000\"/>\n     <use xlink:href=\"#m258434bb3c\" x=\"407.719828\" y=\"180.902714\" style=\"fill: #ff0000; stroke: #ff0000\"/>\n     <use xlink:href=\"#m258434bb3c\" x=\"408.097115\" y=\"165.285164\" style=\"fill: #ff0000; stroke: #ff0000\"/>\n     <use xlink:href=\"#m258434bb3c\" x=\"408.474401\" y=\"199.431202\" style=\"fill: #ff0000; stroke: #ff0000\"/>\n     <use xlink:href=\"#m258434bb3c\" x=\"408.851687\" y=\"182.102025\" style=\"fill: #ff0000; stroke: #ff0000\"/>\n     <use xlink:href=\"#m258434bb3c\" x=\"409.228974\" y=\"160.218497\" style=\"fill: #ff0000; stroke: #ff0000\"/>\n     <use xlink:href=\"#m258434bb3c\" x=\"409.60626\" y=\"188.947615\" style=\"fill: #ff0000; stroke: #ff0000\"/>\n     <use xlink:href=\"#m258434bb3c\" x=\"409.983547\" y=\"192.3001\" style=\"fill: #ff0000; stroke: #ff0000\"/>\n     <use xlink:href=\"#m258434bb3c\" x=\"410.360833\" y=\"198.646855\" style=\"fill: #ff0000; stroke: #ff0000\"/>\n     <use xlink:href=\"#m258434bb3c\" x=\"410.73812\" y=\"151.502341\" style=\"fill: #ff0000; stroke: #ff0000\"/>\n     <use xlink:href=\"#m258434bb3c\" x=\"411.11341\" y=\"147.757673\" style=\"fill: #ff0000; stroke: #ff0000\"/>\n     <use xlink:href=\"#m258434bb3c\" x=\"411.490696\" y=\"144.426353\" style=\"fill: #ff0000; stroke: #ff0000\"/>\n     <use xlink:href=\"#m258434bb3c\" x=\"411.867983\" y=\"142.662596\" style=\"fill: #ff0000; stroke: #ff0000\"/>\n     <use xlink:href=\"#m258434bb3c\" x=\"412.245269\" y=\"179.996521\" style=\"fill: #ff0000; stroke: #ff0000\"/>\n     <use xlink:href=\"#m258434bb3c\" x=\"412.622555\" y=\"183.894241\" style=\"fill: #ff0000; stroke: #ff0000\"/>\n     <use xlink:href=\"#m258434bb3c\" x=\"412.999842\" y=\"184.072232\" style=\"fill: #ff0000; stroke: #ff0000\"/>\n     <use xlink:href=\"#m258434bb3c\" x=\"413.377128\" y=\"180.25169\" style=\"fill: #ff0000; stroke: #ff0000\"/>\n     <use xlink:href=\"#m258434bb3c\" x=\"413.754415\" y=\"157.201177\" style=\"fill: #ff0000; stroke: #ff0000\"/>\n     <use xlink:href=\"#m258434bb3c\" x=\"414.131701\" y=\"167.575613\" style=\"fill: #ff0000; stroke: #ff0000\"/>\n     <use xlink:href=\"#m258434bb3c\" x=\"414.508988\" y=\"173.378033\" style=\"fill: #ff0000; stroke: #ff0000\"/>\n     <use xlink:href=\"#m258434bb3c\" x=\"414.886274\" y=\"141.199183\" style=\"fill: #ff0000; stroke: #ff0000\"/>\n     <use xlink:href=\"#m258434bb3c\" x=\"415.26356\" y=\"149.518679\" style=\"fill: #ff0000; stroke: #ff0000\"/>\n     <use xlink:href=\"#m258434bb3c\" x=\"415.640847\" y=\"176.858257\" style=\"fill: #ff0000; stroke: #ff0000\"/>\n     <use xlink:href=\"#m258434bb3c\" x=\"416.018133\" y=\"193.620592\" style=\"fill: #ff0000; stroke: #ff0000\"/>\n     <use xlink:href=\"#m258434bb3c\" x=\"416.39542\" y=\"159.198858\" style=\"fill: #ff0000; stroke: #ff0000\"/>\n     <use xlink:href=\"#m258434bb3c\" x=\"416.772706\" y=\"187.222788\" style=\"fill: #ff0000; stroke: #ff0000\"/>\n     <use xlink:href=\"#m258434bb3c\" x=\"417.149992\" y=\"193.572418\" style=\"fill: #ff0000; stroke: #ff0000\"/>\n     <use xlink:href=\"#m258434bb3c\" x=\"417.527279\" y=\"179.424393\" style=\"fill: #ff0000; stroke: #ff0000\"/>\n     <use xlink:href=\"#m258434bb3c\" x=\"417.904565\" y=\"168.677061\" style=\"fill: #ff0000; stroke: #ff0000\"/>\n     <use xlink:href=\"#m258434bb3c\" x=\"418.281852\" y=\"177.130401\" style=\"fill: #ff0000; stroke: #ff0000\"/>\n     <use xlink:href=\"#m258434bb3c\" x=\"418.659138\" y=\"182.058001\" style=\"fill: #ff0000; stroke: #ff0000\"/>\n     <use xlink:href=\"#m258434bb3c\" x=\"419.036425\" y=\"183.80847\" style=\"fill: #ff0000; stroke: #ff0000\"/>\n     <use xlink:href=\"#m258434bb3c\" x=\"419.411715\" y=\"172.345971\" style=\"fill: #ff0000; stroke: #ff0000\"/>\n     <use xlink:href=\"#m258434bb3c\" x=\"419.789001\" y=\"155.565681\" style=\"fill: #ff0000; stroke: #ff0000\"/>\n     <use xlink:href=\"#m258434bb3c\" x=\"420.166288\" y=\"148.363956\" style=\"fill: #ff0000; stroke: #ff0000\"/>\n     <use xlink:href=\"#m258434bb3c\" x=\"420.543574\" y=\"155.88518\" style=\"fill: #ff0000; stroke: #ff0000\"/>\n     <use xlink:href=\"#m258434bb3c\" x=\"420.92086\" y=\"146.633673\" style=\"fill: #ff0000; stroke: #ff0000\"/>\n     <use xlink:href=\"#m258434bb3c\" x=\"421.298147\" y=\"178.151082\" style=\"fill: #ff0000; stroke: #ff0000\"/>\n     <use xlink:href=\"#m258434bb3c\" x=\"421.675433\" y=\"188.765388\" style=\"fill: #ff0000; stroke: #ff0000\"/>\n     <use xlink:href=\"#m258434bb3c\" x=\"422.05272\" y=\"188.348791\" style=\"fill: #ff0000; stroke: #ff0000\"/>\n     <use xlink:href=\"#m258434bb3c\" x=\"422.430006\" y=\"171.723832\" style=\"fill: #ff0000; stroke: #ff0000\"/>\n     <use xlink:href=\"#m258434bb3c\" x=\"422.807293\" y=\"184.732877\" style=\"fill: #ff0000; stroke: #ff0000\"/>\n     <use xlink:href=\"#m258434bb3c\" x=\"423.184579\" y=\"152.361733\" style=\"fill: #ff0000; stroke: #ff0000\"/>\n     <use xlink:href=\"#m258434bb3c\" x=\"423.561865\" y=\"155.79278\" style=\"fill: #ff0000; stroke: #ff0000\"/>\n     <use xlink:href=\"#m258434bb3c\" x=\"423.939152\" y=\"146.67435\" style=\"fill: #ff0000; stroke: #ff0000\"/>\n     <use xlink:href=\"#m258434bb3c\" x=\"424.316438\" y=\"168.695569\" style=\"fill: #ff0000; stroke: #ff0000\"/>\n     <use xlink:href=\"#m258434bb3c\" x=\"424.693725\" y=\"163.900184\" style=\"fill: #ff0000; stroke: #ff0000\"/>\n     <use xlink:href=\"#m258434bb3c\" x=\"425.071011\" y=\"182.321716\" style=\"fill: #ff0000; stroke: #ff0000\"/>\n     <use xlink:href=\"#m258434bb3c\" x=\"425.448298\" y=\"171.161007\" style=\"fill: #ff0000; stroke: #ff0000\"/>\n     <use xlink:href=\"#m258434bb3c\" x=\"425.825584\" y=\"153.890444\" style=\"fill: #ff0000; stroke: #ff0000\"/>\n     <use xlink:href=\"#m258434bb3c\" x=\"426.20287\" y=\"183.909366\" style=\"fill: #ff0000; stroke: #ff0000\"/>\n     <use xlink:href=\"#m258434bb3c\" x=\"426.580157\" y=\"174.738588\" style=\"fill: #ff0000; stroke: #ff0000\"/>\n     <use xlink:href=\"#m258434bb3c\" x=\"426.957443\" y=\"167.44021\" style=\"fill: #ff0000; stroke: #ff0000\"/>\n     <use xlink:href=\"#m258434bb3c\" x=\"427.33473\" y=\"151.947886\" style=\"fill: #ff0000; stroke: #ff0000\"/>\n     <use xlink:href=\"#m258434bb3c\" x=\"427.71002\" y=\"174.286703\" style=\"fill: #ff0000; stroke: #ff0000\"/>\n     <use xlink:href=\"#m258434bb3c\" x=\"428.087306\" y=\"143.564581\" style=\"fill: #ff0000; stroke: #ff0000\"/>\n     <use xlink:href=\"#m258434bb3c\" x=\"428.464593\" y=\"155.78984\" style=\"fill: #ff0000; stroke: #ff0000\"/>\n     <use xlink:href=\"#m258434bb3c\" x=\"428.841879\" y=\"141.890037\" style=\"fill: #ff0000; stroke: #ff0000\"/>\n     <use xlink:href=\"#m258434bb3c\" x=\"429.219166\" y=\"169.963173\" style=\"fill: #ff0000; stroke: #ff0000\"/>\n     <use xlink:href=\"#m258434bb3c\" x=\"429.596452\" y=\"162.19458\" style=\"fill: #ff0000; stroke: #ff0000\"/>\n     <use xlink:href=\"#m258434bb3c\" x=\"429.973738\" y=\"174.170552\" style=\"fill: #ff0000; stroke: #ff0000\"/>\n     <use xlink:href=\"#m258434bb3c\" x=\"430.351025\" y=\"185.782335\" style=\"fill: #ff0000; stroke: #ff0000\"/>\n     <use xlink:href=\"#m258434bb3c\" x=\"430.728311\" y=\"178.485809\" style=\"fill: #ff0000; stroke: #ff0000\"/>\n     <use xlink:href=\"#m258434bb3c\" x=\"431.105598\" y=\"183.987837\" style=\"fill: #ff0000; stroke: #ff0000\"/>\n     <use xlink:href=\"#m258434bb3c\" x=\"431.482884\" y=\"165.186936\" style=\"fill: #ff0000; stroke: #ff0000\"/>\n     <use xlink:href=\"#m258434bb3c\" x=\"431.86017\" y=\"156.463604\" style=\"fill: #ff0000; stroke: #ff0000\"/>\n    </g>\n   </g>\n   <g id=\"patch_3\">\n    <path d=\"M 35.80375 276.497576 \nL 35.80375 41.679989 \n\" style=\"fill: none; stroke: #262626; stroke-width: 0.5; stroke-linejoin: miter; stroke-linecap: square\"/>\n   </g>\n   <g id=\"patch_4\">\n    <path d=\"M 54.66358 313.502812 \nL 429.477178 313.502812 \n\" style=\"fill: none; stroke: #262626; stroke-width: 0.5; stroke-linejoin: miter; stroke-linecap: square\"/>\n   </g>\n   <g id=\"legend_1\">\n    <g id=\"line2d_15\">\n     <g>\n      <use xlink:href=\"#m258434bb3c\" x=\"368.635156\" y=\"16.368906\" style=\"fill: #ff0000; stroke: #ff0000\"/>\n     </g>\n    </g>\n    <g id=\"text_16\">\n     <!-- Stress-strain data -->\n     <g style=\"fill: #262626\" transform=\"translate(381.235156 18.818906) scale(0.07 -0.07)\">\n      <defs>\n       <path id=\"DejaVuSerif-53\" d=\"M 594 225 \nL 594 1288 \nL 953 1284 \nQ 969 753 1261 498 \nQ 1553 244 2150 244 \nQ 2706 244 2998 464 \nQ 3291 684 3291 1106 \nQ 3291 1444 3114 1625 \nQ 2938 1806 2369 1978 \nL 1753 2163 \nQ 1084 2366 811 2669 \nQ 538 2972 538 3500 \nQ 538 4094 959 4422 \nQ 1381 4750 2144 4750 \nQ 2469 4750 2856 4679 \nQ 3244 4609 3681 4475 \nL 3681 3481 \nL 3328 3481 \nQ 3275 3975 2998 4195 \nQ 2722 4416 2156 4416 \nQ 1663 4416 1405 4214 \nQ 1147 4013 1147 3628 \nQ 1147 3294 1340 3103 \nQ 1534 2913 2163 2725 \nL 2741 2553 \nQ 3375 2363 3645 2067 \nQ 3916 1772 3916 1275 \nQ 3916 597 3481 253 \nQ 3047 -91 2188 -91 \nQ 1803 -91 1404 -12 \nQ 1006 66 594 225 \nz\n\" transform=\"scale(0.015625)\"/>\n       <path id=\"DejaVuSerif-2d\" d=\"M 281 1959 \nL 1881 1959 \nL 1881 1472 \nL 281 1472 \nL 281 1959 \nz\n\" transform=\"scale(0.015625)\"/>\n       <path id=\"DejaVuSerif-64\" d=\"M 3359 331 \nL 3909 331 \nL 3909 0 \nL 2784 0 \nL 2784 519 \nQ 2616 206 2355 57 \nQ 2094 -91 1709 -91 \nQ 1097 -91 708 395 \nQ 319 881 319 1663 \nQ 319 2444 706 2928 \nQ 1094 3413 1709 3413 \nQ 2094 3413 2355 3264 \nQ 2616 3116 2784 2803 \nL 2784 4531 \nL 2241 4531 \nL 2241 4863 \nL 3359 4863 \nL 3359 331 \nz\nM 2784 1497 \nL 2784 1825 \nQ 2784 2422 2554 2737 \nQ 2325 3053 1888 3053 \nQ 1444 3053 1217 2703 \nQ 991 2353 991 1663 \nQ 991 975 1217 622 \nQ 1444 269 1888 269 \nQ 2325 269 2554 583 \nQ 2784 897 2784 1497 \nz\n\" transform=\"scale(0.015625)\"/>\n      </defs>\n      <use xlink:href=\"#DejaVuSerif-53\"/>\n      <use xlink:href=\"#DejaVuSerif-74\" transform=\"translate(68.505859 0)\"/>\n      <use xlink:href=\"#DejaVuSerif-72\" transform=\"translate(108.691406 0)\"/>\n      <use xlink:href=\"#DejaVuSerif-65\" transform=\"translate(156.494141 0)\"/>\n      <use xlink:href=\"#DejaVuSerif-73\" transform=\"translate(215.673828 0)\"/>\n      <use xlink:href=\"#DejaVuSerif-73\" transform=\"translate(266.992188 0)\"/>\n      <use xlink:href=\"#DejaVuSerif-2d\" transform=\"translate(318.310547 0)\"/>\n      <use xlink:href=\"#DejaVuSerif-73\" transform=\"translate(352.099609 0)\"/>\n      <use xlink:href=\"#DejaVuSerif-74\" transform=\"translate(403.417969 0)\"/>\n      <use xlink:href=\"#DejaVuSerif-72\" transform=\"translate(443.603516 0)\"/>\n      <use xlink:href=\"#DejaVuSerif-61\" transform=\"translate(491.40625 0)\"/>\n      <use xlink:href=\"#DejaVuSerif-69\" transform=\"translate(551.025391 0)\"/>\n      <use xlink:href=\"#DejaVuSerif-6e\" transform=\"translate(583.007812 0)\"/>\n      <use xlink:href=\"#DejaVuSerif-20\" transform=\"translate(647.412109 0)\"/>\n      <use xlink:href=\"#DejaVuSerif-64\" transform=\"translate(679.199219 0)\"/>\n      <use xlink:href=\"#DejaVuSerif-61\" transform=\"translate(743.212891 0)\"/>\n      <use xlink:href=\"#DejaVuSerif-74\" transform=\"translate(802.832031 0)\"/>\n      <use xlink:href=\"#DejaVuSerif-61\" transform=\"translate(843.017578 0)\"/>\n     </g>\n    </g>\n   </g>\n  </g>\n </g>\n <defs>\n  <clipPath id=\"p08950984bc\">\n   <rect x=\"35.80375\" y=\"7.2\" width=\"414.91625\" height=\"306.302812\"/>\n  </clipPath>\n </defs>\n</svg>\n"
          },
          "metadata": {}
        }
      ],
      "source": [
        "# Strain\n",
        "x = data[:, 0]\n",
        "# Stress in MPa\n",
        "y = data[:, 1]\n",
        "\n",
        "plt.figure()\n",
        "plt.plot(\n",
        "    x,\n",
        "    y,\n",
        "    'ro',\n",
        "    markersize=2,\n",
        "    label='Stress-strain data'\n",
        ")\n",
        "plt.xlabel('$\\epsilon$ (strain in %)')\n",
        "plt.ylabel('$\\sigma$ (stress in MPa)')\n",
        "plt.legend(loc='best', frameon=False)\n",
        "sns.despine(trim=True);"
      ]
    },
    {
      "cell_type": "markdown",
      "metadata": {
        "id": "2K8ck7MfCM7E"
      },
      "source": [
        "Note that you don't necessarily get a unique stress for each particular value of the strain.\n",
        "This is because the atoms are jiggling around due to thermal effects.\n",
        "So, there is always this \"jiggling\" noise when measuring the stress and the strain.\n",
        "We want to process this noise to extract what is known as the [stress-strain curve](https://en.wikipedia.org/wiki/Stress–strain_curve) of the material.\n",
        "The stress-strain curve is a macroscopic property of the material, affected by the fine structure, e.g., the chemical bonds, the crystalline structure, any defects, etc.\n",
        "It is a required input to the mechanics of materials."
      ]
    },
    {
      "cell_type": "markdown",
      "metadata": {
        "id": "1B5EitsTCM7E"
      },
      "source": [
        "## Part A - Fitting the stress-strain curve in the elastic regime\n",
        "The very first part of the stress-strain curve should be linear.\n",
        "It is called the *elastic regime*.\n",
        "In that region, say $\\epsilon < \\epsilon_l=0.04$, the relationship between stress and strain is:\n",
        "\n",
        "$$\n",
        "\\sigma(\\epsilon) = E\\epsilon.\n",
        "$$\n",
        "\n",
        "The constant $E$ is known as the *Young modulus* of the material.\n",
        "Assume that you measure $\\epsilon$ without noise, but your measured $\\sigma$ is noisy.\n",
        "\n",
        "### Subpart A.I\n",
        "First, extract the relevant data for this problem, split it into training and validation datasets, and visualize the training and validation datasets using different colors."
      ]
    },
    {
      "cell_type": "code",
      "execution_count": 19,
      "metadata": {
        "colab": {
          "base_uri": "https://localhost:8080/",
          "height": 478
        },
        "id": "v8TQbelWCM7E",
        "outputId": "3c318a99-be78-4120-bb4d-a728ec2d89d4"
      },
      "outputs": [
        {
          "output_type": "display_data",
          "data": {
            "text/plain": [
              "<Figure size 3840x2880 with 1 Axes>"
            ],
            "image/svg+xml": "<?xml version=\"1.0\" encoding=\"utf-8\" standalone=\"no\"?>\n<!DOCTYPE svg PUBLIC \"-//W3C//DTD SVG 1.1//EN\"\n  \"http://www.w3.org/Graphics/SVG/1.1/DTD/svg11.dtd\">\n<svg xmlns:xlink=\"http://www.w3.org/1999/xlink\" width=\"457.92pt\" height=\"342.72pt\" viewBox=\"0 0 457.92 342.72\" xmlns=\"http://www.w3.org/2000/svg\" version=\"1.1\">\n <metadata>\n  <rdf:RDF xmlns:dc=\"http://purl.org/dc/elements/1.1/\" xmlns:cc=\"http://creativecommons.org/ns#\" xmlns:rdf=\"http://www.w3.org/1999/02/22-rdf-syntax-ns#\">\n   <cc:Work>\n    <dc:type rdf:resource=\"http://purl.org/dc/dcmitype/StillImage\"/>\n    <dc:date>2025-07-15T17:19:09.772555</dc:date>\n    <dc:format>image/svg+xml</dc:format>\n    <dc:creator>\n     <cc:Agent>\n      <dc:title>Matplotlib v3.10.0, https://matplotlib.org/</dc:title>\n     </cc:Agent>\n    </dc:creator>\n   </cc:Work>\n  </rdf:RDF>\n </metadata>\n <defs>\n  <style type=\"text/css\">*{stroke-linejoin: round; stroke-linecap: butt}</style>\n </defs>\n <g id=\"figure_1\">\n  <g id=\"patch_1\">\n   <path d=\"M 0 342.72 \nL 457.92 342.72 \nL 457.92 0 \nL 0 0 \nz\n\" style=\"fill: #ffffff\"/>\n  </g>\n  <g id=\"axes_1\">\n   <g id=\"patch_2\">\n    <path d=\"M 35.80375 313.502812 \nL 450.72 313.502812 \nL 450.72 7.2 \nL 35.80375 7.2 \nz\n\" style=\"fill: #ffffff\"/>\n   </g>\n   <g id=\"matplotlib.axis_1\">\n    <g id=\"xtick_1\">\n     <g id=\"line2d_1\"/>\n     <g id=\"text_1\">\n      <!-- 0.000 -->\n      <g style=\"fill: #262626\" transform=\"translate(44.643736 322.321719) scale(0.07 -0.07)\">\n       <defs>\n        <path id=\"DejaVuSerif-30\" d=\"M 2034 219 \nQ 2513 219 2750 744 \nQ 2988 1269 2988 2328 \nQ 2988 3391 2750 3916 \nQ 2513 4441 2034 4441 \nQ 1556 4441 1318 3916 \nQ 1081 3391 1081 2328 \nQ 1081 1269 1318 744 \nQ 1556 219 2034 219 \nz\nM 2034 -91 \nQ 1275 -91 848 546 \nQ 422 1184 422 2328 \nQ 422 3475 848 4112 \nQ 1275 4750 2034 4750 \nQ 2797 4750 3222 4112 \nQ 3647 3475 3647 2328 \nQ 3647 1184 3222 546 \nQ 2797 -91 2034 -91 \nz\n\" transform=\"scale(0.015625)\"/>\n        <path id=\"DejaVuSerif-2e\" d=\"M 603 325 \nQ 603 500 722 622 \nQ 841 744 1019 744 \nQ 1191 744 1312 622 \nQ 1434 500 1434 325 \nQ 1434 153 1312 31 \nQ 1191 -91 1019 -91 \nQ 841 -91 722 29 \nQ 603 150 603 325 \nz\n\" transform=\"scale(0.015625)\"/>\n       </defs>\n       <use xlink:href=\"#DejaVuSerif-30\"/>\n       <use xlink:href=\"#DejaVuSerif-2e\" transform=\"translate(63.623047 0)\"/>\n       <use xlink:href=\"#DejaVuSerif-30\" transform=\"translate(95.410156 0)\"/>\n       <use xlink:href=\"#DejaVuSerif-30\" transform=\"translate(159.033203 0)\"/>\n       <use xlink:href=\"#DejaVuSerif-30\" transform=\"translate(222.65625 0)\"/>\n      </g>\n     </g>\n    </g>\n    <g id=\"xtick_2\">\n     <g id=\"line2d_2\"/>\n     <g id=\"text_2\">\n      <!-- 0.005 -->\n      <g style=\"fill: #262626\" transform=\"translate(92.08832 322.321719) scale(0.07 -0.07)\">\n       <defs>\n        <path id=\"DejaVuSerif-35\" d=\"M 3219 4666 \nL 3219 4153 \nL 1081 4153 \nL 1081 2816 \nQ 1244 2928 1461 2984 \nQ 1678 3041 1947 3041 \nQ 2703 3041 3140 2622 \nQ 3578 2203 3578 1478 \nQ 3578 738 3136 323 \nQ 2694 -91 1894 -91 \nQ 1572 -91 1234 -12 \nQ 897 66 544 225 \nL 544 1131 \nL 897 1131 \nQ 925 688 1179 453 \nQ 1434 219 1894 219 \nQ 2388 219 2653 544 \nQ 2919 869 2919 1478 \nQ 2919 2084 2655 2407 \nQ 2391 2731 1894 2731 \nQ 1613 2731 1398 2631 \nQ 1184 2531 1019 2322 \nL 750 2322 \nL 750 4666 \nL 3219 4666 \nz\n\" transform=\"scale(0.015625)\"/>\n       </defs>\n       <use xlink:href=\"#DejaVuSerif-30\"/>\n       <use xlink:href=\"#DejaVuSerif-2e\" transform=\"translate(63.623047 0)\"/>\n       <use xlink:href=\"#DejaVuSerif-30\" transform=\"translate(95.410156 0)\"/>\n       <use xlink:href=\"#DejaVuSerif-30\" transform=\"translate(159.033203 0)\"/>\n       <use xlink:href=\"#DejaVuSerif-35\" transform=\"translate(222.65625 0)\"/>\n      </g>\n     </g>\n    </g>\n    <g id=\"xtick_3\">\n     <g id=\"line2d_3\"/>\n     <g id=\"text_3\">\n      <!-- 0.010 -->\n      <g style=\"fill: #262626\" transform=\"translate(139.532905 322.321719) scale(0.07 -0.07)\">\n       <defs>\n        <path id=\"DejaVuSerif-31\" d=\"M 909 0 \nL 909 331 \nL 1722 331 \nL 1722 4213 \nL 781 3603 \nL 781 4013 \nL 1919 4750 \nL 2350 4750 \nL 2350 331 \nL 3163 331 \nL 3163 0 \nL 909 0 \nz\n\" transform=\"scale(0.015625)\"/>\n       </defs>\n       <use xlink:href=\"#DejaVuSerif-30\"/>\n       <use xlink:href=\"#DejaVuSerif-2e\" transform=\"translate(63.623047 0)\"/>\n       <use xlink:href=\"#DejaVuSerif-30\" transform=\"translate(95.410156 0)\"/>\n       <use xlink:href=\"#DejaVuSerif-31\" transform=\"translate(159.033203 0)\"/>\n       <use xlink:href=\"#DejaVuSerif-30\" transform=\"translate(222.65625 0)\"/>\n      </g>\n     </g>\n    </g>\n    <g id=\"xtick_4\">\n     <g id=\"line2d_4\"/>\n     <g id=\"text_4\">\n      <!-- 0.015 -->\n      <g style=\"fill: #262626\" transform=\"translate(186.977489 322.321719) scale(0.07 -0.07)\">\n       <use xlink:href=\"#DejaVuSerif-30\"/>\n       <use xlink:href=\"#DejaVuSerif-2e\" transform=\"translate(63.623047 0)\"/>\n       <use xlink:href=\"#DejaVuSerif-30\" transform=\"translate(95.410156 0)\"/>\n       <use xlink:href=\"#DejaVuSerif-31\" transform=\"translate(159.033203 0)\"/>\n       <use xlink:href=\"#DejaVuSerif-35\" transform=\"translate(222.65625 0)\"/>\n      </g>\n     </g>\n    </g>\n    <g id=\"xtick_5\">\n     <g id=\"line2d_5\"/>\n     <g id=\"text_5\">\n      <!-- 0.020 -->\n      <g style=\"fill: #262626\" transform=\"translate(234.422074 322.321719) scale(0.07 -0.07)\">\n       <defs>\n        <path id=\"DejaVuSerif-32\" d=\"M 819 3553 \nL 469 3553 \nL 469 4384 \nQ 803 4563 1142 4656 \nQ 1481 4750 1806 4750 \nQ 2534 4750 2956 4397 \nQ 3378 4044 3378 3438 \nQ 3378 2753 2422 1800 \nQ 2347 1728 2309 1691 \nL 1131 513 \nL 3078 513 \nL 3078 1088 \nL 3444 1088 \nL 3444 0 \nL 434 0 \nL 434 341 \nL 1850 1753 \nQ 2319 2222 2519 2614 \nQ 2719 3006 2719 3438 \nQ 2719 3909 2473 4175 \nQ 2228 4441 1797 4441 \nQ 1350 4441 1106 4219 \nQ 863 3997 819 3553 \nz\n\" transform=\"scale(0.015625)\"/>\n       </defs>\n       <use xlink:href=\"#DejaVuSerif-30\"/>\n       <use xlink:href=\"#DejaVuSerif-2e\" transform=\"translate(63.623047 0)\"/>\n       <use xlink:href=\"#DejaVuSerif-30\" transform=\"translate(95.410156 0)\"/>\n       <use xlink:href=\"#DejaVuSerif-32\" transform=\"translate(159.033203 0)\"/>\n       <use xlink:href=\"#DejaVuSerif-30\" transform=\"translate(222.65625 0)\"/>\n      </g>\n     </g>\n    </g>\n    <g id=\"xtick_6\">\n     <g id=\"line2d_6\"/>\n     <g id=\"text_6\">\n      <!-- 0.025 -->\n      <g style=\"fill: #262626\" transform=\"translate(281.866658 322.321719) scale(0.07 -0.07)\">\n       <use xlink:href=\"#DejaVuSerif-30\"/>\n       <use xlink:href=\"#DejaVuSerif-2e\" transform=\"translate(63.623047 0)\"/>\n       <use xlink:href=\"#DejaVuSerif-30\" transform=\"translate(95.410156 0)\"/>\n       <use xlink:href=\"#DejaVuSerif-32\" transform=\"translate(159.033203 0)\"/>\n       <use xlink:href=\"#DejaVuSerif-35\" transform=\"translate(222.65625 0)\"/>\n      </g>\n     </g>\n    </g>\n    <g id=\"xtick_7\">\n     <g id=\"line2d_7\"/>\n     <g id=\"text_7\">\n      <!-- 0.030 -->\n      <g style=\"fill: #262626\" transform=\"translate(329.311242 322.321719) scale(0.07 -0.07)\">\n       <defs>\n        <path id=\"DejaVuSerif-33\" d=\"M 622 4469 \nQ 988 4606 1323 4678 \nQ 1659 4750 1953 4750 \nQ 2638 4750 3022 4454 \nQ 3406 4159 3406 3634 \nQ 3406 3213 3140 2930 \nQ 2875 2647 2388 2547 \nQ 2963 2466 3280 2130 \nQ 3597 1794 3597 1259 \nQ 3597 606 3158 257 \nQ 2719 -91 1894 -91 \nQ 1528 -91 1179 -12 \nQ 831 66 488 225 \nL 488 1131 \nL 838 1131 \nQ 869 681 1141 450 \nQ 1413 219 1906 219 \nQ 2384 219 2661 495 \nQ 2938 772 2938 1253 \nQ 2938 1803 2653 2086 \nQ 2369 2369 1819 2369 \nL 1522 2369 \nL 1522 2688 \nL 1678 2688 \nQ 2225 2688 2498 2914 \nQ 2772 3141 2772 3597 \nQ 2772 4006 2547 4223 \nQ 2322 4441 1900 4441 \nQ 1478 4441 1245 4241 \nQ 1013 4041 972 3647 \nL 622 3647 \nL 622 4469 \nz\n\" transform=\"scale(0.015625)\"/>\n       </defs>\n       <use xlink:href=\"#DejaVuSerif-30\"/>\n       <use xlink:href=\"#DejaVuSerif-2e\" transform=\"translate(63.623047 0)\"/>\n       <use xlink:href=\"#DejaVuSerif-30\" transform=\"translate(95.410156 0)\"/>\n       <use xlink:href=\"#DejaVuSerif-33\" transform=\"translate(159.033203 0)\"/>\n       <use xlink:href=\"#DejaVuSerif-30\" transform=\"translate(222.65625 0)\"/>\n      </g>\n     </g>\n    </g>\n    <g id=\"xtick_8\">\n     <g id=\"line2d_8\"/>\n     <g id=\"text_8\">\n      <!-- 0.035 -->\n      <g style=\"fill: #262626\" transform=\"translate(376.755827 322.321719) scale(0.07 -0.07)\">\n       <use xlink:href=\"#DejaVuSerif-30\"/>\n       <use xlink:href=\"#DejaVuSerif-2e\" transform=\"translate(63.623047 0)\"/>\n       <use xlink:href=\"#DejaVuSerif-30\" transform=\"translate(95.410156 0)\"/>\n       <use xlink:href=\"#DejaVuSerif-33\" transform=\"translate(159.033203 0)\"/>\n       <use xlink:href=\"#DejaVuSerif-35\" transform=\"translate(222.65625 0)\"/>\n      </g>\n     </g>\n    </g>\n    <g id=\"xtick_9\">\n     <g id=\"line2d_9\"/>\n     <g id=\"text_9\">\n      <!-- 0.040 -->\n      <g style=\"fill: #262626\" transform=\"translate(424.200411 322.321719) scale(0.07 -0.07)\">\n       <defs>\n        <path id=\"DejaVuSerif-34\" d=\"M 2234 1581 \nL 2234 4063 \nL 641 1581 \nL 2234 1581 \nz\nM 3609 0 \nL 1484 0 \nL 1484 331 \nL 2234 331 \nL 2234 1247 \nL 197 1247 \nL 197 1588 \nL 2241 4750 \nL 2859 4750 \nL 2859 1581 \nL 3750 1581 \nL 3750 1247 \nL 2859 1247 \nL 2859 331 \nL 3609 331 \nL 3609 0 \nz\n\" transform=\"scale(0.015625)\"/>\n       </defs>\n       <use xlink:href=\"#DejaVuSerif-30\"/>\n       <use xlink:href=\"#DejaVuSerif-2e\" transform=\"translate(63.623047 0)\"/>\n       <use xlink:href=\"#DejaVuSerif-30\" transform=\"translate(95.410156 0)\"/>\n       <use xlink:href=\"#DejaVuSerif-34\" transform=\"translate(159.033203 0)\"/>\n       <use xlink:href=\"#DejaVuSerif-30\" transform=\"translate(222.65625 0)\"/>\n      </g>\n     </g>\n    </g>\n    <g id=\"text_10\">\n     <!-- $\\epsilon$ (strain in %) -->\n     <g style=\"fill: #262626\" transform=\"translate(214.661875 333.85625) scale(0.08 -0.08)\">\n      <defs>\n       <path id=\"DejaVuSans-Oblique-3b5\" d=\"M 1263 1888 \nQ 925 1963 778 2166 \nQ 669 2309 669 2503 \nQ 669 3034 1175 3344 \nQ 1575 3588 2188 3588 \nQ 2425 3588 2684 3550 \nQ 2944 3513 3234 3438 \nL 3134 2916 \nQ 2847 3006 2606 3047 \nQ 2359 3088 2138 3088 \nQ 1766 3088 1522 2944 \nQ 1228 2772 1228 2522 \nQ 1228 2356 1381 2241 \nQ 1563 2103 1925 2103 \nL 2409 2103 \nL 2319 1628 \nL 1856 1628 \nQ 1425 1628 1172 1469 \nQ 828 1253 828 916 \nQ 828 703 1013 563 \nQ 1244 388 1716 388 \nQ 2006 388 2284 444 \nQ 2563 503 2806 619 \nL 2700 84 \nQ 2403 -3 2131 -47 \nQ 1859 -91 1609 -91 \nQ 866 -91 516 194 \nQ 250 413 250 781 \nQ 250 1278 600 1584 \nQ 859 1813 1263 1888 \nz\n\" transform=\"scale(0.015625)\"/>\n       <path id=\"DejaVuSerif-20\" transform=\"scale(0.015625)\"/>\n       <path id=\"DejaVuSerif-28\" d=\"M 2041 -997 \nQ 1281 -656 893 83 \nQ 506 822 506 1931 \nQ 506 3044 893 3783 \nQ 1281 4522 2041 4863 \nL 2041 4556 \nQ 1559 4225 1350 3623 \nQ 1141 3022 1141 1931 \nQ 1141 844 1350 242 \nQ 1559 -359 2041 -691 \nL 2041 -997 \nz\n\" transform=\"scale(0.015625)\"/>\n       <path id=\"DejaVuSerif-73\" d=\"M 359 184 \nL 359 959 \nL 691 959 \nQ 703 588 923 403 \nQ 1144 219 1575 219 \nQ 1963 219 2166 364 \nQ 2369 509 2369 788 \nQ 2369 1006 2220 1140 \nQ 2072 1275 1594 1428 \nL 1178 1569 \nQ 750 1706 558 1912 \nQ 366 2119 366 2438 \nQ 366 2894 700 3153 \nQ 1034 3413 1625 3413 \nQ 1888 3413 2178 3344 \nQ 2469 3275 2778 3144 \nL 2778 2419 \nL 2447 2419 \nQ 2434 2741 2221 2922 \nQ 2009 3103 1644 3103 \nQ 1281 3103 1095 2975 \nQ 909 2847 909 2591 \nQ 909 2381 1050 2254 \nQ 1191 2128 1613 1997 \nL 2069 1856 \nQ 2541 1709 2748 1489 \nQ 2956 1269 2956 922 \nQ 2956 450 2595 179 \nQ 2234 -91 1600 -91 \nQ 1278 -91 972 -22 \nQ 666 47 359 184 \nz\n\" transform=\"scale(0.015625)\"/>\n       <path id=\"DejaVuSerif-74\" d=\"M 691 2988 \nL 184 2988 \nL 184 3322 \nL 691 3322 \nL 691 4353 \nL 1269 4353 \nL 1269 3322 \nL 2350 3322 \nL 2350 2988 \nL 1269 2988 \nL 1269 878 \nQ 1269 456 1350 337 \nQ 1431 219 1650 219 \nQ 1875 219 1978 351 \nQ 2081 484 2088 781 \nL 2522 781 \nQ 2497 328 2275 118 \nQ 2053 -91 1600 -91 \nQ 1103 -91 897 129 \nQ 691 350 691 878 \nL 691 2988 \nz\n\" transform=\"scale(0.015625)\"/>\n       <path id=\"DejaVuSerif-72\" d=\"M 3059 3328 \nL 3059 2497 \nL 2728 2497 \nQ 2713 2744 2591 2866 \nQ 2469 2988 2234 2988 \nQ 1809 2988 1582 2694 \nQ 1356 2400 1356 1850 \nL 1356 331 \nL 2022 331 \nL 2022 0 \nL 263 0 \nL 263 331 \nL 781 331 \nL 781 2994 \nL 231 2994 \nL 231 3322 \nL 1356 3322 \nL 1356 2731 \nQ 1525 3078 1790 3245 \nQ 2056 3413 2438 3413 \nQ 2578 3413 2733 3391 \nQ 2888 3369 3059 3328 \nz\n\" transform=\"scale(0.015625)\"/>\n       <path id=\"DejaVuSerif-61\" d=\"M 2547 1044 \nL 2547 1747 \nL 1806 1747 \nQ 1378 1747 1168 1562 \nQ 959 1378 959 997 \nQ 959 650 1171 447 \nQ 1384 244 1747 244 \nQ 2106 244 2326 466 \nQ 2547 688 2547 1044 \nz\nM 3122 2075 \nL 3122 331 \nL 3634 331 \nL 3634 0 \nL 2547 0 \nL 2547 359 \nQ 2356 128 2106 18 \nQ 1856 -91 1522 -91 \nQ 969 -91 644 203 \nQ 319 497 319 997 \nQ 319 1513 691 1797 \nQ 1063 2081 1741 2081 \nL 2547 2081 \nL 2547 2309 \nQ 2547 2688 2317 2895 \nQ 2088 3103 1672 3103 \nQ 1328 3103 1125 2947 \nQ 922 2791 872 2484 \nL 575 2484 \nL 575 3156 \nQ 875 3284 1158 3348 \nQ 1441 3413 1709 3413 \nQ 2400 3413 2761 3070 \nQ 3122 2728 3122 2075 \nz\n\" transform=\"scale(0.015625)\"/>\n       <path id=\"DejaVuSerif-69\" d=\"M 622 4353 \nQ 622 4497 726 4603 \nQ 831 4709 978 4709 \nQ 1122 4709 1226 4603 \nQ 1331 4497 1331 4353 \nQ 1331 4206 1228 4103 \nQ 1125 4000 978 4000 \nQ 831 4000 726 4103 \nQ 622 4206 622 4353 \nz\nM 1356 331 \nL 1900 331 \nL 1900 0 \nL 231 0 \nL 231 331 \nL 781 331 \nL 781 2988 \nL 231 2988 \nL 231 3322 \nL 1356 3322 \nL 1356 331 \nz\n\" transform=\"scale(0.015625)\"/>\n       <path id=\"DejaVuSerif-6e\" d=\"M 263 0 \nL 263 331 \nL 781 331 \nL 781 2988 \nL 231 2988 \nL 231 3322 \nL 1356 3322 \nL 1356 2731 \nQ 1516 3069 1770 3241 \nQ 2025 3413 2363 3413 \nQ 2913 3413 3172 3097 \nQ 3431 2781 3431 2113 \nL 3431 331 \nL 3944 331 \nL 3944 0 \nL 2356 0 \nL 2356 331 \nL 2853 331 \nL 2853 1931 \nQ 2853 2541 2703 2767 \nQ 2553 2994 2175 2994 \nQ 1775 2994 1565 2701 \nQ 1356 2409 1356 1850 \nL 1356 331 \nL 1856 331 \nL 1856 0 \nL 263 0 \nz\n\" transform=\"scale(0.015625)\"/>\n       <path id=\"DejaVuSerif-25\" d=\"M 1434 4459 \nQ 1159 4459 1004 4200 \nQ 850 3941 850 3475 \nQ 850 3016 1008 2753 \nQ 1166 2491 1434 2491 \nQ 1700 2491 1854 2752 \nQ 2009 3013 2009 3475 \nQ 2009 3938 1854 4198 \nQ 1700 4459 1434 4459 \nz\nM 4653 2169 \nQ 4381 2169 4226 1906 \nQ 4072 1644 4072 1178 \nQ 4072 719 4228 458 \nQ 4384 197 4653 197 \nQ 4922 197 5075 458 \nQ 5228 719 5228 1178 \nQ 5228 1641 5073 1905 \nQ 4919 2169 4653 2169 \nz\nM 4653 2450 \nQ 5147 2450 5437 2106 \nQ 5728 1763 5728 1178 \nQ 5728 594 5436 251 \nQ 5144 -91 4653 -91 \nQ 4153 -91 3862 251 \nQ 3572 594 3572 1178 \nQ 3572 1766 3864 2108 \nQ 4156 2450 4653 2450 \nz\nM 4263 4750 \nL 4738 4750 \nL 1819 -91 \nL 1344 -91 \nL 4263 4750 \nz\nM 1428 4750 \nQ 1922 4750 2215 4408 \nQ 2509 4066 2509 3481 \nQ 2509 2891 2217 2550 \nQ 1925 2209 1428 2209 \nQ 931 2209 642 2551 \nQ 353 2894 353 3481 \nQ 353 4063 643 4406 \nQ 934 4750 1428 4750 \nz\n\" transform=\"scale(0.015625)\"/>\n       <path id=\"DejaVuSerif-29\" d=\"M 453 -997 \nL 453 -691 \nQ 934 -359 1145 242 \nQ 1356 844 1356 1931 \nQ 1356 3022 1145 3623 \nQ 934 4225 453 4556 \nL 453 4863 \nQ 1216 4522 1603 3783 \nQ 1991 3044 1991 1931 \nQ 1991 822 1603 83 \nQ 1216 -656 453 -997 \nz\n\" transform=\"scale(0.015625)\"/>\n      </defs>\n      <use xlink:href=\"#DejaVuSans-Oblique-3b5\" transform=\"translate(0 0.015625)\"/>\n      <use xlink:href=\"#DejaVuSerif-20\" transform=\"translate(54.052734 0.015625)\"/>\n      <use xlink:href=\"#DejaVuSerif-28\" transform=\"translate(85.839844 0.015625)\"/>\n      <use xlink:href=\"#DejaVuSerif-73\" transform=\"translate(124.853516 0.015625)\"/>\n      <use xlink:href=\"#DejaVuSerif-74\" transform=\"translate(176.171875 0.015625)\"/>\n      <use xlink:href=\"#DejaVuSerif-72\" transform=\"translate(216.357422 0.015625)\"/>\n      <use xlink:href=\"#DejaVuSerif-61\" transform=\"translate(264.160156 0.015625)\"/>\n      <use xlink:href=\"#DejaVuSerif-69\" transform=\"translate(323.779297 0.015625)\"/>\n      <use xlink:href=\"#DejaVuSerif-6e\" transform=\"translate(355.761719 0.015625)\"/>\n      <use xlink:href=\"#DejaVuSerif-20\" transform=\"translate(420.166016 0.015625)\"/>\n      <use xlink:href=\"#DejaVuSerif-69\" transform=\"translate(451.953125 0.015625)\"/>\n      <use xlink:href=\"#DejaVuSerif-6e\" transform=\"translate(483.935547 0.015625)\"/>\n      <use xlink:href=\"#DejaVuSerif-20\" transform=\"translate(548.339844 0.015625)\"/>\n      <use xlink:href=\"#DejaVuSerif-25\" transform=\"translate(580.126953 0.015625)\"/>\n      <use xlink:href=\"#DejaVuSerif-29\" transform=\"translate(675.146484 0.015625)\"/>\n     </g>\n    </g>\n   </g>\n   <g id=\"matplotlib.axis_2\">\n    <g id=\"ytick_1\">\n     <g id=\"line2d_10\"/>\n     <g id=\"text_11\">\n      <!-- 0 -->\n      <g style=\"fill: #262626\" transform=\"translate(27.85 274.998502) scale(0.07 -0.07)\">\n       <use xlink:href=\"#DejaVuSerif-30\"/>\n      </g>\n     </g>\n    </g>\n    <g id=\"ytick_2\">\n     <g id=\"line2d_11\"/>\n     <g id=\"text_12\">\n      <!-- 50 -->\n      <g style=\"fill: #262626\" transform=\"translate(23.39625 228.811438) scale(0.07 -0.07)\">\n       <use xlink:href=\"#DejaVuSerif-35\"/>\n       <use xlink:href=\"#DejaVuSerif-30\" transform=\"translate(63.623047 0)\"/>\n      </g>\n     </g>\n    </g>\n    <g id=\"ytick_3\">\n     <g id=\"line2d_12\"/>\n     <g id=\"text_13\">\n      <!-- 100 -->\n      <g style=\"fill: #262626\" transform=\"translate(18.9425 182.624373) scale(0.07 -0.07)\">\n       <use xlink:href=\"#DejaVuSerif-31\"/>\n       <use xlink:href=\"#DejaVuSerif-30\" transform=\"translate(63.623047 0)\"/>\n       <use xlink:href=\"#DejaVuSerif-30\" transform=\"translate(127.246094 0)\"/>\n      </g>\n     </g>\n    </g>\n    <g id=\"ytick_4\">\n     <g id=\"line2d_13\"/>\n     <g id=\"text_14\">\n      <!-- 150 -->\n      <g style=\"fill: #262626\" transform=\"translate(18.9425 136.437309) scale(0.07 -0.07)\">\n       <use xlink:href=\"#DejaVuSerif-31\"/>\n       <use xlink:href=\"#DejaVuSerif-35\" transform=\"translate(63.623047 0)\"/>\n       <use xlink:href=\"#DejaVuSerif-30\" transform=\"translate(127.246094 0)\"/>\n      </g>\n     </g>\n    </g>\n    <g id=\"ytick_5\">\n     <g id=\"line2d_14\"/>\n     <g id=\"text_15\">\n      <!-- 200 -->\n      <g style=\"fill: #262626\" transform=\"translate(18.9425 90.250245) scale(0.07 -0.07)\">\n       <use xlink:href=\"#DejaVuSerif-32\"/>\n       <use xlink:href=\"#DejaVuSerif-30\" transform=\"translate(63.623047 0)\"/>\n       <use xlink:href=\"#DejaVuSerif-30\" transform=\"translate(127.246094 0)\"/>\n      </g>\n     </g>\n    </g>\n    <g id=\"ytick_6\">\n     <g id=\"line2d_15\"/>\n     <g id=\"text_16\">\n      <!-- 250 -->\n      <g style=\"fill: #262626\" transform=\"translate(18.9425 44.063181) scale(0.07 -0.07)\">\n       <use xlink:href=\"#DejaVuSerif-32\"/>\n       <use xlink:href=\"#DejaVuSerif-35\" transform=\"translate(63.623047 0)\"/>\n       <use xlink:href=\"#DejaVuSerif-30\" transform=\"translate(127.246094 0)\"/>\n      </g>\n     </g>\n    </g>\n    <g id=\"text_17\">\n     <!-- $\\sigma$ (stress in MPa) -->\n     <g style=\"fill: #262626\" transform=\"translate(13.27875 194.911406) rotate(-90) scale(0.08 -0.08)\">\n      <defs>\n       <path id=\"DejaVuSans-Oblique-3c3\" d=\"M 2219 3044 \nQ 1744 3044 1422 2700 \nQ 1081 2341 969 1747 \nQ 844 1119 1044 756 \nQ 1241 397 1706 397 \nQ 2166 397 2503 759 \nQ 2844 1122 2966 1747 \nQ 3075 2319 2881 2700 \nQ 2700 3044 2219 3044 \nz\nM 2309 3503 \nL 4219 3500 \nL 4106 2925 \nL 3463 2925 \nQ 3706 2438 3575 1747 \nQ 3406 888 2884 400 \nQ 2359 -91 1609 -91 \nQ 856 -91 525 400 \nQ 194 888 363 1747 \nQ 528 2609 1050 3097 \nQ 1484 3503 2309 3503 \nz\n\" transform=\"scale(0.015625)\"/>\n       <path id=\"DejaVuSerif-65\" d=\"M 3469 1600 \nL 991 1600 \nL 991 1575 \nQ 991 903 1244 561 \nQ 1497 219 1991 219 \nQ 2369 219 2611 417 \nQ 2853 616 2950 1006 \nL 3413 1006 \nQ 3275 459 2904 184 \nQ 2534 -91 1931 -91 \nQ 1203 -91 761 389 \nQ 319 869 319 1663 \nQ 319 2450 753 2931 \nQ 1188 3413 1894 3413 \nQ 2647 3413 3050 2948 \nQ 3453 2484 3469 1600 \nz\nM 2791 1931 \nQ 2772 2513 2545 2808 \nQ 2319 3103 1894 3103 \nQ 1497 3103 1269 2806 \nQ 1041 2509 991 1931 \nL 2791 1931 \nz\n\" transform=\"scale(0.015625)\"/>\n       <path id=\"DejaVuSerif-4d\" d=\"M 353 0 \nL 353 331 \nL 947 331 \nL 947 4331 \nL 319 4331 \nL 319 4666 \nL 1678 4666 \nL 3316 1344 \nL 4953 4666 \nL 6228 4666 \nL 6228 4331 \nL 5606 4331 \nL 5606 331 \nL 6203 331 \nL 6203 0 \nL 4378 0 \nL 4378 331 \nL 4972 331 \nL 4972 3938 \nL 3372 684 \nL 2931 684 \nL 1331 3938 \nL 1331 331 \nL 1925 331 \nL 1925 0 \nL 353 0 \nz\n\" transform=\"scale(0.015625)\"/>\n       <path id=\"DejaVuSerif-50\" d=\"M 1581 2375 \nL 2406 2375 \nQ 2872 2375 3115 2626 \nQ 3359 2878 3359 3353 \nQ 3359 3831 3115 4081 \nQ 2872 4331 2406 4331 \nL 1581 4331 \nL 1581 2375 \nz\nM 353 0 \nL 353 331 \nL 947 331 \nL 947 4331 \nL 353 4331 \nL 353 4666 \nL 2559 4666 \nQ 3259 4666 3668 4311 \nQ 4078 3956 4078 3353 \nQ 4078 2753 3668 2397 \nQ 3259 2041 2559 2041 \nL 1581 2041 \nL 1581 331 \nL 2303 331 \nL 2303 0 \nL 353 0 \nz\n\" transform=\"scale(0.015625)\"/>\n      </defs>\n      <use xlink:href=\"#DejaVuSans-Oblique-3c3\" transform=\"translate(0 0.015625)\"/>\n      <use xlink:href=\"#DejaVuSerif-20\" transform=\"translate(63.378906 0.015625)\"/>\n      <use xlink:href=\"#DejaVuSerif-28\" transform=\"translate(95.166016 0.015625)\"/>\n      <use xlink:href=\"#DejaVuSerif-73\" transform=\"translate(134.179688 0.015625)\"/>\n      <use xlink:href=\"#DejaVuSerif-74\" transform=\"translate(185.498047 0.015625)\"/>\n      <use xlink:href=\"#DejaVuSerif-72\" transform=\"translate(225.683594 0.015625)\"/>\n      <use xlink:href=\"#DejaVuSerif-65\" transform=\"translate(273.486328 0.015625)\"/>\n      <use xlink:href=\"#DejaVuSerif-73\" transform=\"translate(332.666016 0.015625)\"/>\n      <use xlink:href=\"#DejaVuSerif-73\" transform=\"translate(383.984375 0.015625)\"/>\n      <use xlink:href=\"#DejaVuSerif-20\" transform=\"translate(435.302734 0.015625)\"/>\n      <use xlink:href=\"#DejaVuSerif-69\" transform=\"translate(467.089844 0.015625)\"/>\n      <use xlink:href=\"#DejaVuSerif-6e\" transform=\"translate(499.072266 0.015625)\"/>\n      <use xlink:href=\"#DejaVuSerif-20\" transform=\"translate(563.476562 0.015625)\"/>\n      <use xlink:href=\"#DejaVuSerif-4d\" transform=\"translate(595.263672 0.015625)\"/>\n      <use xlink:href=\"#DejaVuSerif-50\" transform=\"translate(697.65625 0.015625)\"/>\n      <use xlink:href=\"#DejaVuSerif-61\" transform=\"translate(764.941406 0.015625)\"/>\n      <use xlink:href=\"#DejaVuSerif-29\" transform=\"translate(824.560547 0.015625)\"/>\n     </g>\n    </g>\n   </g>\n   <g id=\"line2d_16\">\n    <defs>\n     <path id=\"m43088cf630\" d=\"M 0 1 \nC 0.265203 1 0.51958 0.894634 0.707107 0.707107 \nC 0.894634 0.51958 1 0.265203 1 0 \nC 1 -0.265203 0.894634 -0.51958 0.707107 -0.707107 \nC 0.51958 -0.894634 0.265203 -1 0 -1 \nC -0.265203 -1 -0.51958 -0.894634 -0.707107 -0.707107 \nC -0.894634 -0.51958 -1 -0.265203 -1 0 \nC -1 0.265203 -0.894634 0.51958 -0.707107 0.707107 \nC -0.51958 0.894634 -0.265203 1 0 1 \nz\n\" style=\"stroke: #ff0000\"/>\n    </defs>\n    <g clip-path=\"url(#p1e8a745b77)\">\n     <use xlink:href=\"#m43088cf630\" x=\"54.66358\" y=\"299.579957\" style=\"fill: #ff0000; stroke: #ff0000\"/>\n     <use xlink:href=\"#m43088cf630\" x=\"57.051459\" y=\"261.45772\" style=\"fill: #ff0000; stroke: #ff0000\"/>\n     <use xlink:href=\"#m43088cf630\" x=\"59.439339\" y=\"230.590286\" style=\"fill: #ff0000; stroke: #ff0000\"/>\n     <use xlink:href=\"#m43088cf630\" x=\"61.827219\" y=\"226.618275\" style=\"fill: #ff0000; stroke: #ff0000\"/>\n     <use xlink:href=\"#m43088cf630\" x=\"64.215099\" y=\"233.280478\" style=\"fill: #ff0000; stroke: #ff0000\"/>\n     <use xlink:href=\"#m43088cf630\" x=\"66.602979\" y=\"264.58306\" style=\"fill: #ff0000; stroke: #ff0000\"/>\n     <use xlink:href=\"#m43088cf630\" x=\"68.990859\" y=\"286.167821\" style=\"fill: #ff0000; stroke: #ff0000\"/>\n     <use xlink:href=\"#m43088cf630\" x=\"71.366105\" y=\"221.246397\" style=\"fill: #ff0000; stroke: #ff0000\"/>\n     <use xlink:href=\"#m43088cf630\" x=\"73.753985\" y=\"226.047158\" style=\"fill: #ff0000; stroke: #ff0000\"/>\n     <use xlink:href=\"#m43088cf630\" x=\"76.141865\" y=\"209.124583\" style=\"fill: #ff0000; stroke: #ff0000\"/>\n     <use xlink:href=\"#m43088cf630\" x=\"78.529745\" y=\"271.377872\" style=\"fill: #ff0000; stroke: #ff0000\"/>\n     <use xlink:href=\"#m43088cf630\" x=\"80.917625\" y=\"299.342253\" style=\"fill: #ff0000; stroke: #ff0000\"/>\n     <use xlink:href=\"#m43088cf630\" x=\"83.305505\" y=\"236.094085\" style=\"fill: #ff0000; stroke: #ff0000\"/>\n     <use xlink:href=\"#m43088cf630\" x=\"85.693385\" y=\"258.023677\" style=\"fill: #ff0000; stroke: #ff0000\"/>\n     <use xlink:href=\"#m43088cf630\" x=\"88.081264\" y=\"234.459421\" style=\"fill: #ff0000; stroke: #ff0000\"/>\n     <use xlink:href=\"#m43088cf630\" x=\"90.469144\" y=\"243.131898\" style=\"fill: #ff0000; stroke: #ff0000\"/>\n     <use xlink:href=\"#m43088cf630\" x=\"92.857024\" y=\"212.774605\" style=\"fill: #ff0000; stroke: #ff0000\"/>\n     <use xlink:href=\"#m43088cf630\" x=\"95.244904\" y=\"245.157822\" style=\"fill: #ff0000; stroke: #ff0000\"/>\n     <use xlink:href=\"#m43088cf630\" x=\"97.632784\" y=\"220.207712\" style=\"fill: #ff0000; stroke: #ff0000\"/>\n     <use xlink:href=\"#m43088cf630\" x=\"100.020664\" y=\"211.195038\" style=\"fill: #ff0000; stroke: #ff0000\"/>\n     <use xlink:href=\"#m43088cf630\" x=\"102.408544\" y=\"194.389859\" style=\"fill: #ff0000; stroke: #ff0000\"/>\n     <use xlink:href=\"#m43088cf630\" x=\"104.796424\" y=\"213.095551\" style=\"fill: #ff0000; stroke: #ff0000\"/>\n     <use xlink:href=\"#m43088cf630\" x=\"107.184304\" y=\"256.001095\" style=\"fill: #ff0000; stroke: #ff0000\"/>\n     <use xlink:href=\"#m43088cf630\" x=\"109.572184\" y=\"264.826352\" style=\"fill: #ff0000; stroke: #ff0000\"/>\n     <use xlink:href=\"#m43088cf630\" x=\"111.960064\" y=\"205.992096\" style=\"fill: #ff0000; stroke: #ff0000\"/>\n     <use xlink:href=\"#m43088cf630\" x=\"114.347944\" y=\"222.359492\" style=\"fill: #ff0000; stroke: #ff0000\"/>\n     <use xlink:href=\"#m43088cf630\" x=\"116.735824\" y=\"148.621354\" style=\"fill: #ff0000; stroke: #ff0000\"/>\n     <use xlink:href=\"#m43088cf630\" x=\"119.123704\" y=\"231.024775\" style=\"fill: #ff0000; stroke: #ff0000\"/>\n     <use xlink:href=\"#m43088cf630\" x=\"121.511584\" y=\"156.75243\" style=\"fill: #ff0000; stroke: #ff0000\"/>\n     <use xlink:href=\"#m43088cf630\" x=\"123.886829\" y=\"195.087499\" style=\"fill: #ff0000; stroke: #ff0000\"/>\n     <use xlink:href=\"#m43088cf630\" x=\"126.274709\" y=\"216.92293\" style=\"fill: #ff0000; stroke: #ff0000\"/>\n     <use xlink:href=\"#m43088cf630\" x=\"128.662589\" y=\"213.990705\" style=\"fill: #ff0000; stroke: #ff0000\"/>\n     <use xlink:href=\"#m43088cf630\" x=\"131.050469\" y=\"223.098336\" style=\"fill: #ff0000; stroke: #ff0000\"/>\n     <use xlink:href=\"#m43088cf630\" x=\"133.438349\" y=\"174.362152\" style=\"fill: #ff0000; stroke: #ff0000\"/>\n     <use xlink:href=\"#m43088cf630\" x=\"135.826229\" y=\"230.847289\" style=\"fill: #ff0000; stroke: #ff0000\"/>\n     <use xlink:href=\"#m43088cf630\" x=\"138.214109\" y=\"245.250377\" style=\"fill: #ff0000; stroke: #ff0000\"/>\n     <use xlink:href=\"#m43088cf630\" x=\"140.601989\" y=\"236.633336\" style=\"fill: #ff0000; stroke: #ff0000\"/>\n     <use xlink:href=\"#m43088cf630\" x=\"142.989869\" y=\"199.144849\" style=\"fill: #ff0000; stroke: #ff0000\"/>\n     <use xlink:href=\"#m43088cf630\" x=\"145.377749\" y=\"197.014164\" style=\"fill: #ff0000; stroke: #ff0000\"/>\n     <use xlink:href=\"#m43088cf630\" x=\"147.765629\" y=\"226.549449\" style=\"fill: #ff0000; stroke: #ff0000\"/>\n     <use xlink:href=\"#m43088cf630\" x=\"150.153509\" y=\"167.966612\" style=\"fill: #ff0000; stroke: #ff0000\"/>\n     <use xlink:href=\"#m43088cf630\" x=\"152.541389\" y=\"181.367758\" style=\"fill: #ff0000; stroke: #ff0000\"/>\n     <use xlink:href=\"#m43088cf630\" x=\"154.929269\" y=\"150.588026\" style=\"fill: #ff0000; stroke: #ff0000\"/>\n     <use xlink:href=\"#m43088cf630\" x=\"157.317148\" y=\"218.040813\" style=\"fill: #ff0000; stroke: #ff0000\"/>\n     <use xlink:href=\"#m43088cf630\" x=\"159.705028\" y=\"197.65377\" style=\"fill: #ff0000; stroke: #ff0000\"/>\n     <use xlink:href=\"#m43088cf630\" x=\"162.092908\" y=\"222.392531\" style=\"fill: #ff0000; stroke: #ff0000\"/>\n     <use xlink:href=\"#m43088cf630\" x=\"164.480788\" y=\"173.401362\" style=\"fill: #ff0000; stroke: #ff0000\"/>\n     <use xlink:href=\"#m43088cf630\" x=\"166.868668\" y=\"159.432815\" style=\"fill: #ff0000; stroke: #ff0000\"/>\n     <use xlink:href=\"#m43088cf630\" x=\"169.256548\" y=\"202.103706\" style=\"fill: #ff0000; stroke: #ff0000\"/>\n     <use xlink:href=\"#m43088cf630\" x=\"171.644428\" y=\"219.501951\" style=\"fill: #ff0000; stroke: #ff0000\"/>\n     <use xlink:href=\"#m43088cf630\" x=\"174.032308\" y=\"164.182652\" style=\"fill: #ff0000; stroke: #ff0000\"/>\n     <use xlink:href=\"#m43088cf630\" x=\"176.407554\" y=\"159.723966\" style=\"fill: #ff0000; stroke: #ff0000\"/>\n     <use xlink:href=\"#m43088cf630\" x=\"178.795434\" y=\"188.989677\" style=\"fill: #ff0000; stroke: #ff0000\"/>\n     <use xlink:href=\"#m43088cf630\" x=\"181.183314\" y=\"177.17875\" style=\"fill: #ff0000; stroke: #ff0000\"/>\n     <use xlink:href=\"#m43088cf630\" x=\"183.571194\" y=\"202.768034\" style=\"fill: #ff0000; stroke: #ff0000\"/>\n     <use xlink:href=\"#m43088cf630\" x=\"185.959074\" y=\"169.278964\" style=\"fill: #ff0000; stroke: #ff0000\"/>\n     <use xlink:href=\"#m43088cf630\" x=\"188.346953\" y=\"170.406966\" style=\"fill: #ff0000; stroke: #ff0000\"/>\n     <use xlink:href=\"#m43088cf630\" x=\"190.734833\" y=\"169.979062\" style=\"fill: #ff0000; stroke: #ff0000\"/>\n     <use xlink:href=\"#m43088cf630\" x=\"193.122713\" y=\"158.754402\" style=\"fill: #ff0000; stroke: #ff0000\"/>\n     <use xlink:href=\"#m43088cf630\" x=\"195.510593\" y=\"159.667341\" style=\"fill: #ff0000; stroke: #ff0000\"/>\n     <use xlink:href=\"#m43088cf630\" x=\"197.898473\" y=\"148.333293\" style=\"fill: #ff0000; stroke: #ff0000\"/>\n     <use xlink:href=\"#m43088cf630\" x=\"200.286353\" y=\"155.393303\" style=\"fill: #ff0000; stroke: #ff0000\"/>\n     <use xlink:href=\"#m43088cf630\" x=\"202.674233\" y=\"160.871024\" style=\"fill: #ff0000; stroke: #ff0000\"/>\n     <use xlink:href=\"#m43088cf630\" x=\"205.062113\" y=\"183.653648\" style=\"fill: #ff0000; stroke: #ff0000\"/>\n     <use xlink:href=\"#m43088cf630\" x=\"207.449993\" y=\"207.150902\" style=\"fill: #ff0000; stroke: #ff0000\"/>\n     <use xlink:href=\"#m43088cf630\" x=\"209.837873\" y=\"164.175246\" style=\"fill: #ff0000; stroke: #ff0000\"/>\n     <use xlink:href=\"#m43088cf630\" x=\"212.225753\" y=\"149.023427\" style=\"fill: #ff0000; stroke: #ff0000\"/>\n     <use xlink:href=\"#m43088cf630\" x=\"214.613633\" y=\"123.412424\" style=\"fill: #ff0000; stroke: #ff0000\"/>\n     <use xlink:href=\"#m43088cf630\" x=\"217.001513\" y=\"150.605092\" style=\"fill: #ff0000; stroke: #ff0000\"/>\n     <use xlink:href=\"#m43088cf630\" x=\"219.389393\" y=\"133.36164\" style=\"fill: #ff0000; stroke: #ff0000\"/>\n     <use xlink:href=\"#m43088cf630\" x=\"221.777273\" y=\"170.85182\" style=\"fill: #ff0000; stroke: #ff0000\"/>\n     <use xlink:href=\"#m43088cf630\" x=\"224.165153\" y=\"114.194441\" style=\"fill: #ff0000; stroke: #ff0000\"/>\n     <use xlink:href=\"#m43088cf630\" x=\"226.553033\" y=\"153.982936\" style=\"fill: #ff0000; stroke: #ff0000\"/>\n     <use xlink:href=\"#m43088cf630\" x=\"228.940912\" y=\"159.468875\" style=\"fill: #ff0000; stroke: #ff0000\"/>\n     <use xlink:href=\"#m43088cf630\" x=\"231.316158\" y=\"194.489246\" style=\"fill: #ff0000; stroke: #ff0000\"/>\n     <use xlink:href=\"#m43088cf630\" x=\"233.704038\" y=\"143.152262\" style=\"fill: #ff0000; stroke: #ff0000\"/>\n     <use xlink:href=\"#m43088cf630\" x=\"236.091918\" y=\"188.386072\" style=\"fill: #ff0000; stroke: #ff0000\"/>\n     <use xlink:href=\"#m43088cf630\" x=\"238.479798\" y=\"130.594919\" style=\"fill: #ff0000; stroke: #ff0000\"/>\n     <use xlink:href=\"#m43088cf630\" x=\"240.867678\" y=\"117.609532\" style=\"fill: #ff0000; stroke: #ff0000\"/>\n     <use xlink:href=\"#m43088cf630\" x=\"243.255558\" y=\"121.256546\" style=\"fill: #ff0000; stroke: #ff0000\"/>\n     <use xlink:href=\"#m43088cf630\" x=\"245.643438\" y=\"176.237576\" style=\"fill: #ff0000; stroke: #ff0000\"/>\n     <use xlink:href=\"#m43088cf630\" x=\"248.031318\" y=\"135.940513\" style=\"fill: #ff0000; stroke: #ff0000\"/>\n     <use xlink:href=\"#m43088cf630\" x=\"250.419198\" y=\"104.715353\" style=\"fill: #ff0000; stroke: #ff0000\"/>\n     <use xlink:href=\"#m43088cf630\" x=\"252.807078\" y=\"164.771709\" style=\"fill: #ff0000; stroke: #ff0000\"/>\n     <use xlink:href=\"#m43088cf630\" x=\"255.194958\" y=\"158.185071\" style=\"fill: #ff0000; stroke: #ff0000\"/>\n     <use xlink:href=\"#m43088cf630\" x=\"257.582838\" y=\"146.752463\" style=\"fill: #ff0000; stroke: #ff0000\"/>\n     <use xlink:href=\"#m43088cf630\" x=\"259.970717\" y=\"141.270618\" style=\"fill: #ff0000; stroke: #ff0000\"/>\n     <use xlink:href=\"#m43088cf630\" x=\"262.358597\" y=\"135.501464\" style=\"fill: #ff0000; stroke: #ff0000\"/>\n     <use xlink:href=\"#m43088cf630\" x=\"264.746477\" y=\"136.074829\" style=\"fill: #ff0000; stroke: #ff0000\"/>\n     <use xlink:href=\"#m43088cf630\" x=\"267.134357\" y=\"140.822281\" style=\"fill: #ff0000; stroke: #ff0000\"/>\n     <use xlink:href=\"#m43088cf630\" x=\"269.522237\" y=\"171.122414\" style=\"fill: #ff0000; stroke: #ff0000\"/>\n     <use xlink:href=\"#m43088cf630\" x=\"271.910117\" y=\"163.54991\" style=\"fill: #ff0000; stroke: #ff0000\"/>\n     <use xlink:href=\"#m43088cf630\" x=\"274.297997\" y=\"119.073915\" style=\"fill: #ff0000; stroke: #ff0000\"/>\n     <use xlink:href=\"#m43088cf630\" x=\"276.685877\" y=\"145.532705\" style=\"fill: #ff0000; stroke: #ff0000\"/>\n     <use xlink:href=\"#m43088cf630\" x=\"279.073757\" y=\"122.321801\" style=\"fill: #ff0000; stroke: #ff0000\"/>\n     <use xlink:href=\"#m43088cf630\" x=\"281.461637\" y=\"119.908065\" style=\"fill: #ff0000; stroke: #ff0000\"/>\n     <use xlink:href=\"#m43088cf630\" x=\"283.836883\" y=\"120.609893\" style=\"fill: #ff0000; stroke: #ff0000\"/>\n     <use xlink:href=\"#m43088cf630\" x=\"286.224763\" y=\"145.114324\" style=\"fill: #ff0000; stroke: #ff0000\"/>\n     <use xlink:href=\"#m43088cf630\" x=\"288.612642\" y=\"96.779136\" style=\"fill: #ff0000; stroke: #ff0000\"/>\n     <use xlink:href=\"#m43088cf630\" x=\"291.000522\" y=\"132.366974\" style=\"fill: #ff0000; stroke: #ff0000\"/>\n     <use xlink:href=\"#m43088cf630\" x=\"293.388402\" y=\"96.302081\" style=\"fill: #ff0000; stroke: #ff0000\"/>\n     <use xlink:href=\"#m43088cf630\" x=\"295.776282\" y=\"88.721584\" style=\"fill: #ff0000; stroke: #ff0000\"/>\n     <use xlink:href=\"#m43088cf630\" x=\"298.164162\" y=\"114.472725\" style=\"fill: #ff0000; stroke: #ff0000\"/>\n     <use xlink:href=\"#m43088cf630\" x=\"300.552042\" y=\"126.806339\" style=\"fill: #ff0000; stroke: #ff0000\"/>\n     <use xlink:href=\"#m43088cf630\" x=\"302.939922\" y=\"104.77949\" style=\"fill: #ff0000; stroke: #ff0000\"/>\n     <use xlink:href=\"#m43088cf630\" x=\"305.327802\" y=\"99.582129\" style=\"fill: #ff0000; stroke: #ff0000\"/>\n     <use xlink:href=\"#m43088cf630\" x=\"307.715682\" y=\"121.417638\" style=\"fill: #ff0000; stroke: #ff0000\"/>\n     <use xlink:href=\"#m43088cf630\" x=\"310.103562\" y=\"93.77417\" style=\"fill: #ff0000; stroke: #ff0000\"/>\n     <use xlink:href=\"#m43088cf630\" x=\"312.491442\" y=\"127.980929\" style=\"fill: #ff0000; stroke: #ff0000\"/>\n     <use xlink:href=\"#m43088cf630\" x=\"314.879322\" y=\"102.742678\" style=\"fill: #ff0000; stroke: #ff0000\"/>\n     <use xlink:href=\"#m43088cf630\" x=\"317.267202\" y=\"125.249072\" style=\"fill: #ff0000; stroke: #ff0000\"/>\n     <use xlink:href=\"#m43088cf630\" x=\"319.655082\" y=\"90.031097\" style=\"fill: #ff0000; stroke: #ff0000\"/>\n     <use xlink:href=\"#m43088cf630\" x=\"322.042962\" y=\"128.338635\" style=\"fill: #ff0000; stroke: #ff0000\"/>\n     <use xlink:href=\"#m43088cf630\" x=\"324.430842\" y=\"98.131684\" style=\"fill: #ff0000; stroke: #ff0000\"/>\n     <use xlink:href=\"#m43088cf630\" x=\"326.818722\" y=\"139.92825\" style=\"fill: #ff0000; stroke: #ff0000\"/>\n     <use xlink:href=\"#m43088cf630\" x=\"329.206602\" y=\"48.280949\" style=\"fill: #ff0000; stroke: #ff0000\"/>\n     <use xlink:href=\"#m43088cf630\" x=\"331.594481\" y=\"64.281744\" style=\"fill: #ff0000; stroke: #ff0000\"/>\n     <use xlink:href=\"#m43088cf630\" x=\"333.982361\" y=\"65.208518\" style=\"fill: #ff0000; stroke: #ff0000\"/>\n     <use xlink:href=\"#m43088cf630\" x=\"336.357607\" y=\"88.072733\" style=\"fill: #ff0000; stroke: #ff0000\"/>\n     <use xlink:href=\"#m43088cf630\" x=\"338.745487\" y=\"104.20706\" style=\"fill: #ff0000; stroke: #ff0000\"/>\n     <use xlink:href=\"#m43088cf630\" x=\"341.133367\" y=\"84.473211\" style=\"fill: #ff0000; stroke: #ff0000\"/>\n     <use xlink:href=\"#m43088cf630\" x=\"343.521247\" y=\"77.977139\" style=\"fill: #ff0000; stroke: #ff0000\"/>\n     <use xlink:href=\"#m43088cf630\" x=\"345.909127\" y=\"85.347332\" style=\"fill: #ff0000; stroke: #ff0000\"/>\n     <use xlink:href=\"#m43088cf630\" x=\"348.297007\" y=\"51.815728\" style=\"fill: #ff0000; stroke: #ff0000\"/>\n     <use xlink:href=\"#m43088cf630\" x=\"350.684887\" y=\"71.479389\" style=\"fill: #ff0000; stroke: #ff0000\"/>\n     <use xlink:href=\"#m43088cf630\" x=\"353.072767\" y=\"98.893195\" style=\"fill: #ff0000; stroke: #ff0000\"/>\n     <use xlink:href=\"#m43088cf630\" x=\"355.460647\" y=\"37.864275\" style=\"fill: #ff0000; stroke: #ff0000\"/>\n     <use xlink:href=\"#m43088cf630\" x=\"357.848527\" y=\"79.090143\" style=\"fill: #ff0000; stroke: #ff0000\"/>\n     <use xlink:href=\"#m43088cf630\" x=\"360.236406\" y=\"55.69456\" style=\"fill: #ff0000; stroke: #ff0000\"/>\n     <use xlink:href=\"#m43088cf630\" x=\"362.624286\" y=\"75.183527\" style=\"fill: #ff0000; stroke: #ff0000\"/>\n     <use xlink:href=\"#m43088cf630\" x=\"365.012166\" y=\"80.287188\" style=\"fill: #ff0000; stroke: #ff0000\"/>\n     <use xlink:href=\"#m43088cf630\" x=\"367.400046\" y=\"93.216835\" style=\"fill: #ff0000; stroke: #ff0000\"/>\n     <use xlink:href=\"#m43088cf630\" x=\"369.787926\" y=\"91.073941\" style=\"fill: #ff0000; stroke: #ff0000\"/>\n     <use xlink:href=\"#m43088cf630\" x=\"372.175806\" y=\"71.942635\" style=\"fill: #ff0000; stroke: #ff0000\"/>\n     <use xlink:href=\"#m43088cf630\" x=\"374.563686\" y=\"59.699221\" style=\"fill: #ff0000; stroke: #ff0000\"/>\n     <use xlink:href=\"#m43088cf630\" x=\"376.951566\" y=\"40.693195\" style=\"fill: #ff0000; stroke: #ff0000\"/>\n     <use xlink:href=\"#m43088cf630\" x=\"379.339446\" y=\"68.391397\" style=\"fill: #ff0000; stroke: #ff0000\"/>\n     <use xlink:href=\"#m43088cf630\" x=\"381.727326\" y=\"88.937101\" style=\"fill: #ff0000; stroke: #ff0000\"/>\n     <use xlink:href=\"#m43088cf630\" x=\"384.115206\" y=\"83.614589\" style=\"fill: #ff0000; stroke: #ff0000\"/>\n     <use xlink:href=\"#m43088cf630\" x=\"386.503086\" y=\"100.422899\" style=\"fill: #ff0000; stroke: #ff0000\"/>\n     <use xlink:href=\"#m43088cf630\" x=\"388.890966\" y=\"126.40132\" style=\"fill: #ff0000; stroke: #ff0000\"/>\n     <use xlink:href=\"#m43088cf630\" x=\"391.266211\" y=\"56.547538\" style=\"fill: #ff0000; stroke: #ff0000\"/>\n     <use xlink:href=\"#m43088cf630\" x=\"393.654091\" y=\"68.817231\" style=\"fill: #ff0000; stroke: #ff0000\"/>\n     <use xlink:href=\"#m43088cf630\" x=\"396.041971\" y=\"44.123814\" style=\"fill: #ff0000; stroke: #ff0000\"/>\n     <use xlink:href=\"#m43088cf630\" x=\"398.429851\" y=\"63.279217\" style=\"fill: #ff0000; stroke: #ff0000\"/>\n     <use xlink:href=\"#m43088cf630\" x=\"400.817731\" y=\"83.297999\" style=\"fill: #ff0000; stroke: #ff0000\"/>\n     <use xlink:href=\"#m43088cf630\" x=\"403.205611\" y=\"95.279745\" style=\"fill: #ff0000; stroke: #ff0000\"/>\n     <use xlink:href=\"#m43088cf630\" x=\"405.593491\" y=\"95.237582\" style=\"fill: #ff0000; stroke: #ff0000\"/>\n     <use xlink:href=\"#m43088cf630\" x=\"407.981371\" y=\"57.724389\" style=\"fill: #ff0000; stroke: #ff0000\"/>\n     <use xlink:href=\"#m43088cf630\" x=\"410.369251\" y=\"86.728732\" style=\"fill: #ff0000; stroke: #ff0000\"/>\n     <use xlink:href=\"#m43088cf630\" x=\"412.757131\" y=\"65.246182\" style=\"fill: #ff0000; stroke: #ff0000\"/>\n     <use xlink:href=\"#m43088cf630\" x=\"415.145011\" y=\"78.485138\" style=\"fill: #ff0000; stroke: #ff0000\"/>\n     <use xlink:href=\"#m43088cf630\" x=\"417.532891\" y=\"86.82186\" style=\"fill: #ff0000; stroke: #ff0000\"/>\n     <use xlink:href=\"#m43088cf630\" x=\"419.920771\" y=\"60.340289\" style=\"fill: #ff0000; stroke: #ff0000\"/>\n     <use xlink:href=\"#m43088cf630\" x=\"422.308651\" y=\"58.528553\" style=\"fill: #ff0000; stroke: #ff0000\"/>\n     <use xlink:href=\"#m43088cf630\" x=\"424.696531\" y=\"86.106744\" style=\"fill: #ff0000; stroke: #ff0000\"/>\n     <use xlink:href=\"#m43088cf630\" x=\"427.084411\" y=\"88.584229\" style=\"fill: #ff0000; stroke: #ff0000\"/>\n     <use xlink:href=\"#m43088cf630\" x=\"429.472291\" y=\"77.174483\" style=\"fill: #ff0000; stroke: #ff0000\"/>\n     <use xlink:href=\"#m43088cf630\" x=\"431.86017\" y=\"21.122855\" style=\"fill: #ff0000; stroke: #ff0000\"/>\n    </g>\n   </g>\n   <g id=\"patch_3\">\n    <path d=\"M 35.80375 272.339049 \nL 35.80375 41.403728 \n\" style=\"fill: none; stroke: #262626; stroke-width: 0.5; stroke-linejoin: miter; stroke-linecap: square\"/>\n   </g>\n   <g id=\"patch_4\">\n    <path d=\"M 54.66358 313.502812 \nL 434.220255 313.502812 \n\" style=\"fill: none; stroke: #262626; stroke-width: 0.5; stroke-linejoin: miter; stroke-linecap: square\"/>\n   </g>\n   <g id=\"legend_1\">\n    <g id=\"line2d_17\">\n     <g>\n      <use xlink:href=\"#m43088cf630\" x=\"49.10375\" y=\"16.368906\" style=\"fill: #ff0000; stroke: #ff0000\"/>\n     </g>\n    </g>\n    <g id=\"text_18\">\n     <!-- Stress-strain data -->\n     <g style=\"fill: #262626\" transform=\"translate(61.70375 18.818906) scale(0.07 -0.07)\">\n      <defs>\n       <path id=\"DejaVuSerif-53\" d=\"M 594 225 \nL 594 1288 \nL 953 1284 \nQ 969 753 1261 498 \nQ 1553 244 2150 244 \nQ 2706 244 2998 464 \nQ 3291 684 3291 1106 \nQ 3291 1444 3114 1625 \nQ 2938 1806 2369 1978 \nL 1753 2163 \nQ 1084 2366 811 2669 \nQ 538 2972 538 3500 \nQ 538 4094 959 4422 \nQ 1381 4750 2144 4750 \nQ 2469 4750 2856 4679 \nQ 3244 4609 3681 4475 \nL 3681 3481 \nL 3328 3481 \nQ 3275 3975 2998 4195 \nQ 2722 4416 2156 4416 \nQ 1663 4416 1405 4214 \nQ 1147 4013 1147 3628 \nQ 1147 3294 1340 3103 \nQ 1534 2913 2163 2725 \nL 2741 2553 \nQ 3375 2363 3645 2067 \nQ 3916 1772 3916 1275 \nQ 3916 597 3481 253 \nQ 3047 -91 2188 -91 \nQ 1803 -91 1404 -12 \nQ 1006 66 594 225 \nz\n\" transform=\"scale(0.015625)\"/>\n       <path id=\"DejaVuSerif-2d\" d=\"M 281 1959 \nL 1881 1959 \nL 1881 1472 \nL 281 1472 \nL 281 1959 \nz\n\" transform=\"scale(0.015625)\"/>\n       <path id=\"DejaVuSerif-64\" d=\"M 3359 331 \nL 3909 331 \nL 3909 0 \nL 2784 0 \nL 2784 519 \nQ 2616 206 2355 57 \nQ 2094 -91 1709 -91 \nQ 1097 -91 708 395 \nQ 319 881 319 1663 \nQ 319 2444 706 2928 \nQ 1094 3413 1709 3413 \nQ 2094 3413 2355 3264 \nQ 2616 3116 2784 2803 \nL 2784 4531 \nL 2241 4531 \nL 2241 4863 \nL 3359 4863 \nL 3359 331 \nz\nM 2784 1497 \nL 2784 1825 \nQ 2784 2422 2554 2737 \nQ 2325 3053 1888 3053 \nQ 1444 3053 1217 2703 \nQ 991 2353 991 1663 \nQ 991 975 1217 622 \nQ 1444 269 1888 269 \nQ 2325 269 2554 583 \nQ 2784 897 2784 1497 \nz\n\" transform=\"scale(0.015625)\"/>\n      </defs>\n      <use xlink:href=\"#DejaVuSerif-53\"/>\n      <use xlink:href=\"#DejaVuSerif-74\" transform=\"translate(68.505859 0)\"/>\n      <use xlink:href=\"#DejaVuSerif-72\" transform=\"translate(108.691406 0)\"/>\n      <use xlink:href=\"#DejaVuSerif-65\" transform=\"translate(156.494141 0)\"/>\n      <use xlink:href=\"#DejaVuSerif-73\" transform=\"translate(215.673828 0)\"/>\n      <use xlink:href=\"#DejaVuSerif-73\" transform=\"translate(266.992188 0)\"/>\n      <use xlink:href=\"#DejaVuSerif-2d\" transform=\"translate(318.310547 0)\"/>\n      <use xlink:href=\"#DejaVuSerif-73\" transform=\"translate(352.099609 0)\"/>\n      <use xlink:href=\"#DejaVuSerif-74\" transform=\"translate(403.417969 0)\"/>\n      <use xlink:href=\"#DejaVuSerif-72\" transform=\"translate(443.603516 0)\"/>\n      <use xlink:href=\"#DejaVuSerif-61\" transform=\"translate(491.40625 0)\"/>\n      <use xlink:href=\"#DejaVuSerif-69\" transform=\"translate(551.025391 0)\"/>\n      <use xlink:href=\"#DejaVuSerif-6e\" transform=\"translate(583.007812 0)\"/>\n      <use xlink:href=\"#DejaVuSerif-20\" transform=\"translate(647.412109 0)\"/>\n      <use xlink:href=\"#DejaVuSerif-64\" transform=\"translate(679.199219 0)\"/>\n      <use xlink:href=\"#DejaVuSerif-61\" transform=\"translate(743.212891 0)\"/>\n      <use xlink:href=\"#DejaVuSerif-74\" transform=\"translate(802.832031 0)\"/>\n      <use xlink:href=\"#DejaVuSerif-61\" transform=\"translate(843.017578 0)\"/>\n     </g>\n    </g>\n   </g>\n  </g>\n </g>\n <defs>\n  <clipPath id=\"p1e8a745b77\">\n   <rect x=\"35.80375\" y=\"7.2\" width=\"414.91625\" height=\"306.302812\"/>\n  </clipPath>\n </defs>\n</svg>\n"
          },
          "metadata": {}
        }
      ],
      "source": [
        "# The point at which the stress-strain curve stops being linear\n",
        "epsilon_l = 0.04\n",
        "# Relevant data (this is nice way to get the linear part of the stresses and straints)\n",
        "x_rel = x[x < 0.04]\n",
        "y_rel = y[x < 0.04]\n",
        "\n",
        "# Visualize to make sure you have the right data\n",
        "plt.figure()\n",
        "plt.plot(\n",
        "    x_rel,\n",
        "    y_rel,\n",
        "    'ro',\n",
        "    markersize=2,\n",
        "    label='Stress-strain data'\n",
        ")\n",
        "plt.xlabel('$\\epsilon$ (strain in %)')\n",
        "plt.ylabel('$\\sigma$ (stress in MPa)')\n",
        "plt.legend(loc='best', frameon=False)\n",
        "sns.despine(trim=True);"
      ]
    },
    {
      "cell_type": "markdown",
      "metadata": {
        "id": "60Rl9vfkCM7F"
      },
      "source": [
        "Split your data into training and validation.\n",
        "\n",
        "**Hint:** You may use [sklearn.model_selection.train_test_split](https://scikit-learn.org/stable/modules/generated/sklearn.model_selection.train_test_split.html) if you wish."
      ]
    },
    {
      "cell_type": "code",
      "execution_count": 31,
      "metadata": {
        "id": "4_3700qgCM7F"
      },
      "outputs": [],
      "source": [
        "# Split the data into training and validation datasets\n",
        "# Hint: Consult the lecture notes\n",
        "from sklearn.model_selection import train_test_split\n",
        "\n",
        "x_train, y_train, x_valid, y_valid = train_test_split(x, y, test_size=0.33)"
      ]
    },
    {
      "cell_type": "markdown",
      "metadata": {
        "id": "OFy_C5oiCM7F"
      },
      "source": [
        "Use the following to visualize your split:"
      ]
    },
    {
      "cell_type": "code",
      "execution_count": 30,
      "metadata": {
        "colab": {
          "base_uri": "https://localhost:8080/",
          "height": 817
        },
        "id": "oxGoaZChCM7F",
        "outputId": "e69734c3-4798-4286-cdd3-50ec46537278"
      },
      "outputs": [
        {
          "output_type": "error",
          "ename": "ValueError",
          "evalue": "x and y must have same first dimension, but have shapes (670,) and (331,)",
          "traceback": [
            "\u001b[0;31m---------------------------------------------------------------------------\u001b[0m",
            "\u001b[0;31mValueError\u001b[0m                                Traceback (most recent call last)",
            "\u001b[0;32m/tmp/ipython-input-30-2244275848.py\u001b[0m in \u001b[0;36m<cell line: 0>\u001b[0;34m()\u001b[0m\n\u001b[1;32m      1\u001b[0m \u001b[0mplt\u001b[0m\u001b[0;34m.\u001b[0m\u001b[0mfigure\u001b[0m\u001b[0;34m(\u001b[0m\u001b[0;34m)\u001b[0m\u001b[0;34m\u001b[0m\u001b[0;34m\u001b[0m\u001b[0m\n\u001b[0;32m----> 2\u001b[0;31m plt.plot(\n\u001b[0m\u001b[1;32m      3\u001b[0m     \u001b[0mx_train\u001b[0m\u001b[0;34m,\u001b[0m\u001b[0;34m\u001b[0m\u001b[0;34m\u001b[0m\u001b[0m\n\u001b[1;32m      4\u001b[0m     \u001b[0my_train\u001b[0m\u001b[0;34m,\u001b[0m\u001b[0;34m\u001b[0m\u001b[0;34m\u001b[0m\u001b[0m\n\u001b[1;32m      5\u001b[0m     \u001b[0;34m'ro'\u001b[0m\u001b[0;34m,\u001b[0m\u001b[0;34m\u001b[0m\u001b[0;34m\u001b[0m\u001b[0m\n",
            "\u001b[0;32m/usr/local/lib/python3.11/dist-packages/matplotlib/pyplot.py\u001b[0m in \u001b[0;36mplot\u001b[0;34m(scalex, scaley, data, *args, **kwargs)\u001b[0m\n\u001b[1;32m   3827\u001b[0m     \u001b[0;34m**\u001b[0m\u001b[0mkwargs\u001b[0m\u001b[0;34m,\u001b[0m\u001b[0;34m\u001b[0m\u001b[0;34m\u001b[0m\u001b[0m\n\u001b[1;32m   3828\u001b[0m ) -> list[Line2D]:\n\u001b[0;32m-> 3829\u001b[0;31m     return gca().plot(\n\u001b[0m\u001b[1;32m   3830\u001b[0m         \u001b[0;34m*\u001b[0m\u001b[0margs\u001b[0m\u001b[0;34m,\u001b[0m\u001b[0;34m\u001b[0m\u001b[0;34m\u001b[0m\u001b[0m\n\u001b[1;32m   3831\u001b[0m         \u001b[0mscalex\u001b[0m\u001b[0;34m=\u001b[0m\u001b[0mscalex\u001b[0m\u001b[0;34m,\u001b[0m\u001b[0;34m\u001b[0m\u001b[0;34m\u001b[0m\u001b[0m\n",
            "\u001b[0;32m/usr/local/lib/python3.11/dist-packages/matplotlib/axes/_axes.py\u001b[0m in \u001b[0;36mplot\u001b[0;34m(self, scalex, scaley, data, *args, **kwargs)\u001b[0m\n\u001b[1;32m   1775\u001b[0m         \"\"\"\n\u001b[1;32m   1776\u001b[0m         \u001b[0mkwargs\u001b[0m \u001b[0;34m=\u001b[0m \u001b[0mcbook\u001b[0m\u001b[0;34m.\u001b[0m\u001b[0mnormalize_kwargs\u001b[0m\u001b[0;34m(\u001b[0m\u001b[0mkwargs\u001b[0m\u001b[0;34m,\u001b[0m \u001b[0mmlines\u001b[0m\u001b[0;34m.\u001b[0m\u001b[0mLine2D\u001b[0m\u001b[0;34m)\u001b[0m\u001b[0;34m\u001b[0m\u001b[0;34m\u001b[0m\u001b[0m\n\u001b[0;32m-> 1777\u001b[0;31m         \u001b[0mlines\u001b[0m \u001b[0;34m=\u001b[0m \u001b[0;34m[\u001b[0m\u001b[0;34m*\u001b[0m\u001b[0mself\u001b[0m\u001b[0;34m.\u001b[0m\u001b[0m_get_lines\u001b[0m\u001b[0;34m(\u001b[0m\u001b[0mself\u001b[0m\u001b[0;34m,\u001b[0m \u001b[0;34m*\u001b[0m\u001b[0margs\u001b[0m\u001b[0;34m,\u001b[0m \u001b[0mdata\u001b[0m\u001b[0;34m=\u001b[0m\u001b[0mdata\u001b[0m\u001b[0;34m,\u001b[0m \u001b[0;34m**\u001b[0m\u001b[0mkwargs\u001b[0m\u001b[0;34m)\u001b[0m\u001b[0;34m]\u001b[0m\u001b[0;34m\u001b[0m\u001b[0;34m\u001b[0m\u001b[0m\n\u001b[0m\u001b[1;32m   1778\u001b[0m         \u001b[0;32mfor\u001b[0m \u001b[0mline\u001b[0m \u001b[0;32min\u001b[0m \u001b[0mlines\u001b[0m\u001b[0;34m:\u001b[0m\u001b[0;34m\u001b[0m\u001b[0;34m\u001b[0m\u001b[0m\n\u001b[1;32m   1779\u001b[0m             \u001b[0mself\u001b[0m\u001b[0;34m.\u001b[0m\u001b[0madd_line\u001b[0m\u001b[0;34m(\u001b[0m\u001b[0mline\u001b[0m\u001b[0;34m)\u001b[0m\u001b[0;34m\u001b[0m\u001b[0;34m\u001b[0m\u001b[0m\n",
            "\u001b[0;32m/usr/local/lib/python3.11/dist-packages/matplotlib/axes/_base.py\u001b[0m in \u001b[0;36m__call__\u001b[0;34m(self, axes, data, return_kwargs, *args, **kwargs)\u001b[0m\n\u001b[1;32m    295\u001b[0m                 \u001b[0mthis\u001b[0m \u001b[0;34m+=\u001b[0m \u001b[0margs\u001b[0m\u001b[0;34m[\u001b[0m\u001b[0;36m0\u001b[0m\u001b[0;34m]\u001b[0m\u001b[0;34m,\u001b[0m\u001b[0;34m\u001b[0m\u001b[0;34m\u001b[0m\u001b[0m\n\u001b[1;32m    296\u001b[0m                 \u001b[0margs\u001b[0m \u001b[0;34m=\u001b[0m \u001b[0margs\u001b[0m\u001b[0;34m[\u001b[0m\u001b[0;36m1\u001b[0m\u001b[0;34m:\u001b[0m\u001b[0;34m]\u001b[0m\u001b[0;34m\u001b[0m\u001b[0;34m\u001b[0m\u001b[0m\n\u001b[0;32m--> 297\u001b[0;31m             yield from self._plot_args(\n\u001b[0m\u001b[1;32m    298\u001b[0m                 \u001b[0maxes\u001b[0m\u001b[0;34m,\u001b[0m \u001b[0mthis\u001b[0m\u001b[0;34m,\u001b[0m \u001b[0mkwargs\u001b[0m\u001b[0;34m,\u001b[0m \u001b[0mambiguous_fmt_datakey\u001b[0m\u001b[0;34m=\u001b[0m\u001b[0mambiguous_fmt_datakey\u001b[0m\u001b[0;34m,\u001b[0m\u001b[0;34m\u001b[0m\u001b[0;34m\u001b[0m\u001b[0m\n\u001b[1;32m    299\u001b[0m                 \u001b[0mreturn_kwargs\u001b[0m\u001b[0;34m=\u001b[0m\u001b[0mreturn_kwargs\u001b[0m\u001b[0;34m\u001b[0m\u001b[0;34m\u001b[0m\u001b[0m\n",
            "\u001b[0;32m/usr/local/lib/python3.11/dist-packages/matplotlib/axes/_base.py\u001b[0m in \u001b[0;36m_plot_args\u001b[0;34m(self, axes, tup, kwargs, return_kwargs, ambiguous_fmt_datakey)\u001b[0m\n\u001b[1;32m    492\u001b[0m \u001b[0;34m\u001b[0m\u001b[0m\n\u001b[1;32m    493\u001b[0m         \u001b[0;32mif\u001b[0m \u001b[0mx\u001b[0m\u001b[0;34m.\u001b[0m\u001b[0mshape\u001b[0m\u001b[0;34m[\u001b[0m\u001b[0;36m0\u001b[0m\u001b[0;34m]\u001b[0m \u001b[0;34m!=\u001b[0m \u001b[0my\u001b[0m\u001b[0;34m.\u001b[0m\u001b[0mshape\u001b[0m\u001b[0;34m[\u001b[0m\u001b[0;36m0\u001b[0m\u001b[0;34m]\u001b[0m\u001b[0;34m:\u001b[0m\u001b[0;34m\u001b[0m\u001b[0;34m\u001b[0m\u001b[0m\n\u001b[0;32m--> 494\u001b[0;31m             raise ValueError(f\"x and y must have same first dimension, but \"\n\u001b[0m\u001b[1;32m    495\u001b[0m                              f\"have shapes {x.shape} and {y.shape}\")\n\u001b[1;32m    496\u001b[0m         \u001b[0;32mif\u001b[0m \u001b[0mx\u001b[0m\u001b[0;34m.\u001b[0m\u001b[0mndim\u001b[0m \u001b[0;34m>\u001b[0m \u001b[0;36m2\u001b[0m \u001b[0;32mor\u001b[0m \u001b[0my\u001b[0m\u001b[0;34m.\u001b[0m\u001b[0mndim\u001b[0m \u001b[0;34m>\u001b[0m \u001b[0;36m2\u001b[0m\u001b[0;34m:\u001b[0m\u001b[0;34m\u001b[0m\u001b[0;34m\u001b[0m\u001b[0m\n",
            "\u001b[0;31mValueError\u001b[0m: x and y must have same first dimension, but have shapes (670,) and (331,)"
          ]
        },
        {
          "output_type": "display_data",
          "data": {
            "text/plain": [
              "<Figure size 3840x2880 with 1 Axes>"
            ],
            "image/svg+xml": "<?xml version=\"1.0\" encoding=\"utf-8\" standalone=\"no\"?>\n<!DOCTYPE svg PUBLIC \"-//W3C//DTD SVG 1.1//EN\"\n  \"http://www.w3.org/Graphics/SVG/1.1/DTD/svg11.dtd\">\n<svg xmlns:xlink=\"http://www.w3.org/1999/xlink\" width=\"457.92pt\" height=\"342.72pt\" viewBox=\"0 0 457.92 342.72\" xmlns=\"http://www.w3.org/2000/svg\" version=\"1.1\">\n <metadata>\n  <rdf:RDF xmlns:dc=\"http://purl.org/dc/elements/1.1/\" xmlns:cc=\"http://creativecommons.org/ns#\" xmlns:rdf=\"http://www.w3.org/1999/02/22-rdf-syntax-ns#\">\n   <cc:Work>\n    <dc:type rdf:resource=\"http://purl.org/dc/dcmitype/StillImage\"/>\n    <dc:date>2025-07-15T17:22:28.081788</dc:date>\n    <dc:format>image/svg+xml</dc:format>\n    <dc:creator>\n     <cc:Agent>\n      <dc:title>Matplotlib v3.10.0, https://matplotlib.org/</dc:title>\n     </cc:Agent>\n    </dc:creator>\n   </cc:Work>\n  </rdf:RDF>\n </metadata>\n <defs>\n  <style type=\"text/css\">*{stroke-linejoin: round; stroke-linecap: butt}</style>\n </defs>\n <g id=\"figure_1\">\n  <g id=\"patch_1\">\n   <path d=\"M 0 342.72 \nL 457.92 342.72 \nL 457.92 0 \nL 0 0 \nz\n\" style=\"fill: #ffffff\"/>\n  </g>\n  <g id=\"axes_1\">\n   <g id=\"patch_2\">\n    <path d=\"M 21.832188 325.245312 \nL 445.153906 325.245312 \nL 445.153906 9.859453 \nL 21.832188 9.859453 \nz\n\" style=\"fill: #ffffff\"/>\n   </g>\n   <g id=\"matplotlib.axis_1\">\n    <g id=\"xtick_1\">\n     <g id=\"line2d_1\"/>\n     <g id=\"text_1\">\n      <!-- 0.0 -->\n      <g style=\"fill: #262626\" transform=\"translate(16.266094 334.064219) scale(0.07 -0.07)\">\n       <defs>\n        <path id=\"DejaVuSerif-30\" d=\"M 2034 219 \nQ 2513 219 2750 744 \nQ 2988 1269 2988 2328 \nQ 2988 3391 2750 3916 \nQ 2513 4441 2034 4441 \nQ 1556 4441 1318 3916 \nQ 1081 3391 1081 2328 \nQ 1081 1269 1318 744 \nQ 1556 219 2034 219 \nz\nM 2034 -91 \nQ 1275 -91 848 546 \nQ 422 1184 422 2328 \nQ 422 3475 848 4112 \nQ 1275 4750 2034 4750 \nQ 2797 4750 3222 4112 \nQ 3647 3475 3647 2328 \nQ 3647 1184 3222 546 \nQ 2797 -91 2034 -91 \nz\n\" transform=\"scale(0.015625)\"/>\n        <path id=\"DejaVuSerif-2e\" d=\"M 603 325 \nQ 603 500 722 622 \nQ 841 744 1019 744 \nQ 1191 744 1312 622 \nQ 1434 500 1434 325 \nQ 1434 153 1312 31 \nQ 1191 -91 1019 -91 \nQ 841 -91 722 29 \nQ 603 150 603 325 \nz\n\" transform=\"scale(0.015625)\"/>\n       </defs>\n       <use xlink:href=\"#DejaVuSerif-30\"/>\n       <use xlink:href=\"#DejaVuSerif-2e\" transform=\"translate(63.623047 0)\"/>\n       <use xlink:href=\"#DejaVuSerif-30\" transform=\"translate(95.410156 0)\"/>\n      </g>\n     </g>\n    </g>\n    <g id=\"xtick_2\">\n     <g id=\"line2d_2\"/>\n     <g id=\"text_2\">\n      <!-- 0.2 -->\n      <g style=\"fill: #262626\" transform=\"translate(100.930438 334.064219) scale(0.07 -0.07)\">\n       <defs>\n        <path id=\"DejaVuSerif-32\" d=\"M 819 3553 \nL 469 3553 \nL 469 4384 \nQ 803 4563 1142 4656 \nQ 1481 4750 1806 4750 \nQ 2534 4750 2956 4397 \nQ 3378 4044 3378 3438 \nQ 3378 2753 2422 1800 \nQ 2347 1728 2309 1691 \nL 1131 513 \nL 3078 513 \nL 3078 1088 \nL 3444 1088 \nL 3444 0 \nL 434 0 \nL 434 341 \nL 1850 1753 \nQ 2319 2222 2519 2614 \nQ 2719 3006 2719 3438 \nQ 2719 3909 2473 4175 \nQ 2228 4441 1797 4441 \nQ 1350 4441 1106 4219 \nQ 863 3997 819 3553 \nz\n\" transform=\"scale(0.015625)\"/>\n       </defs>\n       <use xlink:href=\"#DejaVuSerif-30\"/>\n       <use xlink:href=\"#DejaVuSerif-2e\" transform=\"translate(63.623047 0)\"/>\n       <use xlink:href=\"#DejaVuSerif-32\" transform=\"translate(95.410156 0)\"/>\n      </g>\n     </g>\n    </g>\n    <g id=\"xtick_3\">\n     <g id=\"line2d_3\"/>\n     <g id=\"text_3\">\n      <!-- 0.4 -->\n      <g style=\"fill: #262626\" transform=\"translate(185.594781 334.064219) scale(0.07 -0.07)\">\n       <defs>\n        <path id=\"DejaVuSerif-34\" d=\"M 2234 1581 \nL 2234 4063 \nL 641 1581 \nL 2234 1581 \nz\nM 3609 0 \nL 1484 0 \nL 1484 331 \nL 2234 331 \nL 2234 1247 \nL 197 1247 \nL 197 1588 \nL 2241 4750 \nL 2859 4750 \nL 2859 1581 \nL 3750 1581 \nL 3750 1247 \nL 2859 1247 \nL 2859 331 \nL 3609 331 \nL 3609 0 \nz\n\" transform=\"scale(0.015625)\"/>\n       </defs>\n       <use xlink:href=\"#DejaVuSerif-30\"/>\n       <use xlink:href=\"#DejaVuSerif-2e\" transform=\"translate(63.623047 0)\"/>\n       <use xlink:href=\"#DejaVuSerif-34\" transform=\"translate(95.410156 0)\"/>\n      </g>\n     </g>\n    </g>\n    <g id=\"xtick_4\">\n     <g id=\"line2d_4\"/>\n     <g id=\"text_4\">\n      <!-- 0.6 -->\n      <g style=\"fill: #262626\" transform=\"translate(270.259125 334.064219) scale(0.07 -0.07)\">\n       <defs>\n        <path id=\"DejaVuSerif-36\" d=\"M 2094 219 \nQ 2534 219 2771 542 \nQ 3009 866 3009 1472 \nQ 3009 2078 2771 2401 \nQ 2534 2725 2094 2725 \nQ 1647 2725 1412 2412 \nQ 1178 2100 1178 1509 \nQ 1178 888 1415 553 \nQ 1653 219 2094 219 \nz\nM 1075 2569 \nQ 1288 2803 1556 2918 \nQ 1825 3034 2163 3034 \nQ 2859 3034 3264 2615 \nQ 3669 2197 3669 1472 \nQ 3669 763 3233 336 \nQ 2797 -91 2069 -91 \nQ 1278 -91 853 498 \nQ 428 1088 428 2181 \nQ 428 3406 931 4078 \nQ 1434 4750 2350 4750 \nQ 2597 4750 2869 4703 \nQ 3141 4656 3425 4563 \nL 3425 3794 \nL 3072 3794 \nQ 3034 4109 2831 4275 \nQ 2628 4441 2284 4441 \nQ 1678 4441 1381 3981 \nQ 1084 3522 1075 2569 \nz\n\" transform=\"scale(0.015625)\"/>\n       </defs>\n       <use xlink:href=\"#DejaVuSerif-30\"/>\n       <use xlink:href=\"#DejaVuSerif-2e\" transform=\"translate(63.623047 0)\"/>\n       <use xlink:href=\"#DejaVuSerif-36\" transform=\"translate(95.410156 0)\"/>\n      </g>\n     </g>\n    </g>\n    <g id=\"xtick_5\">\n     <g id=\"line2d_5\"/>\n     <g id=\"text_5\">\n      <!-- 0.8 -->\n      <g style=\"fill: #262626\" transform=\"translate(354.923469 334.064219) scale(0.07 -0.07)\">\n       <defs>\n        <path id=\"DejaVuSerif-38\" d=\"M 2981 1275 \nQ 2981 1775 2732 2051 \nQ 2484 2328 2034 2328 \nQ 1584 2328 1336 2051 \nQ 1088 1775 1088 1275 \nQ 1088 772 1336 495 \nQ 1584 219 2034 219 \nQ 2484 219 2732 495 \nQ 2981 772 2981 1275 \nz\nM 2853 3541 \nQ 2853 3966 2637 4203 \nQ 2422 4441 2034 4441 \nQ 1650 4441 1433 4203 \nQ 1216 3966 1216 3541 \nQ 1216 3113 1433 2875 \nQ 1650 2638 2034 2638 \nQ 2422 2638 2637 2875 \nQ 2853 3113 2853 3541 \nz\nM 2516 2484 \nQ 3047 2413 3344 2092 \nQ 3641 1772 3641 1275 \nQ 3641 619 3225 264 \nQ 2809 -91 2034 -91 \nQ 1263 -91 845 264 \nQ 428 619 428 1275 \nQ 428 1772 725 2092 \nQ 1022 2413 1556 2484 \nQ 1084 2569 832 2842 \nQ 581 3116 581 3541 \nQ 581 4103 968 4426 \nQ 1356 4750 2034 4750 \nQ 2713 4750 3100 4426 \nQ 3488 4103 3488 3541 \nQ 3488 3116 3236 2842 \nQ 2984 2569 2516 2484 \nz\n\" transform=\"scale(0.015625)\"/>\n       </defs>\n       <use xlink:href=\"#DejaVuSerif-30\"/>\n       <use xlink:href=\"#DejaVuSerif-2e\" transform=\"translate(63.623047 0)\"/>\n       <use xlink:href=\"#DejaVuSerif-38\" transform=\"translate(95.410156 0)\"/>\n      </g>\n     </g>\n    </g>\n    <g id=\"xtick_6\">\n     <g id=\"line2d_6\"/>\n     <g id=\"text_6\">\n      <!-- 1.0 -->\n      <g style=\"fill: #262626\" transform=\"translate(439.587812 334.064219) scale(0.07 -0.07)\">\n       <defs>\n        <path id=\"DejaVuSerif-31\" d=\"M 909 0 \nL 909 331 \nL 1722 331 \nL 1722 4213 \nL 781 3603 \nL 781 4013 \nL 1919 4750 \nL 2350 4750 \nL 2350 331 \nL 3163 331 \nL 3163 0 \nL 909 0 \nz\n\" transform=\"scale(0.015625)\"/>\n       </defs>\n       <use xlink:href=\"#DejaVuSerif-31\"/>\n       <use xlink:href=\"#DejaVuSerif-2e\" transform=\"translate(63.623047 0)\"/>\n       <use xlink:href=\"#DejaVuSerif-30\" transform=\"translate(95.410156 0)\"/>\n      </g>\n     </g>\n    </g>\n   </g>\n   <g id=\"matplotlib.axis_2\">\n    <g id=\"ytick_1\">\n     <g id=\"line2d_7\"/>\n     <g id=\"text_7\">\n      <!-- 0.0 -->\n      <g style=\"fill: #262626\" transform=\"translate(7.2 327.904766) scale(0.07 -0.07)\">\n       <use xlink:href=\"#DejaVuSerif-30\"/>\n       <use xlink:href=\"#DejaVuSerif-2e\" transform=\"translate(63.623047 0)\"/>\n       <use xlink:href=\"#DejaVuSerif-30\" transform=\"translate(95.410156 0)\"/>\n      </g>\n     </g>\n    </g>\n    <g id=\"ytick_2\">\n     <g id=\"line2d_8\"/>\n     <g id=\"text_8\">\n      <!-- 0.2 -->\n      <g style=\"fill: #262626\" transform=\"translate(7.2 264.827594) scale(0.07 -0.07)\">\n       <use xlink:href=\"#DejaVuSerif-30\"/>\n       <use xlink:href=\"#DejaVuSerif-2e\" transform=\"translate(63.623047 0)\"/>\n       <use xlink:href=\"#DejaVuSerif-32\" transform=\"translate(95.410156 0)\"/>\n      </g>\n     </g>\n    </g>\n    <g id=\"ytick_3\">\n     <g id=\"line2d_9\"/>\n     <g id=\"text_9\">\n      <!-- 0.4 -->\n      <g style=\"fill: #262626\" transform=\"translate(7.2 201.750422) scale(0.07 -0.07)\">\n       <use xlink:href=\"#DejaVuSerif-30\"/>\n       <use xlink:href=\"#DejaVuSerif-2e\" transform=\"translate(63.623047 0)\"/>\n       <use xlink:href=\"#DejaVuSerif-34\" transform=\"translate(95.410156 0)\"/>\n      </g>\n     </g>\n    </g>\n    <g id=\"ytick_4\">\n     <g id=\"line2d_10\"/>\n     <g id=\"text_10\">\n      <!-- 0.6 -->\n      <g style=\"fill: #262626\" transform=\"translate(7.2 138.67325) scale(0.07 -0.07)\">\n       <use xlink:href=\"#DejaVuSerif-30\"/>\n       <use xlink:href=\"#DejaVuSerif-2e\" transform=\"translate(63.623047 0)\"/>\n       <use xlink:href=\"#DejaVuSerif-36\" transform=\"translate(95.410156 0)\"/>\n      </g>\n     </g>\n    </g>\n    <g id=\"ytick_5\">\n     <g id=\"line2d_11\"/>\n     <g id=\"text_11\">\n      <!-- 0.8 -->\n      <g style=\"fill: #262626\" transform=\"translate(7.2 75.596078) scale(0.07 -0.07)\">\n       <use xlink:href=\"#DejaVuSerif-30\"/>\n       <use xlink:href=\"#DejaVuSerif-2e\" transform=\"translate(63.623047 0)\"/>\n       <use xlink:href=\"#DejaVuSerif-38\" transform=\"translate(95.410156 0)\"/>\n      </g>\n     </g>\n    </g>\n    <g id=\"ytick_6\">\n     <g id=\"line2d_12\"/>\n     <g id=\"text_12\">\n      <!-- 1.0 -->\n      <g style=\"fill: #262626\" transform=\"translate(7.2 12.518906) scale(0.07 -0.07)\">\n       <use xlink:href=\"#DejaVuSerif-31\"/>\n       <use xlink:href=\"#DejaVuSerif-2e\" transform=\"translate(63.623047 0)\"/>\n       <use xlink:href=\"#DejaVuSerif-30\" transform=\"translate(95.410156 0)\"/>\n      </g>\n     </g>\n    </g>\n   </g>\n   <g id=\"patch_3\">\n    <path d=\"M 21.832188 325.245312 \nL 21.832188 9.859453 \n\" style=\"fill: none; stroke: #262626; stroke-width: 0.5; stroke-linejoin: miter; stroke-linecap: square\"/>\n   </g>\n   <g id=\"patch_4\">\n    <path d=\"M 21.832188 325.245312 \nL 445.153906 325.245312 \n\" style=\"fill: none; stroke: #262626; stroke-width: 0.5; stroke-linejoin: miter; stroke-linecap: square\"/>\n   </g>\n  </g>\n </g>\n</svg>\n"
          },
          "metadata": {}
        }
      ],
      "source": [
        "plt.figure()\n",
        "plt.plot(\n",
        "    x_train,\n",
        "    y_train,\n",
        "    'ro',\n",
        "    markersize=2,\n",
        "    label='Training data'\n",
        ")\n",
        "plt.plot(\n",
        "    x_valid,\n",
        "    y_valid,\n",
        "    'bx',\n",
        "    markersize=2,\n",
        "    label='Validation data'\n",
        ")\n",
        "plt.xlabel('$\\epsilon$ (strain in %)')\n",
        "plt.ylabel('$\\sigma$ (stress in MPa)')\n",
        "plt.legend(loc='best', frameon=False)\n",
        "sns.despine(trim=True);"
      ]
    },
    {
      "cell_type": "markdown",
      "metadata": {
        "id": "T2DxbCtnCM7F"
      },
      "source": [
        "### Subpart A.II\n",
        "Perform Bayesian linear regression with the evidence approximation to estimate the noise variance and the hyperparameters of the prior."
      ]
    },
    {
      "cell_type": "code",
      "execution_count": null,
      "metadata": {
        "id": "Fdyz2vgHCM7F"
      },
      "outputs": [],
      "source": [
        "# Your code here"
      ]
    },
    {
      "cell_type": "markdown",
      "metadata": {
        "id": "JkHPHegdCM7F"
      },
      "source": [
        "### Subpart A.III\n",
        "Calculate the mean square error of the validation data."
      ]
    },
    {
      "cell_type": "code",
      "execution_count": null,
      "metadata": {
        "id": "-JswSnuWCM7F"
      },
      "outputs": [],
      "source": [
        "# your code here"
      ]
    },
    {
      "cell_type": "markdown",
      "metadata": {
        "id": "Qc17KRxkCM7F"
      },
      "source": [
        "### Subpart A.IV\n",
        "Make the observations vs predictions plot for the validation data."
      ]
    },
    {
      "cell_type": "code",
      "execution_count": null,
      "metadata": {
        "id": "v0moySZuCM7G"
      },
      "outputs": [],
      "source": [
        "# your code here"
      ]
    },
    {
      "cell_type": "markdown",
      "metadata": {
        "id": "K_NoxNkWCM7G"
      },
      "source": [
        "### Subpart A.V\n",
        "Compute and plot the standardized errors for the validation data."
      ]
    },
    {
      "cell_type": "code",
      "execution_count": null,
      "metadata": {
        "id": "zJTtm4zrCM7G"
      },
      "outputs": [],
      "source": [
        "# your code here"
      ]
    },
    {
      "cell_type": "markdown",
      "metadata": {
        "id": "w6sJkP7ECM7G"
      },
      "source": [
        "### Subpart A.VI\n",
        "Make the quantile-quantile plot of the standardized errors."
      ]
    },
    {
      "cell_type": "code",
      "execution_count": null,
      "metadata": {
        "id": "75V5pqWfCM7G"
      },
      "outputs": [],
      "source": [
        "# your code here"
      ]
    },
    {
      "cell_type": "markdown",
      "metadata": {
        "id": "0kQ8Qy0dCM7G"
      },
      "source": [
        "### Subpart A.VII\n",
        "Visualize your epistemic and the aleatory uncertainty about the stress-strain curve in the elastic regime."
      ]
    },
    {
      "cell_type": "code",
      "execution_count": null,
      "metadata": {
        "id": "eVYIk-tUCM7G"
      },
      "outputs": [],
      "source": [
        "# your code here"
      ]
    },
    {
      "cell_type": "markdown",
      "metadata": {
        "id": "hiyjkYeUCM7G"
      },
      "source": [
        "### Subpart A. VIII\n",
        "Visualize the posterior of the Young modulus E conditioned on the data."
      ]
    },
    {
      "cell_type": "code",
      "execution_count": null,
      "metadata": {
        "id": "ru1fwa2ZCM7G"
      },
      "outputs": [],
      "source": [
        "# your code here"
      ]
    },
    {
      "cell_type": "markdown",
      "metadata": {
        "id": "q_dNV7HLCM7G"
      },
      "source": [
        "### Subpart A.IX\n",
        "Take five samples of stress-strain curve in the elastic regime and visualize them."
      ]
    },
    {
      "cell_type": "code",
      "execution_count": null,
      "metadata": {
        "id": "0jsZaPcyCM7G"
      },
      "outputs": [],
      "source": [
        "# your code here"
      ]
    },
    {
      "cell_type": "markdown",
      "metadata": {
        "id": "dJkrho3iCM7G"
      },
      "source": [
        "### Subpart A.X\n",
        "\n",
        "Find the 95% centered credible interval for the Young modulus $E$."
      ]
    },
    {
      "cell_type": "code",
      "execution_count": null,
      "metadata": {
        "id": "SN0Ucv2xCM7G"
      },
      "outputs": [],
      "source": [
        "# your code here"
      ]
    },
    {
      "cell_type": "markdown",
      "metadata": {
        "id": "2tEgPIJZCM7H"
      },
      "source": [
        "### Subpart A.XI\n",
        "If you had to pick a single value for the Young modulus $E$, what would it be and why?"
      ]
    },
    {
      "cell_type": "code",
      "execution_count": null,
      "metadata": {
        "id": "VjQ0qxcrCM7H"
      },
      "outputs": [],
      "source": [
        "# your code here"
      ]
    },
    {
      "cell_type": "markdown",
      "metadata": {
        "id": "lUtDYhwaCM7H"
      },
      "source": [
        "*Your answer here*"
      ]
    },
    {
      "cell_type": "markdown",
      "metadata": {
        "id": "Gs5iUYDMCM7H"
      },
      "source": [
        "## Part B - Estimate the ultimate strength\n",
        "\n",
        "The pick of the stress-strain curve is known as the ultimate strength.\n",
        "We want to estimate it.\n",
        "\n",
        "### Subpart B.I - Extract training and validation data\n",
        "\n",
        "Extract training and validation data from the entire dataset."
      ]
    },
    {
      "cell_type": "code",
      "execution_count": null,
      "metadata": {
        "id": "JXoSF5iXCM7K"
      },
      "outputs": [],
      "source": [
        "# your code here - Repeat as many text and code blocks as you like\n",
        "x_train, y_train, x_valid, y_valid = # Your code"
      ]
    },
    {
      "cell_type": "markdown",
      "metadata": {
        "id": "CPICN26kCM7L"
      },
      "source": [
        "Use the following to visualize your split:"
      ]
    },
    {
      "cell_type": "code",
      "execution_count": null,
      "metadata": {
        "id": "sKDKwXc7CM7L"
      },
      "outputs": [],
      "source": [
        "plt.figure()\n",
        "plt.plot(\n",
        "    x_train,\n",
        "    y_train,\n",
        "    'ro',\n",
        "    markersize=2,\n",
        "    label='Training data'\n",
        ")\n",
        "plt.plot(\n",
        "    x_valid,\n",
        "    y_valid,\n",
        "    'bx',\n",
        "    markersize=2,\n",
        "    label='Validation data'\n",
        ")\n",
        "plt.xlabel('$\\epsilon$ (strain in %)')\n",
        "plt.ylabel('$\\sigma$ (stress in MPa)')\n",
        "plt.legend(loc='best', frameon=False)\n",
        "sns.despine(trim=True);"
      ]
    },
    {
      "cell_type": "markdown",
      "metadata": {
        "id": "ITpVGoY0CM7L"
      },
      "source": [
        "### Subpart B.II - Model the entire stress-strain relationship.\n",
        "To do this, we will set up a generalized linear model to capture the entire stress-strain relationship.\n",
        "Remember, you can use any model you want as soon as:\n",
        "+ It is linear in the parameters to be estimated,\n",
        "+ It has a well-defined elastic regime (see Part A).\n",
        "\n",
        "I am going to help you set up the right model.\n",
        "We will use the [Heavide step function](https://en.wikipedia.org/wiki/Heaviside_step_function) to turn on or off models for various ranges of $\\epsilon$. The idea is quite simple: We will use a linear model for the elastic regime, and we are going to turn to a non-linear model for the non-linear regime.\n",
        "Here is a model that has the right form in the elastic regime and an arbitrary form in the non-linear regime:\n",
        "\n",
        "$$\n",
        "f(\\epsilon;E,\\mathbf{w}_g) = E\\epsilon \\left[(1 - H(\\epsilon - \\epsilon_l)\\right] + g(\\epsilon;\\mathbf{w}_g)H(\\epsilon - \\epsilon_l),\n",
        "$$\n",
        "\n",
        "where\n",
        "\n",
        "$$\n",
        "H(x) = \\begin{cases}\n",
        "0,\\;\\text{if}\\;x < 0\\\\\n",
        "1,\\;\\text{otherwise},\n",
        "\\end{cases}\n",
        "$$\n",
        "\n",
        "and $g$ is any function linear in the parameters $\\mathbf{w}_g$."
      ]
    },
    {
      "cell_type": "markdown",
      "metadata": {
        "id": "14dpmvarCM7L"
      },
      "source": [
        "You can use any model you like for the non-linear regime, but let's use a polynomial of degree $d$:\n",
        "\n",
        "$$\n",
        "g(\\epsilon) = \\sum_{i=0}^{d} w_i \\epsilon^i.\n",
        "$$\n",
        "\n",
        "The full model can be expressed as:\n",
        "\n",
        "$$\n",
        "\\begin{split}\n",
        "f(\\epsilon) &=\n",
        "\\begin{cases}\n",
        "h(\\epsilon) = E \\epsilon,\\ \\epsilon < \\epsilon_l, \\\\\n",
        "g(\\epsilon) = \\sum_{i=0}^{d} w_i \\epsilon^i, \\epsilon \\geq \\epsilon_l\n",
        "\\end{cases}\\\\\n",
        "&= E\\epsilon \\left(1 - H(\\epsilon - \\epsilon_l)\\right) + \\sum_{i=0}^{d} w_i \\epsilon^iH(\\epsilon - \\epsilon_l).\n",
        "\\end{split}\n",
        "$$\n",
        "\n",
        "We could proceed with this model, but there is a small problem: It is discontinuous at $\\epsilon = \\epsilon_l$.\n",
        "This is unphysical. We can do better than that!"
      ]
    },
    {
      "cell_type": "markdown",
      "metadata": {
        "id": "hpXow5ItCM7L"
      },
      "source": [
        "To make the model nice, we force the $h$ and $g$ to match up to the first derivative, i.e., we demand that:\n",
        "\n",
        "$$\n",
        "\\begin{split}\n",
        "h(\\epsilon_l) &= g(\\epsilon_l)\\\\\n",
        "h'(\\epsilon_l) &= g'(\\epsilon_l).\n",
        "\\end{split}\n",
        "$$\n",
        "\n",
        "We include the first derivative because we don't have a kink in the stress-strain. That would also be unphysical.\n",
        "The two equations above become:\n",
        "\n",
        "$$\n",
        "\\begin{split}\n",
        "E\\epsilon_l &= \\sum_{i=0}^dw_i\\epsilon_l^i\\\\\n",
        "E &= \\sum_{i=1}^diw_i\\epsilon_l^{i-1}.\n",
        "\\end{split}\n",
        "$$\n",
        "\n",
        "We can use these two equations to eliminate two weights.\n",
        "Let's eliminate $w_0$ and $w_1$.\n",
        "All you have to do is express them in terms of $E$ and $w_2,\\dots,w_d$.\n",
        "So, there remain $d$ parameters to estimate.\n",
        "Let's get back to the stress-strain model."
      ]
    },
    {
      "cell_type": "markdown",
      "metadata": {
        "id": "XdWAL1DVCM7L"
      },
      "source": [
        "Our stress-strain model was:\n",
        "\n",
        "$$\n",
        "f(\\epsilon) = E\\epsilon \\left(1 - H(\\epsilon - \\epsilon_l)\\right) + \\sum_{i=0}^{d} w_i \\epsilon^iH(\\epsilon - \\epsilon_l).\n",
        "$$\n",
        "\n",
        "We can now use the expressions for $w_0$ and $w_1$ to rewrite this using only all the other\n",
        "parameters.\n",
        "I am going to spare you the details.\n",
        "The result is:\n",
        "\n",
        "$$\n",
        "f(\\epsilon) = E\\epsilon + \\sum_{i=2}^dw_i\\left[(i-1)\\epsilon_{l}^{i} - i \\epsilon \\epsilon_{l}^{i-1} + \\epsilon^i\\right]H(\\epsilon - \\epsilon_l).\n",
        "$$\n",
        "\n",
        "Okay.\n",
        "This is still a generalized linear model. This is nice.\n",
        "Write code for the design matrix:"
      ]
    },
    {
      "cell_type": "code",
      "execution_count": null,
      "metadata": {
        "id": "vuF6Zt4pCM7L"
      },
      "outputs": [],
      "source": [
        "# Complete this code to make your model:\n",
        "def compute_design_matrix(Epsilon, epsilon_l, d):\n",
        "    \"\"\"Compute the design matrix for the stress-strain curve problem.\n",
        "\n",
        "    Arguments:\n",
        "        Epsilon     -     A 1D array of dimension N.\n",
        "        epsilon_l   -     The strain signifying the end of the elastic regime.\n",
        "        d           -     The polynomial degree.\n",
        "\n",
        "    Returns:\n",
        "        A design matrix N x d\n",
        "    \"\"\"\n",
        "    # Sanity check\n",
        "    assert isinstance(Epsilon, np.ndarray)\n",
        "    assert Epsilon.ndim == 1, 'Pass the array as epsilon.flatten(), if it is two dimensional'\n",
        "    n = Epsilon.shape[0]\n",
        "    # The design matrix:\n",
        "    Phi = np.ndarray((n, d))\n",
        "    # The step function evaluated at all the elements of Epsilon.\n",
        "    # You can use it if you want.\n",
        "    Step = np.ones(n)\n",
        "    Step[Epsilon < epsilon_l] = 0\n",
        "    # Build the design matrix\n",
        "    Phi[:, 0] = # Your code here\n",
        "    for i in range(2, d+1):\n",
        "        Phi[:, i-1] = # Your code here\n",
        "    return Phi"
      ]
    },
    {
      "cell_type": "markdown",
      "metadata": {
        "id": "thpLWSggCM7L"
      },
      "source": [
        "Visualize the basis functions here:"
      ]
    },
    {
      "cell_type": "code",
      "execution_count": null,
      "metadata": {
        "id": "EMhqLnAiCM7L"
      },
      "outputs": [],
      "source": [
        "d = 4\n",
        "eps = np.linspace(0, x.max(), 100)\n",
        "Phis = compute_design_matrix(eps, epsilon_l, d)\n",
        "fig, ax = plt.subplots(dpi=100)\n",
        "ax.plot(eps, Phis)\n",
        "ax.set_xlabel('$\\epsilon$ (strain in %))')\n",
        "ax.set_ylabel('$\\phi_i(\\epsilon)$')\n",
        "sns.despine(trim=True);"
      ]
    },
    {
      "cell_type": "markdown",
      "metadata": {
        "id": "JykA2n3GCM7L"
      },
      "source": [
        "### Subpart B.III\n",
        "\n",
        "Fit the model using automatic relevance determination and demonstrate that it works well by doing everything we did above (MSE, observations vs. predictions plot, standardized errors, etc.)."
      ]
    },
    {
      "cell_type": "code",
      "execution_count": null,
      "metadata": {
        "id": "LF2K18AKCM7M"
      },
      "outputs": [],
      "source": [
        "# Your code here - Use as many blocks as you need!\n",
        "model = # Just call the resulting model \"model\""
      ]
    },
    {
      "cell_type": "markdown",
      "metadata": {
        "id": "LaGarlJJCM7M"
      },
      "source": [
        "### Subpart B.IV\n",
        "Visualize the epistemic and aleatory uncertainty in the stess-strain relation."
      ]
    },
    {
      "cell_type": "code",
      "execution_count": null,
      "metadata": {
        "id": "nsblKjr0CM7M"
      },
      "outputs": [],
      "source": [
        "# Your code here"
      ]
    },
    {
      "cell_type": "markdown",
      "metadata": {
        "id": "Ku_7mP6zCM7M"
      },
      "source": [
        "### Subpart B.V - Extract the ultimate strength\n",
        "\n",
        "Now, you will quantify your epistemic uncertainty about the ultimate strength.\n",
        "The ultimate strength is the maximum of the stress-strain relationship.\n",
        "Since you have epistemic uncertainty about the stress-strain relationship, you also have epistemic uncertainty about the ultimate strength.\n",
        "\n",
        "Do the following:\n",
        "- Visualize the posterior of the ultimate strength.\n",
        "- Find a 95% credible interval for the ultimate strength.\n",
        "- Pick a value for the ultimate strength.\n",
        "\n",
        "**Hint:**\n",
        "To characterize your epistemic uncertainty about the ultimate strength, you would have to do the following:\n",
        "- Define a dense set of strain points between 0 and 0.25.\n",
        "- Repeatedly:\n",
        " + Sample from the posterior of the weights of your model\n",
        " + For each sample, evaluate the stresses at the dense set of strain points defined earlier\n",
        " + For each sampled stress vector, find the maximum. This is a sample of the ultimate strength."
      ]
    },
    {
      "cell_type": "code",
      "execution_count": null,
      "metadata": {
        "id": "4DKA176wCM7M"
      },
      "outputs": [],
      "source": [
        "# Enter your code here"
      ]
    },
    {
      "cell_type": "markdown",
      "metadata": {
        "id": "JtMENFPzCM7M"
      },
      "source": [
        "# Problem 2 - Optimizing the performance of a compressor\n",
        "\n",
        "In this problem, we will need [this](https://raw.githubusercontent.com/PredictiveScienceLab/data-analytics-se/master/homework/compressor_data.xlsx) dataset. The dataset was kindly provided to us by [Professor Davide Ziviani](https://scholar.google.com/citations?user=gPdAtg0AAAAJ&hl=en).\n",
        "As before, you can either put it on your Google Drive or just download it with the code segment below:"
      ]
    },
    {
      "cell_type": "code",
      "execution_count": null,
      "metadata": {
        "id": "lftKkD_pCM7M",
        "outputId": "e7e96a53-41d8-45c1-f752-bde09ef0b6e6"
      },
      "outputs": [
        {
          "name": "stdout",
          "output_type": "stream",
          "text": [
            "  % Total    % Received % Xferd  Average Speed   Time    Time     Time  Current\n",
            "                                 Dload  Upload   Total   Spent    Left  Speed\n",
            "100 14771  100 14771    0     0  47053      0 --:--:-- --:--:-- --:--:-- 47191\n"
          ]
        }
      ],
      "source": [
        "url = \"https://raw.githubusercontent.com/PredictiveScienceLab/data-analytics-se/master/lecturebook/data/compressor_data.xlsx\"\n",
        "!curl -O $url"
      ]
    },
    {
      "cell_type": "markdown",
      "metadata": {
        "id": "3aZyUSbYCM7M"
      },
      "source": [
        "Note that this is an Excel file, so we need pandas to read it.\n",
        "Here is how:"
      ]
    },
    {
      "cell_type": "code",
      "execution_count": null,
      "metadata": {
        "id": "fcosp-65CM7M",
        "outputId": "1f888d82-aa0f-4b91-88c2-b071eef2d54d"
      },
      "outputs": [
        {
          "data": {
            "text/html": [
              "<div>\n",
              "<style scoped>\n",
              "    .dataframe tbody tr th:only-of-type {\n",
              "        vertical-align: middle;\n",
              "    }\n",
              "\n",
              "    .dataframe tbody tr th {\n",
              "        vertical-align: top;\n",
              "    }\n",
              "\n",
              "    .dataframe thead th {\n",
              "        text-align: right;\n",
              "    }\n",
              "</style>\n",
              "<table border=\"1\" class=\"dataframe\">\n",
              "  <thead>\n",
              "    <tr style=\"text-align: right;\">\n",
              "      <th></th>\n",
              "      <th>T_e</th>\n",
              "      <th>DT_sh</th>\n",
              "      <th>T_c</th>\n",
              "      <th>DT_sc</th>\n",
              "      <th>T_amb</th>\n",
              "      <th>f</th>\n",
              "      <th>m_dot</th>\n",
              "      <th>m_dot.1</th>\n",
              "      <th>Capacity</th>\n",
              "      <th>Power</th>\n",
              "      <th>Current</th>\n",
              "      <th>COP</th>\n",
              "      <th>Efficiency</th>\n",
              "    </tr>\n",
              "  </thead>\n",
              "  <tbody>\n",
              "    <tr>\n",
              "      <th>0</th>\n",
              "      <td>-30</td>\n",
              "      <td>11</td>\n",
              "      <td>25</td>\n",
              "      <td>8</td>\n",
              "      <td>35</td>\n",
              "      <td>60</td>\n",
              "      <td>28.8</td>\n",
              "      <td>8.000000</td>\n",
              "      <td>1557</td>\n",
              "      <td>901</td>\n",
              "      <td>4.4</td>\n",
              "      <td>1.73</td>\n",
              "      <td>0.467</td>\n",
              "    </tr>\n",
              "    <tr>\n",
              "      <th>1</th>\n",
              "      <td>-30</td>\n",
              "      <td>11</td>\n",
              "      <td>30</td>\n",
              "      <td>8</td>\n",
              "      <td>35</td>\n",
              "      <td>60</td>\n",
              "      <td>23.0</td>\n",
              "      <td>6.388889</td>\n",
              "      <td>1201</td>\n",
              "      <td>881</td>\n",
              "      <td>4.0</td>\n",
              "      <td>1.36</td>\n",
              "      <td>0.425</td>\n",
              "    </tr>\n",
              "    <tr>\n",
              "      <th>2</th>\n",
              "      <td>-30</td>\n",
              "      <td>11</td>\n",
              "      <td>35</td>\n",
              "      <td>8</td>\n",
              "      <td>35</td>\n",
              "      <td>60</td>\n",
              "      <td>17.9</td>\n",
              "      <td>4.972222</td>\n",
              "      <td>892</td>\n",
              "      <td>858</td>\n",
              "      <td>3.7</td>\n",
              "      <td>1.04</td>\n",
              "      <td>0.382</td>\n",
              "    </tr>\n",
              "    <tr>\n",
              "      <th>3</th>\n",
              "      <td>-25</td>\n",
              "      <td>11</td>\n",
              "      <td>25</td>\n",
              "      <td>8</td>\n",
              "      <td>35</td>\n",
              "      <td>60</td>\n",
              "      <td>46.4</td>\n",
              "      <td>12.888889</td>\n",
              "      <td>2509</td>\n",
              "      <td>1125</td>\n",
              "      <td>5.3</td>\n",
              "      <td>2.23</td>\n",
              "      <td>0.548</td>\n",
              "    </tr>\n",
              "    <tr>\n",
              "      <th>4</th>\n",
              "      <td>-25</td>\n",
              "      <td>11</td>\n",
              "      <td>30</td>\n",
              "      <td>8</td>\n",
              "      <td>35</td>\n",
              "      <td>60</td>\n",
              "      <td>40.2</td>\n",
              "      <td>11.166667</td>\n",
              "      <td>2098</td>\n",
              "      <td>1122</td>\n",
              "      <td>5.1</td>\n",
              "      <td>1.87</td>\n",
              "      <td>0.519</td>\n",
              "    </tr>\n",
              "    <tr>\n",
              "      <th>...</th>\n",
              "      <td>...</td>\n",
              "      <td>...</td>\n",
              "      <td>...</td>\n",
              "      <td>...</td>\n",
              "      <td>...</td>\n",
              "      <td>...</td>\n",
              "      <td>...</td>\n",
              "      <td>...</td>\n",
              "      <td>...</td>\n",
              "      <td>...</td>\n",
              "      <td>...</td>\n",
              "      <td>...</td>\n",
              "      <td>...</td>\n",
              "    </tr>\n",
              "    <tr>\n",
              "      <th>60</th>\n",
              "      <td>10</td>\n",
              "      <td>11</td>\n",
              "      <td>45</td>\n",
              "      <td>8</td>\n",
              "      <td>35</td>\n",
              "      <td>60</td>\n",
              "      <td>245.2</td>\n",
              "      <td>68.111111</td>\n",
              "      <td>12057</td>\n",
              "      <td>2525</td>\n",
              "      <td>11.3</td>\n",
              "      <td>4.78</td>\n",
              "      <td>0.722</td>\n",
              "    </tr>\n",
              "    <tr>\n",
              "      <th>61</th>\n",
              "      <td>10</td>\n",
              "      <td>11</td>\n",
              "      <td>50</td>\n",
              "      <td>8</td>\n",
              "      <td>35</td>\n",
              "      <td>60</td>\n",
              "      <td>234.1</td>\n",
              "      <td>65.027778</td>\n",
              "      <td>10939</td>\n",
              "      <td>2740</td>\n",
              "      <td>12.3</td>\n",
              "      <td>3.99</td>\n",
              "      <td>0.719</td>\n",
              "    </tr>\n",
              "    <tr>\n",
              "      <th>62</th>\n",
              "      <td>10</td>\n",
              "      <td>11</td>\n",
              "      <td>55</td>\n",
              "      <td>8</td>\n",
              "      <td>35</td>\n",
              "      <td>60</td>\n",
              "      <td>222.2</td>\n",
              "      <td>61.722222</td>\n",
              "      <td>9819</td>\n",
              "      <td>2929</td>\n",
              "      <td>13.1</td>\n",
              "      <td>3.35</td>\n",
              "      <td>0.709</td>\n",
              "    </tr>\n",
              "    <tr>\n",
              "      <th>63</th>\n",
              "      <td>10</td>\n",
              "      <td>11</td>\n",
              "      <td>60</td>\n",
              "      <td>8</td>\n",
              "      <td>35</td>\n",
              "      <td>60</td>\n",
              "      <td>209.3</td>\n",
              "      <td>58.138889</td>\n",
              "      <td>8697</td>\n",
              "      <td>3091</td>\n",
              "      <td>13.7</td>\n",
              "      <td>2.81</td>\n",
              "      <td>0.693</td>\n",
              "    </tr>\n",
              "    <tr>\n",
              "      <th>64</th>\n",
              "      <td>10</td>\n",
              "      <td>11</td>\n",
              "      <td>65</td>\n",
              "      <td>8</td>\n",
              "      <td>35</td>\n",
              "      <td>60</td>\n",
              "      <td>195.4</td>\n",
              "      <td>54.277778</td>\n",
              "      <td>7575</td>\n",
              "      <td>3223</td>\n",
              "      <td>14.2</td>\n",
              "      <td>2.35</td>\n",
              "      <td>0.672</td>\n",
              "    </tr>\n",
              "  </tbody>\n",
              "</table>\n",
              "<p>65 rows × 13 columns</p>\n",
              "</div>"
            ],
            "text/plain": [
              "    T_e  DT_sh   T_c  DT_sc  T_amb   f  m_dot    m_dot.1  Capacity  Power  \\\n",
              "0   -30      11   25      8     35  60   28.8   8.000000      1557    901   \n",
              "1   -30      11   30      8     35  60   23.0   6.388889      1201    881   \n",
              "2   -30      11   35      8     35  60   17.9   4.972222       892    858   \n",
              "3   -25      11   25      8     35  60   46.4  12.888889      2509   1125   \n",
              "4   -25      11   30      8     35  60   40.2  11.166667      2098   1122   \n",
              "..  ...     ...  ...    ...    ...  ..    ...        ...       ...    ...   \n",
              "60   10      11   45      8     35  60  245.2  68.111111     12057   2525   \n",
              "61   10      11   50      8     35  60  234.1  65.027778     10939   2740   \n",
              "62   10      11   55      8     35  60  222.2  61.722222      9819   2929   \n",
              "63   10      11   60      8     35  60  209.3  58.138889      8697   3091   \n",
              "64   10      11   65      8     35  60  195.4  54.277778      7575   3223   \n",
              "\n",
              "    Current   COP  Efficiency  \n",
              "0       4.4  1.73       0.467  \n",
              "1       4.0  1.36       0.425  \n",
              "2       3.7  1.04       0.382  \n",
              "3       5.3  2.23       0.548  \n",
              "4       5.1  1.87       0.519  \n",
              "..      ...   ...         ...  \n",
              "60     11.3  4.78       0.722  \n",
              "61     12.3  3.99       0.719  \n",
              "62     13.1  3.35       0.709  \n",
              "63     13.7  2.81       0.693  \n",
              "64     14.2  2.35       0.672  \n",
              "\n",
              "[65 rows x 13 columns]"
            ]
          },
          "execution_count": 2,
          "metadata": {},
          "output_type": "execute_result"
        }
      ],
      "source": [
        "import pandas as pd\n",
        "data = pd.read_excel('compressor_data.xlsx')\n",
        "data"
      ]
    },
    {
      "cell_type": "markdown",
      "metadata": {
        "id": "0bLlhWCICM7N"
      },
      "source": [
        "The data are part of an experimental study of a variable-speed reciprocating compressor.\n",
        "The experimentalists varied two temperatures, $T_e$ and $T_c$ (both in C), and they measured various other quantities.\n",
        "We aim to learn the map between $T_e$ and $T_c$ and measure Capacity and Power (both in W).\n",
        "First, let's see how you can extract only the relevant data."
      ]
    },
    {
      "cell_type": "code",
      "execution_count": null,
      "metadata": {
        "id": "oTrH6JIoCM7N"
      },
      "outputs": [],
      "source": [
        "# Here is how to extract the T_e and T_c columns and put them in a single numpy array\n",
        "x = data[['T_e','T_c']].values\n",
        "x"
      ]
    },
    {
      "cell_type": "code",
      "execution_count": null,
      "metadata": {
        "id": "KMsNUIkrCM7N"
      },
      "outputs": [],
      "source": [
        "# Here is how to extract the Capacity\n",
        "y = data['Capacity'].values\n",
        "y"
      ]
    },
    {
      "cell_type": "markdown",
      "metadata": {
        "id": "6AgXWrnHCM7N"
      },
      "source": [
        "Fit the following multivariate polynomial model to **both the Capacity and the Power**:\n",
        "\n",
        "$$\n",
        "y = w_1 + w_2T_e + w_3 T_c + w_4 T_eT_c + w_5 T_e^2 + w_6T_c^2 + w_7 T_e^2T_c + w_8T_eT_c^2 + w_9 T_e^3 + w_{10}T_c^3 + \\epsilon,\n",
        "$$\n",
        "\n",
        "where $\\epsilon$ is a Gaussian noise term with unknown variance.\n",
        "\n",
        "**Hints:**\n",
        "+ You may use [sklearn.preprocessing.PolynomialFeatures](https://scikit-learn.org/stable/modules/generated/sklearn.preprocessing.PolynomialFeatures.html) to construct the design matrix of your polynomial features. Do not program the design matrix by hand.\n",
        "+ You should split your data into training and validation and use various validation metrics to ensure your models make sense.\n",
        "+ Use [ARD Regression](https://scikit-learn.org/stable/modules/generated/sklearn.linear_model.ARDRegression.html#sklearn.linear_model.ARDRegression) to fit any hyperparameters and the noise."
      ]
    },
    {
      "cell_type": "markdown",
      "metadata": {
        "id": "d75LFtGMCM7N"
      },
      "source": [
        "## Part A - Fit the capacity\n",
        "\n",
        "### Subpart A.I\n",
        "\n",
        "Please don't just fit. Split in training and test and use all the usual diagnostics."
      ]
    },
    {
      "cell_type": "code",
      "execution_count": null,
      "metadata": {
        "id": "Xhgqi6wWCM7N"
      },
      "outputs": [],
      "source": [
        "# your code here - Repeat as many text and code blocks as you like"
      ]
    },
    {
      "cell_type": "markdown",
      "metadata": {
        "id": "yRKGC_wFCM7N"
      },
      "source": [
        "### Subpart A.II\n",
        "\n",
        "What is the noise variance you estimated for the Capacity?"
      ]
    },
    {
      "cell_type": "code",
      "execution_count": null,
      "metadata": {
        "id": "x-6xYK44CM7N"
      },
      "outputs": [],
      "source": [
        "# your code here"
      ]
    },
    {
      "cell_type": "markdown",
      "metadata": {
        "id": "B9m65m0cCM7N"
      },
      "source": [
        "### Subpart A.III\n",
        "Which features of the temperatures (basis functions of your model) are the most important for predicting the Capacity?"
      ]
    },
    {
      "cell_type": "code",
      "execution_count": null,
      "metadata": {
        "id": "XA0XqEIMCM7N"
      },
      "outputs": [],
      "source": [
        "# your code here"
      ]
    },
    {
      "cell_type": "markdown",
      "metadata": {
        "id": "V18w1glZCM7N"
      },
      "source": [
        "## Part B - Fit the Power\n",
        "\n",
        "### Subpart B.I\n",
        "\n",
        "Please don't just fit. Split in training and test and use all the usual diagnostics."
      ]
    },
    {
      "cell_type": "code",
      "execution_count": null,
      "metadata": {
        "id": "KXPuz0GRCM7O"
      },
      "outputs": [],
      "source": [
        "# your code here - Repeat as many text and code blocks as you like"
      ]
    },
    {
      "cell_type": "markdown",
      "metadata": {
        "id": "kfCVZkOHCM7O"
      },
      "source": [
        "### Subpart B.II\n",
        "\n",
        "What is the noise variance you estimated for the Power?"
      ]
    },
    {
      "cell_type": "code",
      "execution_count": null,
      "metadata": {
        "id": "rIbXW33tCM7O"
      },
      "outputs": [],
      "source": [
        "# your code here"
      ]
    },
    {
      "cell_type": "markdown",
      "metadata": {
        "id": "5zVcH0fdCM7O"
      },
      "source": [
        "### Subpart B.III\n",
        "Which features of the temperatures (basis functions of your model) are the most important for predicting the Power?"
      ]
    },
    {
      "cell_type": "code",
      "execution_count": null,
      "metadata": {
        "id": "HSxOkhjRCM7O"
      },
      "outputs": [],
      "source": [
        "# your code here"
      ]
    },
    {
      "cell_type": "markdown",
      "metadata": {
        "id": "LS_tpVC5CM7O"
      },
      "source": [
        "# Problem 3 - Explaining the Challenger disaster\n",
        "On January 28, 1986, the [Space Shuttle Challenger](https://en.wikipedia.org/wiki/Space_Shuttle_Challenger_disaster) disintegrated after 73 seconds from launch.\n",
        "The failure can be traced to the rubber O-rings, which were used to seal the joints of the solid rocket boosters (required to force the hot, high-pressure gases generated by the burning solid propellant through the nozzles, thus producing thrust).\n",
        "\n",
        "The performance of the O-ring material was sensitive to the external temperature during launch.\n",
        "This [dataset](https://raw.githubusercontent.com/PredictiveScienceLab/data-analytics-se/master/homework/challenger_data.csv) contains records of different experiments with O-rings recorded at various times between 1981 and 1986.\n",
        "Download the data the usual way (either put them on Google Drive or run the code cell below)."
      ]
    },
    {
      "cell_type": "code",
      "execution_count": null,
      "metadata": {
        "id": "rpFenrGWCM7O"
      },
      "outputs": [],
      "source": [
        "url = \"https://raw.githubusercontent.com/PredictiveScienceLab/data-analytics-se/master/lecturebook/data/challenger_data.csv\"\n",
        "!curl -O $url"
      ]
    },
    {
      "cell_type": "markdown",
      "metadata": {
        "id": "6-ipyKxgCM7O"
      },
      "source": [
        "Even though this is a CSV file, you should load it with pandas because it contains some special characters."
      ]
    },
    {
      "cell_type": "code",
      "execution_count": null,
      "metadata": {
        "id": "6fExye6CCM7O"
      },
      "outputs": [],
      "source": [
        "raw_data = pd.read_csv('challenger_data.csv')\n",
        "raw_data"
      ]
    },
    {
      "cell_type": "markdown",
      "metadata": {
        "id": "lZgcm66UCM7O"
      },
      "source": [
        "The first column is the date of the record. The second column is the external temperature of that day in degrees F.\n",
        "The third column labeled ``Damage Incident`` has a binary coding (0=no damage, 1=damage).\n",
        "The very last row is the day of the Challenger accident.\n",
        "\n",
        "We will use the first 23 rows to solve a binary classification problem that will give us the probability of an accident conditioned on the observed external temperature in degrees F. Before proceeding to the data analysis, let's clean the data up.\n",
        "\n",
        "First, we drop all the bad records:"
      ]
    },
    {
      "cell_type": "code",
      "execution_count": null,
      "metadata": {
        "id": "Ukfe9U7pCM7O"
      },
      "outputs": [],
      "source": [
        "clean_data_0 = raw_data.dropna()\n",
        "clean_data_0"
      ]
    },
    {
      "cell_type": "markdown",
      "metadata": {
        "id": "QKlnJBypCM7O"
      },
      "source": [
        "We also don't need the last record. Remember that the temperature on the day of the Challenger accident was 31 degrees F."
      ]
    },
    {
      "cell_type": "code",
      "execution_count": null,
      "metadata": {
        "id": "aaYpVcEtCM7P"
      },
      "outputs": [],
      "source": [
        "clean_data = clean_data_0[:-1]\n",
        "clean_data"
      ]
    },
    {
      "cell_type": "markdown",
      "metadata": {
        "id": "ksheSP_DCM7P"
      },
      "source": [
        "Let's extract the features and the labels:"
      ]
    },
    {
      "cell_type": "code",
      "execution_count": null,
      "metadata": {
        "id": "kuIblrD7CM7P"
      },
      "outputs": [],
      "source": [
        "x = clean_data['Temperature'].values\n",
        "x"
      ]
    },
    {
      "cell_type": "code",
      "execution_count": null,
      "metadata": {
        "id": "x5Q6qxB-CM7P"
      },
      "outputs": [],
      "source": [
        "y = clean_data['Damage Incident'].values.astype(np.float)\n",
        "y"
      ]
    },
    {
      "cell_type": "markdown",
      "metadata": {
        "id": "s7paVB5lCM7P"
      },
      "source": [
        "## Part A - Perform logistic regression\n",
        "\n",
        "Perform logistic regression between the temperature ($x$) and the damage label ($y$).\n",
        "Refrain from validating because there is little data.\n",
        "Just use a simple model so that you don't overfit."
      ]
    },
    {
      "cell_type": "code",
      "execution_count": null,
      "metadata": {
        "id": "8Fyw4yYDCM7P"
      },
      "outputs": [],
      "source": [
        "# your code here - Repeat as many text and code blocks as you like"
      ]
    },
    {
      "cell_type": "markdown",
      "metadata": {
        "id": "ch6rbxgNCM7P"
      },
      "source": [
        "## Part B - Plot the probability of damage as a function of temperature\n",
        "Plot the probability of damage as a function of temperature."
      ]
    },
    {
      "cell_type": "code",
      "execution_count": null,
      "metadata": {
        "id": "5hiGxdP-CM7P"
      },
      "outputs": [],
      "source": [
        "# your code here"
      ]
    },
    {
      "cell_type": "markdown",
      "metadata": {
        "id": "8PgT1rrQCM7P"
      },
      "source": [
        "## Part C - Decide whether or not to launch\n",
        "\n",
        "The temperature on the day of the Challenger accident was 31 degrees F.\n",
        "Start by calculating the probability of damage at 31 degrees F.\n",
        "Then, use formal decision-making (i.e., define a cost matrix and make decisions by minimizing the expected loss) to decide whether or not to launch on that day.\n",
        "Also, plot your optimal decision as a function of the external temperature."
      ]
    },
    {
      "cell_type": "code",
      "execution_count": null,
      "metadata": {
        "id": "RQk1DEKLCM7P"
      },
      "outputs": [],
      "source": [
        "# your code here - Repeat as many text and code blocks as you like"
      ]
    }
  ],
  "metadata": {
    "anaconda-cloud": {},
    "celltoolbar": "Tags",
    "kernelspec": {
      "display_name": "Python 3",
      "language": "python",
      "name": "python3"
    },
    "language_info": {
      "codemirror_mode": {
        "name": "ipython",
        "version": 3
      },
      "file_extension": ".py",
      "mimetype": "text/x-python",
      "name": "python",
      "nbconvert_exporter": "python",
      "pygments_lexer": "ipython3",
      "version": "3.12.5"
    },
    "latex_envs": {
      "bibliofile": "biblio.bib",
      "cite_by": "apalike",
      "current_citInitial": 1,
      "eqLabelWithNumbers": true,
      "eqNumInitial": 0
    },
    "colab": {
      "provenance": []
    }
  },
  "nbformat": 4,
  "nbformat_minor": 0
}